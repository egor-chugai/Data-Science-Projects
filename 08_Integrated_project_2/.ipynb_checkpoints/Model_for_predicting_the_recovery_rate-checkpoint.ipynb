{
 "cells": [
  {
   "cell_type": "markdown",
   "metadata": {},
   "source": [
    "## Модель предсказания коэффициента восстановления золота из золотосодержащей руды."
   ]
  },
  {
   "cell_type": "markdown",
   "metadata": {},
   "source": [
    "## Описание проекта.\n",
    "\n",
    "Подготовка прототипа модели машинного обучения для «Цифры». Компания разрабатывает решения для эффективной работы промышленных предприятий.\n",
    "\n",
    "Модель должна предсказать коэффициент восстановления золота из золотосодержащей руды. В вашем распоряжении данные с параметрами добычи и очистки. \n",
    "\n",
    "Модель поможет оптимизировать производство, чтобы не запускать предприятие с убыточными характеристиками.\n",
    "\n",
    "Нужно:\n",
    "\n",
    "1. Подготовить данные;\n",
    "2. Провести исследовательский анализ данных;\n",
    "3. Построить и обучить модель.\n",
    "\n",
    "Обращаемся к библиотекам *pandas*, *matplotlib* и *sklearn.*\n",
    "\n",
    "## Описание данных.\n",
    "**Технологический процесс** \n",
    " * Rougher feed — исходное сырье\n",
    " * Rougher additions (или reagent additions) — флотационные реагенты: Xanthate, Sulphate, Depressant\n",
    "    - Xanthate — ксантогенат (промотер, или активатор флотации);\n",
    "    - Sulphate — сульфат (на данном производстве сульфид натрия);\n",
    "    - Depressant — депрессант (силикат натрия).\n",
    " * Rougher process (англ. «грубый процесс») — флотация\n",
    " * Rougher tails — отвальные хвосты\n",
    " * Float banks — флотационная установка\n",
    " * Cleaner process — очистка\n",
    " * Rougher Au — черновой концентрат золота\n",
    " * Final Au — финальный концентрат золота\n",
    "\n",
    "**Параметры этапов**\n",
    " * air amount — объём воздуха\n",
    " * fluid levels — уровень жидкости\n",
    " * feed size — размер гранул сырья\n",
    " * feed rate — скорость подачи\n",
    " \n",
    "## Наименование признаков.\n",
    "\n",
    "Наименование признаков должно быть такое:\n",
    "\n",
    "[этап].[тип_параметра].[название_параметра]\n",
    "Пример: rougher.input.feed_ag\n",
    "\n",
    "Возможные значения для блока [этап]:\n",
    "\n",
    " * rougher — флотация\n",
    " * primary_cleaner — первичная очистка\n",
    " * secondary_cleaner — вторичная очистка\n",
    " * final — финальные характеристики\n",
    "\n",
    "Возможные значения для блока [тип_параметра]:\n",
    "\n",
    " * input — параметры сырья\n",
    " * output — параметры продукта\n",
    "state — параметры, характеризующие текущее состояние этапа\n",
    "calculation — расчётные характеристики\n"
   ]
  },
  {
   "cell_type": "markdown",
   "metadata": {},
   "source": [
    "## <a id=\"0.0\"></a>Содержание.\n",
    "\n",
    "* [1. Подготовка данных.](#1.)   \n",
    "    * [1.1. Знакомство с данными.](#1.1.)  \n",
    "    * [1.2. Расчет эффективности обогащения.](#1.2.)    \n",
    "    * [1.3. Анализ признаков.](#1.3.)    \n",
    "    * [1.4. Предобработка данных.](#1.4.)    \n",
    "* [2. Анализ данных.](#2.)    \n",
    "    * [2.1. Анализ концентрации металлов (Au, Ag, Pb) на различных этапах очистки.](#2.1.)    \n",
    "    * [2.2. Анализ размеров гранул сырья на обучающей и тестовой выборках.](#2.2.)    \n",
    "    * [2.3. Анализ суммарной концентрации всех веществ на разных стадиях.](#2.3.)    \n",
    "* [3. Построение модели.](#3.)    \n",
    "    * [3.1. Функция sMAPE.](#3.1.)    \n",
    "    * [3.2. Обучение моделей.](#3.2.)    \n",
    "* [Общий вывод](#4.)"
   ]
  },
  {
   "cell_type": "markdown",
   "metadata": {},
   "source": [
    "## 1. Подготовка данных  <a name=\"1.\"></a>  "
   ]
  },
  {
   "cell_type": "markdown",
   "metadata": {},
   "source": [
    "### 1.1. Знакомство с данными  <a name=\"1.1.\"></a>  \n",
    "[к содержанию](#0.0)"
   ]
  },
  {
   "cell_type": "code",
   "execution_count": 1,
   "metadata": {},
   "outputs": [
    {
     "name": "stderr",
     "output_type": "stream",
     "text": [
      "/opt/anaconda3/lib/python3.8/site-packages/sklearn/utils/deprecation.py:143: FutureWarning: The sklearn.metrics.scorer module is  deprecated in version 0.22 and will be removed in version 0.24. The corresponding classes / functions should instead be imported from sklearn.metrics. Anything that cannot be imported from sklearn.metrics is now part of the private API.\n",
      "  warnings.warn(message, FutureWarning)\n"
     ]
    }
   ],
   "source": [
    "import pandas as pd\n",
    "import numpy as np\n",
    "import seaborn as sns\n",
    "from numpy.random import RandomState\n",
    "import matplotlib.pyplot as plt\n",
    "from sklearn.model_selection import train_test_split\n",
    "from sklearn.linear_model import LinearRegression\n",
    "from sklearn.metrics import mean_squared_error\n",
    "from sklearn.metrics import mean_absolute_error\n",
    "from sklearn.preprocessing import StandardScaler\n",
    "from sklearn.tree import DecisionTreeRegressor\n",
    "from sklearn.ensemble import RandomForestRegressor\n",
    "from sklearn.metrics.scorer import make_scorer\n",
    "from sklearn.model_selection import cross_val_score\n",
    "from sklearn.dummy import DummyRegressor\n",
    "from math import sqrt\n",
    "import warnings\n",
    "warnings.filterwarnings(\"ignore\")"
   ]
  },
  {
   "cell_type": "markdown",
   "metadata": {},
   "source": [
    "На вход получаем 3 датасета: обучающая выборка, тестовая выборка, исходные данные"
   ]
  },
  {
   "cell_type": "code",
   "execution_count": 2,
   "metadata": {},
   "outputs": [],
   "source": [
    "train = pd.read_csv('datasets/gold_recovery_train.csv')   \n",
    "test = pd.read_csv('datasets/gold_recovery_test.csv')    \n",
    "full = pd.read_csv('datasets/gold_recovery_full.csv')  "
   ]
  },
  {
   "cell_type": "code",
   "execution_count": 3,
   "metadata": {},
   "outputs": [],
   "source": [
    "datasets = [train, test, full]\n",
    "names = ['train', 'test', 'full']"
   ]
  },
  {
   "cell_type": "markdown",
   "metadata": {},
   "source": [
    "Посмотрим размеры датасетов"
   ]
  },
  {
   "cell_type": "code",
   "execution_count": 4,
   "metadata": {},
   "outputs": [
    {
     "name": "stdout",
     "output_type": "stream",
     "text": [
      "Размерер train : (16860, 87)\n",
      "Размерер test : (5856, 53)\n",
      "Размерер full : (22716, 87)\n"
     ]
    },
    {
     "data": {
      "text/plain": [
       "[None, None, None]"
      ]
     },
     "execution_count": 4,
     "metadata": {},
     "output_type": "execute_result"
    }
   ],
   "source": [
    "[print('Размерер ' + names[i], ':', datasets[i].shape) for i in range(3)]"
   ]
  },
  {
   "cell_type": "markdown",
   "metadata": {},
   "source": [
    "Проверим наличие полных дублей"
   ]
  },
  {
   "cell_type": "code",
   "execution_count": 5,
   "metadata": {},
   "outputs": [
    {
     "name": "stdout",
     "output_type": "stream",
     "text": [
      "Полных дублей в train : 0\n",
      "Полных дублей в test : 0\n",
      "Полных дублей в full : 0\n"
     ]
    },
    {
     "data": {
      "text/plain": [
       "[None, None, None]"
      ]
     },
     "execution_count": 5,
     "metadata": {},
     "output_type": "execute_result"
    }
   ],
   "source": [
    "[print('Полных дублей в ' + names[i], ':', datasets[i].duplicated().sum()) for i in range(3)]"
   ]
  },
  {
   "cell_type": "markdown",
   "metadata": {},
   "source": [
    "Посмотрим первые 5 строк датасетов"
   ]
  },
  {
   "cell_type": "code",
   "execution_count": 6,
   "metadata": {},
   "outputs": [
    {
     "name": "stdout",
     "output_type": "stream",
     "text": [
      "\u001b[1mtrain\u001b[0m\n",
      "\n",
      "                  date  final.output.concentrate_ag  \\\n",
      "0  2016-01-15 00:00:00                     6.055403   \n",
      "1  2016-01-15 01:00:00                     6.029369   \n",
      "2  2016-01-15 02:00:00                     6.055926   \n",
      "3  2016-01-15 03:00:00                     6.047977   \n",
      "4  2016-01-15 04:00:00                     6.148599   \n",
      "\n",
      "   final.output.concentrate_pb  final.output.concentrate_sol  \\\n",
      "0                     9.889648                      5.507324   \n",
      "1                     9.968944                      5.257781   \n",
      "2                    10.213995                      5.383759   \n",
      "3                     9.977019                      4.858634   \n",
      "4                    10.142511                      4.939416   \n",
      "\n",
      "   final.output.concentrate_au  final.output.recovery  final.output.tail_ag  \\\n",
      "0                    42.192020              70.541216             10.411962   \n",
      "1                    42.701629              69.266198             10.462676   \n",
      "2                    42.657501              68.116445             10.507046   \n",
      "3                    42.689819              68.347543             10.422762   \n",
      "4                    42.774141              66.927016             10.360302   \n",
      "\n",
      "   final.output.tail_pb  final.output.tail_sol  final.output.tail_au  ...  \\\n",
      "0              0.895447              16.904297              2.143149  ...   \n",
      "1              0.927452              16.634514              2.224930  ...   \n",
      "2              0.953716              16.208849              2.257889  ...   \n",
      "3              0.883763              16.532835              2.146849  ...   \n",
      "4              0.792826              16.525686              2.055292  ...   \n",
      "\n",
      "   secondary_cleaner.state.floatbank4_a_air  \\\n",
      "0                                 14.016835   \n",
      "1                                 13.992281   \n",
      "2                                 14.015015   \n",
      "3                                 14.036510   \n",
      "4                                 14.027298   \n",
      "\n",
      "   secondary_cleaner.state.floatbank4_a_level  \\\n",
      "0                                 -502.488007   \n",
      "1                                 -505.503262   \n",
      "2                                 -502.520901   \n",
      "3                                 -500.857308   \n",
      "4                                 -499.838632   \n",
      "\n",
      "   secondary_cleaner.state.floatbank4_b_air  \\\n",
      "0                                 12.099931   \n",
      "1                                 11.950531   \n",
      "2                                 11.912783   \n",
      "3                                 11.999550   \n",
      "4                                 11.953070   \n",
      "\n",
      "   secondary_cleaner.state.floatbank4_b_level  \\\n",
      "0                                 -504.715942   \n",
      "1                                 -501.331529   \n",
      "2                                 -501.133383   \n",
      "3                                 -501.193686   \n",
      "4                                 -501.053894   \n",
      "\n",
      "   secondary_cleaner.state.floatbank5_a_air  \\\n",
      "0                                  9.925633   \n",
      "1                                 10.039245   \n",
      "2                                 10.070913   \n",
      "3                                  9.970366   \n",
      "4                                  9.925709   \n",
      "\n",
      "   secondary_cleaner.state.floatbank5_a_level  \\\n",
      "0                                 -498.310211   \n",
      "1                                 -500.169983   \n",
      "2                                 -500.129135   \n",
      "3                                 -499.201640   \n",
      "4                                 -501.686727   \n",
      "\n",
      "   secondary_cleaner.state.floatbank5_b_air  \\\n",
      "0                                  8.079666   \n",
      "1                                  7.984757   \n",
      "2                                  8.013877   \n",
      "3                                  7.977324   \n",
      "4                                  7.894242   \n",
      "\n",
      "   secondary_cleaner.state.floatbank5_b_level  \\\n",
      "0                                 -500.470978   \n",
      "1                                 -500.582168   \n",
      "2                                 -500.517572   \n",
      "3                                 -500.255908   \n",
      "4                                 -500.356035   \n",
      "\n",
      "   secondary_cleaner.state.floatbank6_a_air  \\\n",
      "0                                 14.151341   \n",
      "1                                 13.998353   \n",
      "2                                 14.028663   \n",
      "3                                 14.005551   \n",
      "4                                 13.996647   \n",
      "\n",
      "   secondary_cleaner.state.floatbank6_a_level  \n",
      "0                                 -605.841980  \n",
      "1                                 -599.787184  \n",
      "2                                 -601.427363  \n",
      "3                                 -599.996129  \n",
      "4                                 -601.496691  \n",
      "\n",
      "[5 rows x 87 columns]\n",
      "\n",
      "\u001b[1mtest\u001b[0m\n",
      "\n",
      "                  date  primary_cleaner.input.sulfate  \\\n",
      "0  2016-09-01 00:59:59                     210.800909   \n",
      "1  2016-09-01 01:59:59                     215.392455   \n",
      "2  2016-09-01 02:59:59                     215.259946   \n",
      "3  2016-09-01 03:59:59                     215.336236   \n",
      "4  2016-09-01 04:59:59                     199.099327   \n",
      "\n",
      "   primary_cleaner.input.depressant  primary_cleaner.input.feed_size  \\\n",
      "0                         14.993118                         8.080000   \n",
      "1                         14.987471                         8.080000   \n",
      "2                         12.884934                         7.786667   \n",
      "3                         12.006805                         7.640000   \n",
      "4                         10.682530                         7.530000   \n",
      "\n",
      "   primary_cleaner.input.xanthate  primary_cleaner.state.floatbank8_a_air  \\\n",
      "0                        1.005021                             1398.981301   \n",
      "1                        0.990469                             1398.777912   \n",
      "2                        0.996043                             1398.493666   \n",
      "3                        0.863514                             1399.618111   \n",
      "4                        0.805575                             1401.268123   \n",
      "\n",
      "   primary_cleaner.state.floatbank8_a_level  \\\n",
      "0                               -500.225577   \n",
      "1                               -500.057435   \n",
      "2                               -500.868360   \n",
      "3                               -498.863574   \n",
      "4                               -500.808305   \n",
      "\n",
      "   primary_cleaner.state.floatbank8_b_air  \\\n",
      "0                             1399.144926   \n",
      "1                             1398.055362   \n",
      "2                             1398.860436   \n",
      "3                             1397.440120   \n",
      "4                             1398.128818   \n",
      "\n",
      "   primary_cleaner.state.floatbank8_b_level  \\\n",
      "0                               -499.919735   \n",
      "1                               -499.778182   \n",
      "2                               -499.764529   \n",
      "3                               -499.211024   \n",
      "4                               -499.504543   \n",
      "\n",
      "   primary_cleaner.state.floatbank8_c_air  ...  \\\n",
      "0                             1400.102998  ...   \n",
      "1                             1396.151033  ...   \n",
      "2                             1398.075709  ...   \n",
      "3                             1400.129303  ...   \n",
      "4                             1402.172226  ...   \n",
      "\n",
      "   secondary_cleaner.state.floatbank4_a_air  \\\n",
      "0                                 12.023554   \n",
      "1                                 12.058140   \n",
      "2                                 11.962366   \n",
      "3                                 12.033091   \n",
      "4                                 12.025367   \n",
      "\n",
      "   secondary_cleaner.state.floatbank4_a_level  \\\n",
      "0                                 -497.795834   \n",
      "1                                 -498.695773   \n",
      "2                                 -498.767484   \n",
      "3                                 -498.350935   \n",
      "4                                 -500.786497   \n",
      "\n",
      "   secondary_cleaner.state.floatbank4_b_air  \\\n",
      "0                                  8.016656   \n",
      "1                                  8.130979   \n",
      "2                                  8.096893   \n",
      "3                                  8.074946   \n",
      "4                                  8.054678   \n",
      "\n",
      "   secondary_cleaner.state.floatbank4_b_level  \\\n",
      "0                                 -501.289139   \n",
      "1                                 -499.634209   \n",
      "2                                 -500.827423   \n",
      "3                                 -499.474407   \n",
      "4                                 -500.397500   \n",
      "\n",
      "   secondary_cleaner.state.floatbank5_a_air  \\\n",
      "0                                  7.946562   \n",
      "1                                  7.958270   \n",
      "2                                  8.071056   \n",
      "3                                  7.897085   \n",
      "4                                  8.107890   \n",
      "\n",
      "   secondary_cleaner.state.floatbank5_a_level  \\\n",
      "0                                 -432.317850   \n",
      "1                                 -525.839648   \n",
      "2                                 -500.801673   \n",
      "3                                 -500.868509   \n",
      "4                                 -509.526725   \n",
      "\n",
      "   secondary_cleaner.state.floatbank5_b_air  \\\n",
      "0                                  4.872511   \n",
      "1                                  4.878850   \n",
      "2                                  4.905125   \n",
      "3                                  4.931400   \n",
      "4                                  4.957674   \n",
      "\n",
      "   secondary_cleaner.state.floatbank5_b_level  \\\n",
      "0                                 -500.037437   \n",
      "1                                 -500.162375   \n",
      "2                                 -499.828510   \n",
      "3                                 -499.963623   \n",
      "4                                 -500.360026   \n",
      "\n",
      "   secondary_cleaner.state.floatbank6_a_air  \\\n",
      "0                                 26.705889   \n",
      "1                                 25.019940   \n",
      "2                                 24.994862   \n",
      "3                                 24.948919   \n",
      "4                                 25.003331   \n",
      "\n",
      "   secondary_cleaner.state.floatbank6_a_level  \n",
      "0                                 -499.709414  \n",
      "1                                 -499.819438  \n",
      "2                                 -500.622559  \n",
      "3                                 -498.709987  \n",
      "4                                 -500.856333  \n",
      "\n",
      "[5 rows x 53 columns]\n",
      "\n",
      "\u001b[1mfull\u001b[0m\n",
      "\n",
      "                  date  final.output.concentrate_ag  \\\n",
      "0  2016-01-15 00:00:00                     6.055403   \n",
      "1  2016-01-15 01:00:00                     6.029369   \n",
      "2  2016-01-15 02:00:00                     6.055926   \n",
      "3  2016-01-15 03:00:00                     6.047977   \n",
      "4  2016-01-15 04:00:00                     6.148599   \n",
      "\n",
      "   final.output.concentrate_pb  final.output.concentrate_sol  \\\n",
      "0                     9.889648                      5.507324   \n",
      "1                     9.968944                      5.257781   \n",
      "2                    10.213995                      5.383759   \n",
      "3                     9.977019                      4.858634   \n",
      "4                    10.142511                      4.939416   \n",
      "\n",
      "   final.output.concentrate_au  final.output.recovery  final.output.tail_ag  \\\n",
      "0                    42.192020              70.541216             10.411962   \n",
      "1                    42.701629              69.266198             10.462676   \n",
      "2                    42.657501              68.116445             10.507046   \n",
      "3                    42.689819              68.347543             10.422762   \n",
      "4                    42.774141              66.927016             10.360302   \n",
      "\n",
      "   final.output.tail_pb  final.output.tail_sol  final.output.tail_au  ...  \\\n",
      "0              0.895447              16.904297              2.143149  ...   \n",
      "1              0.927452              16.634514              2.224930  ...   \n",
      "2              0.953716              16.208849              2.257889  ...   \n",
      "3              0.883763              16.532835              2.146849  ...   \n",
      "4              0.792826              16.525686              2.055292  ...   \n",
      "\n",
      "   secondary_cleaner.state.floatbank4_a_air  \\\n",
      "0                                 14.016835   \n",
      "1                                 13.992281   \n",
      "2                                 14.015015   \n",
      "3                                 14.036510   \n",
      "4                                 14.027298   \n",
      "\n",
      "   secondary_cleaner.state.floatbank4_a_level  \\\n",
      "0                                 -502.488007   \n",
      "1                                 -505.503262   \n",
      "2                                 -502.520901   \n",
      "3                                 -500.857308   \n",
      "4                                 -499.838632   \n",
      "\n",
      "   secondary_cleaner.state.floatbank4_b_air  \\\n",
      "0                                 12.099931   \n",
      "1                                 11.950531   \n",
      "2                                 11.912783   \n",
      "3                                 11.999550   \n",
      "4                                 11.953070   \n",
      "\n",
      "   secondary_cleaner.state.floatbank4_b_level  \\\n",
      "0                                 -504.715942   \n",
      "1                                 -501.331529   \n",
      "2                                 -501.133383   \n",
      "3                                 -501.193686   \n",
      "4                                 -501.053894   \n",
      "\n",
      "   secondary_cleaner.state.floatbank5_a_air  \\\n",
      "0                                  9.925633   \n",
      "1                                 10.039245   \n",
      "2                                 10.070913   \n",
      "3                                  9.970366   \n",
      "4                                  9.925709   \n",
      "\n",
      "   secondary_cleaner.state.floatbank5_a_level  \\\n",
      "0                                 -498.310211   \n",
      "1                                 -500.169983   \n",
      "2                                 -500.129135   \n",
      "3                                 -499.201640   \n",
      "4                                 -501.686727   \n",
      "\n",
      "   secondary_cleaner.state.floatbank5_b_air  \\\n",
      "0                                  8.079666   \n",
      "1                                  7.984757   \n",
      "2                                  8.013877   \n",
      "3                                  7.977324   \n",
      "4                                  7.894242   \n",
      "\n",
      "   secondary_cleaner.state.floatbank5_b_level  \\\n",
      "0                                 -500.470978   \n",
      "1                                 -500.582168   \n",
      "2                                 -500.517572   \n",
      "3                                 -500.255908   \n",
      "4                                 -500.356035   \n",
      "\n",
      "   secondary_cleaner.state.floatbank6_a_air  \\\n",
      "0                                 14.151341   \n",
      "1                                 13.998353   \n",
      "2                                 14.028663   \n",
      "3                                 14.005551   \n",
      "4                                 13.996647   \n",
      "\n",
      "   secondary_cleaner.state.floatbank6_a_level  \n",
      "0                                 -605.841980  \n",
      "1                                 -599.787184  \n",
      "2                                 -601.427363  \n",
      "3                                 -599.996129  \n",
      "4                                 -601.496691  \n",
      "\n",
      "[5 rows x 87 columns]\n",
      "\n"
     ]
    }
   ],
   "source": [
    "for i in range(3):\n",
    "    print('\\033[1m' + names[i] + '\\033[0m'), print()\n",
    "    print(datasets[i].head()), print()"
   ]
  },
  {
   "cell_type": "markdown",
   "metadata": {},
   "source": [
    "Выведем общую информацию о каждом датасете."
   ]
  },
  {
   "cell_type": "code",
   "execution_count": 7,
   "metadata": {},
   "outputs": [
    {
     "name": "stdout",
     "output_type": "stream",
     "text": [
      "\u001b[1mtrain\u001b[0m\n",
      "\n",
      "<class 'pandas.core.frame.DataFrame'>\n",
      "RangeIndex: 16860 entries, 0 to 16859\n",
      "Data columns (total 87 columns):\n",
      " #   Column                                              Non-Null Count  Dtype  \n",
      "---  ------                                              --------------  -----  \n",
      " 0   date                                                16860 non-null  object \n",
      " 1   final.output.concentrate_ag                         16788 non-null  float64\n",
      " 2   final.output.concentrate_pb                         16788 non-null  float64\n",
      " 3   final.output.concentrate_sol                        16490 non-null  float64\n",
      " 4   final.output.concentrate_au                         16789 non-null  float64\n",
      " 5   final.output.recovery                               15339 non-null  float64\n",
      " 6   final.output.tail_ag                                16794 non-null  float64\n",
      " 7   final.output.tail_pb                                16677 non-null  float64\n",
      " 8   final.output.tail_sol                               16715 non-null  float64\n",
      " 9   final.output.tail_au                                16794 non-null  float64\n",
      " 10  primary_cleaner.input.sulfate                       15553 non-null  float64\n",
      " 11  primary_cleaner.input.depressant                    15598 non-null  float64\n",
      " 12  primary_cleaner.input.feed_size                     16860 non-null  float64\n",
      " 13  primary_cleaner.input.xanthate                      15875 non-null  float64\n",
      " 14  primary_cleaner.output.concentrate_ag               16778 non-null  float64\n",
      " 15  primary_cleaner.output.concentrate_pb               16502 non-null  float64\n",
      " 16  primary_cleaner.output.concentrate_sol              16224 non-null  float64\n",
      " 17  primary_cleaner.output.concentrate_au               16778 non-null  float64\n",
      " 18  primary_cleaner.output.tail_ag                      16777 non-null  float64\n",
      " 19  primary_cleaner.output.tail_pb                      16761 non-null  float64\n",
      " 20  primary_cleaner.output.tail_sol                     16579 non-null  float64\n",
      " 21  primary_cleaner.output.tail_au                      16777 non-null  float64\n",
      " 22  primary_cleaner.state.floatbank8_a_air              16820 non-null  float64\n",
      " 23  primary_cleaner.state.floatbank8_a_level            16827 non-null  float64\n",
      " 24  primary_cleaner.state.floatbank8_b_air              16820 non-null  float64\n",
      " 25  primary_cleaner.state.floatbank8_b_level            16833 non-null  float64\n",
      " 26  primary_cleaner.state.floatbank8_c_air              16822 non-null  float64\n",
      " 27  primary_cleaner.state.floatbank8_c_level            16833 non-null  float64\n",
      " 28  primary_cleaner.state.floatbank8_d_air              16821 non-null  float64\n",
      " 29  primary_cleaner.state.floatbank8_d_level            16833 non-null  float64\n",
      " 30  rougher.calculation.sulfate_to_au_concentrate       16833 non-null  float64\n",
      " 31  rougher.calculation.floatbank10_sulfate_to_au_feed  16833 non-null  float64\n",
      " 32  rougher.calculation.floatbank11_sulfate_to_au_feed  16833 non-null  float64\n",
      " 33  rougher.calculation.au_pb_ratio                     15618 non-null  float64\n",
      " 34  rougher.input.feed_ag                               16778 non-null  float64\n",
      " 35  rougher.input.feed_pb                               16632 non-null  float64\n",
      " 36  rougher.input.feed_rate                             16347 non-null  float64\n",
      " 37  rougher.input.feed_size                             16443 non-null  float64\n",
      " 38  rougher.input.feed_sol                              16568 non-null  float64\n",
      " 39  rougher.input.feed_au                               16777 non-null  float64\n",
      " 40  rougher.input.floatbank10_sulfate                   15816 non-null  float64\n",
      " 41  rougher.input.floatbank10_xanthate                  16514 non-null  float64\n",
      " 42  rougher.input.floatbank11_sulfate                   16237 non-null  float64\n",
      " 43  rougher.input.floatbank11_xanthate                  14956 non-null  float64\n",
      " 44  rougher.output.concentrate_ag                       16778 non-null  float64\n",
      " 45  rougher.output.concentrate_pb                       16778 non-null  float64\n",
      " 46  rougher.output.concentrate_sol                      16698 non-null  float64\n",
      " 47  rougher.output.concentrate_au                       16778 non-null  float64\n",
      " 48  rougher.output.recovery                             14287 non-null  float64\n",
      " 49  rougher.output.tail_ag                              14610 non-null  float64\n",
      " 50  rougher.output.tail_pb                              16778 non-null  float64\n",
      " 51  rougher.output.tail_sol                             14611 non-null  float64\n",
      " 52  rougher.output.tail_au                              14611 non-null  float64\n",
      " 53  rougher.state.floatbank10_a_air                     16807 non-null  float64\n",
      " 54  rougher.state.floatbank10_a_level                   16807 non-null  float64\n",
      " 55  rougher.state.floatbank10_b_air                     16807 non-null  float64\n",
      " 56  rougher.state.floatbank10_b_level                   16807 non-null  float64\n",
      " 57  rougher.state.floatbank10_c_air                     16807 non-null  float64\n",
      " 58  rougher.state.floatbank10_c_level                   16814 non-null  float64\n",
      " 59  rougher.state.floatbank10_d_air                     16802 non-null  float64\n",
      " 60  rougher.state.floatbank10_d_level                   16809 non-null  float64\n",
      " 61  rougher.state.floatbank10_e_air                     16257 non-null  float64\n",
      " 62  rougher.state.floatbank10_e_level                   16809 non-null  float64\n",
      " 63  rougher.state.floatbank10_f_air                     16802 non-null  float64\n",
      " 64  rougher.state.floatbank10_f_level                   16802 non-null  float64\n",
      " 65  secondary_cleaner.output.tail_ag                    16776 non-null  float64\n",
      " 66  secondary_cleaner.output.tail_pb                    16764 non-null  float64\n",
      " 67  secondary_cleaner.output.tail_sol                   14874 non-null  float64\n",
      " 68  secondary_cleaner.output.tail_au                    16778 non-null  float64\n",
      " 69  secondary_cleaner.state.floatbank2_a_air            16497 non-null  float64\n",
      " 70  secondary_cleaner.state.floatbank2_a_level          16751 non-null  float64\n",
      " 71  secondary_cleaner.state.floatbank2_b_air            16705 non-null  float64\n",
      " 72  secondary_cleaner.state.floatbank2_b_level          16748 non-null  float64\n",
      " 73  secondary_cleaner.state.floatbank3_a_air            16763 non-null  float64\n",
      " 74  secondary_cleaner.state.floatbank3_a_level          16747 non-null  float64\n",
      " 75  secondary_cleaner.state.floatbank3_b_air            16752 non-null  float64\n",
      " 76  secondary_cleaner.state.floatbank3_b_level          16750 non-null  float64\n",
      " 77  secondary_cleaner.state.floatbank4_a_air            16731 non-null  float64\n",
      " 78  secondary_cleaner.state.floatbank4_a_level          16747 non-null  float64\n",
      " 79  secondary_cleaner.state.floatbank4_b_air            16768 non-null  float64\n",
      " 80  secondary_cleaner.state.floatbank4_b_level          16767 non-null  float64\n",
      " 81  secondary_cleaner.state.floatbank5_a_air            16775 non-null  float64\n",
      " 82  secondary_cleaner.state.floatbank5_a_level          16775 non-null  float64\n",
      " 83  secondary_cleaner.state.floatbank5_b_air            16775 non-null  float64\n",
      " 84  secondary_cleaner.state.floatbank5_b_level          16776 non-null  float64\n",
      " 85  secondary_cleaner.state.floatbank6_a_air            16757 non-null  float64\n",
      " 86  secondary_cleaner.state.floatbank6_a_level          16775 non-null  float64\n",
      "dtypes: float64(86), object(1)\n",
      "memory usage: 11.2+ MB\n",
      "None\n",
      "\n",
      "\u001b[1mtest\u001b[0m\n",
      "\n",
      "<class 'pandas.core.frame.DataFrame'>\n",
      "RangeIndex: 5856 entries, 0 to 5855\n",
      "Data columns (total 53 columns):\n",
      " #   Column                                      Non-Null Count  Dtype  \n",
      "---  ------                                      --------------  -----  \n",
      " 0   date                                        5856 non-null   object \n",
      " 1   primary_cleaner.input.sulfate               5554 non-null   float64\n",
      " 2   primary_cleaner.input.depressant            5572 non-null   float64\n",
      " 3   primary_cleaner.input.feed_size             5856 non-null   float64\n",
      " 4   primary_cleaner.input.xanthate              5690 non-null   float64\n",
      " 5   primary_cleaner.state.floatbank8_a_air      5840 non-null   float64\n",
      " 6   primary_cleaner.state.floatbank8_a_level    5840 non-null   float64\n",
      " 7   primary_cleaner.state.floatbank8_b_air      5840 non-null   float64\n",
      " 8   primary_cleaner.state.floatbank8_b_level    5840 non-null   float64\n",
      " 9   primary_cleaner.state.floatbank8_c_air      5840 non-null   float64\n",
      " 10  primary_cleaner.state.floatbank8_c_level    5840 non-null   float64\n",
      " 11  primary_cleaner.state.floatbank8_d_air      5840 non-null   float64\n",
      " 12  primary_cleaner.state.floatbank8_d_level    5840 non-null   float64\n",
      " 13  rougher.input.feed_ag                       5840 non-null   float64\n",
      " 14  rougher.input.feed_pb                       5840 non-null   float64\n",
      " 15  rougher.input.feed_rate                     5816 non-null   float64\n",
      " 16  rougher.input.feed_size                     5834 non-null   float64\n",
      " 17  rougher.input.feed_sol                      5789 non-null   float64\n",
      " 18  rougher.input.feed_au                       5840 non-null   float64\n",
      " 19  rougher.input.floatbank10_sulfate           5599 non-null   float64\n",
      " 20  rougher.input.floatbank10_xanthate          5733 non-null   float64\n",
      " 21  rougher.input.floatbank11_sulfate           5801 non-null   float64\n",
      " 22  rougher.input.floatbank11_xanthate          5503 non-null   float64\n",
      " 23  rougher.state.floatbank10_a_air             5839 non-null   float64\n",
      " 24  rougher.state.floatbank10_a_level           5840 non-null   float64\n",
      " 25  rougher.state.floatbank10_b_air             5839 non-null   float64\n",
      " 26  rougher.state.floatbank10_b_level           5840 non-null   float64\n",
      " 27  rougher.state.floatbank10_c_air             5839 non-null   float64\n",
      " 28  rougher.state.floatbank10_c_level           5840 non-null   float64\n",
      " 29  rougher.state.floatbank10_d_air             5839 non-null   float64\n",
      " 30  rougher.state.floatbank10_d_level           5840 non-null   float64\n",
      " 31  rougher.state.floatbank10_e_air             5839 non-null   float64\n",
      " 32  rougher.state.floatbank10_e_level           5840 non-null   float64\n",
      " 33  rougher.state.floatbank10_f_air             5839 non-null   float64\n",
      " 34  rougher.state.floatbank10_f_level           5840 non-null   float64\n",
      " 35  secondary_cleaner.state.floatbank2_a_air    5836 non-null   float64\n",
      " 36  secondary_cleaner.state.floatbank2_a_level  5840 non-null   float64\n",
      " 37  secondary_cleaner.state.floatbank2_b_air    5833 non-null   float64\n",
      " 38  secondary_cleaner.state.floatbank2_b_level  5840 non-null   float64\n",
      " 39  secondary_cleaner.state.floatbank3_a_air    5822 non-null   float64\n",
      " 40  secondary_cleaner.state.floatbank3_a_level  5840 non-null   float64\n",
      " 41  secondary_cleaner.state.floatbank3_b_air    5840 non-null   float64\n",
      " 42  secondary_cleaner.state.floatbank3_b_level  5840 non-null   float64\n",
      " 43  secondary_cleaner.state.floatbank4_a_air    5840 non-null   float64\n",
      " 44  secondary_cleaner.state.floatbank4_a_level  5840 non-null   float64\n",
      " 45  secondary_cleaner.state.floatbank4_b_air    5840 non-null   float64\n",
      " 46  secondary_cleaner.state.floatbank4_b_level  5840 non-null   float64\n",
      " 47  secondary_cleaner.state.floatbank5_a_air    5840 non-null   float64\n",
      " 48  secondary_cleaner.state.floatbank5_a_level  5840 non-null   float64\n",
      " 49  secondary_cleaner.state.floatbank5_b_air    5840 non-null   float64\n",
      " 50  secondary_cleaner.state.floatbank5_b_level  5840 non-null   float64\n",
      " 51  secondary_cleaner.state.floatbank6_a_air    5840 non-null   float64\n",
      " 52  secondary_cleaner.state.floatbank6_a_level  5840 non-null   float64\n",
      "dtypes: float64(52), object(1)\n",
      "memory usage: 2.4+ MB\n",
      "None\n",
      "\n",
      "\u001b[1mfull\u001b[0m\n",
      "\n",
      "<class 'pandas.core.frame.DataFrame'>\n",
      "RangeIndex: 22716 entries, 0 to 22715\n",
      "Data columns (total 87 columns):\n",
      " #   Column                                              Non-Null Count  Dtype  \n",
      "---  ------                                              --------------  -----  \n",
      " 0   date                                                22716 non-null  object \n",
      " 1   final.output.concentrate_ag                         22627 non-null  float64\n",
      " 2   final.output.concentrate_pb                         22629 non-null  float64\n",
      " 3   final.output.concentrate_sol                        22331 non-null  float64\n",
      " 4   final.output.concentrate_au                         22630 non-null  float64\n",
      " 5   final.output.recovery                               20753 non-null  float64\n",
      " 6   final.output.tail_ag                                22633 non-null  float64\n",
      " 7   final.output.tail_pb                                22516 non-null  float64\n",
      " 8   final.output.tail_sol                               22445 non-null  float64\n",
      " 9   final.output.tail_au                                22635 non-null  float64\n",
      " 10  primary_cleaner.input.sulfate                       21107 non-null  float64\n",
      " 11  primary_cleaner.input.depressant                    21170 non-null  float64\n",
      " 12  primary_cleaner.input.feed_size                     22716 non-null  float64\n",
      " 13  primary_cleaner.input.xanthate                      21565 non-null  float64\n",
      " 14  primary_cleaner.output.concentrate_ag               22618 non-null  float64\n",
      " 15  primary_cleaner.output.concentrate_pb               22268 non-null  float64\n",
      " 16  primary_cleaner.output.concentrate_sol              21918 non-null  float64\n",
      " 17  primary_cleaner.output.concentrate_au               22618 non-null  float64\n",
      " 18  primary_cleaner.output.tail_ag                      22614 non-null  float64\n",
      " 19  primary_cleaner.output.tail_pb                      22594 non-null  float64\n",
      " 20  primary_cleaner.output.tail_sol                     22365 non-null  float64\n",
      " 21  primary_cleaner.output.tail_au                      22617 non-null  float64\n",
      " 22  primary_cleaner.state.floatbank8_a_air              22660 non-null  float64\n",
      " 23  primary_cleaner.state.floatbank8_a_level            22667 non-null  float64\n",
      " 24  primary_cleaner.state.floatbank8_b_air              22660 non-null  float64\n",
      " 25  primary_cleaner.state.floatbank8_b_level            22673 non-null  float64\n",
      " 26  primary_cleaner.state.floatbank8_c_air              22662 non-null  float64\n",
      " 27  primary_cleaner.state.floatbank8_c_level            22673 non-null  float64\n",
      " 28  primary_cleaner.state.floatbank8_d_air              22661 non-null  float64\n",
      " 29  primary_cleaner.state.floatbank8_d_level            22673 non-null  float64\n",
      " 30  rougher.calculation.sulfate_to_au_concentrate       22672 non-null  float64\n",
      " 31  rougher.calculation.floatbank10_sulfate_to_au_feed  22672 non-null  float64\n",
      " 32  rougher.calculation.floatbank11_sulfate_to_au_feed  22672 non-null  float64\n",
      " 33  rougher.calculation.au_pb_ratio                     21089 non-null  float64\n",
      " 34  rougher.input.feed_ag                               22618 non-null  float64\n",
      " 35  rougher.input.feed_pb                               22472 non-null  float64\n",
      " 36  rougher.input.feed_rate                             22163 non-null  float64\n",
      " 37  rougher.input.feed_size                             22277 non-null  float64\n",
      " 38  rougher.input.feed_sol                              22357 non-null  float64\n",
      " 39  rougher.input.feed_au                               22617 non-null  float64\n",
      " 40  rougher.input.floatbank10_sulfate                   21415 non-null  float64\n",
      " 41  rougher.input.floatbank10_xanthate                  22247 non-null  float64\n",
      " 42  rougher.input.floatbank11_sulfate                   22038 non-null  float64\n",
      " 43  rougher.input.floatbank11_xanthate                  20459 non-null  float64\n",
      " 44  rougher.output.concentrate_ag                       22618 non-null  float64\n",
      " 45  rougher.output.concentrate_pb                       22618 non-null  float64\n",
      " 46  rougher.output.concentrate_sol                      22526 non-null  float64\n",
      " 47  rougher.output.concentrate_au                       22618 non-null  float64\n",
      " 48  rougher.output.recovery                             19597 non-null  float64\n",
      " 49  rougher.output.tail_ag                              19979 non-null  float64\n",
      " 50  rougher.output.tail_pb                              22618 non-null  float64\n",
      " 51  rougher.output.tail_sol                             19980 non-null  float64\n",
      " 52  rougher.output.tail_au                              19980 non-null  float64\n",
      " 53  rougher.state.floatbank10_a_air                     22646 non-null  float64\n",
      " 54  rougher.state.floatbank10_a_level                   22647 non-null  float64\n",
      " 55  rougher.state.floatbank10_b_air                     22646 non-null  float64\n",
      " 56  rougher.state.floatbank10_b_level                   22647 non-null  float64\n",
      " 57  rougher.state.floatbank10_c_air                     22646 non-null  float64\n",
      " 58  rougher.state.floatbank10_c_level                   22654 non-null  float64\n",
      " 59  rougher.state.floatbank10_d_air                     22641 non-null  float64\n",
      " 60  rougher.state.floatbank10_d_level                   22649 non-null  float64\n",
      " 61  rougher.state.floatbank10_e_air                     22096 non-null  float64\n",
      " 62  rougher.state.floatbank10_e_level                   22649 non-null  float64\n",
      " 63  rougher.state.floatbank10_f_air                     22641 non-null  float64\n",
      " 64  rougher.state.floatbank10_f_level                   22642 non-null  float64\n",
      " 65  secondary_cleaner.output.tail_ag                    22616 non-null  float64\n",
      " 66  secondary_cleaner.output.tail_pb                    22600 non-null  float64\n",
      " 67  secondary_cleaner.output.tail_sol                   20501 non-null  float64\n",
      " 68  secondary_cleaner.output.tail_au                    22618 non-null  float64\n",
      " 69  secondary_cleaner.state.floatbank2_a_air            22333 non-null  float64\n",
      " 70  secondary_cleaner.state.floatbank2_a_level          22591 non-null  float64\n",
      " 71  secondary_cleaner.state.floatbank2_b_air            22538 non-null  float64\n",
      " 72  secondary_cleaner.state.floatbank2_b_level          22588 non-null  float64\n",
      " 73  secondary_cleaner.state.floatbank3_a_air            22585 non-null  float64\n",
      " 74  secondary_cleaner.state.floatbank3_a_level          22587 non-null  float64\n",
      " 75  secondary_cleaner.state.floatbank3_b_air            22592 non-null  float64\n",
      " 76  secondary_cleaner.state.floatbank3_b_level          22590 non-null  float64\n",
      " 77  secondary_cleaner.state.floatbank4_a_air            22571 non-null  float64\n",
      " 78  secondary_cleaner.state.floatbank4_a_level          22587 non-null  float64\n",
      " 79  secondary_cleaner.state.floatbank4_b_air            22608 non-null  float64\n",
      " 80  secondary_cleaner.state.floatbank4_b_level          22607 non-null  float64\n",
      " 81  secondary_cleaner.state.floatbank5_a_air            22615 non-null  float64\n",
      " 82  secondary_cleaner.state.floatbank5_a_level          22615 non-null  float64\n",
      " 83  secondary_cleaner.state.floatbank5_b_air            22615 non-null  float64\n",
      " 84  secondary_cleaner.state.floatbank5_b_level          22616 non-null  float64\n",
      " 85  secondary_cleaner.state.floatbank6_a_air            22597 non-null  float64\n",
      " 86  secondary_cleaner.state.floatbank6_a_level          22615 non-null  float64\n",
      "dtypes: float64(86), object(1)\n",
      "memory usage: 15.1+ MB\n",
      "None\n",
      "\n"
     ]
    }
   ],
   "source": [
    "for i in range(3):\n",
    "    print('\\033[1m' + names[i] + '\\033[0m'), print()\n",
    "    print(datasets[i].info()), print()"
   ]
  },
  {
   "cell_type": "markdown",
   "metadata": {},
   "source": [
    "Посмотрим общую долю пропусков в датасетах."
   ]
  },
  {
   "cell_type": "code",
   "execution_count": 8,
   "metadata": {},
   "outputs": [
    {
     "name": "stdout",
     "output_type": "stream",
     "text": [
      "Доля пропущенных значений в train : 0.020670566258982014\n",
      "Доля пропущенных значений в test : 0.007603876688318383\n",
      "Доля пропущенных значений в full : 0.01851295253940207\n"
     ]
    }
   ],
   "source": [
    "for i in range(3):\n",
    "    print('Доля пропущенных значений в', names[i], ':',\n",
    "          datasets[i].isna().sum().sum() / (datasets[i].shape[0] * datasets[i].shape[1]))"
   ]
  },
  {
   "cell_type": "markdown",
   "metadata": {},
   "source": [
    "Посмотрим доли пропущенных значений в полях."
   ]
  },
  {
   "cell_type": "code",
   "execution_count": 9,
   "metadata": {},
   "outputs": [
    {
     "name": "stdout",
     "output_type": "stream",
     "text": [
      "\u001b[1mtrain\u001b[0m\n",
      "\n",
      "rougher.output.recovery                               0.180094\n",
      "rougher.output.tail_ag                                0.154004\n",
      "rougher.output.tail_sol                               0.153925\n",
      "rougher.output.tail_au                                0.153925\n",
      "secondary_cleaner.output.tail_sol                     0.133522\n",
      "rougher.input.floatbank11_xanthate                    0.127307\n",
      "final.output.recovery                                 0.099159\n",
      "primary_cleaner.input.sulfate                         0.084035\n",
      "primary_cleaner.input.depressant                      0.080908\n",
      "rougher.calculation.au_pb_ratio                       0.079524\n",
      "rougher.input.floatbank10_sulfate                     0.066009\n",
      "primary_cleaner.input.xanthate                        0.062047\n",
      "primary_cleaner.output.concentrate_sol                0.039201\n",
      "rougher.input.floatbank11_sulfate                     0.038369\n",
      "rougher.state.floatbank10_e_air                       0.037092\n",
      "rougher.input.feed_rate                               0.031382\n",
      "rougher.input.feed_size                               0.025360\n",
      "final.output.concentrate_sol                          0.022438\n",
      "secondary_cleaner.state.floatbank2_a_air              0.022004\n",
      "primary_cleaner.output.concentrate_pb                 0.021694\n",
      "rougher.input.floatbank10_xanthate                    0.020952\n",
      "rougher.input.feed_sol                                0.017624\n",
      "primary_cleaner.output.tail_sol                       0.016949\n",
      "rougher.input.feed_pb                                 0.013709\n",
      "final.output.tail_pb                                  0.010973\n",
      "rougher.output.concentrate_sol                        0.009702\n",
      "secondary_cleaner.state.floatbank2_b_air              0.009279\n",
      "final.output.tail_sol                                 0.008675\n",
      "secondary_cleaner.state.floatbank4_a_air              0.007710\n",
      "secondary_cleaner.state.floatbank3_a_level            0.006747\n",
      "secondary_cleaner.state.floatbank4_a_level            0.006747\n",
      "secondary_cleaner.state.floatbank2_b_level            0.006687\n",
      "secondary_cleaner.state.floatbank3_b_level            0.006567\n",
      "secondary_cleaner.state.floatbank2_a_level            0.006507\n",
      "secondary_cleaner.state.floatbank3_b_air              0.006447\n",
      "secondary_cleaner.state.floatbank6_a_air              0.006147\n",
      "primary_cleaner.output.tail_pb                        0.005907\n",
      "secondary_cleaner.state.floatbank3_a_air              0.005787\n",
      "secondary_cleaner.output.tail_pb                      0.005727\n",
      "secondary_cleaner.state.floatbank4_b_level            0.005547\n",
      "secondary_cleaner.state.floatbank4_b_air              0.005487\n",
      "secondary_cleaner.state.floatbank6_a_level            0.005067\n",
      "secondary_cleaner.state.floatbank5_b_air              0.005067\n",
      "secondary_cleaner.state.floatbank5_a_air              0.005067\n",
      "secondary_cleaner.state.floatbank5_a_level            0.005067\n",
      "secondary_cleaner.state.floatbank5_b_level            0.005007\n",
      "secondary_cleaner.output.tail_ag                      0.005007\n",
      "primary_cleaner.output.tail_ag                        0.004947\n",
      "rougher.input.feed_au                                 0.004947\n",
      "primary_cleaner.output.tail_au                        0.004947\n",
      "primary_cleaner.output.concentrate_ag                 0.004887\n",
      "primary_cleaner.output.concentrate_au                 0.004887\n",
      "rougher.output.concentrate_pb                         0.004887\n",
      "secondary_cleaner.output.tail_au                      0.004887\n",
      "rougher.output.concentrate_ag                         0.004887\n",
      "rougher.output.concentrate_au                         0.004887\n",
      "rougher.input.feed_ag                                 0.004887\n",
      "rougher.output.tail_pb                                0.004887\n",
      "final.output.concentrate_pb                           0.004289\n",
      "final.output.concentrate_ag                           0.004289\n",
      "final.output.concentrate_au                           0.004229\n",
      "final.output.tail_ag                                  0.003930\n",
      "final.output.tail_au                                  0.003930\n",
      "rougher.state.floatbank10_d_air                       0.003452\n",
      "rougher.state.floatbank10_f_air                       0.003452\n",
      "rougher.state.floatbank10_f_level                     0.003452\n",
      "rougher.state.floatbank10_a_level                     0.003153\n",
      "rougher.state.floatbank10_a_air                       0.003153\n",
      "rougher.state.floatbank10_b_level                     0.003153\n",
      "rougher.state.floatbank10_c_air                       0.003153\n",
      "rougher.state.floatbank10_b_air                       0.003153\n",
      "rougher.state.floatbank10_d_level                     0.003034\n",
      "rougher.state.floatbank10_e_level                     0.003034\n",
      "rougher.state.floatbank10_c_level                     0.002736\n",
      "primary_cleaner.state.floatbank8_a_air                0.002378\n",
      "primary_cleaner.state.floatbank8_b_air                0.002378\n",
      "primary_cleaner.state.floatbank8_d_air                0.002319\n",
      "primary_cleaner.state.floatbank8_c_air                0.002259\n",
      "primary_cleaner.state.floatbank8_a_level              0.001961\n",
      "primary_cleaner.state.floatbank8_b_level              0.001604\n",
      "primary_cleaner.state.floatbank8_c_level              0.001604\n",
      "primary_cleaner.state.floatbank8_d_level              0.001604\n",
      "rougher.calculation.sulfate_to_au_concentrate         0.001604\n",
      "rougher.calculation.floatbank10_sulfate_to_au_feed    0.001604\n",
      "rougher.calculation.floatbank11_sulfate_to_au_feed    0.001604\n",
      "primary_cleaner.input.feed_size                       0.000000\n",
      "date                                                  0.000000\n",
      "dtype: float64\n",
      "\n",
      "\u001b[1mtest\u001b[0m\n",
      "\n",
      "rougher.input.floatbank11_xanthate            0.064147\n",
      "primary_cleaner.input.sulfate                 0.054375\n",
      "primary_cleaner.input.depressant              0.050969\n",
      "rougher.input.floatbank10_sulfate             0.045901\n",
      "primary_cleaner.input.xanthate                0.029174\n",
      "rougher.input.floatbank10_xanthate            0.021455\n",
      "rougher.input.feed_sol                        0.011574\n",
      "rougher.input.floatbank11_sulfate             0.009481\n",
      "rougher.input.feed_rate                       0.006878\n",
      "secondary_cleaner.state.floatbank3_a_air      0.005840\n",
      "secondary_cleaner.state.floatbank2_b_air      0.003943\n",
      "rougher.input.feed_size                       0.003771\n",
      "secondary_cleaner.state.floatbank2_a_air      0.003427\n",
      "rougher.state.floatbank10_e_air               0.002911\n",
      "rougher.state.floatbank10_d_air               0.002911\n",
      "rougher.state.floatbank10_a_air               0.002911\n",
      "rougher.state.floatbank10_b_air               0.002911\n",
      "rougher.state.floatbank10_c_air               0.002911\n",
      "rougher.state.floatbank10_f_air               0.002911\n",
      "primary_cleaner.state.floatbank8_a_air        0.002740\n",
      "primary_cleaner.state.floatbank8_a_level      0.002740\n",
      "rougher.input.feed_au                         0.002740\n",
      "primary_cleaner.state.floatbank8_d_air        0.002740\n",
      "primary_cleaner.state.floatbank8_b_air        0.002740\n",
      "primary_cleaner.state.floatbank8_d_level      0.002740\n",
      "primary_cleaner.state.floatbank8_b_level      0.002740\n",
      "rougher.input.feed_pb                         0.002740\n",
      "primary_cleaner.state.floatbank8_c_air        0.002740\n",
      "rougher.input.feed_ag                         0.002740\n",
      "primary_cleaner.state.floatbank8_c_level      0.002740\n",
      "secondary_cleaner.state.floatbank6_a_level    0.002740\n",
      "rougher.state.floatbank10_b_level             0.002740\n",
      "rougher.state.floatbank10_a_level             0.002740\n",
      "secondary_cleaner.state.floatbank6_a_air      0.002740\n",
      "secondary_cleaner.state.floatbank5_b_level    0.002740\n",
      "secondary_cleaner.state.floatbank5_b_air      0.002740\n",
      "secondary_cleaner.state.floatbank5_a_level    0.002740\n",
      "secondary_cleaner.state.floatbank5_a_air      0.002740\n",
      "secondary_cleaner.state.floatbank4_b_level    0.002740\n",
      "secondary_cleaner.state.floatbank4_b_air      0.002740\n",
      "secondary_cleaner.state.floatbank4_a_level    0.002740\n",
      "secondary_cleaner.state.floatbank4_a_air      0.002740\n",
      "secondary_cleaner.state.floatbank3_b_level    0.002740\n",
      "secondary_cleaner.state.floatbank3_b_air      0.002740\n",
      "secondary_cleaner.state.floatbank3_a_level    0.002740\n",
      "secondary_cleaner.state.floatbank2_b_level    0.002740\n",
      "secondary_cleaner.state.floatbank2_a_level    0.002740\n",
      "rougher.state.floatbank10_f_level             0.002740\n",
      "rougher.state.floatbank10_e_level             0.002740\n",
      "rougher.state.floatbank10_d_level             0.002740\n",
      "rougher.state.floatbank10_c_level             0.002740\n",
      "primary_cleaner.input.feed_size               0.000000\n",
      "date                                          0.000000\n",
      "dtype: float64\n",
      "\n",
      "\u001b[1mfull\u001b[0m\n",
      "\n",
      "rougher.output.recovery                               0.159157\n",
      "rougher.output.tail_ag                                0.136994\n",
      "rougher.output.tail_sol                               0.136937\n",
      "rougher.output.tail_au                                0.136937\n",
      "rougher.input.floatbank11_xanthate                    0.110318\n",
      "secondary_cleaner.output.tail_sol                     0.108044\n",
      "final.output.recovery                                 0.094589\n",
      "rougher.calculation.au_pb_ratio                       0.077149\n",
      "primary_cleaner.input.sulfate                         0.076231\n",
      "primary_cleaner.input.depressant                      0.073028\n",
      "rougher.input.floatbank10_sulfate                     0.060752\n",
      "primary_cleaner.input.xanthate                        0.053374\n",
      "primary_cleaner.output.concentrate_sol                0.036408\n",
      "rougher.input.floatbank11_sulfate                     0.030765\n",
      "rougher.state.floatbank10_e_air                       0.028059\n",
      "rougher.input.feed_rate                               0.024951\n",
      "rougher.input.floatbank10_xanthate                    0.021081\n",
      "primary_cleaner.output.concentrate_pb                 0.020119\n",
      "rougher.input.feed_size                               0.019706\n",
      "final.output.concentrate_sol                          0.017241\n",
      "secondary_cleaner.state.floatbank2_a_air              0.017150\n",
      "rougher.input.feed_sol                                0.016058\n",
      "primary_cleaner.output.tail_sol                       0.015694\n",
      "final.output.tail_sol                                 0.012074\n",
      "rougher.input.feed_pb                                 0.010858\n",
      "final.output.tail_pb                                  0.008883\n",
      "rougher.output.concentrate_sol                        0.008435\n",
      "secondary_cleaner.state.floatbank2_b_air              0.007898\n",
      "secondary_cleaner.state.floatbank4_a_air              0.006424\n",
      "secondary_cleaner.state.floatbank3_a_air              0.005800\n",
      "secondary_cleaner.state.floatbank4_a_level            0.005711\n",
      "secondary_cleaner.state.floatbank3_a_level            0.005711\n",
      "secondary_cleaner.state.floatbank2_b_level            0.005667\n",
      "secondary_cleaner.state.floatbank3_b_level            0.005578\n",
      "secondary_cleaner.state.floatbank2_a_level            0.005533\n",
      "secondary_cleaner.state.floatbank3_b_air              0.005489\n",
      "primary_cleaner.output.tail_pb                        0.005400\n",
      "secondary_cleaner.state.floatbank6_a_air              0.005266\n",
      "secondary_cleaner.output.tail_pb                      0.005133\n",
      "secondary_cleaner.state.floatbank4_b_level            0.004822\n",
      "secondary_cleaner.state.floatbank4_b_air              0.004777\n",
      "primary_cleaner.output.tail_ag                        0.004510\n",
      "secondary_cleaner.state.floatbank6_a_level            0.004466\n",
      "secondary_cleaner.state.floatbank5_b_air              0.004466\n",
      "secondary_cleaner.state.floatbank5_a_level            0.004466\n",
      "secondary_cleaner.state.floatbank5_a_air              0.004466\n",
      "secondary_cleaner.state.floatbank5_b_level            0.004422\n",
      "secondary_cleaner.output.tail_ag                      0.004422\n",
      "primary_cleaner.output.tail_au                        0.004377\n",
      "rougher.input.feed_au                                 0.004377\n",
      "rougher.output.concentrate_pb                         0.004333\n",
      "secondary_cleaner.output.tail_au                      0.004333\n",
      "primary_cleaner.output.concentrate_ag                 0.004333\n",
      "primary_cleaner.output.concentrate_au                 0.004333\n",
      "rougher.output.concentrate_ag                         0.004333\n",
      "rougher.output.concentrate_au                         0.004333\n",
      "rougher.input.feed_ag                                 0.004333\n",
      "rougher.output.tail_pb                                0.004333\n",
      "final.output.concentrate_ag                           0.003933\n",
      "final.output.concentrate_pb                           0.003845\n",
      "final.output.concentrate_au                           0.003800\n",
      "final.output.tail_ag                                  0.003667\n",
      "final.output.tail_au                                  0.003579\n",
      "rougher.state.floatbank10_f_air                       0.003313\n",
      "rougher.state.floatbank10_d_air                       0.003313\n",
      "rougher.state.floatbank10_f_level                     0.003268\n",
      "rougher.state.floatbank10_a_air                       0.003091\n",
      "rougher.state.floatbank10_c_air                       0.003091\n",
      "rougher.state.floatbank10_b_air                       0.003091\n",
      "rougher.state.floatbank10_b_level                     0.003047\n",
      "rougher.state.floatbank10_a_level                     0.003047\n",
      "rougher.state.floatbank10_d_level                     0.002958\n",
      "rougher.state.floatbank10_e_level                     0.002958\n",
      "rougher.state.floatbank10_c_level                     0.002737\n",
      "primary_cleaner.state.floatbank8_a_air                0.002471\n",
      "primary_cleaner.state.floatbank8_b_air                0.002471\n",
      "primary_cleaner.state.floatbank8_d_air                0.002427\n",
      "primary_cleaner.state.floatbank8_c_air                0.002383\n",
      "primary_cleaner.state.floatbank8_a_level              0.002162\n",
      "rougher.calculation.floatbank10_sulfate_to_au_feed    0.001941\n",
      "rougher.calculation.sulfate_to_au_concentrate         0.001941\n",
      "rougher.calculation.floatbank11_sulfate_to_au_feed    0.001941\n",
      "primary_cleaner.state.floatbank8_b_level              0.001897\n",
      "primary_cleaner.state.floatbank8_c_level              0.001897\n",
      "primary_cleaner.state.floatbank8_d_level              0.001897\n",
      "primary_cleaner.input.feed_size                       0.000000\n",
      "date                                                  0.000000\n",
      "dtype: float64\n",
      "\n"
     ]
    }
   ],
   "source": [
    "pd.options.display.max_rows = 100\n",
    "for i in range(3):\n",
    "    print('\\033[1m' + names[i] + '\\033[0m'), print()\n",
    "    print((datasets[i].isna().sum() / datasets[i].count()).sort_values(ascending=False)), print()"
   ]
  },
  {
   "cell_type": "markdown",
   "metadata": {},
   "source": [
    "Проверим диапазон дат в датасетах"
   ]
  },
  {
   "cell_type": "code",
   "execution_count": 10,
   "metadata": {},
   "outputs": [
    {
     "name": "stdout",
     "output_type": "stream",
     "text": [
      "Диапазон дат в train: 2016-01-15 00:00:00 - 2018-08-18 10:59:59\n",
      "Диапазон дат в test: 2016-09-01 00:59:59 - 2017-12-31 23:59:59\n",
      "Диапазон дат в full: 2016-01-15 00:00:00 - 2018-08-18 10:59:59\n"
     ]
    }
   ],
   "source": [
    "for i in range(3):\n",
    "    print('Диапазон дат в {}: {} - {}'.format(names[i],datasets[i].date.min(),datasets[i].date.max()))"
   ]
  },
  {
   "cell_type": "markdown",
   "metadata": {},
   "source": [
    "### Вывод"
   ]
  },
  {
   "cell_type": "markdown",
   "metadata": {},
   "source": [
    "При первичном знакомстве с данными можно сделать сдледующие выводы:\n",
    "\n",
    "**Датасет train:**\n",
    "- размерер 16860 на 87;\n",
    "- 1 категориальный признак и 86 количественных;\n",
    "- отсутствуют полные дубликаты;\n",
    "- в датасете 2% пропущенных значений от общего количества;\n",
    "- больше всего пропущенных значений в признаках _rougher.output.recovery(18%), rougher.output.tail_ag(15%), rougher.output.tail_sol(15%), rougher.output.tail_au(15%)._ Признаки относятся к параметрам сырья.\n",
    "\n",
    "**Датасет test:**\n",
    "- размерер 5856 на 53;\n",
    "- 1 категориальный признак и 52 количественных;\n",
    "- отсутствуют полные дубликаты;\n",
    "- в датасете 0,8% пропущенных значений от общего количества;\n",
    "- больше всего пропущенных значений в признаках _rougher.input.floatbank11_xanthate(6%), primary_cleaner.input.sulfate(5%), primary_cleaner.input.depressant(5%), rougher.input.floatbank10_sulfate(5%)._\n",
    "\n",
    "**Датасет full:**\n",
    "- размерер 22716 на 87;\n",
    "- 1 категориальный признак и 86 количественных;\n",
    "- отсутствуют полные дубликаты;\n",
    "- в датасете 1,9% пропущенных значений от общего количества;\n",
    "- больше всего пропущенных значений в признаках _rougher.output.recovery(16%), rougher.output.tail_ag(14%), rougher.output.tail_sol(14%), rougher.output.tail_au(14%).\n",
    "\n",
    "Во всех датасетах поле date имеет текстовый тип данных, заменим его на datetime на этапе предобработки."
   ]
  },
  {
   "cell_type": "markdown",
   "metadata": {},
   "source": [
    "### 1.2. Расчет эффективности обогащения  <a name=\"1.2.\"></a>  \n",
    "[к содержанию](#0.0)"
   ]
  },
  {
   "cell_type": "markdown",
   "metadata": {},
   "source": [
    "Проверим, что эффективность обогащения рассчитана правильно. Вычислим её на обучающей выборке для признака rougher.output.recovery. Найдем MAE между нашими расчётами и значением признака."
   ]
  },
  {
   "cell_type": "markdown",
   "metadata": {},
   "source": [
    "Формула расчета эффективности обогащения:\n",
    "\n",
    "$$ Recovery = \\frac{C × (F - T)}{F × (C - T)} × 100%$$\n",
    "\n",
    "где:\n",
    "\n",
    "- C — доля золота в концентрате после флотации/очистки;\n",
    "- F — доля золота в сырье/концентрате до флотации/очистки;\n",
    "- T — доля золота в отвальных хвостах после флотации/очистки."
   ]
  },
  {
   "cell_type": "markdown",
   "metadata": {},
   "source": [
    "#### Расчитаем показатель Recovery.\n",
    "Для начала выведем все столбцы с этапом rougher и определим столбцы для расчета."
   ]
  },
  {
   "cell_type": "code",
   "execution_count": 11,
   "metadata": {},
   "outputs": [
    {
     "data": {
      "text/plain": [
       "['rougher.calculation.sulfate_to_au_concentrate',\n",
       " 'rougher.calculation.floatbank10_sulfate_to_au_feed',\n",
       " 'rougher.calculation.floatbank11_sulfate_to_au_feed',\n",
       " 'rougher.calculation.au_pb_ratio',\n",
       " 'rougher.input.feed_ag',\n",
       " 'rougher.input.feed_pb',\n",
       " 'rougher.input.feed_rate',\n",
       " 'rougher.input.feed_size',\n",
       " 'rougher.input.feed_sol',\n",
       " 'rougher.input.feed_au',\n",
       " 'rougher.input.floatbank10_sulfate',\n",
       " 'rougher.input.floatbank10_xanthate',\n",
       " 'rougher.input.floatbank11_sulfate',\n",
       " 'rougher.input.floatbank11_xanthate',\n",
       " 'rougher.output.concentrate_ag',\n",
       " 'rougher.output.concentrate_pb',\n",
       " 'rougher.output.concentrate_sol',\n",
       " 'rougher.output.concentrate_au',\n",
       " 'rougher.output.recovery',\n",
       " 'rougher.output.tail_ag',\n",
       " 'rougher.output.tail_pb',\n",
       " 'rougher.output.tail_sol',\n",
       " 'rougher.output.tail_au',\n",
       " 'rougher.state.floatbank10_a_air',\n",
       " 'rougher.state.floatbank10_a_level',\n",
       " 'rougher.state.floatbank10_b_air',\n",
       " 'rougher.state.floatbank10_b_level',\n",
       " 'rougher.state.floatbank10_c_air',\n",
       " 'rougher.state.floatbank10_c_level',\n",
       " 'rougher.state.floatbank10_d_air',\n",
       " 'rougher.state.floatbank10_d_level',\n",
       " 'rougher.state.floatbank10_e_air',\n",
       " 'rougher.state.floatbank10_e_level',\n",
       " 'rougher.state.floatbank10_f_air',\n",
       " 'rougher.state.floatbank10_f_level']"
      ]
     },
     "execution_count": 11,
     "metadata": {},
     "output_type": "execute_result"
    }
   ],
   "source": [
    "[i for i in train.columns if not i.find('rougher')]"
   ]
  },
  {
   "cell_type": "markdown",
   "metadata": {},
   "source": [
    "В соответствий с формулой, возмем для расчета следующие столбцы:\n",
    "- C — доля золота в концентрате после флотации/очистки - **rougher.output.concentrate_au;**\n",
    "- F — доля золота в сырье/концентрате до флотации/очистки - **rougher.input.feed_au;**\n",
    "- T — доля золота в отвальных хвостах после флотации/очистки - **rougher.output.tail_au.**"
   ]
  },
  {
   "cell_type": "markdown",
   "metadata": {},
   "source": [
    "Продулируем датасет train"
   ]
  },
  {
   "cell_type": "code",
   "execution_count": 12,
   "metadata": {},
   "outputs": [],
   "source": [
    "temp_train = train.copy()\n",
    "temp_train.dropna(inplace=True)"
   ]
  },
  {
   "cell_type": "markdown",
   "metadata": {},
   "source": [
    "Присвоим значение переменным"
   ]
  },
  {
   "cell_type": "code",
   "execution_count": 13,
   "metadata": {},
   "outputs": [],
   "source": [
    "C = temp_train['rougher.output.concentrate_au']\n",
    "F = temp_train['rougher.input.feed_au']\n",
    "T = temp_train['rougher.output.tail_au']"
   ]
  },
  {
   "cell_type": "markdown",
   "metadata": {},
   "source": [
    "Значение показателя recovery находится в столбце _**rougher.output.recovery**._ Созданим столбец _**rougher.output.recovery.check**_ и расчитаем по формуле."
   ]
  },
  {
   "cell_type": "code",
   "execution_count": 14,
   "metadata": {},
   "outputs": [],
   "source": [
    "temp_train['rougher.output.recovery.check'] = (C * (F - T)) / (F * (C - T)) * 100"
   ]
  },
  {
   "cell_type": "markdown",
   "metadata": {},
   "source": [
    "Найдем MAE между нашими расчётами и значением признака"
   ]
  },
  {
   "cell_type": "code",
   "execution_count": 15,
   "metadata": {},
   "outputs": [
    {
     "name": "stdout",
     "output_type": "stream",
     "text": [
      "MAE recovery: 9.555596961987514e-15\n"
     ]
    }
   ],
   "source": [
    "MAE = mean_absolute_error(temp_train['rougher.output.recovery'],temp_train['rougher.output.recovery.check'])\n",
    "print('MAE recovery: {}'.format(MAE))"
   ]
  },
  {
   "cell_type": "markdown",
   "metadata": {},
   "source": [
    "### Вывод"
   ]
  },
  {
   "cell_type": "markdown",
   "metadata": {},
   "source": [
    "Метрика MAE показывает очень маленькое значение, это значит что показатель recovery в тренировочной выборке расчитан верно."
   ]
  },
  {
   "cell_type": "markdown",
   "metadata": {},
   "source": [
    " ### 1.3. Анализ признаков.  <a name=\"1.3.\"></a>  \n",
    "[к содержанию](#0.0)"
   ]
  },
  {
   "cell_type": "markdown",
   "metadata": {},
   "source": [
    "Проанализируем признаки, недоступные в тестовой выборке. Что это за параметры? К какому типу относятся?"
   ]
  },
  {
   "cell_type": "code",
   "execution_count": 16,
   "metadata": {},
   "outputs": [
    {
     "name": "stdout",
     "output_type": "stream",
     "text": [
      "final.output.concentrate_ag\n",
      "final.output.concentrate_pb\n",
      "final.output.concentrate_sol\n",
      "final.output.concentrate_au\n",
      "final.output.recovery\n",
      "final.output.tail_ag\n",
      "final.output.tail_pb\n",
      "final.output.tail_sol\n",
      "final.output.tail_au\n",
      "primary_cleaner.output.concentrate_ag\n",
      "primary_cleaner.output.concentrate_pb\n",
      "primary_cleaner.output.concentrate_sol\n",
      "primary_cleaner.output.concentrate_au\n",
      "primary_cleaner.output.tail_ag\n",
      "primary_cleaner.output.tail_pb\n",
      "primary_cleaner.output.tail_sol\n",
      "primary_cleaner.output.tail_au\n",
      "rougher.calculation.sulfate_to_au_concentrate\n",
      "rougher.calculation.floatbank10_sulfate_to_au_feed\n",
      "rougher.calculation.floatbank11_sulfate_to_au_feed\n",
      "rougher.calculation.au_pb_ratio\n",
      "rougher.output.concentrate_ag\n",
      "rougher.output.concentrate_pb\n",
      "rougher.output.concentrate_sol\n",
      "rougher.output.concentrate_au\n",
      "rougher.output.recovery\n",
      "rougher.output.tail_ag\n",
      "rougher.output.tail_pb\n",
      "rougher.output.tail_sol\n",
      "rougher.output.tail_au\n",
      "secondary_cleaner.output.tail_ag\n",
      "secondary_cleaner.output.tail_pb\n",
      "secondary_cleaner.output.tail_sol\n",
      "secondary_cleaner.output.tail_au\n"
     ]
    }
   ],
   "source": [
    "l = 0\n",
    "for col in train.columns: \n",
    "    if col not in test.columns:\n",
    "        l += 1\n",
    "        print(col)\n"
   ]
  },
  {
   "cell_type": "code",
   "execution_count": 17,
   "metadata": {},
   "outputs": [
    {
     "name": "stdout",
     "output_type": "stream",
     "text": [
      "Количество признаков, отсутствующих в тест.выборке: 34\n"
     ]
    }
   ],
   "source": [
    "print('Количество признаков, отсутствующих в тест.выборке:', l)"
   ]
  },
  {
   "cell_type": "markdown",
   "metadata": {},
   "source": [
    "Как было указано в описании задачи - некоторые параметры недоступны, потому что замеряются и/или рассчитываются значительно позже. Из-за этого в тестовой выборке отсутствуют некоторые признаки, которые могут быть в обучающей. Также в тестовом наборе нет целевых признаков.\n",
    "\n",
    "Отсутствуют признаки с типом параметра **output(параметры продукта)** и **calculation(расчетные характеристики).** Отсутствующие целевые признаки - **final.output.recovery, rougher.output.recovery.** Тип данных всех столбцов, содержащих признаки - float."
   ]
  },
  {
   "cell_type": "markdown",
   "metadata": {},
   "source": [
    "## 1.4. Предобработка данных  <a name=\"1.4.\"></a>  \n",
    "[к содержанию](#0.0)"
   ]
  },
  {
   "cell_type": "code",
   "execution_count": 18,
   "metadata": {},
   "outputs": [],
   "source": [
    "train_clear = train.copy()\n",
    "test_clear = test.copy()\n",
    "full_clear = full.copy()\n",
    "\n",
    "clear_datasets = [train_clear, test_clear, full_clear]"
   ]
  },
  {
   "cell_type": "markdown",
   "metadata": {},
   "source": [
    "Заменим тип данных поля date во всех датасетах на datetime"
   ]
  },
  {
   "cell_type": "code",
   "execution_count": 19,
   "metadata": {},
   "outputs": [],
   "source": [
    "for i in clear_datasets:\n",
    "    i.date = pd.to_datetime(i.date)"
   ]
  },
  {
   "cell_type": "markdown",
   "metadata": {},
   "source": [
    "#### Обработаем пропуска"
   ]
  },
  {
   "cell_type": "markdown",
   "metadata": {},
   "source": [
    "В наших данных большое количество пустых значений, для начала удалим строки, где есть пропуски в целевых признаках.\n",
    "Так как в тестовой выборке нет целевых признаков, добавим их из выборки full "
   ]
  },
  {
   "cell_type": "code",
   "execution_count": 20,
   "metadata": {},
   "outputs": [],
   "source": [
    "test_clear = test_clear.merge(full_clear[['date', 'rougher.output.recovery', 'final.output.recovery']],\n",
    "                              how = 'left', on = 'date')"
   ]
  },
  {
   "cell_type": "code",
   "execution_count": 21,
   "metadata": {},
   "outputs": [
    {
     "data": {
      "text/plain": [
       "(5856, 55)"
      ]
     },
     "execution_count": 21,
     "metadata": {},
     "output_type": "execute_result"
    }
   ],
   "source": [
    "test_clear.shape"
   ]
  },
  {
   "cell_type": "code",
   "execution_count": 22,
   "metadata": {},
   "outputs": [],
   "source": [
    "target_columns = ['rougher.output.recovery', 'final.output.recovery']\n",
    "\n",
    "full_clear.dropna(subset=target_columns, inplace=True)\n",
    "train_clear.dropna(subset=target_columns, inplace=True)\n",
    "test_clear.dropna(subset=target_columns, inplace=True)"
   ]
  },
  {
   "cell_type": "markdown",
   "metadata": {},
   "source": [
    "Пропущенные значения в остальных признаках заменим методом ffil"
   ]
  },
  {
   "cell_type": "code",
   "execution_count": 23,
   "metadata": {},
   "outputs": [],
   "source": [
    "full_clear = full_clear.fillna(method = 'ffill')\n",
    "train_clear = train_clear.fillna(method = 'ffill')\n",
    "test_clear = test_clear.fillna(method = 'ffill')"
   ]
  },
  {
   "cell_type": "markdown",
   "metadata": {},
   "source": [
    "Проверим наличие пропусков"
   ]
  },
  {
   "cell_type": "code",
   "execution_count": 24,
   "metadata": {},
   "outputs": [
    {
     "data": {
      "text/plain": [
       "[0, 0, 0]"
      ]
     },
     "execution_count": 24,
     "metadata": {},
     "output_type": "execute_result"
    }
   ],
   "source": [
    "clear_datasets = [train_clear, test_clear, full_clear]\n",
    "[dataset.isnull().sum().sum() for dataset in clear_datasets]"
   ]
  },
  {
   "cell_type": "markdown",
   "metadata": {},
   "source": [
    "В тренировочной выборке оставим только те признаки, которые есть в обучающей"
   ]
  },
  {
   "cell_type": "code",
   "execution_count": 25,
   "metadata": {},
   "outputs": [
    {
     "data": {
      "text/plain": [
       "(5290, 55)"
      ]
     },
     "execution_count": 25,
     "metadata": {},
     "output_type": "execute_result"
    }
   ],
   "source": [
    "test_cols = test_clear.columns\n",
    "train_clear = train_clear[test_cols]\n",
    "test_clear.shape"
   ]
  },
  {
   "cell_type": "markdown",
   "metadata": {},
   "source": [
    "### Вывод"
   ]
  },
  {
   "cell_type": "markdown",
   "metadata": {},
   "source": [
    "На данном этапе была выполнена следующая предобработка:\n",
    "- поле Date преобразовано в формат datetime;\n",
    "- удалены строки где присутствовали пропуски в целевых признаках;\n",
    "- остальные пропущенные значения заменены методом ffill;\n",
    "- как выяснили на этапе знакомства с данными - полные дубликаты отсутствуют;\n",
    "- из обучающего датасета удалены признаки, отсутствующие в тестовом датасете."
   ]
  },
  {
   "cell_type": "markdown",
   "metadata": {},
   "source": [
    "## 2. Анализ данных  <a name=\"2.\"></a>  \n",
    "[к содержанию](#0.0)"
   ]
  },
  {
   "cell_type": "markdown",
   "metadata": {},
   "source": [
    "### 2.1. Анализ концентрации металлов (Au, Ag, Pb) на различных этапах очистки  <a name=\"2.1.\"></a>  \n",
    "[к содержанию](#0.0)"
   ]
  },
  {
   "cell_type": "markdown",
   "metadata": {},
   "source": [
    "Напишем функцию для построения гистограм концентрации металлов на каждом этапе."
   ]
  },
  {
   "cell_type": "code",
   "execution_count": 26,
   "metadata": {},
   "outputs": [],
   "source": [
    "def plots(metal):\n",
    "    '''\n",
    "    Принимает название металла, возвращает распределения концентрации метала на разных этапах очистки\n",
    "    '''\n",
    "    stages = ['rougher.input.feed_' + metal, \n",
    "              'rougher.output.concentrate_' + metal,\n",
    "              'primary_cleaner.output.concentrate_' + metal, \n",
    "              'final.output.concentrate_' + metal]\n",
    "    sns.displot(full_clear[stages], legend=True, kde=True, height=7, aspect=2, bins=100)\n",
    "    plt.title('Kонцентрации металла ' + metal + ' на различных этапах очистки', fontsize=17)\n",
    "\n",
    "    plt.figure(figsize=(13,7))\n",
    "    sns.boxplot(data=full_clear[stages])"
   ]
  },
  {
   "cell_type": "markdown",
   "metadata": {},
   "source": [
    "#### Золото\n",
    "\n",
    "Посмотрим распределения концентрации золота."
   ]
  },
  {
   "cell_type": "code",
   "execution_count": 27,
   "metadata": {},
   "outputs": [
    {
     "data": {
      "image/png": "[encoded data removed]",
      "text/plain": [
       "<Figure size 1241.12x504 with 1 Axes>"
      ]
     },
     "metadata": {
      "needs_background": "light"
     },
     "output_type": "display_data"
    },
    {
     "data": {
      "image/png": "[encoded data removed]",
      "text/plain": [
       "<Figure size 936x504 with 1 Axes>"
      ]
     },
     "metadata": {
      "needs_background": "light"
     },
     "output_type": "display_data"
    }
   ],
   "source": [
    "plots('au')"
   ]
  },
  {
   "cell_type": "markdown",
   "metadata": {},
   "source": [
    "Концентрация золота возрастает на каждом этапе в процессе очистки. Самая высокая концентрация на этапе final.output.concentrate_au, а самая маленькая на этапе rougher.input.feed_au. Также на графиках можно отметить довольно большое к-во выбросов, почти на всех этапах."
   ]
  },
  {
   "cell_type": "markdown",
   "metadata": {},
   "source": [
    "#### Золото\n",
    "\n",
    "Посмотрим распределения концентрации серебра."
   ]
  },
  {
   "cell_type": "code",
   "execution_count": 28,
   "metadata": {},
   "outputs": [
    {
     "data": {
      "image/png": "[encoded data removed]",
      "text/plain": [
       "<Figure size 1241.12x504 with 1 Axes>"
      ]
     },
     "metadata": {
      "needs_background": "light"
     },
     "output_type": "display_data"
    },
    {
     "data": {
      "image/png": "[encoded data removed]",
      "text/plain": [
       "<Figure size 936x504 with 1 Axes>"
      ]
     },
     "metadata": {
      "needs_background": "light"
     },
     "output_type": "display_data"
    }
   ],
   "source": [
    "plots('ag')"
   ]
  },
  {
   "cell_type": "markdown",
   "metadata": {},
   "source": [
    "Максимальная концентрация серебра наблюдается на втором этапе очистки - rougher.output.concentrate_sg, далее она снижается и на финальном этапе становится меньшей чем на первом. Выбросов также довольно много.\n"
   ]
  },
  {
   "cell_type": "markdown",
   "metadata": {},
   "source": [
    "#### Свинец\n",
    "\n",
    "Посмотрим распределения концентрации серебра."
   ]
  },
  {
   "cell_type": "code",
   "execution_count": 29,
   "metadata": {},
   "outputs": [
    {
     "data": {
      "image/png": "[encoded data removed]",
      "text/plain": [
       "<Figure size 1241.12x504 with 1 Axes>"
      ]
     },
     "metadata": {
      "needs_background": "light"
     },
     "output_type": "display_data"
    },
    {
     "data": {
      "image/png": "[encoded data removed]",
      "text/plain": [
       "<Figure size 936x504 with 1 Axes>"
      ]
     },
     "metadata": {
      "needs_background": "light"
     },
     "output_type": "display_data"
    }
   ],
   "source": [
    "plots('pb')"
   ]
  },
  {
   "cell_type": "markdown",
   "metadata": {},
   "source": [
    "Концентрация свинца возрастает до третьего этапа очистки, на финалном этапе остается почти такой-же, о чем говорит равенство медиан. Важно отметить длинные хвосты на третьем этапе, что говорит о больших выбросах."
   ]
  },
  {
   "cell_type": "markdown",
   "metadata": {},
   "source": [
    "### 2.2. Анализ размеров гранул сырья на обучающей и тестовой выборках  <a name=\"2.2.\"></a>  \n",
    "[к содержанию](#0.0)"
   ]
  },
  {
   "cell_type": "markdown",
   "metadata": {},
   "source": [
    "Сравним распределения размеров гранул сырья на обучающей и тестовой выборках. Если распределения сильно отличаются друг от друга, оценка модели будет неправильной."
   ]
  },
  {
   "cell_type": "markdown",
   "metadata": {},
   "source": [
    "Проверим распределения на этапе флотации, объединим столбцы из обучающего и тестового датасета\n"
   ]
  },
  {
   "cell_type": "code",
   "execution_count": 30,
   "metadata": {},
   "outputs": [
    {
     "data": {
      "image/png": "[encoded data removed]",
      "text/plain": [
       "<Figure size 923.375x432 with 1 Axes>"
      ]
     },
     "metadata": {
      "needs_background": "light"
     },
     "output_type": "display_data"
    },
    {
     "data": {
      "text/html": [
       "<div>\n",
       "<style scoped>\n",
       "    .dataframe tbody tr th:only-of-type {\n",
       "        vertical-align: middle;\n",
       "    }\n",
       "\n",
       "    .dataframe tbody tr th {\n",
       "        vertical-align: top;\n",
       "    }\n",
       "\n",
       "    .dataframe thead th {\n",
       "        text-align: right;\n",
       "    }\n",
       "</style>\n",
       "<table border=\"1\" class=\"dataframe\">\n",
       "  <thead>\n",
       "    <tr style=\"text-align: right;\">\n",
       "      <th></th>\n",
       "      <th>train</th>\n",
       "      <th>test</th>\n",
       "    </tr>\n",
       "  </thead>\n",
       "  <tbody>\n",
       "    <tr>\n",
       "      <th>count</th>\n",
       "      <td>14149.000000</td>\n",
       "      <td>5290.000000</td>\n",
       "    </tr>\n",
       "    <tr>\n",
       "      <th>mean</th>\n",
       "      <td>60.239856</td>\n",
       "      <td>55.952754</td>\n",
       "    </tr>\n",
       "    <tr>\n",
       "      <th>std</th>\n",
       "      <td>23.005310</td>\n",
       "      <td>19.080334</td>\n",
       "    </tr>\n",
       "    <tr>\n",
       "      <th>min</th>\n",
       "      <td>9.659576</td>\n",
       "      <td>0.046369</td>\n",
       "    </tr>\n",
       "    <tr>\n",
       "      <th>25%</th>\n",
       "      <td>48.966751</td>\n",
       "      <td>43.906504</td>\n",
       "    </tr>\n",
       "    <tr>\n",
       "      <th>50%</th>\n",
       "      <td>55.269784</td>\n",
       "      <td>50.846843</td>\n",
       "    </tr>\n",
       "    <tr>\n",
       "      <th>75%</th>\n",
       "      <td>66.007526</td>\n",
       "      <td>62.451165</td>\n",
       "    </tr>\n",
       "    <tr>\n",
       "      <th>max</th>\n",
       "      <td>484.967466</td>\n",
       "      <td>392.494040</td>\n",
       "    </tr>\n",
       "  </tbody>\n",
       "</table>\n",
       "</div>"
      ],
      "text/plain": [
       "              train         test\n",
       "count  14149.000000  5290.000000\n",
       "mean      60.239856    55.952754\n",
       "std       23.005310    19.080334\n",
       "min        9.659576     0.046369\n",
       "25%       48.966751    43.906504\n",
       "50%       55.269784    50.846843\n",
       "75%       66.007526    62.451165\n",
       "max      484.967466   392.494040"
      ]
     },
     "execution_count": 30,
     "metadata": {},
     "output_type": "execute_result"
    }
   ],
   "source": [
    "rougher_input = \\\n",
    "    pd.concat([train_clear['rougher.input.feed_size'], test_clear['rougher.input.feed_size']], axis=1)\n",
    "rougher_input.columns = ['train', 'test']\n",
    "\n",
    "sns.displot(rougher_input, legend=True,kde=True, height=6, aspect=2)\n",
    "plt.title('Распределение размеров гранул сырья на этапе флотации', fontsize=16)\n",
    "plt.show()\n",
    "\n",
    "rougher_input.describe()"
   ]
  },
  {
   "cell_type": "markdown",
   "metadata": {},
   "source": [
    "На этапе флотации распределения не сильно различаются в обучающей и тестовой выборке. Проверим этап первичной очистки"
   ]
  },
  {
   "cell_type": "code",
   "execution_count": 31,
   "metadata": {},
   "outputs": [
    {
     "data": {
      "image/png": "[encoded data removed]",
      "text/plain": [
       "<Figure size 923.375x432 with 1 Axes>"
      ]
     },
     "metadata": {
      "needs_background": "light"
     },
     "output_type": "display_data"
    },
    {
     "data": {
      "text/html": [
       "<div>\n",
       "<style scoped>\n",
       "    .dataframe tbody tr th:only-of-type {\n",
       "        vertical-align: middle;\n",
       "    }\n",
       "\n",
       "    .dataframe tbody tr th {\n",
       "        vertical-align: top;\n",
       "    }\n",
       "\n",
       "    .dataframe thead th {\n",
       "        text-align: right;\n",
       "    }\n",
       "</style>\n",
       "<table border=\"1\" class=\"dataframe\">\n",
       "  <thead>\n",
       "    <tr style=\"text-align: right;\">\n",
       "      <th></th>\n",
       "      <th>train</th>\n",
       "      <th>test</th>\n",
       "    </tr>\n",
       "  </thead>\n",
       "  <tbody>\n",
       "    <tr>\n",
       "      <th>count</th>\n",
       "      <td>14149.000000</td>\n",
       "      <td>5290.000000</td>\n",
       "    </tr>\n",
       "    <tr>\n",
       "      <th>mean</th>\n",
       "      <td>7.322310</td>\n",
       "      <td>7.266339</td>\n",
       "    </tr>\n",
       "    <tr>\n",
       "      <th>std</th>\n",
       "      <td>0.614062</td>\n",
       "      <td>0.610219</td>\n",
       "    </tr>\n",
       "    <tr>\n",
       "      <th>min</th>\n",
       "      <td>1.080000</td>\n",
       "      <td>5.650000</td>\n",
       "    </tr>\n",
       "    <tr>\n",
       "      <th>25%</th>\n",
       "      <td>6.960000</td>\n",
       "      <td>6.890000</td>\n",
       "    </tr>\n",
       "    <tr>\n",
       "      <th>50%</th>\n",
       "      <td>7.290000</td>\n",
       "      <td>7.250000</td>\n",
       "    </tr>\n",
       "    <tr>\n",
       "      <th>75%</th>\n",
       "      <td>7.700000</td>\n",
       "      <td>7.600000</td>\n",
       "    </tr>\n",
       "    <tr>\n",
       "      <th>max</th>\n",
       "      <td>10.470000</td>\n",
       "      <td>15.500000</td>\n",
       "    </tr>\n",
       "  </tbody>\n",
       "</table>\n",
       "</div>"
      ],
      "text/plain": [
       "              train         test\n",
       "count  14149.000000  5290.000000\n",
       "mean       7.322310     7.266339\n",
       "std        0.614062     0.610219\n",
       "min        1.080000     5.650000\n",
       "25%        6.960000     6.890000\n",
       "50%        7.290000     7.250000\n",
       "75%        7.700000     7.600000\n",
       "max       10.470000    15.500000"
      ]
     },
     "execution_count": 31,
     "metadata": {},
     "output_type": "execute_result"
    }
   ],
   "source": [
    "primary_cleaner_input = \\\n",
    "    pd.concat([train_clear['primary_cleaner.input.feed_size'], test_clear['primary_cleaner.input.feed_size']], axis=1)\n",
    "primary_cleaner_input.columns = ['train', 'test']\n",
    "\n",
    "sns.displot(primary_cleaner_input, legend=True,kde=True, height=6, aspect=2)\n",
    "plt.title('Распределение размеров гранул сырья на этапе первичной очистки', fontsize=16)\n",
    "plt.show()\n",
    "\n",
    "primary_cleaner_input.describe()"
   ]
  },
  {
   "cell_type": "markdown",
   "metadata": {},
   "source": [
    "На этапе первичной очистки распределения размера гранул также сильно не отличаюся. Незначительная разница распределений не должна критично влиять на качество модели."
   ]
  },
  {
   "cell_type": "markdown",
   "metadata": {},
   "source": [
    "### 2.3. Анализ суммарной концентрации всех веществ на разных стадиях  <a name=\"2.3.\"></a>  \n",
    "[к содержанию](#0.0)"
   ]
  },
  {
   "cell_type": "markdown",
   "metadata": {},
   "source": [
    "Исследуем суммарную концентрацию всех веществ на разных стадиях: в сырье, в черновом и финальном концентратах. "
   ]
  },
  {
   "cell_type": "markdown",
   "metadata": {},
   "source": [
    "Для начала просуммируем концентрацию всех металлов из предобработанного датасета full_clear"
   ]
  },
  {
   "cell_type": "code",
   "execution_count": 32,
   "metadata": {},
   "outputs": [],
   "source": [
    "metals = ['au', 'ag', 'pb']\n",
    "first, second, third, fourth  = 'rougher.input.feed_', 'rougher.output.concentrate_', \\\n",
    "    'primary_cleaner.output.concentrate_', 'final.output.concentrate_'\n",
    "\n",
    "full_clear['сырье'] = full_clear[[first + i for i in metals]].sum(axis=1)\n",
    "full_clear['черновой концентрат'] = full_clear[[second + i for i in metals]].sum(axis=1)\n",
    "full_clear['концентрат после очистки'] = full_clear[[third + i for i in metals]].sum(axis=1)\n",
    "full_clear['финальный концентрат'] = full_clear[[fourth + i for i in metals]].sum(axis=1)"
   ]
  },
  {
   "cell_type": "code",
   "execution_count": 33,
   "metadata": {},
   "outputs": [],
   "source": [
    "sum_concentration = full_clear[['сырье', 'черновой концентрат', 'концентрат после очистки', 'финальный концентрат']]"
   ]
  },
  {
   "cell_type": "code",
   "execution_count": 34,
   "metadata": {},
   "outputs": [
    {
     "data": {
      "image/png": "[encoded data removed]",
      "text/plain": [
       "<Figure size 1185.25x504 with 1 Axes>"
      ]
     },
     "metadata": {
      "needs_background": "light"
     },
     "output_type": "display_data"
    },
    {
     "data": {
      "image/png": "[encoded data removed]",
      "text/plain": [
       "<Figure size 936x504 with 1 Axes>"
      ]
     },
     "metadata": {
      "needs_background": "light"
     },
     "output_type": "display_data"
    },
    {
     "data": {
      "text/html": [
       "<div>\n",
       "<style scoped>\n",
       "    .dataframe tbody tr th:only-of-type {\n",
       "        vertical-align: middle;\n",
       "    }\n",
       "\n",
       "    .dataframe tbody tr th {\n",
       "        vertical-align: top;\n",
       "    }\n",
       "\n",
       "    .dataframe thead th {\n",
       "        text-align: right;\n",
       "    }\n",
       "</style>\n",
       "<table border=\"1\" class=\"dataframe\">\n",
       "  <thead>\n",
       "    <tr style=\"text-align: right;\">\n",
       "      <th></th>\n",
       "      <th>сырье</th>\n",
       "      <th>черновой концентрат</th>\n",
       "      <th>концентрат после очистки</th>\n",
       "      <th>финальный концентрат</th>\n",
       "    </tr>\n",
       "  </thead>\n",
       "  <tbody>\n",
       "    <tr>\n",
       "      <th>count</th>\n",
       "      <td>19439.000000</td>\n",
       "      <td>19439.000000</td>\n",
       "      <td>19439.000000</td>\n",
       "      <td>19439.000000</td>\n",
       "    </tr>\n",
       "    <tr>\n",
       "      <th>mean</th>\n",
       "      <td>20.646120</td>\n",
       "      <td>39.373032</td>\n",
       "      <td>50.372125</td>\n",
       "      <td>59.223721</td>\n",
       "    </tr>\n",
       "    <tr>\n",
       "      <th>std</th>\n",
       "      <td>4.480027</td>\n",
       "      <td>6.863389</td>\n",
       "      <td>7.628095</td>\n",
       "      <td>6.095138</td>\n",
       "    </tr>\n",
       "    <tr>\n",
       "      <th>min</th>\n",
       "      <td>0.030000</td>\n",
       "      <td>0.000000</td>\n",
       "      <td>0.000000</td>\n",
       "      <td>0.000000</td>\n",
       "    </tr>\n",
       "    <tr>\n",
       "      <th>25%</th>\n",
       "      <td>17.252879</td>\n",
       "      <td>38.394639</td>\n",
       "      <td>50.053899</td>\n",
       "      <td>59.298323</td>\n",
       "    </tr>\n",
       "    <tr>\n",
       "      <th>50%</th>\n",
       "      <td>20.141216</td>\n",
       "      <td>40.312648</td>\n",
       "      <td>51.909156</td>\n",
       "      <td>60.306921</td>\n",
       "    </tr>\n",
       "    <tr>\n",
       "      <th>75%</th>\n",
       "      <td>23.797381</td>\n",
       "      <td>42.365102</td>\n",
       "      <td>53.386898</td>\n",
       "      <td>61.096667</td>\n",
       "    </tr>\n",
       "    <tr>\n",
       "      <th>max</th>\n",
       "      <td>33.498784</td>\n",
       "      <td>55.568687</td>\n",
       "      <td>60.269003</td>\n",
       "      <td>64.968881</td>\n",
       "    </tr>\n",
       "  </tbody>\n",
       "</table>\n",
       "</div>"
      ],
      "text/plain": [
       "              сырье  черновой концентрат  концентрат после очистки  \\\n",
       "count  19439.000000         19439.000000              19439.000000   \n",
       "mean      20.646120            39.373032                 50.372125   \n",
       "std        4.480027             6.863389                  7.628095   \n",
       "min        0.030000             0.000000                  0.000000   \n",
       "25%       17.252879            38.394639                 50.053899   \n",
       "50%       20.141216            40.312648                 51.909156   \n",
       "75%       23.797381            42.365102                 53.386898   \n",
       "max       33.498784            55.568687                 60.269003   \n",
       "\n",
       "       финальный концентрат  \n",
       "count          19439.000000  \n",
       "mean              59.223721  \n",
       "std                6.095138  \n",
       "min                0.000000  \n",
       "25%               59.298323  \n",
       "50%               60.306921  \n",
       "75%               61.096667  \n",
       "max               64.968881  "
      ]
     },
     "execution_count": 34,
     "metadata": {},
     "output_type": "execute_result"
    }
   ],
   "source": [
    "sns.displot(sum_concentration, legend=True, kde=True, height=7, aspect=2, bins=100)\n",
    "plt.title('Суммарная концентрация всех веществ на разных стадиях', fontsize=17)\n",
    "\n",
    "plt.figure(figsize=(13,7))\n",
    "sns.boxplot(data=sum_concentration)\n",
    "plt.show()\n",
    "\n",
    "sum_concentration.describe()"
   ]
  },
  {
   "cell_type": "markdown",
   "metadata": {},
   "source": [
    "На графиках можно увидить, что распределения имеют аномальные значения - ноль и близкие к нему на всех стадиях очистки. Данные значения не ненут за собой полезной информации, но при этом могут негативно сказаться на качестве модели. Проверим к-во объектов со значением 0 и значениями меньше 1."
   ]
  },
  {
   "cell_type": "code",
   "execution_count": 35,
   "metadata": {},
   "outputs": [
    {
     "name": "stdout",
     "output_type": "stream",
     "text": [
      "сырье 5\n",
      "черновой концентрат 399\n",
      "концентрат после очистки 229\n",
      "финальный концентрат 99\n"
     ]
    }
   ],
   "source": [
    "columns = sum_concentration.columns\n",
    "for i in columns:\n",
    "    print(i, sum_concentration[sum_concentration[i] < 1][i].count())"
   ]
  },
  {
   "cell_type": "markdown",
   "metadata": {},
   "source": [
    "Удалим значения до единицы из общей выборки full_clear"
   ]
  },
  {
   "cell_type": "code",
   "execution_count": 36,
   "metadata": {},
   "outputs": [
    {
     "data": {
      "text/plain": [
       "(18721, 91)"
      ]
     },
     "execution_count": 36,
     "metadata": {},
     "output_type": "execute_result"
    }
   ],
   "source": [
    "full_clear = full_clear[(full_clear['сырье'] >  1) & (full_clear['черновой концентрат'] > 1) & \\\n",
    "    (full_clear['концентрат после очистки'] > 1) & (full_clear['финальный концентрат'] > 1)]\n",
    "\n",
    "full_clear.shape"
   ]
  },
  {
   "cell_type": "code",
   "execution_count": 37,
   "metadata": {},
   "outputs": [
    {
     "data": {
      "text/html": [
       "<div>\n",
       "<style scoped>\n",
       "    .dataframe tbody tr th:only-of-type {\n",
       "        vertical-align: middle;\n",
       "    }\n",
       "\n",
       "    .dataframe tbody tr th {\n",
       "        vertical-align: top;\n",
       "    }\n",
       "\n",
       "    .dataframe thead th {\n",
       "        text-align: right;\n",
       "    }\n",
       "</style>\n",
       "<table border=\"1\" class=\"dataframe\">\n",
       "  <thead>\n",
       "    <tr style=\"text-align: right;\">\n",
       "      <th></th>\n",
       "      <th>сырье</th>\n",
       "      <th>черновой концентрат</th>\n",
       "      <th>концентрат после очистки</th>\n",
       "      <th>финальный концентрат</th>\n",
       "    </tr>\n",
       "  </thead>\n",
       "  <tbody>\n",
       "    <tr>\n",
       "      <th>count</th>\n",
       "      <td>18721.000000</td>\n",
       "      <td>18721.000000</td>\n",
       "      <td>18721.000000</td>\n",
       "      <td>18721.000000</td>\n",
       "    </tr>\n",
       "    <tr>\n",
       "      <th>mean</th>\n",
       "      <td>20.650243</td>\n",
       "      <td>40.212048</td>\n",
       "      <td>50.964122</td>\n",
       "      <td>59.537313</td>\n",
       "    </tr>\n",
       "    <tr>\n",
       "      <th>std</th>\n",
       "      <td>4.431189</td>\n",
       "      <td>3.823193</td>\n",
       "      <td>5.209286</td>\n",
       "      <td>4.263810</td>\n",
       "    </tr>\n",
       "    <tr>\n",
       "      <th>min</th>\n",
       "      <td>2.560855</td>\n",
       "      <td>1.137053</td>\n",
       "      <td>1.037408</td>\n",
       "      <td>1.685441</td>\n",
       "    </tr>\n",
       "    <tr>\n",
       "      <th>25%</th>\n",
       "      <td>17.238008</td>\n",
       "      <td>38.537325</td>\n",
       "      <td>50.123640</td>\n",
       "      <td>59.307366</td>\n",
       "    </tr>\n",
       "    <tr>\n",
       "      <th>50%</th>\n",
       "      <td>20.136186</td>\n",
       "      <td>40.381394</td>\n",
       "      <td>51.916945</td>\n",
       "      <td>60.303141</td>\n",
       "    </tr>\n",
       "    <tr>\n",
       "      <th>75%</th>\n",
       "      <td>23.787611</td>\n",
       "      <td>42.411418</td>\n",
       "      <td>53.362292</td>\n",
       "      <td>61.086650</td>\n",
       "    </tr>\n",
       "    <tr>\n",
       "      <th>max</th>\n",
       "      <td>33.498784</td>\n",
       "      <td>55.568687</td>\n",
       "      <td>60.106566</td>\n",
       "      <td>64.968881</td>\n",
       "    </tr>\n",
       "  </tbody>\n",
       "</table>\n",
       "</div>"
      ],
      "text/plain": [
       "              сырье  черновой концентрат  концентрат после очистки  \\\n",
       "count  18721.000000         18721.000000              18721.000000   \n",
       "mean      20.650243            40.212048                 50.964122   \n",
       "std        4.431189             3.823193                  5.209286   \n",
       "min        2.560855             1.137053                  1.037408   \n",
       "25%       17.238008            38.537325                 50.123640   \n",
       "50%       20.136186            40.381394                 51.916945   \n",
       "75%       23.787611            42.411418                 53.362292   \n",
       "max       33.498784            55.568687                 60.106566   \n",
       "\n",
       "       финальный концентрат  \n",
       "count          18721.000000  \n",
       "mean              59.537313  \n",
       "std                4.263810  \n",
       "min                1.685441  \n",
       "25%               59.307366  \n",
       "50%               60.303141  \n",
       "75%               61.086650  \n",
       "max               64.968881  "
      ]
     },
     "execution_count": 37,
     "metadata": {},
     "output_type": "execute_result"
    },
    {
     "data": {
      "image/png": "[encoded data removed]",
      "text/plain": [
       "<Figure size 1185.25x504 with 1 Axes>"
      ]
     },
     "metadata": {
      "needs_background": "light"
     },
     "output_type": "display_data"
    }
   ],
   "source": [
    "sum_concentration_clear\\\n",
    "    = full_clear[['сырье', 'черновой концентрат', 'концентрат после очистки', 'финальный концентрат']]\n",
    "sns.displot(sum_concentration_clear, legend=True, kde=True, height=7, aspect=2, bins=100)\n",
    "plt.title('Суммарная концентрация всех веществ на разных стадиях (значения  >1)', fontsize=17)\n",
    "\n",
    "sum_concentration_clear.describe()"
   ]
  },
  {
   "cell_type": "markdown",
   "metadata": {},
   "source": [
    "Аномальные выбросы близкие к нулю отсутвуют, разброс данных также уменьшился. Также удалим эти аномальные значения из тренировочной и обучающей выборки."
   ]
  },
  {
   "cell_type": "code",
   "execution_count": 38,
   "metadata": {},
   "outputs": [
    {
     "name": "stdout",
     "output_type": "stream",
     "text": [
      "train (13598, 55)\n",
      "test (5123, 55)\n"
     ]
    }
   ],
   "source": [
    "train_final_clear = train_clear[train_clear['date'].isin(full_clear['date'])]\n",
    "test_final_clear = test_clear[test_clear['date'].isin(full_clear['date'])]\n",
    "\n",
    "print('train', train_final_clear.shape)\n",
    "print('test', test_final_clear.shape)"
   ]
  },
  {
   "cell_type": "markdown",
   "metadata": {},
   "source": [
    "### Вывод"
   ]
  },
  {
   "cell_type": "markdown",
   "metadata": {},
   "source": [
    "По итогам данного модуля можно выделить следующее:\n",
    "1. Был проведен анализ концентрации металлов (Au, Ag, Pb) на различных этапах очистки.\n",
    "\n",
    "Стоит отметить, что у каждого металла концентрация меняется по разному. \n",
    "- Золото - линейно увеличиваеься на каждом этапе\n",
    "- Серебро - падает после второго этапа\n",
    "- Свинец - растет до третьего этапа, оказывается примерно равной по медиане на третьем и втором этапе.\n",
    "На всех этапах у каждого металла наблюдались выбросы.\n",
    "\n",
    "2. Был проведен анализ размеров гранул сырья на обучающей и тестовой выборках. он показал примерно одинаковые распределения на обучающей и тренировочной выборке. Незначительная разница в распределениях не должна критично повлиять на качество моделей.\n",
    "\n",
    "3. Был проведен анализ суммарной концентрации всех веществ на разных стадия, выявлены и удалены аномальные значения 0 и близкие к нулю значения на всех этапах."
   ]
  },
  {
   "cell_type": "markdown",
   "metadata": {},
   "source": [
    "## 3. Построение модели  \n",
    "### 3.1 Функция sMAPE <a name=\"3.\"></a>  \n",
    "[к содержанию](#0.0)\n"
   ]
  },
  {
   "cell_type": "markdown",
   "metadata": {},
   "source": [
    "Напишем функцию для вычисления метрики качества sMAPE"
   ]
  },
  {
   "cell_type": "markdown",
   "metadata": {},
   "source": [
    "$$ sMAPE = \\frac{1}{N} \\sum_{i=1}^{N} \\frac{|y_i - \\hat{y_i}|}{(|y_i| + |\\hat{y_i}|) / 2} × 100% $$\n",
    "\n",
    "где: \n",
    "- $y_i$ — значение целевого признака для объекта с порядковым номером i в выборке, на которой измеряется качество\n",
    "- $\\hat{y_i}$ — значение предсказания для объекта с порядковым номером i, например, в тестовой выборке\n",
    "- N — количество объектов в выборке\n",
    "- $\\sum_{i=1}^{N}$ — суммирование по всем объектам выборки (i меняется от 1 до N)."
   ]
  },
  {
   "cell_type": "code",
   "execution_count": 39,
   "metadata": {},
   "outputs": [],
   "source": [
    "def sMAPE(target, predictions):\n",
    "    numerator = abs(predictions - target)\n",
    "    denominator = (abs(target) + abs(predictions)) / 2\n",
    "    summa = (numerator / denominator).sum()\n",
    "    sMAPE = 1 / len(target) * summa * 100\n",
    "    return sMAPE"
   ]
  },
  {
   "cell_type": "markdown",
   "metadata": {},
   "source": [
    "Напишем функцию для вычисления итогового sMAPE"
   ]
  },
  {
   "cell_type": "markdown",
   "metadata": {},
   "source": [
    "$$ ИтоговыйsMAPE = 0.25 × sMAPE(rougher) + 0.75 × sMAPE(final)$$"
   ]
  },
  {
   "cell_type": "code",
   "execution_count": 40,
   "metadata": {},
   "outputs": [],
   "source": [
    "def final_sMAPE(rougher, final):\n",
    "    final_sMAPE = 0.25 * rougher + 0.75 * final\n",
    "    return final_sMAPE"
   ]
  },
  {
   "cell_type": "markdown",
   "metadata": {},
   "source": [
    "### 3.2. Обучение моделей <a name=\"3.2.\"></a>  \n",
    "[к содержанию](#0.0)\n"
   ]
  },
  {
   "cell_type": "markdown",
   "metadata": {},
   "source": [
    "Сохраним признаки в переменные"
   ]
  },
  {
   "cell_type": "markdown",
   "metadata": {},
   "source": [
    "train выборка"
   ]
  },
  {
   "cell_type": "code",
   "execution_count": 41,
   "metadata": {},
   "outputs": [
    {
     "name": "stdout",
     "output_type": "stream",
     "text": [
      "features_train (13598, 52)\n"
     ]
    }
   ],
   "source": [
    "target_train_rougher = train_final_clear['rougher.output.recovery']\n",
    "target_train_final = train_final_clear['final.output.recovery']\n",
    "features_train = train_final_clear.drop(['date', 'rougher.output.recovery', 'final.output.recovery'], axis=1)\n",
    "print('features_train', features_train.shape)"
   ]
  },
  {
   "cell_type": "markdown",
   "metadata": {},
   "source": [
    "test выборка"
   ]
  },
  {
   "cell_type": "code",
   "execution_count": 42,
   "metadata": {},
   "outputs": [
    {
     "name": "stdout",
     "output_type": "stream",
     "text": [
      "features_test (5123, 52)\n"
     ]
    }
   ],
   "source": [
    "target_test_rougher= test_final_clear['rougher.output.recovery']\n",
    "target_test_final = test_final_clear['final.output.recovery']\n",
    "features_test = test_final_clear.drop(['date', 'rougher.output.recovery', 'final.output.recovery'], axis=1)\n",
    "print('features_test', features_test.shape)"
   ]
  },
  {
   "cell_type": "markdown",
   "metadata": {},
   "source": [
    "Стандартизируем признаки функцией StandardScaler библиотеки sklearn"
   ]
  },
  {
   "cell_type": "code",
   "execution_count": 43,
   "metadata": {},
   "outputs": [],
   "source": [
    "numeric = features_train.columns\n",
    "scaler = StandardScaler()\n",
    "scaler.fit(features_train[numeric])\n",
    "\n",
    "features_train[numeric] = scaler.transform(features_train[numeric])\n",
    "features_test[numeric] = scaler.transform(features_test[numeric])"
   ]
  },
  {
   "cell_type": "code",
   "execution_count": 44,
   "metadata": {},
   "outputs": [
    {
     "data": {
      "text/html": [
       "<div>\n",
       "<style scoped>\n",
       "    .dataframe tbody tr th:only-of-type {\n",
       "        vertical-align: middle;\n",
       "    }\n",
       "\n",
       "    .dataframe tbody tr th {\n",
       "        vertical-align: top;\n",
       "    }\n",
       "\n",
       "    .dataframe thead th {\n",
       "        text-align: right;\n",
       "    }\n",
       "</style>\n",
       "<table border=\"1\" class=\"dataframe\">\n",
       "  <thead>\n",
       "    <tr style=\"text-align: right;\">\n",
       "      <th></th>\n",
       "      <th>primary_cleaner.input.sulfate</th>\n",
       "      <th>primary_cleaner.input.depressant</th>\n",
       "      <th>primary_cleaner.input.feed_size</th>\n",
       "      <th>primary_cleaner.input.xanthate</th>\n",
       "      <th>primary_cleaner.state.floatbank8_a_air</th>\n",
       "      <th>primary_cleaner.state.floatbank8_a_level</th>\n",
       "      <th>primary_cleaner.state.floatbank8_b_air</th>\n",
       "      <th>primary_cleaner.state.floatbank8_b_level</th>\n",
       "      <th>primary_cleaner.state.floatbank8_c_air</th>\n",
       "      <th>primary_cleaner.state.floatbank8_c_level</th>\n",
       "      <th>...</th>\n",
       "      <th>secondary_cleaner.state.floatbank4_a_air</th>\n",
       "      <th>secondary_cleaner.state.floatbank4_a_level</th>\n",
       "      <th>secondary_cleaner.state.floatbank4_b_air</th>\n",
       "      <th>secondary_cleaner.state.floatbank4_b_level</th>\n",
       "      <th>secondary_cleaner.state.floatbank5_a_air</th>\n",
       "      <th>secondary_cleaner.state.floatbank5_a_level</th>\n",
       "      <th>secondary_cleaner.state.floatbank5_b_air</th>\n",
       "      <th>secondary_cleaner.state.floatbank5_b_level</th>\n",
       "      <th>secondary_cleaner.state.floatbank6_a_air</th>\n",
       "      <th>secondary_cleaner.state.floatbank6_a_level</th>\n",
       "    </tr>\n",
       "  </thead>\n",
       "  <tbody>\n",
       "    <tr>\n",
       "      <th>0</th>\n",
       "      <td>-0.177039</td>\n",
       "      <td>0.374634</td>\n",
       "      <td>-0.128322</td>\n",
       "      <td>0.283117</td>\n",
       "      <td>-0.446599</td>\n",
       "      <td>-0.299217</td>\n",
       "      <td>-0.428651</td>\n",
       "      <td>-0.810462</td>\n",
       "      <td>-0.433391</td>\n",
       "      <td>-0.276266</td>\n",
       "      <td>...</td>\n",
       "      <td>-1.050803</td>\n",
       "      <td>-0.476117</td>\n",
       "      <td>-0.642255</td>\n",
       "      <td>-0.759903</td>\n",
       "      <td>-1.178724</td>\n",
       "      <td>-0.384014</td>\n",
       "      <td>-0.864161</td>\n",
       "      <td>-0.430466</td>\n",
       "      <td>-0.960817</td>\n",
       "      <td>-2.679757</td>\n",
       "    </tr>\n",
       "    <tr>\n",
       "      <th>1</th>\n",
       "      <td>-0.214782</td>\n",
       "      <td>0.424724</td>\n",
       "      <td>-0.128322</td>\n",
       "      <td>0.320132</td>\n",
       "      <td>-0.241337</td>\n",
       "      <td>-0.355833</td>\n",
       "      <td>-0.241880</td>\n",
       "      <td>-0.321604</td>\n",
       "      <td>-0.238985</td>\n",
       "      <td>-0.295026</td>\n",
       "      <td>...</td>\n",
       "      <td>-1.055140</td>\n",
       "      <td>-0.535469</td>\n",
       "      <td>-0.670620</td>\n",
       "      <td>-0.702030</td>\n",
       "      <td>-1.159205</td>\n",
       "      <td>-0.432692</td>\n",
       "      <td>-0.880625</td>\n",
       "      <td>-0.433308</td>\n",
       "      <td>-0.987551</td>\n",
       "      <td>-2.516067</td>\n",
       "    </tr>\n",
       "    <tr>\n",
       "      <th>2</th>\n",
       "      <td>-0.261469</td>\n",
       "      <td>0.728935</td>\n",
       "      <td>-0.128322</td>\n",
       "      <td>0.289790</td>\n",
       "      <td>-0.043863</td>\n",
       "      <td>-0.330060</td>\n",
       "      <td>-0.055721</td>\n",
       "      <td>-0.343534</td>\n",
       "      <td>-0.045404</td>\n",
       "      <td>-0.340007</td>\n",
       "      <td>...</td>\n",
       "      <td>-1.051125</td>\n",
       "      <td>-0.476765</td>\n",
       "      <td>-0.677787</td>\n",
       "      <td>-0.698642</td>\n",
       "      <td>-1.153765</td>\n",
       "      <td>-0.431623</td>\n",
       "      <td>-0.875573</td>\n",
       "      <td>-0.431657</td>\n",
       "      <td>-0.982254</td>\n",
       "      <td>-2.560408</td>\n",
       "    </tr>\n",
       "    <tr>\n",
       "      <th>3</th>\n",
       "      <td>-0.301453</td>\n",
       "      <td>0.730682</td>\n",
       "      <td>-0.128322</td>\n",
       "      <td>0.304361</td>\n",
       "      <td>-0.056210</td>\n",
       "      <td>-0.357163</td>\n",
       "      <td>-0.053644</td>\n",
       "      <td>-0.316023</td>\n",
       "      <td>-0.058052</td>\n",
       "      <td>-0.335898</td>\n",
       "      <td>...</td>\n",
       "      <td>-1.047328</td>\n",
       "      <td>-0.444019</td>\n",
       "      <td>-0.661313</td>\n",
       "      <td>-0.699673</td>\n",
       "      <td>-1.171039</td>\n",
       "      <td>-0.407346</td>\n",
       "      <td>-0.881914</td>\n",
       "      <td>-0.424969</td>\n",
       "      <td>-0.986293</td>\n",
       "      <td>-2.521715</td>\n",
       "    </tr>\n",
       "    <tr>\n",
       "      <th>4</th>\n",
       "      <td>-0.411939</td>\n",
       "      <td>0.907081</td>\n",
       "      <td>-0.128322</td>\n",
       "      <td>0.339316</td>\n",
       "      <td>-0.045547</td>\n",
       "      <td>-0.301016</td>\n",
       "      <td>-0.047713</td>\n",
       "      <td>-0.335124</td>\n",
       "      <td>-0.063427</td>\n",
       "      <td>-0.340530</td>\n",
       "      <td>...</td>\n",
       "      <td>-1.048955</td>\n",
       "      <td>-0.423967</td>\n",
       "      <td>-0.670138</td>\n",
       "      <td>-0.697283</td>\n",
       "      <td>-1.178712</td>\n",
       "      <td>-0.472391</td>\n",
       "      <td>-0.896326</td>\n",
       "      <td>-0.427528</td>\n",
       "      <td>-0.987849</td>\n",
       "      <td>-2.562283</td>\n",
       "    </tr>\n",
       "  </tbody>\n",
       "</table>\n",
       "<p>5 rows × 52 columns</p>\n",
       "</div>"
      ],
      "text/plain": [
       "   primary_cleaner.input.sulfate  primary_cleaner.input.depressant  \\\n",
       "0                      -0.177039                          0.374634   \n",
       "1                      -0.214782                          0.424724   \n",
       "2                      -0.261469                          0.728935   \n",
       "3                      -0.301453                          0.730682   \n",
       "4                      -0.411939                          0.907081   \n",
       "\n",
       "   primary_cleaner.input.feed_size  primary_cleaner.input.xanthate  \\\n",
       "0                        -0.128322                        0.283117   \n",
       "1                        -0.128322                        0.320132   \n",
       "2                        -0.128322                        0.289790   \n",
       "3                        -0.128322                        0.304361   \n",
       "4                        -0.128322                        0.339316   \n",
       "\n",
       "   primary_cleaner.state.floatbank8_a_air  \\\n",
       "0                               -0.446599   \n",
       "1                               -0.241337   \n",
       "2                               -0.043863   \n",
       "3                               -0.056210   \n",
       "4                               -0.045547   \n",
       "\n",
       "   primary_cleaner.state.floatbank8_a_level  \\\n",
       "0                                 -0.299217   \n",
       "1                                 -0.355833   \n",
       "2                                 -0.330060   \n",
       "3                                 -0.357163   \n",
       "4                                 -0.301016   \n",
       "\n",
       "   primary_cleaner.state.floatbank8_b_air  \\\n",
       "0                               -0.428651   \n",
       "1                               -0.241880   \n",
       "2                               -0.055721   \n",
       "3                               -0.053644   \n",
       "4                               -0.047713   \n",
       "\n",
       "   primary_cleaner.state.floatbank8_b_level  \\\n",
       "0                                 -0.810462   \n",
       "1                                 -0.321604   \n",
       "2                                 -0.343534   \n",
       "3                                 -0.316023   \n",
       "4                                 -0.335124   \n",
       "\n",
       "   primary_cleaner.state.floatbank8_c_air  \\\n",
       "0                               -0.433391   \n",
       "1                               -0.238985   \n",
       "2                               -0.045404   \n",
       "3                               -0.058052   \n",
       "4                               -0.063427   \n",
       "\n",
       "   primary_cleaner.state.floatbank8_c_level  ...  \\\n",
       "0                                 -0.276266  ...   \n",
       "1                                 -0.295026  ...   \n",
       "2                                 -0.340007  ...   \n",
       "3                                 -0.335898  ...   \n",
       "4                                 -0.340530  ...   \n",
       "\n",
       "   secondary_cleaner.state.floatbank4_a_air  \\\n",
       "0                                 -1.050803   \n",
       "1                                 -1.055140   \n",
       "2                                 -1.051125   \n",
       "3                                 -1.047328   \n",
       "4                                 -1.048955   \n",
       "\n",
       "   secondary_cleaner.state.floatbank4_a_level  \\\n",
       "0                                   -0.476117   \n",
       "1                                   -0.535469   \n",
       "2                                   -0.476765   \n",
       "3                                   -0.444019   \n",
       "4                                   -0.423967   \n",
       "\n",
       "   secondary_cleaner.state.floatbank4_b_air  \\\n",
       "0                                 -0.642255   \n",
       "1                                 -0.670620   \n",
       "2                                 -0.677787   \n",
       "3                                 -0.661313   \n",
       "4                                 -0.670138   \n",
       "\n",
       "   secondary_cleaner.state.floatbank4_b_level  \\\n",
       "0                                   -0.759903   \n",
       "1                                   -0.702030   \n",
       "2                                   -0.698642   \n",
       "3                                   -0.699673   \n",
       "4                                   -0.697283   \n",
       "\n",
       "   secondary_cleaner.state.floatbank5_a_air  \\\n",
       "0                                 -1.178724   \n",
       "1                                 -1.159205   \n",
       "2                                 -1.153765   \n",
       "3                                 -1.171039   \n",
       "4                                 -1.178712   \n",
       "\n",
       "   secondary_cleaner.state.floatbank5_a_level  \\\n",
       "0                                   -0.384014   \n",
       "1                                   -0.432692   \n",
       "2                                   -0.431623   \n",
       "3                                   -0.407346   \n",
       "4                                   -0.472391   \n",
       "\n",
       "   secondary_cleaner.state.floatbank5_b_air  \\\n",
       "0                                 -0.864161   \n",
       "1                                 -0.880625   \n",
       "2                                 -0.875573   \n",
       "3                                 -0.881914   \n",
       "4                                 -0.896326   \n",
       "\n",
       "   secondary_cleaner.state.floatbank5_b_level  \\\n",
       "0                                   -0.430466   \n",
       "1                                   -0.433308   \n",
       "2                                   -0.431657   \n",
       "3                                   -0.424969   \n",
       "4                                   -0.427528   \n",
       "\n",
       "   secondary_cleaner.state.floatbank6_a_air  \\\n",
       "0                                 -0.960817   \n",
       "1                                 -0.987551   \n",
       "2                                 -0.982254   \n",
       "3                                 -0.986293   \n",
       "4                                 -0.987849   \n",
       "\n",
       "   secondary_cleaner.state.floatbank6_a_level  \n",
       "0                                   -2.679757  \n",
       "1                                   -2.516067  \n",
       "2                                   -2.560408  \n",
       "3                                   -2.521715  \n",
       "4                                   -2.562283  \n",
       "\n",
       "[5 rows x 52 columns]"
      ]
     },
     "execution_count": 44,
     "metadata": {},
     "output_type": "execute_result"
    }
   ],
   "source": [
    "features_train.head()"
   ]
  },
  {
   "cell_type": "markdown",
   "metadata": {},
   "source": [
    "Обучим 3 модели и используем кросс-валидацию для оценки моделей"
   ]
  },
  {
   "cell_type": "code",
   "execution_count": 45,
   "metadata": {},
   "outputs": [],
   "source": [
    "random_state = 123\n",
    "models = [DecisionTreeRegressor(random_state = random_state), \n",
    "          RandomForestRegressor(random_state=random_state), \n",
    "          LinearRegression()]\n",
    "models_names = ['DecisionTree', 'RandomForest', 'LinearRegression']"
   ]
  },
  {
   "cell_type": "markdown",
   "metadata": {},
   "source": [
    "Для использования sMAPE при оценке качества в кросс-валидации используем функцию make_score"
   ]
  },
  {
   "cell_type": "markdown",
   "metadata": {},
   "source": [
    "Будем использовать 5 фолдов в кроссвалидации, результаты занесем в таблицу"
   ]
  },
  {
   "cell_type": "code",
   "execution_count": 46,
   "metadata": {},
   "outputs": [
    {
     "name": "stdout",
     "output_type": "stream",
     "text": [
      "CPU times: user 8min 5s, sys: 4.09 s, total: 8min 10s\n",
      "Wall time: 8min 36s\n"
     ]
    },
    {
     "data": {
      "text/html": [
       "<div>\n",
       "<style scoped>\n",
       "    .dataframe tbody tr th:only-of-type {\n",
       "        vertical-align: middle;\n",
       "    }\n",
       "\n",
       "    .dataframe tbody tr th {\n",
       "        vertical-align: top;\n",
       "    }\n",
       "\n",
       "    .dataframe thead th {\n",
       "        text-align: right;\n",
       "    }\n",
       "</style>\n",
       "<table border=\"1\" class=\"dataframe\">\n",
       "  <thead>\n",
       "    <tr style=\"text-align: right;\">\n",
       "      <th></th>\n",
       "      <th>model</th>\n",
       "      <th>rougher_cross_val_score</th>\n",
       "      <th>final_cross_val_score</th>\n",
       "    </tr>\n",
       "  </thead>\n",
       "  <tbody>\n",
       "    <tr>\n",
       "      <th>0</th>\n",
       "      <td>DecisionTree</td>\n",
       "      <td>-9.324859</td>\n",
       "      <td>-16.410350</td>\n",
       "    </tr>\n",
       "    <tr>\n",
       "      <th>1</th>\n",
       "      <td>RandomForest</td>\n",
       "      <td>-6.569362</td>\n",
       "      <td>-9.536543</td>\n",
       "    </tr>\n",
       "    <tr>\n",
       "      <th>2</th>\n",
       "      <td>LinearRegression</td>\n",
       "      <td>-7.281616</td>\n",
       "      <td>-11.026030</td>\n",
       "    </tr>\n",
       "  </tbody>\n",
       "</table>\n",
       "</div>"
      ],
      "text/plain": [
       "              model  rougher_cross_val_score  final_cross_val_score\n",
       "0      DecisionTree                -9.324859             -16.410350\n",
       "1      RandomForest                -6.569362              -9.536543\n",
       "2  LinearRegression                -7.281616             -11.026030"
      ]
     },
     "execution_count": 46,
     "metadata": {},
     "output_type": "execute_result"
    }
   ],
   "source": [
    "%%time\n",
    "cv = 5 \n",
    "cross_validation_results = []\n",
    "my_score = make_scorer(sMAPE, greater_is_better=False) \n",
    "\n",
    "for i in range(len(models)):\n",
    "    rougher_cross_val_score = \\\n",
    "        cross_val_score(models[i],features_train, target_train_rougher,cv=cv, scoring=my_score).mean()\n",
    "    \n",
    "    final_cross_val_score = \\\n",
    "        cross_val_score(models[i], features_train, target_train_final, cv=cv, scoring=my_score).mean()\n",
    "\n",
    "    cross_validation_results.append({\n",
    "        'model': models_names[i], \n",
    "        'rougher_cross_val_score': rougher_cross_val_score, \n",
    "        'final_cross_val_score': final_cross_val_score}) \n",
    "              \n",
    "pd.DataFrame(cross_validation_results)"
   ]
  },
  {
   "cell_type": "markdown",
   "metadata": {},
   "source": [
    "Наилучший результат у модели случайного леса, подберем гиперпараметры для наилучшего качества"
   ]
  },
  {
   "cell_type": "code",
   "execution_count": 47,
   "metadata": {},
   "outputs": [
    {
     "name": "stdout",
     "output_type": "stream",
     "text": [
      "CPU times: user 12min 9s, sys: 3.24 s, total: 12min 12s\n",
      "Wall time: 12min 29s\n"
     ]
    }
   ],
   "source": [
    "%%time \n",
    "results = []\n",
    "my_score = make_scorer(sMAPE, greater_is_better=False) \n",
    "\n",
    "for depth in range(1, 11):\n",
    "    for estimator in range(10, 21, 5):\n",
    "        model = RandomForestRegressor(random_state=random_state, n_estimators=estimator, max_depth=depth)\n",
    "        rougher_cross_val_score = \\\n",
    "            cross_val_score(model, features_train, target_train_rougher, cv=cv, scoring=my_score).mean()\n",
    "        final_cross_val_score = \\\n",
    "            cross_val_score(model, features_train, target_train_final, cv=cv, scoring=my_score).mean()\n",
    "        \n",
    "        smape_final_result = final_sMAPE(rougher_cross_val_score, final_cross_val_score)\n",
    "\n",
    "        results.append({\n",
    "            'smape_final_result' : smape_final_result,\n",
    "            'depth' : depth,\n",
    "            'estimators' : estimator})\n",
    "        \n",
    "final_results = pd.DataFrame(results)"
   ]
  },
  {
   "cell_type": "code",
   "execution_count": 48,
   "metadata": {},
   "outputs": [
    {
     "data": {
      "text/html": [
       "<div>\n",
       "<style scoped>\n",
       "    .dataframe tbody tr th:only-of-type {\n",
       "        vertical-align: middle;\n",
       "    }\n",
       "\n",
       "    .dataframe tbody tr th {\n",
       "        vertical-align: top;\n",
       "    }\n",
       "\n",
       "    .dataframe thead th {\n",
       "        text-align: right;\n",
       "    }\n",
       "</style>\n",
       "<table border=\"1\" class=\"dataframe\">\n",
       "  <thead>\n",
       "    <tr style=\"text-align: right;\">\n",
       "      <th></th>\n",
       "      <th>smape_final_result</th>\n",
       "      <th>depth</th>\n",
       "      <th>estimators</th>\n",
       "    </tr>\n",
       "  </thead>\n",
       "  <tbody>\n",
       "    <tr>\n",
       "      <th>16</th>\n",
       "      <td>-8.325815</td>\n",
       "      <td>6</td>\n",
       "      <td>15</td>\n",
       "    </tr>\n",
       "    <tr>\n",
       "      <th>8</th>\n",
       "      <td>-8.344912</td>\n",
       "      <td>3</td>\n",
       "      <td>20</td>\n",
       "    </tr>\n",
       "    <tr>\n",
       "      <th>11</th>\n",
       "      <td>-8.351468</td>\n",
       "      <td>4</td>\n",
       "      <td>20</td>\n",
       "    </tr>\n",
       "    <tr>\n",
       "      <th>6</th>\n",
       "      <td>-8.359432</td>\n",
       "      <td>3</td>\n",
       "      <td>10</td>\n",
       "    </tr>\n",
       "    <tr>\n",
       "      <th>10</th>\n",
       "      <td>-8.362852</td>\n",
       "      <td>4</td>\n",
       "      <td>15</td>\n",
       "    </tr>\n",
       "  </tbody>\n",
       "</table>\n",
       "</div>"
      ],
      "text/plain": [
       "    smape_final_result  depth  estimators\n",
       "16           -8.325815      6          15\n",
       "8            -8.344912      3          20\n",
       "11           -8.351468      4          20\n",
       "6            -8.359432      3          10\n",
       "10           -8.362852      4          15"
      ]
     },
     "execution_count": 48,
     "metadata": {},
     "output_type": "execute_result"
    }
   ],
   "source": [
    "final_results.sort_values(by='smape_final_result', ascending=False).head()"
   ]
  },
  {
   "cell_type": "markdown",
   "metadata": {},
   "source": [
    "Наилучший результат получился у модели c глубиной 4 и количеством деревьев 30, обучим модель на данных гиперпараметрах."
   ]
  },
  {
   "cell_type": "markdown",
   "metadata": {},
   "source": [
    "#### Тестирование модели"
   ]
  },
  {
   "cell_type": "code",
   "execution_count": 49,
   "metadata": {},
   "outputs": [],
   "source": [
    "best_model = RandomForestRegressor(random_state=random_state, n_estimators=30, max_depth=4)\n",
    "\n",
    "best_model.fit(features_train, target_train_rougher)\n",
    "predictions_rougher = best_model.predict(features_test)\n",
    "\n",
    "best_model.fit(features_train, target_train_final)\n",
    "predictions_final = best_model.predict(features_test)"
   ]
  },
  {
   "cell_type": "code",
   "execution_count": 50,
   "metadata": {},
   "outputs": [],
   "source": [
    "sMAPE_rougher = sMAPE(target_test_rougher, predictions_rougher)\n",
    "sMAPE_final = sMAPE(target_test_final, predictions_final)\n",
    "\n",
    "total_sMAPE = final_sMAPE(sMAPE_rougher,sMAPE_final)"
   ]
  },
  {
   "cell_type": "code",
   "execution_count": 51,
   "metadata": {},
   "outputs": [
    {
     "name": "stdout",
     "output_type": "stream",
     "text": [
      "Итоговый sMAPE 7.289992059382002\n"
     ]
    }
   ],
   "source": [
    "print('Итоговый sMAPE', total_sMAPE)"
   ]
  },
  {
   "cell_type": "markdown",
   "metadata": {},
   "source": [
    "#### Проверим модель на адекватность"
   ]
  },
  {
   "cell_type": "markdown",
   "metadata": {},
   "source": [
    "Проверим модель на адекватность используя DummyRegressor"
   ]
  },
  {
   "cell_type": "code",
   "execution_count": 52,
   "metadata": {},
   "outputs": [],
   "source": [
    "dummy_model = DummyRegressor(strategy='mean')\n",
    "\n",
    "dummy_model.fit(features_train, target_train_rougher)\n",
    "predictions_dummy_rougher = dummy_model.predict(features_test)\n",
    "\n",
    "dummy_model.fit(features_train, target_train_final)\n",
    "predictions_dummy_final = dummy_model.predict(features_test)"
   ]
  },
  {
   "cell_type": "code",
   "execution_count": 53,
   "metadata": {},
   "outputs": [
    {
     "name": "stdout",
     "output_type": "stream",
     "text": [
      "Итоговый sMAPE 7.779693476474429\n"
     ]
    }
   ],
   "source": [
    "sMAPE_rougher_dummy = sMAPE(target_test_rougher, predictions_dummy_rougher )\n",
    "sMAPE_final_dummy = sMAPE(target_test_final, predictions_dummy_final)\n",
    "\n",
    "total_sMAPE_dummy = final_sMAPE(sMAPE_rougher_dummy,sMAPE_final_dummy)\n",
    "print('Итоговый sMAPE', total_sMAPE_dummy)"
   ]
  },
  {
   "cell_type": "markdown",
   "metadata": {},
   "source": [
    "Видно, что модель показывает лучший результат чем модель DummyRegressor. Качество может быть улучшено после использования других вариантов предобработки, подбора гиперпараметров на большем диапазоне комбинаций. Также качество можно можно сделать лучше, после более тщательного обсуждение деталей производственного процесса с заказчиком."
   ]
  },
  {
   "cell_type": "markdown",
   "metadata": {},
   "source": [
    "### Вывод\n",
    "1. Были написаны 2 функции для расчета метрик качества - sMAPE и Итоговое sMAPE.\n",
    "2. Обучены 3 модели Линейная регрессия, дерево решений и случайный лес, протестированы с помощью кросс-валидации. Наилучшей моделью оказалась модель случайного леса.\n",
    "3. Подобраны оптимальные гиперпараметры для дерева решений.\n",
    "4. Молель была протестирована на тестовой выборке и проверена на адекватность.\n",
    "\n",
    "Видно, что модель показывает лучший результат чем модель DummyRegressor. Качество может быть улучшено после использования других вариантов предобработки, подбора гиперпараметров на большем диапазоне комбинаций. Также качество можно сделать лучше, после более тщательного обсуждение деталей производственного процесса с заказчиком."
   ]
  },
  {
   "cell_type": "markdown",
   "metadata": {},
   "source": [
    "## Общий вывод <a name=\"4.\"></a>  \n",
    "[к содержанию](#0.0)\n",
    "\n",
    "\n",
    "Целью проекта было создание прототипа модели машинного обучения, для предсказания коэффициента восстановления золота из золотосодержащей руды. В рамках проекта пройдены 3 этапа.\n",
    "\n",
    "1. Подготовка данных.\n",
    "- На этапе подготовки данных, мы познакомились с выборками, было выявлено большое к-во пропущенных значений, в том числе в целевых признаках, полные дубликаты отсутствовали.\n",
    "- Был проверен признак rougher.output.recovery и определено, что он расчитан верно.\n",
    "- Поведена предобработка данных - пропущенные значения значения заменены методом ffil, строки с пропусками в целевых признаках были удалены.\n",
    "- В тренировочной выборке оставим только те признаки, которые есть в обучающей.\n",
    "\n",
    "2. Анализ данных.\n",
    "- Проведен Анализ концентрации металлов (Au, Ag, Pb) на различных этапах очистки. Выявлено, что концентрации меняются по разному для каждого вещества. У золота возрастают с каждым этапом, у серебра падают начиная со второго этапа, а у свинца растут до третьего и сравниваются на четвертом.\n",
    "- Проанализировано распределение размеров гранул сырья на обучающей и тестовой выборках. Анализ показал, что значимых различий в распределениях выборок не имеется.\n",
    "- Анализ суммарной концентрации всех веществ на разных стадиях показал, что в данных имеются аномальные значения на каждых этапах - 0 и близкие к 0 значения. Аномалии были удалены из выборок, чтобы негативно не сказывались на качестве модели.\n",
    "\n",
    "3. Построение модели.\n",
    "- Написаны функции для расчета sMAPE и Итогового sMAPE.\n",
    "- Данные были стандартизированы, обучены 3 модели и проверены при помощи кросс-валидации. Нпилучшей моделью оказалась модель случайного леса.\n",
    "- Для модели случайного леса подобраны оптимальные гиперпараметры.\n",
    "- Был проведен тест модели на тестовой выборке и проверка модели на адекватность.\n",
    "\n",
    "Модель показала неплохое качество и отработала лучше \"глупой\" модели 7.29 против 7.78. Перед внедрением прототипа качество можно улучшить следующими способами:\n",
    "- пересмотреть варианты предобработки,\n",
    "- расширить диапазон подбора гиперпараметров,\n",
    "- дополнительно обсудить вводные и тонкости технологического процесса с заказщиком."
   ]
  }
 ],
 "metadata": {
  "kernelspec": {
   "display_name": "Python 3",
   "language": "python",
   "name": "python3"
  },
  "language_info": {
   "codemirror_mode": {
    "name": "ipython",
    "version": 3
   },
   "file_extension": ".py",
   "mimetype": "text/x-python",
   "name": "python",
   "nbconvert_exporter": "python",
   "pygments_lexer": "ipython3",
   "version": "3.8.5"
  },
  "toc": {
   "base_numbering": 1,
   "nav_menu": {},
   "number_sections": true,
   "sideBar": true,
   "skip_h1_title": true,
   "title_cell": "Table of Contents",
   "title_sidebar": "Contents",
   "toc_cell": false,
   "toc_position": {},
   "toc_section_display": true,
   "toc_window_display": false
  }
 },
 "nbformat": 4,
 "nbformat_minor": 4
}

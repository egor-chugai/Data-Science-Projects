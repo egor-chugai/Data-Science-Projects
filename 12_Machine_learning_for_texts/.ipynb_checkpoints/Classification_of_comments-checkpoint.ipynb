{
 "cells": [
  {
   "cell_type": "markdown",
   "metadata": {
    "toc": true
   },
   "source": [
    "<h1>Содержание<span class=\"tocSkip\"></span></h1>\n",
    "<div class=\"toc\"><ul class=\"toc-item\"><li><span><a href=\"#Подготовка\" data-toc-modified-id=\"Подготовка-1\"><span class=\"toc-item-num\">1&nbsp;&nbsp;</span>Подготовка</a></span><ul class=\"toc-item\"><li><span><a href=\"#Добавил-параметр-stratify,-выделил-валидационную-выборку\" data-toc-modified-id=\"Добавил-параметр-stratify,-выделил-валидационную-выборку-1.1\"><span class=\"toc-item-num\">1.1&nbsp;&nbsp;</span>Добавил параметр stratify, выделил валидационную выборку</a></span></li><li><span><a href=\"#Да,-тут-не-нужен-:)\" data-toc-modified-id=\"Да,-тут-не-нужен-:)-1.2\"><span class=\"toc-item-num\">1.2&nbsp;&nbsp;</span>Да, тут не нужен :)</a></span></li><li><span><a href=\"#Вывод\" data-toc-modified-id=\"Вывод-1.3\"><span class=\"toc-item-num\">1.3&nbsp;&nbsp;</span>Вывод</a></span></li></ul></li><li><span><a href=\"#Обучение\" data-toc-modified-id=\"Обучение-2\"><span class=\"toc-item-num\">2&nbsp;&nbsp;</span>Обучение</a></span></li><li><span><a href=\"#Выводы\" data-toc-modified-id=\"Выводы-3\"><span class=\"toc-item-num\">3&nbsp;&nbsp;</span>Выводы</a></span></li><li><span><a href=\"#-Комментарий-ревьюера\" data-toc-modified-id=\"-Комментарий-ревьюера-4\"><span class=\"toc-item-num\">4&nbsp;&nbsp;</span> Комментарий ревьюера</a></span><ul class=\"toc-item\"><li><span><a href=\"#Сделал-подбор-гиперпараметров-на-валидационной,-после-протестировал-на-тестовой-с-лучшими\" data-toc-modified-id=\"Сделал-подбор-гиперпараметров-на-валидационной,-после-протестировал-на-тестовой-с-лучшими-4.1\"><span class=\"toc-item-num\">4.1&nbsp;&nbsp;</span>Сделал подбор гиперпараметров на валидационной, после протестировал на тестовой с лучшими</a></span></li></ul></li></ul></div>"
   ]
  },
  {
   "cell_type": "markdown",
   "metadata": {},
   "source": [
    "# Проект для «Викишоп»"
   ]
  },
  {
   "cell_type": "markdown",
   "metadata": {},
   "source": [
    "Интернет-магазин «Викишоп» запускает новый сервис. Теперь пользователи могут редактировать и дополнять описания товаров, как в вики-сообществах. То есть клиенты предлагают свои правки и комментируют изменения других. Магазину нужен инструмент, который будет искать токсичные комментарии и отправлять их на модерацию. \n",
    "\n",
    "Обучите модель классифицировать комментарии на позитивные и негативные. В вашем распоряжении набор данных с разметкой о токсичности правок.\n",
    "\n",
    "Постройте модель со значением метрики качества *F1* не меньше 0.75. "
   ]
  },
  {
   "cell_type": "markdown",
   "metadata": {},
   "source": [
    "## Подготовка"
   ]
  },
  {
   "cell_type": "code",
   "execution_count": 89,
   "metadata": {},
   "outputs": [
    {
     "name": "stderr",
     "output_type": "stream",
     "text": [
      "[nltk_data] Downloading package punkt to /Users/a1234/nltk_data...\n",
      "[nltk_data]   Package punkt is already up-to-date!\n",
      "[nltk_data] Downloading package wordnet to /Users/a1234/nltk_data...\n",
      "[nltk_data]   Package wordnet is already up-to-date!\n"
     ]
    }
   ],
   "source": [
    "import warnings\n",
    "warnings.filterwarnings(\"ignore\")\n",
    "import matplotlib.pyplot as plt\n",
    "import matplotlib.style\n",
    "%matplotlib inline\n",
    "import re\n",
    "import nltk\n",
    "from nltk.corpus import stopwords as stopwords_nltk\n",
    "from nltk.stem import WordNetLemmatizer\n",
    "from nltk.tokenize import word_tokenize\n",
    "nltk.download('punkt')\n",
    "nltk.download('wordnet')\n",
    "from sklearn.feature_extraction.text import TfidfVectorizer \n",
    "from wordcloud import WordCloud, STOPWORDS\n",
    "from sklearn.linear_model import LogisticRegression\n",
    "from sklearn.ensemble import RandomForestClassifier\n",
    "from sklearn.metrics import f1_score\n",
    "from sklearn.model_selection import train_test_split\n",
    "from sklearn.tree import DecisionTreeClassifier\n",
    "import pandas as pd\n",
    "from pymystem3 import Mystem"
   ]
  },
  {
   "cell_type": "markdown",
   "metadata": {},
   "source": [
    "Считаем файл, посмотрим общую информацию о данных"
   ]
  },
  {
   "cell_type": "code",
   "execution_count": 90,
   "metadata": {},
   "outputs": [],
   "source": [
    "data = pd.read_csv('toxic_comments.csv')"
   ]
  },
  {
   "cell_type": "code",
   "execution_count": 91,
   "metadata": {},
   "outputs": [
    {
     "data": {
      "text/html": [
       "<div>\n",
       "<style scoped>\n",
       "    .dataframe tbody tr th:only-of-type {\n",
       "        vertical-align: middle;\n",
       "    }\n",
       "\n",
       "    .dataframe tbody tr th {\n",
       "        vertical-align: top;\n",
       "    }\n",
       "\n",
       "    .dataframe thead th {\n",
       "        text-align: right;\n",
       "    }\n",
       "</style>\n",
       "<table border=\"1\" class=\"dataframe\">\n",
       "  <thead>\n",
       "    <tr style=\"text-align: right;\">\n",
       "      <th></th>\n",
       "      <th>text</th>\n",
       "      <th>toxic</th>\n",
       "    </tr>\n",
       "  </thead>\n",
       "  <tbody>\n",
       "    <tr>\n",
       "      <th>0</th>\n",
       "      <td>Explanation\\nWhy the edits made under my usern...</td>\n",
       "      <td>0</td>\n",
       "    </tr>\n",
       "    <tr>\n",
       "      <th>1</th>\n",
       "      <td>D'aww! He matches this background colour I'm s...</td>\n",
       "      <td>0</td>\n",
       "    </tr>\n",
       "    <tr>\n",
       "      <th>2</th>\n",
       "      <td>Hey man, I'm really not trying to edit war. It...</td>\n",
       "      <td>0</td>\n",
       "    </tr>\n",
       "    <tr>\n",
       "      <th>3</th>\n",
       "      <td>\"\\nMore\\nI can't make any real suggestions on ...</td>\n",
       "      <td>0</td>\n",
       "    </tr>\n",
       "    <tr>\n",
       "      <th>4</th>\n",
       "      <td>You, sir, are my hero. Any chance you remember...</td>\n",
       "      <td>0</td>\n",
       "    </tr>\n",
       "  </tbody>\n",
       "</table>\n",
       "</div>"
      ],
      "text/plain": [
       "                                                text  toxic\n",
       "0  Explanation\\nWhy the edits made under my usern...      0\n",
       "1  D'aww! He matches this background colour I'm s...      0\n",
       "2  Hey man, I'm really not trying to edit war. It...      0\n",
       "3  \"\\nMore\\nI can't make any real suggestions on ...      0\n",
       "4  You, sir, are my hero. Any chance you remember...      0"
      ]
     },
     "execution_count": 91,
     "metadata": {},
     "output_type": "execute_result"
    }
   ],
   "source": [
    "data.head()"
   ]
  },
  {
   "cell_type": "code",
   "execution_count": 92,
   "metadata": {},
   "outputs": [
    {
     "name": "stdout",
     "output_type": "stream",
     "text": [
      "<class 'pandas.core.frame.DataFrame'>\n",
      "RangeIndex: 159571 entries, 0 to 159570\n",
      "Data columns (total 2 columns):\n",
      " #   Column  Non-Null Count   Dtype \n",
      "---  ------  --------------   ----- \n",
      " 0   text    159571 non-null  object\n",
      " 1   toxic   159571 non-null  int64 \n",
      "dtypes: int64(1), object(1)\n",
      "memory usage: 2.4+ MB\n"
     ]
    }
   ],
   "source": [
    "data.info()"
   ]
  },
  {
   "cell_type": "markdown",
   "metadata": {},
   "source": [
    "На данном этапе видно, что:\n",
    "* датафрейм содержит 2 столбца - комментарий и целевой признак,\n",
    "* содержит 159571 строк,\n",
    "* пропущенные значения отсутствуют\n",
    "* текст требует очистки и подготовки перед обучением"
   ]
  },
  {
   "cell_type": "markdown",
   "metadata": {},
   "source": [
    "Посмотрим на баланс классов в целевом признаке."
   ]
  },
  {
   "cell_type": "code",
   "execution_count": 93,
   "metadata": {},
   "outputs": [
    {
     "data": {
      "image/png": "[encoded data removed]",
      "text/plain": [
       "<Figure size 432x288 with 1 Axes>"
      ]
     },
     "metadata": {
      "needs_background": "light"
     },
     "output_type": "display_data"
    },
    {
     "data": {
      "text/plain": [
       "0    0.898321\n",
       "1    0.101679\n",
       "Name: toxic, dtype: float64"
      ]
     },
     "execution_count": 93,
     "metadata": {},
     "output_type": "execute_result"
    }
   ],
   "source": [
    "classes = data['toxic'].value_counts(normalize=True)\n",
    "classes.plot(kind='bar')\n",
    "plt.grid(axis='y')\n",
    "plt.suptitle('Распределение классов целевого признака')\n",
    "plt.show()\n",
    "classes"
   ]
  },
  {
   "cell_type": "markdown",
   "metadata": {},
   "source": [
    "Видно, что в 10% случаев комментарии являются токсичными."
   ]
  },
  {
   "cell_type": "markdown",
   "metadata": {},
   "source": [
    "Проведем предобработку комментариев перед обучением - уберем лишние символы, удалим стоп-слова, лемматезируем слова."
   ]
  },
  {
   "cell_type": "code",
   "execution_count": 94,
   "metadata": {},
   "outputs": [],
   "source": [
    "# удалим лишние символы, переведем в нижний регистр\n",
    "def clear_text(text):\n",
    "    clean_text = re.sub(r'[^a-zA-Z ]', ' ', text).lower()\n",
    "    return clean_text\n",
    "\n",
    "data['clear_text'] = data['text'].apply(clear_text)"
   ]
  },
  {
   "cell_type": "code",
   "execution_count": 95,
   "metadata": {},
   "outputs": [],
   "source": [
    "# удалим стоп-слова\n",
    "stop_words = set(stopwords_nltk.words('english'))  \n",
    "\n",
    "def drop_stopwords(text):\n",
    "    clean_text = [w for w in text.split() if not w in stop_words]  \n",
    "    return clean_text\n",
    "\n",
    "data['clear_text'] = data['clear_text'].apply(drop_stopwords)"
   ]
  },
  {
   "cell_type": "code",
   "execution_count": 96,
   "metadata": {},
   "outputs": [],
   "source": [
    "# лемматизируем слова\n",
    "lemmatizer = nltk.WordNetLemmatizer()\n",
    "\n",
    "def lemmatize_text(text):\n",
    "    clean_text = [str(lemmatizer.lemmatize(word)) for word in text]\n",
    "    return clean_text\n",
    "\n",
    "data['clear_text'] = data['clear_text'].apply(lemmatize_text)"
   ]
  },
  {
   "cell_type": "code",
   "execution_count": 97,
   "metadata": {},
   "outputs": [
    {
     "data": {
      "text/html": [
       "<div>\n",
       "<style scoped>\n",
       "    .dataframe tbody tr th:only-of-type {\n",
       "        vertical-align: middle;\n",
       "    }\n",
       "\n",
       "    .dataframe tbody tr th {\n",
       "        vertical-align: top;\n",
       "    }\n",
       "\n",
       "    .dataframe thead th {\n",
       "        text-align: right;\n",
       "    }\n",
       "</style>\n",
       "<table border=\"1\" class=\"dataframe\">\n",
       "  <thead>\n",
       "    <tr style=\"text-align: right;\">\n",
       "      <th></th>\n",
       "      <th>text</th>\n",
       "      <th>toxic</th>\n",
       "      <th>clear_text</th>\n",
       "    </tr>\n",
       "  </thead>\n",
       "  <tbody>\n",
       "    <tr>\n",
       "      <th>0</th>\n",
       "      <td>Explanation\\nWhy the edits made under my usern...</td>\n",
       "      <td>0</td>\n",
       "      <td>[explanation, edits, made, username, hardcore,...</td>\n",
       "    </tr>\n",
       "    <tr>\n",
       "      <th>1</th>\n",
       "      <td>D'aww! He matches this background colour I'm s...</td>\n",
       "      <td>0</td>\n",
       "      <td>[aww, match, background, colour, seemingly, st...</td>\n",
       "    </tr>\n",
       "    <tr>\n",
       "      <th>2</th>\n",
       "      <td>Hey man, I'm really not trying to edit war. It...</td>\n",
       "      <td>0</td>\n",
       "      <td>[hey, man, really, trying, edit, war, guy, con...</td>\n",
       "    </tr>\n",
       "    <tr>\n",
       "      <th>3</th>\n",
       "      <td>\"\\nMore\\nI can't make any real suggestions on ...</td>\n",
       "      <td>0</td>\n",
       "      <td>[make, real, suggestion, improvement, wondered...</td>\n",
       "    </tr>\n",
       "    <tr>\n",
       "      <th>4</th>\n",
       "      <td>You, sir, are my hero. Any chance you remember...</td>\n",
       "      <td>0</td>\n",
       "      <td>[sir, hero, chance, remember, page]</td>\n",
       "    </tr>\n",
       "  </tbody>\n",
       "</table>\n",
       "</div>"
      ],
      "text/plain": [
       "                                                text  toxic  \\\n",
       "0  Explanation\\nWhy the edits made under my usern...      0   \n",
       "1  D'aww! He matches this background colour I'm s...      0   \n",
       "2  Hey man, I'm really not trying to edit war. It...      0   \n",
       "3  \"\\nMore\\nI can't make any real suggestions on ...      0   \n",
       "4  You, sir, are my hero. Any chance you remember...      0   \n",
       "\n",
       "                                          clear_text  \n",
       "0  [explanation, edits, made, username, hardcore,...  \n",
       "1  [aww, match, background, colour, seemingly, st...  \n",
       "2  [hey, man, really, trying, edit, war, guy, con...  \n",
       "3  [make, real, suggestion, improvement, wondered...  \n",
       "4                [sir, hero, chance, remember, page]  "
      ]
     },
     "execution_count": 97,
     "metadata": {},
     "output_type": "execute_result"
    }
   ],
   "source": [
    "data.head()"
   ]
  },
  {
   "cell_type": "markdown",
   "metadata": {},
   "source": [
    "Разделим датафрейм на выборки"
   ]
  },
  {
   "cell_type": "code",
   "execution_count": 98,
   "metadata": {},
   "outputs": [],
   "source": [
    "df = data.drop(['text'], axis=1)\n",
    "target = df['toxic']\n",
    "features = df.drop('toxic', axis = 1)"
   ]
  },
  {
   "cell_type": "code",
   "execution_count": 99,
   "metadata": {},
   "outputs": [],
   "source": [
    "target = df['toxic']\n",
    "features = df.drop('toxic', axis=1)\n",
    "\n",
    "features_train, features_valid, target_train, target_valid = train_test_split(features, \n",
    "                                                                              target, \n",
    "                                                                              train_size=0.60, \n",
    "                                                                              test_size=0.40, \n",
    "                                                                              random_state=123,\n",
    "                                                                             stratify=target)\n",
    "\n",
    "features_valid, features_test, target_valid, target_test = train_test_split(features_valid, \n",
    "                                                                            target_valid, \n",
    "                                                                            train_size=0.50, \n",
    "                                                                            test_size=0.50, \n",
    "                                                                            random_state=123,\n",
    "                                                                           stratify=target_valid)\n"
   ]
  },
  {
   "cell_type": "markdown",
   "metadata": {},
   "source": [
    "вычислим TF-IDF для корпуса текстов"
   ]
  },
  {
   "cell_type": "code",
   "execution_count": 100,
   "metadata": {},
   "outputs": [],
   "source": [
    "corpus_train = features_train['clear_text'].astype(str)\n",
    "corpus_valid = features_valid['clear_text'].astype(str)\n",
    "corpus_test = features_test['clear_text'].astype(str)"
   ]
  },
  {
   "cell_type": "code",
   "execution_count": 101,
   "metadata": {},
   "outputs": [],
   "source": [
    "count_tf_idf = TfidfVectorizer(stop_words=stop_words)\n",
    "tf_idf = count_tf_idf.fit(corpus_train) "
   ]
  },
  {
   "cell_type": "code",
   "execution_count": 102,
   "metadata": {},
   "outputs": [],
   "source": [
    "train_X = tf_idf.transform(corpus_train)\n",
    "valid_X = tf_idf.transform(corpus_valid)\n",
    "test_X = tf_idf.transform(corpus_test)"
   ]
  },
  {
   "cell_type": "markdown",
   "metadata": {},
   "source": [
    "### Вывод"
   ]
  },
  {
   "cell_type": "markdown",
   "metadata": {},
   "source": [
    "На данном этапе были выполнены следующие шаги:\n",
    "1. Проведено первичное знакомство с данными, выявлено:\n",
    "    * датафрейм содержит 2 столбца - комментарий и целевой признак,\n",
    "    * содержит 159571 строк, пропущенные значения отсутствуют,\n",
    "    * текст требовал очистки и подготовки перед обучением\n",
    "2. Проанализирован баланс классов - 10% комментариев являются токсичными.\n",
    "3. Проведена обработка комментариев перед обучением:\n",
    "    * были удалены лишние символы, текст переведен в нижний регистр,\n",
    "    * удалены стоп-слова,\n",
    "    * проведена лемматизация текста\n",
    "4. Данные разделены на выборки, вычеслена TF-IDF."
   ]
  },
  {
   "cell_type": "markdown",
   "metadata": {},
   "source": [
    "## Обучение"
   ]
  },
  {
   "cell_type": "markdown",
   "metadata": {},
   "source": [
    "Обучим разные модели"
   ]
  },
  {
   "cell_type": "markdown",
   "metadata": {},
   "source": [
    "LogisticRegression"
   ]
  },
  {
   "cell_type": "code",
   "execution_count": 103,
   "metadata": {},
   "outputs": [
    {
     "name": "stdout",
     "output_type": "stream",
     "text": [
      "CPU times: user 30.9 s, sys: 657 ms, total: 31.6 s\n",
      "Wall time: 18.3 s\n"
     ]
    },
    {
     "data": {
      "text/html": [
       "<div>\n",
       "<style scoped>\n",
       "    .dataframe tbody tr th:only-of-type {\n",
       "        vertical-align: middle;\n",
       "    }\n",
       "\n",
       "    .dataframe tbody tr th {\n",
       "        vertical-align: top;\n",
       "    }\n",
       "\n",
       "    .dataframe thead th {\n",
       "        text-align: right;\n",
       "    }\n",
       "</style>\n",
       "<table border=\"1\" class=\"dataframe\">\n",
       "  <thead>\n",
       "    <tr style=\"text-align: right;\">\n",
       "      <th></th>\n",
       "      <th>Model</th>\n",
       "      <th>multi_class</th>\n",
       "      <th>F1</th>\n",
       "    </tr>\n",
       "  </thead>\n",
       "  <tbody>\n",
       "    <tr>\n",
       "      <th>2</th>\n",
       "      <td>LogisticRegression</td>\n",
       "      <td>multinomial</td>\n",
       "      <td>0.751387</td>\n",
       "    </tr>\n",
       "    <tr>\n",
       "      <th>0</th>\n",
       "      <td>LogisticRegression</td>\n",
       "      <td>auto</td>\n",
       "      <td>0.743387</td>\n",
       "    </tr>\n",
       "    <tr>\n",
       "      <th>1</th>\n",
       "      <td>LogisticRegression</td>\n",
       "      <td>ovr</td>\n",
       "      <td>0.743387</td>\n",
       "    </tr>\n",
       "  </tbody>\n",
       "</table>\n",
       "</div>"
      ],
      "text/plain": [
       "                Model  multi_class        F1\n",
       "2  LogisticRegression  multinomial  0.751387\n",
       "0  LogisticRegression         auto  0.743387\n",
       "1  LogisticRegression          ovr  0.743387"
      ]
     },
     "execution_count": 103,
     "metadata": {},
     "output_type": "execute_result"
    }
   ],
   "source": [
    "%%time\n",
    "results_lr = []\n",
    "for multi_class in ['auto', 'ovr', 'multinomial']:\n",
    "    model = LogisticRegression(random_state=123, \n",
    "                           class_weight='balanced',\n",
    "                           multi_class=multi_class) \n",
    "    \n",
    "    model.fit(train_X, target_train)\n",
    "    predictions = model.predict(valid_X)\n",
    "    \n",
    "    f1 = f1_score(target_valid, predictions)\n",
    "    \n",
    "    results_lr.append({'Model' : 'LogisticRegression',\n",
    "                    'multi_class': multi_class,\n",
    "                    'F1': f1})\n",
    "    \n",
    "results_lr = pd.DataFrame.from_dict(results_lr).reset_index(drop=True).sort_values(by='F1',ascending=0)\n",
    "results_lr"
   ]
  },
  {
   "cell_type": "markdown",
   "metadata": {},
   "source": [
    "RandomForestClassifier"
   ]
  },
  {
   "cell_type": "code",
   "execution_count": 104,
   "metadata": {},
   "outputs": [
    {
     "name": "stdout",
     "output_type": "stream",
     "text": [
      "CPU times: user 46.6 s, sys: 1.73 s, total: 48.3 s\n",
      "Wall time: 49.2 s\n"
     ]
    },
    {
     "data": {
      "text/html": [
       "<div>\n",
       "<style scoped>\n",
       "    .dataframe tbody tr th:only-of-type {\n",
       "        vertical-align: middle;\n",
       "    }\n",
       "\n",
       "    .dataframe tbody tr th {\n",
       "        vertical-align: top;\n",
       "    }\n",
       "\n",
       "    .dataframe thead th {\n",
       "        text-align: right;\n",
       "    }\n",
       "</style>\n",
       "<table border=\"1\" class=\"dataframe\">\n",
       "  <thead>\n",
       "    <tr style=\"text-align: right;\">\n",
       "      <th></th>\n",
       "      <th>Model</th>\n",
       "      <th>class_weight</th>\n",
       "      <th>n_estimators</th>\n",
       "      <th>max_depth</th>\n",
       "      <th>F1</th>\n",
       "    </tr>\n",
       "  </thead>\n",
       "  <tbody>\n",
       "    <tr>\n",
       "      <th>48</th>\n",
       "      <td>RandomForestClassifier</td>\n",
       "      <td>balanced</td>\n",
       "      <td>40</td>\n",
       "      <td>10</td>\n",
       "      <td>0.365778</td>\n",
       "    </tr>\n",
       "    <tr>\n",
       "      <th>49</th>\n",
       "      <td>RandomForestClassifier</td>\n",
       "      <td>balanced</td>\n",
       "      <td>50</td>\n",
       "      <td>10</td>\n",
       "      <td>0.365302</td>\n",
       "    </tr>\n",
       "    <tr>\n",
       "      <th>47</th>\n",
       "      <td>RandomForestClassifier</td>\n",
       "      <td>balanced</td>\n",
       "      <td>30</td>\n",
       "      <td>10</td>\n",
       "      <td>0.363515</td>\n",
       "    </tr>\n",
       "    <tr>\n",
       "      <th>37</th>\n",
       "      <td>RandomForestClassifier</td>\n",
       "      <td>balanced</td>\n",
       "      <td>30</td>\n",
       "      <td>8</td>\n",
       "      <td>0.362009</td>\n",
       "    </tr>\n",
       "    <tr>\n",
       "      <th>43</th>\n",
       "      <td>RandomForestClassifier</td>\n",
       "      <td>balanced</td>\n",
       "      <td>40</td>\n",
       "      <td>9</td>\n",
       "      <td>0.360842</td>\n",
       "    </tr>\n",
       "  </tbody>\n",
       "</table>\n",
       "</div>"
      ],
      "text/plain": [
       "                     Model class_weight  n_estimators  max_depth        F1\n",
       "48  RandomForestClassifier     balanced            40         10  0.365778\n",
       "49  RandomForestClassifier     balanced            50         10  0.365302\n",
       "47  RandomForestClassifier     balanced            30         10  0.363515\n",
       "37  RandomForestClassifier     balanced            30          8  0.362009\n",
       "43  RandomForestClassifier     balanced            40          9  0.360842"
      ]
     },
     "execution_count": 104,
     "metadata": {},
     "output_type": "execute_result"
    }
   ],
   "source": [
    "%%time\n",
    "results_rf = []\n",
    "\n",
    "for depth in range(1,11):\n",
    "    for estimator in range(10, 51, 10):\n",
    "        model = RandomForestClassifier(random_state=123, \n",
    "                                       class_weight = 'balanced', \n",
    "                                       n_estimators=estimator, \n",
    "                                       max_depth=depth) \n",
    "        model.fit(train_X, target_train)\n",
    "        predictions = model.predict(valid_X)\n",
    "        f1 = f1_score(target_valid, predictions)\n",
    "        results_rf.append({'Model': 'RandomForestClassifier', \n",
    "                            'class_weight': 'balanced',\n",
    "                            'n_estimators': estimator, \n",
    "                            'max_depth':depth, \n",
    "                            'F1': f1})\n",
    "        \n",
    "results_rf = pd.DataFrame.from_dict(results_rf).reset_index(drop=True).sort_values(by='F1',ascending=0)\n",
    "results_rf.head()"
   ]
  },
  {
   "cell_type": "markdown",
   "metadata": {},
   "source": [
    "DecisionTreeClassifier"
   ]
  },
  {
   "cell_type": "code",
   "execution_count": 105,
   "metadata": {},
   "outputs": [
    {
     "data": {
      "text/html": [
       "<div>\n",
       "<style scoped>\n",
       "    .dataframe tbody tr th:only-of-type {\n",
       "        vertical-align: middle;\n",
       "    }\n",
       "\n",
       "    .dataframe tbody tr th {\n",
       "        vertical-align: top;\n",
       "    }\n",
       "\n",
       "    .dataframe thead th {\n",
       "        text-align: right;\n",
       "    }\n",
       "</style>\n",
       "<table border=\"1\" class=\"dataframe\">\n",
       "  <thead>\n",
       "    <tr style=\"text-align: right;\">\n",
       "      <th></th>\n",
       "      <th>Model</th>\n",
       "      <th>class_weight</th>\n",
       "      <th>max_depth</th>\n",
       "      <th>F1</th>\n",
       "    </tr>\n",
       "  </thead>\n",
       "  <tbody>\n",
       "    <tr>\n",
       "      <th>9</th>\n",
       "      <td>DecisionTreeClassifier</td>\n",
       "      <td>balanced</td>\n",
       "      <td>10</td>\n",
       "      <td>0.564124</td>\n",
       "    </tr>\n",
       "    <tr>\n",
       "      <th>8</th>\n",
       "      <td>DecisionTreeClassifier</td>\n",
       "      <td>balanced</td>\n",
       "      <td>9</td>\n",
       "      <td>0.551680</td>\n",
       "    </tr>\n",
       "    <tr>\n",
       "      <th>7</th>\n",
       "      <td>DecisionTreeClassifier</td>\n",
       "      <td>balanced</td>\n",
       "      <td>8</td>\n",
       "      <td>0.532732</td>\n",
       "    </tr>\n",
       "    <tr>\n",
       "      <th>5</th>\n",
       "      <td>DecisionTreeClassifier</td>\n",
       "      <td>balanced</td>\n",
       "      <td>6</td>\n",
       "      <td>0.501320</td>\n",
       "    </tr>\n",
       "    <tr>\n",
       "      <th>6</th>\n",
       "      <td>DecisionTreeClassifier</td>\n",
       "      <td>balanced</td>\n",
       "      <td>7</td>\n",
       "      <td>0.501320</td>\n",
       "    </tr>\n",
       "  </tbody>\n",
       "</table>\n",
       "</div>"
      ],
      "text/plain": [
       "                    Model class_weight  max_depth        F1\n",
       "9  DecisionTreeClassifier     balanced         10  0.564124\n",
       "8  DecisionTreeClassifier     balanced          9  0.551680\n",
       "7  DecisionTreeClassifier     balanced          8  0.532732\n",
       "5  DecisionTreeClassifier     balanced          6  0.501320\n",
       "6  DecisionTreeClassifier     balanced          7  0.501320"
      ]
     },
     "execution_count": 105,
     "metadata": {},
     "output_type": "execute_result"
    }
   ],
   "source": [
    "results_dt = []\n",
    "\n",
    "for depth in range(1,11):\n",
    "    model = DecisionTreeClassifier(random_state=123, max_depth=depth, class_weight = 'balanced')\n",
    "    model.fit(train_X, target_train)\n",
    "    predictions = model.predict(valid_X)\n",
    "\n",
    "    f1 = f1_score(target_valid, predictions)\n",
    "\n",
    "    results_dt.append({'Model': 'DecisionTreeClassifier', \n",
    "                        'class_weight': 'balanced', \n",
    "                        'max_depth': depth,\n",
    "                        'F1': f1})\n",
    "    \n",
    "results_dt = pd.DataFrame.from_dict(results_dt).reset_index(drop=True).sort_values(by='F1',ascending=0)\n",
    "results_dt.head()"
   ]
  },
  {
   "cell_type": "markdown",
   "metadata": {},
   "source": [
    "Проведем тестирование на наилучших гиперпараметрах и посмотрим на полученный результат."
   ]
  },
  {
   "cell_type": "code",
   "execution_count": 106,
   "metadata": {},
   "outputs": [],
   "source": [
    "# линейная регрессия\n",
    "final_results = []\n",
    "model = LogisticRegression(random_state=123, \n",
    "                           class_weight='balanced',\n",
    "                           multi_class='multinomial') \n",
    "model.fit(train_X, target_train)\n",
    "predictions = model.predict(test_X)\n",
    "f1 = f1_score(target_test, predictions)\n",
    "final_results.append({'Model': 'LogisticRegression', 'F1': f1})\n",
    "\n",
    "# случайный лес\n",
    "model = RandomForestClassifier(random_state=123, \n",
    "                               class_weight = 'balanced', \n",
    "                               n_estimators=5, \n",
    "                               max_depth=4) \n",
    "model.fit(train_X, target_train)\n",
    "predictions = model.predict(test_X)\n",
    "f1 = f1_score(target_test, predictions)\n",
    "final_results.append({'Model': 'RandomForestClassifier', 'F1': f1})\n",
    "\n",
    "# дерево решений \n",
    "model = DecisionTreeClassifier(random_state=123, max_depth=10, class_weight = 'balanced')\n",
    "model.fit(train_X, target_train)\n",
    "predictions = model.predict(test_X)\n",
    "f1 = f1_score(target_test, predictions)\n",
    "final_results.append({'Model': 'DecisionTreeClassifier', 'F1': f1})"
   ]
  },
  {
   "cell_type": "code",
   "execution_count": 107,
   "metadata": {},
   "outputs": [
    {
     "data": {
      "text/html": [
       "<style  type=\"text/css\" >\n",
       "#T_ee95a274_f842_11eb_b0ad_f45c899470b7row0_col1{\n",
       "            background-color:  lightgreen;\n",
       "        }</style><table id=\"T_ee95a274_f842_11eb_b0ad_f45c899470b7\" ><thead>    <tr>        <th class=\"blank level0\" ></th>        <th class=\"col_heading level0 col0\" >Model</th>        <th class=\"col_heading level0 col1\" >F1</th>    </tr></thead><tbody>\n",
       "                <tr>\n",
       "                        <th id=\"T_ee95a274_f842_11eb_b0ad_f45c899470b7level0_row0\" class=\"row_heading level0 row0\" >0</th>\n",
       "                        <td id=\"T_ee95a274_f842_11eb_b0ad_f45c899470b7row0_col0\" class=\"data row0 col0\" >LogisticRegression</td>\n",
       "                        <td id=\"T_ee95a274_f842_11eb_b0ad_f45c899470b7row0_col1\" class=\"data row0 col1\" >0.755686</td>\n",
       "            </tr>\n",
       "            <tr>\n",
       "                        <th id=\"T_ee95a274_f842_11eb_b0ad_f45c899470b7level0_row1\" class=\"row_heading level0 row1\" >2</th>\n",
       "                        <td id=\"T_ee95a274_f842_11eb_b0ad_f45c899470b7row1_col0\" class=\"data row1 col0\" >DecisionTreeClassifier</td>\n",
       "                        <td id=\"T_ee95a274_f842_11eb_b0ad_f45c899470b7row1_col1\" class=\"data row1 col1\" >0.556283</td>\n",
       "            </tr>\n",
       "            <tr>\n",
       "                        <th id=\"T_ee95a274_f842_11eb_b0ad_f45c899470b7level0_row2\" class=\"row_heading level0 row2\" >1</th>\n",
       "                        <td id=\"T_ee95a274_f842_11eb_b0ad_f45c899470b7row2_col0\" class=\"data row2 col0\" >RandomForestClassifier</td>\n",
       "                        <td id=\"T_ee95a274_f842_11eb_b0ad_f45c899470b7row2_col1\" class=\"data row2 col1\" >0.220513</td>\n",
       "            </tr>\n",
       "    </tbody></table>"
      ],
      "text/plain": [
       "<pandas.io.formats.style.Styler at 0x7fa7037f3340>"
      ]
     },
     "execution_count": 107,
     "metadata": {},
     "output_type": "execute_result"
    }
   ],
   "source": [
    "pd.DataFrame(final_results).sort_values(by='F1', ascending=0).style.highlight_max(color = 'lightgreen', axis = 0)"
   ]
  },
  {
   "cell_type": "markdown",
   "metadata": {},
   "source": [
    "Как видно, наилучшее качество показала модель логистической регрессии с f1 - 0.755407 с гиперпараметрами class_weight='balanced', multi_class='multinomial'"
   ]
  },
  {
   "cell_type": "markdown",
   "metadata": {},
   "source": [
    "## Выводы"
   ]
  },
  {
   "cell_type": "markdown",
   "metadata": {},
   "source": [
    "В ходе выполнения проекта были выполнены следующие шаги:\n",
    "1. Проведено первичное знакомство с данными, выявлено:\n",
    "    * датафрейм содержит 2 столбца - комментарий и целевой признак,\n",
    "    * содержит 159571 строк, пропущенные значения отсутствуют,\n",
    "    * текст требовал очистки и подготовки перед обучением.\n",
    "2. Проанализирован баланс классов - 10% комментариев являются токсичными.\n",
    "3. Проведена обработка комментариев перед обучением:\n",
    "    * были удалены лишние символы, текст переведен в нижний регистр,\n",
    "    * удалены стоп-слова,\n",
    "    * проведена лемматизация текста\n",
    "4. Данные разделены на выборки, вычеслена TF-IDF.\n",
    "5. Обучены модели LogisticRegression, RandomForestClassifier, DecisionTreeClassifier с различными гиперпараметрами.\n",
    "\n",
    "Наилучшее качество показала модель LogisticRegression с качеством 0.755407, что удовлетворяет требованиям проекта.\n"
   ]
  },
  {
   "cell_type": "markdown",
   "metadata": {},
   "source": [
    "### Сделал подбор гиперпараметров на валидационной, после протестировал на тестовой с лучшими"
   ]
  }
 ],
 "metadata": {
  "kernelspec": {
   "display_name": "Python 3",
   "language": "python",
   "name": "python3"
  },
  "language_info": {
   "codemirror_mode": {
    "name": "ipython",
    "version": 3
   },
   "file_extension": ".py",
   "mimetype": "text/x-python",
   "name": "python",
   "nbconvert_exporter": "python",
   "pygments_lexer": "ipython3",
   "version": "3.8.5"
  },
  "toc": {
   "base_numbering": 1,
   "nav_menu": {},
   "number_sections": true,
   "sideBar": true,
   "skip_h1_title": true,
   "title_cell": "Содержание",
   "title_sidebar": "Contents",
   "toc_cell": true,
   "toc_position": {
    "height": "calc(100% - 180px)",
    "left": "10px",
    "top": "150px",
    "width": "302.391px"
   },
   "toc_section_display": true,
   "toc_window_display": false
  }
 },
 "nbformat": 4,
 "nbformat_minor": 2
}

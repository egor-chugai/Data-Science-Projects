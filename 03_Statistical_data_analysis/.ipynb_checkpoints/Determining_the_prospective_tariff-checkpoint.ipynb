{
 "cells": [
  {
   "cell_type": "markdown",
   "metadata": {},
   "source": [
    "# Определение перспективного тарифа для телеком компании"
   ]
  },
  {
   "cell_type": "markdown",
   "metadata": {},
   "source": [
    "## <a id=\"0.0\"></a>Содержание:\n",
    "\n",
    "* [1. Знакомство с данными, предварительная обработка данных.](#1.)\n",
    "    * [1.1. Таблица users.](#1.1.)\n",
    "    * [1.2. Таблица calls.](#1.2.)\n",
    "    * [1.3. Таблица internet.](#1.3.)\n",
    "    * [1.4. Таблица messages.](#1.4.)\n",
    "    * [1.5. Таблица tariffs.](#1.5.)\n",
    "* [2. Подсчет дополнительных показателей для каждого пользователя.](#2.)\n",
    "* [3. Анализ данных.](#3.)\n",
    "    * [3.1. Переплаты за доп.трафик и выручка по выборке.](#3.1.)\n",
    "    * [3.2. Анализ звонков, смс и интернет-трафика.](#3.2.)\n",
    "* [4. Проверка гипотез.](#4.)\n",
    "    * [4.1. Средняя выручка пользователей тарифов «Ультра» и «Смарт» различается.](#4.1.)\n",
    "    * [4.2. Средняя выручка пользователей из Москвы отличается от выручки пользователей из других регионов.](#4.2.)\n",
    "* [5. Общий вывод.](#5.)"
   ]
  },
  {
   "cell_type": "markdown",
   "metadata": {},
   "source": [
    "## 1. Знакомство с данными, предварительная обработка.<a name=\"1.\"></a>\n",
    "[к содержанию](#0.0)"
   ]
  },
  {
   "cell_type": "code",
   "execution_count": 2,
   "metadata": {},
   "outputs": [],
   "source": [
    "import pandas as pd\n",
    "import numpy as np\n",
    "import math\n",
    "from scipy import stats as st\n",
    "import matplotlib.pyplot as plt\n",
    "%matplotlib inline"
   ]
  },
  {
   "cell_type": "code",
   "execution_count": 3,
   "metadata": {},
   "outputs": [],
   "source": [
    "# считаем датасеты\n",
    "users = pd.read_csv('datasets/users.csv')\n",
    "calls = pd.read_csv('datasets/calls.csv')\n",
    "internet = pd.read_csv('datasets/internet.csv')\n",
    "messages = pd.read_csv('datasets/messages.csv')\n",
    "tariffs = pd.read_csv('datasets/tariffs.csv')"
   ]
  },
  {
   "cell_type": "markdown",
   "metadata": {},
   "source": [
    "Познакомимся детально с каждым датасетом и проведем предобработку данных."
   ]
  },
  {
   "cell_type": "markdown",
   "metadata": {},
   "source": [
    "## 1.1. Таблица users. <a name=\"1.1.\"></a>\n",
    "[к содержанию](#0.0)"
   ]
  },
  {
   "cell_type": "code",
   "execution_count": 4,
   "metadata": {},
   "outputs": [
    {
     "name": "stdout",
     "output_type": "stream",
     "text": [
      "   user_id  age churn_date         city first_name  last_name    reg_date  \\\n",
      "0     1000   52        NaN    Краснодар     Рафаил  Верещагин  2018-05-25   \n",
      "1     1001   41        NaN       Москва       Иван       Ежов  2018-11-01   \n",
      "2     1002   59        NaN  Стерлитамак    Евгений  Абрамович  2018-06-17   \n",
      "3     1003   23        NaN       Москва      Белла   Белякова  2018-08-17   \n",
      "4     1004   68        NaN  Новокузнецк    Татьяна   Авдеенко  2018-05-14   \n",
      "\n",
      "  tariff  \n",
      "0  ultra  \n",
      "1  smart  \n",
      "2  smart  \n",
      "3  ultra  \n",
      "4  ultra  \n",
      "\n",
      "           user_id        age\n",
      "count   500.000000  500.00000\n",
      "mean   1249.500000   46.58800\n",
      "std     144.481833   16.66763\n",
      "min    1000.000000   18.00000\n",
      "25%    1124.750000   32.00000\n",
      "50%    1249.500000   46.00000\n",
      "75%    1374.250000   62.00000\n",
      "max    1499.000000   75.00000\n",
      "\n",
      "<class 'pandas.core.frame.DataFrame'>\n",
      "RangeIndex: 500 entries, 0 to 499\n",
      "Data columns (total 8 columns):\n",
      " #   Column      Non-Null Count  Dtype \n",
      "---  ------      --------------  ----- \n",
      " 0   user_id     500 non-null    int64 \n",
      " 1   age         500 non-null    int64 \n",
      " 2   churn_date  38 non-null     object\n",
      " 3   city        500 non-null    object\n",
      " 4   first_name  500 non-null    object\n",
      " 5   last_name   500 non-null    object\n",
      " 6   reg_date    500 non-null    object\n",
      " 7   tariff      500 non-null    object\n",
      "dtypes: int64(2), object(6)\n",
      "memory usage: 31.4+ KB\n",
      "None\n",
      "\n"
     ]
    },
    {
     "data": {
      "text/plain": [
       "(None, None)"
      ]
     },
     "execution_count": 4,
     "metadata": {},
     "output_type": "execute_result"
    }
   ],
   "source": [
    "# используя методы head, describe, info, ознакомимся с общей информацией о таблице\n",
    "print(users.head()), print()\n",
    "print(users.describe()), print()\n",
    "print(users.info()), print()"
   ]
  },
  {
   "cell_type": "markdown",
   "metadata": {},
   "source": [
    "Метод describe указывает на отсутствие выбросов в поле age. Проверим на корректность поле **reg_date** и **churn_date**, заодно изменим тип данных на datetime."
   ]
  },
  {
   "cell_type": "code",
   "execution_count": 5,
   "metadata": {},
   "outputs": [],
   "source": [
    "# изменим тип данных в полях\n",
    "users.reg_date = pd.to_datetime(users.reg_date)\n",
    "users.churn_date = pd.to_datetime(users.churn_date)"
   ]
  },
  {
   "cell_type": "code",
   "execution_count": 6,
   "metadata": {},
   "outputs": [
    {
     "name": "stdout",
     "output_type": "stream",
     "text": [
      "Минимальное значение даты регистрации: 2018-01-01 00:00:00\n",
      "Максимальное значение даты регистрации: 2018-12-31 00:00:00\n",
      "Минимальное значение даты прекращения пользованием: 2018-08-17 00:00:00\n",
      "Максимальное значение даты прекращения пользованием: 2018-12-30 00:00:00\n"
     ]
    }
   ],
   "source": [
    "# проверим наличие выбросов, посмотрим минимальые и максимальные значения\n",
    "print('Минимальное значение даты регистрации:', pd.to_datetime(users.reg_date).min())\n",
    "print('Максимальное значение даты регистрации:', pd.to_datetime(users.reg_date).max())\n",
    "print('Минимальное значение даты прекращения пользованием:', pd.to_datetime(users.churn_date).min())\n",
    "print('Максимальное значение даты прекращения пользованием:', pd.to_datetime(users.churn_date).max())"
   ]
  },
  {
   "cell_type": "markdown",
   "metadata": {},
   "source": [
    "Как видно, выбросов в датах нет, все данные действительно за 2018 год. В поле **churn_date** есть пропущенные значения, но, как указано в описании полей, если значение пропущено, то тариф ещё действовал на момент выгрузки.\n",
    "Проверим данные на дубликаты и уникальность id пользователей."
   ]
  },
  {
   "cell_type": "code",
   "execution_count": 7,
   "metadata": {},
   "outputs": [
    {
     "name": "stdout",
     "output_type": "stream",
     "text": [
      "К-во уникальных пользователей: 500\n"
     ]
    }
   ],
   "source": [
    "# проверим уникальность user_id\n",
    "print('К-во уникальных пользователей:', users.user_id.nunique())"
   ]
  },
  {
   "cell_type": "markdown",
   "metadata": {},
   "source": [
    "К-во уникальных **user_id** - 500, это значит, что полных дубликатов в таблице нет."
   ]
  },
  {
   "cell_type": "markdown",
   "metadata": {},
   "source": [
    "## 1.2. Таблица calls<a name=\"1.2.\"></a>\n",
    "[к содержанию](#0.0)"
   ]
  },
  {
   "cell_type": "code",
   "execution_count": 8,
   "metadata": {},
   "outputs": [
    {
     "name": "stdout",
     "output_type": "stream",
     "text": [
      "       id   call_date  duration  user_id\n",
      "0  1000_0  2018-07-25      0.00     1000\n",
      "1  1000_1  2018-08-17      0.00     1000\n",
      "2  1000_2  2018-06-11      2.85     1000\n",
      "3  1000_3  2018-09-21     13.80     1000\n",
      "4  1000_4  2018-12-15      5.18     1000\n",
      "\n",
      "            duration        user_id\n",
      "count  202607.000000  202607.000000\n",
      "mean        6.755887    1253.940619\n",
      "std         5.843365     144.722751\n",
      "min         0.000000    1000.000000\n",
      "25%         1.300000    1126.000000\n",
      "50%         6.000000    1260.000000\n",
      "75%        10.700000    1379.000000\n",
      "max        38.000000    1499.000000\n",
      "\n",
      "<class 'pandas.core.frame.DataFrame'>\n",
      "RangeIndex: 202607 entries, 0 to 202606\n",
      "Data columns (total 4 columns):\n",
      " #   Column     Non-Null Count   Dtype  \n",
      "---  ------     --------------   -----  \n",
      " 0   id         202607 non-null  object \n",
      " 1   call_date  202607 non-null  object \n",
      " 2   duration   202607 non-null  float64\n",
      " 3   user_id    202607 non-null  int64  \n",
      "dtypes: float64(1), int64(1), object(2)\n",
      "memory usage: 6.2+ MB\n",
      "None\n",
      "\n"
     ]
    },
    {
     "data": {
      "text/plain": [
       "(None, None)"
      ]
     },
     "execution_count": 8,
     "metadata": {},
     "output_type": "execute_result"
    }
   ],
   "source": [
    "# используя методы head, describe, info, ознакомимся с общей информацией о таблице\n",
    "print(calls.head()), print()\n",
    "print(calls.describe()), print()\n",
    "print(calls.info()), print()"
   ]
  },
  {
   "cell_type": "markdown",
   "metadata": {},
   "source": [
    "Пропущенные значения отсутствуют, изменим тип данных в поле **call_date** на datetime."
   ]
  },
  {
   "cell_type": "code",
   "execution_count": 9,
   "metadata": {},
   "outputs": [],
   "source": [
    "calls.call_date = pd.to_datetime(calls.call_date)"
   ]
  },
  {
   "cell_type": "markdown",
   "metadata": {},
   "source": [
    "Метод head говорит нам о том, что длительность в **duration** не округлена до одной минуты, как указано в документации, сделаем это"
   ]
  },
  {
   "cell_type": "code",
   "execution_count": 10,
   "metadata": {},
   "outputs": [],
   "source": [
    "calls.duration = calls.duration.apply(np.ceil)"
   ]
  },
  {
   "cell_type": "markdown",
   "metadata": {},
   "source": [
    "Метод describe показал нам, что минимальное значение - 0 секунд, посмотрим распределение по данному полю более подробно"
   ]
  },
  {
   "cell_type": "code",
   "execution_count": 11,
   "metadata": {},
   "outputs": [
    {
     "data": {
      "image/png": "[encoded data removed]",
      "text/plain": [
       "<Figure size 432x288 with 1 Axes>"
      ]
     },
     "metadata": {
      "needs_background": "light"
     },
     "output_type": "display_data"
    }
   ],
   "source": [
    "# посмтроим гистограмму распределениея длительности звонков\n",
    "calls.duration.hist(bins=37)\n",
    "plt.title(\"Распределение длительности звонков\")\n",
    "plt.xlabel(\"Время звонка, мин.\")\n",
    "plt.ylabel(\"Частота\")\n",
    "plt.show()"
   ]
  },
  {
   "cell_type": "code",
   "execution_count": 12,
   "metadata": {},
   "outputs": [
    {
     "name": "stdout",
     "output_type": "stream",
     "text": [
      "К-во нулевых значений в duration: 39613\n"
     ]
    }
   ],
   "source": [
    "# проверим нулевые значения\n",
    "print('К-во нулевых значений в duration:', calls[calls.duration == 0]['duration'].count())"
   ]
  },
  {
   "cell_type": "markdown",
   "metadata": {},
   "source": [
    "Посмотрим, как нулевые звонки распределяются по пользователям и по тарифам"
   ]
  },
  {
   "cell_type": "code",
   "execution_count": 13,
   "metadata": {},
   "outputs": [
    {
     "data": {
      "text/plain": [
       "user_id\n",
       "1377    336\n",
       "1168    308\n",
       "1453    295\n",
       "1375    290\n",
       "1196    262\n",
       "       ... \n",
       "1206      6\n",
       "1442      5\n",
       "1406      5\n",
       "1084      5\n",
       "1424      5\n",
       "Name: user_id, Length: 492, dtype: int64"
      ]
     },
     "execution_count": 13,
     "metadata": {},
     "output_type": "execute_result"
    }
   ],
   "source": [
    "# проверим распределение по пользователям\n",
    "calls[calls.duration == 0].groupby('user_id')['user_id'].count().sort_values(ascending=False)"
   ]
  },
  {
   "cell_type": "code",
   "execution_count": 14,
   "metadata": {},
   "outputs": [
    {
     "data": {
      "text/plain": [
       "tariff\n",
       "smart    25669\n",
       "ultra    13944\n",
       "Name: user_id, dtype: int64"
      ]
     },
     "execution_count": 14,
     "metadata": {},
     "output_type": "execute_result"
    }
   ],
   "source": [
    "# проверим распределение по тарифам\n",
    "calls[calls.duration == 0].merge(users, on='user_id').groupby('tariff')['user_id'].count()"
   ]
  },
  {
   "cell_type": "code",
   "execution_count": 15,
   "metadata": {},
   "outputs": [
    {
     "data": {
      "text/html": [
       "<div>\n",
       "<style scoped>\n",
       "    .dataframe tbody tr th:only-of-type {\n",
       "        vertical-align: middle;\n",
       "    }\n",
       "\n",
       "    .dataframe tbody tr th {\n",
       "        vertical-align: top;\n",
       "    }\n",
       "\n",
       "    .dataframe thead th {\n",
       "        text-align: right;\n",
       "    }\n",
       "</style>\n",
       "<table border=\"1\" class=\"dataframe\">\n",
       "  <thead>\n",
       "    <tr style=\"text-align: right;\">\n",
       "      <th></th>\n",
       "      <th>id</th>\n",
       "      <th>call_date</th>\n",
       "      <th>duration</th>\n",
       "      <th>user_id</th>\n",
       "      <th>age</th>\n",
       "      <th>churn_date</th>\n",
       "      <th>city</th>\n",
       "      <th>first_name</th>\n",
       "      <th>last_name</th>\n",
       "      <th>reg_date</th>\n",
       "      <th>tariff</th>\n",
       "    </tr>\n",
       "  </thead>\n",
       "  <tbody>\n",
       "    <tr>\n",
       "      <th>0</th>\n",
       "      <td>1000_0</td>\n",
       "      <td>2018-07-25</td>\n",
       "      <td>0.0</td>\n",
       "      <td>1000</td>\n",
       "      <td>52</td>\n",
       "      <td>NaT</td>\n",
       "      <td>Краснодар</td>\n",
       "      <td>Рафаил</td>\n",
       "      <td>Верещагин</td>\n",
       "      <td>2018-05-25</td>\n",
       "      <td>ultra</td>\n",
       "    </tr>\n",
       "    <tr>\n",
       "      <th>1</th>\n",
       "      <td>1000_1</td>\n",
       "      <td>2018-08-17</td>\n",
       "      <td>0.0</td>\n",
       "      <td>1000</td>\n",
       "      <td>52</td>\n",
       "      <td>NaT</td>\n",
       "      <td>Краснодар</td>\n",
       "      <td>Рафаил</td>\n",
       "      <td>Верещагин</td>\n",
       "      <td>2018-05-25</td>\n",
       "      <td>ultra</td>\n",
       "    </tr>\n",
       "    <tr>\n",
       "      <th>2</th>\n",
       "      <td>1000_5</td>\n",
       "      <td>2018-11-02</td>\n",
       "      <td>0.0</td>\n",
       "      <td>1000</td>\n",
       "      <td>52</td>\n",
       "      <td>NaT</td>\n",
       "      <td>Краснодар</td>\n",
       "      <td>Рафаил</td>\n",
       "      <td>Верещагин</td>\n",
       "      <td>2018-05-25</td>\n",
       "      <td>ultra</td>\n",
       "    </tr>\n",
       "    <tr>\n",
       "      <th>3</th>\n",
       "      <td>1000_6</td>\n",
       "      <td>2018-10-18</td>\n",
       "      <td>0.0</td>\n",
       "      <td>1000</td>\n",
       "      <td>52</td>\n",
       "      <td>NaT</td>\n",
       "      <td>Краснодар</td>\n",
       "      <td>Рафаил</td>\n",
       "      <td>Верещагин</td>\n",
       "      <td>2018-05-25</td>\n",
       "      <td>ultra</td>\n",
       "    </tr>\n",
       "    <tr>\n",
       "      <th>4</th>\n",
       "      <td>1000_9</td>\n",
       "      <td>2018-08-15</td>\n",
       "      <td>0.0</td>\n",
       "      <td>1000</td>\n",
       "      <td>52</td>\n",
       "      <td>NaT</td>\n",
       "      <td>Краснодар</td>\n",
       "      <td>Рафаил</td>\n",
       "      <td>Верещагин</td>\n",
       "      <td>2018-05-25</td>\n",
       "      <td>ultra</td>\n",
       "    </tr>\n",
       "    <tr>\n",
       "      <th>...</th>\n",
       "      <td>...</td>\n",
       "      <td>...</td>\n",
       "      <td>...</td>\n",
       "      <td>...</td>\n",
       "      <td>...</td>\n",
       "      <td>...</td>\n",
       "      <td>...</td>\n",
       "      <td>...</td>\n",
       "      <td>...</td>\n",
       "      <td>...</td>\n",
       "      <td>...</td>\n",
       "    </tr>\n",
       "    <tr>\n",
       "      <th>39608</th>\n",
       "      <td>1499_203</td>\n",
       "      <td>2018-12-03</td>\n",
       "      <td>0.0</td>\n",
       "      <td>1499</td>\n",
       "      <td>35</td>\n",
       "      <td>NaT</td>\n",
       "      <td>Пермь</td>\n",
       "      <td>Гектор</td>\n",
       "      <td>Корнилов</td>\n",
       "      <td>2018-09-27</td>\n",
       "      <td>smart</td>\n",
       "    </tr>\n",
       "    <tr>\n",
       "      <th>39609</th>\n",
       "      <td>1499_205</td>\n",
       "      <td>2018-10-13</td>\n",
       "      <td>0.0</td>\n",
       "      <td>1499</td>\n",
       "      <td>35</td>\n",
       "      <td>NaT</td>\n",
       "      <td>Пермь</td>\n",
       "      <td>Гектор</td>\n",
       "      <td>Корнилов</td>\n",
       "      <td>2018-09-27</td>\n",
       "      <td>smart</td>\n",
       "    </tr>\n",
       "    <tr>\n",
       "      <th>39610</th>\n",
       "      <td>1499_206</td>\n",
       "      <td>2018-12-26</td>\n",
       "      <td>0.0</td>\n",
       "      <td>1499</td>\n",
       "      <td>35</td>\n",
       "      <td>NaT</td>\n",
       "      <td>Пермь</td>\n",
       "      <td>Гектор</td>\n",
       "      <td>Корнилов</td>\n",
       "      <td>2018-09-27</td>\n",
       "      <td>smart</td>\n",
       "    </tr>\n",
       "    <tr>\n",
       "      <th>39611</th>\n",
       "      <td>1499_207</td>\n",
       "      <td>2018-10-28</td>\n",
       "      <td>0.0</td>\n",
       "      <td>1499</td>\n",
       "      <td>35</td>\n",
       "      <td>NaT</td>\n",
       "      <td>Пермь</td>\n",
       "      <td>Гектор</td>\n",
       "      <td>Корнилов</td>\n",
       "      <td>2018-09-27</td>\n",
       "      <td>smart</td>\n",
       "    </tr>\n",
       "    <tr>\n",
       "      <th>39612</th>\n",
       "      <td>1499_209</td>\n",
       "      <td>2018-12-16</td>\n",
       "      <td>0.0</td>\n",
       "      <td>1499</td>\n",
       "      <td>35</td>\n",
       "      <td>NaT</td>\n",
       "      <td>Пермь</td>\n",
       "      <td>Гектор</td>\n",
       "      <td>Корнилов</td>\n",
       "      <td>2018-09-27</td>\n",
       "      <td>smart</td>\n",
       "    </tr>\n",
       "  </tbody>\n",
       "</table>\n",
       "<p>39613 rows × 11 columns</p>\n",
       "</div>"
      ],
      "text/plain": [
       "             id  call_date  duration  user_id  age churn_date       city  \\\n",
       "0        1000_0 2018-07-25       0.0     1000   52        NaT  Краснодар   \n",
       "1        1000_1 2018-08-17       0.0     1000   52        NaT  Краснодар   \n",
       "2        1000_5 2018-11-02       0.0     1000   52        NaT  Краснодар   \n",
       "3        1000_6 2018-10-18       0.0     1000   52        NaT  Краснодар   \n",
       "4        1000_9 2018-08-15       0.0     1000   52        NaT  Краснодар   \n",
       "...         ...        ...       ...      ...  ...        ...        ...   \n",
       "39608  1499_203 2018-12-03       0.0     1499   35        NaT      Пермь   \n",
       "39609  1499_205 2018-10-13       0.0     1499   35        NaT      Пермь   \n",
       "39610  1499_206 2018-12-26       0.0     1499   35        NaT      Пермь   \n",
       "39611  1499_207 2018-10-28       0.0     1499   35        NaT      Пермь   \n",
       "39612  1499_209 2018-12-16       0.0     1499   35        NaT      Пермь   \n",
       "\n",
       "      first_name  last_name   reg_date tariff  \n",
       "0         Рафаил  Верещагин 2018-05-25  ultra  \n",
       "1         Рафаил  Верещагин 2018-05-25  ultra  \n",
       "2         Рафаил  Верещагин 2018-05-25  ultra  \n",
       "3         Рафаил  Верещагин 2018-05-25  ultra  \n",
       "4         Рафаил  Верещагин 2018-05-25  ultra  \n",
       "...          ...        ...        ...    ...  \n",
       "39608     Гектор   Корнилов 2018-09-27  smart  \n",
       "39609     Гектор   Корнилов 2018-09-27  smart  \n",
       "39610     Гектор   Корнилов 2018-09-27  smart  \n",
       "39611     Гектор   Корнилов 2018-09-27  smart  \n",
       "39612     Гектор   Корнилов 2018-09-27  smart  \n",
       "\n",
       "[39613 rows x 11 columns]"
      ]
     },
     "execution_count": 15,
     "metadata": {},
     "output_type": "execute_result"
    }
   ],
   "source": [
    "calls[calls.duration == 0].merge(users, on = 'user_id')"
   ]
  },
  {
   "cell_type": "code",
   "execution_count": 16,
   "metadata": {},
   "outputs": [
    {
     "data": {
      "text/html": [
       "<div>\n",
       "<style scoped>\n",
       "    .dataframe tbody tr th:only-of-type {\n",
       "        vertical-align: middle;\n",
       "    }\n",
       "\n",
       "    .dataframe tbody tr th {\n",
       "        vertical-align: top;\n",
       "    }\n",
       "\n",
       "    .dataframe thead th {\n",
       "        text-align: right;\n",
       "    }\n",
       "</style>\n",
       "<table border=\"1\" class=\"dataframe\">\n",
       "  <thead>\n",
       "    <tr style=\"text-align: right;\">\n",
       "      <th></th>\n",
       "      <th>user_id</th>\n",
       "      <th>age</th>\n",
       "      <th>churn_date</th>\n",
       "      <th>city</th>\n",
       "      <th>first_name</th>\n",
       "      <th>last_name</th>\n",
       "      <th>reg_date</th>\n",
       "      <th>tariff</th>\n",
       "    </tr>\n",
       "  </thead>\n",
       "  <tbody>\n",
       "    <tr>\n",
       "      <th>0</th>\n",
       "      <td>1000</td>\n",
       "      <td>52</td>\n",
       "      <td>NaT</td>\n",
       "      <td>Краснодар</td>\n",
       "      <td>Рафаил</td>\n",
       "      <td>Верещагин</td>\n",
       "      <td>2018-05-25</td>\n",
       "      <td>ultra</td>\n",
       "    </tr>\n",
       "    <tr>\n",
       "      <th>1</th>\n",
       "      <td>1001</td>\n",
       "      <td>41</td>\n",
       "      <td>NaT</td>\n",
       "      <td>Москва</td>\n",
       "      <td>Иван</td>\n",
       "      <td>Ежов</td>\n",
       "      <td>2018-11-01</td>\n",
       "      <td>smart</td>\n",
       "    </tr>\n",
       "    <tr>\n",
       "      <th>2</th>\n",
       "      <td>1002</td>\n",
       "      <td>59</td>\n",
       "      <td>NaT</td>\n",
       "      <td>Стерлитамак</td>\n",
       "      <td>Евгений</td>\n",
       "      <td>Абрамович</td>\n",
       "      <td>2018-06-17</td>\n",
       "      <td>smart</td>\n",
       "    </tr>\n",
       "    <tr>\n",
       "      <th>3</th>\n",
       "      <td>1003</td>\n",
       "      <td>23</td>\n",
       "      <td>NaT</td>\n",
       "      <td>Москва</td>\n",
       "      <td>Белла</td>\n",
       "      <td>Белякова</td>\n",
       "      <td>2018-08-17</td>\n",
       "      <td>ultra</td>\n",
       "    </tr>\n",
       "    <tr>\n",
       "      <th>4</th>\n",
       "      <td>1004</td>\n",
       "      <td>68</td>\n",
       "      <td>NaT</td>\n",
       "      <td>Новокузнецк</td>\n",
       "      <td>Татьяна</td>\n",
       "      <td>Авдеенко</td>\n",
       "      <td>2018-05-14</td>\n",
       "      <td>ultra</td>\n",
       "    </tr>\n",
       "    <tr>\n",
       "      <th>...</th>\n",
       "      <td>...</td>\n",
       "      <td>...</td>\n",
       "      <td>...</td>\n",
       "      <td>...</td>\n",
       "      <td>...</td>\n",
       "      <td>...</td>\n",
       "      <td>...</td>\n",
       "      <td>...</td>\n",
       "    </tr>\n",
       "    <tr>\n",
       "      <th>495</th>\n",
       "      <td>1495</td>\n",
       "      <td>65</td>\n",
       "      <td>NaT</td>\n",
       "      <td>Иркутск</td>\n",
       "      <td>Авксентий</td>\n",
       "      <td>Фокин</td>\n",
       "      <td>2018-08-28</td>\n",
       "      <td>ultra</td>\n",
       "    </tr>\n",
       "    <tr>\n",
       "      <th>496</th>\n",
       "      <td>1496</td>\n",
       "      <td>36</td>\n",
       "      <td>NaT</td>\n",
       "      <td>Вологда</td>\n",
       "      <td>Трифон</td>\n",
       "      <td>Блохин</td>\n",
       "      <td>2018-01-27</td>\n",
       "      <td>smart</td>\n",
       "    </tr>\n",
       "    <tr>\n",
       "      <th>497</th>\n",
       "      <td>1497</td>\n",
       "      <td>32</td>\n",
       "      <td>NaT</td>\n",
       "      <td>Челябинск</td>\n",
       "      <td>Каролина</td>\n",
       "      <td>Агеева</td>\n",
       "      <td>2018-10-09</td>\n",
       "      <td>smart</td>\n",
       "    </tr>\n",
       "    <tr>\n",
       "      <th>498</th>\n",
       "      <td>1498</td>\n",
       "      <td>68</td>\n",
       "      <td>2018-10-25</td>\n",
       "      <td>Владикавказ</td>\n",
       "      <td>Всеволод</td>\n",
       "      <td>Акимчин</td>\n",
       "      <td>2018-07-19</td>\n",
       "      <td>smart</td>\n",
       "    </tr>\n",
       "    <tr>\n",
       "      <th>499</th>\n",
       "      <td>1499</td>\n",
       "      <td>35</td>\n",
       "      <td>NaT</td>\n",
       "      <td>Пермь</td>\n",
       "      <td>Гектор</td>\n",
       "      <td>Корнилов</td>\n",
       "      <td>2018-09-27</td>\n",
       "      <td>smart</td>\n",
       "    </tr>\n",
       "  </tbody>\n",
       "</table>\n",
       "<p>500 rows × 8 columns</p>\n",
       "</div>"
      ],
      "text/plain": [
       "     user_id  age churn_date         city first_name  last_name   reg_date  \\\n",
       "0       1000   52        NaT    Краснодар     Рафаил  Верещагин 2018-05-25   \n",
       "1       1001   41        NaT       Москва       Иван       Ежов 2018-11-01   \n",
       "2       1002   59        NaT  Стерлитамак    Евгений  Абрамович 2018-06-17   \n",
       "3       1003   23        NaT       Москва      Белла   Белякова 2018-08-17   \n",
       "4       1004   68        NaT  Новокузнецк    Татьяна   Авдеенко 2018-05-14   \n",
       "..       ...  ...        ...          ...        ...        ...        ...   \n",
       "495     1495   65        NaT      Иркутск  Авксентий      Фокин 2018-08-28   \n",
       "496     1496   36        NaT      Вологда     Трифон     Блохин 2018-01-27   \n",
       "497     1497   32        NaT    Челябинск   Каролина     Агеева 2018-10-09   \n",
       "498     1498   68 2018-10-25  Владикавказ   Всеволод    Акимчин 2018-07-19   \n",
       "499     1499   35        NaT        Пермь     Гектор   Корнилов 2018-09-27   \n",
       "\n",
       "    tariff  \n",
       "0    ultra  \n",
       "1    smart  \n",
       "2    smart  \n",
       "3    ultra  \n",
       "4    ultra  \n",
       "..     ...  \n",
       "495  ultra  \n",
       "496  smart  \n",
       "497  smart  \n",
       "498  smart  \n",
       "499  smart  \n",
       "\n",
       "[500 rows x 8 columns]"
      ]
     },
     "execution_count": 16,
     "metadata": {},
     "output_type": "execute_result"
    }
   ],
   "source": [
    "users"
   ]
  },
  {
   "cell_type": "markdown",
   "metadata": {},
   "source": [
    "Судя по распределению, нулевые значения не сконцентрированы у одних и тех же пользователей или в одних и тех же тарифах.\n",
    "\n",
    "Можем предположить, что такие значения являются несостоявшимися разговорами, например, когда номер был занят или абонент был вне зоны действия сети.\n",
    "\n",
    "В таком случае, так как данные звонки не используют минуты трафика и будут только мешать при анализе, можем удалить их из таблицы."
   ]
  },
  {
   "cell_type": "code",
   "execution_count": 17,
   "metadata": {},
   "outputs": [],
   "source": [
    "# оставим в таблице только строки со значением >= 1 минуте\n",
    "calls = calls[calls.duration > 0]"
   ]
  },
  {
   "cell_type": "code",
   "execution_count": 18,
   "metadata": {},
   "outputs": [
    {
     "data": {
      "image/png": "[encoded data removed]",
      "text/plain": [
       "<Figure size 432x288 with 1 Axes>"
      ]
     },
     "metadata": {
      "needs_background": "light"
     },
     "output_type": "display_data"
    }
   ],
   "source": [
    "# повторно построим гистограмму распределения длительности звонков\n",
    "calls.duration.hist(bins=37)\n",
    "plt.title(\"Распределение длительности звонков\")\n",
    "plt.xlabel(\"Время звонка, мин.\")\n",
    "plt.ylabel(\"Частота\")\n",
    "plt.show()"
   ]
  },
  {
   "cell_type": "markdown",
   "metadata": {},
   "source": [
    "## 1.3. Таблица internet<a name=\"1.3.\"></a>\n",
    "[к содержанию](#0.0)"
   ]
  },
  {
   "cell_type": "code",
   "execution_count": 19,
   "metadata": {},
   "outputs": [
    {
     "name": "stdout",
     "output_type": "stream",
     "text": [
      "   Unnamed: 0      id  mb_used session_date  user_id\n",
      "0           0  1000_0   112.95   2018-11-25     1000\n",
      "1           1  1000_1  1052.81   2018-09-07     1000\n",
      "2           2  1000_2  1197.26   2018-06-25     1000\n",
      "3           3  1000_3   550.27   2018-08-22     1000\n",
      "4           4  1000_4   302.56   2018-09-24     1000\n",
      "\n",
      "          Unnamed: 0        mb_used        user_id\n",
      "count  149396.000000  149396.000000  149396.000000\n",
      "mean    74697.500000     370.192426    1252.099842\n",
      "std     43127.054745     278.300951     144.050823\n",
      "min         0.000000       0.000000    1000.000000\n",
      "25%     37348.750000     138.187500    1130.000000\n",
      "50%     74697.500000     348.015000    1251.000000\n",
      "75%    112046.250000     559.552500    1380.000000\n",
      "max    149395.000000    1724.830000    1499.000000\n",
      "\n",
      "<class 'pandas.core.frame.DataFrame'>\n",
      "RangeIndex: 149396 entries, 0 to 149395\n",
      "Data columns (total 5 columns):\n",
      " #   Column        Non-Null Count   Dtype  \n",
      "---  ------        --------------   -----  \n",
      " 0   Unnamed: 0    149396 non-null  int64  \n",
      " 1   id            149396 non-null  object \n",
      " 2   mb_used       149396 non-null  float64\n",
      " 3   session_date  149396 non-null  object \n",
      " 4   user_id       149396 non-null  int64  \n",
      "dtypes: float64(1), int64(2), object(2)\n",
      "memory usage: 5.7+ MB\n",
      "None\n",
      "\n"
     ]
    },
    {
     "data": {
      "text/plain": [
       "(None, None)"
      ]
     },
     "execution_count": 19,
     "metadata": {},
     "output_type": "execute_result"
    }
   ],
   "source": [
    "# используя методы head, describe, info, ознакомимся с общей информацией о таблице\n",
    "print(internet.head()), print()\n",
    "print(internet.describe()), print()\n",
    "print(internet.info()), print()"
   ]
  },
  {
   "cell_type": "markdown",
   "metadata": {},
   "source": [
    "Пропуски отсутствуют. Как и в случае с таблицей calls, заменим тип данных в **session_date** на datetime, округлим **mb_used** до целых."
   ]
  },
  {
   "cell_type": "code",
   "execution_count": 20,
   "metadata": {},
   "outputs": [],
   "source": [
    "internet.session_date = pd.to_datetime(internet.session_date)\n",
    "internet.mb_used = internet.mb_used.apply(np.ceil)"
   ]
  },
  {
   "cell_type": "markdown",
   "metadata": {},
   "source": [
    "Посмотрим на гистаграмму распределения **mb_used**, там также есть нули, судя по describe."
   ]
  },
  {
   "cell_type": "code",
   "execution_count": 21,
   "metadata": {},
   "outputs": [
    {
     "data": {
      "image/png": "[encoded data removed]",
      "text/plain": [
       "<Figure size 432x288 with 1 Axes>"
      ]
     },
     "metadata": {
      "needs_background": "light"
     },
     "output_type": "display_data"
    }
   ],
   "source": [
    "# построим гистограмму распределения интернет-сессии по длительности\n",
    "internet.mb_used.hist(bins=37)\n",
    "plt.title(\"Распределение потраченного за сессию трафика\")\n",
    "plt.xlabel(\"Время сессии, мин.\")\n",
    "plt.ylabel(\"Частота\")\n",
    "plt.show()"
   ]
  },
  {
   "cell_type": "code",
   "execution_count": 22,
   "metadata": {},
   "outputs": [
    {
     "name": "stdout",
     "output_type": "stream",
     "text": [
      "К-во сессий с нулевым временем: 19598\n"
     ]
    }
   ],
   "source": [
    "# посмотрим на количество сессий с нулевым временем\n",
    "print('К-во сессий с нулевым временем:', internet[internet.mb_used == 0]['mb_used'].count())"
   ]
  },
  {
   "cell_type": "markdown",
   "metadata": {},
   "source": [
    "Можно предположить, что это те сессии, когда интернет обрывается и пользователь не успевает загрузить ни одной web-страницы. Так как они тоже не будут участвовать в анализе, удалим их из таблицы."
   ]
  },
  {
   "cell_type": "code",
   "execution_count": 23,
   "metadata": {},
   "outputs": [],
   "source": [
    "internet = internet[internet.mb_used > 0]"
   ]
  },
  {
   "cell_type": "markdown",
   "metadata": {},
   "source": [
    "## 1.4. Таблица messages<a name=\"1.4.\"></a>\n",
    "[к содержанию](#0.0)"
   ]
  },
  {
   "cell_type": "code",
   "execution_count": 24,
   "metadata": {},
   "outputs": [
    {
     "name": "stdout",
     "output_type": "stream",
     "text": [
      "       id message_date  user_id\n",
      "0  1000_0   2018-06-27     1000\n",
      "1  1000_1   2018-10-08     1000\n",
      "2  1000_2   2018-08-04     1000\n",
      "3  1000_3   2018-06-16     1000\n",
      "4  1000_4   2018-12-05     1000\n",
      "\n",
      "<class 'pandas.core.frame.DataFrame'>\n",
      "RangeIndex: 123036 entries, 0 to 123035\n",
      "Data columns (total 3 columns):\n",
      " #   Column        Non-Null Count   Dtype \n",
      "---  ------        --------------   ----- \n",
      " 0   id            123036 non-null  object\n",
      " 1   message_date  123036 non-null  object\n",
      " 2   user_id       123036 non-null  int64 \n",
      "dtypes: int64(1), object(2)\n",
      "memory usage: 2.8+ MB\n",
      "None\n",
      "\n"
     ]
    },
    {
     "data": {
      "text/plain": [
       "(None, None)"
      ]
     },
     "execution_count": 24,
     "metadata": {},
     "output_type": "execute_result"
    }
   ],
   "source": [
    "# используя методы head, info, ознакомимся с общей информацией о таблице\n",
    "print(messages.head()), print()\n",
    "print(messages.info()), print()"
   ]
  },
  {
   "cell_type": "markdown",
   "metadata": {},
   "source": [
    "В таблице отсутствуют пропуски, осталось лишь заменить тип данных **message_date** на datetime."
   ]
  },
  {
   "cell_type": "code",
   "execution_count": 25,
   "metadata": {},
   "outputs": [],
   "source": [
    "messages.message_date = pd.to_datetime(messages.message_date)"
   ]
  },
  {
   "cell_type": "markdown",
   "metadata": {},
   "source": [
    "## 1.5. Таблица tariffs<a name=\"1.5.\"></a>\n",
    "[к содержанию](#0.0)"
   ]
  },
  {
   "cell_type": "code",
   "execution_count": 26,
   "metadata": {},
   "outputs": [
    {
     "name": "stdout",
     "output_type": "stream",
     "text": [
      "   messages_included  mb_per_month_included  minutes_included  \\\n",
      "0                 50                  15360               500   \n",
      "1               1000                  30720              3000   \n",
      "\n",
      "   rub_monthly_fee  rub_per_gb  rub_per_message  rub_per_minute tariff_name  \n",
      "0              550         200                3               3       smart  \n",
      "1             1950         150                1               1       ultra  \n",
      "\n",
      "<class 'pandas.core.frame.DataFrame'>\n",
      "RangeIndex: 2 entries, 0 to 1\n",
      "Data columns (total 8 columns):\n",
      " #   Column                 Non-Null Count  Dtype \n",
      "---  ------                 --------------  ----- \n",
      " 0   messages_included      2 non-null      int64 \n",
      " 1   mb_per_month_included  2 non-null      int64 \n",
      " 2   minutes_included       2 non-null      int64 \n",
      " 3   rub_monthly_fee        2 non-null      int64 \n",
      " 4   rub_per_gb             2 non-null      int64 \n",
      " 5   rub_per_message        2 non-null      int64 \n",
      " 6   rub_per_minute         2 non-null      int64 \n",
      " 7   tariff_name            2 non-null      object\n",
      "dtypes: int64(7), object(1)\n",
      "memory usage: 256.0+ bytes\n",
      "None\n",
      "\n"
     ]
    },
    {
     "data": {
      "text/plain": [
       "(None, None)"
      ]
     },
     "execution_count": 26,
     "metadata": {},
     "output_type": "execute_result"
    }
   ],
   "source": [
    "# используя методы head, describe, info, ознакомимся с общей информацией о таблице\n",
    "print(tariffs.head()), print()\n",
    "print(tariffs.info()), print()"
   ]
  },
  {
   "cell_type": "markdown",
   "metadata": {},
   "source": [
    "Таблица содержит лишь общую информацию, характеризующую каждый тариф, пропусков и ошибок нет."
   ]
  },
  {
   "cell_type": "markdown",
   "metadata": {},
   "source": [
    "## Вывод"
   ]
  },
  {
   "cell_type": "markdown",
   "metadata": {},
   "source": [
    "В первом шаге мы познакомились с данными, изменили типы данных на datetime в полях, где была указана дата, обнаружили пропущенные значения в **churn_date**, но, как указано в описании проекта, они обусловлены тем, что тариф действует на момент выгрузки. Таблица **users** проверена на дубликаты - user_id уникальны, значит, дубликатов нет.\n",
    "\n",
    "В полях **duration** и **mb_used** значения минут и мегабайт были округлены вверх, как указано в описании проекта. Также в этих полях были обнаружены нулевые значения. Нулевые значения в **duration** могут быть связаны с несостоявшимися разговорами, например, когда номер был занят или абонент был вне зоны действия сети. Нулевые значения в **mb_used** могут быть обусловлены тем, что в таких случаях интернет обрывается и пользователь не успевает загрузить ни одной web-страницы.\n",
    "Данные значения были удалены из выборок, чтобы не искажать результаты анализа."
   ]
  },
  {
   "cell_type": "markdown",
   "metadata": {},
   "source": [
    "<div class=\"alert alert-block alert-success\">\n",
    "<b>КОММЕНТАРИЙ РЕВЬЮВЕРА:</b> \n",
    "    \n",
    "    \n",
    "Молодец, очень даже хороший обзор и предобработка, молодец\n",
    "\n",
    "\n",
    "</div>"
   ]
  },
  {
   "cell_type": "raw",
   "metadata": {},
   "source": [
    "# КОД РЕВЬЮВЕРА\n",
    "\n",
    "all_dfs = [users, calls, messages, ....] # собираем все датафреймы в одну общую переменную\n",
    "\n",
    "# далее по каждому датафрейму из all_dfs пробегаемся и выводим то, что требуется\n",
    "\n",
    "for df in all_dfs:\n",
    "    \n",
    "    display(df.head())\n",
    "    print(df.info())\n",
    "    print(df.describe())\n",
    "    print('***************************')"
   ]
  },
  {
   "cell_type": "markdown",
   "metadata": {},
   "source": [
    "## 2. Подсчет дополнительных показателей для каждого пользователя.   <a name=\"2.\"></a>\n",
    "[к содержанию](#0.0)\n",
    "\n",
    "* количество сделанных звонков и израсходованных минут разговора по месяцам;  \n",
    "* количество отправленных сообщений по месяцам;  \n",
    "* объем израсходованного интернет-трафика по месяцам;  \n",
    "* помесячную выручку с каждого пользователя (вычтите бесплатный лимит из суммарного количества звонков, сообщений и интернет-трафика; остаток умножьте на значение из тарифного плана; прибавьте абонентскую плату, соответствующую тарифному плану).\n",
    "    "
   ]
  },
  {
   "cell_type": "markdown",
   "metadata": {},
   "source": [
    "Для начала добавим в датасеты **calls, internet, messages** дополнительное поле с месяцем."
   ]
  },
  {
   "cell_type": "code",
   "execution_count": 27,
   "metadata": {},
   "outputs": [],
   "source": [
    "# добавим поля с месяцами в датасеты\n",
    "calls['month'] = calls.call_date.dt.month\n",
    "internet['month'] = internet.session_date.dt.month\n",
    "messages['month'] = messages.message_date.dt.month"
   ]
  },
  {
   "cell_type": "markdown",
   "metadata": {},
   "source": [
    "Для каждого клиента посчитаем израсхдованный трафик по месяцам."
   ]
  },
  {
   "cell_type": "code",
   "execution_count": 28,
   "metadata": {},
   "outputs": [],
   "source": [
    "# посчитаем количество сделанных звонков и израсходованных минут разговора по месяцам\n",
    "clients_calls_traffic = calls.groupby(['user_id', 'month']).\\\n",
    "    agg({'call_date' : 'count', 'duration' : 'sum'}).\\\n",
    "    rename(columns={'call_date' : 'calls_count', 'duration' : 'minutes_sum'})\n",
    "\n",
    "# посчитаем количество израсходованного интернет-трафика по месяцам\n",
    "clients_internet_traffic = internet.groupby(['user_id', 'month']).\\\n",
    "    agg({'mb_used' : 'sum'}).rename(columns={'mb_used' : 'mb_used_sum'})\n",
    "\n",
    "# посчитаем количество отправленных сообщений\n",
    "clients_messages_traffic = messages.groupby(['user_id', 'month']).\\\n",
    "    agg({'id' : 'count'}).rename(columns={'id' : 'messages_count'})"
   ]
  },
  {
   "cell_type": "markdown",
   "metadata": {},
   "source": [
    "Объединим полученные таблицы, добавим информацию из таблицы tariffs для расчета выручки."
   ]
  },
  {
   "cell_type": "code",
   "execution_count": 29,
   "metadata": {},
   "outputs": [],
   "source": [
    "# применим метод concat и объединим таблицы с расчетами\n",
    "clients_pivot = \\\n",
    "    pd.concat([clients_calls_traffic, clients_internet_traffic, clients_messages_traffic], axis=1).reset_index()\n",
    "\n",
    "# добавим информацию из таблицы tariffs\n",
    "clients_pivot = clients_pivot.merge(users[['user_id', 'tariff', 'city']]).\\\n",
    "    merge(tariffs, left_on='tariff', right_on='tariff_name')\n",
    "\n",
    "# удалим лишний столбец с названием тарифа\n",
    "clients_pivot.drop(['tariff_name'], axis = 1, inplace=True)"
   ]
  },
  {
   "cell_type": "markdown",
   "metadata": {},
   "source": [
    "Посмотрим полученный датасет."
   ]
  },
  {
   "cell_type": "code",
   "execution_count": 30,
   "metadata": {},
   "outputs": [
    {
     "name": "stdout",
     "output_type": "stream",
     "text": [
      "<class 'pandas.core.frame.DataFrame'>\n",
      "Int64Index: 3214 entries, 0 to 3213\n",
      "Data columns (total 15 columns):\n",
      " #   Column                 Non-Null Count  Dtype  \n",
      "---  ------                 --------------  -----  \n",
      " 0   user_id                3214 non-null   int64  \n",
      " 1   month                  3214 non-null   int64  \n",
      " 2   calls_count            3168 non-null   float64\n",
      " 3   minutes_sum            3168 non-null   float64\n",
      " 4   mb_used_sum            3201 non-null   float64\n",
      " 5   messages_count         2717 non-null   float64\n",
      " 6   tariff                 3214 non-null   object \n",
      " 7   city                   3214 non-null   object \n",
      " 8   messages_included      3214 non-null   int64  \n",
      " 9   mb_per_month_included  3214 non-null   int64  \n",
      " 10  minutes_included       3214 non-null   int64  \n",
      " 11  rub_monthly_fee        3214 non-null   int64  \n",
      " 12  rub_per_gb             3214 non-null   int64  \n",
      " 13  rub_per_message        3214 non-null   int64  \n",
      " 14  rub_per_minute         3214 non-null   int64  \n",
      "dtypes: float64(4), int64(9), object(2)\n",
      "memory usage: 401.8+ KB\n"
     ]
    }
   ],
   "source": [
    "clients_pivot.info()"
   ]
  },
  {
   "cell_type": "markdown",
   "metadata": {},
   "source": [
    "Как видно, в некоторых полях есть пропуски, это связано с тем, что некоторые клиенты могли не использовать те или иные инструменты тарифа в определенные месяцы, например, совсем не отправлять смс.\n",
    "\n",
    "Заменим пропуски на ноли, для дальнейшего корректного подсчета выручки."
   ]
  },
  {
   "cell_type": "code",
   "execution_count": 31,
   "metadata": {},
   "outputs": [],
   "source": [
    "clients_pivot =  clients_pivot.fillna(0)"
   ]
  },
  {
   "cell_type": "markdown",
   "metadata": {},
   "source": [
    "Посчитаем к-во трафика, которое использовал клиент сверх лимита, включенного в тариф."
   ]
  },
  {
   "cell_type": "code",
   "execution_count": 32,
   "metadata": {},
   "outputs": [],
   "source": [
    "# посчитаем к-во трафика, которое использует клиент сверх лимита\n",
    "clients_pivot['minutes_over_limit'] = clients_pivot.minutes_sum - clients_pivot.minutes_included\n",
    "clients_pivot['messages_over_limit'] = clients_pivot.messages_count - clients_pivot.messages_included\n",
    "clients_pivot['internet_over_limit'] = clients_pivot.mb_used_sum - clients_pivot.mb_per_month_included\n",
    "\n",
    "# добавим трафик сверх лимита в Гб с окрулением в большую сторону для расчета выручки\n",
    "clients_pivot['internet_over_limit_gb'] = \\\n",
    "    ((clients_pivot.mb_used_sum - clients_pivot.mb_per_month_included) / 1024).apply(np.ceil)\n",
    "\n",
    "# заменим отрицательные значения на 0\n",
    "clients_pivot[['minutes_over_limit', 'internet_over_limit', 'messages_over_limit', 'internet_over_limit_gb' ]] = \\\n",
    "clients_pivot[['minutes_over_limit', 'internet_over_limit', 'messages_over_limit', 'internet_over_limit_gb' ]].clip(lower=0)"
   ]
  },
  {
   "cell_type": "markdown",
   "metadata": {},
   "source": [
    "Посчитаем выручку для каждого клиента по месяцам."
   ]
  },
  {
   "cell_type": "code",
   "execution_count": 33,
   "metadata": {},
   "outputs": [],
   "source": [
    "clients_pivot['revenue'] = (\n",
    "    clients_pivot.minutes_over_limit * clients_pivot.rub_per_minute +\n",
    "    clients_pivot.internet_over_limit_gb * clients_pivot.rub_per_gb + \n",
    "    clients_pivot.messages_over_limit * clients_pivot.rub_per_message +\n",
    "    clients_pivot.rub_monthly_fee\n",
    ")"
   ]
  },
  {
   "cell_type": "code",
   "execution_count": 34,
   "metadata": {},
   "outputs": [
    {
     "data": {
      "text/html": [
       "<div>\n",
       "<style scoped>\n",
       "    .dataframe tbody tr th:only-of-type {\n",
       "        vertical-align: middle;\n",
       "    }\n",
       "\n",
       "    .dataframe tbody tr th {\n",
       "        vertical-align: top;\n",
       "    }\n",
       "\n",
       "    .dataframe thead th {\n",
       "        text-align: right;\n",
       "    }\n",
       "</style>\n",
       "<table border=\"1\" class=\"dataframe\">\n",
       "  <thead>\n",
       "    <tr style=\"text-align: right;\">\n",
       "      <th></th>\n",
       "      <th>user_id</th>\n",
       "      <th>month</th>\n",
       "      <th>calls_count</th>\n",
       "      <th>minutes_sum</th>\n",
       "      <th>mb_used_sum</th>\n",
       "      <th>messages_count</th>\n",
       "      <th>tariff</th>\n",
       "      <th>city</th>\n",
       "      <th>messages_included</th>\n",
       "      <th>mb_per_month_included</th>\n",
       "      <th>minutes_included</th>\n",
       "      <th>rub_monthly_fee</th>\n",
       "      <th>rub_per_gb</th>\n",
       "      <th>rub_per_message</th>\n",
       "      <th>rub_per_minute</th>\n",
       "      <th>minutes_over_limit</th>\n",
       "      <th>messages_over_limit</th>\n",
       "      <th>internet_over_limit</th>\n",
       "      <th>internet_over_limit_gb</th>\n",
       "      <th>revenue</th>\n",
       "    </tr>\n",
       "  </thead>\n",
       "  <tbody>\n",
       "    <tr>\n",
       "      <th>0</th>\n",
       "      <td>1000</td>\n",
       "      <td>5</td>\n",
       "      <td>17.0</td>\n",
       "      <td>159.0</td>\n",
       "      <td>2256.0</td>\n",
       "      <td>22.0</td>\n",
       "      <td>ultra</td>\n",
       "      <td>Краснодар</td>\n",
       "      <td>1000</td>\n",
       "      <td>30720</td>\n",
       "      <td>3000</td>\n",
       "      <td>1950</td>\n",
       "      <td>150</td>\n",
       "      <td>1</td>\n",
       "      <td>1</td>\n",
       "      <td>0.0</td>\n",
       "      <td>0.0</td>\n",
       "      <td>0.0</td>\n",
       "      <td>0.0</td>\n",
       "      <td>1950.0</td>\n",
       "    </tr>\n",
       "    <tr>\n",
       "      <th>1</th>\n",
       "      <td>1000</td>\n",
       "      <td>6</td>\n",
       "      <td>28.0</td>\n",
       "      <td>172.0</td>\n",
       "      <td>23257.0</td>\n",
       "      <td>60.0</td>\n",
       "      <td>ultra</td>\n",
       "      <td>Краснодар</td>\n",
       "      <td>1000</td>\n",
       "      <td>30720</td>\n",
       "      <td>3000</td>\n",
       "      <td>1950</td>\n",
       "      <td>150</td>\n",
       "      <td>1</td>\n",
       "      <td>1</td>\n",
       "      <td>0.0</td>\n",
       "      <td>0.0</td>\n",
       "      <td>0.0</td>\n",
       "      <td>0.0</td>\n",
       "      <td>1950.0</td>\n",
       "    </tr>\n",
       "    <tr>\n",
       "      <th>2</th>\n",
       "      <td>1000</td>\n",
       "      <td>7</td>\n",
       "      <td>41.0</td>\n",
       "      <td>340.0</td>\n",
       "      <td>14016.0</td>\n",
       "      <td>75.0</td>\n",
       "      <td>ultra</td>\n",
       "      <td>Краснодар</td>\n",
       "      <td>1000</td>\n",
       "      <td>30720</td>\n",
       "      <td>3000</td>\n",
       "      <td>1950</td>\n",
       "      <td>150</td>\n",
       "      <td>1</td>\n",
       "      <td>1</td>\n",
       "      <td>0.0</td>\n",
       "      <td>0.0</td>\n",
       "      <td>0.0</td>\n",
       "      <td>0.0</td>\n",
       "      <td>1950.0</td>\n",
       "    </tr>\n",
       "    <tr>\n",
       "      <th>3</th>\n",
       "      <td>1000</td>\n",
       "      <td>8</td>\n",
       "      <td>42.0</td>\n",
       "      <td>408.0</td>\n",
       "      <td>14070.0</td>\n",
       "      <td>81.0</td>\n",
       "      <td>ultra</td>\n",
       "      <td>Краснодар</td>\n",
       "      <td>1000</td>\n",
       "      <td>30720</td>\n",
       "      <td>3000</td>\n",
       "      <td>1950</td>\n",
       "      <td>150</td>\n",
       "      <td>1</td>\n",
       "      <td>1</td>\n",
       "      <td>0.0</td>\n",
       "      <td>0.0</td>\n",
       "      <td>0.0</td>\n",
       "      <td>0.0</td>\n",
       "      <td>1950.0</td>\n",
       "    </tr>\n",
       "    <tr>\n",
       "      <th>4</th>\n",
       "      <td>1000</td>\n",
       "      <td>9</td>\n",
       "      <td>46.0</td>\n",
       "      <td>466.0</td>\n",
       "      <td>14581.0</td>\n",
       "      <td>57.0</td>\n",
       "      <td>ultra</td>\n",
       "      <td>Краснодар</td>\n",
       "      <td>1000</td>\n",
       "      <td>30720</td>\n",
       "      <td>3000</td>\n",
       "      <td>1950</td>\n",
       "      <td>150</td>\n",
       "      <td>1</td>\n",
       "      <td>1</td>\n",
       "      <td>0.0</td>\n",
       "      <td>0.0</td>\n",
       "      <td>0.0</td>\n",
       "      <td>0.0</td>\n",
       "      <td>1950.0</td>\n",
       "    </tr>\n",
       "    <tr>\n",
       "      <th>5</th>\n",
       "      <td>1000</td>\n",
       "      <td>10</td>\n",
       "      <td>44.0</td>\n",
       "      <td>350.0</td>\n",
       "      <td>14717.0</td>\n",
       "      <td>73.0</td>\n",
       "      <td>ultra</td>\n",
       "      <td>Краснодар</td>\n",
       "      <td>1000</td>\n",
       "      <td>30720</td>\n",
       "      <td>3000</td>\n",
       "      <td>1950</td>\n",
       "      <td>150</td>\n",
       "      <td>1</td>\n",
       "      <td>1</td>\n",
       "      <td>0.0</td>\n",
       "      <td>0.0</td>\n",
       "      <td>0.0</td>\n",
       "      <td>0.0</td>\n",
       "      <td>1950.0</td>\n",
       "    </tr>\n",
       "    <tr>\n",
       "      <th>6</th>\n",
       "      <td>1000</td>\n",
       "      <td>11</td>\n",
       "      <td>37.0</td>\n",
       "      <td>338.0</td>\n",
       "      <td>14768.0</td>\n",
       "      <td>58.0</td>\n",
       "      <td>ultra</td>\n",
       "      <td>Краснодар</td>\n",
       "      <td>1000</td>\n",
       "      <td>30720</td>\n",
       "      <td>3000</td>\n",
       "      <td>1950</td>\n",
       "      <td>150</td>\n",
       "      <td>1</td>\n",
       "      <td>1</td>\n",
       "      <td>0.0</td>\n",
       "      <td>0.0</td>\n",
       "      <td>0.0</td>\n",
       "      <td>0.0</td>\n",
       "      <td>1950.0</td>\n",
       "    </tr>\n",
       "    <tr>\n",
       "      <th>7</th>\n",
       "      <td>1000</td>\n",
       "      <td>12</td>\n",
       "      <td>38.0</td>\n",
       "      <td>333.0</td>\n",
       "      <td>9827.0</td>\n",
       "      <td>70.0</td>\n",
       "      <td>ultra</td>\n",
       "      <td>Краснодар</td>\n",
       "      <td>1000</td>\n",
       "      <td>30720</td>\n",
       "      <td>3000</td>\n",
       "      <td>1950</td>\n",
       "      <td>150</td>\n",
       "      <td>1</td>\n",
       "      <td>1</td>\n",
       "      <td>0.0</td>\n",
       "      <td>0.0</td>\n",
       "      <td>0.0</td>\n",
       "      <td>0.0</td>\n",
       "      <td>1950.0</td>\n",
       "    </tr>\n",
       "    <tr>\n",
       "      <th>8</th>\n",
       "      <td>1001</td>\n",
       "      <td>12</td>\n",
       "      <td>47.0</td>\n",
       "      <td>414.0</td>\n",
       "      <td>14053.0</td>\n",
       "      <td>0.0</td>\n",
       "      <td>smart</td>\n",
       "      <td>Москва</td>\n",
       "      <td>50</td>\n",
       "      <td>15360</td>\n",
       "      <td>500</td>\n",
       "      <td>550</td>\n",
       "      <td>200</td>\n",
       "      <td>3</td>\n",
       "      <td>3</td>\n",
       "      <td>0.0</td>\n",
       "      <td>0.0</td>\n",
       "      <td>0.0</td>\n",
       "      <td>0.0</td>\n",
       "      <td>550.0</td>\n",
       "    </tr>\n",
       "    <tr>\n",
       "      <th>9</th>\n",
       "      <td>1001</td>\n",
       "      <td>11</td>\n",
       "      <td>45.0</td>\n",
       "      <td>430.0</td>\n",
       "      <td>18452.0</td>\n",
       "      <td>0.0</td>\n",
       "      <td>smart</td>\n",
       "      <td>Москва</td>\n",
       "      <td>50</td>\n",
       "      <td>15360</td>\n",
       "      <td>500</td>\n",
       "      <td>550</td>\n",
       "      <td>200</td>\n",
       "      <td>3</td>\n",
       "      <td>3</td>\n",
       "      <td>0.0</td>\n",
       "      <td>0.0</td>\n",
       "      <td>3092.0</td>\n",
       "      <td>4.0</td>\n",
       "      <td>1350.0</td>\n",
       "    </tr>\n",
       "  </tbody>\n",
       "</table>\n",
       "</div>"
      ],
      "text/plain": [
       "   user_id  month  calls_count  minutes_sum  mb_used_sum  messages_count  \\\n",
       "0     1000      5         17.0        159.0       2256.0            22.0   \n",
       "1     1000      6         28.0        172.0      23257.0            60.0   \n",
       "2     1000      7         41.0        340.0      14016.0            75.0   \n",
       "3     1000      8         42.0        408.0      14070.0            81.0   \n",
       "4     1000      9         46.0        466.0      14581.0            57.0   \n",
       "5     1000     10         44.0        350.0      14717.0            73.0   \n",
       "6     1000     11         37.0        338.0      14768.0            58.0   \n",
       "7     1000     12         38.0        333.0       9827.0            70.0   \n",
       "8     1001     12         47.0        414.0      14053.0             0.0   \n",
       "9     1001     11         45.0        430.0      18452.0             0.0   \n",
       "\n",
       "  tariff       city  messages_included  mb_per_month_included  \\\n",
       "0  ultra  Краснодар               1000                  30720   \n",
       "1  ultra  Краснодар               1000                  30720   \n",
       "2  ultra  Краснодар               1000                  30720   \n",
       "3  ultra  Краснодар               1000                  30720   \n",
       "4  ultra  Краснодар               1000                  30720   \n",
       "5  ultra  Краснодар               1000                  30720   \n",
       "6  ultra  Краснодар               1000                  30720   \n",
       "7  ultra  Краснодар               1000                  30720   \n",
       "8  smart     Москва                 50                  15360   \n",
       "9  smart     Москва                 50                  15360   \n",
       "\n",
       "   minutes_included  rub_monthly_fee  rub_per_gb  rub_per_message  \\\n",
       "0              3000             1950         150                1   \n",
       "1              3000             1950         150                1   \n",
       "2              3000             1950         150                1   \n",
       "3              3000             1950         150                1   \n",
       "4              3000             1950         150                1   \n",
       "5              3000             1950         150                1   \n",
       "6              3000             1950         150                1   \n",
       "7              3000             1950         150                1   \n",
       "8               500              550         200                3   \n",
       "9               500              550         200                3   \n",
       "\n",
       "   rub_per_minute  minutes_over_limit  messages_over_limit  \\\n",
       "0               1                 0.0                  0.0   \n",
       "1               1                 0.0                  0.0   \n",
       "2               1                 0.0                  0.0   \n",
       "3               1                 0.0                  0.0   \n",
       "4               1                 0.0                  0.0   \n",
       "5               1                 0.0                  0.0   \n",
       "6               1                 0.0                  0.0   \n",
       "7               1                 0.0                  0.0   \n",
       "8               3                 0.0                  0.0   \n",
       "9               3                 0.0                  0.0   \n",
       "\n",
       "   internet_over_limit  internet_over_limit_gb  revenue  \n",
       "0                  0.0                     0.0   1950.0  \n",
       "1                  0.0                     0.0   1950.0  \n",
       "2                  0.0                     0.0   1950.0  \n",
       "3                  0.0                     0.0   1950.0  \n",
       "4                  0.0                     0.0   1950.0  \n",
       "5                  0.0                     0.0   1950.0  \n",
       "6                  0.0                     0.0   1950.0  \n",
       "7                  0.0                     0.0   1950.0  \n",
       "8                  0.0                     0.0    550.0  \n",
       "9               3092.0                     4.0   1350.0  "
      ]
     },
     "execution_count": 34,
     "metadata": {},
     "output_type": "execute_result"
    }
   ],
   "source": [
    "clients_pivot.sort_values(by='user_id').reset_index(drop=True).head(10)"
   ]
  },
  {
   "cell_type": "markdown",
   "metadata": {},
   "source": [
    "Приведем объемы услуг и выручку к целочисленному типу int"
   ]
  },
  {
   "cell_type": "code",
   "execution_count": 35,
   "metadata": {},
   "outputs": [],
   "source": [
    "clients_pivot = clients_pivot.astype(int, errors='ignore')"
   ]
  },
  {
   "cell_type": "markdown",
   "metadata": {},
   "source": [
    "#### Вывод"
   ]
  },
  {
   "cell_type": "markdown",
   "metadata": {},
   "source": [
    "Во втором шаге мы произвели дополнительные расчеты по каждому клиенту по месяцам. Эти показатели понадобятся нам для дальнейшего анализа и проверки гипотез."
   ]
  },
  {
   "cell_type": "markdown",
   "metadata": {},
   "source": [
    "## 3. Анализ данных.<a name=\"3.\"></a>\n",
    "[к содержанию](#0.0)"
   ]
  },
  {
   "cell_type": "markdown",
   "metadata": {},
   "source": [
    "## 3.1. Переплаты за доп.трафик и выручка по выборке.<a name=\"3.1.\"></a>\n",
    "[к содержанию](#0.0)"
   ]
  },
  {
   "cell_type": "markdown",
   "metadata": {},
   "source": [
    "В прошлом шаге мы вывели информацию о выручке с клиентов за каждый месяц. Интересно проверить, в каком из тарифов клиенты чаще заказывают дополнительные услуги и переплачивают сверх абонентской платы. \n",
    "\n",
    "Также можно посмотреть, какой из тарифов в выборке принес большую выручку."
   ]
  },
  {
   "cell_type": "markdown",
   "metadata": {},
   "source": [
    "Выведем столбец с суммой переплат за месяц сверх абонентской платы тарифа. \n",
    "Также добавим поле с маркером, была переплата или нет, чтобы оценить в каких тарифах клинеты больше переплачивали."
   ]
  },
  {
   "cell_type": "code",
   "execution_count": 36,
   "metadata": {},
   "outputs": [],
   "source": [
    "# добавим поле с суммой переплаты сверх абонентской платы за тариф\n",
    "clients_pivot['over_the_fee'] = clients_pivot.revenue - clients_pivot.rub_monthly_fee\n",
    "\n",
    "# добавим признак, была ли переплата у клиента или нет\n",
    "clients_pivot['is_over_the_fee']  = np.where(clients_pivot['over_the_fee'] > 0, 1, 0)"
   ]
  },
  {
   "cell_type": "code",
   "execution_count": 37,
   "metadata": {},
   "outputs": [],
   "source": [
    "# проагрегируем данные, чтобы посчитать процент тех клиентов, которые заказывали доп. услуги\n",
    "over_the_fee = clients_pivot.groupby('tariff').agg({'user_id' : 'count', 'is_over_the_fee' : 'sum'})\\\n",
    "    .rename(columns = {'user_id' : 'count', 'is_over_the_fee' : 'sum' }).reset_index()\n",
    "\n",
    "# произведем подсчет долей\n",
    "over_the_fee['Заказ дополнительных услуг'] = over_the_fee['sum'] / over_the_fee['count'] \n",
    "over_the_fee['В рамках тарифа'] = 1 - over_the_fee['Заказ дополнительных услуг'] \n",
    "over_the_fee = over_the_fee[['tariff','Заказ дополнительных услуг', 'В рамках тарифа']]"
   ]
  },
  {
   "cell_type": "code",
   "execution_count": 38,
   "metadata": {},
   "outputs": [
    {
     "name": "stdout",
     "output_type": "stream",
     "text": [
      "\u001b[1mЗаказ дополнительных услуг по тарифам:\u001b[0m\n",
      "\n",
      "  tariff  Заказ дополнительных услуг  В рамках тарифа\n",
      "0  smart                    0.746972         0.253028\n",
      "1  ultra                    0.136041         0.863959\n"
     ]
    }
   ],
   "source": [
    "print('\\033[1m' + 'Заказ дополнительных услуг по тарифам:' +  '\\033[0m'), print()\n",
    "print(over_the_fee)"
   ]
  },
  {
   "cell_type": "markdown",
   "metadata": {},
   "source": [
    "Как видно, доля заказа дополнительных услуг для разных тарифов отличается, отобразим на графиках для наглядности."
   ]
  },
  {
   "cell_type": "code",
   "execution_count": 39,
   "metadata": {},
   "outputs": [
    {
     "data": {
      "image/png": "[encoded data removed]",
      "text/plain": [
       "<Figure size 432x432 with 1 Axes>"
      ]
     },
     "metadata": {},
     "output_type": "display_data"
    },
    {
     "data": {
      "image/png": "[encoded data removed]",
      "text/plain": [
       "<Figure size 432x432 with 1 Axes>"
      ]
     },
     "metadata": {},
     "output_type": "display_data"
    }
   ],
   "source": [
    "# транспонируем таблицу для вывода гистограмм по тарифам\n",
    "df_plot = over_the_fee.T.iloc[1:3]\n",
    "\n",
    "# круговая гистограмма по тарифу Смарт\n",
    "colors = ['#acd9b7', '#c6e7ff']\n",
    "plot = df_plot.\\\n",
    "plot(kind='pie',  y=0, labels=None, figsize=(6,6), title='Тариф \"Смарт\"', colors=colors, autopct='%.1f%%')\n",
    "plot.set_ylabel('')\n",
    "plot.legend(['Дополнительный заказ услуг', 'В рамках тарифа'],bbox_to_anchor=(0.9,0.9))\n",
    "plt.show()\n",
    "\n",
    "# круговая гистограмма по тарифу Ультра\n",
    "plot = df_plot.\\\n",
    "plot(kind='pie',  y=1, labels=None, figsize=(6,6), title='Тариф \"Ультра\"', colors=colors, autopct='%.1f%%')\n",
    "plot.set_ylabel('')\n",
    "plot.legend(['Дополнительный заказ услуг', 'В рамках тарифа'],bbox_to_anchor=(0.9,0.9))\n",
    "plt.show()"
   ]
  },
  {
   "cell_type": "markdown",
   "metadata": {},
   "source": [
    "Посмотрим, какие услуги дополнительно чаще заказывают пользователи и сколько в среднем переплачивают."
   ]
  },
  {
   "cell_type": "code",
   "execution_count": 40,
   "metadata": {},
   "outputs": [],
   "source": [
    "# посчитаем среднее по переплатам\n",
    "clients_over_pivot = clients_pivot.groupby('tariff').agg({'minutes_over_limit' : 'mean',\n",
    "                                                         'messages_over_limit' : 'mean',\n",
    "                                                         'internet_over_limit_gb' : 'mean'})\n",
    "\n",
    "\n",
    "clients_over_pivot = clients_over_pivot.reset_index()\n",
    "# округлим в большую сторону все превышения лимита\n",
    "clients_over_pivot.iloc[:,1:] = clients_over_pivot.iloc[:,1:].apply(np.ceil)\n",
    "\n",
    "# добавим инфо из тарифа для расчета переплат\n",
    "cost = pd.DataFrame(np.array([[3, 3, 200],[1, 1, 150]]),\n",
    "                   columns=['minutes_rub', 'messages_rub', 'internet_rub'])\n",
    "\n",
    "# посчитаем переплаты за доп. услуги по тарифам\n",
    "clients_over_pivot['minutes_over_rub'] = clients_over_pivot['minutes_over_limit'] * cost['minutes_rub']\n",
    "clients_over_pivot['messages_over_rub'] = clients_over_pivot['messages_over_limit'] * cost['messages_rub']\n",
    "clients_over_pivot['internet_over_rub_gb'] = clients_over_pivot['internet_over_limit_gb'] * cost['internet_rub']"
   ]
  },
  {
   "cell_type": "code",
   "execution_count": 41,
   "metadata": {},
   "outputs": [
    {
     "data": {
      "text/html": [
       "<div>\n",
       "<style scoped>\n",
       "    .dataframe tbody tr th:only-of-type {\n",
       "        vertical-align: middle;\n",
       "    }\n",
       "\n",
       "    .dataframe tbody tr th {\n",
       "        vertical-align: top;\n",
       "    }\n",
       "\n",
       "    .dataframe thead th {\n",
       "        text-align: right;\n",
       "    }\n",
       "</style>\n",
       "<table border=\"1\" class=\"dataframe\">\n",
       "  <thead>\n",
       "    <tr style=\"text-align: right;\">\n",
       "      <th></th>\n",
       "      <th>tariff</th>\n",
       "      <th>minutes_over_limit</th>\n",
       "      <th>messages_over_limit</th>\n",
       "      <th>internet_over_limit_gb</th>\n",
       "      <th>minutes_over_rub</th>\n",
       "      <th>messages_over_rub</th>\n",
       "      <th>internet_over_rub_gb</th>\n",
       "    </tr>\n",
       "  </thead>\n",
       "  <tbody>\n",
       "    <tr>\n",
       "      <th>0</th>\n",
       "      <td>smart</td>\n",
       "      <td>42.0</td>\n",
       "      <td>6.0</td>\n",
       "      <td>4.0</td>\n",
       "      <td>126.0</td>\n",
       "      <td>18.0</td>\n",
       "      <td>800.0</td>\n",
       "    </tr>\n",
       "    <tr>\n",
       "      <th>1</th>\n",
       "      <td>ultra</td>\n",
       "      <td>0.0</td>\n",
       "      <td>0.0</td>\n",
       "      <td>1.0</td>\n",
       "      <td>0.0</td>\n",
       "      <td>0.0</td>\n",
       "      <td>150.0</td>\n",
       "    </tr>\n",
       "  </tbody>\n",
       "</table>\n",
       "</div>"
      ],
      "text/plain": [
       "  tariff  minutes_over_limit  messages_over_limit  internet_over_limit_gb  \\\n",
       "0  smart                42.0                  6.0                     4.0   \n",
       "1  ultra                 0.0                  0.0                     1.0   \n",
       "\n",
       "   minutes_over_rub  messages_over_rub  internet_over_rub_gb  \n",
       "0             126.0               18.0                 800.0  \n",
       "1               0.0                0.0                 150.0  "
      ]
     },
     "execution_count": 41,
     "metadata": {},
     "output_type": "execute_result"
    }
   ],
   "source": [
    "clients_over_pivot"
   ]
  },
  {
   "cell_type": "markdown",
   "metadata": {},
   "source": [
    "Проверим, какой тариф, согласно нашей выборке, за год принес большую выручку."
   ]
  },
  {
   "cell_type": "code",
   "execution_count": 42,
   "metadata": {},
   "outputs": [],
   "source": [
    "# сгруппируем по тарифу и посчитаем сумму выручки\n",
    "year_revenue = clients_pivot.groupby('tariff').agg({'revenue' : 'sum', 'user_id' : 'nunique'}).reset_index()\n",
    "\n",
    "# добавим поле с процентом от общей суммы\n",
    "year_revenue['persent'] = year_revenue['revenue'] / year_revenue['revenue'].sum()"
   ]
  },
  {
   "cell_type": "code",
   "execution_count": 43,
   "metadata": {},
   "outputs": [
    {
     "data": {
      "image/png": "[encoded data removed]",
      "text/plain": [
       "<Figure size 432x432 with 1 Axes>"
      ]
     },
     "metadata": {},
     "output_type": "display_data"
    },
    {
     "name": "stdout",
     "output_type": "stream",
     "text": [
      "  tariff  revenue  user_id  persent\n",
      "0  smart  2885751      350  0.58585\n",
      "1  ultra  2040000      148  0.41415\n"
     ]
    }
   ],
   "source": [
    "# круговая гистограмма выручки по тарифам\n",
    "plot = year_revenue.plot(kind='pie',  y=1, labels=None, figsize=(6,6), \\\n",
    "                  title='Выручка тарифов Смарт и Ультра', colors = colors, autopct='%.1f%%' )\n",
    "plot.set_ylabel('')\n",
    "plot.legend(['Смарт', 'Ультра'],bbox_to_anchor=(0.9,0.9))\n",
    "plt.show()\n",
    "print(year_revenue)"
   ]
  },
  {
   "cell_type": "markdown",
   "metadata": {},
   "source": [
    "\n",
    "## Вывод"
   ]
  },
  {
   "cell_type": "markdown",
   "metadata": {},
   "source": [
    "Из анализа заказа дополнительных услуг видно, что клиентам чаще всего не хватает интернет-трафика, в частности, клиенты **Смарта** переплачивают 800 рублей за дополнительные гигабайты, клиенты **Ультра** в среднем дозаказывают один гигабайт и переплачивают всего 150 рублей. \n",
    "\n",
    "Клиентам **Смарта** также не хватает минут разговора, и они дополнительно докупают в среднем 40 минут. Меньше всего клиентам нужны дополнительные смс, что может быть обусловлено популярностью общения в мессенджерах.\n",
    "\n",
    "Клиенты **Смарт** принесли 2885751 руб. выручки при к-ве пользователей 350, в свою очередь, клиенты **Ультра** принесли 2040000 руб. при 150 пользователях."
   ]
  },
  {
   "cell_type": "code",
   "execution_count": 44,
   "metadata": {},
   "outputs": [
    {
     "data": {
      "text/plain": [
       "smart    351\n",
       "ultra    149\n",
       "Name: tariff, dtype: int64"
      ]
     },
     "execution_count": 44,
     "metadata": {},
     "output_type": "execute_result"
    }
   ],
   "source": [
    "# КОД РЕВЬЮВЕРА\n",
    "\n",
    "users.tariff.value_counts()\n",
    "\n",
    "# было бы интересно подсчитать именно sales_per_user, когда мы суммарную выручку делим на кол-во уникальных юзеров, тем самым\n",
    "# понимаем пользователь какого тарифа приносит больше"
   ]
  },
  {
   "cell_type": "markdown",
   "metadata": {},
   "source": [
    "## 3.2. Анализ звонков, смс и интернет-трафика.<a name=\"3.2.\"></a>\n",
    "[к содержанию](#0.0)"
   ]
  },
  {
   "cell_type": "markdown",
   "metadata": {},
   "source": [
    "Проанализируем поведение клиентов исходя из выборки, напишем функцию, которая покажет общую статистику по каждому параметру:\n",
    "* Количество минут звонков\n",
    "* Количество смс\n",
    "* Количество мегабайт"
   ]
  },
  {
   "cell_type": "markdown",
   "metadata": {},
   "source": [
    "Для начала построим боксплоты по всем типам трафика(звонки, смс, интернет) для каждого тарифа."
   ]
  },
  {
   "cell_type": "code",
   "execution_count": 45,
   "metadata": {},
   "outputs": [
    {
     "data": {
      "image/png": "[encoded data removed]",
      "text/plain": [
       "<Figure size 1224x360 with 3 Axes>"
      ]
     },
     "metadata": {
      "needs_background": "light"
     },
     "output_type": "display_data"
    }
   ],
   "source": [
    "minutes_smart = clients_pivot[clients_pivot['tariff'] == 'smart']['minutes_sum']\n",
    "minutes_ultra = clients_pivot[clients_pivot['tariff'] == 'ultra']['minutes_sum']\n",
    "\n",
    "messages_smart = clients_pivot[clients_pivot['tariff'] == 'smart']['messages_count']\n",
    "messages_ultra = clients_pivot[clients_pivot['tariff'] == 'ultra']['messages_count']\n",
    "\n",
    "mb_smart = clients_pivot[clients_pivot['tariff'] == 'smart']['mb_used_sum']\n",
    "mb_ultra = clients_pivot[clients_pivot['tariff'] == 'ultra']['mb_used_sum']\n",
    "\n",
    "minutes = [minutes_smart, minutes_ultra]\n",
    "messages = [messages_smart, messages_ultra]\n",
    "mb = [mb_smart, mb_ultra]\n",
    "names = ['smart', 'ultra']\n",
    "\n",
    "plt.figure(figsize=(17, 5))\n",
    "plt.suptitle('Сравнение трафика двух тарифов', fontsize=15, y=1.05)\n",
    "traffic_titles = ['Звонки, мин.', 'Смс, шт.', 'Интернет, мб.']\n",
    "traffic_type = [minutes, messages, mb]\n",
    "\n",
    "p = 131\n",
    "for i in range(3):\n",
    "    plt.subplot(p)\n",
    "    plt.boxplot(traffic_type[i], labels=names)\n",
    "    plt.grid()\n",
    "    plt.title(traffic_titles[i])\n",
    "    p += 1\n",
    "plt.show()"
   ]
  },
  {
   "cell_type": "markdown",
   "metadata": {},
   "source": [
    "По графикам видно, что данные имеют выбросы > 1,5 межквартильных размаха, определим эти интервалы. Далее отфильтруем данные от выбросов для более корректного анализа."
   ]
  },
  {
   "cell_type": "code",
   "execution_count": 46,
   "metadata": {},
   "outputs": [],
   "source": [
    "# функция покажет межквартильный размах по каждому параметру\n",
    "def iqr(df, column, category_column, category, equal):\n",
    "    if equal == 'equal':\n",
    "        col = df[df[category_column] == category][column]\n",
    "    elif equal == 'not_equal':\n",
    "        col = df[df[category_column] != category][column]\n",
    "    iqr = col.describe()[6] - col.describe()[4]\n",
    "    low_bond = col.describe()[4] - 1.5 * iqr\n",
    "    if low_bond < 0:\n",
    "        low_bond = col.describe()[3]\n",
    "    upper_bond = col.describe()[6] + 1.5 * iqr\n",
    "    print('{} - {}'.format(low_bond, upper_bond))"
   ]
  },
  {
   "cell_type": "code",
   "execution_count": 47,
   "metadata": {},
   "outputs": [
    {
     "name": "stdout",
     "output_type": "stream",
     "text": [
      "\u001b[1mГраницы интервалов по Звонкам, мин\u001b[0m\n",
      "Смарт: 0.0 - 939.5\n",
      "Ультра: 0.0 - 1454.0\n",
      "\n",
      "\u001b[1mГраницы интервалов по Смс, шт\u001b[0m\n",
      "Смарт: 0.0 - 112.5\n",
      "Ультра: 0.0 - 188.5\n",
      "\n",
      "\u001b[1mГраницы интервалов по Интернет, мб\u001b[0m\n",
      "Смарт: 1543.0 - 31183.0\n",
      "Ультра: 0.0 - 49480.0\n",
      "\n"
     ]
    }
   ],
   "source": [
    "# найдем границы интервалов\n",
    "print('\\033[1m' + 'Границы интервалов по Звонкам, мин' +  '\\033[0m')\n",
    "print('Смарт:', end=' '), iqr(clients_pivot, 'minutes_sum', 'tariff', 'smart', 'equal')\n",
    "print('Ультра:', end=' '), iqr(clients_pivot, 'minutes_sum', 'tariff', 'ultra', 'equal')\n",
    "print()\n",
    "print('\\033[1m' + 'Границы интервалов по Смс, шт' + '\\033[0m')\n",
    "print('Смарт:', end=' '), iqr(clients_pivot, 'messages_count', 'tariff', 'smart', 'equal')\n",
    "print('Ультра:', end=' '), iqr(clients_pivot, 'messages_count', 'tariff', 'ultra', 'equal')\n",
    "print()\n",
    "print('\\033[1m' + 'Границы интервалов по Интернет, мб' + '\\033[0m')\n",
    "print('Смарт:', end=' '), iqr(clients_pivot, 'mb_used_sum', 'tariff', 'smart', 'equal')\n",
    "print('Ультра:', end=' '), iqr(clients_pivot, 'mb_used_sum', 'tariff', 'ultra', 'equal')\n",
    "print()"
   ]
  },
  {
   "cell_type": "markdown",
   "metadata": {},
   "source": [
    "Сделаем фильтрацию по выявленным интервалам и уберем выбросы"
   ]
  },
  {
   "cell_type": "code",
   "execution_count": 48,
   "metadata": {},
   "outputs": [],
   "source": [
    "# отфильтруем звонки от выбросов\n",
    "smart_minutes = clients_pivot.query(\"minutes_sum <= 939.5 & tariff == 'smart'\")['minutes_sum']\n",
    "ultra_minutes = clients_pivot.query(\"minutes_sum <= 3000 & tariff == 'ultra'\")['minutes_sum']\n",
    "\n",
    "# отфильтруем сообщения от выбросов\n",
    "smart_messages = clients_pivot.query(\"messages_count <= 112.5 & tariff == 'smart'\")['messages_count']\n",
    "ultra_messages = clients_pivot.query(\"messages_count <= 1000 & tariff == 'ultra'\")['messages_count']\n",
    "\n",
    "# отфильтруем интернет трафик от выбросов\n",
    "smart_mb_used = clients_pivot.query(\"mb_used_sum <= 31183 & tariff == 'smart'\")['mb_used_sum']\n",
    "ultra_mb_used = clients_pivot.query(\"mb_used_sum <= 49480 & tariff == 'ultra'\")['mb_used_sum']"
   ]
  },
  {
   "cell_type": "markdown",
   "metadata": {},
   "source": [
    "Изобразим трафик звонков каждого тарифа на одном графике и выведем описательные статистики."
   ]
  },
  {
   "cell_type": "code",
   "execution_count": 49,
   "metadata": {},
   "outputs": [
    {
     "data": {
      "image/png": "[encoded data removed]",
      "text/plain": [
       "<Figure size 1008x432 with 1 Axes>"
      ]
     },
     "metadata": {
      "needs_background": "light"
     },
     "output_type": "display_data"
    },
    {
     "name": "stdout",
     "output_type": "stream",
     "text": [
      "\u001b[1mОписательные статистики для звонков тарифа Smart\u001b[0m\n",
      "\n",
      "Дисперсия: 34448\n",
      "\n",
      "count    2219.00000\n",
      "mean      415.05498\n",
      "std       185.60219\n",
      "min         0.00000\n",
      "25%       282.00000\n",
      "50%       421.00000\n",
      "75%       544.00000\n",
      "max       933.00000\n",
      "Name: minutes_sum, dtype: float64\n",
      "\n",
      "\u001b[1mОписательные статистики для звонков тарифа Ultra\u001b[0m\n",
      "\n",
      "Дисперсия: 100874\n",
      "\n",
      "count     985.000000\n",
      "mean      526.623350\n",
      "std       317.606098\n",
      "min         0.000000\n",
      "25%       284.000000\n",
      "50%       518.000000\n",
      "75%       752.000000\n",
      "max      1673.000000\n",
      "Name: minutes_sum, dtype: float64\n"
     ]
    }
   ],
   "source": [
    "# построим график для тарифа смарт\n",
    "ax = smart_minutes.plot(kind='hist', y='minutes_sum', range=(0, 950), bins=40, linewidth=4, alpha=0.7, label='smart',\\\n",
    "                histtype='step', color='#3c9de6')\n",
    "\n",
    "# построим график для тарифа ультра\n",
    "ultra_minutes.plot(kind='hist', y='minutes_sum', range=(0, 1454), bins=40, linewidth=4, alpha=0.7, label='ultra',\\\n",
    "           histtype='step',  ax=ax, grid=True, legend=True, figsize = (14,6), color='#6fb96d')\n",
    "\n",
    "# определим общие графика настройки \n",
    "plt.suptitle('Сравнение тарифов Smart и Ultra (Звонки)', fontsize=13, y=0.92)\n",
    "plt.axvline(x=smart_minutes.median(), color='#3c9de6', linestyle='--')\n",
    "plt.axvline(x=ultra_minutes.median(), color='#6fb96d', linestyle='--')\n",
    "plt.xlabel(\"Звонки, мин.\")\n",
    "plt.ylabel(\"Частота\")\n",
    "plt.legend()\n",
    "plt.show()\n",
    "\n",
    "# добавим под графиком описательные статистики\n",
    "print('\\033[1m' + 'Описательные статистики для звонков тарифа Smart' + '\\033[0m')\n",
    "print()\n",
    "print('Дисперсия:', round(smart_minutes.var()))\n",
    "print()\n",
    "print(smart_minutes.describe())\n",
    "print()\n",
    "print('\\033[1m' + 'Описательные статистики для звонков тарифа Ultra' + '\\033[0m')\n",
    "print()\n",
    "print('Дисперсия:', round(ultra_minutes.var()))\n",
    "print()\n",
    "print(ultra_minutes.describe())"
   ]
  },
  {
   "cell_type": "code",
   "execution_count": 50,
   "metadata": {},
   "outputs": [
    {
     "data": {
      "image/png": "[encoded data removed]",
      "text/plain": [
       "<Figure size 1008x432 with 1 Axes>"
      ]
     },
     "metadata": {
      "needs_background": "light"
     },
     "output_type": "display_data"
    },
    {
     "name": "stdout",
     "output_type": "stream",
     "text": [
      "\u001b[1mОписательные статистики для смс тарифа Smart\u001b[0m\n",
      "\n",
      "Дисперсия: 744\n",
      "\n",
      "count    2215.000000\n",
      "mean       32.784650\n",
      "std        27.278551\n",
      "min         0.000000\n",
      "25%        10.000000\n",
      "50%        28.000000\n",
      "75%        50.000000\n",
      "max       112.000000\n",
      "Name: messages_count, dtype: float64\n",
      "\n",
      "\u001b[1mОписательные статистики для смс тарифа Ultra\u001b[0m\n",
      "\n",
      "Дисперсия: 2285\n",
      "\n",
      "count    985.000000\n",
      "mean      49.363452\n",
      "std       47.804457\n",
      "min        0.000000\n",
      "25%        6.000000\n",
      "50%       38.000000\n",
      "75%       79.000000\n",
      "max      224.000000\n",
      "Name: messages_count, dtype: float64\n"
     ]
    }
   ],
   "source": [
    "# построим график для тарифа смарт\n",
    "ax = smart_messages.plot(kind='hist', y='minutes_sum', range=(0, 113), bins=40, linewidth=4, alpha=0.7, label='smart',\\\n",
    "                histtype='step', color='#3c9de6')\n",
    "\n",
    "# построим график для тарифа ультра\n",
    "ultra_messages.plot(kind='hist', y='minutes_sum', range=(0, 189), bins=40, linewidth=4, alpha=0.7, label='ultra',\\\n",
    "           histtype='step',  ax=ax, grid=True, legend=True, figsize = (14,6), color='#6fb96d')\n",
    "\n",
    "# определим общие графика настройки \n",
    "plt.suptitle('Сравнение тарифов Smart и Ultra (Смс)', fontsize=13, y=0.92)\n",
    "plt.axvline(x=smart_messages.median(), color='#3c9de6', linestyle='--')\n",
    "plt.axvline(x=ultra_messages.median(), color='#6fb96d', linestyle='--')\n",
    "plt.xlabel(\"Смс, шт.\")\n",
    "plt.ylabel(\"Частота\")\n",
    "plt.legend()\n",
    "plt.show()\n",
    "\n",
    "# добавим под графиком описательные статистики\n",
    "print('\\033[1m' + 'Описательные статистики для смс тарифа Smart' + '\\033[0m')\n",
    "print()\n",
    "print('Дисперсия:', round(smart_messages.var()))\n",
    "print()\n",
    "print(smart_messages.describe())\n",
    "print()\n",
    "print('\\033[1m' + 'Описательные статистики для смс тарифа Ultra' + '\\033[0m')\n",
    "print()\n",
    "print('Дисперсия:', round(ultra_messages.var()))\n",
    "print()\n",
    "print(ultra_messages.describe())"
   ]
  },
  {
   "cell_type": "markdown",
   "metadata": {},
   "source": [
    "Сразу бросается в глаза, что на обоих тарифах значимая доля клиентов почти не отправляет смс. \n",
    "В среднем на тарифе **Smart** клиенты не дотягивают до  своего месячного лимита в 50 смс и отправляют всего 32. \n",
    "На тарифе **Ultra** клиенты также практически не используют весь потенциал лимита в 1000 и отправляют по 48 смс в среднем. "
   ]
  },
  {
   "cell_type": "code",
   "execution_count": 51,
   "metadata": {},
   "outputs": [
    {
     "data": {
      "image/png": "[encoded data removed]",
      "text/plain": [
       "<Figure size 1008x432 with 1 Axes>"
      ]
     },
     "metadata": {
      "needs_background": "light"
     },
     "output_type": "display_data"
    },
    {
     "name": "stdout",
     "output_type": "stream",
     "text": [
      "\u001b[1mОписательные статистики для интернет-трафика тарифа Smart\u001b[0m\n",
      "\n",
      "Дисперсия: 32648892\n",
      "\n",
      "count     2215.000000\n",
      "mean     16114.801354\n",
      "std       5713.920904\n",
      "min          0.000000\n",
      "25%      12632.500000\n",
      "50%      16484.000000\n",
      "75%      20005.500000\n",
      "max      31115.000000\n",
      "Name: mb_used_sum, dtype: float64\n",
      "\n",
      "\u001b[1mОписательные статистики для интернет-трафика тарифа Ultra\u001b[0m\n",
      "\n",
      "Дисперсия: 101104273\n",
      "\n",
      "count      984.000000\n",
      "mean     19456.106707\n",
      "std      10055.062080\n",
      "min          0.000000\n",
      "25%      11777.000000\n",
      "50%      19320.000000\n",
      "75%      26854.750000\n",
      "max      48395.000000\n",
      "Name: mb_used_sum, dtype: float64\n"
     ]
    }
   ],
   "source": [
    "# построим график для тарифа смарт\n",
    "ax = smart_mb_used.plot(kind='hist', y='minutes_sum', range=(0, 31183.0), bins=40, linewidth=4, alpha=0.7, label='smart',\\\n",
    "                histtype='step', color='#3c9de6')\n",
    "\n",
    "# построим график для тарифа ультра\n",
    "ultra_mb_used.plot(kind='hist', y='minutes_sum', range=(0, 49480.0), bins=40, linewidth=4, alpha=0.7, label='ultra',\\\n",
    "           histtype='step',  ax=ax, grid=True, legend=True, figsize = (14,6), color='#6fb96d')\n",
    "\n",
    "# определим общие графика настройки \n",
    "plt.suptitle('Сравнение тарифов Smart и Ultra (Интернет)', fontsize=13, y=0.92)\n",
    "plt.axvline(x=smart_mb_used.median(), color='#3c9de6', linestyle='--')\n",
    "plt.axvline(x=ultra_mb_used.median(), color='#6fb96d', linestyle='--')\n",
    "plt.xlabel(\"Интернет, мб.\")\n",
    "plt.ylabel(\"Частота\")\n",
    "plt.legend()\n",
    "plt.show()\n",
    "\n",
    "# добавим под графиком описательные статистики\n",
    "print('\\033[1m' + 'Описательные статистики для интернет-трафика тарифа Smart' + '\\033[0m')\n",
    "print()\n",
    "print('Дисперсия:', round(smart_mb_used.var()))\n",
    "print()\n",
    "print(smart_mb_used.describe())\n",
    "print()\n",
    "print('\\033[1m' + 'Описательные статистики для интернет-трафика тарифа Ultra' + '\\033[0m')\n",
    "print()\n",
    "print('Дисперсия:', round(ultra_mb_used.var()))\n",
    "print()\n",
    "print(ultra_mb_used.describe())"
   ]
  },
  {
   "cell_type": "markdown",
   "metadata": {},
   "source": [
    "Клиенты на тарифе **Smart** обычно используют от 13 до 20 гб трафика. Медиана при этом равняется 16,5 гб, т.е. очень часто клиенты превышают месячный лимит, заложенный в тарифе, и как следствие заказывают доп.пакеты интернет-трафика, что также было выявлено ранее на круговых диаграммах.\n",
    "\n",
    "Клиенты **Ultra** активне пользуются интернетом, медиана 19 гб, при лимите в 30 гб на тарифе."
   ]
  },
  {
   "cell_type": "markdown",
   "metadata": {},
   "source": [
    "## Вывод"
   ]
  },
  {
   "cell_type": "markdown",
   "metadata": {},
   "source": [
    "Из анализа видно, что клиентам тарифа Смарт не хватает интернет-трафика, медиана - 16,5 гб при заложенных в тарифе 15 гб, поэтому пользователи вынуждены заказывать дополнительные гигабайты. \n",
    "\n",
    "Важно отметить, что значимая доля клиентов отправляет мало сообщений или не отправляет совсем. Особенно ярко это видно в тарифе Ультра, где при потенциале в 1000 смс клиенты в среднем отправляют всего 50.\n",
    "\n",
    "На звонках при медиане 421 и лимите 500 звонков видно, как многие клиенты \"вылезают\" за рамки лимита, из-за чего вынуждены заказывать дополнительные минуты разговора. Клиенты Ультра, напротив, не используют лимит в 3000 минут даже наполовину. "
   ]
  },
  {
   "cell_type": "code",
   "execution_count": 52,
   "metadata": {},
   "outputs": [
    {
     "data": {
      "text/html": [
       "<div>\n",
       "<style scoped>\n",
       "    .dataframe tbody tr th:only-of-type {\n",
       "        vertical-align: middle;\n",
       "    }\n",
       "\n",
       "    .dataframe tbody tr th {\n",
       "        vertical-align: top;\n",
       "    }\n",
       "\n",
       "    .dataframe thead th {\n",
       "        text-align: right;\n",
       "    }\n",
       "</style>\n",
       "<table border=\"1\" class=\"dataframe\">\n",
       "  <thead>\n",
       "    <tr style=\"text-align: right;\">\n",
       "      <th></th>\n",
       "      <th>user_id</th>\n",
       "      <th>month</th>\n",
       "      <th>calls_count</th>\n",
       "      <th>minutes_sum</th>\n",
       "      <th>mb_used_sum</th>\n",
       "      <th>messages_count</th>\n",
       "      <th>tariff</th>\n",
       "      <th>city</th>\n",
       "      <th>messages_included</th>\n",
       "      <th>mb_per_month_included</th>\n",
       "      <th>...</th>\n",
       "      <th>rub_per_gb</th>\n",
       "      <th>rub_per_message</th>\n",
       "      <th>rub_per_minute</th>\n",
       "      <th>minutes_over_limit</th>\n",
       "      <th>messages_over_limit</th>\n",
       "      <th>internet_over_limit</th>\n",
       "      <th>internet_over_limit_gb</th>\n",
       "      <th>revenue</th>\n",
       "      <th>over_the_fee</th>\n",
       "      <th>is_over_the_fee</th>\n",
       "    </tr>\n",
       "  </thead>\n",
       "  <tbody>\n",
       "    <tr>\n",
       "      <th>0</th>\n",
       "      <td>1000</td>\n",
       "      <td>5</td>\n",
       "      <td>17</td>\n",
       "      <td>159</td>\n",
       "      <td>2256</td>\n",
       "      <td>22</td>\n",
       "      <td>ultra</td>\n",
       "      <td>Краснодар</td>\n",
       "      <td>1000</td>\n",
       "      <td>30720</td>\n",
       "      <td>...</td>\n",
       "      <td>150</td>\n",
       "      <td>1</td>\n",
       "      <td>1</td>\n",
       "      <td>0</td>\n",
       "      <td>0</td>\n",
       "      <td>0</td>\n",
       "      <td>0</td>\n",
       "      <td>1950</td>\n",
       "      <td>0</td>\n",
       "      <td>0</td>\n",
       "    </tr>\n",
       "    <tr>\n",
       "      <th>1</th>\n",
       "      <td>1000</td>\n",
       "      <td>6</td>\n",
       "      <td>28</td>\n",
       "      <td>172</td>\n",
       "      <td>23257</td>\n",
       "      <td>60</td>\n",
       "      <td>ultra</td>\n",
       "      <td>Краснодар</td>\n",
       "      <td>1000</td>\n",
       "      <td>30720</td>\n",
       "      <td>...</td>\n",
       "      <td>150</td>\n",
       "      <td>1</td>\n",
       "      <td>1</td>\n",
       "      <td>0</td>\n",
       "      <td>0</td>\n",
       "      <td>0</td>\n",
       "      <td>0</td>\n",
       "      <td>1950</td>\n",
       "      <td>0</td>\n",
       "      <td>0</td>\n",
       "    </tr>\n",
       "    <tr>\n",
       "      <th>2</th>\n",
       "      <td>1000</td>\n",
       "      <td>7</td>\n",
       "      <td>41</td>\n",
       "      <td>340</td>\n",
       "      <td>14016</td>\n",
       "      <td>75</td>\n",
       "      <td>ultra</td>\n",
       "      <td>Краснодар</td>\n",
       "      <td>1000</td>\n",
       "      <td>30720</td>\n",
       "      <td>...</td>\n",
       "      <td>150</td>\n",
       "      <td>1</td>\n",
       "      <td>1</td>\n",
       "      <td>0</td>\n",
       "      <td>0</td>\n",
       "      <td>0</td>\n",
       "      <td>0</td>\n",
       "      <td>1950</td>\n",
       "      <td>0</td>\n",
       "      <td>0</td>\n",
       "    </tr>\n",
       "    <tr>\n",
       "      <th>3</th>\n",
       "      <td>1000</td>\n",
       "      <td>8</td>\n",
       "      <td>42</td>\n",
       "      <td>408</td>\n",
       "      <td>14070</td>\n",
       "      <td>81</td>\n",
       "      <td>ultra</td>\n",
       "      <td>Краснодар</td>\n",
       "      <td>1000</td>\n",
       "      <td>30720</td>\n",
       "      <td>...</td>\n",
       "      <td>150</td>\n",
       "      <td>1</td>\n",
       "      <td>1</td>\n",
       "      <td>0</td>\n",
       "      <td>0</td>\n",
       "      <td>0</td>\n",
       "      <td>0</td>\n",
       "      <td>1950</td>\n",
       "      <td>0</td>\n",
       "      <td>0</td>\n",
       "    </tr>\n",
       "    <tr>\n",
       "      <th>4</th>\n",
       "      <td>1000</td>\n",
       "      <td>9</td>\n",
       "      <td>46</td>\n",
       "      <td>466</td>\n",
       "      <td>14581</td>\n",
       "      <td>57</td>\n",
       "      <td>ultra</td>\n",
       "      <td>Краснодар</td>\n",
       "      <td>1000</td>\n",
       "      <td>30720</td>\n",
       "      <td>...</td>\n",
       "      <td>150</td>\n",
       "      <td>1</td>\n",
       "      <td>1</td>\n",
       "      <td>0</td>\n",
       "      <td>0</td>\n",
       "      <td>0</td>\n",
       "      <td>0</td>\n",
       "      <td>1950</td>\n",
       "      <td>0</td>\n",
       "      <td>0</td>\n",
       "    </tr>\n",
       "    <tr>\n",
       "      <th>...</th>\n",
       "      <td>...</td>\n",
       "      <td>...</td>\n",
       "      <td>...</td>\n",
       "      <td>...</td>\n",
       "      <td>...</td>\n",
       "      <td>...</td>\n",
       "      <td>...</td>\n",
       "      <td>...</td>\n",
       "      <td>...</td>\n",
       "      <td>...</td>\n",
       "      <td>...</td>\n",
       "      <td>...</td>\n",
       "      <td>...</td>\n",
       "      <td>...</td>\n",
       "      <td>...</td>\n",
       "      <td>...</td>\n",
       "      <td>...</td>\n",
       "      <td>...</td>\n",
       "      <td>...</td>\n",
       "      <td>...</td>\n",
       "      <td>...</td>\n",
       "    </tr>\n",
       "    <tr>\n",
       "      <th>3209</th>\n",
       "      <td>1498</td>\n",
       "      <td>10</td>\n",
       "      <td>30</td>\n",
       "      <td>247</td>\n",
       "      <td>20604</td>\n",
       "      <td>42</td>\n",
       "      <td>smart</td>\n",
       "      <td>Владикавказ</td>\n",
       "      <td>50</td>\n",
       "      <td>15360</td>\n",
       "      <td>...</td>\n",
       "      <td>200</td>\n",
       "      <td>3</td>\n",
       "      <td>3</td>\n",
       "      <td>0</td>\n",
       "      <td>0</td>\n",
       "      <td>5244</td>\n",
       "      <td>6</td>\n",
       "      <td>1750</td>\n",
       "      <td>1200</td>\n",
       "      <td>1</td>\n",
       "    </tr>\n",
       "    <tr>\n",
       "      <th>3210</th>\n",
       "      <td>1499</td>\n",
       "      <td>9</td>\n",
       "      <td>8</td>\n",
       "      <td>70</td>\n",
       "      <td>1848</td>\n",
       "      <td>11</td>\n",
       "      <td>smart</td>\n",
       "      <td>Пермь</td>\n",
       "      <td>50</td>\n",
       "      <td>15360</td>\n",
       "      <td>...</td>\n",
       "      <td>200</td>\n",
       "      <td>3</td>\n",
       "      <td>3</td>\n",
       "      <td>0</td>\n",
       "      <td>0</td>\n",
       "      <td>0</td>\n",
       "      <td>0</td>\n",
       "      <td>550</td>\n",
       "      <td>0</td>\n",
       "      <td>0</td>\n",
       "    </tr>\n",
       "    <tr>\n",
       "      <th>3211</th>\n",
       "      <td>1499</td>\n",
       "      <td>10</td>\n",
       "      <td>44</td>\n",
       "      <td>449</td>\n",
       "      <td>17809</td>\n",
       "      <td>48</td>\n",
       "      <td>smart</td>\n",
       "      <td>Пермь</td>\n",
       "      <td>50</td>\n",
       "      <td>15360</td>\n",
       "      <td>...</td>\n",
       "      <td>200</td>\n",
       "      <td>3</td>\n",
       "      <td>3</td>\n",
       "      <td>0</td>\n",
       "      <td>0</td>\n",
       "      <td>2449</td>\n",
       "      <td>3</td>\n",
       "      <td>1150</td>\n",
       "      <td>600</td>\n",
       "      <td>1</td>\n",
       "    </tr>\n",
       "    <tr>\n",
       "      <th>3212</th>\n",
       "      <td>1499</td>\n",
       "      <td>11</td>\n",
       "      <td>62</td>\n",
       "      <td>612</td>\n",
       "      <td>17984</td>\n",
       "      <td>59</td>\n",
       "      <td>smart</td>\n",
       "      <td>Пермь</td>\n",
       "      <td>50</td>\n",
       "      <td>15360</td>\n",
       "      <td>...</td>\n",
       "      <td>200</td>\n",
       "      <td>3</td>\n",
       "      <td>3</td>\n",
       "      <td>112</td>\n",
       "      <td>9</td>\n",
       "      <td>2624</td>\n",
       "      <td>3</td>\n",
       "      <td>1513</td>\n",
       "      <td>963</td>\n",
       "      <td>1</td>\n",
       "    </tr>\n",
       "    <tr>\n",
       "      <th>3213</th>\n",
       "      <td>1499</td>\n",
       "      <td>12</td>\n",
       "      <td>56</td>\n",
       "      <td>492</td>\n",
       "      <td>13077</td>\n",
       "      <td>66</td>\n",
       "      <td>smart</td>\n",
       "      <td>Пермь</td>\n",
       "      <td>50</td>\n",
       "      <td>15360</td>\n",
       "      <td>...</td>\n",
       "      <td>200</td>\n",
       "      <td>3</td>\n",
       "      <td>3</td>\n",
       "      <td>0</td>\n",
       "      <td>16</td>\n",
       "      <td>0</td>\n",
       "      <td>0</td>\n",
       "      <td>598</td>\n",
       "      <td>48</td>\n",
       "      <td>1</td>\n",
       "    </tr>\n",
       "  </tbody>\n",
       "</table>\n",
       "<p>3214 rows × 22 columns</p>\n",
       "</div>"
      ],
      "text/plain": [
       "      user_id  month  calls_count  minutes_sum  mb_used_sum  messages_count  \\\n",
       "0        1000      5           17          159         2256              22   \n",
       "1        1000      6           28          172        23257              60   \n",
       "2        1000      7           41          340        14016              75   \n",
       "3        1000      8           42          408        14070              81   \n",
       "4        1000      9           46          466        14581              57   \n",
       "...       ...    ...          ...          ...          ...             ...   \n",
       "3209     1498     10           30          247        20604              42   \n",
       "3210     1499      9            8           70         1848              11   \n",
       "3211     1499     10           44          449        17809              48   \n",
       "3212     1499     11           62          612        17984              59   \n",
       "3213     1499     12           56          492        13077              66   \n",
       "\n",
       "     tariff         city  messages_included  mb_per_month_included  ...  \\\n",
       "0     ultra    Краснодар               1000                  30720  ...   \n",
       "1     ultra    Краснодар               1000                  30720  ...   \n",
       "2     ultra    Краснодар               1000                  30720  ...   \n",
       "3     ultra    Краснодар               1000                  30720  ...   \n",
       "4     ultra    Краснодар               1000                  30720  ...   \n",
       "...     ...          ...                ...                    ...  ...   \n",
       "3209  smart  Владикавказ                 50                  15360  ...   \n",
       "3210  smart        Пермь                 50                  15360  ...   \n",
       "3211  smart        Пермь                 50                  15360  ...   \n",
       "3212  smart        Пермь                 50                  15360  ...   \n",
       "3213  smart        Пермь                 50                  15360  ...   \n",
       "\n",
       "      rub_per_gb  rub_per_message  rub_per_minute  minutes_over_limit  \\\n",
       "0            150                1               1                   0   \n",
       "1            150                1               1                   0   \n",
       "2            150                1               1                   0   \n",
       "3            150                1               1                   0   \n",
       "4            150                1               1                   0   \n",
       "...          ...              ...             ...                 ...   \n",
       "3209         200                3               3                   0   \n",
       "3210         200                3               3                   0   \n",
       "3211         200                3               3                   0   \n",
       "3212         200                3               3                 112   \n",
       "3213         200                3               3                   0   \n",
       "\n",
       "      messages_over_limit  internet_over_limit  internet_over_limit_gb  \\\n",
       "0                       0                    0                       0   \n",
       "1                       0                    0                       0   \n",
       "2                       0                    0                       0   \n",
       "3                       0                    0                       0   \n",
       "4                       0                    0                       0   \n",
       "...                   ...                  ...                     ...   \n",
       "3209                    0                 5244                       6   \n",
       "3210                    0                    0                       0   \n",
       "3211                    0                 2449                       3   \n",
       "3212                    9                 2624                       3   \n",
       "3213                   16                    0                       0   \n",
       "\n",
       "      revenue  over_the_fee  is_over_the_fee  \n",
       "0        1950             0                0  \n",
       "1        1950             0                0  \n",
       "2        1950             0                0  \n",
       "3        1950             0                0  \n",
       "4        1950             0                0  \n",
       "...       ...           ...              ...  \n",
       "3209     1750          1200                1  \n",
       "3210      550             0                0  \n",
       "3211     1150           600                1  \n",
       "3212     1513           963                1  \n",
       "3213      598            48                1  \n",
       "\n",
       "[3214 rows x 22 columns]"
      ]
     },
     "execution_count": 52,
     "metadata": {},
     "output_type": "execute_result"
    }
   ],
   "source": [
    "clients_pivot"
   ]
  },
  {
   "cell_type": "markdown",
   "metadata": {},
   "source": [
    "## 4. Проверка гипотез.<a name=\"4.\"></a>\n",
    "[к содержанию](#0.0)"
   ]
  },
  {
   "cell_type": "markdown",
   "metadata": {},
   "source": [
    "Проверим 2 гипотезы:\n",
    "* средняя выручка пользователей тарифов «Ультра» и «Смарт» различается;\n",
    "* средняя выручка пользователей из Москвы отличается от выручки пользователей из других регионов."
   ]
  },
  {
   "cell_type": "markdown",
   "metadata": {},
   "source": [
    "## 4.1. Гипотеза о равенстве средних двух ген. совокупностей (средняя выручка пользователей тарифов \"Ультра\" и \"Смарт\" различается).<a name=\"4.1.\"></a>\n",
    "[к содержанию](#0.0)"
   ]
  },
  {
   "cell_type": "markdown",
   "metadata": {},
   "source": [
    "Cформулируем гипотезы:\n",
    "\n",
    "**H0** - Cредняя выручка пользователей тарифа \"Смарт\" не отличается от средней выручки пользователей тарифа \"Ультра\".  \n",
    "**H1** - Средняя выручка пользователей тарифа \"Смарт\" отличается от средней выручки пользователей тарифа \"Ультра\"."
   ]
  },
  {
   "cell_type": "markdown",
   "metadata": {},
   "source": [
    "Построим боксплот по выручке и определим границы выбросов."
   ]
  },
  {
   "cell_type": "code",
   "execution_count": 54,
   "metadata": {},
   "outputs": [
    {
     "data": {
      "image/png": "[encoded data removed]",
      "text/plain": [
       "<Figure size 432x288 with 1 Axes>"
      ]
     },
     "metadata": {
      "needs_background": "light"
     },
     "output_type": "display_data"
    },
    {
     "name": "stdout",
     "output_type": "stream",
     "text": [
      "\n",
      "\u001b[1mГраницы интервалов для фильтрации выбросов:\u001b[0m\n",
      "\n",
      "Смарт: 550.0 - 3550.0\n",
      "Ультра: 1950.0 - 1950.0\n",
      "\n"
     ]
    }
   ],
   "source": [
    "# сформируем выборки по тарифам \n",
    "smart_revenue = clients_pivot[clients_pivot['tariff'] == 'smart']['revenue']\n",
    "ultra_revenue = clients_pivot[clients_pivot['tariff'] == 'ultra']['revenue']\n",
    "\n",
    "# построим боксплот\n",
    "plt.boxplot([smart_revenue, ultra_revenue], labels = ['smart', 'ultra'] )\n",
    "plt.grid()\n",
    "plt.title('Выручки тарифов Смарт и и Ультра')\n",
    "plt.show()\n",
    "print()\n",
    "\n",
    "# определим границы ранее написанной функцией\n",
    "print('\\033[1m' + 'Границы интервалов для фильтрации выбросов:' +  '\\033[0m')\n",
    "print()\n",
    "print('Смарт:', end=' '), iqr(clients_pivot, 'revenue', 'tariff', 'smart', 'equal')\n",
    "print('Ультра:', end=' '), iqr(clients_pivot, 'revenue', 'tariff', 'ultra', 'equal')\n",
    "print()"
   ]
  },
  {
   "cell_type": "code",
   "execution_count": 55,
   "metadata": {},
   "outputs": [],
   "source": [
    "# отфильтруем данные от выбросов\n",
    "smart_revenue = clients_pivot.query(\"revenue >= 550 & revenue <= 3550 & tariff == 'smart'\")['revenue']\n",
    "ultra_revenue = clients_pivot.query(\"revenue >= 1950 & revenue <= 1950 & tariff == 'ultra'\")['revenue']"
   ]
  },
  {
   "cell_type": "code",
   "execution_count": 56,
   "metadata": {},
   "outputs": [
    {
     "name": "stdout",
     "output_type": "stream",
     "text": [
      "Пороговое значение alpha = 0.05\n",
      "p-значение: 4.6244593528593796e-153\n",
      "Отвергаем нулевую гипотезу\n"
     ]
    }
   ],
   "source": [
    "# Посчитаем P-value\n",
    "alpha = .05\n",
    "\n",
    "results = st.ttest_ind(\n",
    "    smart_revenue, \n",
    "    ultra_revenue)\n",
    "\n",
    "print('Пороговое значение alpha =', alpha)\n",
    "\n",
    "print('p-значение:', results.pvalue)\n",
    "\n",
    "if (results.pvalue < alpha):\n",
    "    print(\"Отвергаем нулевую гипотезу\")\n",
    "else:\n",
    "    print(\"Не получилось отвергнуть нулевую гипотезу\")"
   ]
  },
  {
   "cell_type": "markdown",
   "metadata": {},
   "source": [
    "Так как мы отвергаем нулевую гипотезу и предполагаем, что средняя выручка по тарифам отличается друг от друга, посмотрим, какой тариф приносит большую выручку."
   ]
  },
  {
   "cell_type": "code",
   "execution_count": 57,
   "metadata": {},
   "outputs": [
    {
     "name": "stdout",
     "output_type": "stream",
     "text": [
      "Средняя выручка тарифа Смарт: 1250\n",
      "Средняя выручка тарифа Ультра: 1950\n"
     ]
    }
   ],
   "source": [
    "print('Средняя выручка тарифа Смарт:', round(smart_revenue.mean()))\n",
    "print('Средняя выручка тарифа Ультра:', round(ultra_revenue.mean()))"
   ]
  },
  {
   "cell_type": "markdown",
   "metadata": {},
   "source": [
    "Несмотря на большое количество заказов дополнительных услуг (в 75% случаев клиенты заказывают доп. пакеты), пользователи тарифа Смарт приносят меньшуюю выручку из-за довольно большой разницы в абонентской плате тарифов."
   ]
  },
  {
   "cell_type": "markdown",
   "metadata": {},
   "source": [
    "#### 4.2. Гипотеза о равенстве средних двух ген. совокупностей (средняя выручка пользователей из Москвы отличается от выручки пользователей из других регионов).<a name=\"4.2.\"></a>\n",
    "[к содержанию](#0.0)"
   ]
  },
  {
   "cell_type": "markdown",
   "metadata": {},
   "source": [
    "Cформулируем гипотезы:\n",
    "\n",
    "**H0** - cредняя выручка пользователей Москвы не отличается от средней выручки пользователей из других регионов\".  \n",
    "**H1** - Средняя выручка пользователей Москвы отличается от средней выручки пользователей из других регионов\"."
   ]
  },
  {
   "cell_type": "markdown",
   "metadata": {},
   "source": [
    "Отфильтруем данные по Москве и регионам. Построим боксплот по выручке и определим границы выбросов."
   ]
  },
  {
   "cell_type": "code",
   "execution_count": 58,
   "metadata": {},
   "outputs": [
    {
     "data": {
      "image/png": "[encoded data removed]",
      "text/plain": [
       "<Figure size 432x288 with 1 Axes>"
      ]
     },
     "metadata": {
      "needs_background": "light"
     },
     "output_type": "display_data"
    },
    {
     "name": "stdout",
     "output_type": "stream",
     "text": [
      "\n",
      "\u001b[1mГраницы интервалов для фильтрации выбросов:\u001b[0m\n",
      "\n",
      "Москва: 550.0 - 3678.0\n",
      "Регионы: 550.0 - 3750.0\n",
      "\n"
     ]
    }
   ],
   "source": [
    "# сформируем выборки для Москвы и регионов\n",
    "moscow_revenue = clients_pivot[clients_pivot['city'] == 'Москва']['revenue']\n",
    "regions_revenue = clients_pivot[clients_pivot['city'] != 'Москва']['revenue']\n",
    "\n",
    "# построим боксплот\n",
    "plt.boxplot([moscow_revenue, regions_revenue], labels = ['Москва', 'Регионы'] )\n",
    "plt.grid()\n",
    "plt.title('Выручки по Москве и Регионам')\n",
    "plt.show()\n",
    "print()\n",
    "\n",
    "# определим границы ранее написанной функцией\n",
    "print('\\033[1m' + 'Границы интервалов для фильтрации выбросов:' +  '\\033[0m')\n",
    "print()\n",
    "print('Москва:', end=' '), iqr(clients_pivot, 'revenue', 'city', 'Москва', 'equal')\n",
    "print('Регионы:', end=' '), iqr(clients_pivot, 'revenue', 'city', 'Москва', 'not_equal')\n",
    "print()"
   ]
  },
  {
   "cell_type": "code",
   "execution_count": 59,
   "metadata": {},
   "outputs": [],
   "source": [
    "# отфильтруем данные от выбросов\n",
    "moscow_revenue = clients_pivot.query(\"revenue >= 550 & revenue <= 3678 & city == 'Москва'\")['revenue']\n",
    "regions_revenue = clients_pivot.query(\"revenue >= 550 & revenue <= 3750 & city != 'Москва'\")['revenue']"
   ]
  },
  {
   "cell_type": "code",
   "execution_count": 60,
   "metadata": {},
   "outputs": [
    {
     "name": "stdout",
     "output_type": "stream",
     "text": [
      "Пороговое значение alpha = 0.05\n",
      "p-значение: 0.27118563882521046\n",
      "Не получилось отвергнуть нулевую гипотезу\n"
     ]
    }
   ],
   "source": [
    "# Посчитаем P-value\n",
    "alpha = .05\n",
    "\n",
    "results = st.ttest_ind(\n",
    "    moscow_revenue, \n",
    "    regions_revenue)\n",
    "\n",
    "print('Пороговое значение alpha =', alpha)\n",
    "\n",
    "print('p-значение:', results.pvalue)\n",
    "\n",
    "if (results.pvalue < alpha):\n",
    "    print(\"Отвергаем нулевую гипотезу\")\n",
    "else:\n",
    "    print(\"Не получилось отвергнуть нулевую гипотезу\")"
   ]
  },
  {
   "cell_type": "code",
   "execution_count": 61,
   "metadata": {},
   "outputs": [
    {
     "name": "stdout",
     "output_type": "stream",
     "text": [
      "Средняя выручка в Москве: 1529\n",
      "Средняя выручка в Регионах: 1492\n"
     ]
    }
   ],
   "source": [
    "print('Средняя выручка в Москве:', round(moscow_revenue.mean()))\n",
    "print('Средняя выручка в Регионах:', round(regions_revenue.mean()))"
   ]
  },
  {
   "cell_type": "markdown",
   "metadata": {},
   "source": [
    "В Москве в среднем платят на 40 рублей больше, чем в регионах. Разница совсем незначительная. Нельзя сказать, что средняя выручка Москвы отличается от регионов."
   ]
  },
  {
   "cell_type": "markdown",
   "metadata": {},
   "source": [
    "## Вывод<a name=\"5.\"></a>\n",
    "[к содержанию](#0.0)"
   ]
  },
  {
   "cell_type": "markdown",
   "metadata": {},
   "source": [
    "Из анализа видно, что клиентам тарифа Смарт не хватает интернет-трафика - медиана равна 16,5 гб при заложенных в тарифе 15 гб. Поэтому пользователи вынуждены заказывать дополнительные гигабайты - в среднем клиенты Смарта переплачивают 600 рублей. Клиенты Ультры, в свою очередь, переплачивают всего 150 рублей.\n",
    "\n",
    "Важно отметить, что значимая доля клиентов отправляет мало сообщений или не отправляет совсем. Особенно ярко это видно в тарифе Ультра, где при потенциале в 1000 смс клиенты в среднем отправляют всего 50. Клиенты почти не заказывают дополнительные смс, это может быть обусловлено развитием популярности общения в мессенджерах.\n",
    "\n",
    "На звонках при медиане 421 и лимите 500 звонков видно, как многие клиенты \"вылезают\" за рамки лимита, из-за чего вынуждены заказывать в среднем дополнительные 40 минут разговора. Клиенты Ультра, напротив, не расходуют лимит в 3000 минут даже наполовину.\n",
    "\n",
    "Клиент Ультра приносит 1950 рублей, а клиент Смарт 1250 рублей, несмотря на большее к-во заказа доп.услуг. Это, конечно, обусловлено высокой абонентской платой на тарифе Ультра.\n",
    "\n",
    "Основные выводы, которые можно сделать:\n",
    "1. Несмотря на то, что тариф Ультра приносит большую выручку на человека, данный тариф является в сущности \"Премуим\" тарифом за счет своей высокой абонентской платы. Несмотря на то, что клиентам, как правило, хватает установленных лимитов, он не сможет привлечь большую аудиторию из-за своей стоимости. В свою очередь, тариф Смарт пользуется большой популярностью, но клиенты на нем вынуждены выходить за лимиты и переплачивать за доп.услуги.  \n",
    "Мегалайн может подумать о введении нового тарифа в среднем (между Смарт и Ультра) ценовом сенменте, на котором клиенты смогут оставаться довольными и не задумываться о лимитах, при этом приносить хорошую выручку компании. \n",
    "\n",
    "2. Компании нужно пересмотреть лимиты и сделать больший упор на гигабайты интернет-трафика. Возможно, 1000 смс и является красивой цифрой в рекламном описании тарифа, но на практике никак не бьётся с реальностью - большинству клиентов не требуется такое количество. Также стоит откалибровать лимиты по звонкам на обоих тарифах.\n",
    "\n",
    "\n",
    "\n",
    "Были проверены 2 гипотезы:\n",
    "1. Средняя выручка пользователей тарифов «Ультра» и «Смарт» различается;\n",
    "2. Средняя выручка пользователей из Москвы отличается от выручки пользователей из других регионов;\n",
    "\n",
    "Выводы которые можно сделать после проверки гипотез:  \n",
    "1. Средняя выручка по тарифам отличается друг от друга, Смарт - 1250 руб., Ультра - 1950 руб.\n",
    "2. Средняя выручка Москвы значимо не отличается от выручки по регионам. На выборках разница составила всего 40 рублей.\n"
   ]
  }
 ],
 "metadata": {
  "kernelspec": {
   "display_name": "Python 3",
   "language": "python",
   "name": "python3"
  },
  "language_info": {
   "codemirror_mode": {
    "name": "ipython",
    "version": 3
   },
   "file_extension": ".py",
   "mimetype": "text/x-python",
   "name": "python",
   "nbconvert_exporter": "python",
   "pygments_lexer": "ipython3",
   "version": "3.8.5"
  }
 },
 "nbformat": 4,
 "nbformat_minor": 4
}

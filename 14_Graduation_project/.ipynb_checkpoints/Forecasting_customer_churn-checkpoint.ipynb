{
 "cells": [
  {
   "cell_type": "markdown",
   "metadata": {},
   "source": [
    "### Телеком"
   ]
  },
  {
   "cell_type": "markdown",
   "metadata": {},
   "source": [
    "Оператор связи «Ниединогоразрыва.ком» хочет научиться прогнозировать отток клиентов. Если выяснится, что пользователь планирует уйти, ему будут предложены промокоды и специальные условия. Команда оператора собрала персональные данные о некоторых клиентах, информацию об их тарифах и договорах.\n",
    "\n",
    "- Критерии оценки проекта «Телеком»\n",
    "\n",
    "    Целевой признак: столбец `'EndDate'` равен `'No'`.\n",
    "\n",
    "    Основная метрика: AUC-ROC.\n",
    "\n",
    "    Дополнительная метрика: Accuracy.\n",
    "\n",
    "    Критерии оценки:\n",
    "\n",
    "    - AUC-ROC < 0.75 — 0 sp\n",
    "    - 0.75 ≤ AUC-ROC < 0.81 — 4 sp\n",
    "    - 0.81 ≤ AUC-ROC < 0.85 — 4.5 sp\n",
    "    - 0.85 ≤ AUC-ROC < 0.87 — 5 sp\n",
    "    - 0.87 ≤ AUC-ROC < 0.88 — 5.5 sp\n",
    "    - AUC-ROC ≥ 0.88 — 6 sp\n",
    "\n",
    "### Описание услуг\n",
    "\n",
    "Оператор предоставляет два основных типа услуг: \n",
    "\n",
    "1. Стационарную телефонную связь. Возможно подключение телефонного аппарата к нескольким линиям одновременно.\n",
    "2. Интернет. Подключение может быть двух типов: через телефонную линию (DSL*,* от англ. *digital subscriber line*, «цифровая абонентская линия») или оптоволоконный кабель (*Fiber optic*).  \n",
    "\n",
    "Также доступны такие услуги:\n",
    "\n",
    "- Интернет-безопасность: антивирус (*DeviceProtection*) и блокировка небезопасных сайтов (*OnlineSecurity*);\n",
    "- Выделенная линия технической поддержки (*TechSupport*);\n",
    "- Облачное хранилище файлов для резервного копирования данных (*OnlineBackup*);\n",
    "- Стриминговое телевидение (*StreamingTV*) и каталог фильмов (*StreamingMovies*).\n",
    "\n",
    "За услуги клиенты могут платить каждый месяц или заключить договор на 1–2 года. Доступны различные способы расчёта и возможность получения электронного чека.\n",
    "\n",
    "### Описание данных\n",
    "\n",
    "Данные состоят из файлов, полученных из разных источников:\n",
    "\n",
    "- `contract.csv` — информация о договоре;\n",
    "- `personal.csv` — персональные данные клиента;\n",
    "- `internet.csv` — информация об интернет-услугах;\n",
    "- `phone.csv` — информация об услугах телефонии.\n",
    "\n",
    "Во всех файлах столбец `customerID` содержит код клиента.\n",
    "\n",
    "Информация о договорах актуальна на 1 февраля 2020."
   ]
  },
  {
   "cell_type": "markdown",
   "metadata": {},
   "source": [
    "### Содержание:\n",
    "1. Знакомство с данными, первичная предобработка.\n",
    "2. Исследовательский анализ данных.\n",
    "3. Обучение моделей.\n",
    "4. Тестирование модели и проверка на адекватность.\n",
    "5. Общие выводы"
   ]
  },
  {
   "cell_type": "markdown",
   "metadata": {},
   "source": [
    "### 1. Знакомство с данными."
   ]
  },
  {
   "cell_type": "code",
   "execution_count": 60,
   "metadata": {},
   "outputs": [
    {
     "data": {
      "text/html": [
       "<style>.container { width:100% !important; }</style>"
      ],
      "text/plain": [
       "<IPython.core.display.HTML object>"
      ]
     },
     "metadata": {},
     "output_type": "display_data"
    }
   ],
   "source": [
    "import pandas as pd\n",
    "import numpy as np \n",
    "import seaborn as sns\n",
    "import matplotlib.pyplot as plt\n",
    "import warnings\n",
    "warnings.simplefilter('ignore')\n",
    "\n",
    "from sklearn.preprocessing import LabelEncoder\n",
    "from sklearn.model_selection import train_test_split\n",
    "from sklearn.linear_model import LogisticRegression\n",
    "from sklearn.tree import DecisionTreeClassifier\n",
    "from sklearn.preprocessing import StandardScaler \n",
    "from sklearn.ensemble import RandomForestClassifier\n",
    "from sklearn.utils import shuffle\n",
    "from sklearn.metrics import roc_curve \n",
    "from sklearn.metrics import f1_score \n",
    "from sklearn.metrics import roc_auc_score \n",
    "from sklearn.metrics import precision_score \n",
    "from sklearn.metrics import recall_score \n",
    "from sklearn.metrics import roc_curve, auc\n",
    "from sklearn.metrics import accuracy_score\n",
    "from catboost import CatBoostClassifier\n",
    "\n",
    "\n",
    "\n",
    "from IPython.core.display import display, HTML\n",
    "display(HTML(\"<style>.container { width:100% !important; }</style>\"))"
   ]
  },
  {
   "cell_type": "markdown",
   "metadata": {},
   "source": [
    "Считаем данные "
   ]
  },
  {
   "cell_type": "raw",
   "metadata": {},
   "source": [
    "contract = pd.read_csv('contract.csv')\n",
    "personal = pd.read_csv('personal.csv')\n",
    "internet = pd.read_csv('internet.csv')\n",
    "phone = pd.read_csv('phone.csv')\n",
    "contract.name = 'Contract'\n",
    "personal.name = 'Personal'\n",
    "internet.name = 'Internet'\n",
    "phone.name = 'Phone'"
   ]
  },
  {
   "cell_type": "code",
   "execution_count": 61,
   "metadata": {},
   "outputs": [],
   "source": [
    "contract = pd.read_csv('/datasets/final_provider/contract.csv')\n",
    "internet = pd.read_csv('/datasets/final_provider/internet.csv')\n",
    "personal = pd.read_csv('/datasets/final_provider/personal.csv')\n",
    "phone = pd.read_csv('/datasets/final_provider/phone.csv')\n",
    "# contract = pd.read_csv('contract.csv')\n",
    "# internet = pd.read_csv('internet.csv')\n",
    "# personal = pd.read_csv('personal.csv')\n",
    "# phone = pd.read_csv('phone.csv')\n",
    "\n",
    "contract.name = 'Contract'\n",
    "personal.name = 'Personal'\n",
    "internet.name = 'Internet'\n",
    "phone.name = 'Phone'"
   ]
  },
  {
   "cell_type": "markdown",
   "metadata": {},
   "source": [
    "Познакомимся с данными, напишем функцию, показывающую общую информацию по таблицам."
   ]
  },
  {
   "cell_type": "code",
   "execution_count": 62,
   "metadata": {
    "scrolled": false
   },
   "outputs": [],
   "source": [
    "bold = '\\033[1m{}\\033[0m'\n",
    "def overview(df):\n",
    "    print(bold.format('Таблица ' + df.name)), print(\"\\n\")\n",
    "    print(bold.format('Размеры датафрейма:'), df.shape), print(\"\\n\")\n",
    "    print(bold.format('Общая информация:')), df.info(), print(\"\\n\")\n",
    "    print(bold.format('Первые 5 строк:'))\n",
    "    print(df.head()), print(\"\\n\")\n",
    "    print(bold.format('К-во уникальных значений:'))\n",
    "    print(df.nunique()), print(\"\\n\")\n",
    "    print(bold.format('Количество полных дубликатов:'),df.duplicated().sum())"
   ]
  },
  {
   "cell_type": "markdown",
   "metadata": {},
   "source": [
    "Применим функцию к кадому датафрейму и сделаем выводы."
   ]
  },
  {
   "cell_type": "code",
   "execution_count": 63,
   "metadata": {},
   "outputs": [
    {
     "name": "stdout",
     "output_type": "stream",
     "text": [
      "\u001b[1mТаблица Contract\u001b[0m\n",
      "\n",
      "\n",
      "\u001b[1mРазмеры датафрейма:\u001b[0m (7043, 8)\n",
      "\n",
      "\n",
      "\u001b[1mОбщая информация:\u001b[0m\n",
      "<class 'pandas.core.frame.DataFrame'>\n",
      "RangeIndex: 7043 entries, 0 to 7042\n",
      "Data columns (total 8 columns):\n",
      "customerID          7043 non-null object\n",
      "BeginDate           7043 non-null object\n",
      "EndDate             7043 non-null object\n",
      "Type                7043 non-null object\n",
      "PaperlessBilling    7043 non-null object\n",
      "PaymentMethod       7043 non-null object\n",
      "MonthlyCharges      7043 non-null float64\n",
      "TotalCharges        7043 non-null object\n",
      "dtypes: float64(1), object(7)\n",
      "memory usage: 440.3+ KB\n",
      "\n",
      "\n",
      "\u001b[1mПервые 5 строк:\u001b[0m\n",
      "   customerID   BeginDate              EndDate            Type  \\\n",
      "0  7590-VHVEG  2020-01-01                   No  Month-to-month   \n",
      "1  5575-GNVDE  2017-04-01                   No        One year   \n",
      "2  3668-QPYBK  2019-10-01  2019-12-01 00:00:00  Month-to-month   \n",
      "3  7795-CFOCW  2016-05-01                   No        One year   \n",
      "4  9237-HQITU  2019-09-01  2019-11-01 00:00:00  Month-to-month   \n",
      "\n",
      "  PaperlessBilling              PaymentMethod  MonthlyCharges TotalCharges  \n",
      "0              Yes           Electronic check           29.85        29.85  \n",
      "1               No               Mailed check           56.95       1889.5  \n",
      "2              Yes               Mailed check           53.85       108.15  \n",
      "3               No  Bank transfer (automatic)           42.30      1840.75  \n",
      "4              Yes           Electronic check           70.70       151.65  \n",
      "\n",
      "\n",
      "\u001b[1mК-во уникальных значений:\u001b[0m\n",
      "customerID          7043\n",
      "BeginDate             77\n",
      "EndDate                5\n",
      "Type                   3\n",
      "PaperlessBilling       2\n",
      "PaymentMethod          4\n",
      "MonthlyCharges      1585\n",
      "TotalCharges        6531\n",
      "dtype: int64\n",
      "\n",
      "\n",
      "\u001b[1mКоличество полных дубликатов:\u001b[0m 0\n"
     ]
    }
   ],
   "source": [
    "overview(contract)"
   ]
  },
  {
   "cell_type": "markdown",
   "metadata": {},
   "source": [
    "По таблице Contract можно отметить:\n",
    "* Cодержит 7043 строк, 8 столбцов;\n",
    "* Пропущенные значения отсутствуют;\n",
    "* В качестве пропусков в поле EndDate указано \"No\"; \n",
    "* Количественный признак TotalCharges имеет не численный тип данных;\n",
    "* Все customerID уникальны;\n",
    "* Полные дубликаты отсутствуют."
   ]
  },
  {
   "cell_type": "code",
   "execution_count": 64,
   "metadata": {},
   "outputs": [
    {
     "name": "stdout",
     "output_type": "stream",
     "text": [
      "\u001b[1mТаблица Personal\u001b[0m\n",
      "\n",
      "\n",
      "\u001b[1mРазмеры датафрейма:\u001b[0m (7043, 5)\n",
      "\n",
      "\n",
      "\u001b[1mОбщая информация:\u001b[0m\n",
      "<class 'pandas.core.frame.DataFrame'>\n",
      "RangeIndex: 7043 entries, 0 to 7042\n",
      "Data columns (total 5 columns):\n",
      "customerID       7043 non-null object\n",
      "gender           7043 non-null object\n",
      "SeniorCitizen    7043 non-null int64\n",
      "Partner          7043 non-null object\n",
      "Dependents       7043 non-null object\n",
      "dtypes: int64(1), object(4)\n",
      "memory usage: 275.2+ KB\n",
      "\n",
      "\n",
      "\u001b[1mПервые 5 строк:\u001b[0m\n",
      "   customerID  gender  SeniorCitizen Partner Dependents\n",
      "0  7590-VHVEG  Female              0     Yes         No\n",
      "1  5575-GNVDE    Male              0      No         No\n",
      "2  3668-QPYBK    Male              0      No         No\n",
      "3  7795-CFOCW    Male              0      No         No\n",
      "4  9237-HQITU  Female              0      No         No\n",
      "\n",
      "\n",
      "\u001b[1mК-во уникальных значений:\u001b[0m\n",
      "customerID       7043\n",
      "gender              2\n",
      "SeniorCitizen       2\n",
      "Partner             2\n",
      "Dependents          2\n",
      "dtype: int64\n",
      "\n",
      "\n",
      "\u001b[1mКоличество полных дубликатов:\u001b[0m 0\n"
     ]
    }
   ],
   "source": [
    "overview(personal)"
   ]
  },
  {
   "cell_type": "markdown",
   "metadata": {},
   "source": [
    "По таблице Personal можно отметить:\n",
    "* содержит 7043 строк, 5 столбцов;\n",
    "* пропущенные значения отсутствуют;\n",
    "* количество уникальных id соответствует таблице Contract;\n",
    "* дубликаты отсутствуют;\n",
    "* все признаки кроме id бинарны."
   ]
  },
  {
   "cell_type": "code",
   "execution_count": 65,
   "metadata": {},
   "outputs": [
    {
     "name": "stdout",
     "output_type": "stream",
     "text": [
      "\u001b[1mТаблица Internet\u001b[0m\n",
      "\n",
      "\n",
      "\u001b[1mРазмеры датафрейма:\u001b[0m (5517, 8)\n",
      "\n",
      "\n",
      "\u001b[1mОбщая информация:\u001b[0m\n",
      "<class 'pandas.core.frame.DataFrame'>\n",
      "RangeIndex: 5517 entries, 0 to 5516\n",
      "Data columns (total 8 columns):\n",
      "customerID          5517 non-null object\n",
      "InternetService     5517 non-null object\n",
      "OnlineSecurity      5517 non-null object\n",
      "OnlineBackup        5517 non-null object\n",
      "DeviceProtection    5517 non-null object\n",
      "TechSupport         5517 non-null object\n",
      "StreamingTV         5517 non-null object\n",
      "StreamingMovies     5517 non-null object\n",
      "dtypes: object(8)\n",
      "memory usage: 344.9+ KB\n",
      "\n",
      "\n",
      "\u001b[1mПервые 5 строк:\u001b[0m\n",
      "   customerID InternetService OnlineSecurity OnlineBackup DeviceProtection  \\\n",
      "0  7590-VHVEG             DSL             No          Yes               No   \n",
      "1  5575-GNVDE             DSL            Yes           No              Yes   \n",
      "2  3668-QPYBK             DSL            Yes          Yes               No   \n",
      "3  7795-CFOCW             DSL            Yes           No              Yes   \n",
      "4  9237-HQITU     Fiber optic             No           No               No   \n",
      "\n",
      "  TechSupport StreamingTV StreamingMovies  \n",
      "0          No          No              No  \n",
      "1          No          No              No  \n",
      "2          No          No              No  \n",
      "3         Yes          No              No  \n",
      "4          No          No              No  \n",
      "\n",
      "\n",
      "\u001b[1mК-во уникальных значений:\u001b[0m\n",
      "customerID          5517\n",
      "InternetService        2\n",
      "OnlineSecurity         2\n",
      "OnlineBackup           2\n",
      "DeviceProtection       2\n",
      "TechSupport            2\n",
      "StreamingTV            2\n",
      "StreamingMovies        2\n",
      "dtype: int64\n",
      "\n",
      "\n",
      "\u001b[1mКоличество полных дубликатов:\u001b[0m 0\n"
     ]
    }
   ],
   "source": [
    "overview(internet)"
   ]
  },
  {
   "cell_type": "markdown",
   "metadata": {},
   "source": [
    "По таблице internet можно отметить:\n",
    "* содержит 5517 строк, 8 столбцов;\n",
    "* пропущенные значения отсутствуют;\n",
    "* значения customerID уникальны;\n",
    "* дубликаты отсутствуют;\n",
    "* все признаки кроме id бинарны."
   ]
  },
  {
   "cell_type": "code",
   "execution_count": 66,
   "metadata": {},
   "outputs": [
    {
     "name": "stdout",
     "output_type": "stream",
     "text": [
      "\u001b[1mТаблица Phone\u001b[0m\n",
      "\n",
      "\n",
      "\u001b[1mРазмеры датафрейма:\u001b[0m (6361, 2)\n",
      "\n",
      "\n",
      "\u001b[1mОбщая информация:\u001b[0m\n",
      "<class 'pandas.core.frame.DataFrame'>\n",
      "RangeIndex: 6361 entries, 0 to 6360\n",
      "Data columns (total 2 columns):\n",
      "customerID       6361 non-null object\n",
      "MultipleLines    6361 non-null object\n",
      "dtypes: object(2)\n",
      "memory usage: 99.5+ KB\n",
      "\n",
      "\n",
      "\u001b[1mПервые 5 строк:\u001b[0m\n",
      "   customerID MultipleLines\n",
      "0  5575-GNVDE            No\n",
      "1  3668-QPYBK            No\n",
      "2  9237-HQITU            No\n",
      "3  9305-CDSKC           Yes\n",
      "4  1452-KIOVK           Yes\n",
      "\n",
      "\n",
      "\u001b[1mК-во уникальных значений:\u001b[0m\n",
      "customerID       6361\n",
      "MultipleLines       2\n",
      "dtype: int64\n",
      "\n",
      "\n",
      "\u001b[1mКоличество полных дубликатов:\u001b[0m 0\n"
     ]
    }
   ],
   "source": [
    "overview(phone)"
   ]
  },
  {
   "cell_type": "markdown",
   "metadata": {},
   "source": [
    "По таблице phone можно отметить:\n",
    "* Cодержит 6361 строк, 2 столбцов;\n",
    "* Пропущенные значения отсутствуют;\n",
    "* Значения customerID уникальны;\n",
    "* Дубликаты отсутствуют."
   ]
  },
  {
   "cell_type": "code",
   "execution_count": 67,
   "metadata": {},
   "outputs": [
    {
     "data": {
      "text/plain": [
       "(7043, 8)"
      ]
     },
     "execution_count": 67,
     "metadata": {},
     "output_type": "execute_result"
    }
   ],
   "source": [
    "#Проверим все ли являются ли id в contract и personal одинаковыми\n",
    "contract[contract['customerID'].isin(personal.customerID.values)].shape"
   ]
  },
  {
   "cell_type": "code",
   "execution_count": 68,
   "metadata": {},
   "outputs": [
    {
     "data": {
      "text/plain": [
       "(5517, 8)"
      ]
     },
     "execution_count": 68,
     "metadata": {},
     "output_type": "execute_result"
    }
   ],
   "source": [
    "#Проверям входят ли id из personal и internet в contract\n",
    "contract[contract['customerID'].isin(internet.customerID.values)].shape"
   ]
  },
  {
   "cell_type": "code",
   "execution_count": 69,
   "metadata": {},
   "outputs": [
    {
     "data": {
      "text/plain": [
       "(6361, 8)"
      ]
     },
     "execution_count": 69,
     "metadata": {},
     "output_type": "execute_result"
    }
   ],
   "source": [
    "contract[contract['customerID'].isin(phone.customerID.values)].shape"
   ]
  },
  {
   "cell_type": "markdown",
   "metadata": {},
   "source": [
    "Произведем объединение датафреймов"
   ]
  },
  {
   "cell_type": "code",
   "execution_count": 70,
   "metadata": {},
   "outputs": [],
   "source": [
    "main_dataframe = pd.merge(contract, personal, how='left', on=['customerID'])\n",
    "main_dataframe = pd.merge(main_dataframe, internet, how='left', on=['customerID'])\n",
    "main_dataframe = pd.merge(main_dataframe, phone, how='left', on=['customerID'])"
   ]
  },
  {
   "cell_type": "markdown",
   "metadata": {},
   "source": [
    "Преобразуем поле TotalCharges в вещественный тип данных. При попытке преобразования были найдены пустые значения ' ', в количестве 10 записей, удалим их из датафрейма."
   ]
  },
  {
   "cell_type": "code",
   "execution_count": 71,
   "metadata": {},
   "outputs": [],
   "source": [
    "main_dataframe = main_dataframe[main_dataframe['TotalCharges'] != ' ']\n",
    "main_dataframe['TotalCharges'] = main_dataframe['TotalCharges'].apply(float)"
   ]
  },
  {
   "cell_type": "markdown",
   "metadata": {},
   "source": [
    "### Вывод\n",
    "При первичном знакомстве с данными можно отметить:\n",
    "* таблицы содержат признаки по 7043 пользователям;\n",
    "* в таблицах отсутсвуют полные дубликаты;\n",
    "* количественный признак TotalCharges имеет строковый тип данных;\n",
    "* целевой признак имеет как строковый формат \"No\" так и формат даты;\n",
    "* пропуски отсутствуют;\n",
    "* во всех таблицах кроме таблицы contract все категориальные признаки бинарны;\n",
    "* не у всех пользователей подключен и интернет и телефонная линия одновременно.\n",
    "\n",
    "Была проведена предварительная предобработка:\n",
    "* проведено объединение датафреймов;\n",
    "* строковый тип данных в TotalCharges заменен на вещественный.\n",
    "\n",
    "Поля можно описать следующим образом:\n",
    "* customerID - уникальный ID пользователя;\n",
    "* BeginDate - дата заключения договора;\n",
    "* EndDate - дата расторжения договора;\n",
    "* Type - тип оплаты услуг;\n",
    "* PaperlessBilling - возможность получения электронного чека;\n",
    "* PaymentMethod - способ оплаты;\n",
    "* MonthlyCharges - сумма месячного списани средств;\n",
    "* TotalCharges - общая сумма списания средств;\n",
    "* gender - пол;\n",
    "* SeniorCitizen - является ли пользователь пожилым;\n",
    "* Partner - есть ли партнер;\n",
    "* Dependents - есть ли иждевенцы;\n",
    "* InternetService - тип интернет подключ;\n",
    "* OnlineSecurity - блокировка небезопасных сайтов;\n",
    "* OnlineBackup - Облачное хранилище для бэкапа;\n",
    "* DeviceProtection - антивирус;\n",
    "* TechSupport - выделенная линия технической поддержки;\n",
    "* StreamingTV - стриминговое телевидение;\n",
    "* StreamingMovies - каталог фильмов;\n",
    "* MultipleLines - подключение телефонного аппарата к нескольким линиям одновременно."
   ]
  },
  {
   "cell_type": "markdown",
   "metadata": {},
   "source": [
    "### 2. Исследовательский анализ данных."
   ]
  },
  {
   "cell_type": "markdown",
   "metadata": {},
   "source": [
    "Проведем исследовательский анализ данных и составим дальнейший план решения задачи"
   ]
  },
  {
   "cell_type": "markdown",
   "metadata": {},
   "source": [
    "Выделим целевой признак в бинарный формат в отдельное поле, посмотрмм на общий отток клиентов."
   ]
  },
  {
   "cell_type": "code",
   "execution_count": 72,
   "metadata": {},
   "outputs": [],
   "source": [
    "main_dataframe[\"Churn\"] = main_dataframe['EndDate'].apply(lambda x: 0 if x == 'No' else 1)"
   ]
  },
  {
   "cell_type": "code",
   "execution_count": 73,
   "metadata": {},
   "outputs": [
    {
     "data": {
      "image/png": "[encoded data removed]",
      "text/plain": [
       "<Figure size 432x288 with 1 Axes>"
      ]
     },
     "metadata": {
      "needs_background": "light"
     },
     "output_type": "display_data"
    },
    {
     "data": {
      "text/plain": [
       "0    0.734215\n",
       "1    0.265785\n",
       "Name: Churn, dtype: float64"
      ]
     },
     "execution_count": 73,
     "metadata": {},
     "output_type": "execute_result"
    }
   ],
   "source": [
    "churn_part = main_dataframe.Churn.value_counts(normalize=True)\n",
    "churn_part.plot(kind='bar')\n",
    "plt.grid(axis='y')\n",
    "plt.suptitle('Распределение классов целевого признака')\n",
    "plt.show()\n",
    "churn_part"
   ]
  },
  {
   "cell_type": "code",
   "execution_count": 74,
   "metadata": {},
   "outputs": [
    {
     "name": "stdout",
     "output_type": "stream",
     "text": [
      "Дата заключения первого договора: 2013-10-01\n"
     ]
    }
   ],
   "source": [
    "print('Дата заключения первого договора: {}'.format(contract.BeginDate.min()))"
   ]
  },
  {
   "cell_type": "markdown",
   "metadata": {},
   "source": [
    "Можем увидеть, что с октября 2013 года отток пользователей составил 27%. Исходя из этого имеется дисбаланс классов целевого признака"
   ]
  },
  {
   "cell_type": "markdown",
   "metadata": {},
   "source": [
    "Проверим сколько в среднем клиенты пользовались услугами компании. Расчитаем жизненный цикл контракта клиента, значения No в поле EndDate, заменим на дату выгрузки данных - 1.02.2020 года. "
   ]
  },
  {
   "cell_type": "code",
   "execution_count": 75,
   "metadata": {},
   "outputs": [
    {
     "data": {
      "image/png": "[encoded data removed]",
      "text/plain": [
       "<Figure size 432x288 with 1 Axes>"
      ]
     },
     "metadata": {
      "needs_background": "light"
     },
     "output_type": "display_data"
    },
    {
     "data": {
      "image/png": "[encoded data removed]",
      "text/plain": [
       "<Figure size 432x288 with 1 Axes>"
      ]
     },
     "metadata": {
      "needs_background": "light"
     },
     "output_type": "display_data"
    },
    {
     "data": {
      "text/plain": [
       "count    7032.000000\n",
       "mean      987.538538\n",
       "std       747.153663\n",
       "min        30.000000\n",
       "25%       275.000000\n",
       "50%       883.000000\n",
       "75%      1676.000000\n",
       "max      2191.000000\n",
       "Name: life_time, dtype: float64"
      ]
     },
     "execution_count": 75,
     "metadata": {},
     "output_type": "execute_result"
    }
   ],
   "source": [
    "# заменим No на дату выгрузки\n",
    "main_dataframe['EndDate'] = main_dataframe['EndDate'].apply(lambda x: '2020-02-01 00:00:00' if x == 'No' else x)\n",
    "\n",
    "# преобразуем поля с датами в соответствующий формат\n",
    "main_dataframe['BeginDate'] = pd.to_datetime(main_dataframe['BeginDate'])\n",
    "main_dataframe['EndDate'] = pd.to_datetime(main_dataframe['EndDate'])\n",
    "\n",
    "# расчитаем жизненный цикл клиента в компании\n",
    "main_dataframe['life_time'] = main_dataframe['EndDate'] - main_dataframe['BeginDate']\n",
    "main_dataframe['life_time'] = main_dataframe['life_time'].apply(lambda x: x.days)\n",
    "\n",
    "# построим боксплот \n",
    "def hist_boxplot_describe(col, bins):\n",
    "    col.hist(bins=bins)\n",
    "    plt.suptitle('Продолжительность действия контракта, дней')\n",
    "    plt.show()\n",
    "    col.to_frame().boxplot()\n",
    "    plt.show()\n",
    "    return col.describe()\n",
    "\n",
    "hist_boxplot_describe(main_dataframe['life_time'], 20)"
   ]
  },
  {
   "cell_type": "markdown",
   "metadata": {},
   "source": [
    "Можно увидить, что в среднем пользователи остаются клиентами компании 985 дней. По гистограмме видно, что многие пользователи уходили в первые месяцы, но также многие и оставались на продолжительный срок, вплоть до момента выгрузки."
   ]
  },
  {
   "cell_type": "markdown",
   "metadata": {},
   "source": [
    "Удалим поля BeginDate, EndDate, так как целевой признак мы выделили в поле Churn, а также указали жизненный цикл клиента в поле life_time."
   ]
  },
  {
   "cell_type": "code",
   "execution_count": 76,
   "metadata": {},
   "outputs": [],
   "source": [
    "main_dataframe = main_dataframe.drop(['BeginDate', 'EndDate'],axis=1,errors='ignore')"
   ]
  },
  {
   "cell_type": "markdown",
   "metadata": {},
   "source": [
    "Добавим признак, который покажет какой улугой пользуется клиент - интернетом, телефоном или обеими."
   ]
  },
  {
   "cell_type": "code",
   "execution_count": 77,
   "metadata": {},
   "outputs": [],
   "source": [
    "# напишем функцию для нового признака\n",
    "def client_type(df):\n",
    "    if df['InternetService'] == df['InternetService'] and df['MultipleLines'] == df['MultipleLines']:\n",
    "        return 'both'\n",
    "    elif df['InternetService'] == df['InternetService']:\n",
    "        return 'just_internet'\n",
    "    else:\n",
    "        return 'just_phone'\n",
    "    \n",
    "main_dataframe['client_type'] = main_dataframe.apply(client_type, axis=1)"
   ]
  },
  {
   "cell_type": "code",
   "execution_count": 78,
   "metadata": {},
   "outputs": [],
   "source": [
    "df = main_dataframe[['customerID', 'client_type', 'Churn']].groupby('client_type').agg({'Churn' : 'sum', 'customerID' : 'count'}).reset_index()\n",
    "df['churn_part'] = df['Churn'] / df['customerID']\n",
    "df['client_type_part'] = df['customerID'] / main_dataframe['client_type'].count()"
   ]
  },
  {
   "cell_type": "code",
   "execution_count": 79,
   "metadata": {},
   "outputs": [
    {
     "data": {
      "image/png": "[encoded data removed]",
      "text/plain": [
       "<Figure size 432x288 with 1 Axes>"
      ]
     },
     "metadata": {
      "needs_background": "light"
     },
     "output_type": "display_data"
    },
    {
     "data": {
      "text/html": [
       "<div>\n",
       "<style scoped>\n",
       "    .dataframe tbody tr th:only-of-type {\n",
       "        vertical-align: middle;\n",
       "    }\n",
       "\n",
       "    .dataframe tbody tr th {\n",
       "        vertical-align: top;\n",
       "    }\n",
       "\n",
       "    .dataframe thead th {\n",
       "        text-align: right;\n",
       "    }\n",
       "</style>\n",
       "<table border=\"1\" class=\"dataframe\">\n",
       "  <thead>\n",
       "    <tr style=\"text-align: right;\">\n",
       "      <th></th>\n",
       "      <th>client_type</th>\n",
       "      <th>client_type_part</th>\n",
       "    </tr>\n",
       "  </thead>\n",
       "  <tbody>\n",
       "    <tr>\n",
       "      <td>0</td>\n",
       "      <td>both</td>\n",
       "      <td>0.687144</td>\n",
       "    </tr>\n",
       "    <tr>\n",
       "      <td>1</td>\n",
       "      <td>just_internet</td>\n",
       "      <td>0.096701</td>\n",
       "    </tr>\n",
       "    <tr>\n",
       "      <td>2</td>\n",
       "      <td>just_phone</td>\n",
       "      <td>0.216155</td>\n",
       "    </tr>\n",
       "  </tbody>\n",
       "</table>\n",
       "</div>"
      ],
      "text/plain": [
       "     client_type  client_type_part\n",
       "0           both          0.687144\n",
       "1  just_internet          0.096701\n",
       "2     just_phone          0.216155"
      ]
     },
     "execution_count": 79,
     "metadata": {},
     "output_type": "execute_result"
    }
   ],
   "source": [
    "df[['client_type','client_type_part']].plot(kind='bar', x='client_type')\n",
    "plt.grid(axis='y')\n",
    "plt.suptitle('Распределение клиентов по типам услуг')\n",
    "plt.show()\n",
    "df[['client_type', 'client_type_part']]"
   ]
  },
  {
   "cell_type": "code",
   "execution_count": 80,
   "metadata": {},
   "outputs": [
    {
     "data": {
      "image/png": "[encoded data removed]",
      "text/plain": [
       "<Figure size 432x288 with 1 Axes>"
      ]
     },
     "metadata": {
      "needs_background": "light"
     },
     "output_type": "display_data"
    },
    {
     "data": {
      "text/html": [
       "<div>\n",
       "<style scoped>\n",
       "    .dataframe tbody tr th:only-of-type {\n",
       "        vertical-align: middle;\n",
       "    }\n",
       "\n",
       "    .dataframe tbody tr th {\n",
       "        vertical-align: top;\n",
       "    }\n",
       "\n",
       "    .dataframe thead th {\n",
       "        text-align: right;\n",
       "    }\n",
       "</style>\n",
       "<table border=\"1\" class=\"dataframe\">\n",
       "  <thead>\n",
       "    <tr style=\"text-align: right;\">\n",
       "      <th></th>\n",
       "      <th>client_type</th>\n",
       "      <th>churn_part</th>\n",
       "    </tr>\n",
       "  </thead>\n",
       "  <tbody>\n",
       "    <tr>\n",
       "      <td>0</td>\n",
       "      <td>both</td>\n",
       "      <td>0.328228</td>\n",
       "    </tr>\n",
       "    <tr>\n",
       "      <td>1</td>\n",
       "      <td>just_internet</td>\n",
       "      <td>0.250000</td>\n",
       "    </tr>\n",
       "    <tr>\n",
       "      <td>2</td>\n",
       "      <td>just_phone</td>\n",
       "      <td>0.074342</td>\n",
       "    </tr>\n",
       "  </tbody>\n",
       "</table>\n",
       "</div>"
      ],
      "text/plain": [
       "     client_type  churn_part\n",
       "0           both    0.328228\n",
       "1  just_internet    0.250000\n",
       "2     just_phone    0.074342"
      ]
     },
     "execution_count": 80,
     "metadata": {},
     "output_type": "execute_result"
    }
   ],
   "source": [
    "df[['client_type','churn_part']].plot(kind='bar', x='client_type')\n",
    "plt.grid(axis='y')\n",
    "plt.suptitle('Отток среди клиентов с разным типом услуг')\n",
    "plt.show()\n",
    "df[['client_type', 'churn_part']]"
   ]
  },
  {
   "cell_type": "markdown",
   "metadata": {},
   "source": [
    "Как видно больший процент оттока среди пользователей обеих услуг и тех кто использует только интернет. Это может быть обусловлено тем, что интернет провайдеры довольно активно конкурируют друг с другом и могут предлагать пакеты с более выгодные условия."
   ]
  },
  {
   "cell_type": "code",
   "execution_count": 81,
   "metadata": {},
   "outputs": [
    {
     "data": {
      "image/png": "[encoded data removed]",
      "text/plain": [
       "<Figure size 432x288 with 1 Axes>"
      ]
     },
     "metadata": {
      "needs_background": "light"
     },
     "output_type": "display_data"
    },
    {
     "data": {
      "image/png": "[encoded data removed]",
      "text/plain": [
       "<Figure size 432x288 with 1 Axes>"
      ]
     },
     "metadata": {
      "needs_background": "light"
     },
     "output_type": "display_data"
    },
    {
     "data": {
      "text/plain": [
       "count    7032.000000\n",
       "mean     2283.300441\n",
       "std      2266.771362\n",
       "min        18.800000\n",
       "25%       401.450000\n",
       "50%      1397.475000\n",
       "75%      3794.737500\n",
       "max      8684.800000\n",
       "Name: TotalCharges, dtype: float64"
      ]
     },
     "execution_count": 81,
     "metadata": {},
     "output_type": "execute_result"
    }
   ],
   "source": [
    "hist_boxplot_describe(main_dataframe['TotalCharges'], 30)"
   ]
  },
  {
   "cell_type": "code",
   "execution_count": 82,
   "metadata": {},
   "outputs": [
    {
     "data": {
      "image/png": "[encoded data removed]",
      "text/plain": [
       "<Figure size 432x288 with 1 Axes>"
      ]
     },
     "metadata": {
      "needs_background": "light"
     },
     "output_type": "display_data"
    },
    {
     "data": {
      "image/png": "[encoded data removed]",
      "text/plain": [
       "<Figure size 432x288 with 1 Axes>"
      ]
     },
     "metadata": {
      "needs_background": "light"
     },
     "output_type": "display_data"
    },
    {
     "data": {
      "text/plain": [
       "count    7032.000000\n",
       "mean       64.798208\n",
       "std        30.085974\n",
       "min        18.250000\n",
       "25%        35.587500\n",
       "50%        70.350000\n",
       "75%        89.862500\n",
       "max       118.750000\n",
       "Name: MonthlyCharges, dtype: float64"
      ]
     },
     "execution_count": 82,
     "metadata": {},
     "output_type": "execute_result"
    }
   ],
   "source": [
    "hist_boxplot_describe(main_dataframe['MonthlyCharges'], 30)"
   ]
  },
  {
   "cell_type": "markdown",
   "metadata": {},
   "source": [
    "Можно отметить, что в среднем клиенты заплатили за весь период 2283 у.е, большая часть клиентов - 75% заплатила компании сумму в пределах 3794 у.е. В среднем ежемесячно клиенты платили 65 у.е."
   ]
  },
  {
   "cell_type": "markdown",
   "metadata": {},
   "source": [
    "Посмотрим, как отличаются распределения по суммам списания у тех клиентов которые ушли и тех, кто которые остались."
   ]
  },
  {
   "cell_type": "code",
   "execution_count": 83,
   "metadata": {},
   "outputs": [],
   "source": [
    "def charged_hist(col, label):\n",
    "    # построим график для клиентов, котоые не ушли\n",
    "    total_charges_not_churned = main_dataframe[main_dataframe['Churn'] == 0][col].to_frame()\n",
    "    ax = total_charges_not_churned.plot(kind='hist', y=col, bins=50, linewidth=4, alpha=0.7, label='Те кто остались',\\\n",
    "                    histtype='step', color='#3c9de6')\n",
    "\n",
    "    # построим график для клиентов, котоые ушли\n",
    "    total_charges_churned = main_dataframe[main_dataframe['Churn'] == 1][col].to_frame()\n",
    "    total_charges_churned.plot(kind='hist', y=col, bins=50, linewidth=4, alpha=0.7, label='Те кто ушли',\\\n",
    "               histtype='step',  ax=ax, grid=True, legend=True, figsize = (14,6), color='#6fb96d')\n",
    "\n",
    "\n",
    "    plt.suptitle(label, fontsize=13, y=0.92)\n",
    "    plt.axvline(x=main_dataframe[col].mean(), color='#3c9de6', linestyle='--')\n",
    "    plt.axvline(x=total_charges_churned[col].mean(), color='#6fb96d', linestyle='--')\n",
    "    plt.xlabel(\"Cписано, у.е.\")\n",
    "    plt.ylabel(\"Частота\")\n",
    "    plt.legend()\n",
    "    plt.show()\n",
    "    print(bold.format('Клиенты, которые не ушли:'))\n",
    "    print(total_charges_not_churned.describe()),print()\n",
    "    print(bold.format('Клиенты, которые ушли:'))\n",
    "    print(total_charges_churned.describe())\n",
    "    "
   ]
  },
  {
   "cell_type": "code",
   "execution_count": 84,
   "metadata": {},
   "outputs": [
    {
     "data": {
      "image/png": "[encoded data removed]",
      "text/plain": [
       "<Figure size 1008x432 with 1 Axes>"
      ]
     },
     "metadata": {
      "needs_background": "light"
     },
     "output_type": "display_data"
    },
    {
     "name": "stdout",
     "output_type": "stream",
     "text": [
      "\u001b[1mКлиенты, которые не ушли:\u001b[0m\n",
      "       MonthlyCharges\n",
      "count     5163.000000\n",
      "mean        61.307408\n",
      "std         31.094557\n",
      "min         18.250000\n",
      "25%         25.100000\n",
      "50%         64.450000\n",
      "75%         88.475000\n",
      "max        118.750000\n",
      "\n",
      "\u001b[1mКлиенты, которые ушли:\u001b[0m\n",
      "       MonthlyCharges\n",
      "count     1869.000000\n",
      "mean        74.441332\n",
      "std         24.666053\n",
      "min         18.850000\n",
      "25%         56.150000\n",
      "50%         79.650000\n",
      "75%         94.200000\n",
      "max        118.350000\n"
     ]
    }
   ],
   "source": [
    "charged_hist('MonthlyCharges', 'Распределение пользователей по суммам списания за месяц')"
   ]
  },
  {
   "cell_type": "code",
   "execution_count": 85,
   "metadata": {},
   "outputs": [
    {
     "data": {
      "image/png": "[encoded data removed]",
      "text/plain": [
       "<Figure size 1008x432 with 1 Axes>"
      ]
     },
     "metadata": {
      "needs_background": "light"
     },
     "output_type": "display_data"
    },
    {
     "name": "stdout",
     "output_type": "stream",
     "text": [
      "\u001b[1mКлиенты, которые не ушли:\u001b[0m\n",
      "       TotalCharges\n",
      "count   5163.000000\n",
      "mean    2555.344141\n",
      "std     2329.456984\n",
      "min       18.800000\n",
      "25%      577.825000\n",
      "50%     1683.600000\n",
      "75%     4264.125000\n",
      "max     8672.450000\n",
      "\n",
      "\u001b[1mКлиенты, которые ушли:\u001b[0m\n",
      "       TotalCharges\n",
      "count   1869.000000\n",
      "mean    1531.796094\n",
      "std     1890.822994\n",
      "min       18.850000\n",
      "25%      134.500000\n",
      "50%      703.550000\n",
      "75%     2331.300000\n",
      "max     8684.800000\n"
     ]
    }
   ],
   "source": [
    "charged_hist('TotalCharges', 'Распределение пользователей по суммам списания за весь период')"
   ]
  },
  {
   "cell_type": "markdown",
   "metadata": {},
   "source": [
    "Можно отметиьть, что в среднем уходили клиенты, которые платили более 70 у.е. ежемесячно. Но как следсвие их ухода в среднем за весь период они заплатили меньше тех кто остался - 1531 у.е."
   ]
  },
  {
   "cell_type": "markdown",
   "metadata": {},
   "source": [
    "### Вывод\n",
    "В ходе исследовательского анализа можно отметить следующее:\n",
    "* с октября 2013 года отток пользователей составил 27%;\n",
    "* имеется дисбаланс классов целевого признака;\n",
    "* в среднем пользователи остаются клиентами компании 985 дней;\n",
    "* 68.7% клиентов пользуются и интернетом и телефоном, 9.6% только интернетом, 21.6% только телефоном;\n",
    "* больший процент оттока среди пользователей обеих услуг и тех кто использует только интернет;\n",
    "* в среднем клиенты заплатили за весь период использования услуг 2283 у.е;\n",
    "* среднем ежемесячно клиенты платили 65 у.е.;\n",
    "* чаще всего уходили клиенты, которые платили более 70 у.е. ежемесячно."
   ]
  },
  {
   "cell_type": "markdown",
   "metadata": {},
   "source": [
    "### 3. Обучение моделей"
   ]
  },
  {
   "cell_type": "markdown",
   "metadata": {},
   "source": [
    "Закодируем категориальные признаки при помощи LabelEncoder"
   ]
  },
  {
   "cell_type": "code",
   "execution_count": 86,
   "metadata": {},
   "outputs": [],
   "source": [
    "df = main_dataframe.fillna('NaN').drop(['customerID'], axis=1)"
   ]
  },
  {
   "cell_type": "code",
   "execution_count": 87,
   "metadata": {},
   "outputs": [],
   "source": [
    "categorial_features = df.drop(['MonthlyCharges', 'TotalCharges', 'SeniorCitizen', 'Churn', 'life_time'], axis=1).columns"
   ]
  },
  {
   "cell_type": "code",
   "execution_count": 88,
   "metadata": {},
   "outputs": [],
   "source": [
    "labelencoder = LabelEncoder()\n",
    " \n",
    "def encoder(df):\n",
    "    for col in categorial_features:\n",
    "        df[col] = labelencoder.fit_transform(df[col])\n",
    "    return df\n",
    "\n",
    "df = encoder(df)"
   ]
  },
  {
   "cell_type": "markdown",
   "metadata": {},
   "source": [
    "Рассмотрим проблему мультиколлениарности в количественных признаках. Посмотрим коррелируют насколько сильно они коррелируют друг с другом."
   ]
  },
  {
   "cell_type": "code",
   "execution_count": 89,
   "metadata": {},
   "outputs": [
    {
     "data": {
      "text/html": [
       "<style  type=\"text/css\" >\n",
       "    #T_9ff8d5d4_2176_11ec_b7f7_02420a3904f7row0_col0 {\n",
       "            background-color:  #b40426;\n",
       "            color:  #f1f1f1;\n",
       "        }    #T_9ff8d5d4_2176_11ec_b7f7_02420a3904f7row0_col1 {\n",
       "            background-color:  #3b4cc0;\n",
       "            color:  #f1f1f1;\n",
       "        }    #T_9ff8d5d4_2176_11ec_b7f7_02420a3904f7row0_col2 {\n",
       "            background-color:  #3b4cc0;\n",
       "            color:  #f1f1f1;\n",
       "        }    #T_9ff8d5d4_2176_11ec_b7f7_02420a3904f7row1_col0 {\n",
       "            background-color:  #e6d7cf;\n",
       "            color:  #000000;\n",
       "        }    #T_9ff8d5d4_2176_11ec_b7f7_02420a3904f7row1_col1 {\n",
       "            background-color:  #b40426;\n",
       "            color:  #f1f1f1;\n",
       "        }    #T_9ff8d5d4_2176_11ec_b7f7_02420a3904f7row1_col2 {\n",
       "            background-color:  #f29274;\n",
       "            color:  #000000;\n",
       "        }    #T_9ff8d5d4_2176_11ec_b7f7_02420a3904f7row2_col0 {\n",
       "            background-color:  #3b4cc0;\n",
       "            color:  #f1f1f1;\n",
       "        }    #T_9ff8d5d4_2176_11ec_b7f7_02420a3904f7row2_col1 {\n",
       "            background-color:  #dddcdc;\n",
       "            color:  #000000;\n",
       "        }    #T_9ff8d5d4_2176_11ec_b7f7_02420a3904f7row2_col2 {\n",
       "            background-color:  #b40426;\n",
       "            color:  #f1f1f1;\n",
       "        }</style><table id=\"T_9ff8d5d4_2176_11ec_b7f7_02420a3904f7\" ><thead>    <tr>        <th class=\"blank level0\" ></th>        <th class=\"col_heading level0 col0\" >MonthlyCharges</th>        <th class=\"col_heading level0 col1\" >TotalCharges</th>        <th class=\"col_heading level0 col2\" >life_time</th>    </tr></thead><tbody>\n",
       "                <tr>\n",
       "                        <th id=\"T_9ff8d5d4_2176_11ec_b7f7_02420a3904f7level0_row0\" class=\"row_heading level0 row0\" >MonthlyCharges</th>\n",
       "                        <td id=\"T_9ff8d5d4_2176_11ec_b7f7_02420a3904f7row0_col0\" class=\"data row0 col0\" >1</td>\n",
       "                        <td id=\"T_9ff8d5d4_2176_11ec_b7f7_02420a3904f7row0_col1\" class=\"data row0 col1\" >0.651065</td>\n",
       "                        <td id=\"T_9ff8d5d4_2176_11ec_b7f7_02420a3904f7row0_col2\" class=\"data row0 col2\" >0.246715</td>\n",
       "            </tr>\n",
       "            <tr>\n",
       "                        <th id=\"T_9ff8d5d4_2176_11ec_b7f7_02420a3904f7level0_row1\" class=\"row_heading level0 row1\" >TotalCharges</th>\n",
       "                        <td id=\"T_9ff8d5d4_2176_11ec_b7f7_02420a3904f7row1_col0\" class=\"data row1 col0\" >0.651065</td>\n",
       "                        <td id=\"T_9ff8d5d4_2176_11ec_b7f7_02420a3904f7row1_col1\" class=\"data row1 col1\" >1</td>\n",
       "                        <td id=\"T_9ff8d5d4_2176_11ec_b7f7_02420a3904f7row1_col2\" class=\"data row1 col2\" >0.825811</td>\n",
       "            </tr>\n",
       "            <tr>\n",
       "                        <th id=\"T_9ff8d5d4_2176_11ec_b7f7_02420a3904f7level0_row2\" class=\"row_heading level0 row2\" >life_time</th>\n",
       "                        <td id=\"T_9ff8d5d4_2176_11ec_b7f7_02420a3904f7row2_col0\" class=\"data row2 col0\" >0.246715</td>\n",
       "                        <td id=\"T_9ff8d5d4_2176_11ec_b7f7_02420a3904f7row2_col1\" class=\"data row2 col1\" >0.825811</td>\n",
       "                        <td id=\"T_9ff8d5d4_2176_11ec_b7f7_02420a3904f7row2_col2\" class=\"data row2 col2\" >1</td>\n",
       "            </tr>\n",
       "    </tbody></table>"
      ],
      "text/plain": [
       "<pandas.io.formats.style.Styler at 0x7fa7b9abf750>"
      ]
     },
     "execution_count": 89,
     "metadata": {},
     "output_type": "execute_result"
    }
   ],
   "source": [
    "import pandas as pd\n",
    "import numpy as np\n",
    "\n",
    "corr = df[['MonthlyCharges', 'TotalCharges', 'life_time']].corr()\n",
    "corr.style.background_gradient(cmap='coolwarm')"
   ]
  },
  {
   "cell_type": "markdown",
   "metadata": {},
   "source": [
    "У признака TotalCharges есть высокая корреляция со сроком контракта, а также умеренная с ежемесячными списаниями. Удалим данный признак, чтобы он не оказывал негативного влияния на работу модели"
   ]
  },
  {
   "cell_type": "code",
   "execution_count": 90,
   "metadata": {},
   "outputs": [],
   "source": [
    "df = df.drop(['TotalCharges'], axis=1)"
   ]
  },
  {
   "cell_type": "markdown",
   "metadata": {},
   "source": [
    "Разделим выборки на test и train"
   ]
  },
  {
   "cell_type": "code",
   "execution_count": 91,
   "metadata": {},
   "outputs": [],
   "source": [
    "target = df['Churn']\n",
    "features = df.drop('Churn', axis=1)\n",
    "\n",
    "features_train, features_valid, target_train, target_valid = \\\n",
    "    train_test_split(features, target, train_size=0.60, test_size=0.40, random_state=12345, stratify=target)\n",
    "\n",
    "features_valid, features_test, target_valid, target_test = \\\n",
    "    train_test_split(features_valid, target_valid, train_size=0.50,\\\n",
    "    test_size=0.50, random_state=12345, stratify=target_valid)"
   ]
  },
  {
   "cell_type": "code",
   "execution_count": 92,
   "metadata": {},
   "outputs": [
    {
     "name": "stdout",
     "output_type": "stream",
     "text": [
      "Размер обучающей выборки: (4219, 18)\n",
      "Размер валидационной выборки: (1406, 18)\n",
      "Размер тестовой выборки: (1407, 18)\n"
     ]
    }
   ],
   "source": [
    "print('Размер обучающей выборки:', features_train.shape)\n",
    "print('Размер валидационной выборки:', features_valid.shape)\n",
    "print('Размер тестовой выборки:', features_test.shape)"
   ]
  },
  {
   "cell_type": "markdown",
   "metadata": {},
   "source": [
    "Рассмотрим 3 модели для решения задачи:\n",
    "* Логистическая регрессия\n",
    "* Дерево решений\n",
    "* Случайный лес\n",
    "* CatBoot"
   ]
  },
  {
   "cell_type": "markdown",
   "metadata": {},
   "source": [
    "Обучим модели без подбора гиперпараметров, но при этом применим параметр class_weight = 'balanced', придав элементам меньшего класса больший вес"
   ]
  },
  {
   "cell_type": "code",
   "execution_count": 93,
   "metadata": {},
   "outputs": [],
   "source": [
    "# напишем функцию для обучения моделей\n",
    "def training_models(features_train, target_train, class_weight, type):\n",
    "    \n",
    "    models_balanced = [LogisticRegression(random_state=123, class_weight=class_weight), \n",
    "                       DecisionTreeClassifier(random_state=123, class_weight=class_weight), \n",
    "                       RandomForestClassifier(random_state=123, class_weight=class_weight),\n",
    "                       CatBoostClassifier(logging_level='Silent', random_seed=123, allow_writing_files=False)]\n",
    "    \n",
    "    results = []\n",
    "\n",
    "    for model in models_balanced:\n",
    "        model.fit(features_train, target_train)\n",
    "        predictions_valid = model.predict(features_valid)\n",
    "        probabilities_valid = model.predict_proba(features_valid)\n",
    "\n",
    "        accuracy = accuracy_score(target_valid, predictions_valid)\n",
    "        roc_auc = roc_auc_score(target_valid, probabilities_valid[:,1])\n",
    "\n",
    "        results.append({'Model': model.__class__.__name__, \n",
    "                               ' ':' ',\n",
    "                               type+'_Accuracy': accuracy, \n",
    "                               type+'_AUC-ROC': roc_auc})\n",
    "    results = pd.DataFrame(results)\n",
    "    return results"
   ]
  },
  {
   "cell_type": "code",
   "execution_count": 94,
   "metadata": {},
   "outputs": [],
   "source": [
    "result_balanced = training_models(features_train, target_train, 'balanced', 'Balanced' )"
   ]
  },
  {
   "cell_type": "code",
   "execution_count": 95,
   "metadata": {},
   "outputs": [
    {
     "data": {
      "text/html": [
       "<style  type=\"text/css\" >\n",
       "    #T_b12bb100_2176_11ec_b7f7_02420a3904f7row3_col2 {\n",
       "            background-color:  lightblue;\n",
       "        }    #T_b12bb100_2176_11ec_b7f7_02420a3904f7row3_col3 {\n",
       "            background-color:  lightblue;\n",
       "        }</style><table id=\"T_b12bb100_2176_11ec_b7f7_02420a3904f7\" ><thead>    <tr>        <th class=\"blank level0\" ></th>        <th class=\"col_heading level0 col0\" >Model</th>        <th class=\"col_heading level0 col1\" > </th>        <th class=\"col_heading level0 col2\" >Balanced_Accuracy</th>        <th class=\"col_heading level0 col3\" >Balanced_AUC-ROC</th>    </tr></thead><tbody>\n",
       "                <tr>\n",
       "                        <th id=\"T_b12bb100_2176_11ec_b7f7_02420a3904f7level0_row0\" class=\"row_heading level0 row0\" >0</th>\n",
       "                        <td id=\"T_b12bb100_2176_11ec_b7f7_02420a3904f7row0_col0\" class=\"data row0 col0\" >LogisticRegression</td>\n",
       "                        <td id=\"T_b12bb100_2176_11ec_b7f7_02420a3904f7row0_col1\" class=\"data row0 col1\" > </td>\n",
       "                        <td id=\"T_b12bb100_2176_11ec_b7f7_02420a3904f7row0_col2\" class=\"data row0 col2\" >0.742532</td>\n",
       "                        <td id=\"T_b12bb100_2176_11ec_b7f7_02420a3904f7row0_col3\" class=\"data row0 col3\" >0.83938</td>\n",
       "            </tr>\n",
       "            <tr>\n",
       "                        <th id=\"T_b12bb100_2176_11ec_b7f7_02420a3904f7level0_row1\" class=\"row_heading level0 row1\" >1</th>\n",
       "                        <td id=\"T_b12bb100_2176_11ec_b7f7_02420a3904f7row1_col0\" class=\"data row1 col0\" >DecisionTreeClassifier</td>\n",
       "                        <td id=\"T_b12bb100_2176_11ec_b7f7_02420a3904f7row1_col1\" class=\"data row1 col1\" > </td>\n",
       "                        <td id=\"T_b12bb100_2176_11ec_b7f7_02420a3904f7row1_col2\" class=\"data row1 col2\" >0.761735</td>\n",
       "                        <td id=\"T_b12bb100_2176_11ec_b7f7_02420a3904f7row1_col3\" class=\"data row1 col3\" >0.684261</td>\n",
       "            </tr>\n",
       "            <tr>\n",
       "                        <th id=\"T_b12bb100_2176_11ec_b7f7_02420a3904f7level0_row2\" class=\"row_heading level0 row2\" >2</th>\n",
       "                        <td id=\"T_b12bb100_2176_11ec_b7f7_02420a3904f7row2_col0\" class=\"data row2 col0\" >RandomForestClassifier</td>\n",
       "                        <td id=\"T_b12bb100_2176_11ec_b7f7_02420a3904f7row2_col1\" class=\"data row2 col1\" > </td>\n",
       "                        <td id=\"T_b12bb100_2176_11ec_b7f7_02420a3904f7row2_col2\" class=\"data row2 col2\" >0.805121</td>\n",
       "                        <td id=\"T_b12bb100_2176_11ec_b7f7_02420a3904f7row2_col3\" class=\"data row2 col3\" >0.812517</td>\n",
       "            </tr>\n",
       "            <tr>\n",
       "                        <th id=\"T_b12bb100_2176_11ec_b7f7_02420a3904f7level0_row3\" class=\"row_heading level0 row3\" >3</th>\n",
       "                        <td id=\"T_b12bb100_2176_11ec_b7f7_02420a3904f7row3_col0\" class=\"data row3 col0\" >CatBoostClassifier</td>\n",
       "                        <td id=\"T_b12bb100_2176_11ec_b7f7_02420a3904f7row3_col1\" class=\"data row3 col1\" > </td>\n",
       "                        <td id=\"T_b12bb100_2176_11ec_b7f7_02420a3904f7row3_col2\" class=\"data row3 col2\" >0.861309</td>\n",
       "                        <td id=\"T_b12bb100_2176_11ec_b7f7_02420a3904f7row3_col3\" class=\"data row3 col3\" >0.902931</td>\n",
       "            </tr>\n",
       "    </tbody></table>"
      ],
      "text/plain": [
       "<pandas.io.formats.style.Styler at 0x7fa7b126f350>"
      ]
     },
     "execution_count": 95,
     "metadata": {},
     "output_type": "execute_result"
    }
   ],
   "source": [
    "result_balanced = pd.DataFrame(result_balanced)\n",
    "result_balanced.style.highlight_max(color = 'lightblue', axis = 0)"
   ]
  },
  {
   "cell_type": "markdown",
   "metadata": {},
   "source": [
    "Модель CatBoostClassifier справилась с задачей лучше других"
   ]
  },
  {
   "cell_type": "markdown",
   "metadata": {},
   "source": [
    "Применим метод апсемплинга, тем самым исправим дисбаланс классов"
   ]
  },
  {
   "cell_type": "markdown",
   "metadata": {},
   "source": [
    "Напишем функцию, которая будет работать следующим образом:\n",
    "* разделяет обучающую выборку на отрицательные и положительные объекты\n",
    "* копирует несколько раз положительные объекты\n",
    "* создает новую обучающую выборку с учётом полученных данных\n",
    "* перемешивает данные\n",
    "* возвращает преобразованные выборки.    "
   ]
  },
  {
   "cell_type": "code",
   "execution_count": 96,
   "metadata": {},
   "outputs": [],
   "source": [
    "def upsample(features, target, repeat):\n",
    "    \n",
    "    features_zeros = features[target == 0]\n",
    "    features_ones = features[target == 1]\n",
    "    target_zeros = target_train[target_train == 0] \n",
    "    target_ones = target_train[target_train == 1]\n",
    "    \n",
    "    features_upsampled = pd.concat([features_zeros] + [features_ones] * repeat)\n",
    "    target_upsampled = pd.concat([target_zeros] + [target_ones] * repeat)   \n",
    "    \n",
    "    features_upsampled, target_upsampled = shuffle(\n",
    "        features_upsampled, target_upsampled, random_state=12345)\n",
    "    return features_upsampled, target_upsampled"
   ]
  },
  {
   "cell_type": "code",
   "execution_count": 97,
   "metadata": {},
   "outputs": [
    {
     "name": "stdout",
     "output_type": "stream",
     "text": [
      "(6461, 18)\n",
      "(6461,)\n"
     ]
    }
   ],
   "source": [
    "features_upsampled, target_upsampled = upsample(features_train, target_train, 3)\n",
    "print(features_upsampled.shape)\n",
    "print(target_upsampled.shape)"
   ]
  },
  {
   "cell_type": "markdown",
   "metadata": {},
   "source": [
    "Посмотрим на баланс классов после апсемплинга."
   ]
  },
  {
   "cell_type": "code",
   "execution_count": 98,
   "metadata": {},
   "outputs": [
    {
     "name": "stdout",
     "output_type": "stream",
     "text": [
      "1    0.520508\n",
      "0    0.479492\n",
      "Name: Churn, dtype: float64\n"
     ]
    },
    {
     "data": {
      "text/plain": [
       "<matplotlib.axes._subplots.AxesSubplot at 0x7fa7b1329850>"
      ]
     },
     "execution_count": 98,
     "metadata": {},
     "output_type": "execute_result"
    },
    {
     "data": {
      "image/png": "[encoded data removed]",
      "text/plain": [
       "<Figure size 432x288 with 1 Axes>"
      ]
     },
     "metadata": {
      "needs_background": "light"
     },
     "output_type": "display_data"
    }
   ],
   "source": [
    "upsampled = target_upsampled.value_counts(normalize=True)\n",
    "print(upsampled)\n",
    "upsampled.plot(kind='bar') "
   ]
  },
  {
   "cell_type": "code",
   "execution_count": 99,
   "metadata": {},
   "outputs": [],
   "source": [
    "results_upsampled = training_models(features_upsampled, target_upsampled, None, 'Upsampled' )"
   ]
  },
  {
   "cell_type": "code",
   "execution_count": 100,
   "metadata": {},
   "outputs": [
    {
     "data": {
      "text/html": [
       "<style  type=\"text/css\" >\n",
       "    #T_c2f105e8_2176_11ec_b7f7_02420a3904f7row3_col2 {\n",
       "            background-color:  lightblue;\n",
       "        }    #T_c2f105e8_2176_11ec_b7f7_02420a3904f7row3_col3 {\n",
       "            background-color:  lightblue;\n",
       "        }</style><table id=\"T_c2f105e8_2176_11ec_b7f7_02420a3904f7\" ><thead>    <tr>        <th class=\"blank level0\" ></th>        <th class=\"col_heading level0 col0\" >Model</th>        <th class=\"col_heading level0 col1\" > </th>        <th class=\"col_heading level0 col2\" >Upsampled_Accuracy</th>        <th class=\"col_heading level0 col3\" >Upsampled_AUC-ROC</th>    </tr></thead><tbody>\n",
       "                <tr>\n",
       "                        <th id=\"T_c2f105e8_2176_11ec_b7f7_02420a3904f7level0_row0\" class=\"row_heading level0 row0\" >0</th>\n",
       "                        <td id=\"T_c2f105e8_2176_11ec_b7f7_02420a3904f7row0_col0\" class=\"data row0 col0\" >LogisticRegression</td>\n",
       "                        <td id=\"T_c2f105e8_2176_11ec_b7f7_02420a3904f7row0_col1\" class=\"data row0 col1\" > </td>\n",
       "                        <td id=\"T_c2f105e8_2176_11ec_b7f7_02420a3904f7row0_col2\" class=\"data row0 col2\" >0.736842</td>\n",
       "                        <td id=\"T_c2f105e8_2176_11ec_b7f7_02420a3904f7row0_col3\" class=\"data row0 col3\" >0.839334</td>\n",
       "            </tr>\n",
       "            <tr>\n",
       "                        <th id=\"T_c2f105e8_2176_11ec_b7f7_02420a3904f7level0_row1\" class=\"row_heading level0 row1\" >1</th>\n",
       "                        <td id=\"T_c2f105e8_2176_11ec_b7f7_02420a3904f7row1_col0\" class=\"data row1 col0\" >DecisionTreeClassifier</td>\n",
       "                        <td id=\"T_c2f105e8_2176_11ec_b7f7_02420a3904f7row1_col1\" class=\"data row1 col1\" > </td>\n",
       "                        <td id=\"T_c2f105e8_2176_11ec_b7f7_02420a3904f7row1_col2\" class=\"data row1 col2\" >0.759602</td>\n",
       "                        <td id=\"T_c2f105e8_2176_11ec_b7f7_02420a3904f7row1_col3\" class=\"data row1 col3\" >0.68707</td>\n",
       "            </tr>\n",
       "            <tr>\n",
       "                        <th id=\"T_c2f105e8_2176_11ec_b7f7_02420a3904f7level0_row2\" class=\"row_heading level0 row2\" >2</th>\n",
       "                        <td id=\"T_c2f105e8_2176_11ec_b7f7_02420a3904f7row2_col0\" class=\"data row2 col0\" >RandomForestClassifier</td>\n",
       "                        <td id=\"T_c2f105e8_2176_11ec_b7f7_02420a3904f7row2_col1\" class=\"data row2 col1\" > </td>\n",
       "                        <td id=\"T_c2f105e8_2176_11ec_b7f7_02420a3904f7row2_col2\" class=\"data row2 col2\" >0.790896</td>\n",
       "                        <td id=\"T_c2f105e8_2176_11ec_b7f7_02420a3904f7row2_col3\" class=\"data row2 col3\" >0.813925</td>\n",
       "            </tr>\n",
       "            <tr>\n",
       "                        <th id=\"T_c2f105e8_2176_11ec_b7f7_02420a3904f7level0_row3\" class=\"row_heading level0 row3\" >3</th>\n",
       "                        <td id=\"T_c2f105e8_2176_11ec_b7f7_02420a3904f7row3_col0\" class=\"data row3 col0\" >CatBoostClassifier</td>\n",
       "                        <td id=\"T_c2f105e8_2176_11ec_b7f7_02420a3904f7row3_col1\" class=\"data row3 col1\" > </td>\n",
       "                        <td id=\"T_c2f105e8_2176_11ec_b7f7_02420a3904f7row3_col2\" class=\"data row3 col2\" >0.842817</td>\n",
       "                        <td id=\"T_c2f105e8_2176_11ec_b7f7_02420a3904f7row3_col3\" class=\"data row3 col3\" >0.906975</td>\n",
       "            </tr>\n",
       "    </tbody></table>"
      ],
      "text/plain": [
       "<pandas.io.formats.style.Styler at 0x7fa7b1204110>"
      ]
     },
     "execution_count": 100,
     "metadata": {},
     "output_type": "execute_result"
    }
   ],
   "source": [
    "pd.DataFrame(results_upsampled).style.highlight_max(color = 'lightblue', axis = 0)"
   ]
  },
  {
   "cell_type": "markdown",
   "metadata": {},
   "source": [
    "Наилучший результат показывает модель catboost после применения апсемплинга"
   ]
  },
  {
   "cell_type": "markdown",
   "metadata": {},
   "source": [
    "### Вывод\n",
    "В ходе обучения моделей можно выделить следующее:\n",
    "* категориальные признаки были закодированы с помощью LabelEncoder;\n",
    "* во избежании проблемы мультиколлениарности, проведена проверка корреляции колличественных признаков, удален признак TotalCharges;\n",
    "* выборка была поделена на обучающую, валидационную и тестовую;\n",
    "* были обучены 4 разные модели с применением метода апсемплинга;\n",
    "* наилучшей моделью оказалась модель CatBoostClassifier."
   ]
  },
  {
   "cell_type": "markdown",
   "metadata": {},
   "source": [
    "### 4. Тестирование модели и проверка на адекватность"
   ]
  },
  {
   "cell_type": "markdown",
   "metadata": {},
   "source": [
    "Протестируем наилучшую модель"
   ]
  },
  {
   "cell_type": "code",
   "execution_count": 101,
   "metadata": {},
   "outputs": [],
   "source": [
    "def test_models(features_train, target_train):\n",
    "    cb_model = CatBoostClassifier(logging_level='Silent', random_seed=123, allow_writing_files=False)\n",
    "    cb_model.fit(features_train, target_train)\n",
    "    predictions = cb_model.predict(features_test)\n",
    "    probabilities_test = cb_model.predict_proba(features_test)\n",
    "\n",
    "    accuracy = accuracy_score(target_test, predictions)\n",
    "    roc_auc = roc_auc_score(target_test, probabilities_test[:,1])\n",
    "    \n",
    "    return probabilities_test, accuracy, roc_auc, cb_model"
   ]
  },
  {
   "cell_type": "code",
   "execution_count": 102,
   "metadata": {},
   "outputs": [
    {
     "name": "stdout",
     "output_type": "stream",
     "text": [
      "roc_auc на тесте: 0.9041923994802533\n",
      "accuracy на тесте: 0.8287135749822317\n"
     ]
    }
   ],
   "source": [
    "probabilities_test, accuracy, roc_auc, cb_model = test_models(features_upsampled, target_upsampled)\n",
    "print('roc_auc на тесте:', roc_auc)\n",
    "print('accuracy на тесте:', accuracy)"
   ]
  },
  {
   "cell_type": "markdown",
   "metadata": {},
   "source": [
    "Проверим модель на адекватность"
   ]
  },
  {
   "cell_type": "code",
   "execution_count": 103,
   "metadata": {},
   "outputs": [
    {
     "name": "stdout",
     "output_type": "stream",
     "text": [
      "roc_auc dummy модели на тесте: 0.5\n",
      "accuracy dummy модели на тесте: 0.2658137882018479\n"
     ]
    }
   ],
   "source": [
    "from sklearn.dummy import DummyClassifier\n",
    "\n",
    "dummy_clf_1 = DummyClassifier(strategy=\"constant\", random_state=0, constant=1)\n",
    "dummy_clf_1.fit(features_train, target_train)\n",
    "predictions = dummy_clf_1.predict(features_test)\n",
    "probabilities = dummy_clf_1.predict_proba(features_test)\n",
    "\n",
    "accuracy = accuracy_score(target_test, predictions)\n",
    "roc_auc = roc_auc_score(target_test, probabilities[:,1])\n",
    "\n",
    "print('roc_auc dummy модели на тесте:', roc_auc)\n",
    "print('accuracy dummy модели на тесте:', accuracy)"
   ]
  },
  {
   "cell_type": "markdown",
   "metadata": {},
   "source": [
    "В сравнении с dummy моделью, модель случайного леса показывает значимо лучший результат в целевых метриках."
   ]
  },
  {
   "cell_type": "markdown",
   "metadata": {},
   "source": [
    "Посмотрим важность фичей для модели"
   ]
  },
  {
   "cell_type": "code",
   "execution_count": 107,
   "metadata": {},
   "outputs": [
    {
     "data": {
      "image/png": "[encoded data removed]",
      "text/plain": [
       "<Figure size 432x288 with 1 Axes>"
      ]
     },
     "metadata": {
      "needs_background": "light"
     },
     "output_type": "display_data"
    }
   ],
   "source": [
    "import seaborn as sns\n",
    "def chart_feature_imp(model):\n",
    "    feature_imp = pd.Series(model.feature_importances_, index=features_valid.columns).sort_values(ascending=False)\n",
    "\n",
    "    ax = sns.barplot(x=feature_imp, y=feature_imp.index)\n",
    "    _ = ax.set(xlabel='Оценка важности признаков', ylabel='Признаки')\n",
    "    _ = ax.set_title('Визуализация важности признаков')\n",
    "\n",
    "chart_feature_imp(cb_model)"
   ]
  },
  {
   "cell_type": "markdown",
   "metadata": {},
   "source": [
    "Как видно наиболее важными для обучения модели стали:\n",
    "* life_time - cрок контракта;\n",
    "* MonthlyCharges - сумма месячного списани средств;\n",
    "* Type - тип оплаты услуг;\n",
    "* PaymentMethod - способ оплаты.\n",
    "\n"
   ]
  },
  {
   "cell_type": "markdown",
   "metadata": {},
   "source": [
    "Построим график ROC - кривой"
   ]
  },
  {
   "cell_type": "code",
   "execution_count": 108,
   "metadata": {},
   "outputs": [
    {
     "data": {
      "image/png": "[encoded data removed]",
      "text/plain": [
       "<Figure size 432x288 with 1 Axes>"
      ]
     },
     "metadata": {
      "needs_background": "light"
     },
     "output_type": "display_data"
    },
    {
     "name": "stdout",
     "output_type": "stream",
     "text": [
      "\n"
     ]
    }
   ],
   "source": [
    "probabilities_one_valid = probabilities_test[:, 1]\n",
    "fpr, tpr, thresholds = roc_curve(target_test, probabilities_one_valid) \n",
    "plt.figure()\n",
    "plt.plot(fpr, tpr)\n",
    "plt.plot([0, 1], [0, 1], linestyle='--')\n",
    "plt.xlim([0.0, 1.0])\n",
    "plt.ylim([0.0, 1.0])\n",
    "plt.xlabel('False Positive Rate')\n",
    "plt.ylabel('True Positive Rate')\n",
    "plt.title('ROC-кривая')\n",
    "plt.show() \n",
    "print()"
   ]
  },
  {
   "cell_type": "markdown",
   "metadata": {},
   "source": [
    "### 5. Общий вывод\n",
    "В ходе знакомства с данными было выялено что:\n",
    "* таблицы содержат признаки по 7043 пользователям;\n",
    "* в таблицах отсутсвуют полные дубликаты;\n",
    "* количественный признак TotalCharges имеет строковый тип данных;\n",
    "* целевой признак имеет как строковый формат \"No\" так и формат даты;\n",
    "* пропуски отсутствуют;\n",
    "* во всех таблицах кроме таблицы contract все категориальные признаки бинарны;\n",
    "* не у всех пользователей подключен и интернет и телефонная линия одновременно.\n",
    "\n",
    "Была проведена предварительная предобработка:\n",
    "* проведено объединение датафреймов;\n",
    "* строковый тип данных в TotalCharges заменен на вещественный.\n",
    "\n",
    "В ходе исследовательского анализа можно отметить следующее:\n",
    "* с октября 2013 года отток пользователей составил 27%;\n",
    "* имеется дисбаланс классов целевого признака;\n",
    "* в среднем пользователи остаются клиентами компании 985 дней;\n",
    "* 68.7% клиентов пользуются и интернетом и телефоном, 9.6% только интернетом, 21.6% только телефоном;\n",
    "* больший процент оттока среди пользователей обеих услуг и тех кто использует только интернет;\n",
    "* в среднем клиенты заплатили за весь период использования услуг 2283 у.е;\n",
    "* в среднем ежемесячно клиенты платили 65 у.е.;\n",
    "* чаще всего уходили клиенты, которые платили более 70 у.е. ежемесячно.\n",
    "\n",
    "В ходе обучения моделей можно выделить следующие шаги:\n",
    "* категориальные признаки были закодированы с помощью LabelEncoder;\n",
    "* во избежании проблемы мультиколлениарности, проведена проверка корреляции колличественных признаков, удален признак TotalCharges;\n",
    "* выборка была поделена на обучающую, валидационную и тестовую;\n",
    "* были обучены 4 разные модели с применением метода апсемплинга;\n",
    "* наилучшей моделью оказалась модель CatBoostClassifier.\n",
    "\n",
    "На тестовой выборке модель показала roc_auc = 0.90 и accuracy 0.83. Модель прошла проверку на адекватность. Наиболее важными для модели оказались такие признаки как - cрок контракта, тип оплаты услуг, сумма месячного списани средств, способ оплаты."
   ]
  }
 ],
 "metadata": {
  "ExecuteTimeLog": [
   {
    "duration": 135,
    "start_time": "2021-09-27T06:21:07.917Z"
   },
   {
    "duration": 1859,
    "start_time": "2021-09-29T07:40:27.518Z"
   },
   {
    "duration": 3191,
    "start_time": "2021-09-29T07:40:29.380Z"
   },
   {
    "duration": 7,
    "start_time": "2021-09-29T07:41:35.207Z"
   },
   {
    "duration": 7,
    "start_time": "2021-09-29T07:41:46.209Z"
   },
   {
    "duration": 98,
    "start_time": "2021-09-29T07:42:42.255Z"
   },
   {
    "duration": 55,
    "start_time": "2021-09-29T07:42:45.705Z"
   },
   {
    "duration": 35,
    "start_time": "2021-09-29T07:42:46.970Z"
   },
   {
    "duration": 31,
    "start_time": "2021-09-29T07:42:48.033Z"
   },
   {
    "duration": 23,
    "start_time": "2021-09-29T07:42:48.982Z"
   },
   {
    "duration": 12,
    "start_time": "2021-09-29T07:43:47.685Z"
   },
   {
    "duration": 11,
    "start_time": "2021-09-29T07:43:47.859Z"
   },
   {
    "duration": 11,
    "start_time": "2021-09-29T07:43:48.024Z"
   },
   {
    "duration": 47,
    "start_time": "2021-09-29T07:43:48.367Z"
   },
   {
    "duration": 18,
    "start_time": "2021-09-29T07:43:48.700Z"
   },
   {
    "duration": 9,
    "start_time": "2021-09-29T07:44:59.791Z"
   },
   {
    "duration": 280,
    "start_time": "2021-09-29T07:45:00.284Z"
   },
   {
    "duration": 6,
    "start_time": "2021-09-29T07:45:00.568Z"
   },
   {
    "duration": 666,
    "start_time": "2021-09-29T07:45:01.355Z"
   },
   {
    "duration": 8,
    "start_time": "2021-09-29T07:45:02.024Z"
   },
   {
    "duration": 377,
    "start_time": "2021-09-29T07:45:02.176Z"
   },
   {
    "duration": 27,
    "start_time": "2021-09-29T07:45:02.556Z"
   },
   {
    "duration": 389,
    "start_time": "2021-09-29T07:45:02.587Z"
   },
   {
    "duration": 329,
    "start_time": "2021-09-29T07:45:02.979Z"
   },
   {
    "duration": 623,
    "start_time": "2021-09-29T07:45:03.311Z"
   },
   {
    "duration": 637,
    "start_time": "2021-09-29T07:45:03.937Z"
   },
   {
    "duration": 11,
    "start_time": "2021-09-29T07:45:04.578Z"
   },
   {
    "duration": 697,
    "start_time": "2021-09-29T07:45:04.592Z"
   },
   {
    "duration": 644,
    "start_time": "2021-09-29T07:45:05.291Z"
   },
   {
    "duration": 22,
    "start_time": "2021-09-29T07:48:32.517Z"
   },
   {
    "duration": 8,
    "start_time": "2021-09-29T07:48:33.067Z"
   },
   {
    "duration": 48,
    "start_time": "2021-09-29T07:48:33.558Z"
   },
   {
    "duration": 4,
    "start_time": "2021-09-29T07:48:34.253Z"
   },
   {
    "duration": 8,
    "start_time": "2021-09-29T07:48:35.155Z"
   },
   {
    "duration": 20,
    "start_time": "2021-09-29T07:48:35.521Z"
   },
   {
    "duration": 369,
    "start_time": "2021-09-29T07:48:35.720Z"
   },
   {
    "duration": 8,
    "start_time": "2021-09-29T07:48:36.284Z"
   },
   {
    "duration": 355,
    "start_time": "2021-09-29T07:48:36.522Z"
   },
   {
    "duration": -55,
    "start_time": "2021-09-29T07:48:36.935Z"
   },
   {
    "duration": 6,
    "start_time": "2021-09-29T07:48:37.479Z"
   },
   {
    "duration": 352,
    "start_time": "2021-09-29T07:48:38.376Z"
   },
   {
    "duration": 1647,
    "start_time": "2021-09-29T07:50:19.723Z"
   },
   {
    "duration": 28,
    "start_time": "2021-09-29T07:52:44.787Z"
   },
   {
    "duration": 1551,
    "start_time": "2021-09-29T22:16:03.242Z"
   },
   {
    "duration": 94,
    "start_time": "2021-09-29T22:16:07.106Z"
   },
   {
    "duration": 6,
    "start_time": "2021-09-29T22:16:07.651Z"
   },
   {
    "duration": 44,
    "start_time": "2021-09-29T22:16:08.370Z"
   },
   {
    "duration": 30,
    "start_time": "2021-09-29T22:16:09.243Z"
   },
   {
    "duration": 30,
    "start_time": "2021-09-29T22:16:09.690Z"
   },
   {
    "duration": 20,
    "start_time": "2021-09-29T22:16:10.598Z"
   },
   {
    "duration": 10,
    "start_time": "2021-09-29T22:16:12.399Z"
   },
   {
    "duration": 10,
    "start_time": "2021-09-29T22:16:12.624Z"
   },
   {
    "duration": 10,
    "start_time": "2021-09-29T22:16:12.866Z"
   },
   {
    "duration": 42,
    "start_time": "2021-09-29T22:16:13.731Z"
   },
   {
    "duration": 16,
    "start_time": "2021-09-29T22:16:14.410Z"
   },
   {
    "duration": 9,
    "start_time": "2021-09-29T22:16:17.078Z"
   },
   {
    "duration": 221,
    "start_time": "2021-09-29T22:16:17.330Z"
   },
   {
    "duration": 5,
    "start_time": "2021-09-29T22:16:17.636Z"
   },
   {
    "duration": 562,
    "start_time": "2021-09-29T22:16:18.739Z"
   },
   {
    "duration": 10,
    "start_time": "2021-09-29T22:16:21.124Z"
   },
   {
    "duration": 330,
    "start_time": "2021-09-29T22:16:22.123Z"
   },
   {
    "duration": 26,
    "start_time": "2021-09-29T22:16:22.456Z"
   },
   {
    "duration": 337,
    "start_time": "2021-09-29T22:16:22.871Z"
   },
   {
    "duration": 265,
    "start_time": "2021-09-29T22:16:23.855Z"
   },
   {
    "duration": 513,
    "start_time": "2021-09-29T22:16:25.890Z"
   },
   {
    "duration": 553,
    "start_time": "2021-09-29T22:16:26.407Z"
   },
   {
    "duration": 9,
    "start_time": "2021-09-29T22:16:28.211Z"
   },
   {
    "duration": 547,
    "start_time": "2021-09-29T22:16:28.893Z"
   },
   {
    "duration": 698,
    "start_time": "2021-09-29T22:16:29.444Z"
   },
   {
    "duration": 21,
    "start_time": "2021-09-29T22:16:32.326Z"
   },
   {
    "duration": 8,
    "start_time": "2021-09-29T22:16:33.030Z"
   },
   {
    "duration": 41,
    "start_time": "2021-09-29T22:16:33.317Z"
   },
   {
    "duration": 625,
    "start_time": "2021-09-29T22:16:34.768Z"
   },
   {
    "duration": 7,
    "start_time": "2021-09-29T22:16:37.527Z"
   },
   {
    "duration": 22,
    "start_time": "2021-09-29T22:16:38.978Z"
   },
   {
    "duration": 392,
    "start_time": "2021-09-29T22:16:39.638Z"
   },
   {
    "duration": 19,
    "start_time": "2021-09-29T22:16:40.014Z"
   },
   {
    "duration": 6,
    "start_time": "2021-09-29T22:17:03.342Z"
   },
   {
    "duration": 8,
    "start_time": "2021-09-29T22:17:07.260Z"
   },
   {
    "duration": 493,
    "start_time": "2021-09-29T22:17:08.747Z"
   },
   {
    "duration": 129,
    "start_time": "2021-09-29T22:18:14.447Z"
   },
   {
    "duration": 22001,
    "start_time": "2021-09-29T22:18:37.892Z"
   },
   {
    "duration": 19,
    "start_time": "2021-09-29T22:19:03.338Z"
   },
   {
    "duration": 6,
    "start_time": "2021-09-29T22:19:29.517Z"
   },
   {
    "duration": 18,
    "start_time": "2021-09-29T22:19:30.646Z"
   },
   {
    "duration": 309,
    "start_time": "2021-09-29T22:19:31.978Z"
   },
   {
    "duration": 25101,
    "start_time": "2021-09-29T22:19:32.497Z"
   },
   {
    "duration": 34,
    "start_time": "2021-09-29T22:19:57.601Z"
   },
   {
    "duration": 19,
    "start_time": "2021-09-29T22:20:59.861Z"
   },
   {
    "duration": 5,
    "start_time": "2021-09-29T22:22:04.140Z"
   },
   {
    "duration": 17,
    "start_time": "2021-09-29T22:22:05.332Z"
   },
   {
    "duration": 195,
    "start_time": "2021-09-29T22:22:08.096Z"
   },
   {
    "duration": 26381,
    "start_time": "2021-09-29T22:22:09.114Z"
   },
   {
    "duration": 19,
    "start_time": "2021-09-29T22:22:35.498Z"
   },
   {
    "duration": 5,
    "start_time": "2021-09-29T22:29:59.609Z"
   },
   {
    "duration": 26590,
    "start_time": "2021-09-29T22:30:02.802Z"
   },
   {
    "duration": 11,
    "start_time": "2021-09-29T22:30:48.546Z"
   },
   {
    "duration": 3,
    "start_time": "2021-09-29T22:30:51.695Z"
   },
   {
    "duration": 3,
    "start_time": "2021-09-29T22:30:52.034Z"
   },
   {
    "duration": 4,
    "start_time": "2021-09-29T22:30:52.166Z"
   },
   {
    "duration": 313,
    "start_time": "2021-09-29T22:30:53.313Z"
   },
   {
    "duration": 393,
    "start_time": "2021-09-29T22:31:05.626Z"
   },
   {
    "duration": 249,
    "start_time": "2021-09-29T22:33:29.233Z"
   },
   {
    "duration": 87,
    "start_time": "2021-09-29T22:43:06.490Z"
   },
   {
    "duration": 106,
    "start_time": "2021-09-29T22:43:06.581Z"
   },
   {
    "duration": 6,
    "start_time": "2021-09-29T22:43:06.690Z"
   },
   {
    "duration": 52,
    "start_time": "2021-09-29T22:43:06.699Z"
   },
   {
    "duration": 51,
    "start_time": "2021-09-29T22:43:06.753Z"
   },
   {
    "duration": 30,
    "start_time": "2021-09-29T22:43:06.806Z"
   },
   {
    "duration": 49,
    "start_time": "2021-09-29T22:43:06.839Z"
   },
   {
    "duration": 11,
    "start_time": "2021-09-29T22:43:06.892Z"
   },
   {
    "duration": 10,
    "start_time": "2021-09-29T22:43:06.906Z"
   },
   {
    "duration": 10,
    "start_time": "2021-09-29T22:43:06.919Z"
   },
   {
    "duration": 82,
    "start_time": "2021-09-29T22:43:06.931Z"
   },
   {
    "duration": 15,
    "start_time": "2021-09-29T22:43:07.016Z"
   },
   {
    "duration": 8,
    "start_time": "2021-09-29T22:43:07.033Z"
   },
   {
    "duration": 234,
    "start_time": "2021-09-29T22:43:07.043Z"
   },
   {
    "duration": 6,
    "start_time": "2021-09-29T22:43:07.283Z"
   },
   {
    "duration": 582,
    "start_time": "2021-09-29T22:43:07.291Z"
   },
   {
    "duration": 12,
    "start_time": "2021-09-29T22:43:07.875Z"
   },
   {
    "duration": 454,
    "start_time": "2021-09-29T22:43:07.890Z"
   },
   {
    "duration": 17,
    "start_time": "2021-09-29T22:43:08.347Z"
   },
   {
    "duration": 269,
    "start_time": "2021-09-29T22:43:08.366Z"
   },
   {
    "duration": 272,
    "start_time": "2021-09-29T22:43:08.637Z"
   },
   {
    "duration": 537,
    "start_time": "2021-09-29T22:43:08.911Z"
   },
   {
    "duration": 662,
    "start_time": "2021-09-29T22:43:09.455Z"
   },
   {
    "duration": 10,
    "start_time": "2021-09-29T22:43:10.122Z"
   },
   {
    "duration": 594,
    "start_time": "2021-09-29T22:43:10.135Z"
   },
   {
    "duration": 673,
    "start_time": "2021-09-29T22:43:10.732Z"
   },
   {
    "duration": 21,
    "start_time": "2021-09-29T22:43:11.408Z"
   },
   {
    "duration": 9,
    "start_time": "2021-09-29T22:43:11.432Z"
   },
   {
    "duration": 71,
    "start_time": "2021-09-29T22:43:11.443Z"
   },
   {
    "duration": 26,
    "start_time": "2021-09-29T22:43:11.517Z"
   },
   {
    "duration": 5,
    "start_time": "2021-09-29T22:43:11.546Z"
   },
   {
    "duration": 47,
    "start_time": "2021-09-29T22:43:11.554Z"
   },
   {
    "duration": 6,
    "start_time": "2021-09-29T22:43:11.603Z"
   },
   {
    "duration": 9,
    "start_time": "2021-09-29T22:43:11.612Z"
   },
   {
    "duration": 28692,
    "start_time": "2021-09-29T22:43:11.624Z"
   },
   {
    "duration": 79,
    "start_time": "2021-09-29T22:43:40.319Z"
   },
   {
    "duration": 5,
    "start_time": "2021-09-29T22:43:40.401Z"
   },
   {
    "duration": 20,
    "start_time": "2021-09-29T22:43:40.408Z"
   },
   {
    "duration": 231,
    "start_time": "2021-09-29T22:43:40.430Z"
   },
   {
    "duration": 29528,
    "start_time": "2021-09-29T22:43:40.664Z"
   },
   {
    "duration": 17,
    "start_time": "2021-09-29T22:44:10.195Z"
   },
   {
    "duration": 8,
    "start_time": "2021-09-29T22:44:10.215Z"
   },
   {
    "duration": 28286,
    "start_time": "2021-09-29T22:44:10.226Z"
   },
   {
    "duration": 11,
    "start_time": "2021-09-29T22:44:38.515Z"
   },
   {
    "duration": 3,
    "start_time": "2021-09-29T22:44:38.529Z"
   },
   {
    "duration": 50,
    "start_time": "2021-09-29T22:44:38.534Z"
   },
   {
    "duration": 6,
    "start_time": "2021-09-29T22:44:38.586Z"
   },
   {
    "duration": 402,
    "start_time": "2021-09-29T22:44:38.594Z"
   },
   {
    "duration": 247,
    "start_time": "2021-09-29T22:44:38.998Z"
   }
  ],
  "kernelspec": {
   "display_name": "Python 3",
   "language": "python",
   "name": "python3"
  },
  "language_info": {
   "codemirror_mode": {
    "name": "ipython",
    "version": 3
   },
   "file_extension": ".py",
   "mimetype": "text/x-python",
   "name": "python",
   "nbconvert_exporter": "python",
   "pygments_lexer": "ipython3",
   "version": "3.8.5"
  },
  "toc": {
   "base_numbering": 1,
   "nav_menu": {},
   "number_sections": true,
   "sideBar": true,
   "skip_h1_title": true,
   "title_cell": "Table of Contents",
   "title_sidebar": "Contents",
   "toc_cell": false,
   "toc_position": {},
   "toc_section_display": true,
   "toc_window_display": false
  }
 },
 "nbformat": 4,
 "nbformat_minor": 4
}

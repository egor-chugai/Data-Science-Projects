{
 "cells": [
  {
   "cell_type": "markdown",
   "metadata": {},
   "source": [
    "# Прогнозирование оттока клиентов банка."
   ]
  },
  {
   "cell_type": "markdown",
   "metadata": {},
   "source": [
    "## Описание проекта\n",
    "Из «Бета-Банка» стали уходить клиенты. Каждый месяц. Немного, но заметно. Банковские маркетологи посчитали: сохранять текущих клиентов дешевле, чем привлекать новых.\n",
    "Нужно спрогнозировать, уйдёт клиент из банка в ближайшее время или нет. Вам предоставлены исторические данные о поведении клиентов и расторжении договоров с банком.  \n",
    "\n",
    "Постройте модель с предельно большим значением F1-меры. Чтобы сдать проект успешно, нужно довести метрику до 0.59. Проверьте F1-меру на тестовой выборке самостоятельно.  \n",
    "Дополнительно измеряйте AUC-ROC, сравнивайте её значение с F1-мерой.  "
   ]
  },
  {
   "cell_type": "markdown",
   "metadata": {},
   "source": [
    "## Описание данных\n",
    "\n",
    "#### Признаки:  \n",
    "* **RowNumber** — индекс строки в данных  \n",
    "* **CustomerId** — уникальный идентификатор клиента  \n",
    "* **Surname** — фамилия  \n",
    "* **CreditScore** — кредитный рейтинг  \n",
    "* **Geography** — страна проживания  \n",
    "* **Gender** — пол  \n",
    "* **Age** — возраст  \n",
    "* **Tenure** — сколько лет человек является клиентом банка  \n",
    "* **Balance** — баланс на счёте  \n",
    "* **NumOfProducts** — количество продуктов банка, используемых клиентом  \n",
    "* **HasCrCard** — наличие кредитной карты  \n",
    "* **IsActiveMember** — активность клиента  \n",
    "* **EstimatedSalary** — предполагаемая зарплата  \n",
    "\n",
    "#### Целевой признак:  \n",
    "* **Exited** — факт ухода клиента  \n"
   ]
  },
  {
   "cell_type": "markdown",
   "metadata": {},
   "source": [
    "## <a id=\"0.0\"></a>Содержание.\n",
    "* [1. Знакомство с данными, предобработка](#1.)   \n",
    "* [2. Обучение модели с дисбалансом классов.](#2.)  \n",
    "    * [2.1. Проверка баланса классов, разбиение данных на выборки](#2.1.)  \n",
    "    * [2.2. Обучение моделей на данных с дисбалансом классов.](#2.2.)  \n",
    "* [3. Устранение дисбаланса, улучшение качества моделей.](#3.)  \n",
    "    * [3.1. Взвешивание классов](#3.1.)  \n",
    "    * [3.2. Увеличение выборки](#3.2.)  \n",
    "    * [3.3. Уменьшение выборки](#3.3.)  \n",
    "    * [3.4. Подбор гиперпараметров](#3.4.)   \n",
    "    * [3.5. Тестирование модели](#3.5.)  \n",
    "\n",
    "\n"
   ]
  },
  {
   "cell_type": "markdown",
   "metadata": {},
   "source": [
    "## Импорт библиотек"
   ]
  },
  {
   "cell_type": "code",
   "execution_count": 5,
   "metadata": {},
   "outputs": [],
   "source": [
    "import pandas as pd\n",
    "import matplotlib.pyplot as plt\n",
    "from sklearn.model_selection import train_test_split\n",
    "from sklearn.linear_model import LogisticRegression\n",
    "from sklearn.tree import DecisionTreeClassifier\n",
    "from sklearn.preprocessing import StandardScaler \n",
    "from sklearn.ensemble import RandomForestClassifier\n",
    "from sklearn.utils import shuffle\n",
    "from sklearn.metrics import roc_curve \n",
    "from sklearn.metrics import f1_score \n",
    "from sklearn.metrics import roc_auc_score \n",
    "from sklearn.metrics import precision_score \n",
    "from sklearn.metrics import recall_score \n",
    "from sklearn.metrics import roc_curve, auc\n",
    "from sklearn.metrics import accuracy_score\n",
    "import warnings\n",
    "warnings.filterwarnings(\"ignore\")\n"
   ]
  },
  {
   "cell_type": "markdown",
   "metadata": {},
   "source": [
    "## 1. Знакомство с данными, предобработка. <a name=\"1.\"></a>  \n",
    "[к содержанию](#0.0)"
   ]
  },
  {
   "cell_type": "code",
   "execution_count": 6,
   "metadata": {},
   "outputs": [
    {
     "name": "stdout",
     "output_type": "stream",
     "text": [
      "<class 'pandas.core.frame.DataFrame'>\n",
      "RangeIndex: 10000 entries, 0 to 9999\n",
      "Data columns (total 14 columns):\n",
      " #   Column           Non-Null Count  Dtype  \n",
      "---  ------           --------------  -----  \n",
      " 0   RowNumber        10000 non-null  int64  \n",
      " 1   CustomerId       10000 non-null  int64  \n",
      " 2   Surname          10000 non-null  object \n",
      " 3   CreditScore      10000 non-null  int64  \n",
      " 4   Geography        10000 non-null  object \n",
      " 5   Gender           10000 non-null  object \n",
      " 6   Age              10000 non-null  int64  \n",
      " 7   Tenure           9091 non-null   float64\n",
      " 8   Balance          10000 non-null  float64\n",
      " 9   NumOfProducts    10000 non-null  int64  \n",
      " 10  HasCrCard        10000 non-null  int64  \n",
      " 11  IsActiveMember   10000 non-null  int64  \n",
      " 12  EstimatedSalary  10000 non-null  float64\n",
      " 13  Exited           10000 non-null  int64  \n",
      "dtypes: float64(3), int64(8), object(3)\n",
      "memory usage: 1.1+ MB\n",
      "None\n",
      "\n",
      "\n",
      "         RowNumber    CustomerId   CreditScore           Age       Tenure  \\\n",
      "count  10000.00000  1.000000e+04  10000.000000  10000.000000  9091.000000   \n",
      "mean    5000.50000  1.569094e+07    650.528800     38.921800     4.997690   \n",
      "std     2886.89568  7.193619e+04     96.653299     10.487806     2.894723   \n",
      "min        1.00000  1.556570e+07    350.000000     18.000000     0.000000   \n",
      "25%     2500.75000  1.562853e+07    584.000000     32.000000     2.000000   \n",
      "50%     5000.50000  1.569074e+07    652.000000     37.000000     5.000000   \n",
      "75%     7500.25000  1.575323e+07    718.000000     44.000000     7.000000   \n",
      "max    10000.00000  1.581569e+07    850.000000     92.000000    10.000000   \n",
      "\n",
      "             Balance  NumOfProducts    HasCrCard  IsActiveMember  \\\n",
      "count   10000.000000   10000.000000  10000.00000    10000.000000   \n",
      "mean    76485.889288       1.530200      0.70550        0.515100   \n",
      "std     62397.405202       0.581654      0.45584        0.499797   \n",
      "min         0.000000       1.000000      0.00000        0.000000   \n",
      "25%         0.000000       1.000000      0.00000        0.000000   \n",
      "50%     97198.540000       1.000000      1.00000        1.000000   \n",
      "75%    127644.240000       2.000000      1.00000        1.000000   \n",
      "max    250898.090000       4.000000      1.00000        1.000000   \n",
      "\n",
      "       EstimatedSalary        Exited  \n",
      "count     10000.000000  10000.000000  \n",
      "mean     100090.239881      0.203700  \n",
      "std       57510.492818      0.402769  \n",
      "min          11.580000      0.000000  \n",
      "25%       51002.110000      0.000000  \n",
      "50%      100193.915000      0.000000  \n",
      "75%      149388.247500      0.000000  \n",
      "max      199992.480000      1.000000  \n",
      "\n",
      "\n",
      "   RowNumber  CustomerId   Surname  CreditScore Geography  Gender  Age  \\\n",
      "0          1    15634602  Hargrave          619    France  Female   42   \n",
      "1          2    15647311      Hill          608     Spain  Female   41   \n",
      "2          3    15619304      Onio          502    France  Female   42   \n",
      "3          4    15701354      Boni          699    France  Female   39   \n",
      "4          5    15737888  Mitchell          850     Spain  Female   43   \n",
      "\n",
      "   Tenure    Balance  NumOfProducts  HasCrCard  IsActiveMember  \\\n",
      "0     2.0       0.00              1          1               1   \n",
      "1     1.0   83807.86              1          0               1   \n",
      "2     8.0  159660.80              3          1               0   \n",
      "3     1.0       0.00              2          0               0   \n",
      "4     2.0  125510.82              1          1               1   \n",
      "\n",
      "   EstimatedSalary  Exited  \n",
      "0        101348.88       1  \n",
      "1        112542.58       0  \n",
      "2        113931.57       1  \n",
      "3         93826.63       0  \n",
      "4         79084.10       0  \n",
      "\n",
      "\n",
      "(10000, 14)\n"
     ]
    }
   ],
   "source": [
    "# считаем данные из файла\n",
    "#data = pd.read_csv('Churn.csv')\n",
    "data = pd.read_csv('datasets/Churn.csv')\n",
    "\n",
    "# посмотрим общую информацио о данных\n",
    "print(data.info()), print(), print()\n",
    "print(data.describe()), print(), print()\n",
    "print(data.head()), print(), print()\n",
    "print(data.shape)"
   ]
  },
  {
   "cell_type": "markdown",
   "metadata": {},
   "source": [
    "Датасет 10000 на 14, в поле Tenure имеются пропущенные значения.\n",
    "Можно предположить, что поле с количеством недвижимости не является обязательным для заполнения, и в случае, если недвижимости нет и данное поле у клиента не заполнено, заменим пропуски на 0.\n",
    "Поля RowNumber, CustomerId, Surname не несут пользы в качестве признаков для построения модели, удалим эти поля."
   ]
  },
  {
   "cell_type": "code",
   "execution_count": 7,
   "metadata": {},
   "outputs": [],
   "source": [
    "data = pd.read_csv('datasets/Churn.csv')\n",
    "\n",
    "# удалим поля RowNumber, CustomerId, Surname\n",
    "data = data.drop(['RowNumber', 'CustomerId', 'Surname'], axis=1)\n",
    "\n",
    "# заменим пропуски на 0\n",
    "data = data.fillna(0)"
   ]
  },
  {
   "cell_type": "markdown",
   "metadata": {},
   "source": [
    "## 2. Обучение модели с дисбалансом классов. <a name=\"2.\"></a>  \n",
    "[к содержанию](#0.0)"
   ]
  },
  {
   "cell_type": "markdown",
   "metadata": {},
   "source": [
    "### 2.1. Проверка баланса классов, разбиение данных на выборки <a name=\"2.1.\"></a>  \n",
    "[к содержанию](#0.0)"
   ]
  },
  {
   "cell_type": "markdown",
   "metadata": {},
   "source": [
    "Проверим баланс классов в выборке."
   ]
  },
  {
   "cell_type": "code",
   "execution_count": 8,
   "metadata": {},
   "outputs": [
    {
     "name": "stdout",
     "output_type": "stream",
     "text": [
      "0    0.7963\n",
      "1    0.2037\n",
      "Name: Exited, dtype: float64\n"
     ]
    },
    {
     "data": {
      "text/plain": [
       "<AxesSubplot:>"
      ]
     },
     "execution_count": 8,
     "metadata": {},
     "output_type": "execute_result"
    },
    {
     "data": {
      "image/png": "[encoded data removed]",
      "text/plain": [
       "<Figure size 432x288 with 1 Axes>"
      ]
     },
     "metadata": {
      "needs_background": "light"
     },
     "output_type": "display_data"
    }
   ],
   "source": [
    "class_frequency = data['Exited'].value_counts(normalize=True)\n",
    "print(class_frequency)\n",
    "class_frequency.plot(kind='bar') "
   ]
  },
  {
   "cell_type": "markdown",
   "metadata": {},
   "source": [
    "Видно, что классы не сбалансированы, клиентов, которые остались в банке - 80%, а тех что ушли - 20%. "
   ]
  },
  {
   "cell_type": "markdown",
   "metadata": {},
   "source": [
    "Разделим выборку на тренировочную, валидационную и тестовую части."
   ]
  },
  {
   "cell_type": "code",
   "execution_count": 9,
   "metadata": {},
   "outputs": [],
   "source": [
    "# преобразуем категориальные признаки техникой ohe\n",
    "data_ohe = pd.get_dummies(data, drop_first=True)"
   ]
  },
  {
   "cell_type": "code",
   "execution_count": 10,
   "metadata": {},
   "outputs": [],
   "source": [
    "target = data_ohe['Exited']\n",
    "features = data_ohe.drop('Exited', axis=1)"
   ]
  },
  {
   "cell_type": "code",
   "execution_count": 11,
   "metadata": {},
   "outputs": [],
   "source": [
    "features_train, features_valid, target_train, target_valid = \\\n",
    "    train_test_split(features, target, train_size=0.60, test_size=0.40, random_state=12345, stratify=target)"
   ]
  },
  {
   "cell_type": "code",
   "execution_count": 12,
   "metadata": {},
   "outputs": [],
   "source": [
    "features_valid, features_test, target_valid, target_test = \\\n",
    "    train_test_split(features_valid, target_valid, train_size=0.50,\\\n",
    "    test_size=0.50, random_state=12345, stratify=target_valid)"
   ]
  },
  {
   "cell_type": "markdown",
   "metadata": {},
   "source": [
    "Распечатаем полученные выборки"
   ]
  },
  {
   "cell_type": "code",
   "execution_count": 13,
   "metadata": {},
   "outputs": [
    {
     "name": "stdout",
     "output_type": "stream",
     "text": [
      "Размер обучающей выборки: (6000, 11)\n",
      "Размер валидационной выборки: (2000, 11)\n",
      "Размер тестовой выборки: (2000, 11)\n"
     ]
    }
   ],
   "source": [
    "print('Размер обучающей выборки:', features_train.shape)\n",
    "print('Размер валидационной выборки:', features_valid.shape)\n",
    "print('Размер тестовой выборки:', features_test.shape)"
   ]
  },
  {
   "cell_type": "markdown",
   "metadata": {},
   "source": [
    "### 2.2 Обучение моделей на данных с дисбалансом классов. <a name=\"2.2.\"></a>  \n",
    "[к содержанию](#0.0)"
   ]
  },
  {
   "cell_type": "markdown",
   "metadata": {},
   "source": [
    "Так как у нас задача бинарной классификации, рассмотрим 3 основные модели:\n",
    "* Логистическая регрессия\n",
    "* Дерево решений\n",
    "* Случайный лес"
   ]
  },
  {
   "cell_type": "code",
   "execution_count": 14,
   "metadata": {},
   "outputs": [],
   "source": [
    "models = [LogisticRegression(random_state=12345), \n",
    "          DecisionTreeClassifier(random_state=12345), \n",
    "          RandomForestClassifier(random_state=12345)]\n",
    "\n",
    "results = []\n",
    "\n",
    "for model in models:\n",
    "    model.fit(features_train, target_train)\n",
    "    predictions_valid = model.predict(features_valid)\n",
    "    probabilities_valid = model.predict_proba(features_valid)\n",
    "    \n",
    "    accuracy = accuracy_score(target_valid, predictions_valid)\n",
    "    f1 = f1_score(target_valid, predictions_valid)\n",
    "    roc_auc = roc_auc_score(target_valid, probabilities_valid[:,1])\n",
    "    \n",
    "    results.append({'Model': model.__class__.__name__, \n",
    "                   'imbalanced_Accuracy': accuracy, \n",
    "                   'imbalanced_F1': f1, \n",
    "                   'imbalanced_AUC-ROC': roc_auc})"
   ]
  },
  {
   "cell_type": "code",
   "execution_count": 15,
   "metadata": {},
   "outputs": [
    {
     "data": {
      "text/html": [
       "<style  type=\"text/css\" >\n",
       "#T_25391998_adaf_11eb_990f_f45c899470b7row2_col1,#T_25391998_adaf_11eb_990f_f45c899470b7row2_col2,#T_25391998_adaf_11eb_990f_f45c899470b7row2_col3{\n",
       "            background-color:  lightblue;\n",
       "        }</style><table id=\"T_25391998_adaf_11eb_990f_f45c899470b7\" ><thead>    <tr>        <th class=\"blank level0\" ></th>        <th class=\"col_heading level0 col0\" >Model</th>        <th class=\"col_heading level0 col1\" >imbalanced_Accuracy</th>        <th class=\"col_heading level0 col2\" >imbalanced_F1</th>        <th class=\"col_heading level0 col3\" >imbalanced_AUC-ROC</th>    </tr></thead><tbody>\n",
       "                <tr>\n",
       "                        <th id=\"T_25391998_adaf_11eb_990f_f45c899470b7level0_row0\" class=\"row_heading level0 row0\" >0</th>\n",
       "                        <td id=\"T_25391998_adaf_11eb_990f_f45c899470b7row0_col0\" class=\"data row0 col0\" >LogisticRegression</td>\n",
       "                        <td id=\"T_25391998_adaf_11eb_990f_f45c899470b7row0_col1\" class=\"data row0 col1\" >0.787500</td>\n",
       "                        <td id=\"T_25391998_adaf_11eb_990f_f45c899470b7row0_col2\" class=\"data row0 col2\" >0.061810</td>\n",
       "                        <td id=\"T_25391998_adaf_11eb_990f_f45c899470b7row0_col3\" class=\"data row0 col3\" >0.699481</td>\n",
       "            </tr>\n",
       "            <tr>\n",
       "                        <th id=\"T_25391998_adaf_11eb_990f_f45c899470b7level0_row1\" class=\"row_heading level0 row1\" >1</th>\n",
       "                        <td id=\"T_25391998_adaf_11eb_990f_f45c899470b7row1_col0\" class=\"data row1 col0\" >DecisionTreeClassifier</td>\n",
       "                        <td id=\"T_25391998_adaf_11eb_990f_f45c899470b7row1_col1\" class=\"data row1 col1\" >0.790500</td>\n",
       "                        <td id=\"T_25391998_adaf_11eb_990f_f45c899470b7row1_col2\" class=\"data row1 col2\" >0.506478</td>\n",
       "                        <td id=\"T_25391998_adaf_11eb_990f_f45c899470b7row1_col3\" class=\"data row1 col3\" >0.692500</td>\n",
       "            </tr>\n",
       "            <tr>\n",
       "                        <th id=\"T_25391998_adaf_11eb_990f_f45c899470b7level0_row2\" class=\"row_heading level0 row2\" >2</th>\n",
       "                        <td id=\"T_25391998_adaf_11eb_990f_f45c899470b7row2_col0\" class=\"data row2 col0\" >RandomForestClassifier</td>\n",
       "                        <td id=\"T_25391998_adaf_11eb_990f_f45c899470b7row2_col1\" class=\"data row2 col1\" >0.869000</td>\n",
       "                        <td id=\"T_25391998_adaf_11eb_990f_f45c899470b7row2_col2\" class=\"data row2 col2\" >0.611276</td>\n",
       "                        <td id=\"T_25391998_adaf_11eb_990f_f45c899470b7row2_col3\" class=\"data row2 col3\" >0.865925</td>\n",
       "            </tr>\n",
       "    </tbody></table>"
      ],
      "text/plain": [
       "<pandas.io.formats.style.Styler at 0x7f805e062340>"
      ]
     },
     "execution_count": 15,
     "metadata": {},
     "output_type": "execute_result"
    }
   ],
   "source": [
    "imb_result = pd.DataFrame(results)\n",
    "imb_result.style.highlight_max(color = 'lightblue', axis = 0)"
   ]
  },
  {
   "cell_type": "markdown",
   "metadata": {},
   "source": [
    "\n",
    "#### Результат:\n",
    "\n",
    "Обучены 3 модели на данных с дисбалансом классов, качество измерено на валидационной выборке 3мя метриками Accuracy, F1_score, AUC-ROC. Наилучший результат по всем 3м метрикам показала модель **Случайный Лес.**"
   ]
  },
  {
   "cell_type": "markdown",
   "metadata": {},
   "source": [
    "## 3. Устранение дисбаланса, улучшение качества моделей. <a name=\"3.\"></a>  \n",
    "[к содержанию](#0.0)"
   ]
  },
  {
   "cell_type": "markdown",
   "metadata": {},
   "source": [
    "В рамках проекта применим следующие методы борьбы с дисбалансом:\n",
    "* взвешивание классов,\n",
    "* увеличение выборки,\n",
    "* уменьшение выборки."
   ]
  },
  {
   "cell_type": "markdown",
   "metadata": {},
   "source": [
    "## 3.1. Взвешивание классов. <a name=\"3.1.\"></a>  \n",
    "[к содержанию](#0.0)"
   ]
  },
  {
   "cell_type": "markdown",
   "metadata": {},
   "source": [
    "Обучим модели, указывая гиперпараметр class_weight = balanced. Таким образом, объектам редкого класса будет присвоен больший вес"
   ]
  },
  {
   "cell_type": "code",
   "execution_count": 16,
   "metadata": {},
   "outputs": [],
   "source": [
    "models_balanced = [LogisticRegression(random_state=123, class_weight='balanced'), \n",
    "                   DecisionTreeClassifier(random_state=123, class_weight='balanced'), \n",
    "                   RandomForestClassifier(random_state=123, class_weight='balanced')]\n",
    "\n",
    "results_balanced = []\n",
    "\n",
    "for model in models_balanced:\n",
    "    model.fit(features_train, target_train)\n",
    "    predictions_valid = model.predict(features_valid)\n",
    "    probabilities_valid = model.predict_proba(features_valid)\n",
    "    \n",
    "    accuracy = accuracy_score(target_valid, predictions_valid)\n",
    "    f1 = f1_score(target_valid, predictions_valid)\n",
    "    roc_auc = roc_auc_score(target_valid, probabilities_valid[:,1])\n",
    "    \n",
    "    results_balanced.append({'Model': model.__class__.__name__, \n",
    "                           ' ':' ',\n",
    "                           'Balanced_Accuracy': accuracy, \n",
    "                           'Balanced_F1': f1, \n",
    "                           'Balanced_AUC-ROC': roc_auc})"
   ]
  },
  {
   "cell_type": "code",
   "execution_count": 17,
   "metadata": {},
   "outputs": [
    {
     "data": {
      "text/html": [
       "<style  type=\"text/css\" >\n",
       "#T_25c3b2ba_adaf_11eb_990f_f45c899470b7row2_col1,#T_25c3b2ba_adaf_11eb_990f_f45c899470b7row2_col2,#T_25c3b2ba_adaf_11eb_990f_f45c899470b7row2_col3,#T_25c3b2ba_adaf_11eb_990f_f45c899470b7row2_col5,#T_25c3b2ba_adaf_11eb_990f_f45c899470b7row2_col6,#T_25c3b2ba_adaf_11eb_990f_f45c899470b7row2_col7{\n",
       "            background-color:  lightblue;\n",
       "        }</style><table id=\"T_25c3b2ba_adaf_11eb_990f_f45c899470b7\" ><thead>    <tr>        <th class=\"blank level0\" ></th>        <th class=\"col_heading level0 col0\" >Model</th>        <th class=\"col_heading level0 col1\" >imbalanced_Accuracy</th>        <th class=\"col_heading level0 col2\" >imbalanced_F1</th>        <th class=\"col_heading level0 col3\" >imbalanced_AUC-ROC</th>        <th class=\"col_heading level0 col4\" > </th>        <th class=\"col_heading level0 col5\" >Balanced_Accuracy</th>        <th class=\"col_heading level0 col6\" >Balanced_F1</th>        <th class=\"col_heading level0 col7\" >Balanced_AUC-ROC</th>    </tr></thead><tbody>\n",
       "                <tr>\n",
       "                        <th id=\"T_25c3b2ba_adaf_11eb_990f_f45c899470b7level0_row0\" class=\"row_heading level0 row0\" >0</th>\n",
       "                        <td id=\"T_25c3b2ba_adaf_11eb_990f_f45c899470b7row0_col0\" class=\"data row0 col0\" >LogisticRegression</td>\n",
       "                        <td id=\"T_25c3b2ba_adaf_11eb_990f_f45c899470b7row0_col1\" class=\"data row0 col1\" >0.787500</td>\n",
       "                        <td id=\"T_25c3b2ba_adaf_11eb_990f_f45c899470b7row0_col2\" class=\"data row0 col2\" >0.061810</td>\n",
       "                        <td id=\"T_25c3b2ba_adaf_11eb_990f_f45c899470b7row0_col3\" class=\"data row0 col3\" >0.699481</td>\n",
       "                        <td id=\"T_25c3b2ba_adaf_11eb_990f_f45c899470b7row0_col4\" class=\"data row0 col4\" > </td>\n",
       "                        <td id=\"T_25c3b2ba_adaf_11eb_990f_f45c899470b7row0_col5\" class=\"data row0 col5\" >0.673000</td>\n",
       "                        <td id=\"T_25c3b2ba_adaf_11eb_990f_f45c899470b7row0_col6\" class=\"data row0 col6\" >0.467427</td>\n",
       "                        <td id=\"T_25c3b2ba_adaf_11eb_990f_f45c899470b7row0_col7\" class=\"data row0 col7\" >0.738019</td>\n",
       "            </tr>\n",
       "            <tr>\n",
       "                        <th id=\"T_25c3b2ba_adaf_11eb_990f_f45c899470b7level0_row1\" class=\"row_heading level0 row1\" >1</th>\n",
       "                        <td id=\"T_25c3b2ba_adaf_11eb_990f_f45c899470b7row1_col0\" class=\"data row1 col0\" >DecisionTreeClassifier</td>\n",
       "                        <td id=\"T_25c3b2ba_adaf_11eb_990f_f45c899470b7row1_col1\" class=\"data row1 col1\" >0.790500</td>\n",
       "                        <td id=\"T_25c3b2ba_adaf_11eb_990f_f45c899470b7row1_col2\" class=\"data row1 col2\" >0.506478</td>\n",
       "                        <td id=\"T_25c3b2ba_adaf_11eb_990f_f45c899470b7row1_col3\" class=\"data row1 col3\" >0.692500</td>\n",
       "                        <td id=\"T_25c3b2ba_adaf_11eb_990f_f45c899470b7row1_col4\" class=\"data row1 col4\" > </td>\n",
       "                        <td id=\"T_25c3b2ba_adaf_11eb_990f_f45c899470b7row1_col5\" class=\"data row1 col5\" >0.794500</td>\n",
       "                        <td id=\"T_25c3b2ba_adaf_11eb_990f_f45c899470b7row1_col6\" class=\"data row1 col6\" >0.499391</td>\n",
       "                        <td id=\"T_25c3b2ba_adaf_11eb_990f_f45c899470b7row1_col7\" class=\"data row1 col7\" >0.685899</td>\n",
       "            </tr>\n",
       "            <tr>\n",
       "                        <th id=\"T_25c3b2ba_adaf_11eb_990f_f45c899470b7level0_row2\" class=\"row_heading level0 row2\" >2</th>\n",
       "                        <td id=\"T_25c3b2ba_adaf_11eb_990f_f45c899470b7row2_col0\" class=\"data row2 col0\" >RandomForestClassifier</td>\n",
       "                        <td id=\"T_25c3b2ba_adaf_11eb_990f_f45c899470b7row2_col1\" class=\"data row2 col1\" >0.869000</td>\n",
       "                        <td id=\"T_25c3b2ba_adaf_11eb_990f_f45c899470b7row2_col2\" class=\"data row2 col2\" >0.611276</td>\n",
       "                        <td id=\"T_25c3b2ba_adaf_11eb_990f_f45c899470b7row2_col3\" class=\"data row2 col3\" >0.865925</td>\n",
       "                        <td id=\"T_25c3b2ba_adaf_11eb_990f_f45c899470b7row2_col4\" class=\"data row2 col4\" > </td>\n",
       "                        <td id=\"T_25c3b2ba_adaf_11eb_990f_f45c899470b7row2_col5\" class=\"data row2 col5\" >0.861000</td>\n",
       "                        <td id=\"T_25c3b2ba_adaf_11eb_990f_f45c899470b7row2_col6\" class=\"data row2 col6\" >0.572308</td>\n",
       "                        <td id=\"T_25c3b2ba_adaf_11eb_990f_f45c899470b7row2_col7\" class=\"data row2 col7\" >0.864335</td>\n",
       "            </tr>\n",
       "    </tbody></table>"
      ],
      "text/plain": [
       "<pandas.io.formats.style.Styler at 0x7f805ec82ca0>"
      ]
     },
     "execution_count": 17,
     "metadata": {},
     "output_type": "execute_result"
    }
   ],
   "source": [
    "result_balanced = pd.DataFrame(results_balanced)\n",
    "imb_result.merge(result_balanced, on='Model').style.highlight_max(color = 'lightblue', axis = 0)"
   ]
  },
  {
   "cell_type": "markdown",
   "metadata": {},
   "source": [
    "После взвешивания классов по прежнему лидирует **Случайный Лес**, F1-score у него снизился, при этом вырос у логистической регрессии и дерева решений"
   ]
  },
  {
   "cell_type": "markdown",
   "metadata": {},
   "source": [
    "### 3.2. Увеличение выборки. <a name=\"3.2.\"></a>  \n",
    "[к содержанию](#0.0)"
   ]
  },
  {
   "cell_type": "markdown",
   "metadata": {},
   "source": [
    "Напишем функцию, которая будет работать следующим образом:\n",
    "* разделяет обучающую выборку на отрицательные и положительные объекты\n",
    "* копирует несколько раз положительные объекты\n",
    "* создает новую обучающую выборку с учётом полученных данных\n",
    "* перемешивает данные\n",
    "* возвращает преобразованные выборки.    "
   ]
  },
  {
   "cell_type": "code",
   "execution_count": 18,
   "metadata": {},
   "outputs": [],
   "source": [
    "def upsample(features, target, repeat):\n",
    "    \n",
    "    features_zeros = features[target == 0]\n",
    "    features_ones = features[target == 1]\n",
    "    target_zeros = target_train[target_train == 0] \n",
    "    target_ones = target_train[target_train == 1]\n",
    "    \n",
    "    features_upsampled = pd.concat([features_zeros] + [features_ones] * repeat)\n",
    "    target_upsampled = pd.concat([target_zeros] + [target_ones] * repeat)   \n",
    "    \n",
    "    features_upsampled, target_upsampled = shuffle(\n",
    "        features_upsampled, target_upsampled, random_state=12345)\n",
    "    return features_upsampled, target_upsampled"
   ]
  },
  {
   "cell_type": "markdown",
   "metadata": {},
   "source": [
    "Увеличим к-во объектов с классом 1 в 4 раза, чтобы добиться сбалансированного количества объектов обоих классов."
   ]
  },
  {
   "cell_type": "code",
   "execution_count": 19,
   "metadata": {},
   "outputs": [
    {
     "name": "stdout",
     "output_type": "stream",
     "text": [
      "(9666, 11)\n",
      "(9666,)\n"
     ]
    }
   ],
   "source": [
    "features_upsampled, target_upsampled = upsample(features_train, target_train, 4)\n",
    "print(features_upsampled.shape)\n",
    "print(target_upsampled.shape)"
   ]
  },
  {
   "cell_type": "markdown",
   "metadata": {},
   "source": [
    "Посмотрим на баланс классов после апсемплинга."
   ]
  },
  {
   "cell_type": "code",
   "execution_count": 20,
   "metadata": {},
   "outputs": [
    {
     "name": "stdout",
     "output_type": "stream",
     "text": [
      "1    0.50569\n",
      "0    0.49431\n",
      "Name: Exited, dtype: float64\n"
     ]
    },
    {
     "data": {
      "text/plain": [
       "<AxesSubplot:>"
      ]
     },
     "execution_count": 20,
     "metadata": {},
     "output_type": "execute_result"
    },
    {
     "data": {
      "image/png": "[encoded data removed]",
      "text/plain": [
       "<Figure size 432x288 with 1 Axes>"
      ]
     },
     "metadata": {
      "needs_background": "light"
     },
     "output_type": "display_data"
    }
   ],
   "source": [
    "upsampled = target_upsampled.value_counts(normalize=True)\n",
    "print(upsampled)\n",
    "upsampled.plot(kind='bar') "
   ]
  },
  {
   "cell_type": "markdown",
   "metadata": {},
   "source": [
    "Обучим мадели на сбалансированной выборке"
   ]
  },
  {
   "cell_type": "code",
   "execution_count": 21,
   "metadata": {},
   "outputs": [],
   "source": [
    "results_upsampled = []\n",
    "\n",
    "for model in models:\n",
    "    model.fit(features_upsampled, target_upsampled)\n",
    "    predictions_valid = model.predict(features_valid)\n",
    "    probabilities_valid = model.predict_proba(features_valid)\n",
    "    \n",
    "    accuracy = accuracy_score(target_valid, predictions_valid)\n",
    "    f1 = f1_score(target_valid, predictions_valid)\n",
    "    roc_auc = roc_auc_score(target_valid, probabilities_valid[:,1])\n",
    "    \n",
    "    results_upsampled.append({'Model': model.__class__.__name__, \n",
    "                           ' ':' ',\n",
    "                           'Upsampled_Accuracy': accuracy, \n",
    "                           'Upsampled_F1': f1, \n",
    "                           'Upsampled_AUC-ROC': roc_auc})"
   ]
  },
  {
   "cell_type": "code",
   "execution_count": 22,
   "metadata": {},
   "outputs": [
    {
     "data": {
      "text/html": [
       "<style  type=\"text/css\" >\n",
       "#T_26a4e9ec_adaf_11eb_990f_f45c899470b7row2_col1,#T_26a4e9ec_adaf_11eb_990f_f45c899470b7row2_col2,#T_26a4e9ec_adaf_11eb_990f_f45c899470b7row2_col3,#T_26a4e9ec_adaf_11eb_990f_f45c899470b7row2_col5,#T_26a4e9ec_adaf_11eb_990f_f45c899470b7row2_col6,#T_26a4e9ec_adaf_11eb_990f_f45c899470b7row2_col7{\n",
       "            background-color:  lightblue;\n",
       "        }</style><table id=\"T_26a4e9ec_adaf_11eb_990f_f45c899470b7\" ><thead>    <tr>        <th class=\"blank level0\" ></th>        <th class=\"col_heading level0 col0\" >Model</th>        <th class=\"col_heading level0 col1\" >imbalanced_Accuracy</th>        <th class=\"col_heading level0 col2\" >imbalanced_F1</th>        <th class=\"col_heading level0 col3\" >imbalanced_AUC-ROC</th>        <th class=\"col_heading level0 col4\" > </th>        <th class=\"col_heading level0 col5\" >Upsampled_Accuracy</th>        <th class=\"col_heading level0 col6\" >Upsampled_F1</th>        <th class=\"col_heading level0 col7\" >Upsampled_AUC-ROC</th>    </tr></thead><tbody>\n",
       "                <tr>\n",
       "                        <th id=\"T_26a4e9ec_adaf_11eb_990f_f45c899470b7level0_row0\" class=\"row_heading level0 row0\" >0</th>\n",
       "                        <td id=\"T_26a4e9ec_adaf_11eb_990f_f45c899470b7row0_col0\" class=\"data row0 col0\" >LogisticRegression</td>\n",
       "                        <td id=\"T_26a4e9ec_adaf_11eb_990f_f45c899470b7row0_col1\" class=\"data row0 col1\" >0.787500</td>\n",
       "                        <td id=\"T_26a4e9ec_adaf_11eb_990f_f45c899470b7row0_col2\" class=\"data row0 col2\" >0.061810</td>\n",
       "                        <td id=\"T_26a4e9ec_adaf_11eb_990f_f45c899470b7row0_col3\" class=\"data row0 col3\" >0.699481</td>\n",
       "                        <td id=\"T_26a4e9ec_adaf_11eb_990f_f45c899470b7row0_col4\" class=\"data row0 col4\" > </td>\n",
       "                        <td id=\"T_26a4e9ec_adaf_11eb_990f_f45c899470b7row0_col5\" class=\"data row0 col5\" >0.666500</td>\n",
       "                        <td id=\"T_26a4e9ec_adaf_11eb_990f_f45c899470b7row0_col6\" class=\"data row0 col6\" >0.467678</td>\n",
       "                        <td id=\"T_26a4e9ec_adaf_11eb_990f_f45c899470b7row0_col7\" class=\"data row0 col7\" >0.738569</td>\n",
       "            </tr>\n",
       "            <tr>\n",
       "                        <th id=\"T_26a4e9ec_adaf_11eb_990f_f45c899470b7level0_row1\" class=\"row_heading level0 row1\" >1</th>\n",
       "                        <td id=\"T_26a4e9ec_adaf_11eb_990f_f45c899470b7row1_col0\" class=\"data row1 col0\" >DecisionTreeClassifier</td>\n",
       "                        <td id=\"T_26a4e9ec_adaf_11eb_990f_f45c899470b7row1_col1\" class=\"data row1 col1\" >0.790500</td>\n",
       "                        <td id=\"T_26a4e9ec_adaf_11eb_990f_f45c899470b7row1_col2\" class=\"data row1 col2\" >0.506478</td>\n",
       "                        <td id=\"T_26a4e9ec_adaf_11eb_990f_f45c899470b7row1_col3\" class=\"data row1 col3\" >0.692500</td>\n",
       "                        <td id=\"T_26a4e9ec_adaf_11eb_990f_f45c899470b7row1_col4\" class=\"data row1 col4\" > </td>\n",
       "                        <td id=\"T_26a4e9ec_adaf_11eb_990f_f45c899470b7row1_col5\" class=\"data row1 col5\" >0.800000</td>\n",
       "                        <td id=\"T_26a4e9ec_adaf_11eb_990f_f45c899470b7row1_col6\" class=\"data row1 col6\" >0.509804</td>\n",
       "                        <td id=\"T_26a4e9ec_adaf_11eb_990f_f45c899470b7row1_col7\" class=\"data row1 col7\" >0.692088</td>\n",
       "            </tr>\n",
       "            <tr>\n",
       "                        <th id=\"T_26a4e9ec_adaf_11eb_990f_f45c899470b7level0_row2\" class=\"row_heading level0 row2\" >2</th>\n",
       "                        <td id=\"T_26a4e9ec_adaf_11eb_990f_f45c899470b7row2_col0\" class=\"data row2 col0\" >RandomForestClassifier</td>\n",
       "                        <td id=\"T_26a4e9ec_adaf_11eb_990f_f45c899470b7row2_col1\" class=\"data row2 col1\" >0.869000</td>\n",
       "                        <td id=\"T_26a4e9ec_adaf_11eb_990f_f45c899470b7row2_col2\" class=\"data row2 col2\" >0.611276</td>\n",
       "                        <td id=\"T_26a4e9ec_adaf_11eb_990f_f45c899470b7row2_col3\" class=\"data row2 col3\" >0.865925</td>\n",
       "                        <td id=\"T_26a4e9ec_adaf_11eb_990f_f45c899470b7row2_col4\" class=\"data row2 col4\" > </td>\n",
       "                        <td id=\"T_26a4e9ec_adaf_11eb_990f_f45c899470b7row2_col5\" class=\"data row2 col5\" >0.853000</td>\n",
       "                        <td id=\"T_26a4e9ec_adaf_11eb_990f_f45c899470b7row2_col6\" class=\"data row2 col6\" >0.612137</td>\n",
       "                        <td id=\"T_26a4e9ec_adaf_11eb_990f_f45c899470b7row2_col7\" class=\"data row2 col7\" >0.861252</td>\n",
       "            </tr>\n",
       "    </tbody></table>"
      ],
      "text/plain": [
       "<pandas.io.formats.style.Styler at 0x7f805ee24520>"
      ]
     },
     "execution_count": 22,
     "metadata": {},
     "output_type": "execute_result"
    }
   ],
   "source": [
    "results_upsampled = pd.DataFrame(results_upsampled)\n",
    "imb_result.merge(results_upsampled, on='Model').style.highlight_max(color = 'lightblue', axis = 0)"
   ]
  },
  {
   "cell_type": "markdown",
   "metadata": {},
   "source": [
    "После апсемплинга лидирует Случайный Лес, F1-score вырос у всех моделей."
   ]
  },
  {
   "cell_type": "markdown",
   "metadata": {},
   "source": [
    "### 3.3. Уменьшение выборки.<a name=\"3.3.\"></a>  \n",
    "[к содержанию](#0.0)"
   ]
  },
  {
   "cell_type": "markdown",
   "metadata": {},
   "source": [
    "Напишем функцию, которая будет работать следующим образом:\n",
    "* разделяет обучающую выборку на отрицательные и положительные объекты\n",
    "* случайным образом отбрасывает часть из отрицательных объектов\n",
    "* создает новую обучающую выборку с учётом полученных данных\n",
    "* перемешивает данные\n",
    "* возвращает преобразованные выборки.   "
   ]
  },
  {
   "cell_type": "code",
   "execution_count": 23,
   "metadata": {},
   "outputs": [],
   "source": [
    "def downsample(features, target, fraction):\n",
    "    features_zeros = features[target == 0]\n",
    "    features_ones = features[target == 1]\n",
    "    target_zeros = target[target == 0]\n",
    "    target_ones = target[target == 1]\n",
    "\n",
    "    features_downsampled = pd.concat([features_zeros.sample(frac=fraction, random_state=12345)] + [features_ones])\n",
    "    target_downsampled = pd.concat([target_zeros.sample(frac=fraction, random_state=12345)] + [target_ones])\n",
    "    \n",
    "    features_downsampled, target_downsampled = shuffle(features_downsampled, target_downsampled, random_state=12345)\n",
    "    return features_downsampled, target_downsampled"
   ]
  },
  {
   "cell_type": "markdown",
   "metadata": {},
   "source": [
    "Уменьшим к-во объектов с классом 0 в 4 раза."
   ]
  },
  {
   "cell_type": "code",
   "execution_count": 24,
   "metadata": {},
   "outputs": [
    {
     "name": "stdout",
     "output_type": "stream",
     "text": [
      "(2416, 11)\n",
      "(2416,)\n"
     ]
    }
   ],
   "source": [
    "features_downsampled, target_downsampled = downsample(features_train, target_train, 0.25)\n",
    "print(features_downsampled.shape)\n",
    "print(target_downsampled.shape)"
   ]
  },
  {
   "cell_type": "markdown",
   "metadata": {},
   "source": [
    "Посмотрим на баланс классов после даунсемплинга."
   ]
  },
  {
   "cell_type": "code",
   "execution_count": 25,
   "metadata": {},
   "outputs": [
    {
     "name": "stdout",
     "output_type": "stream",
     "text": [
      "1    0.505795\n",
      "0    0.494205\n",
      "Name: Exited, dtype: float64\n"
     ]
    },
    {
     "data": {
      "text/plain": [
       "<AxesSubplot:>"
      ]
     },
     "execution_count": 25,
     "metadata": {},
     "output_type": "execute_result"
    },
    {
     "data": {
      "image/png": "[encoded data removed]",
      "text/plain": [
       "<Figure size 432x288 with 1 Axes>"
      ]
     },
     "metadata": {
      "needs_background": "light"
     },
     "output_type": "display_data"
    }
   ],
   "source": [
    "downsampled = target_downsampled.value_counts(normalize=True)\n",
    "print(downsampled)\n",
    "downsampled.plot(kind='bar') "
   ]
  },
  {
   "cell_type": "code",
   "execution_count": 26,
   "metadata": {},
   "outputs": [],
   "source": [
    "results_downsampled = []\n",
    "\n",
    "for model in models:\n",
    "    model.fit(features_downsampled, target_downsampled)\n",
    "    predictions_valid = model.predict(features_valid)\n",
    "    probabilities_valid = model.predict_proba(features_valid)\n",
    "    \n",
    "    accuracy = accuracy_score(target_valid, predictions_valid)\n",
    "    f1 = f1_score(target_valid, predictions_valid)\n",
    "    roc_auc = roc_auc_score(target_valid, probabilities_valid[:,1])\n",
    "    \n",
    "    results_downsampled.append({'Model': model.__class__.__name__, \n",
    "                           ' ':' ',\n",
    "                           'Downsampled_Accuracy': accuracy, \n",
    "                           'Downsampled_F1': f1, \n",
    "                           'Downsampled_AUC-ROC': roc_auc})"
   ]
  },
  {
   "cell_type": "code",
   "execution_count": 27,
   "metadata": {},
   "outputs": [
    {
     "data": {
      "text/html": [
       "<style  type=\"text/css\" >\n",
       "#T_271f5696_adaf_11eb_990f_f45c899470b7row2_col1,#T_271f5696_adaf_11eb_990f_f45c899470b7row2_col2,#T_271f5696_adaf_11eb_990f_f45c899470b7row2_col3,#T_271f5696_adaf_11eb_990f_f45c899470b7row2_col5,#T_271f5696_adaf_11eb_990f_f45c899470b7row2_col6,#T_271f5696_adaf_11eb_990f_f45c899470b7row2_col7{\n",
       "            background-color:  lightblue;\n",
       "        }</style><table id=\"T_271f5696_adaf_11eb_990f_f45c899470b7\" ><thead>    <tr>        <th class=\"blank level0\" ></th>        <th class=\"col_heading level0 col0\" >Model</th>        <th class=\"col_heading level0 col1\" >imbalanced_Accuracy</th>        <th class=\"col_heading level0 col2\" >imbalanced_F1</th>        <th class=\"col_heading level0 col3\" >imbalanced_AUC-ROC</th>        <th class=\"col_heading level0 col4\" > </th>        <th class=\"col_heading level0 col5\" >Downsampled_Accuracy</th>        <th class=\"col_heading level0 col6\" >Downsampled_F1</th>        <th class=\"col_heading level0 col7\" >Downsampled_AUC-ROC</th>    </tr></thead><tbody>\n",
       "                <tr>\n",
       "                        <th id=\"T_271f5696_adaf_11eb_990f_f45c899470b7level0_row0\" class=\"row_heading level0 row0\" >0</th>\n",
       "                        <td id=\"T_271f5696_adaf_11eb_990f_f45c899470b7row0_col0\" class=\"data row0 col0\" >LogisticRegression</td>\n",
       "                        <td id=\"T_271f5696_adaf_11eb_990f_f45c899470b7row0_col1\" class=\"data row0 col1\" >0.787500</td>\n",
       "                        <td id=\"T_271f5696_adaf_11eb_990f_f45c899470b7row0_col2\" class=\"data row0 col2\" >0.061810</td>\n",
       "                        <td id=\"T_271f5696_adaf_11eb_990f_f45c899470b7row0_col3\" class=\"data row0 col3\" >0.699481</td>\n",
       "                        <td id=\"T_271f5696_adaf_11eb_990f_f45c899470b7row0_col4\" class=\"data row0 col4\" > </td>\n",
       "                        <td id=\"T_271f5696_adaf_11eb_990f_f45c899470b7row0_col5\" class=\"data row0 col5\" >0.668500</td>\n",
       "                        <td id=\"T_271f5696_adaf_11eb_990f_f45c899470b7row0_col6\" class=\"data row0 col6\" >0.467470</td>\n",
       "                        <td id=\"T_271f5696_adaf_11eb_990f_f45c899470b7row0_col7\" class=\"data row0 col7\" >0.738787</td>\n",
       "            </tr>\n",
       "            <tr>\n",
       "                        <th id=\"T_271f5696_adaf_11eb_990f_f45c899470b7level0_row1\" class=\"row_heading level0 row1\" >1</th>\n",
       "                        <td id=\"T_271f5696_adaf_11eb_990f_f45c899470b7row1_col0\" class=\"data row1 col0\" >DecisionTreeClassifier</td>\n",
       "                        <td id=\"T_271f5696_adaf_11eb_990f_f45c899470b7row1_col1\" class=\"data row1 col1\" >0.790500</td>\n",
       "                        <td id=\"T_271f5696_adaf_11eb_990f_f45c899470b7row1_col2\" class=\"data row1 col2\" >0.506478</td>\n",
       "                        <td id=\"T_271f5696_adaf_11eb_990f_f45c899470b7row1_col3\" class=\"data row1 col3\" >0.692500</td>\n",
       "                        <td id=\"T_271f5696_adaf_11eb_990f_f45c899470b7row1_col4\" class=\"data row1 col4\" > </td>\n",
       "                        <td id=\"T_271f5696_adaf_11eb_990f_f45c899470b7row1_col5\" class=\"data row1 col5\" >0.702000</td>\n",
       "                        <td id=\"T_271f5696_adaf_11eb_990f_f45c899470b7row1_col6\" class=\"data row1 col6\" >0.501672</td>\n",
       "                        <td id=\"T_271f5696_adaf_11eb_990f_f45c899470b7row1_col7\" class=\"data row1 col7\" >0.714381</td>\n",
       "            </tr>\n",
       "            <tr>\n",
       "                        <th id=\"T_271f5696_adaf_11eb_990f_f45c899470b7level0_row2\" class=\"row_heading level0 row2\" >2</th>\n",
       "                        <td id=\"T_271f5696_adaf_11eb_990f_f45c899470b7row2_col0\" class=\"data row2 col0\" >RandomForestClassifier</td>\n",
       "                        <td id=\"T_271f5696_adaf_11eb_990f_f45c899470b7row2_col1\" class=\"data row2 col1\" >0.869000</td>\n",
       "                        <td id=\"T_271f5696_adaf_11eb_990f_f45c899470b7row2_col2\" class=\"data row2 col2\" >0.611276</td>\n",
       "                        <td id=\"T_271f5696_adaf_11eb_990f_f45c899470b7row2_col3\" class=\"data row2 col3\" >0.865925</td>\n",
       "                        <td id=\"T_271f5696_adaf_11eb_990f_f45c899470b7row2_col4\" class=\"data row2 col4\" > </td>\n",
       "                        <td id=\"T_271f5696_adaf_11eb_990f_f45c899470b7row2_col5\" class=\"data row2 col5\" >0.792000</td>\n",
       "                        <td id=\"T_271f5696_adaf_11eb_990f_f45c899470b7row2_col6\" class=\"data row2 col6\" >0.606061</td>\n",
       "                        <td id=\"T_271f5696_adaf_11eb_990f_f45c899470b7row2_col7\" class=\"data row2 col7\" >0.860707</td>\n",
       "            </tr>\n",
       "    </tbody></table>"
      ],
      "text/plain": [
       "<pandas.io.formats.style.Styler at 0x7f80602bd0a0>"
      ]
     },
     "execution_count": 27,
     "metadata": {},
     "output_type": "execute_result"
    }
   ],
   "source": [
    "results_downsampled = pd.DataFrame(results_downsampled)\n",
    "imb_result.merge(results_downsampled, on='Model').style.highlight_max(color = 'lightblue', axis = 0)"
   ]
  },
  {
   "cell_type": "markdown",
   "metadata": {},
   "source": [
    "По F1 лидирует модель Случайный лес, но при этом результат снизился в сравнении с несбалансированной выборкой. У регрессии и Дерева решений метрика стала выше"
   ]
  },
  {
   "cell_type": "markdown",
   "metadata": {},
   "source": [
    "Выберем наилучшую модель по метрике F1-score. Подсветим наилучший результат каждой модели."
   ]
  },
  {
   "cell_type": "code",
   "execution_count": 28,
   "metadata": {},
   "outputs": [
    {
     "data": {
      "text/html": [
       "<style  type=\"text/css\" >\n",
       "#T_27258f0c_adaf_11eb_990f_f45c899470b7row0_col4,#T_27258f0c_adaf_11eb_990f_f45c899470b7row1_col4,#T_27258f0c_adaf_11eb_990f_f45c899470b7row2_col4{\n",
       "            background-color:  lightblue;\n",
       "        }</style><table id=\"T_27258f0c_adaf_11eb_990f_f45c899470b7\" ><thead>    <tr>        <th class=\"blank level0\" ></th>        <th class=\"col_heading level0 col0\" >Model</th>        <th class=\"col_heading level0 col1\" >imbalanced_F1</th>        <th class=\"col_heading level0 col2\" >Balanced_F1</th>        <th class=\"col_heading level0 col3\" >Downsampled_F1</th>        <th class=\"col_heading level0 col4\" >Upsampled_F1</th>    </tr></thead><tbody>\n",
       "                <tr>\n",
       "                        <th id=\"T_27258f0c_adaf_11eb_990f_f45c899470b7level0_row0\" class=\"row_heading level0 row0\" >0</th>\n",
       "                        <td id=\"T_27258f0c_adaf_11eb_990f_f45c899470b7row0_col0\" class=\"data row0 col0\" >LogisticRegression</td>\n",
       "                        <td id=\"T_27258f0c_adaf_11eb_990f_f45c899470b7row0_col1\" class=\"data row0 col1\" >0.061810</td>\n",
       "                        <td id=\"T_27258f0c_adaf_11eb_990f_f45c899470b7row0_col2\" class=\"data row0 col2\" >0.467427</td>\n",
       "                        <td id=\"T_27258f0c_adaf_11eb_990f_f45c899470b7row0_col3\" class=\"data row0 col3\" >0.467470</td>\n",
       "                        <td id=\"T_27258f0c_adaf_11eb_990f_f45c899470b7row0_col4\" class=\"data row0 col4\" >0.467678</td>\n",
       "            </tr>\n",
       "            <tr>\n",
       "                        <th id=\"T_27258f0c_adaf_11eb_990f_f45c899470b7level0_row1\" class=\"row_heading level0 row1\" >1</th>\n",
       "                        <td id=\"T_27258f0c_adaf_11eb_990f_f45c899470b7row1_col0\" class=\"data row1 col0\" >DecisionTreeClassifier</td>\n",
       "                        <td id=\"T_27258f0c_adaf_11eb_990f_f45c899470b7row1_col1\" class=\"data row1 col1\" >0.506478</td>\n",
       "                        <td id=\"T_27258f0c_adaf_11eb_990f_f45c899470b7row1_col2\" class=\"data row1 col2\" >0.499391</td>\n",
       "                        <td id=\"T_27258f0c_adaf_11eb_990f_f45c899470b7row1_col3\" class=\"data row1 col3\" >0.501672</td>\n",
       "                        <td id=\"T_27258f0c_adaf_11eb_990f_f45c899470b7row1_col4\" class=\"data row1 col4\" >0.509804</td>\n",
       "            </tr>\n",
       "            <tr>\n",
       "                        <th id=\"T_27258f0c_adaf_11eb_990f_f45c899470b7level0_row2\" class=\"row_heading level0 row2\" >2</th>\n",
       "                        <td id=\"T_27258f0c_adaf_11eb_990f_f45c899470b7row2_col0\" class=\"data row2 col0\" >RandomForestClassifier</td>\n",
       "                        <td id=\"T_27258f0c_adaf_11eb_990f_f45c899470b7row2_col1\" class=\"data row2 col1\" >0.611276</td>\n",
       "                        <td id=\"T_27258f0c_adaf_11eb_990f_f45c899470b7row2_col2\" class=\"data row2 col2\" >0.572308</td>\n",
       "                        <td id=\"T_27258f0c_adaf_11eb_990f_f45c899470b7row2_col3\" class=\"data row2 col3\" >0.606061</td>\n",
       "                        <td id=\"T_27258f0c_adaf_11eb_990f_f45c899470b7row2_col4\" class=\"data row2 col4\" >0.612137</td>\n",
       "            </tr>\n",
       "    </tbody></table>"
      ],
      "text/plain": [
       "<pandas.io.formats.style.Styler at 0x7f80602c5ac0>"
      ]
     },
     "execution_count": 28,
     "metadata": {},
     "output_type": "execute_result"
    }
   ],
   "source": [
    "all_results = imb_result[['Model', 'imbalanced_F1']]\\\n",
    "    .merge(result_balanced[['Model', 'Balanced_F1']])\\\n",
    "    .merge(results_downsampled[['Model', 'Downsampled_F1']])\\\n",
    "    .merge(results_upsampled[['Model', 'Upsampled_F1']])\n",
    "\n",
    "all_results.style.highlight_max(color = 'lightblue', axis = 1)"
   ]
  },
  {
   "cell_type": "markdown",
   "metadata": {},
   "source": [
    "Как видим на всех моделях наилучшее качество получилось после апсемплинга. Подберем наилучшие гиперпараметры моделей на сбалансированной выборке"
   ]
  },
  {
   "cell_type": "markdown",
   "metadata": {},
   "source": [
    "### 3.4. Подбор гиперпараметров. <a name=\"3.4.\"></a>  \n",
    "[к содержанию](#0.0)"
   ]
  },
  {
   "cell_type": "markdown",
   "metadata": {},
   "source": [
    "#### Логистическая регрессия"
   ]
  },
  {
   "cell_type": "code",
   "execution_count": 29,
   "metadata": {},
   "outputs": [],
   "source": [
    "lr_results = []\n",
    "penalties = ['l1', 'l2']\n",
    "solvers = ['liblinear', 'lbfgs']\n",
    "\n",
    "for solver in range(len(solvers)):\n",
    "    model = LogisticRegression(random_state=12345,solver=solvers[solver], penalty=penalties[solver])\n",
    "    model.fit(features_upsampled, target_upsampled)\n",
    "    predictions = model.predict(features_valid)\n",
    "    probabilities_valid = model.predict_proba(features_valid)\n",
    "\n",
    "    accuracy = accuracy_score(target_valid, predictions)\n",
    "    f1 = f1_score(target_valid, predictions)\n",
    "    roc_auc = roc_auc_score(target_valid, probabilities_valid[:,1])\n",
    "    lr_results.append({'Model': model.__class__.__name__ + '_' + model.penalty , \n",
    "                       'Hyperparameters': {'solver': model.solver, \n",
    "                                          'penalty': model.penalty},\n",
    "                       'Accuracy': accuracy, \n",
    "                       'F1 score': f1, \n",
    "                       'ROC AUC score': roc_auc})"
   ]
  },
  {
   "cell_type": "code",
   "execution_count": 30,
   "metadata": {},
   "outputs": [
    {
     "data": {
      "text/html": [
       "<div>\n",
       "<style scoped>\n",
       "    .dataframe tbody tr th:only-of-type {\n",
       "        vertical-align: middle;\n",
       "    }\n",
       "\n",
       "    .dataframe tbody tr th {\n",
       "        vertical-align: top;\n",
       "    }\n",
       "\n",
       "    .dataframe thead th {\n",
       "        text-align: right;\n",
       "    }\n",
       "</style>\n",
       "<table border=\"1\" class=\"dataframe\">\n",
       "  <thead>\n",
       "    <tr style=\"text-align: right;\">\n",
       "      <th></th>\n",
       "      <th>Model</th>\n",
       "      <th>Hyperparameters</th>\n",
       "      <th>Accuracy</th>\n",
       "      <th>F1 score</th>\n",
       "      <th>ROC AUC score</th>\n",
       "    </tr>\n",
       "  </thead>\n",
       "  <tbody>\n",
       "    <tr>\n",
       "      <th>0</th>\n",
       "      <td>LogisticRegression_l1</td>\n",
       "      <td>{'solver': 'liblinear', 'penalty': 'l1'}</td>\n",
       "      <td>0.7250</td>\n",
       "      <td>0.524221</td>\n",
       "      <td>0.793844</td>\n",
       "    </tr>\n",
       "    <tr>\n",
       "      <th>1</th>\n",
       "      <td>LogisticRegression_l2</td>\n",
       "      <td>{'solver': 'lbfgs', 'penalty': 'l2'}</td>\n",
       "      <td>0.6665</td>\n",
       "      <td>0.467678</td>\n",
       "      <td>0.738569</td>\n",
       "    </tr>\n",
       "  </tbody>\n",
       "</table>\n",
       "</div>"
      ],
      "text/plain": [
       "                   Model                           Hyperparameters  Accuracy  \\\n",
       "0  LogisticRegression_l1  {'solver': 'liblinear', 'penalty': 'l1'}    0.7250   \n",
       "1  LogisticRegression_l2      {'solver': 'lbfgs', 'penalty': 'l2'}    0.6665   \n",
       "\n",
       "   F1 score  ROC AUC score  \n",
       "0  0.524221       0.793844  \n",
       "1  0.467678       0.738569  "
      ]
     },
     "execution_count": 30,
     "metadata": {},
     "output_type": "execute_result"
    }
   ],
   "source": [
    "pd.DataFrame(lr_results)"
   ]
  },
  {
   "cell_type": "markdown",
   "metadata": {},
   "source": [
    "Как видим, наилучший логистическая регрессия с гиперпараметрами solver = 'liblinear', penalty = 'l1'"
   ]
  },
  {
   "cell_type": "markdown",
   "metadata": {},
   "source": [
    "#### Дерево решений"
   ]
  },
  {
   "cell_type": "code",
   "execution_count": 31,
   "metadata": {},
   "outputs": [
    {
     "name": "stdout",
     "output_type": "stream",
     "text": [
      "CPU times: user 4.17 s, sys: 30.6 ms, total: 4.2 s\n",
      "Wall time: 4.08 s\n"
     ]
    }
   ],
   "source": [
    "%%time\n",
    "Dt_results = []\n",
    "criterions = ['entropy', 'gini']\n",
    "\n",
    "for criterion in criterions:\n",
    "    for depth in range(1, 51):    \n",
    "        model = DecisionTreeClassifier(random_state=12345, criterion=criterion, max_depth=depth)\n",
    "        model.fit(features_upsampled, target_upsampled)\n",
    "        predictions = model.predict(features_valid)\n",
    "        probabilities_valid = model.predict_proba(features_valid)\n",
    "\n",
    "        accuracy = accuracy_score(target_valid, predictions)\n",
    "        f1 = f1_score(target_valid, predictions)\n",
    "        roc_auc = roc_auc_score(target_valid, probabilities_valid[:,1])\n",
    "        Dt_results.append({'Model': model.__class__.__name__, \n",
    "                           'Hyperparameters': {'criterion': criterion, \n",
    "                                              'max_depth': depth},\n",
    "                           'Accuracy': accuracy, \n",
    "                           'F1 score': f1, \n",
    "                           'ROC AUC score': roc_auc})\n"
   ]
  },
  {
   "cell_type": "code",
   "execution_count": 32,
   "metadata": {},
   "outputs": [
    {
     "data": {
      "text/html": [
       "<div>\n",
       "<style scoped>\n",
       "    .dataframe tbody tr th:only-of-type {\n",
       "        vertical-align: middle;\n",
       "    }\n",
       "\n",
       "    .dataframe tbody tr th {\n",
       "        vertical-align: top;\n",
       "    }\n",
       "\n",
       "    .dataframe thead th {\n",
       "        text-align: right;\n",
       "    }\n",
       "</style>\n",
       "<table border=\"1\" class=\"dataframe\">\n",
       "  <thead>\n",
       "    <tr style=\"text-align: right;\">\n",
       "      <th></th>\n",
       "      <th>Model</th>\n",
       "      <th>Hyperparameters</th>\n",
       "      <th>Accuracy</th>\n",
       "      <th>F1 score</th>\n",
       "      <th>ROC AUC score</th>\n",
       "    </tr>\n",
       "  </thead>\n",
       "  <tbody>\n",
       "    <tr>\n",
       "      <th>7</th>\n",
       "      <td>DecisionTreeClassifier</td>\n",
       "      <td>{'criterion': 'entropy', 'max_depth': 8}</td>\n",
       "      <td>0.794</td>\n",
       "      <td>0.588822</td>\n",
       "      <td>0.825361</td>\n",
       "    </tr>\n",
       "  </tbody>\n",
       "</table>\n",
       "</div>"
      ],
      "text/plain": [
       "                    Model                           Hyperparameters  Accuracy  \\\n",
       "7  DecisionTreeClassifier  {'criterion': 'entropy', 'max_depth': 8}     0.794   \n",
       "\n",
       "   F1 score  ROC AUC score  \n",
       "7  0.588822       0.825361  "
      ]
     },
     "execution_count": 32,
     "metadata": {},
     "output_type": "execute_result"
    }
   ],
   "source": [
    "Dt_best_f1 = pd.DataFrame(Dt_results)\n",
    "Dt_best_f1[Dt_best_f1['F1 score'] == Dt_best_f1['F1 score'].max()]"
   ]
  },
  {
   "cell_type": "markdown",
   "metadata": {},
   "source": [
    "Наилуйшее дерево решений с гиперпараметрами criterion = entropy, max_depth = 8"
   ]
  },
  {
   "cell_type": "markdown",
   "metadata": {},
   "source": [
    "#### Случайный лес"
   ]
  },
  {
   "cell_type": "code",
   "execution_count": 33,
   "metadata": {},
   "outputs": [
    {
     "name": "stdout",
     "output_type": "stream",
     "text": [
      "CPU times: user 1min 25s, sys: 1.53 s, total: 1min 27s\n",
      "Wall time: 1min 27s\n"
     ]
    }
   ],
   "source": [
    "%%time\n",
    "Rf_results = []\n",
    "\n",
    "for est in range(10, 101, 10):\n",
    "    for depth in range (1, 21):\n",
    "        model = RandomForestClassifier(random_state=12345, n_estimators=est, max_depth=depth)\n",
    "        model.fit(features_upsampled, target_upsampled)\n",
    "        predictions = model.predict(features_valid)\n",
    "        probabilities_valid = model.predict_proba(features_valid)\n",
    "\n",
    "        accuracy = accuracy_score(target_valid, predictions)\n",
    "        f1 = f1_score(target_valid, predictions)\n",
    "        roc_auc = roc_auc_score(target_valid, probabilities_valid[:,1])\n",
    "        Rf_results.append({'Model': model.__class__.__name__, \n",
    "                           'Hyperparameters': {'n_estimators': est, \n",
    "                                              'max_depth': depth},\n",
    "                           'Accuracy': accuracy, \n",
    "                           'F1 score': f1, \n",
    "                           'ROC AUC score': roc_auc})\n"
   ]
  },
  {
   "cell_type": "code",
   "execution_count": 34,
   "metadata": {},
   "outputs": [
    {
     "data": {
      "text/html": [
       "<div>\n",
       "<style scoped>\n",
       "    .dataframe tbody tr th:only-of-type {\n",
       "        vertical-align: middle;\n",
       "    }\n",
       "\n",
       "    .dataframe tbody tr th {\n",
       "        vertical-align: top;\n",
       "    }\n",
       "\n",
       "    .dataframe thead th {\n",
       "        text-align: right;\n",
       "    }\n",
       "</style>\n",
       "<table border=\"1\" class=\"dataframe\">\n",
       "  <thead>\n",
       "    <tr style=\"text-align: right;\">\n",
       "      <th></th>\n",
       "      <th>Model</th>\n",
       "      <th>Hyperparameters</th>\n",
       "      <th>Accuracy</th>\n",
       "      <th>F1 score</th>\n",
       "      <th>ROC AUC score</th>\n",
       "    </tr>\n",
       "  </thead>\n",
       "  <tbody>\n",
       "    <tr>\n",
       "      <th>110</th>\n",
       "      <td>RandomForestClassifier</td>\n",
       "      <td>{'n_estimators': 60, 'max_depth': 11}</td>\n",
       "      <td>0.846</td>\n",
       "      <td>0.646789</td>\n",
       "      <td>0.871108</td>\n",
       "    </tr>\n",
       "  </tbody>\n",
       "</table>\n",
       "</div>"
      ],
      "text/plain": [
       "                      Model                        Hyperparameters  Accuracy  \\\n",
       "110  RandomForestClassifier  {'n_estimators': 60, 'max_depth': 11}     0.846   \n",
       "\n",
       "     F1 score  ROC AUC score  \n",
       "110  0.646789       0.871108  "
      ]
     },
     "execution_count": 34,
     "metadata": {},
     "output_type": "execute_result"
    }
   ],
   "source": [
    "Rf_best_f1 = pd.DataFrame(Rf_results)\n",
    "Rf_best_f1[Rf_best_f1['F1 score'] == Rf_best_f1['F1 score'].max()]"
   ]
  },
  {
   "cell_type": "markdown",
   "metadata": {},
   "source": [
    "Наилучший случайный лес с гиперпараметрами n_estimators = 60, max_depth = 11"
   ]
  },
  {
   "cell_type": "markdown",
   "metadata": {},
   "source": [
    "### Вывод"
   ]
  },
  {
   "cell_type": "markdown",
   "metadata": {},
   "source": [
    "Наилучшим методом исправления дисбаланса классов оказался **upsampling**.\n",
    "\n",
    "#### Логистическая регрессия\n",
    "Наилучшими гиперпараметрами для _логистической регрессии_ оказались solver = 'liblinear', penalty = 'l1'.\n",
    "F1_score - **0.524**\n",
    "\n",
    "#### Дерево решений\n",
    "Наилучшими гиперпараметрами для _дерева решений_ оказались criterion = 'entropy', max_depth = 8.\n",
    "F1_score - **0.588**\n",
    "\n",
    "\n",
    "#### Случайный лес\n",
    "Наилучшими гиперпараметрами для _случайного леса_ оказались n_estimators = 60, max_depth = 11\n",
    "F1_score - **0.646**\n"
   ]
  },
  {
   "cell_type": "markdown",
   "metadata": {},
   "source": [
    "### 3.5. Тестирование модели. <a name=\"3.5.\"></a>  \n",
    "[к содержанию](#0.0)"
   ]
  },
  {
   "cell_type": "markdown",
   "metadata": {},
   "source": [
    "Протестируем лучшую модель - Случайный лес с гиперпараметрами n_estimators = 60, max_depth = 11, обученный на сбалансированной методом upsampling выборке."
   ]
  },
  {
   "cell_type": "code",
   "execution_count": 35,
   "metadata": {},
   "outputs": [
    {
     "name": "stdout",
     "output_type": "stream",
     "text": [
      "F1_score на тесте: 0.5927654609101517\n",
      "roc_auc на тесте: 0.8505408335916811\n",
      "accuracy на тесте: 0.8255\n"
     ]
    }
   ],
   "source": [
    "model = RandomForestClassifier(random_state=12345, n_estimators=60, max_depth=11)\n",
    "model.fit(features_upsampled, target_upsampled)\n",
    "predictions = model.predict(features_test)\n",
    "probabilities_test = model.predict_proba(features_test)\n",
    "\n",
    "accuracy = accuracy_score(target_test, predictions)\n",
    "f1 = f1_score(target_test, predictions)\n",
    "roc_auc = roc_auc_score(target_test, probabilities_test[:,1])\n",
    "\n",
    "print('F1_score на тесте:', f1)\n",
    "print('roc_auc на тесте:', roc_auc)\n",
    "print('accuracy на тесте:', accuracy)"
   ]
  },
  {
   "cell_type": "markdown",
   "metadata": {},
   "source": [
    "Построим график  ROC - кривой"
   ]
  },
  {
   "cell_type": "code",
   "execution_count": 36,
   "metadata": {},
   "outputs": [
    {
     "data": {
      "image/png": "[encoded data removed]",
      "text/plain": [
       "<Figure size 432x288 with 1 Axes>"
      ]
     },
     "metadata": {
      "needs_background": "light"
     },
     "output_type": "display_data"
    },
    {
     "name": "stdout",
     "output_type": "stream",
     "text": [
      "\n"
     ]
    }
   ],
   "source": [
    "probabilities_one_valid = probabilities_test[:, 1]\n",
    "fpr, tpr, thresholds = roc_curve(target_test, probabilities_one_valid) \n",
    "plt.figure()\n",
    "plt.plot(fpr, tpr)\n",
    "plt.plot([0, 1], [0, 1], linestyle='--')\n",
    "plt.xlim([0.0, 1.0])\n",
    "plt.ylim([0.0, 1.0])\n",
    "plt.xlabel('False Positive Rate')\n",
    "plt.ylabel('True Positive Rate')\n",
    "plt.title('ROC-кривая')\n",
    "plt.show() \n",
    "print()"
   ]
  },
  {
   "cell_type": "markdown",
   "metadata": {},
   "source": [
    "### Вывод"
   ]
  },
  {
   "cell_type": "markdown",
   "metadata": {},
   "source": [
    "Наилучшим методом исправления дисбаланса классов оказался upsampling. Наилуйшая модель - случайный лес с гиперпараметрами n_estimators = 60, max_depth = 11. Проверка модели на тестовой выборке показала попадание в целевой результат F1-score **59%**."
   ]
  }
 ],
 "metadata": {
  "kernelspec": {
   "display_name": "Python 3",
   "language": "python",
   "name": "python3"
  },
  "language_info": {
   "codemirror_mode": {
    "name": "ipython",
    "version": 3
   },
   "file_extension": ".py",
   "mimetype": "text/x-python",
   "name": "python",
   "nbconvert_exporter": "python",
   "pygments_lexer": "ipython3",
   "version": "3.8.5"
  },
  "toc": {
   "base_numbering": 1,
   "nav_menu": {},
   "number_sections": true,
   "sideBar": true,
   "skip_h1_title": true,
   "title_cell": "Table of Contents",
   "title_sidebar": "Contents",
   "toc_cell": false,
   "toc_position": {},
   "toc_section_display": true,
   "toc_window_display": false
  }
 },
 "nbformat": 4,
 "nbformat_minor": 4
}

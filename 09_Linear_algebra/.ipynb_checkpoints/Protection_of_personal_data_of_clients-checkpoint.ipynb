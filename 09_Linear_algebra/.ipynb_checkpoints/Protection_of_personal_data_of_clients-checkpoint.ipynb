{
 "cells": [
  {
   "cell_type": "markdown",
   "metadata": {},
   "source": [
    "# Защита персональных данных клиентов"
   ]
  },
  {
   "cell_type": "markdown",
   "metadata": {},
   "source": [
    "Вам нужно защитить данные клиентов страховой компании «Хоть потоп». Разработайте такой метод преобразования данных, чтобы по ним было сложно восстановить персональную информацию. Обоснуйте корректность его работы.\n",
    "\n",
    "Нужно защитить данные, чтобы при преобразовании качество моделей машинного обучения не ухудшилось. Подбирать наилучшую модель не требуется."
   ]
  },
  {
   "cell_type": "markdown",
   "metadata": {},
   "source": [
    "## <a id=\"0.0\"></a> Содержание"
   ]
  },
  {
   "cell_type": "markdown",
   "metadata": {},
   "source": [
    "* [1. Загрузка данных](#1.)\n",
    "    * [1.1. Знакомство с данными, предобработка](#1.1.)\n",
    "    * [1.2. Анализ данных](#1.2.)\n",
    "* [2. Ответ на вопрос об умножении матриц](#2.)\n",
    "* [3. Алгоритм преобразования](#3.)\n",
    "* [4. Проверка алгоритма](#4.)\n",
    "    * [4.1. Преобразование признаков](#4.1.)\n",
    "    * [4.2. Обучение моделей, проверка качества](#4.2.)"
   ]
  },
  {
   "cell_type": "markdown",
   "metadata": {},
   "source": [
    "## 1. Загрузка данных <a id=\"1.\"></a>\n",
    "### 1.1. Знакомство с данными, предобработка <a id=\"1.1.\"></a>\n",
    "[к содержанию](#0.0)"
   ]
  },
  {
   "cell_type": "code",
   "execution_count": 18,
   "metadata": {},
   "outputs": [],
   "source": [
    "import pandas as pd\n",
    "import numpy as np\n",
    "import seaborn as sns\n",
    "import matplotlib.pyplot as plt\n",
    "import warnings\n",
    "warnings.filterwarnings(\"ignore\")\n",
    "from sklearn.datasets import make_spd_matrix\n",
    "from sklearn.linear_model import LinearRegression\n",
    "from sklearn.metrics import r2_score\n",
    "from sklearn.model_selection import train_test_split"
   ]
  },
  {
   "cell_type": "code",
   "execution_count": 19,
   "metadata": {},
   "outputs": [],
   "source": [
    "df = pd.read_csv('insurance.csv')"
   ]
  },
  {
   "cell_type": "code",
   "execution_count": 20,
   "metadata": {},
   "outputs": [
    {
     "data": {
      "text/html": [
       "<div>\n",
       "<style scoped>\n",
       "    .dataframe tbody tr th:only-of-type {\n",
       "        vertical-align: middle;\n",
       "    }\n",
       "\n",
       "    .dataframe tbody tr th {\n",
       "        vertical-align: top;\n",
       "    }\n",
       "\n",
       "    .dataframe thead th {\n",
       "        text-align: right;\n",
       "    }\n",
       "</style>\n",
       "<table border=\"1\" class=\"dataframe\">\n",
       "  <thead>\n",
       "    <tr style=\"text-align: right;\">\n",
       "      <th></th>\n",
       "      <th>Пол</th>\n",
       "      <th>Возраст</th>\n",
       "      <th>Зарплата</th>\n",
       "      <th>Члены семьи</th>\n",
       "      <th>Страховые выплаты</th>\n",
       "    </tr>\n",
       "  </thead>\n",
       "  <tbody>\n",
       "    <tr>\n",
       "      <th>0</th>\n",
       "      <td>1</td>\n",
       "      <td>41.0</td>\n",
       "      <td>49600.0</td>\n",
       "      <td>1</td>\n",
       "      <td>0</td>\n",
       "    </tr>\n",
       "    <tr>\n",
       "      <th>1</th>\n",
       "      <td>0</td>\n",
       "      <td>46.0</td>\n",
       "      <td>38000.0</td>\n",
       "      <td>1</td>\n",
       "      <td>1</td>\n",
       "    </tr>\n",
       "    <tr>\n",
       "      <th>2</th>\n",
       "      <td>0</td>\n",
       "      <td>29.0</td>\n",
       "      <td>21000.0</td>\n",
       "      <td>0</td>\n",
       "      <td>0</td>\n",
       "    </tr>\n",
       "    <tr>\n",
       "      <th>3</th>\n",
       "      <td>0</td>\n",
       "      <td>21.0</td>\n",
       "      <td>41700.0</td>\n",
       "      <td>2</td>\n",
       "      <td>0</td>\n",
       "    </tr>\n",
       "    <tr>\n",
       "      <th>4</th>\n",
       "      <td>1</td>\n",
       "      <td>28.0</td>\n",
       "      <td>26100.0</td>\n",
       "      <td>0</td>\n",
       "      <td>0</td>\n",
       "    </tr>\n",
       "  </tbody>\n",
       "</table>\n",
       "</div>"
      ],
      "text/plain": [
       "   Пол  Возраст  Зарплата  Члены семьи  Страховые выплаты\n",
       "0    1     41.0   49600.0            1                  0\n",
       "1    0     46.0   38000.0            1                  1\n",
       "2    0     29.0   21000.0            0                  0\n",
       "3    0     21.0   41700.0            2                  0\n",
       "4    1     28.0   26100.0            0                  0"
      ]
     },
     "execution_count": 20,
     "metadata": {},
     "output_type": "execute_result"
    }
   ],
   "source": [
    "df.head()"
   ]
  },
  {
   "cell_type": "code",
   "execution_count": 21,
   "metadata": {},
   "outputs": [
    {
     "name": "stdout",
     "output_type": "stream",
     "text": [
      "<class 'pandas.core.frame.DataFrame'>\n",
      "RangeIndex: 5000 entries, 0 to 4999\n",
      "Data columns (total 5 columns):\n",
      " #   Column             Non-Null Count  Dtype  \n",
      "---  ------             --------------  -----  \n",
      " 0   Пол                5000 non-null   int64  \n",
      " 1   Возраст            5000 non-null   float64\n",
      " 2   Зарплата           5000 non-null   float64\n",
      " 3   Члены семьи        5000 non-null   int64  \n",
      " 4   Страховые выплаты  5000 non-null   int64  \n",
      "dtypes: float64(2), int64(3)\n",
      "memory usage: 195.4 KB\n"
     ]
    }
   ],
   "source": [
    "df.info()"
   ]
  },
  {
   "cell_type": "code",
   "execution_count": 22,
   "metadata": {},
   "outputs": [
    {
     "data": {
      "text/plain": [
       "(5000, 5)"
      ]
     },
     "execution_count": 22,
     "metadata": {},
     "output_type": "execute_result"
    }
   ],
   "source": [
    "df.shape"
   ]
  },
  {
   "cell_type": "code",
   "execution_count": 23,
   "metadata": {},
   "outputs": [
    {
     "data": {
      "text/html": [
       "<div>\n",
       "<style scoped>\n",
       "    .dataframe tbody tr th:only-of-type {\n",
       "        vertical-align: middle;\n",
       "    }\n",
       "\n",
       "    .dataframe tbody tr th {\n",
       "        vertical-align: top;\n",
       "    }\n",
       "\n",
       "    .dataframe thead th {\n",
       "        text-align: right;\n",
       "    }\n",
       "</style>\n",
       "<table border=\"1\" class=\"dataframe\">\n",
       "  <thead>\n",
       "    <tr style=\"text-align: right;\">\n",
       "      <th></th>\n",
       "      <th>Пол</th>\n",
       "      <th>Возраст</th>\n",
       "      <th>Зарплата</th>\n",
       "      <th>Члены семьи</th>\n",
       "      <th>Страховые выплаты</th>\n",
       "    </tr>\n",
       "  </thead>\n",
       "  <tbody>\n",
       "    <tr>\n",
       "      <th>count</th>\n",
       "      <td>5000.000000</td>\n",
       "      <td>5000.000000</td>\n",
       "      <td>5000.000000</td>\n",
       "      <td>5000.000000</td>\n",
       "      <td>5000.000000</td>\n",
       "    </tr>\n",
       "    <tr>\n",
       "      <th>mean</th>\n",
       "      <td>0.499000</td>\n",
       "      <td>30.952800</td>\n",
       "      <td>39916.360000</td>\n",
       "      <td>1.194200</td>\n",
       "      <td>0.148000</td>\n",
       "    </tr>\n",
       "    <tr>\n",
       "      <th>std</th>\n",
       "      <td>0.500049</td>\n",
       "      <td>8.440807</td>\n",
       "      <td>9900.083569</td>\n",
       "      <td>1.091387</td>\n",
       "      <td>0.463183</td>\n",
       "    </tr>\n",
       "    <tr>\n",
       "      <th>min</th>\n",
       "      <td>0.000000</td>\n",
       "      <td>18.000000</td>\n",
       "      <td>5300.000000</td>\n",
       "      <td>0.000000</td>\n",
       "      <td>0.000000</td>\n",
       "    </tr>\n",
       "    <tr>\n",
       "      <th>25%</th>\n",
       "      <td>0.000000</td>\n",
       "      <td>24.000000</td>\n",
       "      <td>33300.000000</td>\n",
       "      <td>0.000000</td>\n",
       "      <td>0.000000</td>\n",
       "    </tr>\n",
       "    <tr>\n",
       "      <th>50%</th>\n",
       "      <td>0.000000</td>\n",
       "      <td>30.000000</td>\n",
       "      <td>40200.000000</td>\n",
       "      <td>1.000000</td>\n",
       "      <td>0.000000</td>\n",
       "    </tr>\n",
       "    <tr>\n",
       "      <th>75%</th>\n",
       "      <td>1.000000</td>\n",
       "      <td>37.000000</td>\n",
       "      <td>46600.000000</td>\n",
       "      <td>2.000000</td>\n",
       "      <td>0.000000</td>\n",
       "    </tr>\n",
       "    <tr>\n",
       "      <th>max</th>\n",
       "      <td>1.000000</td>\n",
       "      <td>65.000000</td>\n",
       "      <td>79000.000000</td>\n",
       "      <td>6.000000</td>\n",
       "      <td>5.000000</td>\n",
       "    </tr>\n",
       "  </tbody>\n",
       "</table>\n",
       "</div>"
      ],
      "text/plain": [
       "               Пол      Возраст      Зарплата  Члены семьи  Страховые выплаты\n",
       "count  5000.000000  5000.000000   5000.000000  5000.000000        5000.000000\n",
       "mean      0.499000    30.952800  39916.360000     1.194200           0.148000\n",
       "std       0.500049     8.440807   9900.083569     1.091387           0.463183\n",
       "min       0.000000    18.000000   5300.000000     0.000000           0.000000\n",
       "25%       0.000000    24.000000  33300.000000     0.000000           0.000000\n",
       "50%       0.000000    30.000000  40200.000000     1.000000           0.000000\n",
       "75%       1.000000    37.000000  46600.000000     2.000000           0.000000\n",
       "max       1.000000    65.000000  79000.000000     6.000000           5.000000"
      ]
     },
     "execution_count": 23,
     "metadata": {},
     "output_type": "execute_result"
    }
   ],
   "source": [
    "df.describe()"
   ]
  },
  {
   "cell_type": "markdown",
   "metadata": {},
   "source": [
    "Заменим тип данных в поле с возрастом и зарплатой на целочисленный"
   ]
  },
  {
   "cell_type": "code",
   "execution_count": 24,
   "metadata": {},
   "outputs": [],
   "source": [
    "df[['Возраст', 'Зарплата']] = df[['Возраст', 'Зарплата']].astype(int)"
   ]
  },
  {
   "cell_type": "markdown",
   "metadata": {},
   "source": [
    "Проверим данные на полные дубликаты"
   ]
  },
  {
   "cell_type": "code",
   "execution_count": 25,
   "metadata": {},
   "outputs": [
    {
     "name": "stdout",
     "output_type": "stream",
     "text": [
      "Процент дубликатов: 3.06%\n"
     ]
    }
   ],
   "source": [
    "print('Процент дубликатов: {:.2%}'.format(df.duplicated().sum() / df.shape[0]))"
   ]
  },
  {
   "cell_type": "markdown",
   "metadata": {},
   "source": [
    "В данном случае у клиентов нет уникальных id, остальные признаки могут просто совпадать у разных клиентов. Таким образом, нет однозначных оснований для их удаления."
   ]
  },
  {
   "cell_type": "markdown",
   "metadata": {},
   "source": [
    "### Вывод"
   ]
  },
  {
   "cell_type": "markdown",
   "metadata": {},
   "source": [
    "Данные представляют собой информацию о клиента страховой компании, можно отметить следующее:\n",
    "* датасет содержит 5000 строк и 5 столбцов;\n",
    "* все поля количественные, 4 признака и 1 целевой признак - Страховые выплаты;\n",
    "* пропущенные значения отсутствуют, аномально высокие или аномально низкие значения тоже.\n",
    "* в данных присутствует 3.06% полных дубликатов, но так как у клиентов нет уникальных id, признаки просто могут совпадать у разных клиентов, они не были удалены."
   ]
  },
  {
   "cell_type": "markdown",
   "metadata": {},
   "source": [
    "### 1.2. Анализ данных <a id=\"1.2.\"></a>\n",
    "[к содержанию](#0.0)"
   ]
  },
  {
   "cell_type": "markdown",
   "metadata": {},
   "source": [
    "Посмотрим подробнее на данные"
   ]
  },
  {
   "cell_type": "code",
   "execution_count": 26,
   "metadata": {},
   "outputs": [
    {
     "data": {
      "image/png": "[encoded data removed]",
      "text/plain": [
       "<Figure size 432x288 with 1 Axes>"
      ]
     },
     "metadata": {
      "needs_background": "light"
     },
     "output_type": "display_data"
    }
   ],
   "source": [
    "age_values = df['Пол'].value_counts().to_frame().reset_index().rename(columns={'index':'Пол',\n",
    "                                                                'Пол':'Кол-во'})\n",
    "sns.barplot(data = age_values, x='Пол', y='Кол-во') \n",
    "plt.title('Распределение клиентов по полу')\n",
    "plt.show()"
   ]
  },
  {
   "cell_type": "markdown",
   "metadata": {},
   "source": [
    "Видно, что мужчин и женщин в данных почти одинаковое к-во."
   ]
  },
  {
   "cell_type": "code",
   "execution_count": 27,
   "metadata": {},
   "outputs": [
    {
     "data": {
      "image/png": "[encoded data removed]",
      "text/plain": [
       "<Figure size 1152x432 with 1 Axes>"
      ]
     },
     "metadata": {
      "needs_background": "light"
     },
     "output_type": "display_data"
    },
    {
     "data": {
      "text/plain": [
       "count    5000.000000\n",
       "mean       30.952800\n",
       "std         8.440807\n",
       "min        18.000000\n",
       "25%        24.000000\n",
       "50%        30.000000\n",
       "75%        37.000000\n",
       "max        65.000000\n",
       "Name: Возраст, dtype: float64"
      ]
     },
     "execution_count": 27,
     "metadata": {},
     "output_type": "execute_result"
    }
   ],
   "source": [
    "color=sns.color_palette(\"Paired\")[1]\n",
    "age_values = df['Возраст'].value_counts().to_frame().reset_index().rename(columns={'index':'Возраст',\n",
    "                                                                                   'Возраст':'Кол-во'})\n",
    "plt.figure(figsize=(16,6))\n",
    "sns.barplot(data = age_values, x='Возраст', y='Кол-во', color=color)\n",
    "plt.title('Распределение клиентов по возрасту')\n",
    "plt.show()\n",
    "df['Возраст'].describe()"
   ]
  },
  {
   "cell_type": "markdown",
   "metadata": {},
   "source": [
    "Средний возраст клиентов 31 год, большая часть обратившихся в страховую - клиенты то 18 до 42 лет."
   ]
  },
  {
   "cell_type": "code",
   "execution_count": 28,
   "metadata": {},
   "outputs": [
    {
     "data": {
      "image/png": "[encoded data removed]",
      "text/plain": [
       "<Figure size 360x360 with 1 Axes>"
      ]
     },
     "metadata": {
      "needs_background": "light"
     },
     "output_type": "display_data"
    },
    {
     "data": {
      "text/plain": [
       "count     5000.000000\n",
       "mean     39916.359400\n",
       "std       9900.082063\n",
       "min       5300.000000\n",
       "25%      33300.000000\n",
       "50%      40200.000000\n",
       "75%      46600.000000\n",
       "max      79000.000000\n",
       "Name: Зарплата, dtype: float64"
      ]
     },
     "execution_count": 28,
     "metadata": {},
     "output_type": "execute_result"
    }
   ],
   "source": [
    "sns.displot(df['Зарплата'])\n",
    "plt.title('Распределение клиентов по зарплатам')\n",
    "plt.show()\n",
    "df['Зарплата'].describe()"
   ]
  },
  {
   "cell_type": "markdown",
   "metadata": {},
   "source": [
    "Средняя зарплата клиентов составляет 39916 рублей. Чаще всего клиенты зарабатывают от 33300 до 46600."
   ]
  },
  {
   "cell_type": "code",
   "execution_count": 29,
   "metadata": {},
   "outputs": [
    {
     "data": {
      "image/png": "[encoded data removed]",
      "text/plain": [
       "<Figure size 360x360 with 1 Axes>"
      ]
     },
     "metadata": {
      "needs_background": "light"
     },
     "output_type": "display_data"
    },
    {
     "data": {
      "text/plain": [
       "count    5000.000000\n",
       "mean        1.194200\n",
       "std         1.091387\n",
       "min         0.000000\n",
       "25%         0.000000\n",
       "50%         1.000000\n",
       "75%         2.000000\n",
       "max         6.000000\n",
       "Name: Члены семьи, dtype: float64"
      ]
     },
     "execution_count": 29,
     "metadata": {},
     "output_type": "execute_result"
    }
   ],
   "source": [
    "sns.displot(df['Члены семьи'], bins=6)\n",
    "plt.title('Распределение клиентов по членам семьи')\n",
    "plt.show()\n",
    "df['Члены семьи'].describe()"
   ]
  },
  {
   "cell_type": "markdown",
   "metadata": {},
   "source": [
    "Чаще всего клиенты имеют одного родственника или не имеют совсем, реже 2 и более."
   ]
  },
  {
   "cell_type": "code",
   "execution_count": 30,
   "metadata": {},
   "outputs": [
    {
     "data": {
      "image/png": "[encoded data removed]",
      "text/plain": [
       "<Figure size 360x360 with 1 Axes>"
      ]
     },
     "metadata": {
      "needs_background": "light"
     },
     "output_type": "display_data"
    },
    {
     "data": {
      "text/html": [
       "<div>\n",
       "<style scoped>\n",
       "    .dataframe tbody tr th:only-of-type {\n",
       "        vertical-align: middle;\n",
       "    }\n",
       "\n",
       "    .dataframe tbody tr th {\n",
       "        vertical-align: top;\n",
       "    }\n",
       "\n",
       "    .dataframe thead th {\n",
       "        text-align: right;\n",
       "    }\n",
       "</style>\n",
       "<table border=\"1\" class=\"dataframe\">\n",
       "  <thead>\n",
       "    <tr style=\"text-align: right;\">\n",
       "      <th></th>\n",
       "      <th>К-во обращений</th>\n",
       "      <th>Процент клиентов</th>\n",
       "    </tr>\n",
       "  </thead>\n",
       "  <tbody>\n",
       "    <tr>\n",
       "      <th>0</th>\n",
       "      <td>0</td>\n",
       "      <td>0.8872</td>\n",
       "    </tr>\n",
       "    <tr>\n",
       "      <th>1</th>\n",
       "      <td>1</td>\n",
       "      <td>0.0846</td>\n",
       "    </tr>\n",
       "    <tr>\n",
       "      <th>2</th>\n",
       "      <td>2</td>\n",
       "      <td>0.0230</td>\n",
       "    </tr>\n",
       "    <tr>\n",
       "      <th>3</th>\n",
       "      <td>3</td>\n",
       "      <td>0.0036</td>\n",
       "    </tr>\n",
       "    <tr>\n",
       "      <th>4</th>\n",
       "      <td>4</td>\n",
       "      <td>0.0014</td>\n",
       "    </tr>\n",
       "    <tr>\n",
       "      <th>5</th>\n",
       "      <td>5</td>\n",
       "      <td>0.0002</td>\n",
       "    </tr>\n",
       "  </tbody>\n",
       "</table>\n",
       "</div>"
      ],
      "text/plain": [
       "   К-во обращений  Процент клиентов\n",
       "0               0            0.8872\n",
       "1               1            0.0846\n",
       "2               2            0.0230\n",
       "3               3            0.0036\n",
       "4               4            0.0014\n",
       "5               5            0.0002"
      ]
     },
     "execution_count": 30,
     "metadata": {},
     "output_type": "execute_result"
    }
   ],
   "source": [
    "sns.displot(df['Страховые выплаты'], bins=5)\n",
    "plt.title('Распределение клиентов по страховым выплатам')\n",
    "plt.show()\n",
    "df['Страховые выплаты'].value_counts(normalize=True).to_frame().\\\n",
    "    reset_index().rename(columns={'index':'К-во обращений','Страховые выплаты':'Процент клиентов'})"
   ]
  },
  {
   "cell_type": "markdown",
   "metadata": {},
   "source": [
    "Большая часть клиентов не обращается за выплатами, всего 8.46% обращаются только 1 раз, еще 2.3% обращаются дважды"
   ]
  },
  {
   "cell_type": "markdown",
   "metadata": {},
   "source": [
    "Посмотрим корреляцию признаков"
   ]
  },
  {
   "cell_type": "code",
   "execution_count": 31,
   "metadata": {},
   "outputs": [
    {
     "data": {
      "image/png": "[encoded data removed]",
      "text/plain": [
       "<Figure size 432x288 with 2 Axes>"
      ]
     },
     "metadata": {
      "needs_background": "light"
     },
     "output_type": "display_data"
    }
   ],
   "source": [
    "sns.heatmap(df.corr(), cmap='Blues', annot = True)\n",
    "plt.title('Корреляция признаков')\n",
    "plt.show()"
   ]
  },
  {
   "cell_type": "markdown",
   "metadata": {},
   "source": [
    "Можно отметить прямую корреляцию 0.65 у возраста клиента и количества страховых выплат. "
   ]
  },
  {
   "cell_type": "markdown",
   "metadata": {},
   "source": [
    "### Вывод"
   ]
  },
  {
   "cell_type": "markdown",
   "metadata": {},
   "source": [
    "Проанализировав данные можно отметить:\n",
    "* мужчин и женин в данных почти одинаковое к-во;\n",
    "* cредний возраст клиентов 31 год, большая часть обратившихся в страховую - клиенты то 18 до 42 лет;\n",
    "* cредняя зарплата клиентов составляет 39916 рублей. Чаще всего клиенты зарабатывают от 33300 до 46600;\n",
    "* чаще всего клиенты имеют одного родственника или не имеют совсем, реже 2 и более;\n",
    "* большая часть клиентов не обращается за выплатами, всего 8.46% обращаются только 1 раз, еще 2.3% обращаются дважды;\n",
    "* можно отметить прямую корреляцию 0.65 у возраста клиента и количества страховых выплат."
   ]
  },
  {
   "cell_type": "markdown",
   "metadata": {},
   "source": [
    "## 2. Ответ на вопрос об умножении матриц <a id=\"2.\"></a>\n",
    "[к содержанию](#0.0)"
   ]
  },
  {
   "cell_type": "markdown",
   "metadata": {},
   "source": [
    "***Ответим на вопрос и обоснуем решение.  \n",
    "Признаки умножают на обратимую матрицу. Изменится ли качество линейной регрессии?***"
   ]
  },
  {
   "cell_type": "markdown",
   "metadata": {},
   "source": [
    "Обозначения:\n",
    "\n",
    "- $X$ — матрица признаков (нулевой столбец состоит из единиц)\n",
    "\n",
    "- $y$ — вектор целевого признака\n",
    "\n",
    "- $P$ — матрица, на которую умножаются признаки\n",
    "\n",
    "- $w$ — вектор весов линейной регрессии (нулевой элемент равен сдвигу)\n",
    "\n",
    "- $Е$ — единичная матрица "
   ]
  },
  {
   "cell_type": "markdown",
   "metadata": {},
   "source": [
    "Предсказания:\n",
    "\n",
    "$$\n",
    "a = Xw\n",
    "$$\n",
    "\n",
    "Задача обучения:\n",
    "\n",
    "$$\n",
    "w = \\arg\\min_w MSE(Xw, y)\n",
    "$$\n",
    "\n",
    "Формула обучения:\n",
    "\n",
    "$$\n",
    "w = (X^T X)^{-1} X^T y\n",
    "$$"
   ]
  },
  {
   "cell_type": "markdown",
   "metadata": {},
   "source": [
    "**Ответ:** Не изменится\n",
    "\n",
    "**Обоснование:** \n",
    "\n",
    "Новая матрица признаков:\n",
    "\n",
    "$$X' = XP$$\n",
    "\n",
    "Таким образом новый вектор весов $w'$ можем расчитать следующим образом:\n",
    "\n",
    "$$\n",
    "w' = ((XP)^{T} XP)^{-1} (XP)^{T} y = \\\\ \n",
    "     = (P^{T}X^{T} XP)^{-1}P^{T}X^{T}y  = \\\\ \n",
    "     = P^{-1} (X^{T} X)^{-1} (P^{T})^{-1} P^{T}X^{T}y = \\\\ \n",
    "     = P^{-1} w\n",
    "$$ \n",
    "     \n",
    "Так как внутри формулы можно выделить формулу расчета $w$, а\n",
    "\n",
    "$$(P^{T})^{-1} P^{T} = Е = 1$$\n",
    "\n",
    "\n",
    "Таким образом:\n",
    "\n",
    "$$ a' = X'w' = XPP^{-1}w = XEw = Xw= a $$\n",
    "\n",
    "Если любую матрицу Р умножить на единичную (или наоборот), получится эта же матрица Р. Таким образом, матрицы будут одинаковыми, а качество линейной регрессии не изменится.\n"
   ]
  },
  {
   "cell_type": "markdown",
   "metadata": {},
   "source": [
    "### Вывод"
   ]
  },
  {
   "cell_type": "markdown",
   "metadata": {},
   "source": [
    "При умножении признаков на обратимую матрицу качество линейной регрессии не изменится."
   ]
  },
  {
   "cell_type": "markdown",
   "metadata": {},
   "source": [
    "## 3. Алгоритм преобразования <a id=\"3.\"></a>\n",
    "[к содержанию](#0.0)"
   ]
  },
  {
   "cell_type": "markdown",
   "metadata": {},
   "source": [
    "Предложим алгоритм преобразования данных для решения задачи. Обоснуем, почему качество линейной регрессии не поменяется."
   ]
  },
  {
   "cell_type": "markdown",
   "metadata": {},
   "source": [
    "1) методом *make_spd_matrix* создаем случайную матрицу A\n",
    "\n",
    "2) методом *np.linalg.inv()* проверяем матрицу А на обратимость и получаем $А^{-1}$. Если матрица А провалила тест на обратимость, создадим новую случайную матрицу. \n",
    "\n",
    "Поскольку нам надо закодировать данные клиентов, матрица А будет ключом кодирования. \n",
    "\n",
    "3) умножаем матрицу признаков X на полученную матрицу А и получаем матрицу B с закодированными данными о клиентах:\n",
    "\n",
    "$$ B = X @ A $$\n",
    "\n",
    "После этого можно переходить к обучению модели линейной регрессии. \n",
    "\n",
    "\n",
    "**Обоснование**\n",
    "\n",
    "Такой алгоритм позволит защитить персональную информацию клиентов и при этом не должен повлиять на работу модели (ранее уже отмечалось, что качество модели не изменится, если матрицу признаков умножать на обратимую модель)."
   ]
  },
  {
   "cell_type": "markdown",
   "metadata": {},
   "source": [
    "## 4. Проверка алгоритма <a id=\"4.\"></a>\n",
    "## 4.1. Преобразование признаков <a id=\"4.\"></a>\n",
    "[к содержанию](#0.0)"
   ]
  },
  {
   "cell_type": "markdown",
   "metadata": {},
   "source": [
    "Созданим матрицу признаков."
   ]
  },
  {
   "cell_type": "code",
   "execution_count": 32,
   "metadata": {},
   "outputs": [
    {
     "data": {
      "text/plain": [
       "array([[    1,    41, 49600,     1],\n",
       "       [    0,    46, 38000,     1],\n",
       "       [    0,    29, 21000,     0],\n",
       "       ...,\n",
       "       [    0,    20, 33900,     2],\n",
       "       [    1,    22, 32700,     3],\n",
       "       [    1,    28, 40600,     1]])"
      ]
     },
     "execution_count": 32,
     "metadata": {},
     "output_type": "execute_result"
    }
   ],
   "source": [
    "# удалим значение целевого признака\n",
    "features = df.drop(['Страховые выплаты'], axis=1)\n",
    "\n",
    "# запишем матрицу в переменную, взяв значения датафрейма\n",
    "features_matrix = features.values\n",
    "features_matrix"
   ]
  },
  {
   "cell_type": "markdown",
   "metadata": {},
   "source": [
    "Создадим случайную матрицу и проверим её на обратимость."
   ]
  },
  {
   "cell_type": "code",
   "execution_count": 33,
   "metadata": {},
   "outputs": [
    {
     "data": {
      "text/plain": [
       "array([[ 2.97675307,  0.09601407, -0.43363796,  1.63149048],\n",
       "       [ 0.09601407,  1.02415391, -1.2595126 ,  0.57122764],\n",
       "       [-0.43363796, -1.2595126 ,  2.39108163, -0.46226306],\n",
       "       [ 1.63149048,  0.57122764, -0.46226306,  4.18355526]])"
      ]
     },
     "execution_count": 33,
     "metadata": {},
     "output_type": "execute_result"
    }
   ],
   "source": [
    "# создадим матрицу\n",
    "random_matrix = make_spd_matrix(n_dim=4, random_state=123)\n",
    "\n",
    "# проверим на обратимость \n",
    "np.linalg.inv(random_matrix)"
   ]
  },
  {
   "cell_type": "markdown",
   "metadata": {},
   "source": [
    "Матрица обратима, умножим значения исходной матрицы на случайную матрицу."
   ]
  },
  {
   "cell_type": "code",
   "execution_count": 34,
   "metadata": {},
   "outputs": [],
   "source": [
    "new_matrix = features_matrix @ random_matrix"
   ]
  },
  {
   "cell_type": "markdown",
   "metadata": {},
   "source": [
    "## 4.2. Обучение моделей, проверка качества <a id=\"4.2.\"></a>\n",
    "[к содержанию](#0.0)"
   ]
  },
  {
   "cell_type": "markdown",
   "metadata": {},
   "source": [
    "Проверим качество модели линейной регресси до умножения на случайную матрицу и после.\n",
    "Для начала обучим модель на исходных данных."
   ]
  },
  {
   "cell_type": "code",
   "execution_count": 35,
   "metadata": {},
   "outputs": [],
   "source": [
    "# Запишем целевой признак в переменную\n",
    "target = df['Страховые выплаты']\n",
    "\n",
    "# Разделим данные на выборки\n",
    "features_train, features_valid, target_train, target_valid = train_test_split(\n",
    "    features, \n",
    "    target, \n",
    "    train_size=0.75,\n",
    "    test_size=0.25, \n",
    "    random_state=123\n",
    ")\n",
    "\n",
    "# обучим модель и применим метрику R2\n",
    "model = LinearRegression()\n",
    "model.fit(features_train, target_train)\n",
    "prediction = model.predict(features_valid)\n",
    "R2 = r2_score(target_valid, prediction)"
   ]
  },
  {
   "cell_type": "markdown",
   "metadata": {},
   "source": [
    "Обучим модель, на признаках, умноженных на случайную матрицу"
   ]
  },
  {
   "cell_type": "code",
   "execution_count": 36,
   "metadata": {},
   "outputs": [],
   "source": [
    "# Разделим данные на выборки\n",
    "new_features_train, new_features_valid, new_target_train, new_target_valid = train_test_split(\n",
    "    new_matrix, \n",
    "    target, \n",
    "    train_size=0.75,\n",
    "    test_size=0.25, \n",
    "    random_state=123\n",
    ")\n",
    "\n",
    "# обучим модель и применим метрику R2\n",
    "new_model = LinearRegression()\n",
    "new_model.fit(new_features_train, new_target_train)\n",
    "new_prediction = new_model.predict(new_features_valid)\n",
    "new_R2 = r2_score(new_target_valid, new_prediction)"
   ]
  },
  {
   "cell_type": "code",
   "execution_count": 37,
   "metadata": {},
   "outputs": [
    {
     "name": "stdout",
     "output_type": "stream",
     "text": [
      "R2 модели до преобразования признаков: 0.43018469886063604\n",
      "R2 модели после преобразования признаков: 0.4301846988612972\n"
     ]
    }
   ],
   "source": [
    "print('R2 модели до преобразования признаков:', R2)\n",
    "print('R2 модели после преобразования признаков:', new_R2)"
   ]
  },
  {
   "cell_type": "markdown",
   "metadata": {},
   "source": [
    "### Вывод"
   ]
  },
  {
   "cell_type": "markdown",
   "metadata": {},
   "source": [
    "Как можно увидить, после преобразования качество линейной регрессии практически не поменялось. Таким образом, данный алгоритм можно использовать для кодирования данных клиентов."
   ]
  }
 ],
 "metadata": {
  "ExecuteTimeLog": [
   {
    "duration": 1640,
    "start_time": "2021-06-23T02:24:01.794Z"
   },
   {
    "duration": 122,
    "start_time": "2021-06-23T02:24:03.437Z"
   },
   {
    "duration": 19,
    "start_time": "2021-06-23T02:24:03.562Z"
   },
   {
    "duration": 9,
    "start_time": "2021-06-23T02:24:03.585Z"
   },
   {
    "duration": 6,
    "start_time": "2021-06-23T02:24:03.596Z"
   },
   {
    "duration": 65,
    "start_time": "2021-06-23T02:24:03.604Z"
   },
   {
    "duration": 10,
    "start_time": "2021-06-23T02:24:03.672Z"
   },
   {
    "duration": 11,
    "start_time": "2021-06-23T02:24:03.690Z"
   },
   {
    "duration": 484,
    "start_time": "2021-06-23T02:24:03.704Z"
   },
   {
    "duration": -1544,
    "start_time": "2021-06-23T02:24:05.734Z"
   },
   {
    "duration": -1556,
    "start_time": "2021-06-23T02:24:05.748Z"
   },
   {
    "duration": -1565,
    "start_time": "2021-06-23T02:24:05.758Z"
   },
   {
    "duration": -1598,
    "start_time": "2021-06-23T02:24:05.792Z"
   },
   {
    "duration": -1599,
    "start_time": "2021-06-23T02:24:05.794Z"
   },
   {
    "duration": -1600,
    "start_time": "2021-06-23T02:24:05.797Z"
   },
   {
    "duration": -1601,
    "start_time": "2021-06-23T02:24:05.799Z"
   },
   {
    "duration": -1605,
    "start_time": "2021-06-23T02:24:05.804Z"
   },
   {
    "duration": -1607,
    "start_time": "2021-06-23T02:24:05.807Z"
   },
   {
    "duration": -1609,
    "start_time": "2021-06-23T02:24:05.810Z"
   },
   {
    "duration": -1609,
    "start_time": "2021-06-23T02:24:05.812Z"
   },
   {
    "duration": 305,
    "start_time": "2021-06-23T02:24:34.547Z"
   },
   {
    "duration": -1551,
    "start_time": "2021-06-23T02:24:36.406Z"
   },
   {
    "duration": -1554,
    "start_time": "2021-06-23T02:24:36.410Z"
   },
   {
    "duration": -1555,
    "start_time": "2021-06-23T02:24:36.412Z"
   },
   {
    "duration": -1597,
    "start_time": "2021-06-23T02:24:36.455Z"
   },
   {
    "duration": -1597,
    "start_time": "2021-06-23T02:24:36.457Z"
   },
   {
    "duration": -1599,
    "start_time": "2021-06-23T02:24:36.460Z"
   },
   {
    "duration": -1600,
    "start_time": "2021-06-23T02:24:36.462Z"
   },
   {
    "duration": -1602,
    "start_time": "2021-06-23T02:24:36.466Z"
   },
   {
    "duration": -1603,
    "start_time": "2021-06-23T02:24:36.469Z"
   },
   {
    "duration": -1604,
    "start_time": "2021-06-23T02:24:36.471Z"
   },
   {
    "duration": 246,
    "start_time": "2021-06-23T02:24:41.618Z"
   },
   {
    "duration": 32561,
    "start_time": "2021-06-23T02:25:34.705Z"
   },
   {
    "duration": 300,
    "start_time": "2021-06-23T02:26:23.425Z"
   },
   {
    "duration": 4,
    "start_time": "2021-06-23T02:26:49.605Z"
   },
   {
    "duration": 1521,
    "start_time": "2021-06-23T02:26:49.611Z"
   },
   {
    "duration": 47,
    "start_time": "2021-06-23T02:26:51.135Z"
   },
   {
    "duration": 16,
    "start_time": "2021-06-23T02:26:51.185Z"
   },
   {
    "duration": 12,
    "start_time": "2021-06-23T02:26:51.204Z"
   },
   {
    "duration": 17,
    "start_time": "2021-06-23T02:26:51.219Z"
   },
   {
    "duration": 63,
    "start_time": "2021-06-23T02:26:51.239Z"
   },
   {
    "duration": 7,
    "start_time": "2021-06-23T02:26:51.304Z"
   },
   {
    "duration": 10,
    "start_time": "2021-06-23T02:26:51.314Z"
   },
   {
    "duration": 471,
    "start_time": "2021-06-23T02:26:51.326Z"
   },
   {
    "duration": -1576,
    "start_time": "2021-06-23T02:26:53.375Z"
   },
   {
    "duration": -1600,
    "start_time": "2021-06-23T02:26:53.403Z"
   },
   {
    "duration": -1599,
    "start_time": "2021-06-23T02:26:53.404Z"
   },
   {
    "duration": 592,
    "start_time": "2021-06-23T02:26:52.554Z"
   },
   {
    "duration": 577,
    "start_time": "2021-06-23T02:26:53.917Z"
   },
   {
    "duration": 257,
    "start_time": "2021-06-23T02:27:06.902Z"
   },
   {
    "duration": 249,
    "start_time": "2021-06-23T02:27:08.992Z"
   },
   {
    "duration": 822,
    "start_time": "2021-06-23T02:27:10.390Z"
   },
   {
    "duration": 710,
    "start_time": "2021-06-23T02:27:12.341Z"
   },
   {
    "duration": 7,
    "start_time": "2021-06-23T02:31:14.599Z"
   },
   {
    "duration": 9,
    "start_time": "2021-06-23T02:31:15.546Z"
   },
   {
    "duration": 5,
    "start_time": "2021-06-23T02:31:16.323Z"
   },
   {
    "duration": 12,
    "start_time": "2021-06-23T02:31:17.186Z"
   },
   {
    "duration": 9,
    "start_time": "2021-06-23T02:31:17.978Z"
   },
   {
    "duration": 5,
    "start_time": "2021-06-23T02:31:18.685Z"
   }
  ],
  "kernelspec": {
   "display_name": "Python 3",
   "language": "python",
   "name": "python3"
  },
  "language_info": {
   "codemirror_mode": {
    "name": "ipython",
    "version": 3
   },
   "file_extension": ".py",
   "mimetype": "text/x-python",
   "name": "python",
   "nbconvert_exporter": "python",
   "pygments_lexer": "ipython3",
   "version": "3.8.5"
  },
  "toc": {
   "base_numbering": 1,
   "nav_menu": {},
   "number_sections": true,
   "sideBar": true,
   "skip_h1_title": true,
   "title_cell": "Содержание",
   "title_sidebar": "Contents",
   "toc_cell": true,
   "toc_position": {},
   "toc_section_display": true,
   "toc_window_display": false
  }
 },
 "nbformat": 4,
 "nbformat_minor": 2
}

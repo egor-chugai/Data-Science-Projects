{
 "cells": [
  {
   "cell_type": "markdown",
   "metadata": {},
   "source": [
    "# Исследование надёжности заёмщиков"
   ]
  },
  {
   "cell_type": "markdown",
   "metadata": {},
   "source": [
    "## Описание проекта\n",
    "Заказчик — кредитный отдел банка. Нужно разобраться, влияет ли семейное положение и количество детей клиента на факт погашения кредита в срок. Входные данные от банка — статистика о платёжеспособности клиентов.\n",
    "\n",
    "Результаты исследования будут учтены при построении модели кредитного скоринга — специальной системы, которая оценивает способность потенциального заёмщика вернуть кредит банку."
   ]
  },
  {
   "cell_type": "markdown",
   "metadata": {},
   "source": [
    "## Содержание:\n",
    "\n",
    "* [1. Знакомство с данными.](#first_bullet)\n",
    "* [2. Предобработка данных.](#second_bullet)\n",
    "   * [2.1. Работа с пропущенными значениями.](#third_bullet)\n",
    "   * [2.2. Удаление дубликатов.](#forth_bullet)\n",
    "   * [2.3. Лемматизация данных.](#fifth_bullet)\n",
    "   * [2.4. Категоризация данных в соответствии с поставленными вопросами.](#sixth_bullet)\n",
    "* [3. Ответы на вопросы.](#seventh_bullet)\n",
    "* [4. Общий вывод.](#eighth_bullet)"
   ]
  },
  {
   "cell_type": "markdown",
   "metadata": {},
   "source": [
    "## 1. Знакомство с данными.<a id=\"first_bullet\"></a>"
   ]
  },
  {
   "cell_type": "markdown",
   "metadata": {},
   "source": [
    "Импортируем нужные библиотеки, считываем данные, оценим размер таблицы и типы данных."
   ]
  },
  {
   "cell_type": "code",
   "execution_count": 2,
   "metadata": {},
   "outputs": [],
   "source": [
    "import pandas as pd\n",
    "import matplotlib.pyplot as plt\n",
    "from pymystem3 import Mystem\n",
    "import math\n",
    "import warnings\n",
    "warnings.filterwarnings(\"ignore\")\n",
    "%matplotlib inline"
   ]
  },
  {
   "cell_type": "markdown",
   "metadata": {},
   "source": [
    "Считаем данные."
   ]
  },
  {
   "cell_type": "code",
   "execution_count": 1,
   "metadata": {},
   "outputs": [],
   "source": [
    "banks_customers = pd.read_csv('data.csv')\n",
    "banks_customers_default = pd.read_csv('data.csv') "
   ]
  },
  {
   "cell_type": "markdown",
   "metadata": {},
   "source": [
    "Посмотрим первые строки датасета."
   ]
  },
  {
   "cell_type": "code",
   "execution_count": 159,
   "metadata": {},
   "outputs": [
    {
     "data": {
      "text/html": [
       "<div>\n",
       "<style scoped>\n",
       "    .dataframe tbody tr th:only-of-type {\n",
       "        vertical-align: middle;\n",
       "    }\n",
       "\n",
       "    .dataframe tbody tr th {\n",
       "        vertical-align: top;\n",
       "    }\n",
       "\n",
       "    .dataframe thead th {\n",
       "        text-align: right;\n",
       "    }\n",
       "</style>\n",
       "<table border=\"1\" class=\"dataframe\">\n",
       "  <thead>\n",
       "    <tr style=\"text-align: right;\">\n",
       "      <th></th>\n",
       "      <th>children</th>\n",
       "      <th>days_employed</th>\n",
       "      <th>dob_years</th>\n",
       "      <th>education</th>\n",
       "      <th>education_id</th>\n",
       "      <th>family_status</th>\n",
       "      <th>family_status_id</th>\n",
       "      <th>gender</th>\n",
       "      <th>income_type</th>\n",
       "      <th>debt</th>\n",
       "      <th>total_income</th>\n",
       "      <th>purpose</th>\n",
       "    </tr>\n",
       "  </thead>\n",
       "  <tbody>\n",
       "    <tr>\n",
       "      <th>0</th>\n",
       "      <td>1</td>\n",
       "      <td>-8437.673028</td>\n",
       "      <td>42</td>\n",
       "      <td>высшее</td>\n",
       "      <td>0</td>\n",
       "      <td>женат / замужем</td>\n",
       "      <td>0</td>\n",
       "      <td>F</td>\n",
       "      <td>сотрудник</td>\n",
       "      <td>0</td>\n",
       "      <td>253875.639453</td>\n",
       "      <td>покупка жилья</td>\n",
       "    </tr>\n",
       "    <tr>\n",
       "      <th>1</th>\n",
       "      <td>1</td>\n",
       "      <td>-4024.803754</td>\n",
       "      <td>36</td>\n",
       "      <td>среднее</td>\n",
       "      <td>1</td>\n",
       "      <td>женат / замужем</td>\n",
       "      <td>0</td>\n",
       "      <td>F</td>\n",
       "      <td>сотрудник</td>\n",
       "      <td>0</td>\n",
       "      <td>112080.014102</td>\n",
       "      <td>приобретение автомобиля</td>\n",
       "    </tr>\n",
       "    <tr>\n",
       "      <th>2</th>\n",
       "      <td>0</td>\n",
       "      <td>-5623.422610</td>\n",
       "      <td>33</td>\n",
       "      <td>Среднее</td>\n",
       "      <td>1</td>\n",
       "      <td>женат / замужем</td>\n",
       "      <td>0</td>\n",
       "      <td>M</td>\n",
       "      <td>сотрудник</td>\n",
       "      <td>0</td>\n",
       "      <td>145885.952297</td>\n",
       "      <td>покупка жилья</td>\n",
       "    </tr>\n",
       "    <tr>\n",
       "      <th>3</th>\n",
       "      <td>3</td>\n",
       "      <td>-4124.747207</td>\n",
       "      <td>32</td>\n",
       "      <td>среднее</td>\n",
       "      <td>1</td>\n",
       "      <td>женат / замужем</td>\n",
       "      <td>0</td>\n",
       "      <td>M</td>\n",
       "      <td>сотрудник</td>\n",
       "      <td>0</td>\n",
       "      <td>267628.550329</td>\n",
       "      <td>дополнительное образование</td>\n",
       "    </tr>\n",
       "    <tr>\n",
       "      <th>4</th>\n",
       "      <td>0</td>\n",
       "      <td>340266.072047</td>\n",
       "      <td>53</td>\n",
       "      <td>среднее</td>\n",
       "      <td>1</td>\n",
       "      <td>гражданский брак</td>\n",
       "      <td>1</td>\n",
       "      <td>F</td>\n",
       "      <td>пенсионер</td>\n",
       "      <td>0</td>\n",
       "      <td>158616.077870</td>\n",
       "      <td>сыграть свадьбу</td>\n",
       "    </tr>\n",
       "  </tbody>\n",
       "</table>\n",
       "</div>"
      ],
      "text/plain": [
       "   children  days_employed  dob_years education  education_id  \\\n",
       "0         1   -8437.673028         42    высшее             0   \n",
       "1         1   -4024.803754         36   среднее             1   \n",
       "2         0   -5623.422610         33   Среднее             1   \n",
       "3         3   -4124.747207         32   среднее             1   \n",
       "4         0  340266.072047         53   среднее             1   \n",
       "\n",
       "      family_status  family_status_id gender income_type  debt   total_income  \\\n",
       "0   женат / замужем                 0      F   сотрудник     0  253875.639453   \n",
       "1   женат / замужем                 0      F   сотрудник     0  112080.014102   \n",
       "2   женат / замужем                 0      M   сотрудник     0  145885.952297   \n",
       "3   женат / замужем                 0      M   сотрудник     0  267628.550329   \n",
       "4  гражданский брак                 1      F   пенсионер     0  158616.077870   \n",
       "\n",
       "                      purpose  \n",
       "0               покупка жилья  \n",
       "1     приобретение автомобиля  \n",
       "2               покупка жилья  \n",
       "3  дополнительное образование  \n",
       "4             сыграть свадьбу  "
      ]
     },
     "execution_count": 159,
     "metadata": {},
     "output_type": "execute_result"
    }
   ],
   "source": [
    "banks_customers.head()"
   ]
  },
  {
   "cell_type": "markdown",
   "metadata": {},
   "source": [
    "Посмотрим размер датасета."
   ]
  },
  {
   "cell_type": "code",
   "execution_count": 160,
   "metadata": {},
   "outputs": [
    {
     "data": {
      "text/plain": [
       "(21525, 12)"
      ]
     },
     "execution_count": 160,
     "metadata": {},
     "output_type": "execute_result"
    }
   ],
   "source": [
    "banks_customers.shape"
   ]
  },
  {
   "cell_type": "markdown",
   "metadata": {},
   "source": [
    "Посмотрим общую информацио о таблице."
   ]
  },
  {
   "cell_type": "code",
   "execution_count": 161,
   "metadata": {},
   "outputs": [
    {
     "name": "stdout",
     "output_type": "stream",
     "text": [
      "<class 'pandas.core.frame.DataFrame'>\n",
      "RangeIndex: 21525 entries, 0 to 21524\n",
      "Data columns (total 12 columns):\n",
      " #   Column            Non-Null Count  Dtype  \n",
      "---  ------            --------------  -----  \n",
      " 0   children          21525 non-null  int64  \n",
      " 1   days_employed     19351 non-null  float64\n",
      " 2   dob_years         21525 non-null  int64  \n",
      " 3   education         21525 non-null  object \n",
      " 4   education_id      21525 non-null  int64  \n",
      " 5   family_status     21525 non-null  object \n",
      " 6   family_status_id  21525 non-null  int64  \n",
      " 7   gender            21525 non-null  object \n",
      " 8   income_type       21525 non-null  object \n",
      " 9   debt              21525 non-null  int64  \n",
      " 10  total_income      19351 non-null  float64\n",
      " 11  purpose           21525 non-null  object \n",
      "dtypes: float64(2), int64(5), object(5)\n",
      "memory usage: 2.0+ MB\n"
     ]
    }
   ],
   "source": [
    "banks_customers.info()"
   ]
  },
  {
   "cell_type": "markdown",
   "metadata": {},
   "source": [
    "Таблица размерностью 21525 на 12. В полях _**days_employed**_ и _**total_income**_ вещественные числа, а также есть отрицательные значения. Разница в количестве значений в этих полях указывает на наличие Nan."
   ]
  },
  {
   "cell_type": "markdown",
   "metadata": {},
   "source": [
    "## 2. Предобработка данных.<a id=\"second_bullet\"></a>"
   ]
  },
  {
   "cell_type": "markdown",
   "metadata": {},
   "source": [
    "## 2.1. Работа с пропущенными значениями. <a id=\"third_bullet\"></a> "
   ]
  },
  {
   "cell_type": "markdown",
   "metadata": {},
   "source": [
    "Сразу бросается в глаза одинаковое к-во строк в полях days_employed и total_income. Подозреваем, что пропуски содержатся в одних и тех же строках. Проверяем это, отсортировав поле total_income методом isnull(), выводим обшую информацию о получившемся датафрейме."
   ]
  },
  {
   "cell_type": "code",
   "execution_count": 162,
   "metadata": {},
   "outputs": [
    {
     "name": "stdout",
     "output_type": "stream",
     "text": [
      "<class 'pandas.core.frame.DataFrame'>\n",
      "Int64Index: 2174 entries, 12 to 21510\n",
      "Data columns (total 12 columns):\n",
      " #   Column            Non-Null Count  Dtype  \n",
      "---  ------            --------------  -----  \n",
      " 0   children          2174 non-null   int64  \n",
      " 1   days_employed     0 non-null      float64\n",
      " 2   dob_years         2174 non-null   int64  \n",
      " 3   education         2174 non-null   object \n",
      " 4   education_id      2174 non-null   int64  \n",
      " 5   family_status     2174 non-null   object \n",
      " 6   family_status_id  2174 non-null   int64  \n",
      " 7   gender            2174 non-null   object \n",
      " 8   income_type       2174 non-null   object \n",
      " 9   debt              2174 non-null   int64  \n",
      " 10  total_income      0 non-null      float64\n",
      " 11  purpose           2174 non-null   object \n",
      "dtypes: float64(2), int64(5), object(5)\n",
      "memory usage: 220.8+ KB\n"
     ]
    }
   ],
   "source": [
    "Nans_in_rows = banks_customers[banks_customers.total_income.isnull()]\n",
    "Nans_in_rows.info()"
   ]
  },
  {
   "cell_type": "markdown",
   "metadata": {},
   "source": [
    "Значение 0 в полях days_employed и total_income означает то, что пропуски находятся на одних и тех же строках."
   ]
  },
  {
   "cell_type": "code",
   "execution_count": 163,
   "metadata": {},
   "outputs": [
    {
     "data": {
      "text/plain": [
       "income_type\n",
       "госслужащий         147\n",
       "компаньон           508\n",
       "пенсионер           413\n",
       "предприниматель       1\n",
       "сотрудник          1105\n",
       "Name: income_type, dtype: int64"
      ]
     },
     "execution_count": 163,
     "metadata": {},
     "output_type": "execute_result"
    }
   ],
   "source": [
    "Nans_in_rows.groupby('income_type')['income_type'].count()"
   ]
  },
  {
   "cell_type": "markdown",
   "metadata": {},
   "source": [
    "Сгруппировав клиентов по типу занятости, видим явную ошибку выгрузки, так как значения пропущены у клиентов, у которых должны быть и общий трудовой стаж, и ежемесячный доход."
   ]
  },
  {
   "cell_type": "markdown",
   "metadata": {},
   "source": [
    "Для дальнейшего анализа нам необходимо заполнить пропуски на характерные значения, для начала детальнее взглянем на имеющиеся данные."
   ]
  },
  {
   "cell_type": "code",
   "execution_count": 164,
   "metadata": {},
   "outputs": [
    {
     "data": {
      "text/html": [
       "<div>\n",
       "<style scoped>\n",
       "    .dataframe tbody tr th:only-of-type {\n",
       "        vertical-align: middle;\n",
       "    }\n",
       "\n",
       "    .dataframe tbody tr th {\n",
       "        vertical-align: top;\n",
       "    }\n",
       "\n",
       "    .dataframe thead th {\n",
       "        text-align: right;\n",
       "    }\n",
       "</style>\n",
       "<table border=\"1\" class=\"dataframe\">\n",
       "  <thead>\n",
       "    <tr style=\"text-align: right;\">\n",
       "      <th></th>\n",
       "      <th>days_employed</th>\n",
       "      <th>dob_years</th>\n",
       "      <th>income_type</th>\n",
       "    </tr>\n",
       "  </thead>\n",
       "  <tbody>\n",
       "    <tr>\n",
       "      <th>0</th>\n",
       "      <td>401755</td>\n",
       "      <td>56</td>\n",
       "      <td>пенсионер</td>\n",
       "    </tr>\n",
       "    <tr>\n",
       "      <th>1</th>\n",
       "      <td>401715</td>\n",
       "      <td>69</td>\n",
       "      <td>пенсионер</td>\n",
       "    </tr>\n",
       "    <tr>\n",
       "      <th>2</th>\n",
       "      <td>401675</td>\n",
       "      <td>61</td>\n",
       "      <td>пенсионер</td>\n",
       "    </tr>\n",
       "    <tr>\n",
       "      <th>3</th>\n",
       "      <td>401674</td>\n",
       "      <td>60</td>\n",
       "      <td>пенсионер</td>\n",
       "    </tr>\n",
       "    <tr>\n",
       "      <th>4</th>\n",
       "      <td>401663</td>\n",
       "      <td>61</td>\n",
       "      <td>пенсионер</td>\n",
       "    </tr>\n",
       "    <tr>\n",
       "      <th>5</th>\n",
       "      <td>401635</td>\n",
       "      <td>56</td>\n",
       "      <td>пенсионер</td>\n",
       "    </tr>\n",
       "    <tr>\n",
       "      <th>6</th>\n",
       "      <td>401619</td>\n",
       "      <td>63</td>\n",
       "      <td>пенсионер</td>\n",
       "    </tr>\n",
       "    <tr>\n",
       "      <th>7</th>\n",
       "      <td>401614</td>\n",
       "      <td>59</td>\n",
       "      <td>пенсионер</td>\n",
       "    </tr>\n",
       "    <tr>\n",
       "      <th>8</th>\n",
       "      <td>401591</td>\n",
       "      <td>56</td>\n",
       "      <td>пенсионер</td>\n",
       "    </tr>\n",
       "    <tr>\n",
       "      <th>9</th>\n",
       "      <td>401590</td>\n",
       "      <td>58</td>\n",
       "      <td>пенсионер</td>\n",
       "    </tr>\n",
       "  </tbody>\n",
       "</table>\n",
       "</div>"
      ],
      "text/plain": [
       "   days_employed  dob_years income_type\n",
       "0         401755         56   пенсионер\n",
       "1         401715         69   пенсионер\n",
       "2         401675         61   пенсионер\n",
       "3         401674         60   пенсионер\n",
       "4         401663         61   пенсионер\n",
       "5         401635         56   пенсионер\n",
       "6         401619         63   пенсионер\n",
       "7         401614         59   пенсионер\n",
       "8         401591         56   пенсионер\n",
       "9         401590         58   пенсионер"
      ]
     },
     "execution_count": 164,
     "metadata": {},
     "output_type": "execute_result"
    }
   ],
   "source": [
    "#проанализируем значения стажа без пропусков детальнее, отфильтруем и добавим их в переменную customers_without_nan\n",
    "customers_without_nan = banks_customers[banks_customers['days_employed'].notna()].\\\n",
    "sort_values(by='days_employed',ascending=False).reset_index()\n",
    "\n",
    "#отрицательные значения явная ошибка - возмем значения по модулю, изменим тип на целочисленный\n",
    "customers_without_nan.days_employed = abs(customers_without_nan.days_employed.astype(int)) \n",
    "\n",
    "#отсортируем и посмотрим максимальные значения стажа\n",
    "customers_without_nan[['days_employed','dob_years','income_type']].head(10)"
   ]
  },
  {
   "cell_type": "code",
   "execution_count": 165,
   "metadata": {},
   "outputs": [
    {
     "data": {
      "text/plain": [
       "<AxesSubplot:>"
      ]
     },
     "execution_count": 165,
     "metadata": {},
     "output_type": "execute_result"
    },
    {
     "data": {
      "image/png": "[encoded data removed]",
      "text/plain": [
       "<Figure size 432x288 with 1 Axes>"
      ]
     },
     "metadata": {
      "needs_background": "light"
     },
     "output_type": "display_data"
    }
   ],
   "source": [
    "#посмотрим данные на гистограмме распределения\n",
    "customers_without_nan['days_employed'].hist(bins=10)"
   ]
  },
  {
   "cell_type": "markdown",
   "metadata": {},
   "source": [
    "Мы видим, что в поле _days_employed_ есть аномально высокие значения. 401755 при переводе в года составляет примерно 1100 лет.\n",
    "Посмотрим количество таких аномалий, выведем их долю от тотал. На гистограме мы видим, что все эти значения превышают 300000, отфильтруем по этому признаку."
   ]
  },
  {
   "cell_type": "code",
   "execution_count": 166,
   "metadata": {},
   "outputs": [
    {
     "name": "stdout",
     "output_type": "stream",
     "text": [
      "Количество аномальных значений: 3445\n",
      "Процент аномальных от общей выборки: 16%\n"
     ]
    }
   ],
   "source": [
    "abnormal_values = banks_customers[banks_customers['days_employed']>300000]['days_employed'].count()\n",
    "abnormal_percent = abnormal_values/21525 \n",
    "print('Количество аномальных значений:',abnormal_values)\n",
    "print('Процент аномальных от общей выборки: {:.0%}'.format(abnormal_percent))"
   ]
  },
  {
   "cell_type": "markdown",
   "metadata": {},
   "source": [
    "Взглянем, как аномалии распределяются по возрасту и типу занятости."
   ]
  },
  {
   "cell_type": "code",
   "execution_count": 167,
   "metadata": {},
   "outputs": [
    {
     "data": {
      "text/plain": [
       "<AxesSubplot:xlabel='dob_years'>"
      ]
     },
     "execution_count": 167,
     "metadata": {},
     "output_type": "execute_result"
    },
    {
     "data": {
      "image/png": "[encoded data removed]",
      "text/plain": [
       "<Figure size 432x288 with 1 Axes>"
      ]
     },
     "metadata": {
      "needs_background": "light"
     },
     "output_type": "display_data"
    }
   ],
   "source": [
    "banks_customers[banks_customers['days_employed']>300000].groupby('dob_years')['dob_years'].count().plot()"
   ]
  },
  {
   "cell_type": "code",
   "execution_count": 168,
   "metadata": {},
   "outputs": [
    {
     "data": {
      "text/plain": [
       "income_type\n",
       "безработный       2\n",
       "пенсионер      3443\n",
       "Name: dob_years, dtype: int64"
      ]
     },
     "execution_count": 168,
     "metadata": {},
     "output_type": "execute_result"
    }
   ],
   "source": [
    "banks_customers[banks_customers['days_employed']>300000].groupby('income_type')['dob_years'].count()"
   ]
  },
  {
   "cell_type": "markdown",
   "metadata": {},
   "source": [
    "Ошибка наиболее часто возникает у пенсионеров. \n",
    "**16%** - большая доля от выборки, значения нельзя просто так удалять. \n",
    "Предположим, что ошибка заключается в том, что стаж тут указан не в днях, а в часах. \n",
    "Тогда максимально значение 401755 будет примерно равнятся 46 годам."
   ]
  },
  {
   "cell_type": "markdown",
   "metadata": {},
   "source": [
    "Преобразуем аномальные значения в дни. Напишем функцию correction и методом apply применим её к days_employed. Функция будет принимать аргументом значение поля и преобразовывать его в дни в случае аномальных значений."
   ]
  },
  {
   "cell_type": "code",
   "execution_count": 169,
   "metadata": {},
   "outputs": [],
   "source": [
    "def correction(days_employed):\n",
    "    if days_employed > 300000:\n",
    "        return int(days_employed / 24)\n",
    "    else:\n",
    "        return days_employed"
   ]
  },
  {
   "cell_type": "code",
   "execution_count": 170,
   "metadata": {},
   "outputs": [],
   "source": [
    "customers_without_nan['correct_days_employed'] = customers_without_nan['days_employed'].apply(correction)"
   ]
  },
  {
   "cell_type": "code",
   "execution_count": 171,
   "metadata": {},
   "outputs": [
    {
     "data": {
      "text/plain": [
       "0    18388\n",
       "1    17615\n",
       "2    16739\n",
       "3    16738\n",
       "4    16736\n",
       "5    16736\n",
       "6    16735\n",
       "7    16734\n",
       "8    16734\n",
       "9    16733\n",
       "Name: correct_days_employed, dtype: int64"
      ]
     },
     "execution_count": 171,
     "metadata": {},
     "output_type": "execute_result"
    }
   ],
   "source": [
    "customers_without_nan['correct_days_employed'].sort_values(ascending=False).reset_index(drop=True).head(10)"
   ]
  },
  {
   "cell_type": "markdown",
   "metadata": {},
   "source": [
    "Отлично, аномально высоких значений теперь нет. Теперь проверим, есть ли аномально низкие.\n",
    "Отсортируем данные по возрастанию."
   ]
  },
  {
   "cell_type": "code",
   "execution_count": 172,
   "metadata": {},
   "outputs": [
    {
     "data": {
      "text/html": [
       "<div>\n",
       "<style scoped>\n",
       "    .dataframe tbody tr th:only-of-type {\n",
       "        vertical-align: middle;\n",
       "    }\n",
       "\n",
       "    .dataframe tbody tr th {\n",
       "        vertical-align: top;\n",
       "    }\n",
       "\n",
       "    .dataframe thead th {\n",
       "        text-align: right;\n",
       "    }\n",
       "</style>\n",
       "<table border=\"1\" class=\"dataframe\">\n",
       "  <thead>\n",
       "    <tr style=\"text-align: right;\">\n",
       "      <th></th>\n",
       "      <th>correct_days_employed</th>\n",
       "      <th>dob_years</th>\n",
       "      <th>income_type</th>\n",
       "    </tr>\n",
       "  </thead>\n",
       "  <tbody>\n",
       "    <tr>\n",
       "      <th>0</th>\n",
       "      <td>24</td>\n",
       "      <td>31</td>\n",
       "      <td>сотрудник</td>\n",
       "    </tr>\n",
       "    <tr>\n",
       "      <th>1</th>\n",
       "      <td>24</td>\n",
       "      <td>32</td>\n",
       "      <td>сотрудник</td>\n",
       "    </tr>\n",
       "    <tr>\n",
       "      <th>2</th>\n",
       "      <td>30</td>\n",
       "      <td>47</td>\n",
       "      <td>компаньон</td>\n",
       "    </tr>\n",
       "    <tr>\n",
       "      <th>3</th>\n",
       "      <td>33</td>\n",
       "      <td>43</td>\n",
       "      <td>сотрудник</td>\n",
       "    </tr>\n",
       "    <tr>\n",
       "      <th>4</th>\n",
       "      <td>34</td>\n",
       "      <td>31</td>\n",
       "      <td>компаньон</td>\n",
       "    </tr>\n",
       "    <tr>\n",
       "      <th>5</th>\n",
       "      <td>37</td>\n",
       "      <td>36</td>\n",
       "      <td>сотрудник</td>\n",
       "    </tr>\n",
       "    <tr>\n",
       "      <th>6</th>\n",
       "      <td>39</td>\n",
       "      <td>34</td>\n",
       "      <td>госслужащий</td>\n",
       "    </tr>\n",
       "    <tr>\n",
       "      <th>7</th>\n",
       "      <td>46</td>\n",
       "      <td>33</td>\n",
       "      <td>сотрудник</td>\n",
       "    </tr>\n",
       "    <tr>\n",
       "      <th>8</th>\n",
       "      <td>47</td>\n",
       "      <td>49</td>\n",
       "      <td>сотрудник</td>\n",
       "    </tr>\n",
       "    <tr>\n",
       "      <th>9</th>\n",
       "      <td>50</td>\n",
       "      <td>43</td>\n",
       "      <td>компаньон</td>\n",
       "    </tr>\n",
       "  </tbody>\n",
       "</table>\n",
       "</div>"
      ],
      "text/plain": [
       "   correct_days_employed  dob_years  income_type\n",
       "0                     24         31    сотрудник\n",
       "1                     24         32    сотрудник\n",
       "2                     30         47    компаньон\n",
       "3                     33         43    сотрудник\n",
       "4                     34         31    компаньон\n",
       "5                     37         36    сотрудник\n",
       "6                     39         34  госслужащий\n",
       "7                     46         33    сотрудник\n",
       "8                     47         49    сотрудник\n",
       "9                     50         43    компаньон"
      ]
     },
     "execution_count": 172,
     "metadata": {},
     "output_type": "execute_result"
    }
   ],
   "source": [
    "customers_without_nan[['correct_days_employed','dob_years','income_type']].\\\n",
    "sort_values(by='correct_days_employed',ascending=True).reset_index(drop=True).head(10)"
   ]
  },
  {
   "cell_type": "markdown",
   "metadata": {},
   "source": [
    "Видим маленький стаж у людей, у которых он явно должен быть больше.\n",
    "Отфильтруем стаж до года и посмотрим, как он распределяется по возрасту и типу занятости."
   ]
  },
  {
   "cell_type": "code",
   "execution_count": 173,
   "metadata": {},
   "outputs": [
    {
     "data": {
      "text/plain": [
       "<AxesSubplot:xlabel='dob_years'>"
      ]
     },
     "execution_count": 173,
     "metadata": {},
     "output_type": "execute_result"
    },
    {
     "data": {
      "image/png": "[encoded data removed]",
      "text/plain": [
       "<Figure size 432x288 with 1 Axes>"
      ]
     },
     "metadata": {
      "needs_background": "light"
     },
     "output_type": "display_data"
    }
   ],
   "source": [
    "customers_without_nan[customers_without_nan['correct_days_employed'] < 365].\\\n",
    "groupby('dob_years')['dob_years'].count().plot()"
   ]
  },
  {
   "cell_type": "code",
   "execution_count": 174,
   "metadata": {},
   "outputs": [
    {
     "data": {
      "text/plain": [
       "income_type\n",
       "госслужащий      94\n",
       "компаньон       604\n",
       "сотрудник      1129\n",
       "Name: income_type, dtype: int64"
      ]
     },
     "execution_count": 174,
     "metadata": {},
     "output_type": "execute_result"
    }
   ],
   "source": [
    "customers_without_nan[customers_without_nan['correct_days_employed'] < 365].groupby('income_type')['income_type'].count()"
   ]
  },
  {
   "cell_type": "markdown",
   "metadata": {},
   "source": [
    "Налицо ещё одна ошибка в данном поле - большое к-во людей разных возрастов и типов занятости имеют очень маленький трудовой стаж. Сложно определить природу ошибки, так как и по возрасту, и по типу занятости много клиентов с, возможно, некорректным значением рабочего стажа.\n",
    "\n",
    "В данной ситуации я бы связался с коллегами из банка и уточнил бы корректность выгрузки. \n",
    "\n",
    "Ну а пока продолжим делать анализ согласно задаче. В дальнейшем, получив более точные данные, мы сможем подставить их в данный расчет и получить более корректные выводы."
   ]
  },
  {
   "cell_type": "markdown",
   "metadata": {},
   "source": [
    "Так как days_employed - количественная переменная, заменим пропуски в days_employed _характерными значениями_. Так как мы избавились от аномалий, которые искажали бы статистику по столбцу, для замены пропусков воспользуемся средним значением."
   ]
  },
  {
   "cell_type": "code",
   "execution_count": 175,
   "metadata": {},
   "outputs": [
    {
     "name": "stdout",
     "output_type": "stream",
     "text": [
      "Среднее: 4641\n"
     ]
    }
   ],
   "source": [
    "days_employed_mean = customers_without_nan['correct_days_employed'].mean()\n",
    "print('Среднее:',round(days_employed_mean))"
   ]
  },
  {
   "cell_type": "code",
   "execution_count": 176,
   "metadata": {},
   "outputs": [
    {
     "name": "stdout",
     "output_type": "stream",
     "text": [
      "<class 'pandas.core.frame.DataFrame'>\n",
      "RangeIndex: 21525 entries, 0 to 21524\n",
      "Data columns (total 12 columns):\n",
      " #   Column            Non-Null Count  Dtype  \n",
      "---  ------            --------------  -----  \n",
      " 0   children          21525 non-null  int64  \n",
      " 1   days_employed     21525 non-null  int64  \n",
      " 2   dob_years         21525 non-null  int64  \n",
      " 3   education         21525 non-null  object \n",
      " 4   education_id      21525 non-null  int64  \n",
      " 5   family_status     21525 non-null  object \n",
      " 6   family_status_id  21525 non-null  int64  \n",
      " 7   gender            21525 non-null  object \n",
      " 8   income_type       21525 non-null  object \n",
      " 9   debt              21525 non-null  int64  \n",
      " 10  total_income      19351 non-null  float64\n",
      " 11  purpose           21525 non-null  object \n",
      "dtypes: float64(1), int64(6), object(5)\n",
      "memory usage: 2.0+ MB\n"
     ]
    }
   ],
   "source": [
    "banks_customers.days_employed = banks_customers.days_employed.fillna(days_employed_mean)\n",
    "banks_customers.days_employed = abs(banks_customers.days_employed.astype(int)) \n",
    "banks_customers['days_employed'] = banks_customers['days_employed'].apply(correction)\n",
    "banks_customers.info()"
   ]
  },
  {
   "cell_type": "markdown",
   "metadata": {},
   "source": [
    "Разберемся с пропусками в **total_income**."
   ]
  },
  {
   "cell_type": "code",
   "execution_count": 177,
   "metadata": {},
   "outputs": [
    {
     "name": "stdout",
     "output_type": "stream",
     "text": [
      "Максимальное значение дохода: 2265604\n",
      "Минимальное значение дохода:20667\n",
      "\n",
      "Среднее 167422.3022081719\n",
      "Медиана 145017.93753253992\n"
     ]
    }
   ],
   "source": [
    "total_income_mean = banks_customers[banks_customers['total_income'].notna()]['total_income'].mean()\n",
    "total_income_median = banks_customers[banks_customers['total_income'].notna()]['total_income'].median()\n",
    "total_income_max = banks_customers['total_income'].max()\n",
    "total_income_min = banks_customers['total_income'].min()\n",
    "\n",
    "print('Максимальное значение дохода: {:.0f}'.format(total_income_max))\n",
    "print('Минимальное значение дохода:{:.0f}'.format(total_income_min))\n",
    "print()\n",
    "print('Среднее', total_income_mean)\n",
    "print('Медиана', total_income_median)"
   ]
  },
  {
   "cell_type": "markdown",
   "metadata": {},
   "source": [
    "Построим на графике распределение клиентов в зависимости от зарплат."
   ]
  },
  {
   "cell_type": "code",
   "execution_count": 178,
   "metadata": {},
   "outputs": [
    {
     "data": {
      "image/png": "[encoded data removed]",
      "text/plain": [
       "<Figure size 432x288 with 1 Axes>"
      ]
     },
     "metadata": {
      "needs_background": "light"
     },
     "output_type": "display_data"
    }
   ],
   "source": [
    "income = banks_customers['total_income'].sort_values(ascending=False).reset_index(drop=True).plot()"
   ]
  },
  {
   "cell_type": "markdown",
   "metadata": {},
   "source": [
    "Разница в минимальном и максимальном значении довольно большая, люди с очень высоким доходом могут несколько искажать картину, если мы возьмём среднее значение. Для замены пропусков используем медиану."
   ]
  },
  {
   "cell_type": "markdown",
   "metadata": {},
   "source": [
    "Так как в нашей выборке клиенты имеют разные типы занятости и, как следствие, разные уровни дохода. Выделим медианные значения в каждой группе и заменим ими пропуски."
   ]
  },
  {
   "cell_type": "code",
   "execution_count": 179,
   "metadata": {},
   "outputs": [],
   "source": [
    "# определим медианы в зависимости от типа занятости \n",
    "median_by_types = banks_customers.groupby('income_type')['total_income'].median().\\\n",
    "    to_frame().reset_index().rename(columns={'total_income':'median_by_types'})"
   ]
  },
  {
   "cell_type": "code",
   "execution_count": 180,
   "metadata": {},
   "outputs": [
    {
     "data": {
      "text/html": [
       "<div>\n",
       "<style scoped>\n",
       "    .dataframe tbody tr th:only-of-type {\n",
       "        vertical-align: middle;\n",
       "    }\n",
       "\n",
       "    .dataframe tbody tr th {\n",
       "        vertical-align: top;\n",
       "    }\n",
       "\n",
       "    .dataframe thead th {\n",
       "        text-align: right;\n",
       "    }\n",
       "</style>\n",
       "<table border=\"1\" class=\"dataframe\">\n",
       "  <thead>\n",
       "    <tr style=\"text-align: right;\">\n",
       "      <th></th>\n",
       "      <th>income_type</th>\n",
       "      <th>median_by_types</th>\n",
       "    </tr>\n",
       "  </thead>\n",
       "  <tbody>\n",
       "    <tr>\n",
       "      <th>0</th>\n",
       "      <td>безработный</td>\n",
       "      <td>131339.751676</td>\n",
       "    </tr>\n",
       "    <tr>\n",
       "      <th>1</th>\n",
       "      <td>в декрете</td>\n",
       "      <td>53829.130729</td>\n",
       "    </tr>\n",
       "    <tr>\n",
       "      <th>2</th>\n",
       "      <td>госслужащий</td>\n",
       "      <td>150447.935283</td>\n",
       "    </tr>\n",
       "    <tr>\n",
       "      <th>3</th>\n",
       "      <td>компаньон</td>\n",
       "      <td>172357.950966</td>\n",
       "    </tr>\n",
       "    <tr>\n",
       "      <th>4</th>\n",
       "      <td>пенсионер</td>\n",
       "      <td>118514.486412</td>\n",
       "    </tr>\n",
       "    <tr>\n",
       "      <th>5</th>\n",
       "      <td>предприниматель</td>\n",
       "      <td>499163.144947</td>\n",
       "    </tr>\n",
       "    <tr>\n",
       "      <th>6</th>\n",
       "      <td>сотрудник</td>\n",
       "      <td>142594.396847</td>\n",
       "    </tr>\n",
       "    <tr>\n",
       "      <th>7</th>\n",
       "      <td>студент</td>\n",
       "      <td>98201.625314</td>\n",
       "    </tr>\n",
       "  </tbody>\n",
       "</table>\n",
       "</div>"
      ],
      "text/plain": [
       "       income_type  median_by_types\n",
       "0      безработный    131339.751676\n",
       "1        в декрете     53829.130729\n",
       "2      госслужащий    150447.935283\n",
       "3        компаньон    172357.950966\n",
       "4        пенсионер    118514.486412\n",
       "5  предприниматель    499163.144947\n",
       "6        сотрудник    142594.396847\n",
       "7          студент     98201.625314"
      ]
     },
     "execution_count": 180,
     "metadata": {},
     "output_type": "execute_result"
    }
   ],
   "source": [
    "median_by_types"
   ]
  },
  {
   "cell_type": "code",
   "execution_count": 181,
   "metadata": {},
   "outputs": [],
   "source": [
    "# добавим поле с медианами в датасет\n",
    "banks_customers = banks_customers.merge(median_by_types, on='income_type', how='outer')"
   ]
  },
  {
   "cell_type": "code",
   "execution_count": 182,
   "metadata": {},
   "outputs": [],
   "source": [
    "# напишем функцию для подстановки медианы вместо пропуска\n",
    "def nan_replacement(row):\n",
    "    total_income = row['total_income']\n",
    "    median_by_types = row['median_by_types']\n",
    "    if math.isnan(total_income):\n",
    "        return median_by_types\n",
    "    else:\n",
    "        return total_income"
   ]
  },
  {
   "cell_type": "code",
   "execution_count": 183,
   "metadata": {},
   "outputs": [],
   "source": [
    "# добавим поле new_total_income в котором применим функцию и заменим пропуски медианами\n",
    "banks_customers['new_total_income'] = banks_customers.apply(nan_replacement, axis=1)\n",
    "# удалим лишние поля\n",
    "banks_customers['total_income'] = banks_customers['new_total_income']\n",
    "banks_customers = banks_customers.drop(columns=['new_total_income','median_by_types'])\n",
    "# преобразуем total_income в int, округлив методом round()\n",
    "banks_customers.total_income = banks_customers.total_income.round().astype(int)"
   ]
  },
  {
   "cell_type": "code",
   "execution_count": 184,
   "metadata": {},
   "outputs": [
    {
     "name": "stdout",
     "output_type": "stream",
     "text": [
      "<class 'pandas.core.frame.DataFrame'>\n",
      "Int64Index: 21525 entries, 0 to 21524\n",
      "Data columns (total 12 columns):\n",
      " #   Column            Non-Null Count  Dtype \n",
      "---  ------            --------------  ----- \n",
      " 0   children          21525 non-null  int64 \n",
      " 1   days_employed     21525 non-null  int64 \n",
      " 2   dob_years         21525 non-null  int64 \n",
      " 3   education         21525 non-null  object\n",
      " 4   education_id      21525 non-null  int64 \n",
      " 5   family_status     21525 non-null  object\n",
      " 6   family_status_id  21525 non-null  int64 \n",
      " 7   gender            21525 non-null  object\n",
      " 8   income_type       21525 non-null  object\n",
      " 9   debt              21525 non-null  int64 \n",
      " 10  total_income      21525 non-null  int64 \n",
      " 11  purpose           21525 non-null  object\n",
      "dtypes: int64(7), object(5)\n",
      "memory usage: 2.1+ MB\n"
     ]
    }
   ],
   "source": [
    "banks_customers.info()"
   ]
  },
  {
   "cell_type": "markdown",
   "metadata": {},
   "source": [
    "Проверим на корректность поле **dob_years**, кажется, там тоже есть проблемы."
   ]
  },
  {
   "cell_type": "code",
   "execution_count": 185,
   "metadata": {},
   "outputs": [
    {
     "data": {
      "text/html": [
       "<div>\n",
       "<style scoped>\n",
       "    .dataframe tbody tr th:only-of-type {\n",
       "        vertical-align: middle;\n",
       "    }\n",
       "\n",
       "    .dataframe tbody tr th {\n",
       "        vertical-align: top;\n",
       "    }\n",
       "\n",
       "    .dataframe thead th {\n",
       "        text-align: right;\n",
       "    }\n",
       "</style>\n",
       "<table border=\"1\" class=\"dataframe\">\n",
       "  <thead>\n",
       "    <tr style=\"text-align: right;\">\n",
       "      <th></th>\n",
       "      <th>children</th>\n",
       "      <th>days_employed</th>\n",
       "      <th>dob_years</th>\n",
       "      <th>education</th>\n",
       "      <th>education_id</th>\n",
       "      <th>family_status</th>\n",
       "      <th>family_status_id</th>\n",
       "      <th>gender</th>\n",
       "      <th>income_type</th>\n",
       "      <th>debt</th>\n",
       "      <th>total_income</th>\n",
       "      <th>purpose</th>\n",
       "    </tr>\n",
       "  </thead>\n",
       "  <tbody>\n",
       "    <tr>\n",
       "      <th>0</th>\n",
       "      <td>1</td>\n",
       "      <td>731</td>\n",
       "      <td>0</td>\n",
       "      <td>высшее</td>\n",
       "      <td>0</td>\n",
       "      <td>в разводе</td>\n",
       "      <td>3</td>\n",
       "      <td>F</td>\n",
       "      <td>сотрудник</td>\n",
       "      <td>0</td>\n",
       "      <td>247541</td>\n",
       "      <td>покупка жилья</td>\n",
       "    </tr>\n",
       "    <tr>\n",
       "      <th>1</th>\n",
       "      <td>0</td>\n",
       "      <td>3218</td>\n",
       "      <td>0</td>\n",
       "      <td>высшее</td>\n",
       "      <td>0</td>\n",
       "      <td>женат / замужем</td>\n",
       "      <td>0</td>\n",
       "      <td>M</td>\n",
       "      <td>сотрудник</td>\n",
       "      <td>0</td>\n",
       "      <td>162427</td>\n",
       "      <td>операции с жильем</td>\n",
       "    </tr>\n",
       "    <tr>\n",
       "      <th>2</th>\n",
       "      <td>0</td>\n",
       "      <td>866</td>\n",
       "      <td>0</td>\n",
       "      <td>высшее</td>\n",
       "      <td>0</td>\n",
       "      <td>гражданский брак</td>\n",
       "      <td>1</td>\n",
       "      <td>M</td>\n",
       "      <td>компаньон</td>\n",
       "      <td>0</td>\n",
       "      <td>287173</td>\n",
       "      <td>сыграть свадьбу</td>\n",
       "    </tr>\n",
       "    <tr>\n",
       "      <th>3</th>\n",
       "      <td>1</td>\n",
       "      <td>223</td>\n",
       "      <td>0</td>\n",
       "      <td>неоконченное высшее</td>\n",
       "      <td>2</td>\n",
       "      <td>гражданский брак</td>\n",
       "      <td>1</td>\n",
       "      <td>M</td>\n",
       "      <td>сотрудник</td>\n",
       "      <td>0</td>\n",
       "      <td>256071</td>\n",
       "      <td>сыграть свадьбу</td>\n",
       "    </tr>\n",
       "    <tr>\n",
       "      <th>4</th>\n",
       "      <td>0</td>\n",
       "      <td>14796</td>\n",
       "      <td>0</td>\n",
       "      <td>среднее</td>\n",
       "      <td>1</td>\n",
       "      <td>вдовец / вдова</td>\n",
       "      <td>2</td>\n",
       "      <td>F</td>\n",
       "      <td>пенсионер</td>\n",
       "      <td>0</td>\n",
       "      <td>54816</td>\n",
       "      <td>образование</td>\n",
       "    </tr>\n",
       "  </tbody>\n",
       "</table>\n",
       "</div>"
      ],
      "text/plain": [
       "   children  days_employed  dob_years            education  education_id  \\\n",
       "0         1            731          0               высшее             0   \n",
       "1         0           3218          0               высшее             0   \n",
       "2         0            866          0               высшее             0   \n",
       "3         1            223          0  неоконченное высшее             2   \n",
       "4         0          14796          0              среднее             1   \n",
       "\n",
       "      family_status  family_status_id gender income_type  debt  total_income  \\\n",
       "0         в разводе                 3      F   сотрудник     0        247541   \n",
       "1   женат / замужем                 0      M   сотрудник     0        162427   \n",
       "2  гражданский брак                 1      M   компаньон     0        287173   \n",
       "3  гражданский брак                 1      M   сотрудник     0        256071   \n",
       "4    вдовец / вдова                 2      F   пенсионер     0         54816   \n",
       "\n",
       "             purpose  \n",
       "0      покупка жилья  \n",
       "1  операции с жильем  \n",
       "2    сыграть свадьбу  \n",
       "3    сыграть свадьбу  \n",
       "4        образование  "
      ]
     },
     "execution_count": 185,
     "metadata": {},
     "output_type": "execute_result"
    }
   ],
   "source": [
    "banks_customers = banks_customers.sort_values(by='dob_years').reset_index(drop=True)\n",
    "banks_customers.head()"
   ]
  },
  {
   "cell_type": "code",
   "execution_count": 186,
   "metadata": {},
   "outputs": [
    {
     "name": "stdout",
     "output_type": "stream",
     "text": [
      "Меньше 18 лет: 101\n",
      "Возраст 0 лет: 101\n"
     ]
    }
   ],
   "source": [
    "print('Меньше 18 лет:',banks_customers[banks_customers['dob_years'] < 18]['dob_years'].count())\n",
    "print('Возраст 0 лет:',banks_customers[banks_customers['dob_years'] == 0]['dob_years'].count())"
   ]
  },
  {
   "cell_type": "markdown",
   "metadata": {},
   "source": [
    "0 лет - это явно некорректное значение, таких клиентов меньше 1% выборки. Можем удалить их, чтобы они не искажали анализ."
   ]
  },
  {
   "cell_type": "code",
   "execution_count": 187,
   "metadata": {},
   "outputs": [
    {
     "name": "stdout",
     "output_type": "stream",
     "text": [
      "Меньше 18 лет: 0\n",
      "Возраст 0 лет: 0\n"
     ]
    }
   ],
   "source": [
    "banks_customers = banks_customers.drop(banks_customers[banks_customers['dob_years'] == 0].index).reset_index(drop=True)\n",
    "print('Меньше 18 лет:',banks_customers[banks_customers['dob_years'] < 18]['dob_years'].count())\n",
    "print('Возраст 0 лет:',banks_customers[banks_customers['dob_years'] == 0]['dob_years'].count())"
   ]
  },
  {
   "cell_type": "markdown",
   "metadata": {},
   "source": [
    "## Вывод"
   ]
  },
  {
   "cell_type": "markdown",
   "metadata": {},
   "source": [
    "Обнаружено 2174 значения Nan в полях _days_employed_ и _total_income_ , определено, что пропуски находятся в одних и тех же строках. Причиной пропусков может быть ошибка при выгрузке данных.\n",
    "\n",
    "В поле _days_employed_ найдены аномально большие и отрицательные значения, приведены в нормальный вид, согласно гипотезе, что большие значения - измерены в часах, а отрицательные - очередная ошибка выгрузки.\n",
    "\n",
    "Вещественные значения в полях _days_employed_ и _total_income_ заменены на целочисленные при помощи метода astype().\n",
    "\n",
    "Пропущенные значения в _days_employed_ и _total_income_ заменены на среднее значение и медиану соответственно. Медиана в _total_income_ выбрана во избежания искажения статистики по причине очень высокого дохода у отдельной части выборки.\n",
    "\n",
    "Также во избежание искажения выводов из выборки удалена 101 строка, содержащая значения возраста равное 0. \n",
    "\n",
    "Один из основных выводов данного шага - выгрузка имеет большое количество ошибок. Необходимо дать обратную связь коллегам из банка для их проработки. Ошибки могут негативно влиять на дальнейшие выводы и точность модели кредитного скоринга."
   ]
  },
  {
   "cell_type": "markdown",
   "metadata": {},
   "source": [
    "## 2.2. Удаление дубликатов. <a id=\"fourth_bullet\"></a>"
   ]
  },
  {
   "cell_type": "markdown",
   "metadata": {},
   "source": [
    "Проверим исходную таблицу banks_customers_default на дубли"
   ]
  },
  {
   "cell_type": "code",
   "execution_count": 188,
   "metadata": {},
   "outputs": [],
   "source": [
    "banks_customers_default['duplicates'] = banks_customers_default.duplicated()"
   ]
  },
  {
   "cell_type": "code",
   "execution_count": 189,
   "metadata": {},
   "outputs": [
    {
     "name": "stdout",
     "output_type": "stream",
     "text": [
      "Количество полных дубликатов: 54\n"
     ]
    }
   ],
   "source": [
    "duplicates = banks_customers_default[banks_customers_default['duplicates'] == True]['duplicates'].count()\n",
    "print('Количество полных дубликатов:', duplicates)"
   ]
  },
  {
   "cell_type": "code",
   "execution_count": 190,
   "metadata": {},
   "outputs": [
    {
     "data": {
      "text/html": [
       "<div>\n",
       "<style scoped>\n",
       "    .dataframe tbody tr th:only-of-type {\n",
       "        vertical-align: middle;\n",
       "    }\n",
       "\n",
       "    .dataframe tbody tr th {\n",
       "        vertical-align: top;\n",
       "    }\n",
       "\n",
       "    .dataframe thead th {\n",
       "        text-align: right;\n",
       "    }\n",
       "</style>\n",
       "<table border=\"1\" class=\"dataframe\">\n",
       "  <thead>\n",
       "    <tr style=\"text-align: right;\">\n",
       "      <th></th>\n",
       "      <th>children</th>\n",
       "      <th>days_employed</th>\n",
       "      <th>dob_years</th>\n",
       "      <th>education</th>\n",
       "      <th>education_id</th>\n",
       "      <th>family_status</th>\n",
       "      <th>family_status_id</th>\n",
       "      <th>gender</th>\n",
       "      <th>income_type</th>\n",
       "      <th>debt</th>\n",
       "      <th>total_income</th>\n",
       "      <th>purpose</th>\n",
       "      <th>duplicates</th>\n",
       "    </tr>\n",
       "  </thead>\n",
       "  <tbody>\n",
       "    <tr>\n",
       "      <th>19321</th>\n",
       "      <td>0</td>\n",
       "      <td>NaN</td>\n",
       "      <td>23</td>\n",
       "      <td>среднее</td>\n",
       "      <td>1</td>\n",
       "      <td>Не женат / не замужем</td>\n",
       "      <td>4</td>\n",
       "      <td>F</td>\n",
       "      <td>сотрудник</td>\n",
       "      <td>0</td>\n",
       "      <td>NaN</td>\n",
       "      <td>сделка с подержанным автомобилем</td>\n",
       "      <td>True</td>\n",
       "    </tr>\n",
       "    <tr>\n",
       "      <th>18328</th>\n",
       "      <td>0</td>\n",
       "      <td>NaN</td>\n",
       "      <td>29</td>\n",
       "      <td>высшее</td>\n",
       "      <td>0</td>\n",
       "      <td>женат / замужем</td>\n",
       "      <td>0</td>\n",
       "      <td>M</td>\n",
       "      <td>сотрудник</td>\n",
       "      <td>0</td>\n",
       "      <td>NaN</td>\n",
       "      <td>покупка жилой недвижимости</td>\n",
       "      <td>True</td>\n",
       "    </tr>\n",
       "    <tr>\n",
       "      <th>21281</th>\n",
       "      <td>1</td>\n",
       "      <td>NaN</td>\n",
       "      <td>30</td>\n",
       "      <td>высшее</td>\n",
       "      <td>0</td>\n",
       "      <td>женат / замужем</td>\n",
       "      <td>0</td>\n",
       "      <td>F</td>\n",
       "      <td>сотрудник</td>\n",
       "      <td>0</td>\n",
       "      <td>NaN</td>\n",
       "      <td>покупка коммерческой недвижимости</td>\n",
       "      <td>True</td>\n",
       "    </tr>\n",
       "    <tr>\n",
       "      <th>18349</th>\n",
       "      <td>1</td>\n",
       "      <td>NaN</td>\n",
       "      <td>30</td>\n",
       "      <td>высшее</td>\n",
       "      <td>0</td>\n",
       "      <td>женат / замужем</td>\n",
       "      <td>0</td>\n",
       "      <td>F</td>\n",
       "      <td>госслужащий</td>\n",
       "      <td>0</td>\n",
       "      <td>NaN</td>\n",
       "      <td>покупка жилья для семьи</td>\n",
       "      <td>True</td>\n",
       "    </tr>\n",
       "    <tr>\n",
       "      <th>13878</th>\n",
       "      <td>1</td>\n",
       "      <td>NaN</td>\n",
       "      <td>31</td>\n",
       "      <td>среднее</td>\n",
       "      <td>1</td>\n",
       "      <td>женат / замужем</td>\n",
       "      <td>0</td>\n",
       "      <td>F</td>\n",
       "      <td>компаньон</td>\n",
       "      <td>0</td>\n",
       "      <td>NaN</td>\n",
       "      <td>покупка жилья</td>\n",
       "      <td>True</td>\n",
       "    </tr>\n",
       "    <tr>\n",
       "      <th>16904</th>\n",
       "      <td>1</td>\n",
       "      <td>NaN</td>\n",
       "      <td>32</td>\n",
       "      <td>высшее</td>\n",
       "      <td>0</td>\n",
       "      <td>женат / замужем</td>\n",
       "      <td>0</td>\n",
       "      <td>F</td>\n",
       "      <td>сотрудник</td>\n",
       "      <td>0</td>\n",
       "      <td>NaN</td>\n",
       "      <td>на покупку подержанного автомобиля</td>\n",
       "      <td>True</td>\n",
       "    </tr>\n",
       "    <tr>\n",
       "      <th>4182</th>\n",
       "      <td>1</td>\n",
       "      <td>NaN</td>\n",
       "      <td>34</td>\n",
       "      <td>ВЫСШЕЕ</td>\n",
       "      <td>0</td>\n",
       "      <td>гражданский брак</td>\n",
       "      <td>1</td>\n",
       "      <td>F</td>\n",
       "      <td>сотрудник</td>\n",
       "      <td>0</td>\n",
       "      <td>NaN</td>\n",
       "      <td>свадьба</td>\n",
       "      <td>True</td>\n",
       "    </tr>\n",
       "    <tr>\n",
       "      <th>9238</th>\n",
       "      <td>2</td>\n",
       "      <td>NaN</td>\n",
       "      <td>34</td>\n",
       "      <td>среднее</td>\n",
       "      <td>1</td>\n",
       "      <td>женат / замужем</td>\n",
       "      <td>0</td>\n",
       "      <td>F</td>\n",
       "      <td>сотрудник</td>\n",
       "      <td>0</td>\n",
       "      <td>NaN</td>\n",
       "      <td>покупка жилья для сдачи</td>\n",
       "      <td>True</td>\n",
       "    </tr>\n",
       "    <tr>\n",
       "      <th>13773</th>\n",
       "      <td>0</td>\n",
       "      <td>NaN</td>\n",
       "      <td>35</td>\n",
       "      <td>среднее</td>\n",
       "      <td>1</td>\n",
       "      <td>гражданский брак</td>\n",
       "      <td>1</td>\n",
       "      <td>F</td>\n",
       "      <td>сотрудник</td>\n",
       "      <td>0</td>\n",
       "      <td>NaN</td>\n",
       "      <td>сыграть свадьбу</td>\n",
       "      <td>True</td>\n",
       "    </tr>\n",
       "    <tr>\n",
       "      <th>14432</th>\n",
       "      <td>2</td>\n",
       "      <td>NaN</td>\n",
       "      <td>36</td>\n",
       "      <td>высшее</td>\n",
       "      <td>0</td>\n",
       "      <td>женат / замужем</td>\n",
       "      <td>0</td>\n",
       "      <td>F</td>\n",
       "      <td>госслужащий</td>\n",
       "      <td>0</td>\n",
       "      <td>NaN</td>\n",
       "      <td>получение образования</td>\n",
       "      <td>True</td>\n",
       "    </tr>\n",
       "    <tr>\n",
       "      <th>12375</th>\n",
       "      <td>1</td>\n",
       "      <td>NaN</td>\n",
       "      <td>37</td>\n",
       "      <td>среднее</td>\n",
       "      <td>1</td>\n",
       "      <td>женат / замужем</td>\n",
       "      <td>0</td>\n",
       "      <td>F</td>\n",
       "      <td>сотрудник</td>\n",
       "      <td>0</td>\n",
       "      <td>NaN</td>\n",
       "      <td>покупка недвижимости</td>\n",
       "      <td>True</td>\n",
       "    </tr>\n",
       "    <tr>\n",
       "      <th>19387</th>\n",
       "      <td>0</td>\n",
       "      <td>NaN</td>\n",
       "      <td>38</td>\n",
       "      <td>высшее</td>\n",
       "      <td>0</td>\n",
       "      <td>гражданский брак</td>\n",
       "      <td>1</td>\n",
       "      <td>F</td>\n",
       "      <td>компаньон</td>\n",
       "      <td>0</td>\n",
       "      <td>NaN</td>\n",
       "      <td>на проведение свадьбы</td>\n",
       "      <td>True</td>\n",
       "    </tr>\n",
       "    <tr>\n",
       "      <th>16902</th>\n",
       "      <td>2</td>\n",
       "      <td>NaN</td>\n",
       "      <td>39</td>\n",
       "      <td>среднее</td>\n",
       "      <td>1</td>\n",
       "      <td>гражданский брак</td>\n",
       "      <td>1</td>\n",
       "      <td>F</td>\n",
       "      <td>сотрудник</td>\n",
       "      <td>0</td>\n",
       "      <td>NaN</td>\n",
       "      <td>сыграть свадьбу</td>\n",
       "      <td>True</td>\n",
       "    </tr>\n",
       "    <tr>\n",
       "      <th>17774</th>\n",
       "      <td>1</td>\n",
       "      <td>NaN</td>\n",
       "      <td>40</td>\n",
       "      <td>среднее</td>\n",
       "      <td>1</td>\n",
       "      <td>гражданский брак</td>\n",
       "      <td>1</td>\n",
       "      <td>F</td>\n",
       "      <td>компаньон</td>\n",
       "      <td>0</td>\n",
       "      <td>NaN</td>\n",
       "      <td>строительство жилой недвижимости</td>\n",
       "      <td>True</td>\n",
       "    </tr>\n",
       "    <tr>\n",
       "      <th>10697</th>\n",
       "      <td>0</td>\n",
       "      <td>NaN</td>\n",
       "      <td>40</td>\n",
       "      <td>среднее</td>\n",
       "      <td>1</td>\n",
       "      <td>гражданский брак</td>\n",
       "      <td>1</td>\n",
       "      <td>F</td>\n",
       "      <td>компаньон</td>\n",
       "      <td>0</td>\n",
       "      <td>NaN</td>\n",
       "      <td>сыграть свадьбу</td>\n",
       "      <td>True</td>\n",
       "    </tr>\n",
       "    <tr>\n",
       "      <th>2849</th>\n",
       "      <td>0</td>\n",
       "      <td>NaN</td>\n",
       "      <td>41</td>\n",
       "      <td>среднее</td>\n",
       "      <td>1</td>\n",
       "      <td>женат / замужем</td>\n",
       "      <td>0</td>\n",
       "      <td>F</td>\n",
       "      <td>сотрудник</td>\n",
       "      <td>0</td>\n",
       "      <td>NaN</td>\n",
       "      <td>покупка жилья для семьи</td>\n",
       "      <td>True</td>\n",
       "    </tr>\n",
       "    <tr>\n",
       "      <th>20165</th>\n",
       "      <td>0</td>\n",
       "      <td>NaN</td>\n",
       "      <td>42</td>\n",
       "      <td>среднее</td>\n",
       "      <td>1</td>\n",
       "      <td>женат / замужем</td>\n",
       "      <td>0</td>\n",
       "      <td>F</td>\n",
       "      <td>сотрудник</td>\n",
       "      <td>0</td>\n",
       "      <td>NaN</td>\n",
       "      <td>покупка жилья для семьи</td>\n",
       "      <td>True</td>\n",
       "    </tr>\n",
       "    <tr>\n",
       "      <th>17755</th>\n",
       "      <td>1</td>\n",
       "      <td>NaN</td>\n",
       "      <td>43</td>\n",
       "      <td>среднее</td>\n",
       "      <td>1</td>\n",
       "      <td>женат / замужем</td>\n",
       "      <td>0</td>\n",
       "      <td>M</td>\n",
       "      <td>сотрудник</td>\n",
       "      <td>0</td>\n",
       "      <td>NaN</td>\n",
       "      <td>заняться образованием</td>\n",
       "      <td>True</td>\n",
       "    </tr>\n",
       "    <tr>\n",
       "      <th>13025</th>\n",
       "      <td>1</td>\n",
       "      <td>NaN</td>\n",
       "      <td>44</td>\n",
       "      <td>среднее</td>\n",
       "      <td>1</td>\n",
       "      <td>женат / замужем</td>\n",
       "      <td>0</td>\n",
       "      <td>F</td>\n",
       "      <td>сотрудник</td>\n",
       "      <td>0</td>\n",
       "      <td>NaN</td>\n",
       "      <td>сделка с подержанным автомобилем</td>\n",
       "      <td>True</td>\n",
       "    </tr>\n",
       "    <tr>\n",
       "      <th>13942</th>\n",
       "      <td>0</td>\n",
       "      <td>NaN</td>\n",
       "      <td>44</td>\n",
       "      <td>среднее</td>\n",
       "      <td>1</td>\n",
       "      <td>женат / замужем</td>\n",
       "      <td>0</td>\n",
       "      <td>F</td>\n",
       "      <td>сотрудник</td>\n",
       "      <td>0</td>\n",
       "      <td>NaN</td>\n",
       "      <td>приобретение автомобиля</td>\n",
       "      <td>True</td>\n",
       "    </tr>\n",
       "    <tr>\n",
       "      <th>19184</th>\n",
       "      <td>0</td>\n",
       "      <td>NaN</td>\n",
       "      <td>46</td>\n",
       "      <td>среднее</td>\n",
       "      <td>1</td>\n",
       "      <td>женат / замужем</td>\n",
       "      <td>0</td>\n",
       "      <td>F</td>\n",
       "      <td>сотрудник</td>\n",
       "      <td>0</td>\n",
       "      <td>NaN</td>\n",
       "      <td>свой автомобиль</td>\n",
       "      <td>True</td>\n",
       "    </tr>\n",
       "    <tr>\n",
       "      <th>16378</th>\n",
       "      <td>0</td>\n",
       "      <td>NaN</td>\n",
       "      <td>46</td>\n",
       "      <td>среднее</td>\n",
       "      <td>1</td>\n",
       "      <td>женат / замужем</td>\n",
       "      <td>0</td>\n",
       "      <td>F</td>\n",
       "      <td>сотрудник</td>\n",
       "      <td>0</td>\n",
       "      <td>NaN</td>\n",
       "      <td>высшее образование</td>\n",
       "      <td>True</td>\n",
       "    </tr>\n",
       "    <tr>\n",
       "      <th>11791</th>\n",
       "      <td>0</td>\n",
       "      <td>NaN</td>\n",
       "      <td>47</td>\n",
       "      <td>среднее</td>\n",
       "      <td>1</td>\n",
       "      <td>женат / замужем</td>\n",
       "      <td>0</td>\n",
       "      <td>F</td>\n",
       "      <td>сотрудник</td>\n",
       "      <td>0</td>\n",
       "      <td>NaN</td>\n",
       "      <td>строительство недвижимости</td>\n",
       "      <td>True</td>\n",
       "    </tr>\n",
       "    <tr>\n",
       "      <th>21132</th>\n",
       "      <td>0</td>\n",
       "      <td>NaN</td>\n",
       "      <td>47</td>\n",
       "      <td>среднее</td>\n",
       "      <td>1</td>\n",
       "      <td>женат / замужем</td>\n",
       "      <td>0</td>\n",
       "      <td>F</td>\n",
       "      <td>сотрудник</td>\n",
       "      <td>0</td>\n",
       "      <td>NaN</td>\n",
       "      <td>ремонт жилью</td>\n",
       "      <td>True</td>\n",
       "    </tr>\n",
       "    <tr>\n",
       "      <th>16176</th>\n",
       "      <td>0</td>\n",
       "      <td>NaN</td>\n",
       "      <td>47</td>\n",
       "      <td>среднее</td>\n",
       "      <td>1</td>\n",
       "      <td>женат / замужем</td>\n",
       "      <td>0</td>\n",
       "      <td>F</td>\n",
       "      <td>сотрудник</td>\n",
       "      <td>0</td>\n",
       "      <td>NaN</td>\n",
       "      <td>ремонт жилью</td>\n",
       "      <td>True</td>\n",
       "    </tr>\n",
       "    <tr>\n",
       "      <th>19832</th>\n",
       "      <td>0</td>\n",
       "      <td>NaN</td>\n",
       "      <td>48</td>\n",
       "      <td>среднее</td>\n",
       "      <td>1</td>\n",
       "      <td>женат / замужем</td>\n",
       "      <td>0</td>\n",
       "      <td>F</td>\n",
       "      <td>сотрудник</td>\n",
       "      <td>0</td>\n",
       "      <td>NaN</td>\n",
       "      <td>ремонт жилью</td>\n",
       "      <td>True</td>\n",
       "    </tr>\n",
       "    <tr>\n",
       "      <th>14832</th>\n",
       "      <td>0</td>\n",
       "      <td>NaN</td>\n",
       "      <td>50</td>\n",
       "      <td>среднее</td>\n",
       "      <td>1</td>\n",
       "      <td>Не женат / не замужем</td>\n",
       "      <td>4</td>\n",
       "      <td>F</td>\n",
       "      <td>сотрудник</td>\n",
       "      <td>0</td>\n",
       "      <td>NaN</td>\n",
       "      <td>недвижимость</td>\n",
       "      <td>True</td>\n",
       "    </tr>\n",
       "    <tr>\n",
       "      <th>17379</th>\n",
       "      <td>0</td>\n",
       "      <td>NaN</td>\n",
       "      <td>54</td>\n",
       "      <td>высшее</td>\n",
       "      <td>0</td>\n",
       "      <td>женат / замужем</td>\n",
       "      <td>0</td>\n",
       "      <td>M</td>\n",
       "      <td>компаньон</td>\n",
       "      <td>0</td>\n",
       "      <td>NaN</td>\n",
       "      <td>операции с коммерческой недвижимостью</td>\n",
       "      <td>True</td>\n",
       "    </tr>\n",
       "    <tr>\n",
       "      <th>18563</th>\n",
       "      <td>0</td>\n",
       "      <td>NaN</td>\n",
       "      <td>54</td>\n",
       "      <td>среднее</td>\n",
       "      <td>1</td>\n",
       "      <td>женат / замужем</td>\n",
       "      <td>0</td>\n",
       "      <td>F</td>\n",
       "      <td>сотрудник</td>\n",
       "      <td>0</td>\n",
       "      <td>NaN</td>\n",
       "      <td>операции со своей недвижимостью</td>\n",
       "      <td>True</td>\n",
       "    </tr>\n",
       "    <tr>\n",
       "      <th>21415</th>\n",
       "      <td>0</td>\n",
       "      <td>NaN</td>\n",
       "      <td>54</td>\n",
       "      <td>среднее</td>\n",
       "      <td>1</td>\n",
       "      <td>женат / замужем</td>\n",
       "      <td>0</td>\n",
       "      <td>F</td>\n",
       "      <td>пенсионер</td>\n",
       "      <td>0</td>\n",
       "      <td>NaN</td>\n",
       "      <td>операции с жильем</td>\n",
       "      <td>True</td>\n",
       "    </tr>\n",
       "    <tr>\n",
       "      <th>9627</th>\n",
       "      <td>0</td>\n",
       "      <td>NaN</td>\n",
       "      <td>56</td>\n",
       "      <td>среднее</td>\n",
       "      <td>1</td>\n",
       "      <td>женат / замужем</td>\n",
       "      <td>0</td>\n",
       "      <td>F</td>\n",
       "      <td>пенсионер</td>\n",
       "      <td>0</td>\n",
       "      <td>NaN</td>\n",
       "      <td>операции со своей недвижимостью</td>\n",
       "      <td>True</td>\n",
       "    </tr>\n",
       "    <tr>\n",
       "      <th>19041</th>\n",
       "      <td>0</td>\n",
       "      <td>NaN</td>\n",
       "      <td>56</td>\n",
       "      <td>среднее</td>\n",
       "      <td>1</td>\n",
       "      <td>гражданский брак</td>\n",
       "      <td>1</td>\n",
       "      <td>F</td>\n",
       "      <td>сотрудник</td>\n",
       "      <td>0</td>\n",
       "      <td>NaN</td>\n",
       "      <td>на проведение свадьбы</td>\n",
       "      <td>True</td>\n",
       "    </tr>\n",
       "    <tr>\n",
       "      <th>18521</th>\n",
       "      <td>0</td>\n",
       "      <td>NaN</td>\n",
       "      <td>56</td>\n",
       "      <td>среднее</td>\n",
       "      <td>1</td>\n",
       "      <td>гражданский брак</td>\n",
       "      <td>1</td>\n",
       "      <td>F</td>\n",
       "      <td>сотрудник</td>\n",
       "      <td>0</td>\n",
       "      <td>NaN</td>\n",
       "      <td>сыграть свадьбу</td>\n",
       "      <td>True</td>\n",
       "    </tr>\n",
       "    <tr>\n",
       "      <th>20116</th>\n",
       "      <td>0</td>\n",
       "      <td>NaN</td>\n",
       "      <td>57</td>\n",
       "      <td>среднее</td>\n",
       "      <td>1</td>\n",
       "      <td>гражданский брак</td>\n",
       "      <td>1</td>\n",
       "      <td>M</td>\n",
       "      <td>пенсионер</td>\n",
       "      <td>0</td>\n",
       "      <td>NaN</td>\n",
       "      <td>свадьба</td>\n",
       "      <td>True</td>\n",
       "    </tr>\n",
       "    <tr>\n",
       "      <th>19946</th>\n",
       "      <td>0</td>\n",
       "      <td>NaN</td>\n",
       "      <td>57</td>\n",
       "      <td>среднее</td>\n",
       "      <td>1</td>\n",
       "      <td>женат / замужем</td>\n",
       "      <td>0</td>\n",
       "      <td>F</td>\n",
       "      <td>сотрудник</td>\n",
       "      <td>0</td>\n",
       "      <td>NaN</td>\n",
       "      <td>сделка с подержанным автомобилем</td>\n",
       "      <td>True</td>\n",
       "    </tr>\n",
       "    <tr>\n",
       "      <th>7808</th>\n",
       "      <td>0</td>\n",
       "      <td>NaN</td>\n",
       "      <td>57</td>\n",
       "      <td>среднее</td>\n",
       "      <td>1</td>\n",
       "      <td>гражданский брак</td>\n",
       "      <td>1</td>\n",
       "      <td>F</td>\n",
       "      <td>пенсионер</td>\n",
       "      <td>0</td>\n",
       "      <td>NaN</td>\n",
       "      <td>на проведение свадьбы</td>\n",
       "      <td>True</td>\n",
       "    </tr>\n",
       "    <tr>\n",
       "      <th>15273</th>\n",
       "      <td>0</td>\n",
       "      <td>NaN</td>\n",
       "      <td>57</td>\n",
       "      <td>среднее</td>\n",
       "      <td>1</td>\n",
       "      <td>гражданский брак</td>\n",
       "      <td>1</td>\n",
       "      <td>F</td>\n",
       "      <td>пенсионер</td>\n",
       "      <td>0</td>\n",
       "      <td>NaN</td>\n",
       "      <td>свадьба</td>\n",
       "      <td>True</td>\n",
       "    </tr>\n",
       "    <tr>\n",
       "      <th>12373</th>\n",
       "      <td>0</td>\n",
       "      <td>NaN</td>\n",
       "      <td>58</td>\n",
       "      <td>среднее</td>\n",
       "      <td>1</td>\n",
       "      <td>женат / замужем</td>\n",
       "      <td>0</td>\n",
       "      <td>M</td>\n",
       "      <td>сотрудник</td>\n",
       "      <td>0</td>\n",
       "      <td>NaN</td>\n",
       "      <td>покупка недвижимости</td>\n",
       "      <td>True</td>\n",
       "    </tr>\n",
       "    <tr>\n",
       "      <th>5557</th>\n",
       "      <td>0</td>\n",
       "      <td>NaN</td>\n",
       "      <td>58</td>\n",
       "      <td>среднее</td>\n",
       "      <td>1</td>\n",
       "      <td>гражданский брак</td>\n",
       "      <td>1</td>\n",
       "      <td>F</td>\n",
       "      <td>пенсионер</td>\n",
       "      <td>0</td>\n",
       "      <td>NaN</td>\n",
       "      <td>сыграть свадьбу</td>\n",
       "      <td>True</td>\n",
       "    </tr>\n",
       "    <tr>\n",
       "      <th>8583</th>\n",
       "      <td>0</td>\n",
       "      <td>NaN</td>\n",
       "      <td>58</td>\n",
       "      <td>высшее</td>\n",
       "      <td>0</td>\n",
       "      <td>Не женат / не замужем</td>\n",
       "      <td>4</td>\n",
       "      <td>F</td>\n",
       "      <td>пенсионер</td>\n",
       "      <td>0</td>\n",
       "      <td>NaN</td>\n",
       "      <td>дополнительное образование</td>\n",
       "      <td>True</td>\n",
       "    </tr>\n",
       "    <tr>\n",
       "      <th>15091</th>\n",
       "      <td>0</td>\n",
       "      <td>NaN</td>\n",
       "      <td>58</td>\n",
       "      <td>среднее</td>\n",
       "      <td>1</td>\n",
       "      <td>гражданский брак</td>\n",
       "      <td>1</td>\n",
       "      <td>M</td>\n",
       "      <td>сотрудник</td>\n",
       "      <td>0</td>\n",
       "      <td>NaN</td>\n",
       "      <td>на проведение свадьбы</td>\n",
       "      <td>True</td>\n",
       "    </tr>\n",
       "    <tr>\n",
       "      <th>18755</th>\n",
       "      <td>0</td>\n",
       "      <td>NaN</td>\n",
       "      <td>58</td>\n",
       "      <td>среднее</td>\n",
       "      <td>1</td>\n",
       "      <td>женат / замужем</td>\n",
       "      <td>0</td>\n",
       "      <td>F</td>\n",
       "      <td>пенсионер</td>\n",
       "      <td>0</td>\n",
       "      <td>NaN</td>\n",
       "      <td>заняться образованием</td>\n",
       "      <td>True</td>\n",
       "    </tr>\n",
       "    <tr>\n",
       "      <th>12736</th>\n",
       "      <td>0</td>\n",
       "      <td>NaN</td>\n",
       "      <td>59</td>\n",
       "      <td>среднее</td>\n",
       "      <td>1</td>\n",
       "      <td>женат / замужем</td>\n",
       "      <td>0</td>\n",
       "      <td>F</td>\n",
       "      <td>пенсионер</td>\n",
       "      <td>0</td>\n",
       "      <td>NaN</td>\n",
       "      <td>заняться образованием</td>\n",
       "      <td>True</td>\n",
       "    </tr>\n",
       "    <tr>\n",
       "      <th>15188</th>\n",
       "      <td>0</td>\n",
       "      <td>NaN</td>\n",
       "      <td>60</td>\n",
       "      <td>среднее</td>\n",
       "      <td>1</td>\n",
       "      <td>женат / замужем</td>\n",
       "      <td>0</td>\n",
       "      <td>M</td>\n",
       "      <td>сотрудник</td>\n",
       "      <td>0</td>\n",
       "      <td>NaN</td>\n",
       "      <td>покупка недвижимости</td>\n",
       "      <td>True</td>\n",
       "    </tr>\n",
       "    <tr>\n",
       "      <th>21032</th>\n",
       "      <td>0</td>\n",
       "      <td>NaN</td>\n",
       "      <td>60</td>\n",
       "      <td>среднее</td>\n",
       "      <td>1</td>\n",
       "      <td>женат / замужем</td>\n",
       "      <td>0</td>\n",
       "      <td>F</td>\n",
       "      <td>пенсионер</td>\n",
       "      <td>0</td>\n",
       "      <td>NaN</td>\n",
       "      <td>заняться образованием</td>\n",
       "      <td>True</td>\n",
       "    </tr>\n",
       "    <tr>\n",
       "      <th>4851</th>\n",
       "      <td>0</td>\n",
       "      <td>NaN</td>\n",
       "      <td>60</td>\n",
       "      <td>среднее</td>\n",
       "      <td>1</td>\n",
       "      <td>гражданский брак</td>\n",
       "      <td>1</td>\n",
       "      <td>F</td>\n",
       "      <td>пенсионер</td>\n",
       "      <td>0</td>\n",
       "      <td>NaN</td>\n",
       "      <td>свадьба</td>\n",
       "      <td>True</td>\n",
       "    </tr>\n",
       "    <tr>\n",
       "      <th>19688</th>\n",
       "      <td>0</td>\n",
       "      <td>NaN</td>\n",
       "      <td>61</td>\n",
       "      <td>среднее</td>\n",
       "      <td>1</td>\n",
       "      <td>женат / замужем</td>\n",
       "      <td>0</td>\n",
       "      <td>F</td>\n",
       "      <td>пенсионер</td>\n",
       "      <td>0</td>\n",
       "      <td>NaN</td>\n",
       "      <td>операции с недвижимостью</td>\n",
       "      <td>True</td>\n",
       "    </tr>\n",
       "    <tr>\n",
       "      <th>10462</th>\n",
       "      <td>0</td>\n",
       "      <td>NaN</td>\n",
       "      <td>62</td>\n",
       "      <td>среднее</td>\n",
       "      <td>1</td>\n",
       "      <td>женат / замужем</td>\n",
       "      <td>0</td>\n",
       "      <td>F</td>\n",
       "      <td>пенсионер</td>\n",
       "      <td>0</td>\n",
       "      <td>NaN</td>\n",
       "      <td>покупка коммерческой недвижимости</td>\n",
       "      <td>True</td>\n",
       "    </tr>\n",
       "    <tr>\n",
       "      <th>10994</th>\n",
       "      <td>0</td>\n",
       "      <td>NaN</td>\n",
       "      <td>62</td>\n",
       "      <td>среднее</td>\n",
       "      <td>1</td>\n",
       "      <td>женат / замужем</td>\n",
       "      <td>0</td>\n",
       "      <td>F</td>\n",
       "      <td>пенсионер</td>\n",
       "      <td>0</td>\n",
       "      <td>NaN</td>\n",
       "      <td>ремонт жилью</td>\n",
       "      <td>True</td>\n",
       "    </tr>\n",
       "    <tr>\n",
       "      <th>10864</th>\n",
       "      <td>0</td>\n",
       "      <td>NaN</td>\n",
       "      <td>62</td>\n",
       "      <td>среднее</td>\n",
       "      <td>1</td>\n",
       "      <td>женат / замужем</td>\n",
       "      <td>0</td>\n",
       "      <td>F</td>\n",
       "      <td>пенсионер</td>\n",
       "      <td>0</td>\n",
       "      <td>NaN</td>\n",
       "      <td>ремонт жилью</td>\n",
       "      <td>True</td>\n",
       "    </tr>\n",
       "    <tr>\n",
       "      <th>18428</th>\n",
       "      <td>0</td>\n",
       "      <td>NaN</td>\n",
       "      <td>64</td>\n",
       "      <td>среднее</td>\n",
       "      <td>1</td>\n",
       "      <td>женат / замужем</td>\n",
       "      <td>0</td>\n",
       "      <td>F</td>\n",
       "      <td>пенсионер</td>\n",
       "      <td>0</td>\n",
       "      <td>NaN</td>\n",
       "      <td>жилье</td>\n",
       "      <td>True</td>\n",
       "    </tr>\n",
       "    <tr>\n",
       "      <th>13639</th>\n",
       "      <td>0</td>\n",
       "      <td>NaN</td>\n",
       "      <td>64</td>\n",
       "      <td>среднее</td>\n",
       "      <td>1</td>\n",
       "      <td>женат / замужем</td>\n",
       "      <td>0</td>\n",
       "      <td>F</td>\n",
       "      <td>пенсионер</td>\n",
       "      <td>0</td>\n",
       "      <td>NaN</td>\n",
       "      <td>автомобиль</td>\n",
       "      <td>True</td>\n",
       "    </tr>\n",
       "    <tr>\n",
       "      <th>20702</th>\n",
       "      <td>0</td>\n",
       "      <td>NaN</td>\n",
       "      <td>64</td>\n",
       "      <td>среднее</td>\n",
       "      <td>1</td>\n",
       "      <td>женат / замужем</td>\n",
       "      <td>0</td>\n",
       "      <td>F</td>\n",
       "      <td>пенсионер</td>\n",
       "      <td>0</td>\n",
       "      <td>NaN</td>\n",
       "      <td>дополнительное образование</td>\n",
       "      <td>True</td>\n",
       "    </tr>\n",
       "    <tr>\n",
       "      <th>9528</th>\n",
       "      <td>0</td>\n",
       "      <td>NaN</td>\n",
       "      <td>66</td>\n",
       "      <td>среднее</td>\n",
       "      <td>1</td>\n",
       "      <td>вдовец / вдова</td>\n",
       "      <td>2</td>\n",
       "      <td>F</td>\n",
       "      <td>пенсионер</td>\n",
       "      <td>0</td>\n",
       "      <td>NaN</td>\n",
       "      <td>операции со своей недвижимостью</td>\n",
       "      <td>True</td>\n",
       "    </tr>\n",
       "  </tbody>\n",
       "</table>\n",
       "</div>"
      ],
      "text/plain": [
       "       children  days_employed  dob_years education  education_id  \\\n",
       "19321         0            NaN         23   среднее             1   \n",
       "18328         0            NaN         29    высшее             0   \n",
       "21281         1            NaN         30    высшее             0   \n",
       "18349         1            NaN         30    высшее             0   \n",
       "13878         1            NaN         31   среднее             1   \n",
       "16904         1            NaN         32    высшее             0   \n",
       "4182          1            NaN         34    ВЫСШЕЕ             0   \n",
       "9238          2            NaN         34   среднее             1   \n",
       "13773         0            NaN         35   среднее             1   \n",
       "14432         2            NaN         36    высшее             0   \n",
       "12375         1            NaN         37   среднее             1   \n",
       "19387         0            NaN         38    высшее             0   \n",
       "16902         2            NaN         39   среднее             1   \n",
       "17774         1            NaN         40   среднее             1   \n",
       "10697         0            NaN         40   среднее             1   \n",
       "2849          0            NaN         41   среднее             1   \n",
       "20165         0            NaN         42   среднее             1   \n",
       "17755         1            NaN         43   среднее             1   \n",
       "13025         1            NaN         44   среднее             1   \n",
       "13942         0            NaN         44   среднее             1   \n",
       "19184         0            NaN         46   среднее             1   \n",
       "16378         0            NaN         46   среднее             1   \n",
       "11791         0            NaN         47   среднее             1   \n",
       "21132         0            NaN         47   среднее             1   \n",
       "16176         0            NaN         47   среднее             1   \n",
       "19832         0            NaN         48   среднее             1   \n",
       "14832         0            NaN         50   среднее             1   \n",
       "17379         0            NaN         54    высшее             0   \n",
       "18563         0            NaN         54   среднее             1   \n",
       "21415         0            NaN         54   среднее             1   \n",
       "9627          0            NaN         56   среднее             1   \n",
       "19041         0            NaN         56   среднее             1   \n",
       "18521         0            NaN         56   среднее             1   \n",
       "20116         0            NaN         57   среднее             1   \n",
       "19946         0            NaN         57   среднее             1   \n",
       "7808          0            NaN         57   среднее             1   \n",
       "15273         0            NaN         57   среднее             1   \n",
       "12373         0            NaN         58   среднее             1   \n",
       "5557          0            NaN         58   среднее             1   \n",
       "8583          0            NaN         58    высшее             0   \n",
       "15091         0            NaN         58   среднее             1   \n",
       "18755         0            NaN         58   среднее             1   \n",
       "12736         0            NaN         59   среднее             1   \n",
       "15188         0            NaN         60   среднее             1   \n",
       "21032         0            NaN         60   среднее             1   \n",
       "4851          0            NaN         60   среднее             1   \n",
       "19688         0            NaN         61   среднее             1   \n",
       "10462         0            NaN         62   среднее             1   \n",
       "10994         0            NaN         62   среднее             1   \n",
       "10864         0            NaN         62   среднее             1   \n",
       "18428         0            NaN         64   среднее             1   \n",
       "13639         0            NaN         64   среднее             1   \n",
       "20702         0            NaN         64   среднее             1   \n",
       "9528          0            NaN         66   среднее             1   \n",
       "\n",
       "               family_status  family_status_id gender  income_type  debt  \\\n",
       "19321  Не женат / не замужем                 4      F    сотрудник     0   \n",
       "18328        женат / замужем                 0      M    сотрудник     0   \n",
       "21281        женат / замужем                 0      F    сотрудник     0   \n",
       "18349        женат / замужем                 0      F  госслужащий     0   \n",
       "13878        женат / замужем                 0      F    компаньон     0   \n",
       "16904        женат / замужем                 0      F    сотрудник     0   \n",
       "4182        гражданский брак                 1      F    сотрудник     0   \n",
       "9238         женат / замужем                 0      F    сотрудник     0   \n",
       "13773       гражданский брак                 1      F    сотрудник     0   \n",
       "14432        женат / замужем                 0      F  госслужащий     0   \n",
       "12375        женат / замужем                 0      F    сотрудник     0   \n",
       "19387       гражданский брак                 1      F    компаньон     0   \n",
       "16902       гражданский брак                 1      F    сотрудник     0   \n",
       "17774       гражданский брак                 1      F    компаньон     0   \n",
       "10697       гражданский брак                 1      F    компаньон     0   \n",
       "2849         женат / замужем                 0      F    сотрудник     0   \n",
       "20165        женат / замужем                 0      F    сотрудник     0   \n",
       "17755        женат / замужем                 0      M    сотрудник     0   \n",
       "13025        женат / замужем                 0      F    сотрудник     0   \n",
       "13942        женат / замужем                 0      F    сотрудник     0   \n",
       "19184        женат / замужем                 0      F    сотрудник     0   \n",
       "16378        женат / замужем                 0      F    сотрудник     0   \n",
       "11791        женат / замужем                 0      F    сотрудник     0   \n",
       "21132        женат / замужем                 0      F    сотрудник     0   \n",
       "16176        женат / замужем                 0      F    сотрудник     0   \n",
       "19832        женат / замужем                 0      F    сотрудник     0   \n",
       "14832  Не женат / не замужем                 4      F    сотрудник     0   \n",
       "17379        женат / замужем                 0      M    компаньон     0   \n",
       "18563        женат / замужем                 0      F    сотрудник     0   \n",
       "21415        женат / замужем                 0      F    пенсионер     0   \n",
       "9627         женат / замужем                 0      F    пенсионер     0   \n",
       "19041       гражданский брак                 1      F    сотрудник     0   \n",
       "18521       гражданский брак                 1      F    сотрудник     0   \n",
       "20116       гражданский брак                 1      M    пенсионер     0   \n",
       "19946        женат / замужем                 0      F    сотрудник     0   \n",
       "7808        гражданский брак                 1      F    пенсионер     0   \n",
       "15273       гражданский брак                 1      F    пенсионер     0   \n",
       "12373        женат / замужем                 0      M    сотрудник     0   \n",
       "5557        гражданский брак                 1      F    пенсионер     0   \n",
       "8583   Не женат / не замужем                 4      F    пенсионер     0   \n",
       "15091       гражданский брак                 1      M    сотрудник     0   \n",
       "18755        женат / замужем                 0      F    пенсионер     0   \n",
       "12736        женат / замужем                 0      F    пенсионер     0   \n",
       "15188        женат / замужем                 0      M    сотрудник     0   \n",
       "21032        женат / замужем                 0      F    пенсионер     0   \n",
       "4851        гражданский брак                 1      F    пенсионер     0   \n",
       "19688        женат / замужем                 0      F    пенсионер     0   \n",
       "10462        женат / замужем                 0      F    пенсионер     0   \n",
       "10994        женат / замужем                 0      F    пенсионер     0   \n",
       "10864        женат / замужем                 0      F    пенсионер     0   \n",
       "18428        женат / замужем                 0      F    пенсионер     0   \n",
       "13639        женат / замужем                 0      F    пенсионер     0   \n",
       "20702        женат / замужем                 0      F    пенсионер     0   \n",
       "9528          вдовец / вдова                 2      F    пенсионер     0   \n",
       "\n",
       "       total_income                                purpose  duplicates  \n",
       "19321           NaN       сделка с подержанным автомобилем        True  \n",
       "18328           NaN             покупка жилой недвижимости        True  \n",
       "21281           NaN      покупка коммерческой недвижимости        True  \n",
       "18349           NaN                покупка жилья для семьи        True  \n",
       "13878           NaN                          покупка жилья        True  \n",
       "16904           NaN     на покупку подержанного автомобиля        True  \n",
       "4182            NaN                                свадьба        True  \n",
       "9238            NaN                покупка жилья для сдачи        True  \n",
       "13773           NaN                        сыграть свадьбу        True  \n",
       "14432           NaN                  получение образования        True  \n",
       "12375           NaN                   покупка недвижимости        True  \n",
       "19387           NaN                  на проведение свадьбы        True  \n",
       "16902           NaN                        сыграть свадьбу        True  \n",
       "17774           NaN       строительство жилой недвижимости        True  \n",
       "10697           NaN                        сыграть свадьбу        True  \n",
       "2849            NaN                покупка жилья для семьи        True  \n",
       "20165           NaN                покупка жилья для семьи        True  \n",
       "17755           NaN                  заняться образованием        True  \n",
       "13025           NaN       сделка с подержанным автомобилем        True  \n",
       "13942           NaN                приобретение автомобиля        True  \n",
       "19184           NaN                        свой автомобиль        True  \n",
       "16378           NaN                     высшее образование        True  \n",
       "11791           NaN             строительство недвижимости        True  \n",
       "21132           NaN                           ремонт жилью        True  \n",
       "16176           NaN                           ремонт жилью        True  \n",
       "19832           NaN                           ремонт жилью        True  \n",
       "14832           NaN                           недвижимость        True  \n",
       "17379           NaN  операции с коммерческой недвижимостью        True  \n",
       "18563           NaN        операции со своей недвижимостью        True  \n",
       "21415           NaN                      операции с жильем        True  \n",
       "9627            NaN        операции со своей недвижимостью        True  \n",
       "19041           NaN                  на проведение свадьбы        True  \n",
       "18521           NaN                        сыграть свадьбу        True  \n",
       "20116           NaN                                свадьба        True  \n",
       "19946           NaN       сделка с подержанным автомобилем        True  \n",
       "7808            NaN                  на проведение свадьбы        True  \n",
       "15273           NaN                                свадьба        True  \n",
       "12373           NaN                   покупка недвижимости        True  \n",
       "5557            NaN                        сыграть свадьбу        True  \n",
       "8583            NaN             дополнительное образование        True  \n",
       "15091           NaN                  на проведение свадьбы        True  \n",
       "18755           NaN                  заняться образованием        True  \n",
       "12736           NaN                  заняться образованием        True  \n",
       "15188           NaN                   покупка недвижимости        True  \n",
       "21032           NaN                  заняться образованием        True  \n",
       "4851            NaN                                свадьба        True  \n",
       "19688           NaN               операции с недвижимостью        True  \n",
       "10462           NaN      покупка коммерческой недвижимости        True  \n",
       "10994           NaN                           ремонт жилью        True  \n",
       "10864           NaN                           ремонт жилью        True  \n",
       "18428           NaN                                  жилье        True  \n",
       "13639           NaN                             автомобиль        True  \n",
       "20702           NaN             дополнительное образование        True  \n",
       "9528            NaN        операции со своей недвижимостью        True  "
      ]
     },
     "execution_count": 190,
     "metadata": {},
     "output_type": "execute_result"
    }
   ],
   "source": [
    "banks_customers_default[banks_customers_default['duplicates'] == True].sort_values(by='dob_years')"
   ]
  },
  {
   "cell_type": "markdown",
   "metadata": {},
   "source": [
    "После проверки методом duplicated() было найдено 54 дублирующихся значения. \n",
    "Как видно, это те значения, в которых отсутствуют данные в полях days_employed и total_income.\n",
    "Так как в выгрузки нет поля с id пользователя, а также отсутствуют данные в полях о стаже и доходе, мы не можем с уверенностью сказать, что эти наблюдения являются полными дубликатами, и удалить их.\n"
   ]
  },
  {
   "cell_type": "markdown",
   "metadata": {},
   "source": [
    "Проверим уникальные значения в полях с категорийными переменными: education, family_status, gender, income_type"
   ]
  },
  {
   "cell_type": "markdown",
   "metadata": {},
   "source": [
    "Вызовем метод unique() и посмотрим на поле education."
   ]
  },
  {
   "cell_type": "code",
   "execution_count": 191,
   "metadata": {},
   "outputs": [
    {
     "data": {
      "text/plain": [
       "array(['среднее', 'неоконченное высшее', 'СРЕДНЕЕ', 'Неоконченное высшее',\n",
       "       'высшее', 'Среднее', 'НЕОКОНЧЕННОЕ ВЫСШЕЕ', 'ВЫСШЕЕ', 'Высшее',\n",
       "       'начальное', 'Начальное', 'НАЧАЛЬНОЕ', 'ученая степень',\n",
       "       'УЧЕНАЯ СТЕПЕНЬ', 'Ученая степень'], dtype=object)"
      ]
     },
     "execution_count": 191,
     "metadata": {},
     "output_type": "execute_result"
    }
   ],
   "source": [
    "banks_customers['education'].unique()"
   ]
  },
  {
   "cell_type": "markdown",
   "metadata": {},
   "source": [
    "Видим, что некоторые значения дублируются, но находятся в разных регистрах, переведем все значения поля education в нижний регистр."
   ]
  },
  {
   "cell_type": "code",
   "execution_count": 192,
   "metadata": {},
   "outputs": [],
   "source": [
    "banks_customers['education'] = banks_customers['education'].str.lower()"
   ]
  },
  {
   "cell_type": "code",
   "execution_count": 193,
   "metadata": {},
   "outputs": [
    {
     "data": {
      "text/plain": [
       "array(['гражданский брак', 'женат / замужем', 'Не женат / не замужем',\n",
       "       'в разводе', 'вдовец / вдова'], dtype=object)"
      ]
     },
     "execution_count": 193,
     "metadata": {},
     "output_type": "execute_result"
    }
   ],
   "source": [
    "# уникальные значения поля family_status\n",
    "banks_customers['family_status'].unique()"
   ]
  },
  {
   "cell_type": "code",
   "execution_count": 194,
   "metadata": {},
   "outputs": [
    {
     "data": {
      "text/plain": [
       "array(['M', 'F', 'XNA'], dtype=object)"
      ]
     },
     "execution_count": 194,
     "metadata": {},
     "output_type": "execute_result"
    }
   ],
   "source": [
    "# уникальные значения поля income_type\n",
    "banks_customers['gender'].unique()"
   ]
  },
  {
   "cell_type": "markdown",
   "metadata": {},
   "source": [
    "Gender xna явно не существует(пока). Посмотрим, сколько строк имеют такое значение."
   ]
  },
  {
   "cell_type": "code",
   "execution_count": 195,
   "metadata": {},
   "outputs": [
    {
     "data": {
      "text/html": [
       "<div>\n",
       "<style scoped>\n",
       "    .dataframe tbody tr th:only-of-type {\n",
       "        vertical-align: middle;\n",
       "    }\n",
       "\n",
       "    .dataframe tbody tr th {\n",
       "        vertical-align: top;\n",
       "    }\n",
       "\n",
       "    .dataframe thead th {\n",
       "        text-align: right;\n",
       "    }\n",
       "</style>\n",
       "<table border=\"1\" class=\"dataframe\">\n",
       "  <thead>\n",
       "    <tr style=\"text-align: right;\">\n",
       "      <th></th>\n",
       "      <th>children</th>\n",
       "      <th>days_employed</th>\n",
       "      <th>dob_years</th>\n",
       "      <th>education</th>\n",
       "      <th>education_id</th>\n",
       "      <th>family_status</th>\n",
       "      <th>family_status_id</th>\n",
       "      <th>gender</th>\n",
       "      <th>income_type</th>\n",
       "      <th>debt</th>\n",
       "      <th>total_income</th>\n",
       "      <th>purpose</th>\n",
       "    </tr>\n",
       "  </thead>\n",
       "  <tbody>\n",
       "    <tr>\n",
       "      <th>857</th>\n",
       "      <td>0</td>\n",
       "      <td>2358</td>\n",
       "      <td>24</td>\n",
       "      <td>неоконченное высшее</td>\n",
       "      <td>2</td>\n",
       "      <td>гражданский брак</td>\n",
       "      <td>1</td>\n",
       "      <td>XNA</td>\n",
       "      <td>компаньон</td>\n",
       "      <td>0</td>\n",
       "      <td>203905</td>\n",
       "      <td>покупка недвижимости</td>\n",
       "    </tr>\n",
       "  </tbody>\n",
       "</table>\n",
       "</div>"
      ],
      "text/plain": [
       "     children  days_employed  dob_years            education  education_id  \\\n",
       "857         0           2358         24  неоконченное высшее             2   \n",
       "\n",
       "        family_status  family_status_id gender income_type  debt  \\\n",
       "857  гражданский брак                 1    XNA   компаньон     0   \n",
       "\n",
       "     total_income               purpose  \n",
       "857        203905  покупка недвижимости  "
      ]
     },
     "execution_count": 195,
     "metadata": {},
     "output_type": "execute_result"
    }
   ],
   "source": [
    "banks_customers[banks_customers['gender'] == 'XNA']"
   ]
  },
  {
   "cell_type": "markdown",
   "metadata": {},
   "source": [
    "Нашлась одна строка со значением XNA, так как по представленным данным мы не можем определить пол человека, удалим данную строку."
   ]
  },
  {
   "cell_type": "code",
   "execution_count": 196,
   "metadata": {},
   "outputs": [],
   "source": [
    "banks_customers = banks_customers.drop(banks_customers[banks_customers['gender'] == 'XNA'].index).reset_index(drop=True)"
   ]
  },
  {
   "cell_type": "code",
   "execution_count": 197,
   "metadata": {},
   "outputs": [
    {
     "data": {
      "text/plain": [
       "array(['M', 'F'], dtype=object)"
      ]
     },
     "execution_count": 197,
     "metadata": {},
     "output_type": "execute_result"
    }
   ],
   "source": [
    "# уникальные значения поля income_type с учетом удаления XNA\n",
    "banks_customers['gender'].unique()"
   ]
  },
  {
   "cell_type": "code",
   "execution_count": 198,
   "metadata": {},
   "outputs": [
    {
     "data": {
      "text/plain": [
       "array(['компаньон', 'сотрудник', 'госслужащий', 'студент', 'пенсионер',\n",
       "       'предприниматель', 'безработный', 'в декрете'], dtype=object)"
      ]
     },
     "execution_count": 198,
     "metadata": {},
     "output_type": "execute_result"
    }
   ],
   "source": [
    "# уникальные значения поля income_type\n",
    "banks_customers['income_type'].unique()"
   ]
  },
  {
   "cell_type": "code",
   "execution_count": 199,
   "metadata": {},
   "outputs": [
    {
     "data": {
      "text/plain": [
       "array([ 0,  1,  2, 20,  3, -1,  4,  5])"
      ]
     },
     "execution_count": 199,
     "metadata": {},
     "output_type": "execute_result"
    }
   ],
   "source": [
    "# уникальные значения поля children\n",
    "banks_customers['children'].unique()"
   ]
  },
  {
   "cell_type": "code",
   "execution_count": 200,
   "metadata": {},
   "outputs": [
    {
     "data": {
      "text/plain": [
       "children\n",
       "-1        47\n",
       " 0     14079\n",
       " 1      4802\n",
       " 2      2042\n",
       " 3       328\n",
       " 4        41\n",
       " 5         9\n",
       " 20       75\n",
       "Name: children, dtype: int64"
      ]
     },
     "execution_count": 200,
     "metadata": {},
     "output_type": "execute_result"
    }
   ],
   "source": [
    "banks_customers.groupby('children')['children'].count()"
   ]
  },
  {
   "cell_type": "markdown",
   "metadata": {},
   "source": [
    "Как видно, в данных есть одна явная ошибка - значение -1. Также крайне вероятна ошибка в значении 20, скорее всего, ноль тут лишний. Исправим обнаруженные ошибки: -1 заменим на 1, а 20 заменим на 2."
   ]
  },
  {
   "cell_type": "code",
   "execution_count": 201,
   "metadata": {},
   "outputs": [],
   "source": [
    "banks_customers.loc[(banks_customers['children'] == -1), 'children'] = 1\n",
    "banks_customers.loc[(banks_customers['children'] == 20), 'children'] = 2"
   ]
  },
  {
   "cell_type": "markdown",
   "metadata": {},
   "source": [
    "Объединим клиентов в две категории категории С детьми и Без детей , для этого напишем функцию having_children, которая будет принимать аргументом значение поля children."
   ]
  },
  {
   "cell_type": "code",
   "execution_count": 202,
   "metadata": {},
   "outputs": [],
   "source": [
    "def having_children(children):\n",
    "    if children > 0:\n",
    "        return 'С детьми'\n",
    "    else:\n",
    "        return 'Без детей'"
   ]
  },
  {
   "cell_type": "code",
   "execution_count": 203,
   "metadata": {},
   "outputs": [],
   "source": [
    "banks_customers['having_children'] = banks_customers['children'].apply(having_children)"
   ]
  },
  {
   "cell_type": "code",
   "execution_count": 204,
   "metadata": {},
   "outputs": [
    {
     "data": {
      "text/plain": [
       "children\n",
       "0    14079\n",
       "1     4849\n",
       "2     2117\n",
       "3      328\n",
       "4       41\n",
       "5        9\n",
       "Name: children, dtype: int64"
      ]
     },
     "execution_count": 204,
     "metadata": {},
     "output_type": "execute_result"
    }
   ],
   "source": [
    "banks_customers.groupby('children')['children'].count()"
   ]
  },
  {
   "cell_type": "code",
   "execution_count": null,
   "metadata": {},
   "outputs": [],
   "source": []
  },
  {
   "cell_type": "markdown",
   "metadata": {},
   "source": [
    "## Вывод"
   ]
  },
  {
   "cell_type": "markdown",
   "metadata": {},
   "source": [
    "Исходный датасет проверен на полные дубликаты, найдены 54 значения с совпадающими данными. \n",
    "Из-за отсутствия id пользователя, нельзя со 100% уверенностью говорить о том, что наблюдения в действительности являются дубликатами, а не записями с совпадающими параметрами.\n",
    "\n",
    "В столбце _education_ обнаружены одинаковые категории клиентов, записанные в разном регистре. Методом .str.lower() значения преведены к одному регистру.\n",
    "\n",
    "В поле _gender_ найдено и удалено значение XNA, из-за невозможности причислить его к какому либо полу.\n",
    "\n",
    "В поле _children_ найдены и обработаны ошибки некорректные значения -1 И 20.\n",
    "\n",
    "Значения, дублирующие друг друга по смыслу, есть в поле _purpose_ , их лемматизация и группировка по категориям будет проведена в следующем шаге.\n",
    "\n"
   ]
  },
  {
   "cell_type": "markdown",
   "metadata": {},
   "source": [
    "## 2.3. Лемматизация данных. <a id=\"fifth_bullet\"></a>"
   ]
  },
  {
   "cell_type": "markdown",
   "metadata": {},
   "source": [
    "В рамках проекта мы можем использовать лемматизацию для разделения целей получения кредита на более понятные категории.\n",
    "Для начала отсортируем уникальные значения поля _purpose_."
   ]
  },
  {
   "cell_type": "code",
   "execution_count": 205,
   "metadata": {},
   "outputs": [
    {
     "data": {
      "text/plain": [
       "array(['на проведение свадьбы', 'покупка жилья для сдачи',\n",
       "       'покупка недвижимости', 'высшее образование', 'ремонт жилью',\n",
       "       'свой автомобиль', 'операции со своей недвижимостью', 'автомобили',\n",
       "       'операции с коммерческой недвижимостью',\n",
       "       'покупка коммерческой недвижимости',\n",
       "       'на покупку подержанного автомобиля', 'сыграть свадьбу',\n",
       "       'сделка с автомобилем', 'операции с жильем',\n",
       "       'профильное образование', 'получение образования',\n",
       "       'на покупку своего автомобиля',\n",
       "       'получение дополнительного образования', 'жилье', 'недвижимость',\n",
       "       'покупка жилья', 'покупка жилой недвижимости', 'свадьба',\n",
       "       'получение высшего образования', 'на покупку автомобиля',\n",
       "       'строительство жилой недвижимости', 'покупка своего жилья',\n",
       "       'сделка с подержанным автомобилем', 'покупка жилья для семьи',\n",
       "       'автомобиль', 'заняться высшим образованием',\n",
       "       'строительство собственной недвижимости', 'заняться образованием',\n",
       "       'строительство недвижимости', 'приобретение автомобиля',\n",
       "       'образование', 'дополнительное образование',\n",
       "       'операции с недвижимостью'], dtype=object)"
      ]
     },
     "execution_count": 205,
     "metadata": {},
     "output_type": "execute_result"
    }
   ],
   "source": [
    "purpose_unique = banks_customers['purpose'].unique()\n",
    "purpose_unique"
   ]
  },
  {
   "cell_type": "markdown",
   "metadata": {},
   "source": [
    "Выделим леммы в целях, которые указали клиенты, и определим основные цели получения кредита."
   ]
  },
  {
   "cell_type": "code",
   "execution_count": 206,
   "metadata": {},
   "outputs": [],
   "source": [
    "m = Mystem() "
   ]
  },
  {
   "cell_type": "code",
   "execution_count": 207,
   "metadata": {},
   "outputs": [
    {
     "name": "stdout",
     "output_type": "stream",
     "text": [
      "['на', ' ', 'проведение', ' ', 'свадьба', '\\n']\n",
      "['покупка', ' ', 'жилье', ' ', 'для', ' ', 'сдача', '\\n']\n",
      "['покупка', ' ', 'недвижимость', '\\n']\n",
      "['высокий', ' ', 'образование', '\\n']\n",
      "['ремонт', ' ', 'жилье', '\\n']\n",
      "['свой', ' ', 'автомобиль', '\\n']\n",
      "['операция', ' ', 'со', ' ', 'свой', ' ', 'недвижимость', '\\n']\n",
      "['автомобиль', '\\n']\n",
      "['операция', ' ', 'с', ' ', 'коммерческий', ' ', 'недвижимость', '\\n']\n",
      "['покупка', ' ', 'коммерческий', ' ', 'недвижимость', '\\n']\n",
      "['на', ' ', 'покупка', ' ', 'подержать', ' ', 'автомобиль', '\\n']\n",
      "['сыграть', ' ', 'свадьба', '\\n']\n",
      "['сделка', ' ', 'с', ' ', 'автомобиль', '\\n']\n",
      "['операция', ' ', 'с', ' ', 'жилье', '\\n']\n",
      "['профильный', ' ', 'образование', '\\n']\n",
      "['получение', ' ', 'образование', '\\n']\n",
      "['на', ' ', 'покупка', ' ', 'свой', ' ', 'автомобиль', '\\n']\n",
      "['получение', ' ', 'дополнительный', ' ', 'образование', '\\n']\n",
      "['жилье', '\\n']\n",
      "['недвижимость', '\\n']\n",
      "['покупка', ' ', 'жилье', '\\n']\n",
      "['покупка', ' ', 'жилой', ' ', 'недвижимость', '\\n']\n",
      "['свадьба', '\\n']\n",
      "['получение', ' ', 'высокий', ' ', 'образование', '\\n']\n",
      "['на', ' ', 'покупка', ' ', 'автомобиль', '\\n']\n",
      "['строительство', ' ', 'жилой', ' ', 'недвижимость', '\\n']\n",
      "['покупка', ' ', 'свой', ' ', 'жилье', '\\n']\n",
      "['сделка', ' ', 'с', ' ', 'подержанный', ' ', 'автомобиль', '\\n']\n",
      "['покупка', ' ', 'жилье', ' ', 'для', ' ', 'семья', '\\n']\n",
      "['автомобиль', '\\n']\n",
      "['заниматься', ' ', 'высокий', ' ', 'образование', '\\n']\n",
      "['строительство', ' ', 'собственный', ' ', 'недвижимость', '\\n']\n",
      "['заниматься', ' ', 'образование', '\\n']\n",
      "['строительство', ' ', 'недвижимость', '\\n']\n",
      "['приобретение', ' ', 'автомобиль', '\\n']\n",
      "['образование', '\\n']\n",
      "['дополнительный', ' ', 'образование', '\\n']\n",
      "['операция', ' ', 'с', ' ', 'недвижимость', '\\n']\n",
      "CPU times: user 8.09 ms, sys: 8.28 ms, total: 16.4 ms\n",
      "Wall time: 1.01 s\n"
     ]
    }
   ],
   "source": [
    "%%time\n",
    "k = []\n",
    "for i in range(len(purpose_unique)):\n",
    "    lemma = m.lemmatize(purpose_unique[i])\n",
    "    k.append(lemma)\n",
    "    print(lemma)"
   ]
  },
  {
   "cell_type": "markdown",
   "metadata": {},
   "source": [
    "Основными категориями причин оказались:\n",
    "    * Покупка/строительство/ремонт недвижимости\n",
    "    * Покупка/сделка с автомобилем\n",
    "    * Празднование свадьбы\n",
    "    * Образование\n",
    "    \n",
    "Пропишем условие и сопоставим полученные категории целям, которые указали клиенты занесем в датафрейм _purpose_categories_."
   ]
  },
  {
   "cell_type": "code",
   "execution_count": 208,
   "metadata": {},
   "outputs": [],
   "source": [
    "l = []\n",
    "for i in k:\n",
    "    if 'недвижимость' in i or 'жилье' in i:\n",
    "        l.append('Покупка/строительство/ремонт недвижимости')\n",
    "    elif 'автомобиль' in i:\n",
    "        l.append('Покупка/сделка с автомобилем')\n",
    "    elif 'свадьба' in i:\n",
    "        l.append('Празднование свадьбы')\n",
    "    elif 'образование' in i:\n",
    "        l.append('Образование')        \n",
    "        \n",
    "purpose_categories = pd.DataFrame(list(zip(purpose_unique,l)),columns=['purpose','purpose_category'])"
   ]
  },
  {
   "cell_type": "code",
   "execution_count": 209,
   "metadata": {},
   "outputs": [
    {
     "data": {
      "text/html": [
       "<div>\n",
       "<style scoped>\n",
       "    .dataframe tbody tr th:only-of-type {\n",
       "        vertical-align: middle;\n",
       "    }\n",
       "\n",
       "    .dataframe tbody tr th {\n",
       "        vertical-align: top;\n",
       "    }\n",
       "\n",
       "    .dataframe thead th {\n",
       "        text-align: right;\n",
       "    }\n",
       "</style>\n",
       "<table border=\"1\" class=\"dataframe\">\n",
       "  <thead>\n",
       "    <tr style=\"text-align: right;\">\n",
       "      <th></th>\n",
       "      <th>purpose</th>\n",
       "      <th>purpose_category</th>\n",
       "    </tr>\n",
       "  </thead>\n",
       "  <tbody>\n",
       "    <tr>\n",
       "      <th>0</th>\n",
       "      <td>на проведение свадьбы</td>\n",
       "      <td>Празднование свадьбы</td>\n",
       "    </tr>\n",
       "    <tr>\n",
       "      <th>1</th>\n",
       "      <td>покупка жилья для сдачи</td>\n",
       "      <td>Покупка/строительство/ремонт недвижимости</td>\n",
       "    </tr>\n",
       "    <tr>\n",
       "      <th>2</th>\n",
       "      <td>покупка недвижимости</td>\n",
       "      <td>Покупка/строительство/ремонт недвижимости</td>\n",
       "    </tr>\n",
       "    <tr>\n",
       "      <th>3</th>\n",
       "      <td>высшее образование</td>\n",
       "      <td>Образование</td>\n",
       "    </tr>\n",
       "    <tr>\n",
       "      <th>4</th>\n",
       "      <td>ремонт жилью</td>\n",
       "      <td>Покупка/строительство/ремонт недвижимости</td>\n",
       "    </tr>\n",
       "    <tr>\n",
       "      <th>5</th>\n",
       "      <td>свой автомобиль</td>\n",
       "      <td>Покупка/сделка с автомобилем</td>\n",
       "    </tr>\n",
       "    <tr>\n",
       "      <th>6</th>\n",
       "      <td>операции со своей недвижимостью</td>\n",
       "      <td>Покупка/строительство/ремонт недвижимости</td>\n",
       "    </tr>\n",
       "    <tr>\n",
       "      <th>7</th>\n",
       "      <td>автомобили</td>\n",
       "      <td>Покупка/сделка с автомобилем</td>\n",
       "    </tr>\n",
       "    <tr>\n",
       "      <th>8</th>\n",
       "      <td>операции с коммерческой недвижимостью</td>\n",
       "      <td>Покупка/строительство/ремонт недвижимости</td>\n",
       "    </tr>\n",
       "    <tr>\n",
       "      <th>9</th>\n",
       "      <td>покупка коммерческой недвижимости</td>\n",
       "      <td>Покупка/строительство/ремонт недвижимости</td>\n",
       "    </tr>\n",
       "    <tr>\n",
       "      <th>10</th>\n",
       "      <td>на покупку подержанного автомобиля</td>\n",
       "      <td>Покупка/сделка с автомобилем</td>\n",
       "    </tr>\n",
       "    <tr>\n",
       "      <th>11</th>\n",
       "      <td>сыграть свадьбу</td>\n",
       "      <td>Празднование свадьбы</td>\n",
       "    </tr>\n",
       "    <tr>\n",
       "      <th>12</th>\n",
       "      <td>сделка с автомобилем</td>\n",
       "      <td>Покупка/сделка с автомобилем</td>\n",
       "    </tr>\n",
       "    <tr>\n",
       "      <th>13</th>\n",
       "      <td>операции с жильем</td>\n",
       "      <td>Покупка/строительство/ремонт недвижимости</td>\n",
       "    </tr>\n",
       "    <tr>\n",
       "      <th>14</th>\n",
       "      <td>профильное образование</td>\n",
       "      <td>Образование</td>\n",
       "    </tr>\n",
       "    <tr>\n",
       "      <th>15</th>\n",
       "      <td>получение образования</td>\n",
       "      <td>Образование</td>\n",
       "    </tr>\n",
       "    <tr>\n",
       "      <th>16</th>\n",
       "      <td>на покупку своего автомобиля</td>\n",
       "      <td>Покупка/сделка с автомобилем</td>\n",
       "    </tr>\n",
       "    <tr>\n",
       "      <th>17</th>\n",
       "      <td>получение дополнительного образования</td>\n",
       "      <td>Образование</td>\n",
       "    </tr>\n",
       "    <tr>\n",
       "      <th>18</th>\n",
       "      <td>жилье</td>\n",
       "      <td>Покупка/строительство/ремонт недвижимости</td>\n",
       "    </tr>\n",
       "    <tr>\n",
       "      <th>19</th>\n",
       "      <td>недвижимость</td>\n",
       "      <td>Покупка/строительство/ремонт недвижимости</td>\n",
       "    </tr>\n",
       "    <tr>\n",
       "      <th>20</th>\n",
       "      <td>покупка жилья</td>\n",
       "      <td>Покупка/строительство/ремонт недвижимости</td>\n",
       "    </tr>\n",
       "    <tr>\n",
       "      <th>21</th>\n",
       "      <td>покупка жилой недвижимости</td>\n",
       "      <td>Покупка/строительство/ремонт недвижимости</td>\n",
       "    </tr>\n",
       "    <tr>\n",
       "      <th>22</th>\n",
       "      <td>свадьба</td>\n",
       "      <td>Празднование свадьбы</td>\n",
       "    </tr>\n",
       "    <tr>\n",
       "      <th>23</th>\n",
       "      <td>получение высшего образования</td>\n",
       "      <td>Образование</td>\n",
       "    </tr>\n",
       "    <tr>\n",
       "      <th>24</th>\n",
       "      <td>на покупку автомобиля</td>\n",
       "      <td>Покупка/сделка с автомобилем</td>\n",
       "    </tr>\n",
       "    <tr>\n",
       "      <th>25</th>\n",
       "      <td>строительство жилой недвижимости</td>\n",
       "      <td>Покупка/строительство/ремонт недвижимости</td>\n",
       "    </tr>\n",
       "    <tr>\n",
       "      <th>26</th>\n",
       "      <td>покупка своего жилья</td>\n",
       "      <td>Покупка/строительство/ремонт недвижимости</td>\n",
       "    </tr>\n",
       "    <tr>\n",
       "      <th>27</th>\n",
       "      <td>сделка с подержанным автомобилем</td>\n",
       "      <td>Покупка/сделка с автомобилем</td>\n",
       "    </tr>\n",
       "    <tr>\n",
       "      <th>28</th>\n",
       "      <td>покупка жилья для семьи</td>\n",
       "      <td>Покупка/строительство/ремонт недвижимости</td>\n",
       "    </tr>\n",
       "    <tr>\n",
       "      <th>29</th>\n",
       "      <td>автомобиль</td>\n",
       "      <td>Покупка/сделка с автомобилем</td>\n",
       "    </tr>\n",
       "    <tr>\n",
       "      <th>30</th>\n",
       "      <td>заняться высшим образованием</td>\n",
       "      <td>Образование</td>\n",
       "    </tr>\n",
       "    <tr>\n",
       "      <th>31</th>\n",
       "      <td>строительство собственной недвижимости</td>\n",
       "      <td>Покупка/строительство/ремонт недвижимости</td>\n",
       "    </tr>\n",
       "    <tr>\n",
       "      <th>32</th>\n",
       "      <td>заняться образованием</td>\n",
       "      <td>Образование</td>\n",
       "    </tr>\n",
       "    <tr>\n",
       "      <th>33</th>\n",
       "      <td>строительство недвижимости</td>\n",
       "      <td>Покупка/строительство/ремонт недвижимости</td>\n",
       "    </tr>\n",
       "    <tr>\n",
       "      <th>34</th>\n",
       "      <td>приобретение автомобиля</td>\n",
       "      <td>Покупка/сделка с автомобилем</td>\n",
       "    </tr>\n",
       "    <tr>\n",
       "      <th>35</th>\n",
       "      <td>образование</td>\n",
       "      <td>Образование</td>\n",
       "    </tr>\n",
       "    <tr>\n",
       "      <th>36</th>\n",
       "      <td>дополнительное образование</td>\n",
       "      <td>Образование</td>\n",
       "    </tr>\n",
       "    <tr>\n",
       "      <th>37</th>\n",
       "      <td>операции с недвижимостью</td>\n",
       "      <td>Покупка/строительство/ремонт недвижимости</td>\n",
       "    </tr>\n",
       "  </tbody>\n",
       "</table>\n",
       "</div>"
      ],
      "text/plain": [
       "                                   purpose  \\\n",
       "0                    на проведение свадьбы   \n",
       "1                  покупка жилья для сдачи   \n",
       "2                     покупка недвижимости   \n",
       "3                       высшее образование   \n",
       "4                             ремонт жилью   \n",
       "5                          свой автомобиль   \n",
       "6          операции со своей недвижимостью   \n",
       "7                               автомобили   \n",
       "8    операции с коммерческой недвижимостью   \n",
       "9        покупка коммерческой недвижимости   \n",
       "10      на покупку подержанного автомобиля   \n",
       "11                         сыграть свадьбу   \n",
       "12                    сделка с автомобилем   \n",
       "13                       операции с жильем   \n",
       "14                  профильное образование   \n",
       "15                   получение образования   \n",
       "16            на покупку своего автомобиля   \n",
       "17   получение дополнительного образования   \n",
       "18                                   жилье   \n",
       "19                            недвижимость   \n",
       "20                           покупка жилья   \n",
       "21              покупка жилой недвижимости   \n",
       "22                                 свадьба   \n",
       "23           получение высшего образования   \n",
       "24                   на покупку автомобиля   \n",
       "25        строительство жилой недвижимости   \n",
       "26                    покупка своего жилья   \n",
       "27        сделка с подержанным автомобилем   \n",
       "28                 покупка жилья для семьи   \n",
       "29                              автомобиль   \n",
       "30            заняться высшим образованием   \n",
       "31  строительство собственной недвижимости   \n",
       "32                   заняться образованием   \n",
       "33              строительство недвижимости   \n",
       "34                 приобретение автомобиля   \n",
       "35                             образование   \n",
       "36              дополнительное образование   \n",
       "37                операции с недвижимостью   \n",
       "\n",
       "                             purpose_category  \n",
       "0                        Празднование свадьбы  \n",
       "1   Покупка/строительство/ремонт недвижимости  \n",
       "2   Покупка/строительство/ремонт недвижимости  \n",
       "3                                 Образование  \n",
       "4   Покупка/строительство/ремонт недвижимости  \n",
       "5                Покупка/сделка с автомобилем  \n",
       "6   Покупка/строительство/ремонт недвижимости  \n",
       "7                Покупка/сделка с автомобилем  \n",
       "8   Покупка/строительство/ремонт недвижимости  \n",
       "9   Покупка/строительство/ремонт недвижимости  \n",
       "10               Покупка/сделка с автомобилем  \n",
       "11                       Празднование свадьбы  \n",
       "12               Покупка/сделка с автомобилем  \n",
       "13  Покупка/строительство/ремонт недвижимости  \n",
       "14                                Образование  \n",
       "15                                Образование  \n",
       "16               Покупка/сделка с автомобилем  \n",
       "17                                Образование  \n",
       "18  Покупка/строительство/ремонт недвижимости  \n",
       "19  Покупка/строительство/ремонт недвижимости  \n",
       "20  Покупка/строительство/ремонт недвижимости  \n",
       "21  Покупка/строительство/ремонт недвижимости  \n",
       "22                       Празднование свадьбы  \n",
       "23                                Образование  \n",
       "24               Покупка/сделка с автомобилем  \n",
       "25  Покупка/строительство/ремонт недвижимости  \n",
       "26  Покупка/строительство/ремонт недвижимости  \n",
       "27               Покупка/сделка с автомобилем  \n",
       "28  Покупка/строительство/ремонт недвижимости  \n",
       "29               Покупка/сделка с автомобилем  \n",
       "30                                Образование  \n",
       "31  Покупка/строительство/ремонт недвижимости  \n",
       "32                                Образование  \n",
       "33  Покупка/строительство/ремонт недвижимости  \n",
       "34               Покупка/сделка с автомобилем  \n",
       "35                                Образование  \n",
       "36                                Образование  \n",
       "37  Покупка/строительство/ремонт недвижимости  "
      ]
     },
     "execution_count": 209,
     "metadata": {},
     "output_type": "execute_result"
    }
   ],
   "source": [
    "purpose_categories"
   ]
  },
  {
   "cell_type": "markdown",
   "metadata": {},
   "source": [
    "Добавим категории из purpose_categories в датасет banks_customers при помощи метода merge"
   ]
  },
  {
   "cell_type": "code",
   "execution_count": 210,
   "metadata": {},
   "outputs": [],
   "source": [
    "banks_customers = banks_customers.merge(purpose_categories, on='purpose', how='outer')"
   ]
  },
  {
   "cell_type": "code",
   "execution_count": 211,
   "metadata": {},
   "outputs": [
    {
     "data": {
      "text/plain": [
       "purpose_category\n",
       "Покупка/строительство/ремонт недвижимости    10792\n",
       "Покупка/сделка с автомобилем                  4293\n",
       "Образование                                   4004\n",
       "Празднование свадьбы                          2334\n",
       "Name: purpose_category, dtype: int64"
      ]
     },
     "execution_count": 211,
     "metadata": {},
     "output_type": "execute_result"
    }
   ],
   "source": [
    "banks_customers.groupby('purpose_category')['purpose_category'].count().sort_values(ascending=False)"
   ]
  },
  {
   "cell_type": "markdown",
   "metadata": {},
   "source": [
    "## Вывод"
   ]
  },
  {
   "cell_type": "markdown",
   "metadata": {},
   "source": [
    "Метод лемматизации позволил выделить отдельные категории целей получения кредита, благодаря чему можно увидеть, что чаще всего клиенты берут кредит на **Покупка/строительство/ремонт недвижимости**.\n"
   ]
  },
  {
   "cell_type": "markdown",
   "metadata": {},
   "source": [
    "## 2.4. Категоризация данных. <a id=\"sixth_bullet\"></a>"
   ]
  },
  {
   "cell_type": "markdown",
   "metadata": {},
   "source": [
    "Так как нам предстоит выявить зависимость возврата кредита в срок у разных категорий клиентов, определим средний процент клиентов, имеющих задолженность по всей выборке."
   ]
  },
  {
   "cell_type": "code",
   "execution_count": 212,
   "metadata": {},
   "outputs": [
    {
     "name": "stdout",
     "output_type": "stream",
     "text": [
      "Средний процент клиентов с задолженностью 8.09%\n"
     ]
    }
   ],
   "source": [
    "#Определим средий процент клиентов, которые имели задолженность по кредиту\n",
    "debt_persent = banks_customers.debt.agg({'family_status': 'count','debt': 'sum'}).to_frame()\n",
    "debt_persent = debt_persent.iloc[1,0] / debt_persent.iloc[0,0]\n",
    "print('Средний процент клиентов с задолженностью {:.2%}'.format(debt_persent))"
   ]
  },
  {
   "cell_type": "markdown",
   "metadata": {},
   "source": [
    "Для дальнейшего анализа и ответа на вопросы произведем категоризацию клиентов банка по требуемым параметрам, а именно:\n",
    "* Наличие детей\n",
    "* Семейное положение\n",
    "* Уровень дохода\n",
    "* Цели кредита"
   ]
  },
  {
   "cell_type": "markdown",
   "metadata": {},
   "source": [
    "#### Категоризация по наличию детей "
   ]
  },
  {
   "cell_type": "markdown",
   "metadata": {},
   "source": [
    "Посмотрим, какой процент клиентов имели задолженность по кредиту в зависимости от наличия детей, агрегируем данные и  сделаем датафрейм, в котором будут поля:\n",
    "* having_children - признак наличия детей, \n",
    "* count_of_customers - количесто клиентов всего, \n",
    "* count_of_debtor - количество должников, \n",
    "* debtors_part - доля клиентов имевших задолженность\n"
   ]
  },
  {
   "cell_type": "code",
   "execution_count": 213,
   "metadata": {},
   "outputs": [],
   "source": [
    "#проагрегируем данные\n",
    "having_children_dependence = banks_customers.groupby('having_children').agg({'having_children': 'count','debt': 'sum'}).\\\n",
    "    rename(columns={'having_children':'count_of_customers', 'debt':'count_of_debtor' }).reset_index()\n",
    "#добавим долю клиентов имевших задолженность\n",
    "having_children_dependence['debtors_part'] \\\n",
    "    = round(having_children_dependence['count_of_debtor'] / having_children_dependence['count_of_customers'] * 100, 2)"
   ]
  },
  {
   "cell_type": "code",
   "execution_count": 214,
   "metadata": {},
   "outputs": [
    {
     "data": {
      "text/html": [
       "<div>\n",
       "<style scoped>\n",
       "    .dataframe tbody tr th:only-of-type {\n",
       "        vertical-align: middle;\n",
       "    }\n",
       "\n",
       "    .dataframe tbody tr th {\n",
       "        vertical-align: top;\n",
       "    }\n",
       "\n",
       "    .dataframe thead th {\n",
       "        text-align: right;\n",
       "    }\n",
       "</style>\n",
       "<table border=\"1\" class=\"dataframe\">\n",
       "  <thead>\n",
       "    <tr style=\"text-align: right;\">\n",
       "      <th></th>\n",
       "      <th>having_children</th>\n",
       "      <th>count_of_customers</th>\n",
       "      <th>count_of_debtor</th>\n",
       "      <th>debtors_part</th>\n",
       "    </tr>\n",
       "  </thead>\n",
       "  <tbody>\n",
       "    <tr>\n",
       "      <th>0</th>\n",
       "      <td>Без детей</td>\n",
       "      <td>14079</td>\n",
       "      <td>1058</td>\n",
       "      <td>7.51</td>\n",
       "    </tr>\n",
       "    <tr>\n",
       "      <th>1</th>\n",
       "      <td>С детьми</td>\n",
       "      <td>7344</td>\n",
       "      <td>675</td>\n",
       "      <td>9.19</td>\n",
       "    </tr>\n",
       "  </tbody>\n",
       "</table>\n",
       "</div>"
      ],
      "text/plain": [
       "  having_children  count_of_customers  count_of_debtor  debtors_part\n",
       "0       Без детей               14079             1058          7.51\n",
       "1        С детьми                7344              675          9.19"
      ]
     },
     "execution_count": 214,
     "metadata": {},
     "output_type": "execute_result"
    }
   ],
   "source": [
    "having_children_dependence"
   ]
  },
  {
   "cell_type": "markdown",
   "metadata": {},
   "source": [
    "Также для понимания того, как влияет к-во детей на возврат кредита, выделим категории - без детей, 1-2 ребенка, больше двух детей.\n",
    "Сделаем функцию number_of_children, добавим признак в датасет и выведем сводную таблицу."
   ]
  },
  {
   "cell_type": "code",
   "execution_count": 215,
   "metadata": {},
   "outputs": [],
   "source": [
    "def number_of_children(children):\n",
    "    if children > 2:\n",
    "        return 'больше двух детей'\n",
    "    elif children == 0:\n",
    "        return 'без детей'\n",
    "    elif children == 1:\n",
    "        return 'один ребенок'\n",
    "    else:\n",
    "        return 'два ребенка'"
   ]
  },
  {
   "cell_type": "code",
   "execution_count": 216,
   "metadata": {},
   "outputs": [],
   "source": [
    "banks_customers['number_of_children'] = banks_customers['children'].apply(number_of_children)"
   ]
  },
  {
   "cell_type": "code",
   "execution_count": 217,
   "metadata": {},
   "outputs": [],
   "source": [
    "#проагрегируем данные\n",
    "number_children_dependence = banks_customers.groupby('number_of_children').agg({'number_of_children': 'count','debt': 'sum'}).\\\n",
    "    rename(columns={'number_of_children':'count_of_customers', 'debt':'count_of_debtor' }).reset_index()\n",
    "#добавим долю клиентов, имевших задолженность\n",
    "number_children_dependence['debtors_part'] \\\n",
    "    = round(number_children_dependence['count_of_debtor'] / number_children_dependence['count_of_customers'] * 100, 2)"
   ]
  },
  {
   "cell_type": "code",
   "execution_count": 218,
   "metadata": {},
   "outputs": [
    {
     "data": {
      "text/html": [
       "<div>\n",
       "<style scoped>\n",
       "    .dataframe tbody tr th:only-of-type {\n",
       "        vertical-align: middle;\n",
       "    }\n",
       "\n",
       "    .dataframe tbody tr th {\n",
       "        vertical-align: top;\n",
       "    }\n",
       "\n",
       "    .dataframe thead th {\n",
       "        text-align: right;\n",
       "    }\n",
       "</style>\n",
       "<table border=\"1\" class=\"dataframe\">\n",
       "  <thead>\n",
       "    <tr style=\"text-align: right;\">\n",
       "      <th></th>\n",
       "      <th>number_of_children</th>\n",
       "      <th>count_of_customers</th>\n",
       "      <th>count_of_debtor</th>\n",
       "      <th>debtors_part</th>\n",
       "    </tr>\n",
       "  </thead>\n",
       "  <tbody>\n",
       "    <tr>\n",
       "      <th>0</th>\n",
       "      <td>без детей</td>\n",
       "      <td>14079</td>\n",
       "      <td>1058</td>\n",
       "      <td>7.51</td>\n",
       "    </tr>\n",
       "    <tr>\n",
       "      <th>1</th>\n",
       "      <td>больше двух детей</td>\n",
       "      <td>378</td>\n",
       "      <td>31</td>\n",
       "      <td>8.20</td>\n",
       "    </tr>\n",
       "    <tr>\n",
       "      <th>2</th>\n",
       "      <td>два ребенка</td>\n",
       "      <td>2117</td>\n",
       "      <td>202</td>\n",
       "      <td>9.54</td>\n",
       "    </tr>\n",
       "    <tr>\n",
       "      <th>3</th>\n",
       "      <td>один ребенок</td>\n",
       "      <td>4849</td>\n",
       "      <td>442</td>\n",
       "      <td>9.12</td>\n",
       "    </tr>\n",
       "  </tbody>\n",
       "</table>\n",
       "</div>"
      ],
      "text/plain": [
       "  number_of_children  count_of_customers  count_of_debtor  debtors_part\n",
       "0          без детей               14079             1058          7.51\n",
       "1  больше двух детей                 378               31          8.20\n",
       "2        два ребенка                2117              202          9.54\n",
       "3       один ребенок                4849              442          9.12"
      ]
     },
     "execution_count": 218,
     "metadata": {},
     "output_type": "execute_result"
    }
   ],
   "source": [
    "number_children_dependence"
   ]
  },
  {
   "cell_type": "markdown",
   "metadata": {},
   "source": [
    "#### Категоризация по семейному положению"
   ]
  },
  {
   "cell_type": "markdown",
   "metadata": {},
   "source": [
    "Сделаем категоризацию в зависимости от семейного положения. Сгруппируем данные по категориям:\n",
    "* Не женат / не замужем\n",
    "* в разводе\n",
    "* вдовец / вдова\n",
    "* гражданский брак\n",
    "* женат / замужем\t"
   ]
  },
  {
   "cell_type": "code",
   "execution_count": 219,
   "metadata": {},
   "outputs": [],
   "source": [
    "family_status_dependence = banks_customers.groupby('family_status').agg({'family_status': 'count','debt': 'sum'})\\\n",
    "    .rename(columns={'family_status':'count_of_customers', 'debt':'count_of_debtor' }).reset_index()\n",
    "family_status_dependence['debtors_part'] \\\n",
    "    = round(family_status_dependence['count_of_debtor'] / family_status_dependence['count_of_customers'] * 100, 2)"
   ]
  },
  {
   "cell_type": "code",
   "execution_count": 220,
   "metadata": {},
   "outputs": [
    {
     "data": {
      "text/html": [
       "<div>\n",
       "<style scoped>\n",
       "    .dataframe tbody tr th:only-of-type {\n",
       "        vertical-align: middle;\n",
       "    }\n",
       "\n",
       "    .dataframe tbody tr th {\n",
       "        vertical-align: top;\n",
       "    }\n",
       "\n",
       "    .dataframe thead th {\n",
       "        text-align: right;\n",
       "    }\n",
       "</style>\n",
       "<table border=\"1\" class=\"dataframe\">\n",
       "  <thead>\n",
       "    <tr style=\"text-align: right;\">\n",
       "      <th></th>\n",
       "      <th>family_status</th>\n",
       "      <th>count_of_customers</th>\n",
       "      <th>count_of_debtor</th>\n",
       "      <th>debtors_part</th>\n",
       "    </tr>\n",
       "  </thead>\n",
       "  <tbody>\n",
       "    <tr>\n",
       "      <th>2</th>\n",
       "      <td>вдовец / вдова</td>\n",
       "      <td>955</td>\n",
       "      <td>62</td>\n",
       "      <td>6.49</td>\n",
       "    </tr>\n",
       "    <tr>\n",
       "      <th>1</th>\n",
       "      <td>в разводе</td>\n",
       "      <td>1185</td>\n",
       "      <td>85</td>\n",
       "      <td>7.17</td>\n",
       "    </tr>\n",
       "    <tr>\n",
       "      <th>4</th>\n",
       "      <td>женат / замужем</td>\n",
       "      <td>12331</td>\n",
       "      <td>927</td>\n",
       "      <td>7.52</td>\n",
       "    </tr>\n",
       "    <tr>\n",
       "      <th>3</th>\n",
       "      <td>гражданский брак</td>\n",
       "      <td>4155</td>\n",
       "      <td>386</td>\n",
       "      <td>9.29</td>\n",
       "    </tr>\n",
       "    <tr>\n",
       "      <th>0</th>\n",
       "      <td>Не женат / не замужем</td>\n",
       "      <td>2797</td>\n",
       "      <td>273</td>\n",
       "      <td>9.76</td>\n",
       "    </tr>\n",
       "  </tbody>\n",
       "</table>\n",
       "</div>"
      ],
      "text/plain": [
       "           family_status  count_of_customers  count_of_debtor  debtors_part\n",
       "2         вдовец / вдова                 955               62          6.49\n",
       "1              в разводе                1185               85          7.17\n",
       "4        женат / замужем               12331              927          7.52\n",
       "3       гражданский брак                4155              386          9.29\n",
       "0  Не женат / не замужем                2797              273          9.76"
      ]
     },
     "execution_count": 220,
     "metadata": {},
     "output_type": "execute_result"
    }
   ],
   "source": [
    "family_status_dependence = family_status_dependence.sort_values('debtors_part')\n",
    "family_status_dependence"
   ]
  },
  {
   "cell_type": "markdown",
   "metadata": {},
   "source": [
    "#### Категоризация по уровню дохода"
   ]
  },
  {
   "cell_type": "markdown",
   "metadata": {},
   "source": [
    "Сделаем категоризацию в зависимости от уровня дохода"
   ]
  },
  {
   "cell_type": "markdown",
   "metadata": {},
   "source": [
    "Для того, чтобы понять, как распределяется выборка по уровню дохода, посмотрим квантили распределения. Округлим цифры для понятного визуального восприятия и разобьем на категории, как в предыдущих шагах."
   ]
  },
  {
   "cell_type": "code",
   "execution_count": 221,
   "metadata": {},
   "outputs": [
    {
     "name": "stdout",
     "output_type": "stream",
     "text": [
      "92164\n",
      "119222\n",
      "142594\n",
      "172358\n",
      "228488\n"
     ]
    }
   ],
   "source": [
    "print(round(banks_customers['total_income'].quantile(0.166)))\n",
    "print(round(banks_customers['total_income'].quantile(0.333)))\n",
    "print(round(banks_customers['total_income'].quantile(0.498)))\n",
    "print(round(banks_customers['total_income'].quantile(0.666)))\n",
    "print(round(banks_customers['total_income'].quantile(0.833)))"
   ]
  },
  {
   "cell_type": "code",
   "execution_count": 222,
   "metadata": {},
   "outputs": [],
   "source": [
    "def total_income_category(total_income):\n",
    "    if total_income >= 230000.0:\n",
    "        return '>230000'\n",
    "    elif total_income >= 170000.0:\n",
    "        return '170000 - 230000'\n",
    "    elif total_income >= 140000.0:\n",
    "        return '140000 - 170000'\n",
    "    elif total_income >= 120000.0:\n",
    "        return '120000 - 140000'\n",
    "    elif total_income >= 90000.0:\n",
    "        return '90000 - 120000' \n",
    "    else:\n",
    "        return '20000 - 90000'"
   ]
  },
  {
   "cell_type": "code",
   "execution_count": 223,
   "metadata": {},
   "outputs": [],
   "source": [
    "banks_customers['total_income_category'] = banks_customers['total_income'].apply(total_income_category)"
   ]
  },
  {
   "cell_type": "code",
   "execution_count": 224,
   "metadata": {},
   "outputs": [],
   "source": [
    "total_income_dependence = banks_customers.groupby('total_income_category')\\\n",
    "    .agg({'total_income_category': 'count','debt': 'sum'})\\\n",
    "    .rename(columns={'total_income_category':'count_of_customers', 'debt':'count_of_debtor' }).reset_index()\n",
    "total_income_dependence['debtors_part'] \\\n",
    "    = round(total_income_dependence['count_of_debtor'] / total_income_dependence['count_of_customers'] * 100, 2)"
   ]
  },
  {
   "cell_type": "code",
   "execution_count": 225,
   "metadata": {},
   "outputs": [
    {
     "data": {
      "text/html": [
       "<div>\n",
       "<style scoped>\n",
       "    .dataframe tbody tr th:only-of-type {\n",
       "        vertical-align: middle;\n",
       "    }\n",
       "\n",
       "    .dataframe tbody tr th {\n",
       "        vertical-align: top;\n",
       "    }\n",
       "\n",
       "    .dataframe thead th {\n",
       "        text-align: right;\n",
       "    }\n",
       "</style>\n",
       "<table border=\"1\" class=\"dataframe\">\n",
       "  <thead>\n",
       "    <tr style=\"text-align: right;\">\n",
       "      <th></th>\n",
       "      <th>total_income_category</th>\n",
       "      <th>count_of_customers</th>\n",
       "      <th>count_of_debtor</th>\n",
       "      <th>debtors_part</th>\n",
       "    </tr>\n",
       "  </thead>\n",
       "  <tbody>\n",
       "    <tr>\n",
       "      <th>0</th>\n",
       "      <td>&gt;230000</td>\n",
       "      <td>3499</td>\n",
       "      <td>242</td>\n",
       "      <td>6.92</td>\n",
       "    </tr>\n",
       "    <tr>\n",
       "      <th>1</th>\n",
       "      <td>20000 - 90000</td>\n",
       "      <td>3331</td>\n",
       "      <td>262</td>\n",
       "      <td>7.87</td>\n",
       "    </tr>\n",
       "    <tr>\n",
       "      <th>2</th>\n",
       "      <td>170000 - 230000</td>\n",
       "      <td>4188</td>\n",
       "      <td>333</td>\n",
       "      <td>7.95</td>\n",
       "    </tr>\n",
       "    <tr>\n",
       "      <th>3</th>\n",
       "      <td>90000 - 120000</td>\n",
       "      <td>3887</td>\n",
       "      <td>321</td>\n",
       "      <td>8.26</td>\n",
       "    </tr>\n",
       "    <tr>\n",
       "      <th>4</th>\n",
       "      <td>120000 - 140000</td>\n",
       "      <td>2252</td>\n",
       "      <td>194</td>\n",
       "      <td>8.61</td>\n",
       "    </tr>\n",
       "    <tr>\n",
       "      <th>5</th>\n",
       "      <td>140000 - 170000</td>\n",
       "      <td>4266</td>\n",
       "      <td>381</td>\n",
       "      <td>8.93</td>\n",
       "    </tr>\n",
       "  </tbody>\n",
       "</table>\n",
       "</div>"
      ],
      "text/plain": [
       "  total_income_category  count_of_customers  count_of_debtor  debtors_part\n",
       "0               >230000                3499              242          6.92\n",
       "1         20000 - 90000                3331              262          7.87\n",
       "2       170000 - 230000                4188              333          7.95\n",
       "3        90000 - 120000                3887              321          8.26\n",
       "4       120000 - 140000                2252              194          8.61\n",
       "5       140000 - 170000                4266              381          8.93"
      ]
     },
     "execution_count": 225,
     "metadata": {},
     "output_type": "execute_result"
    }
   ],
   "source": [
    "total_income_dependence = total_income_dependence.sort_values(by='debtors_part').reset_index(drop=True)\n",
    "total_income_dependence"
   ]
  },
  {
   "cell_type": "markdown",
   "metadata": {},
   "source": [
    "#### Категоризация по целям получения кредита"
   ]
  },
  {
   "cell_type": "markdown",
   "metadata": {},
   "source": [
    "Проведем категоризацию в зависимости от целей получения кредита.\n",
    "В датасете уже есть поле purpose_category, добавленное в рамках шага по лемматизации, сгруппируем данные и выявим зависимость, как в предыдущих шагах"
   ]
  },
  {
   "cell_type": "code",
   "execution_count": 226,
   "metadata": {},
   "outputs": [],
   "source": [
    "purpose_category_dependence = banks_customers.groupby('purpose_category')\\\n",
    "    .agg({'purpose_category': 'count','debt': 'sum'})\\\n",
    "    .rename(columns={'purpose_category':'count_of_customers', 'debt':'count_of_debtor' }).reset_index()\n",
    "purpose_category_dependence['debtors_part'] \\\n",
    "    = round(purpose_category_dependence['count_of_debtor'] / purpose_category_dependence['count_of_customers'] * 100, 2)"
   ]
  },
  {
   "cell_type": "code",
   "execution_count": 227,
   "metadata": {},
   "outputs": [
    {
     "data": {
      "text/html": [
       "<div>\n",
       "<style scoped>\n",
       "    .dataframe tbody tr th:only-of-type {\n",
       "        vertical-align: middle;\n",
       "    }\n",
       "\n",
       "    .dataframe tbody tr th {\n",
       "        vertical-align: top;\n",
       "    }\n",
       "\n",
       "    .dataframe thead th {\n",
       "        text-align: right;\n",
       "    }\n",
       "</style>\n",
       "<table border=\"1\" class=\"dataframe\">\n",
       "  <thead>\n",
       "    <tr style=\"text-align: right;\">\n",
       "      <th></th>\n",
       "      <th>purpose_category</th>\n",
       "      <th>count_of_customers</th>\n",
       "      <th>count_of_debtor</th>\n",
       "      <th>debtors_part</th>\n",
       "    </tr>\n",
       "  </thead>\n",
       "  <tbody>\n",
       "    <tr>\n",
       "      <th>0</th>\n",
       "      <td>Покупка/строительство/ремонт недвижимости</td>\n",
       "      <td>10792</td>\n",
       "      <td>779</td>\n",
       "      <td>7.22</td>\n",
       "    </tr>\n",
       "    <tr>\n",
       "      <th>1</th>\n",
       "      <td>Празднование свадьбы</td>\n",
       "      <td>2334</td>\n",
       "      <td>184</td>\n",
       "      <td>7.88</td>\n",
       "    </tr>\n",
       "    <tr>\n",
       "      <th>2</th>\n",
       "      <td>Образование</td>\n",
       "      <td>4004</td>\n",
       "      <td>370</td>\n",
       "      <td>9.24</td>\n",
       "    </tr>\n",
       "    <tr>\n",
       "      <th>3</th>\n",
       "      <td>Покупка/сделка с автомобилем</td>\n",
       "      <td>4293</td>\n",
       "      <td>400</td>\n",
       "      <td>9.32</td>\n",
       "    </tr>\n",
       "  </tbody>\n",
       "</table>\n",
       "</div>"
      ],
      "text/plain": [
       "                            purpose_category  count_of_customers  \\\n",
       "0  Покупка/строительство/ремонт недвижимости               10792   \n",
       "1                       Празднование свадьбы                2334   \n",
       "2                                Образование                4004   \n",
       "3               Покупка/сделка с автомобилем                4293   \n",
       "\n",
       "   count_of_debtor  debtors_part  \n",
       "0              779          7.22  \n",
       "1              184          7.88  \n",
       "2              370          9.24  \n",
       "3              400          9.32  "
      ]
     },
     "execution_count": 227,
     "metadata": {},
     "output_type": "execute_result"
    }
   ],
   "source": [
    "purpose_category_dependence = purpose_category_dependence.sort_values(by='debtors_part').reset_index(drop=True)\n",
    "purpose_category_dependence"
   ]
  },
  {
   "cell_type": "markdown",
   "metadata": {},
   "source": [
    "## Вывод"
   ]
  },
  {
   "cell_type": "markdown",
   "metadata": {},
   "source": [
    "Теперь клиенты разбиты на конкретные категории. Осталось сделать выводы о полученных данных и ответить на вопросы, поставленные банком"
   ]
  },
  {
   "cell_type": "markdown",
   "metadata": {},
   "source": [
    "## 3. Ответы на вопросы. <a id=\"seventh_bullet\"></a>"
   ]
  },
  {
   "cell_type": "markdown",
   "metadata": {},
   "source": [
    "Ответим на поставленные вопросы:\n",
    "    * Есть ли зависимость между наличием детей и возвратом кредита в срок?\n",
    "    * Есть ли зависимость между семейным положением и возвратом кредита в срок?\n",
    "    * Есть ли зависимость между уровнем дохода и возвратом кредита в срок?\n",
    "    * Как разные цели кредита влияют на его возврат в срок?"
   ]
  },
  {
   "cell_type": "code",
   "execution_count": 228,
   "metadata": {},
   "outputs": [
    {
     "data": {
      "text/html": [
       "<div>\n",
       "<style scoped>\n",
       "    .dataframe tbody tr th:only-of-type {\n",
       "        vertical-align: middle;\n",
       "    }\n",
       "\n",
       "    .dataframe tbody tr th {\n",
       "        vertical-align: top;\n",
       "    }\n",
       "\n",
       "    .dataframe thead th {\n",
       "        text-align: right;\n",
       "    }\n",
       "</style>\n",
       "<table border=\"1\" class=\"dataframe\">\n",
       "  <thead>\n",
       "    <tr style=\"text-align: right;\">\n",
       "      <th></th>\n",
       "      <th>number_of_children</th>\n",
       "      <th>count_of_customers</th>\n",
       "      <th>count_of_debtor</th>\n",
       "      <th>debtors_part</th>\n",
       "    </tr>\n",
       "  </thead>\n",
       "  <tbody>\n",
       "    <tr>\n",
       "      <th>0</th>\n",
       "      <td>без детей</td>\n",
       "      <td>14079</td>\n",
       "      <td>1058</td>\n",
       "      <td>7.51</td>\n",
       "    </tr>\n",
       "    <tr>\n",
       "      <th>1</th>\n",
       "      <td>больше двух детей</td>\n",
       "      <td>378</td>\n",
       "      <td>31</td>\n",
       "      <td>8.20</td>\n",
       "    </tr>\n",
       "    <tr>\n",
       "      <th>2</th>\n",
       "      <td>два ребенка</td>\n",
       "      <td>2117</td>\n",
       "      <td>202</td>\n",
       "      <td>9.54</td>\n",
       "    </tr>\n",
       "    <tr>\n",
       "      <th>3</th>\n",
       "      <td>один ребенок</td>\n",
       "      <td>4849</td>\n",
       "      <td>442</td>\n",
       "      <td>9.12</td>\n",
       "    </tr>\n",
       "  </tbody>\n",
       "</table>\n",
       "</div>"
      ],
      "text/plain": [
       "  number_of_children  count_of_customers  count_of_debtor  debtors_part\n",
       "0          без детей               14079             1058          7.51\n",
       "1  больше двух детей                 378               31          8.20\n",
       "2        два ребенка                2117              202          9.54\n",
       "3       один ребенок                4849              442          9.12"
      ]
     },
     "execution_count": 228,
     "metadata": {},
     "output_type": "execute_result"
    }
   ],
   "source": [
    "number_children_dependence"
   ]
  },
  {
   "cell_type": "markdown",
   "metadata": {},
   "source": [
    "Для оценки зависимости между наличием детей и возвратом кредита в срок, клиенты были разбиты на категории - клиенты с детьми и клиенты без детей, выявлена закономерность - если дети есть, то вероятность возникновения задолженности выше.\n",
    "\n",
    "Анализ клиентов в зависимости от количества детей показал, что самый низкий показатель задолженности у клиентов без детей - это может быть обусловлено тем, что у таких клиентов меньше расходы и больше свободного времени, соответственно, им легче своевременно погашать кредиты.\n",
    "\n",
    "Самый высокий показатель задолженности у клиентов с 1-2 детьми, у них больше расходы, но ещё пока нет особых льгот от государства для многодетных семей.\n",
    "\n",
    "В свою очередь, многодетные клиенты чуть более ответственно относятся к погашению кредита, также они получают льготы от государства. В случае 3 и более детей, шанс выше, что большая часть из них запланирована - это значит, что клиенты осознанно относятся и к планированию семейного бюджета.\n",
    "\n"
   ]
  },
  {
   "cell_type": "code",
   "execution_count": 229,
   "metadata": {},
   "outputs": [
    {
     "data": {
      "text/html": [
       "<div>\n",
       "<style scoped>\n",
       "    .dataframe tbody tr th:only-of-type {\n",
       "        vertical-align: middle;\n",
       "    }\n",
       "\n",
       "    .dataframe tbody tr th {\n",
       "        vertical-align: top;\n",
       "    }\n",
       "\n",
       "    .dataframe thead th {\n",
       "        text-align: right;\n",
       "    }\n",
       "</style>\n",
       "<table border=\"1\" class=\"dataframe\">\n",
       "  <thead>\n",
       "    <tr style=\"text-align: right;\">\n",
       "      <th></th>\n",
       "      <th>family_status</th>\n",
       "      <th>count_of_customers</th>\n",
       "      <th>count_of_debtor</th>\n",
       "      <th>debtors_part</th>\n",
       "    </tr>\n",
       "  </thead>\n",
       "  <tbody>\n",
       "    <tr>\n",
       "      <th>2</th>\n",
       "      <td>вдовец / вдова</td>\n",
       "      <td>955</td>\n",
       "      <td>62</td>\n",
       "      <td>6.49</td>\n",
       "    </tr>\n",
       "    <tr>\n",
       "      <th>1</th>\n",
       "      <td>в разводе</td>\n",
       "      <td>1185</td>\n",
       "      <td>85</td>\n",
       "      <td>7.17</td>\n",
       "    </tr>\n",
       "    <tr>\n",
       "      <th>4</th>\n",
       "      <td>женат / замужем</td>\n",
       "      <td>12331</td>\n",
       "      <td>927</td>\n",
       "      <td>7.52</td>\n",
       "    </tr>\n",
       "    <tr>\n",
       "      <th>3</th>\n",
       "      <td>гражданский брак</td>\n",
       "      <td>4155</td>\n",
       "      <td>386</td>\n",
       "      <td>9.29</td>\n",
       "    </tr>\n",
       "    <tr>\n",
       "      <th>0</th>\n",
       "      <td>Не женат / не замужем</td>\n",
       "      <td>2797</td>\n",
       "      <td>273</td>\n",
       "      <td>9.76</td>\n",
       "    </tr>\n",
       "  </tbody>\n",
       "</table>\n",
       "</div>"
      ],
      "text/plain": [
       "           family_status  count_of_customers  count_of_debtor  debtors_part\n",
       "2         вдовец / вдова                 955               62          6.49\n",
       "1              в разводе                1185               85          7.17\n",
       "4        женат / замужем               12331              927          7.52\n",
       "3       гражданский брак                4155              386          9.29\n",
       "0  Не женат / не замужем                2797              273          9.76"
      ]
     },
     "execution_count": 229,
     "metadata": {},
     "output_type": "execute_result"
    }
   ],
   "source": [
    "family_status_dependence"
   ]
  },
  {
   "cell_type": "markdown",
   "metadata": {},
   "source": [
    "Видим, что наиболее ответственными заемщиками оказались либо те, кто состоят в браке, либо те, кто его пережил. Наверное, брак действительно дисциплинирует. Скорее всего, большая часть вдовцов и людей в разводе - уже взрослые, состоявшиеся финансово, осознанные клиенты.\n",
    "\n",
    "Женатые/замужние люди находятся посередине - с одной стороны, у них есть поддержка супруга, но, с другой стороны, как правило, уровень затрат возрастает (появляются дети, жилье, средства передвижения и т.д.).\n",
    "\n",
    "Самый большой процент задолженности наблюдается у неженатых/незамужних клиентов - есть вероятность, что многие из данной категории людей ещё молоды и не стабильны финансово, и в связи с семейным положением не могут рассчитывать на помощь супруга. Отчасти это также применимо и к гражданскому браку. "
   ]
  },
  {
   "cell_type": "code",
   "execution_count": 230,
   "metadata": {},
   "outputs": [
    {
     "data": {
      "text/html": [
       "<div>\n",
       "<style scoped>\n",
       "    .dataframe tbody tr th:only-of-type {\n",
       "        vertical-align: middle;\n",
       "    }\n",
       "\n",
       "    .dataframe tbody tr th {\n",
       "        vertical-align: top;\n",
       "    }\n",
       "\n",
       "    .dataframe thead th {\n",
       "        text-align: right;\n",
       "    }\n",
       "</style>\n",
       "<table border=\"1\" class=\"dataframe\">\n",
       "  <thead>\n",
       "    <tr style=\"text-align: right;\">\n",
       "      <th></th>\n",
       "      <th>total_income_category</th>\n",
       "      <th>count_of_customers</th>\n",
       "      <th>count_of_debtor</th>\n",
       "      <th>debtors_part</th>\n",
       "    </tr>\n",
       "  </thead>\n",
       "  <tbody>\n",
       "    <tr>\n",
       "      <th>0</th>\n",
       "      <td>&gt;230000</td>\n",
       "      <td>3499</td>\n",
       "      <td>242</td>\n",
       "      <td>6.92</td>\n",
       "    </tr>\n",
       "    <tr>\n",
       "      <th>1</th>\n",
       "      <td>20000 - 90000</td>\n",
       "      <td>3331</td>\n",
       "      <td>262</td>\n",
       "      <td>7.87</td>\n",
       "    </tr>\n",
       "    <tr>\n",
       "      <th>2</th>\n",
       "      <td>170000 - 230000</td>\n",
       "      <td>4188</td>\n",
       "      <td>333</td>\n",
       "      <td>7.95</td>\n",
       "    </tr>\n",
       "    <tr>\n",
       "      <th>3</th>\n",
       "      <td>90000 - 120000</td>\n",
       "      <td>3887</td>\n",
       "      <td>321</td>\n",
       "      <td>8.26</td>\n",
       "    </tr>\n",
       "    <tr>\n",
       "      <th>4</th>\n",
       "      <td>120000 - 140000</td>\n",
       "      <td>2252</td>\n",
       "      <td>194</td>\n",
       "      <td>8.61</td>\n",
       "    </tr>\n",
       "    <tr>\n",
       "      <th>5</th>\n",
       "      <td>140000 - 170000</td>\n",
       "      <td>4266</td>\n",
       "      <td>381</td>\n",
       "      <td>8.93</td>\n",
       "    </tr>\n",
       "  </tbody>\n",
       "</table>\n",
       "</div>"
      ],
      "text/plain": [
       "  total_income_category  count_of_customers  count_of_debtor  debtors_part\n",
       "0               >230000                3499              242          6.92\n",
       "1         20000 - 90000                3331              262          7.87\n",
       "2       170000 - 230000                4188              333          7.95\n",
       "3        90000 - 120000                3887              321          8.26\n",
       "4       120000 - 140000                2252              194          8.61\n",
       "5       140000 - 170000                4266              381          8.93"
      ]
     },
     "execution_count": 230,
     "metadata": {},
     "output_type": "execute_result"
    }
   ],
   "source": [
    "total_income_dependence"
   ]
  },
  {
   "cell_type": "markdown",
   "metadata": {},
   "source": [
    "Клиенты, которые больше всех зарабатывают, являются самыми надёжными заёмщиками - наличие высокого дохода и, как следствие, свободных денег позволяет им легко вносить ежемесячные платежи вовремя.\n",
    "\n",
    "Клиенты с наименьшим уровнем дохода не имеют много свободных денег, но в то же время обычно не берут кредиты на большие суммы, поэтому платить вовремя посильные суммы им не так сложно. \n",
    "\n",
    "Клиенты со средним заработком от 90000 до 170000 могут получить кредиты на дорогостоящие товары или услуги. Но у данной категории людей также есть и свои риски, к примеру, предприниматели могут иметь не всегда стабильный бизнес. \n",
    "\n",
    "Также с ростом доходов повышается и потребность в символах статуса, которыми принято обладать, а это приводит к лишним затратам, оказывающимися на самом деле не по карману, как пример - дорогие автомобили, дорогой отдых, одежда люксовых брендов и т.д."
   ]
  },
  {
   "cell_type": "code",
   "execution_count": 231,
   "metadata": {},
   "outputs": [
    {
     "data": {
      "text/html": [
       "<div>\n",
       "<style scoped>\n",
       "    .dataframe tbody tr th:only-of-type {\n",
       "        vertical-align: middle;\n",
       "    }\n",
       "\n",
       "    .dataframe tbody tr th {\n",
       "        vertical-align: top;\n",
       "    }\n",
       "\n",
       "    .dataframe thead th {\n",
       "        text-align: right;\n",
       "    }\n",
       "</style>\n",
       "<table border=\"1\" class=\"dataframe\">\n",
       "  <thead>\n",
       "    <tr style=\"text-align: right;\">\n",
       "      <th></th>\n",
       "      <th>purpose_category</th>\n",
       "      <th>count_of_customers</th>\n",
       "      <th>count_of_debtor</th>\n",
       "      <th>debtors_part</th>\n",
       "    </tr>\n",
       "  </thead>\n",
       "  <tbody>\n",
       "    <tr>\n",
       "      <th>0</th>\n",
       "      <td>Покупка/строительство/ремонт недвижимости</td>\n",
       "      <td>10792</td>\n",
       "      <td>779</td>\n",
       "      <td>7.22</td>\n",
       "    </tr>\n",
       "    <tr>\n",
       "      <th>1</th>\n",
       "      <td>Празднование свадьбы</td>\n",
       "      <td>2334</td>\n",
       "      <td>184</td>\n",
       "      <td>7.88</td>\n",
       "    </tr>\n",
       "    <tr>\n",
       "      <th>2</th>\n",
       "      <td>Образование</td>\n",
       "      <td>4004</td>\n",
       "      <td>370</td>\n",
       "      <td>9.24</td>\n",
       "    </tr>\n",
       "    <tr>\n",
       "      <th>3</th>\n",
       "      <td>Покупка/сделка с автомобилем</td>\n",
       "      <td>4293</td>\n",
       "      <td>400</td>\n",
       "      <td>9.32</td>\n",
       "    </tr>\n",
       "  </tbody>\n",
       "</table>\n",
       "</div>"
      ],
      "text/plain": [
       "                            purpose_category  count_of_customers  \\\n",
       "0  Покупка/строительство/ремонт недвижимости               10792   \n",
       "1                       Празднование свадьбы                2334   \n",
       "2                                Образование                4004   \n",
       "3               Покупка/сделка с автомобилем                4293   \n",
       "\n",
       "   count_of_debtor  debtors_part  \n",
       "0              779          7.22  \n",
       "1              184          7.88  \n",
       "2              370          9.24  \n",
       "3              400          9.32  "
      ]
     },
     "execution_count": 231,
     "metadata": {},
     "output_type": "execute_result"
    }
   ],
   "source": [
    "purpose_category_dependence"
   ]
  },
  {
   "cell_type": "markdown",
   "metadata": {},
   "source": [
    "Самыми надежными оказались заемщики, которые покупают недвижимость и играют свадьбы. \n",
    "\n",
    "Наверное, это обусловлено тем, что покупка недвижимости - важный и хорошо обдуманный шаг. Также это может быть коммерческая недвижимость или жильё для сдачи в аренду, которые приносят клиенту доход. \n",
    "\n",
    "Празднование свадьбы может окупиться за счет подаренных денег, а суммы на подобные кредиты не очень большие в сравнении с кредитами на недвижимость или авто.\n",
    "\n",
    "Кредит на образование - это чаще всего долгосрочное инвестирование, не всегда приносящее высокий доход сразу. За счет этого срок выплат растягивается.\n",
    "\n",
    "Покупка автомобиля в кредит связана со многими рисками. К сумме кредита также добавляется стоимость обслуживания и починки в случае ДТП или поломки. \n"
   ]
  },
  {
   "cell_type": "markdown",
   "metadata": {},
   "source": [
    "## Общие выводы <a id=\"eighth_bullet\"></a>"
   ]
  },
  {
   "cell_type": "markdown",
   "metadata": {},
   "source": [
    "Целью проекта было выявления зависимости - влияет ли семейное положение и количество детей клиента на факт погашения кредита в срок.\n",
    "\n",
    "Входные данные от банка — статистика о платёжеспособности клиентов.\n",
    "\n",
    "Проведена предобработка данных:\n",
    "* Обнаружено 2174 пропущенных значения, причиной пропусков могла быть ошибка при выгрузке данных.\n",
    "* В поле со стажем найдены аномально большие и отрицательные значения, приведены в нормальный вид, согласно гипотезе, что большие значения - измерены в часах, а отрицательные - ошибка выгрузки данных.\n",
    "* Вещественные значения в полях со стажем и доходом заменены на целочисленные, а пропущенные значения в этих же полях заменены на среднее значение и медиану соответственно.\n",
    "* Также во избежание искажения выводов из выборки удалена 101 строка, содержащая значения возраста равное 0.  \n",
    "\n",
    "Основной вывод предобработки данных - выгрузка имеет большое количество ошибок. Необходимо дать обратную связь коллегам из банка для их проработки. Ошибки могут негативно влиять на дальнейшие выводы и точность модели кредитного скоринга.\n",
    "\n",
    "В среднем процент клиентов, имевших задолженность составляет 8.09%. \n",
    "Для ответа на вопросы о зависимостях нам понадобилось разбить клиентов на разные категории.\n",
    "\n",
    "Для оценки зависимости между количеством детей и возвратом кредита в срок, клиенты были разбиты на категории:\n",
    "* Без детей\n",
    "* Один ребенок\n",
    "* Два ребенка \n",
    "* Больше двух детей\n",
    "\n",
    "Анализ данных категорий показал, что самый низкий показатель задолженности у клиентов без детей 7.51% - это может быть обусловлено тем, что у таких клиентов меньше расходы и больше свободного времени, соответственно, им легче своевременно погашать кредит.\n",
    "\n",
    "Самый высокий показатель задолженности у клиентов с одним ребенком - 9.12% и с двумя детьми - 9.54%, у таких клиентов могут быть больше расходы, но ещё пока нет особых льгот от государства для многодетных семей.\n",
    "\n",
    "В свою очередь, многодетные клиенты чуть более ответственно относятся к погашению кредита - 8.20%. \n",
    "Такие клиенты могут получать льготы от государства. В случае 3 и более детей, шанс выше, что большая часть из них запланирована - это значит, что клиенты осознанно относятся к планированию как семьи, так и семейного бюджета.\n",
    "\n",
    "Для анализа зависимости между семейным положением и возвратом кредита в срок, клиенты были разбиты на категории:\n",
    "* вдовец / вдова\n",
    "* в разводе\n",
    "* женат / замужем\t\n",
    "* гражданский брак\t\n",
    "* женат / замужем\n",
    "\n",
    "Анализ показал, что наиболее ответственными заемщиками вдовцы - 6.49% и люди в разводе - 7.17%. \n",
    "Скорее всего, большая часть вдовцов и людей в разводе - уже взрослые, состоявшиеся финансово, осознанные клиенты.\n",
    "\n",
    "Женатые/замужние люди находятся посередине 7.52%.С одной стороны, у них есть поддержка супруга, но, с другой стороны, как правило, уровень затрат возрастает (появляются дети, жилье, средства передвижения и т.д.).\n",
    "\n",
    "Самый большой процент задолженности наблюдается у неженатых/незамужних клиентов 9.76%.\n",
    "Есть вероятность, что многие из данной категории людей ещё молоды и не стабильны финансово, и в связи с семейным положением не могут рассчитывать на помощь супруга. \n",
    "\n",
    "Поставленная цель была выполнена, выявлены и описаны закономерности влияния семейного положения и количества детей клиента на факт погашения кредита, это поможет банку выстроить эффективную модель кредитного скоринга.\n",
    "\n",
    "\n",
    "\n",
    "\n",
    "\n"
   ]
  },
  {
   "cell_type": "code",
   "execution_count": null,
   "metadata": {},
   "outputs": [],
   "source": [
    "users ['name']"
   ]
  }
 ],
 "metadata": {
  "kernelspec": {
   "display_name": "Python 3",
   "language": "python",
   "name": "python3"
  },
  "language_info": {
   "codemirror_mode": {
    "name": "ipython",
    "version": 3
   },
   "file_extension": ".py",
   "mimetype": "text/x-python",
   "name": "python",
   "nbconvert_exporter": "python",
   "pygments_lexer": "ipython3",
   "version": "3.8.5"
  }
 },
 "nbformat": 4,
 "nbformat_minor": 4
}

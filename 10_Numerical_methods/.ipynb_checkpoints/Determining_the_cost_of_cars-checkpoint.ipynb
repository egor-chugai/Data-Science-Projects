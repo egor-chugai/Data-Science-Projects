{
 "cells": [
  {
   "cell_type": "markdown",
   "metadata": {},
   "source": [
    "## Определение стоимости автомобилей"
   ]
  },
  {
   "cell_type": "markdown",
   "metadata": {},
   "source": [
    "Сервис по продаже автомобилей с пробегом «Не бит, не крашен» разрабатывает приложение для привлечения новых клиентов. В нём можно быстро узнать рыночную стоимость своего автомобиля. В вашем распоряжении исторические данные: технические характеристики, комплектации и цены автомобилей. Вам нужно построить модель для определения стоимости.\n",
    "\n",
    "### Инструкция по выполнению проекта\n",
    "Чтобы усилить исследование, не ограничивайтесь градиентным бустингом. Попробуйте более простые модели — иногда они работают лучше. Это редкие случаи, которые легко пропустить, если всегда применять только бустинг. Поэкспериментируйте и сравните характеристики моделей: скорость работы, точность результата.\n",
    "* Загрузите и подготовьте данные.\n",
    "* Обучите разные модели. Для каждой попробуйте различные гиперпараметры.\n",
    "* Проанализируйте скорость работы и качество моделей.\n",
    "\n",
    "### Признаки\n",
    "* DateCrawled — дата скачивания анкеты из базы\n",
    "* VehicleType — тип автомобильного кузова\n",
    "* RegistrationYear — год регистрации автомобиля\n",
    "* Gearbox — тип коробки передач\n",
    "* Power — мощность (л. с.)\n",
    "* Model — модель автомобиля\n",
    "* Kilometer — пробег (км)\n",
    "* RegistrationMonth — месяц регистрации автомобиля\n",
    "* FuelType — тип топлива\n",
    "* Brand — марка автомобиля\n",
    "* NotRepaired — была машина в ремонте или нет\n",
    "* DateCreated — дата создания анкеты\n",
    "* NumberOfPictures — количество фотографий автомобиля\n",
    "* PostalCode — почтовый индекс владельца анкеты (пользователя)\n",
    "* LastSeen — дата последней активности пользователя\n",
    "\n",
    "### Целевой признак\n",
    "* Price — цена (евро)"
   ]
  },
  {
   "cell_type": "markdown",
   "metadata": {},
   "source": [
    "## <a id=\"0.0\"></a> Содержание"
   ]
  },
  {
   "cell_type": "markdown",
   "metadata": {},
   "source": [
    "* [1. Загрузка и подготовка данных](#1.)\n",
    "* [2. Обучение разных моделей](#2.)\n",
    "    * [2.1 CatBoostRegressor](#2.1)\n",
    "    * [2.2 LGBMRegressor](#2.2)\n",
    "    * [2.3 LinearRegression](#2.3)\n",
    "* [3. Анализ скорости работы и качества моделей](#3.)\n",
    "* [4. Вывод](#4.)"
   ]
  },
  {
   "cell_type": "markdown",
   "metadata": {},
   "source": [
    "## 1. Загрузка данных <a id=\"1.\"></a>\n",
    "[к содержанию](#0.0)"
   ]
  },
  {
   "cell_type": "code",
   "execution_count": 2,
   "metadata": {},
   "outputs": [],
   "source": [
    "from catboost import CatBoostRegressor\n",
    "from lightgbm import LGBMRegressor\n",
    "from math import sqrt\n",
    "import numpy as np\n",
    "import pandas as pd\n",
    "from sklearn.dummy import DummyRegressor\n",
    "from sklearn.metrics import mean_squared_error\n",
    "from sklearn.linear_model import LinearRegression\n",
    "from sklearn.model_selection import train_test_split\n",
    "from sklearn.preprocessing import StandardScaler\n",
    "import time\n",
    "import warnings\n",
    "import seaborn as sns\n",
    "import matplotlib.pyplot as plt\n",
    "warnings.filterwarnings(\"ignore\")"
   ]
  },
  {
   "cell_type": "markdown",
   "metadata": {},
   "source": [
    "Считаем данные и посмотрим общую информацию о датафрейме."
   ]
  },
  {
   "cell_type": "code",
   "execution_count": 3,
   "metadata": {},
   "outputs": [
    {
     "data": {
      "text/html": [
       "<div>\n",
       "<style scoped>\n",
       "    .dataframe tbody tr th:only-of-type {\n",
       "        vertical-align: middle;\n",
       "    }\n",
       "\n",
       "    .dataframe tbody tr th {\n",
       "        vertical-align: top;\n",
       "    }\n",
       "\n",
       "    .dataframe thead th {\n",
       "        text-align: right;\n",
       "    }\n",
       "</style>\n",
       "<table border=\"1\" class=\"dataframe\">\n",
       "  <thead>\n",
       "    <tr style=\"text-align: right;\">\n",
       "      <th></th>\n",
       "      <th>DateCrawled</th>\n",
       "      <th>Price</th>\n",
       "      <th>VehicleType</th>\n",
       "      <th>RegistrationYear</th>\n",
       "      <th>Gearbox</th>\n",
       "      <th>Power</th>\n",
       "      <th>Model</th>\n",
       "      <th>Kilometer</th>\n",
       "      <th>RegistrationMonth</th>\n",
       "      <th>FuelType</th>\n",
       "      <th>Brand</th>\n",
       "      <th>NotRepaired</th>\n",
       "      <th>DateCreated</th>\n",
       "      <th>NumberOfPictures</th>\n",
       "      <th>PostalCode</th>\n",
       "      <th>LastSeen</th>\n",
       "    </tr>\n",
       "  </thead>\n",
       "  <tbody>\n",
       "    <tr>\n",
       "      <th>0</th>\n",
       "      <td>2016-03-24 11:52:17</td>\n",
       "      <td>480</td>\n",
       "      <td>NaN</td>\n",
       "      <td>1993</td>\n",
       "      <td>manual</td>\n",
       "      <td>0</td>\n",
       "      <td>golf</td>\n",
       "      <td>150000</td>\n",
       "      <td>0</td>\n",
       "      <td>petrol</td>\n",
       "      <td>volkswagen</td>\n",
       "      <td>NaN</td>\n",
       "      <td>2016-03-24 00:00:00</td>\n",
       "      <td>0</td>\n",
       "      <td>70435</td>\n",
       "      <td>2016-04-07 03:16:57</td>\n",
       "    </tr>\n",
       "    <tr>\n",
       "      <th>1</th>\n",
       "      <td>2016-03-24 10:58:45</td>\n",
       "      <td>18300</td>\n",
       "      <td>coupe</td>\n",
       "      <td>2011</td>\n",
       "      <td>manual</td>\n",
       "      <td>190</td>\n",
       "      <td>NaN</td>\n",
       "      <td>125000</td>\n",
       "      <td>5</td>\n",
       "      <td>gasoline</td>\n",
       "      <td>audi</td>\n",
       "      <td>yes</td>\n",
       "      <td>2016-03-24 00:00:00</td>\n",
       "      <td>0</td>\n",
       "      <td>66954</td>\n",
       "      <td>2016-04-07 01:46:50</td>\n",
       "    </tr>\n",
       "    <tr>\n",
       "      <th>2</th>\n",
       "      <td>2016-03-14 12:52:21</td>\n",
       "      <td>9800</td>\n",
       "      <td>suv</td>\n",
       "      <td>2004</td>\n",
       "      <td>auto</td>\n",
       "      <td>163</td>\n",
       "      <td>grand</td>\n",
       "      <td>125000</td>\n",
       "      <td>8</td>\n",
       "      <td>gasoline</td>\n",
       "      <td>jeep</td>\n",
       "      <td>NaN</td>\n",
       "      <td>2016-03-14 00:00:00</td>\n",
       "      <td>0</td>\n",
       "      <td>90480</td>\n",
       "      <td>2016-04-05 12:47:46</td>\n",
       "    </tr>\n",
       "    <tr>\n",
       "      <th>3</th>\n",
       "      <td>2016-03-17 16:54:04</td>\n",
       "      <td>1500</td>\n",
       "      <td>small</td>\n",
       "      <td>2001</td>\n",
       "      <td>manual</td>\n",
       "      <td>75</td>\n",
       "      <td>golf</td>\n",
       "      <td>150000</td>\n",
       "      <td>6</td>\n",
       "      <td>petrol</td>\n",
       "      <td>volkswagen</td>\n",
       "      <td>no</td>\n",
       "      <td>2016-03-17 00:00:00</td>\n",
       "      <td>0</td>\n",
       "      <td>91074</td>\n",
       "      <td>2016-03-17 17:40:17</td>\n",
       "    </tr>\n",
       "    <tr>\n",
       "      <th>4</th>\n",
       "      <td>2016-03-31 17:25:20</td>\n",
       "      <td>3600</td>\n",
       "      <td>small</td>\n",
       "      <td>2008</td>\n",
       "      <td>manual</td>\n",
       "      <td>69</td>\n",
       "      <td>fabia</td>\n",
       "      <td>90000</td>\n",
       "      <td>7</td>\n",
       "      <td>gasoline</td>\n",
       "      <td>skoda</td>\n",
       "      <td>no</td>\n",
       "      <td>2016-03-31 00:00:00</td>\n",
       "      <td>0</td>\n",
       "      <td>60437</td>\n",
       "      <td>2016-04-06 10:17:21</td>\n",
       "    </tr>\n",
       "  </tbody>\n",
       "</table>\n",
       "</div>"
      ],
      "text/plain": [
       "           DateCrawled  Price VehicleType  RegistrationYear Gearbox  Power  \\\n",
       "0  2016-03-24 11:52:17    480         NaN              1993  manual      0   \n",
       "1  2016-03-24 10:58:45  18300       coupe              2011  manual    190   \n",
       "2  2016-03-14 12:52:21   9800         suv              2004    auto    163   \n",
       "3  2016-03-17 16:54:04   1500       small              2001  manual     75   \n",
       "4  2016-03-31 17:25:20   3600       small              2008  manual     69   \n",
       "\n",
       "   Model  Kilometer  RegistrationMonth  FuelType       Brand NotRepaired  \\\n",
       "0   golf     150000                  0    petrol  volkswagen         NaN   \n",
       "1    NaN     125000                  5  gasoline        audi         yes   \n",
       "2  grand     125000                  8  gasoline        jeep         NaN   \n",
       "3   golf     150000                  6    petrol  volkswagen          no   \n",
       "4  fabia      90000                  7  gasoline       skoda          no   \n",
       "\n",
       "           DateCreated  NumberOfPictures  PostalCode             LastSeen  \n",
       "0  2016-03-24 00:00:00                 0       70435  2016-04-07 03:16:57  \n",
       "1  2016-03-24 00:00:00                 0       66954  2016-04-07 01:46:50  \n",
       "2  2016-03-14 00:00:00                 0       90480  2016-04-05 12:47:46  \n",
       "3  2016-03-17 00:00:00                 0       91074  2016-03-17 17:40:17  \n",
       "4  2016-03-31 00:00:00                 0       60437  2016-04-06 10:17:21  "
      ]
     },
     "execution_count": 3,
     "metadata": {},
     "output_type": "execute_result"
    }
   ],
   "source": [
    "df = pd.read_csv('autos.csv')\n",
    "df.head()"
   ]
  },
  {
   "cell_type": "code",
   "execution_count": 4,
   "metadata": {},
   "outputs": [
    {
     "name": "stdout",
     "output_type": "stream",
     "text": [
      "<class 'pandas.core.frame.DataFrame'>\n",
      "RangeIndex: 354369 entries, 0 to 354368\n",
      "Data columns (total 16 columns):\n",
      " #   Column             Non-Null Count   Dtype \n",
      "---  ------             --------------   ----- \n",
      " 0   DateCrawled        354369 non-null  object\n",
      " 1   Price              354369 non-null  int64 \n",
      " 2   VehicleType        316879 non-null  object\n",
      " 3   RegistrationYear   354369 non-null  int64 \n",
      " 4   Gearbox            334536 non-null  object\n",
      " 5   Power              354369 non-null  int64 \n",
      " 6   Model              334664 non-null  object\n",
      " 7   Kilometer          354369 non-null  int64 \n",
      " 8   RegistrationMonth  354369 non-null  int64 \n",
      " 9   FuelType           321474 non-null  object\n",
      " 10  Brand              354369 non-null  object\n",
      " 11  NotRepaired        283215 non-null  object\n",
      " 12  DateCreated        354369 non-null  object\n",
      " 13  NumberOfPictures   354369 non-null  int64 \n",
      " 14  PostalCode         354369 non-null  int64 \n",
      " 15  LastSeen           354369 non-null  object\n",
      "dtypes: int64(7), object(9)\n",
      "memory usage: 43.3+ MB\n"
     ]
    }
   ],
   "source": [
    "# общая информация о датафрейме\n",
    "df.info()"
   ]
  },
  {
   "cell_type": "code",
   "execution_count": 5,
   "metadata": {},
   "outputs": [
    {
     "data": {
      "text/plain": [
       "(354369, 16)"
      ]
     },
     "execution_count": 5,
     "metadata": {},
     "output_type": "execute_result"
    }
   ],
   "source": [
    "# размер\n",
    "df.shape"
   ]
  },
  {
   "cell_type": "code",
   "execution_count": 6,
   "metadata": {},
   "outputs": [
    {
     "data": {
      "text/plain": [
       "4"
      ]
     },
     "execution_count": 6,
     "metadata": {},
     "output_type": "execute_result"
    }
   ],
   "source": [
    "# количество дубликатов\n",
    "df.duplicated().sum()"
   ]
  },
  {
   "cell_type": "markdown",
   "metadata": {},
   "source": [
    "Данные представлят таблицу с различными характеристиками автомобилей, размерностью 354369 на 16. Имеется 4 полных дубликата. В датасете также имеются признаки, напрямую не влияющие на стоимость автомобиля, такие как LastSeen, PostalCode, NumberOfPictures, DateCreated, DateCrawled. Удалим полные дубликаты а также ненужные для модели признаки"
   ]
  },
  {
   "cell_type": "code",
   "execution_count": 7,
   "metadata": {},
   "outputs": [
    {
     "data": {
      "text/html": [
       "<div>\n",
       "<style scoped>\n",
       "    .dataframe tbody tr th:only-of-type {\n",
       "        vertical-align: middle;\n",
       "    }\n",
       "\n",
       "    .dataframe tbody tr th {\n",
       "        vertical-align: top;\n",
       "    }\n",
       "\n",
       "    .dataframe thead th {\n",
       "        text-align: right;\n",
       "    }\n",
       "</style>\n",
       "<table border=\"1\" class=\"dataframe\">\n",
       "  <thead>\n",
       "    <tr style=\"text-align: right;\">\n",
       "      <th></th>\n",
       "      <th>Price</th>\n",
       "      <th>VehicleType</th>\n",
       "      <th>RegistrationYear</th>\n",
       "      <th>Gearbox</th>\n",
       "      <th>Power</th>\n",
       "      <th>Model</th>\n",
       "      <th>Kilometer</th>\n",
       "      <th>FuelType</th>\n",
       "      <th>Brand</th>\n",
       "      <th>NotRepaired</th>\n",
       "    </tr>\n",
       "  </thead>\n",
       "  <tbody>\n",
       "    <tr>\n",
       "      <th>0</th>\n",
       "      <td>480</td>\n",
       "      <td>NaN</td>\n",
       "      <td>1993</td>\n",
       "      <td>manual</td>\n",
       "      <td>0</td>\n",
       "      <td>golf</td>\n",
       "      <td>150000</td>\n",
       "      <td>petrol</td>\n",
       "      <td>volkswagen</td>\n",
       "      <td>NaN</td>\n",
       "    </tr>\n",
       "    <tr>\n",
       "      <th>1</th>\n",
       "      <td>18300</td>\n",
       "      <td>coupe</td>\n",
       "      <td>2011</td>\n",
       "      <td>manual</td>\n",
       "      <td>190</td>\n",
       "      <td>NaN</td>\n",
       "      <td>125000</td>\n",
       "      <td>gasoline</td>\n",
       "      <td>audi</td>\n",
       "      <td>yes</td>\n",
       "    </tr>\n",
       "    <tr>\n",
       "      <th>2</th>\n",
       "      <td>9800</td>\n",
       "      <td>suv</td>\n",
       "      <td>2004</td>\n",
       "      <td>auto</td>\n",
       "      <td>163</td>\n",
       "      <td>grand</td>\n",
       "      <td>125000</td>\n",
       "      <td>gasoline</td>\n",
       "      <td>jeep</td>\n",
       "      <td>NaN</td>\n",
       "    </tr>\n",
       "    <tr>\n",
       "      <th>3</th>\n",
       "      <td>1500</td>\n",
       "      <td>small</td>\n",
       "      <td>2001</td>\n",
       "      <td>manual</td>\n",
       "      <td>75</td>\n",
       "      <td>golf</td>\n",
       "      <td>150000</td>\n",
       "      <td>petrol</td>\n",
       "      <td>volkswagen</td>\n",
       "      <td>no</td>\n",
       "    </tr>\n",
       "    <tr>\n",
       "      <th>4</th>\n",
       "      <td>3600</td>\n",
       "      <td>small</td>\n",
       "      <td>2008</td>\n",
       "      <td>manual</td>\n",
       "      <td>69</td>\n",
       "      <td>fabia</td>\n",
       "      <td>90000</td>\n",
       "      <td>gasoline</td>\n",
       "      <td>skoda</td>\n",
       "      <td>no</td>\n",
       "    </tr>\n",
       "  </tbody>\n",
       "</table>\n",
       "</div>"
      ],
      "text/plain": [
       "   Price VehicleType  RegistrationYear Gearbox  Power  Model  Kilometer  \\\n",
       "0    480         NaN              1993  manual      0   golf     150000   \n",
       "1  18300       coupe              2011  manual    190    NaN     125000   \n",
       "2   9800         suv              2004    auto    163  grand     125000   \n",
       "3   1500       small              2001  manual     75   golf     150000   \n",
       "4   3600       small              2008  manual     69  fabia      90000   \n",
       "\n",
       "   FuelType       Brand NotRepaired  \n",
       "0    petrol  volkswagen         NaN  \n",
       "1  gasoline        audi         yes  \n",
       "2  gasoline        jeep         NaN  \n",
       "3    petrol  volkswagen          no  \n",
       "4  gasoline       skoda          no  "
      ]
     },
     "execution_count": 7,
     "metadata": {},
     "output_type": "execute_result"
    }
   ],
   "source": [
    "df = df.drop_duplicates()\n",
    "df = df.drop(['LastSeen', 'PostalCode', 'NumberOfPictures', 'DateCreated', 'DateCrawled', 'RegistrationMonth'],axis=1)\n",
    "df.head()"
   ]
  },
  {
   "cell_type": "markdown",
   "metadata": {},
   "source": [
    "Посмотрим статистику по признаку price."
   ]
  },
  {
   "cell_type": "code",
   "execution_count": 8,
   "metadata": {
    "scrolled": false
   },
   "outputs": [
    {
     "data": {
      "image/png": "[encoded data removed]",
      "text/plain": [
       "<Figure size 720x360 with 1 Axes>"
      ]
     },
     "metadata": {
      "needs_background": "light"
     },
     "output_type": "display_data"
    },
    {
     "data": {
      "image/png": "[encoded data removed]",
      "text/plain": [
       "<Figure size 432x288 with 1 Axes>"
      ]
     },
     "metadata": {
      "needs_background": "light"
     },
     "output_type": "display_data"
    },
    {
     "data": {
      "text/plain": [
       "count    354365.000000\n",
       "mean       4416.679830\n",
       "std        4514.176349\n",
       "min           0.000000\n",
       "25%        1050.000000\n",
       "50%        2700.000000\n",
       "75%        6400.000000\n",
       "max       20000.000000\n",
       "Name: Price, dtype: float64"
      ]
     },
     "execution_count": 8,
     "metadata": {},
     "output_type": "execute_result"
    }
   ],
   "source": [
    "sns.displot(df['Price'],bins=100, kde=True, height=5, aspect=2)\n",
    "plt.show()\n",
    "sns.boxplot(data=df['Price'])\n",
    "plt.show()\n",
    "df['Price'].describe()"
   ]
  },
  {
   "cell_type": "markdown",
   "metadata": {},
   "source": [
    "Как видим, есть нулевые знаения цены. Что может являться ошибкой данных, и может помешать обучению модели, так как цель моделирования - определение цены. Проверим долю записей с нулевыми значениями."
   ]
  },
  {
   "cell_type": "code",
   "execution_count": 9,
   "metadata": {},
   "outputs": [
    {
     "data": {
      "text/plain": [
       "0.030398035923412302"
      ]
     },
     "execution_count": 9,
     "metadata": {},
     "output_type": "execute_result"
    }
   ],
   "source": [
    "df[df['Price'] == 0].shape[0] / df.shape[0]"
   ]
  },
  {
   "cell_type": "markdown",
   "metadata": {},
   "source": [
    "Доля нулевых значений - 3%, удалим их из датасета."
   ]
  },
  {
   "cell_type": "code",
   "execution_count": 10,
   "metadata": {},
   "outputs": [],
   "source": [
    "df = df[df['Price'] != 0]"
   ]
  },
  {
   "cell_type": "markdown",
   "metadata": {},
   "source": [
    "Посмотрим на статистику года регистрации авто"
   ]
  },
  {
   "cell_type": "code",
   "execution_count": 11,
   "metadata": {},
   "outputs": [
    {
     "data": {
      "text/plain": [
       "count    343593.00000\n",
       "mean       2004.08983\n",
       "std          78.41368\n",
       "min        1000.00000\n",
       "25%        1999.00000\n",
       "50%        2003.00000\n",
       "75%        2008.00000\n",
       "max        9999.00000\n",
       "Name: RegistrationYear, dtype: float64"
      ]
     },
     "execution_count": 11,
     "metadata": {},
     "output_type": "execute_result"
    }
   ],
   "source": [
    "df['RegistrationYear'].describe()"
   ]
  },
  {
   "cell_type": "code",
   "execution_count": 12,
   "metadata": {},
   "outputs": [
    {
     "data": {
      "text/plain": [
       "139"
      ]
     },
     "execution_count": 12,
     "metadata": {},
     "output_type": "execute_result"
    }
   ],
   "source": [
    "df[(df['RegistrationYear'] < 1900) | (df['RegistrationYear'] > 2021)].shape[0]"
   ]
  },
  {
   "cell_type": "markdown",
   "metadata": {},
   "source": [
    "Как видим, имеются записи, где год регистрации меньше 1900 и больше 2021, удалим эти записи"
   ]
  },
  {
   "cell_type": "code",
   "execution_count": 13,
   "metadata": {},
   "outputs": [],
   "source": [
    "df = df[df['RegistrationYear'] > 1900]\n",
    "df = df[df['RegistrationYear'] < 2021]"
   ]
  },
  {
   "cell_type": "code",
   "execution_count": null,
   "metadata": {},
   "outputs": [],
   "source": []
  },
  {
   "cell_type": "markdown",
   "metadata": {},
   "source": [
    "Проверим столбец с мощьностью двигателя"
   ]
  },
  {
   "cell_type": "code",
   "execution_count": 14,
   "metadata": {},
   "outputs": [
    {
     "data": {
      "image/png": "[encoded data removed]",
      "text/plain": [
       "<Figure size 720x360 with 1 Axes>"
      ]
     },
     "metadata": {
      "needs_background": "light"
     },
     "output_type": "display_data"
    },
    {
     "data": {
      "image/png": "[encoded data removed]",
      "text/plain": [
       "<Figure size 432x288 with 1 Axes>"
      ]
     },
     "metadata": {
      "needs_background": "light"
     },
     "output_type": "display_data"
    },
    {
     "data": {
      "text/plain": [
       "count    343454.000000\n",
       "mean        110.981310\n",
       "std         187.861108\n",
       "min           0.000000\n",
       "25%          69.000000\n",
       "50%         105.000000\n",
       "75%         143.000000\n",
       "max       20000.000000\n",
       "Name: Power, dtype: float64"
      ]
     },
     "execution_count": 14,
     "metadata": {},
     "output_type": "execute_result"
    }
   ],
   "source": [
    "sns.displot(df['Power'],bins=200, kde=True, height=5, aspect=2)\n",
    "plt.show()\n",
    "sns.boxplot(data=df['Power'])\n",
    "plt.ylim(-10, 400)\n",
    "plt.show()\n",
    "df['Power'].describe()"
   ]
  },
  {
   "cell_type": "markdown",
   "metadata": {},
   "source": [
    "Как видно, есть нулевые значения значения и аномальные значения выше 260 л.с. Посмотрим к-во таких значений"
   ]
  },
  {
   "cell_type": "code",
   "execution_count": 15,
   "metadata": {},
   "outputs": [
    {
     "data": {
      "text/plain": [
       "0.10557163404706307"
      ]
     },
     "execution_count": 15,
     "metadata": {},
     "output_type": "execute_result"
    }
   ],
   "source": [
    "#к-во нулевых значений\n",
    "df[df['Power'] == 0].shape[0]/df.shape[0]"
   ]
  },
  {
   "cell_type": "code",
   "execution_count": 16,
   "metadata": {},
   "outputs": [
    {
     "data": {
      "text/plain": [
       "0.019036028114390865"
      ]
     },
     "execution_count": 16,
     "metadata": {},
     "output_type": "execute_result"
    }
   ],
   "source": [
    "df[df['Power'] > 260].shape[0]/df.shape[0]"
   ]
  },
  {
   "cell_type": "markdown",
   "metadata": {},
   "source": [
    "Анамально-высокие значения можем удалить из выборки. А нулевых значений целых 10%, заменим их медианными значениями авто в зависимости от бренда, модели и типа топлива. "
   ]
  },
  {
   "cell_type": "code",
   "execution_count": 17,
   "metadata": {},
   "outputs": [],
   "source": [
    "df = df[df['Power'] <= 260]"
   ]
  },
  {
   "cell_type": "code",
   "execution_count": 18,
   "metadata": {},
   "outputs": [],
   "source": [
    "# median = df.groupby(['Brand', 'Model', 'FuelType'])['Power'].transform('median')\n",
    "# df['Power'] = df['Power'].fillna(median)"
   ]
  },
  {
   "cell_type": "code",
   "execution_count": 19,
   "metadata": {},
   "outputs": [],
   "source": [
    "# сгруппируем данные по брэндам, моделям и типом топлива, также сделаем вторую группировку только по брэндам и моделям\n",
    "df_for_median = df[['Brand', 'Model', 'FuelType']].dropna()\n",
    "df_for_median = df.loc[df_for_median.index]\n",
    "median1 = df_for_median.groupby(['Brand', 'Model', 'FuelType'])['Power'].median()\n",
    "median1 = median1.reset_index()\n",
    "median1 = median1.rename({'Power':'Median1'}, axis=1)\n",
    "\n",
    "median2 = df_for_median.groupby(['Brand', 'Model'])['Power'].median()\n",
    "median2 = median2.reset_index()\n",
    "median2 = median2.rename({'Power':'Median2'}, axis=1)\n",
    "\n",
    "df = df.merge(median1, how='left', on=['Brand','Model','FuelType'])\n",
    "df = df.merge(median2, how='left', on=['Brand','Model'])"
   ]
  },
  {
   "cell_type": "code",
   "execution_count": 20,
   "metadata": {},
   "outputs": [],
   "source": [
    "# функция для замены нулей и nan в Power\n",
    "def power_nan(df):\n",
    "    if df['Power'] == 0 or df['Power'] != df['Power']:\n",
    "        if df['Median1'] != df['Median1']:\n",
    "            return df['Median2']\n",
    "        else:\n",
    "            return df['Median1']\n",
    "    else:\n",
    "        return df['Power']\n",
    "            \n",
    "df[\"Power\"] = df.apply(power_nan, axis=1)\n",
    "df = df.drop(['Median1', 'Median2'], axis=1)"
   ]
  },
  {
   "cell_type": "code",
   "execution_count": 21,
   "metadata": {},
   "outputs": [],
   "source": [
    "# удалим оставшиеся nan и нулевые значения в power \n",
    "df = df[~df[\"Power\"].isnull()]\n",
    "df = df[df['Power'] != 0]"
   ]
  },
  {
   "cell_type": "code",
   "execution_count": null,
   "metadata": {},
   "outputs": [],
   "source": []
  },
  {
   "cell_type": "markdown",
   "metadata": {},
   "source": [
    "Посмотрим значения пробега"
   ]
  },
  {
   "cell_type": "code",
   "execution_count": 22,
   "metadata": {},
   "outputs": [
    {
     "data": {
      "image/png": "[encoded data removed]",
      "text/plain": [
       "<Figure size 720x360 with 1 Axes>"
      ]
     },
     "metadata": {
      "needs_background": "light"
     },
     "output_type": "display_data"
    },
    {
     "data": {
      "image/png": "[encoded data removed]",
      "text/plain": [
       "<Figure size 432x288 with 1 Axes>"
      ]
     },
     "metadata": {
      "needs_background": "light"
     },
     "output_type": "display_data"
    },
    {
     "data": {
      "text/plain": [
       "count    331852.000000\n",
       "mean     128501.199330\n",
       "std       37161.088502\n",
       "min        5000.000000\n",
       "25%      125000.000000\n",
       "50%      150000.000000\n",
       "75%      150000.000000\n",
       "max      150000.000000\n",
       "Name: Kilometer, dtype: float64"
      ]
     },
     "execution_count": 22,
     "metadata": {},
     "output_type": "execute_result"
    }
   ],
   "source": [
    "sns.displot(df['Kilometer'],bins=100, kde=True, height=5, aspect=2)\n",
    "plt.show()\n",
    "sns.boxplot(data=df['Kilometer'])\n",
    "plt.show()\n",
    "df['Kilometer'].describe()"
   ]
  },
  {
   "cell_type": "markdown",
   "metadata": {},
   "source": [
    "Видимо значения пробега упираются в потолок 150000, например, такое значение могло быть установлено как максимум при заполнений анкеты на сайте"
   ]
  },
  {
   "cell_type": "markdown",
   "metadata": {},
   "source": [
    "Посмотрим количество пропусков"
   ]
  },
  {
   "cell_type": "code",
   "execution_count": 23,
   "metadata": {},
   "outputs": [
    {
     "data": {
      "text/plain": [
       "Price                   0\n",
       "VehicleType         30550\n",
       "RegistrationYear        0\n",
       "Gearbox             14896\n",
       "Power                   0\n",
       "Model               11965\n",
       "Kilometer               0\n",
       "FuelType            26491\n",
       "Brand                   0\n",
       "NotRepaired         61599\n",
       "dtype: int64"
      ]
     },
     "execution_count": 23,
     "metadata": {},
     "output_type": "execute_result"
    }
   ],
   "source": [
    "df.isna().sum()"
   ]
  },
  {
   "cell_type": "markdown",
   "metadata": {},
   "source": [
    "Видим большое к-во пропусков, выделим пропуски в отдельную категорию 'unknown', чтобы не удалять такое большое к-во строк"
   ]
  },
  {
   "cell_type": "code",
   "execution_count": 24,
   "metadata": {},
   "outputs": [],
   "source": [
    "df = df.fillna('unknown')"
   ]
  },
  {
   "cell_type": "code",
   "execution_count": 25,
   "metadata": {},
   "outputs": [
    {
     "name": "stdout",
     "output_type": "stream",
     "text": [
      "<class 'pandas.core.frame.DataFrame'>\n",
      "Int64Index: 331852 entries, 0 to 336915\n",
      "Data columns (total 10 columns):\n",
      " #   Column            Non-Null Count   Dtype  \n",
      "---  ------            --------------   -----  \n",
      " 0   Price             331852 non-null  int64  \n",
      " 1   VehicleType       331852 non-null  object \n",
      " 2   RegistrationYear  331852 non-null  int64  \n",
      " 3   Gearbox           331852 non-null  object \n",
      " 4   Power             331852 non-null  float64\n",
      " 5   Model             331852 non-null  object \n",
      " 6   Kilometer         331852 non-null  int64  \n",
      " 7   FuelType          331852 non-null  object \n",
      " 8   Brand             331852 non-null  object \n",
      " 9   NotRepaired       331852 non-null  object \n",
      "dtypes: float64(1), int64(3), object(6)\n",
      "memory usage: 37.9+ MB\n"
     ]
    }
   ],
   "source": [
    "df.info()"
   ]
  },
  {
   "cell_type": "markdown",
   "metadata": {},
   "source": [
    "Заменим тип данных в полях с типом object на тип category"
   ]
  },
  {
   "cell_type": "code",
   "execution_count": 26,
   "metadata": {},
   "outputs": [],
   "source": [
    "categories_cols = df.select_dtypes(include='object').columns\n",
    "for col in categories_cols:\n",
    "    df[col] = df[col].astype('category')"
   ]
  },
  {
   "cell_type": "markdown",
   "metadata": {},
   "source": [
    "Разделим данные на выборки"
   ]
  },
  {
   "cell_type": "code",
   "execution_count": 27,
   "metadata": {},
   "outputs": [],
   "source": [
    "target = df['Price']\n",
    "features = df.drop('Price', axis=1)\n",
    "\n",
    "features_train, features_valid, target_train, target_valid = train_test_split(features, \n",
    "                                                                              target, \n",
    "                                                                              train_size=0.60, \n",
    "                                                                              test_size=0.40, \n",
    "                                                                              random_state=123)\n",
    "\n",
    "features_valid, features_test, target_valid, target_test = train_test_split(features_valid, \n",
    "                                                                            target_valid, \n",
    "                                                                            train_size=0.50, \n",
    "                                                                            test_size=0.50, \n",
    "                                                                            random_state=123)"
   ]
  },
  {
   "cell_type": "code",
   "execution_count": 28,
   "metadata": {},
   "outputs": [
    {
     "data": {
      "text/html": [
       "<div>\n",
       "<style scoped>\n",
       "    .dataframe tbody tr th:only-of-type {\n",
       "        vertical-align: middle;\n",
       "    }\n",
       "\n",
       "    .dataframe tbody tr th {\n",
       "        vertical-align: top;\n",
       "    }\n",
       "\n",
       "    .dataframe thead th {\n",
       "        text-align: right;\n",
       "    }\n",
       "</style>\n",
       "<table border=\"1\" class=\"dataframe\">\n",
       "  <thead>\n",
       "    <tr style=\"text-align: right;\">\n",
       "      <th></th>\n",
       "      <th>VehicleType</th>\n",
       "      <th>RegistrationYear</th>\n",
       "      <th>Gearbox</th>\n",
       "      <th>Power</th>\n",
       "      <th>Model</th>\n",
       "      <th>Kilometer</th>\n",
       "      <th>FuelType</th>\n",
       "      <th>Brand</th>\n",
       "      <th>NotRepaired</th>\n",
       "    </tr>\n",
       "  </thead>\n",
       "  <tbody>\n",
       "    <tr>\n",
       "      <th>0</th>\n",
       "      <td>unknown</td>\n",
       "      <td>1993</td>\n",
       "      <td>manual</td>\n",
       "      <td>90.0</td>\n",
       "      <td>golf</td>\n",
       "      <td>150000</td>\n",
       "      <td>petrol</td>\n",
       "      <td>volkswagen</td>\n",
       "      <td>unknown</td>\n",
       "    </tr>\n",
       "    <tr>\n",
       "      <th>1</th>\n",
       "      <td>coupe</td>\n",
       "      <td>2011</td>\n",
       "      <td>manual</td>\n",
       "      <td>190.0</td>\n",
       "      <td>unknown</td>\n",
       "      <td>125000</td>\n",
       "      <td>gasoline</td>\n",
       "      <td>audi</td>\n",
       "      <td>yes</td>\n",
       "    </tr>\n",
       "    <tr>\n",
       "      <th>2</th>\n",
       "      <td>suv</td>\n",
       "      <td>2004</td>\n",
       "      <td>auto</td>\n",
       "      <td>163.0</td>\n",
       "      <td>grand</td>\n",
       "      <td>125000</td>\n",
       "      <td>gasoline</td>\n",
       "      <td>jeep</td>\n",
       "      <td>unknown</td>\n",
       "    </tr>\n",
       "    <tr>\n",
       "      <th>3</th>\n",
       "      <td>small</td>\n",
       "      <td>2001</td>\n",
       "      <td>manual</td>\n",
       "      <td>75.0</td>\n",
       "      <td>golf</td>\n",
       "      <td>150000</td>\n",
       "      <td>petrol</td>\n",
       "      <td>volkswagen</td>\n",
       "      <td>no</td>\n",
       "    </tr>\n",
       "    <tr>\n",
       "      <th>4</th>\n",
       "      <td>small</td>\n",
       "      <td>2008</td>\n",
       "      <td>manual</td>\n",
       "      <td>69.0</td>\n",
       "      <td>fabia</td>\n",
       "      <td>90000</td>\n",
       "      <td>gasoline</td>\n",
       "      <td>skoda</td>\n",
       "      <td>no</td>\n",
       "    </tr>\n",
       "    <tr>\n",
       "      <th>...</th>\n",
       "      <td>...</td>\n",
       "      <td>...</td>\n",
       "      <td>...</td>\n",
       "      <td>...</td>\n",
       "      <td>...</td>\n",
       "      <td>...</td>\n",
       "      <td>...</td>\n",
       "      <td>...</td>\n",
       "      <td>...</td>\n",
       "    </tr>\n",
       "    <tr>\n",
       "      <th>336910</th>\n",
       "      <td>sedan</td>\n",
       "      <td>2004</td>\n",
       "      <td>manual</td>\n",
       "      <td>225.0</td>\n",
       "      <td>leon</td>\n",
       "      <td>150000</td>\n",
       "      <td>petrol</td>\n",
       "      <td>seat</td>\n",
       "      <td>yes</td>\n",
       "    </tr>\n",
       "    <tr>\n",
       "      <th>336911</th>\n",
       "      <td>bus</td>\n",
       "      <td>2000</td>\n",
       "      <td>manual</td>\n",
       "      <td>125.0</td>\n",
       "      <td>zafira</td>\n",
       "      <td>150000</td>\n",
       "      <td>petrol</td>\n",
       "      <td>opel</td>\n",
       "      <td>no</td>\n",
       "    </tr>\n",
       "    <tr>\n",
       "      <th>336913</th>\n",
       "      <td>convertible</td>\n",
       "      <td>2000</td>\n",
       "      <td>auto</td>\n",
       "      <td>101.0</td>\n",
       "      <td>fortwo</td>\n",
       "      <td>125000</td>\n",
       "      <td>petrol</td>\n",
       "      <td>smart</td>\n",
       "      <td>no</td>\n",
       "    </tr>\n",
       "    <tr>\n",
       "      <th>336914</th>\n",
       "      <td>bus</td>\n",
       "      <td>1996</td>\n",
       "      <td>manual</td>\n",
       "      <td>102.0</td>\n",
       "      <td>transporter</td>\n",
       "      <td>150000</td>\n",
       "      <td>gasoline</td>\n",
       "      <td>volkswagen</td>\n",
       "      <td>no</td>\n",
       "    </tr>\n",
       "    <tr>\n",
       "      <th>336915</th>\n",
       "      <td>wagon</td>\n",
       "      <td>2002</td>\n",
       "      <td>manual</td>\n",
       "      <td>100.0</td>\n",
       "      <td>golf</td>\n",
       "      <td>150000</td>\n",
       "      <td>gasoline</td>\n",
       "      <td>volkswagen</td>\n",
       "      <td>unknown</td>\n",
       "    </tr>\n",
       "  </tbody>\n",
       "</table>\n",
       "<p>331852 rows × 9 columns</p>\n",
       "</div>"
      ],
      "text/plain": [
       "        VehicleType  RegistrationYear Gearbox  Power        Model  Kilometer  \\\n",
       "0           unknown              1993  manual   90.0         golf     150000   \n",
       "1             coupe              2011  manual  190.0      unknown     125000   \n",
       "2               suv              2004    auto  163.0        grand     125000   \n",
       "3             small              2001  manual   75.0         golf     150000   \n",
       "4             small              2008  manual   69.0        fabia      90000   \n",
       "...             ...               ...     ...    ...          ...        ...   \n",
       "336910        sedan              2004  manual  225.0         leon     150000   \n",
       "336911          bus              2000  manual  125.0       zafira     150000   \n",
       "336913  convertible              2000    auto  101.0       fortwo     125000   \n",
       "336914          bus              1996  manual  102.0  transporter     150000   \n",
       "336915        wagon              2002  manual  100.0         golf     150000   \n",
       "\n",
       "        FuelType       Brand NotRepaired  \n",
       "0         petrol  volkswagen     unknown  \n",
       "1       gasoline        audi         yes  \n",
       "2       gasoline        jeep     unknown  \n",
       "3         petrol  volkswagen          no  \n",
       "4       gasoline       skoda          no  \n",
       "...          ...         ...         ...  \n",
       "336910    petrol        seat         yes  \n",
       "336911    petrol        opel          no  \n",
       "336913    petrol       smart          no  \n",
       "336914  gasoline  volkswagen          no  \n",
       "336915  gasoline  volkswagen     unknown  \n",
       "\n",
       "[331852 rows x 9 columns]"
      ]
     },
     "execution_count": 28,
     "metadata": {},
     "output_type": "execute_result"
    }
   ],
   "source": [
    "features"
   ]
  },
  {
   "cell_type": "markdown",
   "metadata": {},
   "source": [
    "## Вывод"
   ]
  },
  {
   "cell_type": "markdown",
   "metadata": {},
   "source": [
    "В ходе предобработки были: \n",
    "* удалениы полные дубликаты, \n",
    "* признаки, не являющиеся характеристиками авто\n",
    "* удалены аномальные значения года регистрации авто\n",
    "* удалены аномально-высокие значения мощности двигателя, а нулевые значения и пропуски заменены медианными\n",
    "* пропуски во всех категориальных полях заменены на \"unknown\"\n",
    "\n",
    "    "
   ]
  },
  {
   "cell_type": "markdown",
   "metadata": {},
   "source": [
    "## 2. Обучение разных моделей <a id=\"2.\"></a>"
   ]
  },
  {
   "cell_type": "markdown",
   "metadata": {},
   "source": [
    "### 2.1 CatBoostRegressor <a id=\"2.1\"></a>\n",
    "[к содержанию](#0.0)"
   ]
  },
  {
   "cell_type": "markdown",
   "metadata": {},
   "source": [
    "Обучим модель CatBoostRegressor и подберем оптимальные гиперпараметры"
   ]
  },
  {
   "cell_type": "code",
   "execution_count": 29,
   "metadata": {
    "scrolled": true
   },
   "outputs": [
    {
     "name": "stdout",
     "output_type": "stream",
     "text": [
      "Learning rate set to 0.5\n",
      "0:\tlearn: 3240.6587711\ttotal: 110ms\tremaining: 989ms\n",
      "1:\tlearn: 2671.9763826\ttotal: 158ms\tremaining: 632ms\n",
      "2:\tlearn: 2406.6208628\ttotal: 237ms\tremaining: 553ms\n",
      "3:\tlearn: 2229.1932404\ttotal: 286ms\tremaining: 429ms\n",
      "4:\tlearn: 2145.0142101\ttotal: 323ms\tremaining: 323ms\n",
      "5:\tlearn: 2077.7687589\ttotal: 361ms\tremaining: 241ms\n",
      "6:\tlearn: 2034.5262311\ttotal: 397ms\tremaining: 170ms\n",
      "7:\tlearn: 2007.6970032\ttotal: 431ms\tremaining: 108ms\n",
      "8:\tlearn: 1977.5812839\ttotal: 489ms\tremaining: 54.3ms\n",
      "9:\tlearn: 1958.3986672\ttotal: 544ms\tremaining: 0us\n",
      "Learning rate set to 0.5\n",
      "0:\tlearn: 3115.7816166\ttotal: 77.9ms\tremaining: 701ms\n",
      "1:\tlearn: 2508.0123541\ttotal: 145ms\tremaining: 582ms\n",
      "2:\tlearn: 2219.6266538\ttotal: 228ms\tremaining: 531ms\n",
      "3:\tlearn: 2101.5716129\ttotal: 347ms\tremaining: 520ms\n",
      "4:\tlearn: 2003.9188201\ttotal: 402ms\tremaining: 402ms\n",
      "5:\tlearn: 1955.9541922\ttotal: 484ms\tremaining: 323ms\n",
      "6:\tlearn: 1922.8159331\ttotal: 546ms\tremaining: 234ms\n",
      "7:\tlearn: 1898.5056353\ttotal: 603ms\tremaining: 151ms\n",
      "8:\tlearn: 1875.8234311\ttotal: 651ms\tremaining: 72.4ms\n",
      "9:\tlearn: 1861.3729365\ttotal: 706ms\tremaining: 0us\n",
      "Learning rate set to 0.5\n",
      "0:\tlearn: 3043.2576264\ttotal: 79.3ms\tremaining: 714ms\n",
      "1:\tlearn: 2426.2194373\ttotal: 156ms\tremaining: 623ms\n",
      "2:\tlearn: 2139.1598680\ttotal: 271ms\tremaining: 632ms\n",
      "3:\tlearn: 2007.9174202\ttotal: 348ms\tremaining: 522ms\n",
      "4:\tlearn: 1929.3161718\ttotal: 418ms\tremaining: 418ms\n",
      "5:\tlearn: 1872.2378420\ttotal: 515ms\tremaining: 343ms\n",
      "6:\tlearn: 1835.9419718\ttotal: 590ms\tremaining: 253ms\n",
      "7:\tlearn: 1820.3699564\ttotal: 677ms\tremaining: 169ms\n",
      "8:\tlearn: 1801.4333504\ttotal: 766ms\tremaining: 85.1ms\n",
      "9:\tlearn: 1786.5532187\ttotal: 839ms\tremaining: 0us\n",
      "Learning rate set to 0.5\n",
      "0:\tlearn: 3240.6587711\ttotal: 53.1ms\tremaining: 1.54s\n",
      "1:\tlearn: 2671.9763826\ttotal: 100ms\tremaining: 1.4s\n",
      "2:\tlearn: 2406.6208628\ttotal: 149ms\tremaining: 1.34s\n",
      "3:\tlearn: 2229.1932404\ttotal: 193ms\tremaining: 1.25s\n",
      "4:\tlearn: 2145.0142101\ttotal: 235ms\tremaining: 1.18s\n",
      "5:\tlearn: 2077.7687589\ttotal: 274ms\tremaining: 1.09s\n",
      "6:\tlearn: 2034.5262311\ttotal: 310ms\tremaining: 1.02s\n",
      "7:\tlearn: 2007.6970032\ttotal: 345ms\tremaining: 949ms\n",
      "8:\tlearn: 1977.5812839\ttotal: 383ms\tremaining: 893ms\n",
      "9:\tlearn: 1958.3986672\ttotal: 433ms\tremaining: 867ms\n",
      "10:\tlearn: 1938.2973775\ttotal: 476ms\tremaining: 823ms\n",
      "11:\tlearn: 1924.0380016\ttotal: 517ms\tremaining: 776ms\n",
      "12:\tlearn: 1909.9082930\ttotal: 553ms\tremaining: 723ms\n",
      "13:\tlearn: 1900.2512231\ttotal: 588ms\tremaining: 672ms\n",
      "14:\tlearn: 1887.2303648\ttotal: 623ms\tremaining: 623ms\n",
      "15:\tlearn: 1880.5249966\ttotal: 672ms\tremaining: 588ms\n",
      "16:\tlearn: 1870.1563598\ttotal: 714ms\tremaining: 546ms\n",
      "17:\tlearn: 1863.8608182\ttotal: 752ms\tremaining: 501ms\n",
      "18:\tlearn: 1858.1214455\ttotal: 791ms\tremaining: 458ms\n",
      "19:\tlearn: 1853.1467594\ttotal: 825ms\tremaining: 412ms\n",
      "20:\tlearn: 1836.0494656\ttotal: 860ms\tremaining: 369ms\n",
      "21:\tlearn: 1830.1374834\ttotal: 908ms\tremaining: 330ms\n",
      "22:\tlearn: 1824.6528315\ttotal: 949ms\tremaining: 289ms\n",
      "23:\tlearn: 1819.9656014\ttotal: 998ms\tremaining: 250ms\n",
      "24:\tlearn: 1815.0832243\ttotal: 1.04s\tremaining: 208ms\n",
      "25:\tlearn: 1809.8162973\ttotal: 1.08s\tremaining: 166ms\n",
      "26:\tlearn: 1800.7556532\ttotal: 1.11s\tremaining: 124ms\n",
      "27:\tlearn: 1793.8540234\ttotal: 1.16s\tremaining: 82.8ms\n",
      "28:\tlearn: 1790.5375709\ttotal: 1.2s\tremaining: 41.4ms\n",
      "29:\tlearn: 1785.7578573\ttotal: 1.24s\tremaining: 0us\n",
      "Learning rate set to 0.5\n",
      "0:\tlearn: 3115.7816166\ttotal: 72.7ms\tremaining: 2.11s\n",
      "1:\tlearn: 2508.0123541\ttotal: 152ms\tremaining: 2.13s\n",
      "2:\tlearn: 2219.6266538\ttotal: 257ms\tremaining: 2.31s\n",
      "3:\tlearn: 2101.5716129\ttotal: 363ms\tremaining: 2.36s\n",
      "4:\tlearn: 2003.9188201\ttotal: 424ms\tremaining: 2.12s\n",
      "5:\tlearn: 1955.9541922\ttotal: 502ms\tremaining: 2.01s\n",
      "6:\tlearn: 1922.8159331\ttotal: 560ms\tremaining: 1.84s\n",
      "7:\tlearn: 1898.5056353\ttotal: 608ms\tremaining: 1.67s\n",
      "8:\tlearn: 1875.8234311\ttotal: 655ms\tremaining: 1.53s\n",
      "9:\tlearn: 1861.3729365\ttotal: 722ms\tremaining: 1.44s\n",
      "10:\tlearn: 1847.2104758\ttotal: 802ms\tremaining: 1.38s\n",
      "11:\tlearn: 1839.1110718\ttotal: 862ms\tremaining: 1.29s\n",
      "12:\tlearn: 1828.2043458\ttotal: 917ms\tremaining: 1.2s\n",
      "13:\tlearn: 1820.0032004\ttotal: 986ms\tremaining: 1.13s\n",
      "14:\tlearn: 1809.7983004\ttotal: 1.05s\tremaining: 1.05s\n",
      "15:\tlearn: 1802.7415695\ttotal: 1.1s\tremaining: 965ms\n",
      "16:\tlearn: 1790.3922078\ttotal: 1.16s\tremaining: 886ms\n",
      "17:\tlearn: 1782.9505965\ttotal: 1.22s\tremaining: 812ms\n",
      "18:\tlearn: 1774.6565858\ttotal: 1.27s\tremaining: 736ms\n",
      "19:\tlearn: 1769.5487956\ttotal: 1.33s\tremaining: 665ms\n",
      "20:\tlearn: 1765.2622768\ttotal: 1.38s\tremaining: 590ms\n",
      "21:\tlearn: 1758.3467286\ttotal: 1.44s\tremaining: 525ms\n",
      "22:\tlearn: 1751.3577071\ttotal: 1.51s\tremaining: 459ms\n",
      "23:\tlearn: 1745.8988275\ttotal: 1.59s\tremaining: 398ms\n",
      "24:\tlearn: 1739.7586962\ttotal: 1.65s\tremaining: 330ms\n",
      "25:\tlearn: 1736.1818854\ttotal: 1.72s\tremaining: 265ms\n",
      "26:\tlearn: 1732.2568815\ttotal: 1.78s\tremaining: 198ms\n",
      "27:\tlearn: 1730.5741771\ttotal: 1.83s\tremaining: 131ms\n",
      "28:\tlearn: 1725.2507696\ttotal: 1.91s\tremaining: 65.7ms\n",
      "29:\tlearn: 1721.4950629\ttotal: 1.97s\tremaining: 0us\n",
      "Learning rate set to 0.5\n",
      "0:\tlearn: 3043.2576264\ttotal: 83ms\tremaining: 2.41s\n",
      "1:\tlearn: 2426.2194373\ttotal: 160ms\tremaining: 2.25s\n",
      "2:\tlearn: 2139.1598680\ttotal: 263ms\tremaining: 2.37s\n",
      "3:\tlearn: 2007.9174202\ttotal: 340ms\tremaining: 2.21s\n",
      "4:\tlearn: 1929.3161718\ttotal: 419ms\tremaining: 2.09s\n",
      "5:\tlearn: 1872.2378420\ttotal: 507ms\tremaining: 2.03s\n",
      "6:\tlearn: 1835.9419718\ttotal: 584ms\tremaining: 1.92s\n",
      "7:\tlearn: 1820.3699564\ttotal: 650ms\tremaining: 1.79s\n",
      "8:\tlearn: 1801.4333504\ttotal: 719ms\tremaining: 1.68s\n",
      "9:\tlearn: 1786.5532187\ttotal: 804ms\tremaining: 1.61s\n",
      "10:\tlearn: 1769.0210828\ttotal: 877ms\tremaining: 1.51s\n",
      "11:\tlearn: 1754.5304479\ttotal: 959ms\tremaining: 1.44s\n",
      "12:\tlearn: 1747.2034840\ttotal: 1.04s\tremaining: 1.36s\n",
      "13:\tlearn: 1736.0979209\ttotal: 1.11s\tremaining: 1.27s\n",
      "14:\tlearn: 1725.0417054\ttotal: 1.19s\tremaining: 1.19s\n",
      "15:\tlearn: 1716.7335352\ttotal: 1.27s\tremaining: 1.11s\n",
      "16:\tlearn: 1710.6020768\ttotal: 1.35s\tremaining: 1.03s\n",
      "17:\tlearn: 1704.2458016\ttotal: 1.42s\tremaining: 948ms\n",
      "18:\tlearn: 1698.3148595\ttotal: 1.51s\tremaining: 876ms\n",
      "19:\tlearn: 1689.9075500\ttotal: 1.58s\tremaining: 791ms\n",
      "20:\tlearn: 1681.5299154\ttotal: 1.66s\tremaining: 711ms\n",
      "21:\tlearn: 1678.9102610\ttotal: 1.73s\tremaining: 630ms\n",
      "22:\tlearn: 1673.2939024\ttotal: 1.8s\tremaining: 548ms\n",
      "23:\tlearn: 1667.5920241\ttotal: 1.87s\tremaining: 468ms\n",
      "24:\tlearn: 1663.3124833\ttotal: 1.96s\tremaining: 391ms\n",
      "25:\tlearn: 1657.4466022\ttotal: 2.04s\tremaining: 313ms\n",
      "26:\tlearn: 1654.2901147\ttotal: 2.14s\tremaining: 238ms\n",
      "27:\tlearn: 1648.6426807\ttotal: 2.21s\tremaining: 158ms\n",
      "28:\tlearn: 1644.0024616\ttotal: 2.28s\tremaining: 78.8ms\n",
      "29:\tlearn: 1640.7805856\ttotal: 2.37s\tremaining: 0us\n",
      "Learning rate set to 0.5\n",
      "0:\tlearn: 3240.6587711\ttotal: 59.5ms\tremaining: 2.92s\n",
      "1:\tlearn: 2671.9763826\ttotal: 113ms\tremaining: 2.71s\n",
      "2:\tlearn: 2406.6208628\ttotal: 182ms\tremaining: 2.84s\n",
      "3:\tlearn: 2229.1932404\ttotal: 238ms\tremaining: 2.74s\n",
      "4:\tlearn: 2145.0142101\ttotal: 281ms\tremaining: 2.53s\n",
      "5:\tlearn: 2077.7687589\ttotal: 323ms\tremaining: 2.37s\n",
      "6:\tlearn: 2034.5262311\ttotal: 382ms\tremaining: 2.35s\n",
      "7:\tlearn: 2007.6970032\ttotal: 445ms\tremaining: 2.34s\n",
      "8:\tlearn: 1977.5812839\ttotal: 490ms\tremaining: 2.23s\n",
      "9:\tlearn: 1958.3986672\ttotal: 529ms\tremaining: 2.12s\n",
      "10:\tlearn: 1938.2973775\ttotal: 567ms\tremaining: 2.01s\n",
      "11:\tlearn: 1924.0380016\ttotal: 604ms\tremaining: 1.91s\n",
      "12:\tlearn: 1909.9082930\ttotal: 641ms\tremaining: 1.82s\n",
      "13:\tlearn: 1900.2512231\ttotal: 694ms\tremaining: 1.78s\n",
      "14:\tlearn: 1887.2303648\ttotal: 733ms\tremaining: 1.71s\n",
      "15:\tlearn: 1880.5249966\ttotal: 770ms\tremaining: 1.64s\n",
      "16:\tlearn: 1870.1563598\ttotal: 808ms\tremaining: 1.57s\n",
      "17:\tlearn: 1863.8608182\ttotal: 844ms\tremaining: 1.5s\n",
      "18:\tlearn: 1858.1214455\ttotal: 882ms\tremaining: 1.44s\n",
      "19:\tlearn: 1853.1467594\ttotal: 941ms\tremaining: 1.41s\n",
      "20:\tlearn: 1836.0494656\ttotal: 989ms\tremaining: 1.36s\n",
      "21:\tlearn: 1830.1374834\ttotal: 1.03s\tremaining: 1.31s\n",
      "22:\tlearn: 1824.6528315\ttotal: 1.07s\tremaining: 1.25s\n",
      "23:\tlearn: 1819.9656014\ttotal: 1.11s\tremaining: 1.2s\n",
      "24:\tlearn: 1815.0832243\ttotal: 1.14s\tremaining: 1.14s\n",
      "25:\tlearn: 1809.8162973\ttotal: 1.2s\tremaining: 1.1s\n",
      "26:\tlearn: 1800.7556532\ttotal: 1.24s\tremaining: 1.05s\n",
      "27:\tlearn: 1793.8540234\ttotal: 1.28s\tremaining: 1.01s\n",
      "28:\tlearn: 1790.5375709\ttotal: 1.33s\tremaining: 961ms\n",
      "29:\tlearn: 1785.7578573\ttotal: 1.38s\tremaining: 922ms\n",
      "30:\tlearn: 1780.7085023\ttotal: 1.43s\tremaining: 876ms\n",
      "31:\tlearn: 1777.8566515\ttotal: 1.48s\tremaining: 832ms\n",
      "32:\tlearn: 1773.4045492\ttotal: 1.53s\tremaining: 790ms\n",
      "33:\tlearn: 1770.3785266\ttotal: 1.57s\tremaining: 741ms\n",
      "34:\tlearn: 1765.8254953\ttotal: 1.63s\tremaining: 700ms\n",
      "35:\tlearn: 1763.9676817\ttotal: 1.68s\tremaining: 653ms\n",
      "36:\tlearn: 1761.9478410\ttotal: 1.72s\tremaining: 604ms\n",
      "37:\tlearn: 1759.3871936\ttotal: 1.76s\tremaining: 555ms\n",
      "38:\tlearn: 1756.0808161\ttotal: 1.79s\tremaining: 506ms\n",
      "39:\tlearn: 1752.9672635\ttotal: 1.83s\tremaining: 457ms\n",
      "40:\tlearn: 1750.0565777\ttotal: 1.89s\tremaining: 415ms\n",
      "41:\tlearn: 1747.5363820\ttotal: 1.95s\tremaining: 372ms\n",
      "42:\tlearn: 1744.7055409\ttotal: 2.02s\tremaining: 329ms\n",
      "43:\tlearn: 1743.2140770\ttotal: 2.08s\tremaining: 283ms\n",
      "44:\tlearn: 1740.5621319\ttotal: 2.14s\tremaining: 238ms\n",
      "45:\tlearn: 1738.9634458\ttotal: 2.19s\tremaining: 190ms\n",
      "46:\tlearn: 1736.9579155\ttotal: 2.23s\tremaining: 142ms\n",
      "47:\tlearn: 1736.1317218\ttotal: 2.26s\tremaining: 94.3ms\n",
      "48:\tlearn: 1732.9253687\ttotal: 2.3s\tremaining: 46.9ms\n",
      "49:\tlearn: 1730.2425544\ttotal: 2.33s\tremaining: 0us\n",
      "Learning rate set to 0.5\n",
      "0:\tlearn: 3115.7816166\ttotal: 60.5ms\tremaining: 2.97s\n",
      "1:\tlearn: 2508.0123541\ttotal: 124ms\tremaining: 2.98s\n",
      "2:\tlearn: 2219.6266538\ttotal: 186ms\tremaining: 2.92s\n",
      "3:\tlearn: 2101.5716129\ttotal: 248ms\tremaining: 2.85s\n",
      "4:\tlearn: 2003.9188201\ttotal: 300ms\tremaining: 2.7s\n",
      "5:\tlearn: 1955.9541922\ttotal: 349ms\tremaining: 2.56s\n",
      "6:\tlearn: 1922.8159331\ttotal: 399ms\tremaining: 2.45s\n",
      "7:\tlearn: 1898.5056353\ttotal: 460ms\tremaining: 2.41s\n",
      "8:\tlearn: 1875.8234311\ttotal: 519ms\tremaining: 2.36s\n",
      "9:\tlearn: 1861.3729365\ttotal: 567ms\tremaining: 2.27s\n",
      "10:\tlearn: 1847.2104758\ttotal: 623ms\tremaining: 2.21s\n",
      "11:\tlearn: 1839.1110718\ttotal: 676ms\tremaining: 2.14s\n",
      "12:\tlearn: 1828.2043458\ttotal: 725ms\tremaining: 2.06s\n",
      "13:\tlearn: 1820.0032004\ttotal: 771ms\tremaining: 1.98s\n",
      "14:\tlearn: 1809.7983004\ttotal: 819ms\tremaining: 1.91s\n",
      "15:\tlearn: 1802.7415695\ttotal: 882ms\tremaining: 1.87s\n",
      "16:\tlearn: 1790.3922078\ttotal: 932ms\tremaining: 1.81s\n",
      "17:\tlearn: 1782.9505965\ttotal: 980ms\tremaining: 1.74s\n",
      "18:\tlearn: 1774.6565858\ttotal: 1.03s\tremaining: 1.68s\n",
      "19:\tlearn: 1769.5487956\ttotal: 1.08s\tremaining: 1.62s\n",
      "20:\tlearn: 1765.2622768\ttotal: 1.15s\tremaining: 1.58s\n",
      "21:\tlearn: 1758.3467286\ttotal: 1.2s\tremaining: 1.52s\n",
      "22:\tlearn: 1751.3577071\ttotal: 1.24s\tremaining: 1.46s\n",
      "23:\tlearn: 1745.8988275\ttotal: 1.29s\tremaining: 1.4s\n",
      "24:\tlearn: 1739.7586962\ttotal: 1.34s\tremaining: 1.34s\n",
      "25:\tlearn: 1736.1818854\ttotal: 1.4s\tremaining: 1.29s\n",
      "26:\tlearn: 1732.2568815\ttotal: 1.45s\tremaining: 1.24s\n",
      "27:\tlearn: 1730.5741771\ttotal: 1.5s\tremaining: 1.18s\n",
      "28:\tlearn: 1725.2507696\ttotal: 1.55s\tremaining: 1.12s\n",
      "29:\tlearn: 1721.4950629\ttotal: 1.6s\tremaining: 1.07s\n",
      "30:\tlearn: 1717.9933681\ttotal: 1.91s\tremaining: 1.17s\n",
      "31:\tlearn: 1714.4261843\ttotal: 1.97s\tremaining: 1.1s\n",
      "32:\tlearn: 1713.0508222\ttotal: 2.01s\tremaining: 1.04s\n",
      "33:\tlearn: 1709.4627281\ttotal: 2.06s\tremaining: 970ms\n",
      "34:\tlearn: 1703.7447091\ttotal: 2.12s\tremaining: 909ms\n",
      "35:\tlearn: 1700.8332550\ttotal: 2.19s\tremaining: 852ms\n",
      "36:\tlearn: 1698.4922263\ttotal: 2.24s\tremaining: 789ms\n",
      "37:\tlearn: 1695.9532819\ttotal: 2.3s\tremaining: 725ms\n",
      "38:\tlearn: 1692.3671017\ttotal: 2.36s\tremaining: 666ms\n",
      "39:\tlearn: 1690.1210350\ttotal: 2.41s\tremaining: 603ms\n",
      "40:\tlearn: 1688.7802751\ttotal: 2.46s\tremaining: 540ms\n",
      "41:\tlearn: 1684.6840615\ttotal: 2.51s\tremaining: 478ms\n",
      "42:\tlearn: 1679.3772952\ttotal: 2.55s\tremaining: 416ms\n",
      "43:\tlearn: 1676.9758014\ttotal: 2.63s\tremaining: 358ms\n",
      "44:\tlearn: 1674.1644789\ttotal: 2.68s\tremaining: 298ms\n",
      "45:\tlearn: 1671.8911568\ttotal: 2.74s\tremaining: 238ms\n",
      "46:\tlearn: 1669.0297704\ttotal: 2.79s\tremaining: 178ms\n",
      "47:\tlearn: 1665.1024038\ttotal: 2.84s\tremaining: 118ms\n",
      "48:\tlearn: 1661.8995151\ttotal: 2.9s\tremaining: 59.2ms\n",
      "49:\tlearn: 1660.3130154\ttotal: 2.95s\tremaining: 0us\n",
      "Learning rate set to 0.5\n",
      "0:\tlearn: 3043.2576264\ttotal: 78.3ms\tremaining: 3.84s\n",
      "1:\tlearn: 2426.2194373\ttotal: 151ms\tremaining: 3.63s\n",
      "2:\tlearn: 2139.1598680\ttotal: 254ms\tremaining: 3.98s\n",
      "3:\tlearn: 2007.9174202\ttotal: 325ms\tremaining: 3.74s\n",
      "4:\tlearn: 1929.3161718\ttotal: 454ms\tremaining: 4.08s\n",
      "5:\tlearn: 1872.2378420\ttotal: 641ms\tremaining: 4.7s\n",
      "6:\tlearn: 1835.9419718\ttotal: 738ms\tremaining: 4.54s\n",
      "7:\tlearn: 1820.3699564\ttotal: 804ms\tremaining: 4.22s\n",
      "8:\tlearn: 1801.4333504\ttotal: 890ms\tremaining: 4.05s\n",
      "9:\tlearn: 1786.5532187\ttotal: 966ms\tremaining: 3.86s\n",
      "10:\tlearn: 1769.0210828\ttotal: 1.04s\tremaining: 3.68s\n",
      "11:\tlearn: 1754.5304479\ttotal: 1.13s\tremaining: 3.57s\n",
      "12:\tlearn: 1747.2034840\ttotal: 1.2s\tremaining: 3.4s\n",
      "13:\tlearn: 1736.0979209\ttotal: 1.26s\tremaining: 3.24s\n",
      "14:\tlearn: 1725.0417054\ttotal: 1.33s\tremaining: 3.09s\n",
      "15:\tlearn: 1716.7335352\ttotal: 1.42s\tremaining: 3.02s\n",
      "16:\tlearn: 1710.6020768\ttotal: 1.49s\tremaining: 2.89s\n",
      "17:\tlearn: 1704.2458016\ttotal: 1.56s\tremaining: 2.78s\n",
      "18:\tlearn: 1698.3148595\ttotal: 1.63s\tremaining: 2.66s\n",
      "19:\tlearn: 1689.9075500\ttotal: 1.72s\tremaining: 2.58s\n",
      "20:\tlearn: 1681.5299154\ttotal: 1.79s\tremaining: 2.48s\n",
      "21:\tlearn: 1678.9102610\ttotal: 1.87s\tremaining: 2.38s\n",
      "22:\tlearn: 1673.2939024\ttotal: 1.94s\tremaining: 2.28s\n",
      "23:\tlearn: 1667.5920241\ttotal: 2.02s\tremaining: 2.18s\n",
      "24:\tlearn: 1663.3124833\ttotal: 2.1s\tremaining: 2.1s\n",
      "25:\tlearn: 1657.4466022\ttotal: 2.17s\tremaining: 2.01s\n",
      "26:\tlearn: 1654.2901147\ttotal: 2.24s\tremaining: 1.91s\n",
      "27:\tlearn: 1648.6426807\ttotal: 2.37s\tremaining: 1.86s\n",
      "28:\tlearn: 1644.0024616\ttotal: 2.48s\tremaining: 1.8s\n",
      "29:\tlearn: 1640.7805856\ttotal: 2.6s\tremaining: 1.73s\n",
      "30:\tlearn: 1635.8510707\ttotal: 2.68s\tremaining: 1.64s\n",
      "31:\tlearn: 1631.7150262\ttotal: 2.74s\tremaining: 1.54s\n",
      "32:\tlearn: 1622.5724568\ttotal: 2.86s\tremaining: 1.47s\n",
      "33:\tlearn: 1618.1156943\ttotal: 2.93s\tremaining: 1.38s\n",
      "34:\tlearn: 1616.5030957\ttotal: 3.12s\tremaining: 1.34s\n",
      "35:\tlearn: 1612.4247396\ttotal: 3.27s\tremaining: 1.27s\n",
      "36:\tlearn: 1609.7277882\ttotal: 3.35s\tremaining: 1.18s\n",
      "37:\tlearn: 1607.8828632\ttotal: 3.44s\tremaining: 1.08s\n",
      "38:\tlearn: 1603.3165818\ttotal: 3.51s\tremaining: 989ms\n",
      "39:\tlearn: 1598.9017430\ttotal: 3.59s\tremaining: 898ms\n",
      "40:\tlearn: 1595.4144910\ttotal: 3.67s\tremaining: 807ms\n",
      "41:\tlearn: 1593.1021353\ttotal: 3.8s\tremaining: 723ms\n",
      "42:\tlearn: 1588.6818068\ttotal: 3.92s\tremaining: 639ms\n",
      "43:\tlearn: 1587.8172953\ttotal: 4s\tremaining: 545ms\n",
      "44:\tlearn: 1583.3193610\ttotal: 4.11s\tremaining: 457ms\n",
      "45:\tlearn: 1580.7497470\ttotal: 4.21s\tremaining: 366ms\n",
      "46:\tlearn: 1577.9712288\ttotal: 4.33s\tremaining: 276ms\n",
      "47:\tlearn: 1576.4523352\ttotal: 4.49s\tremaining: 187ms\n",
      "48:\tlearn: 1573.8377796\ttotal: 4.59s\tremaining: 93.7ms\n",
      "49:\tlearn: 1571.7996334\ttotal: 4.68s\tremaining: 0us\n",
      "Learning rate set to 0.5\n",
      "0:\tlearn: 3240.6587711\ttotal: 59.5ms\tremaining: 4.11s\n",
      "1:\tlearn: 2671.9763826\ttotal: 109ms\tremaining: 3.69s\n",
      "2:\tlearn: 2406.6208628\ttotal: 180ms\tremaining: 4.01s\n",
      "3:\tlearn: 2229.1932404\ttotal: 249ms\tremaining: 4.11s\n",
      "4:\tlearn: 2145.0142101\ttotal: 290ms\tremaining: 3.76s\n",
      "5:\tlearn: 2077.7687589\ttotal: 331ms\tremaining: 3.53s\n",
      "6:\tlearn: 2034.5262311\ttotal: 367ms\tremaining: 3.31s\n",
      "7:\tlearn: 2007.6970032\ttotal: 412ms\tremaining: 3.19s\n",
      "8:\tlearn: 1977.5812839\ttotal: 464ms\tremaining: 3.14s\n",
      "9:\tlearn: 1958.3986672\ttotal: 507ms\tremaining: 3.04s\n",
      "10:\tlearn: 1938.2973775\ttotal: 550ms\tremaining: 2.95s\n",
      "11:\tlearn: 1924.0380016\ttotal: 588ms\tremaining: 2.84s\n",
      "12:\tlearn: 1909.9082930\ttotal: 625ms\tremaining: 2.74s\n",
      "13:\tlearn: 1900.2512231\ttotal: 681ms\tremaining: 2.72s\n",
      "14:\tlearn: 1887.2303648\ttotal: 718ms\tremaining: 2.63s\n",
      "15:\tlearn: 1880.5249966\ttotal: 756ms\tremaining: 2.55s\n",
      "16:\tlearn: 1870.1563598\ttotal: 794ms\tremaining: 2.48s\n",
      "17:\tlearn: 1863.8608182\ttotal: 843ms\tremaining: 2.43s\n",
      "18:\tlearn: 1858.1214455\ttotal: 920ms\tremaining: 2.47s\n",
      "19:\tlearn: 1853.1467594\ttotal: 964ms\tremaining: 2.41s\n",
      "20:\tlearn: 1836.0494656\ttotal: 1s\tremaining: 2.33s\n",
      "21:\tlearn: 1830.1374834\ttotal: 1.05s\tremaining: 2.29s\n",
      "22:\tlearn: 1824.6528315\ttotal: 1.11s\tremaining: 2.26s\n",
      "23:\tlearn: 1819.9656014\ttotal: 1.15s\tremaining: 2.21s\n",
      "24:\tlearn: 1815.0832243\ttotal: 1.2s\tremaining: 2.15s\n",
      "25:\tlearn: 1809.8162973\ttotal: 1.24s\tremaining: 2.1s\n",
      "26:\tlearn: 1800.7556532\ttotal: 1.3s\tremaining: 2.07s\n",
      "27:\tlearn: 1793.8540234\ttotal: 1.34s\tremaining: 2.01s\n",
      "28:\tlearn: 1790.5375709\ttotal: 1.38s\tremaining: 1.95s\n",
      "29:\tlearn: 1785.7578573\ttotal: 1.42s\tremaining: 1.89s\n",
      "30:\tlearn: 1780.7085023\ttotal: 1.45s\tremaining: 1.82s\n",
      "31:\tlearn: 1777.8566515\ttotal: 1.49s\tremaining: 1.76s\n",
      "32:\tlearn: 1773.4045492\ttotal: 1.53s\tremaining: 1.72s\n",
      "33:\tlearn: 1770.3785266\ttotal: 1.58s\tremaining: 1.68s\n",
      "34:\tlearn: 1765.8254953\ttotal: 1.62s\tremaining: 1.62s\n",
      "35:\tlearn: 1763.9676817\ttotal: 1.66s\tremaining: 1.56s\n",
      "36:\tlearn: 1761.9478410\ttotal: 1.69s\tremaining: 1.51s\n",
      "37:\tlearn: 1759.3871936\ttotal: 1.73s\tremaining: 1.45s\n",
      "38:\tlearn: 1756.0808161\ttotal: 1.78s\tremaining: 1.42s\n",
      "39:\tlearn: 1752.9672635\ttotal: 1.82s\tremaining: 1.37s\n",
      "40:\tlearn: 1750.0565777\ttotal: 1.86s\tremaining: 1.32s\n",
      "41:\tlearn: 1747.5363820\ttotal: 1.91s\tremaining: 1.27s\n",
      "42:\tlearn: 1744.7055409\ttotal: 1.95s\tremaining: 1.22s\n",
      "43:\tlearn: 1743.2140770\ttotal: 1.99s\tremaining: 1.17s\n",
      "44:\tlearn: 1740.5621319\ttotal: 2.05s\tremaining: 1.14s\n",
      "45:\tlearn: 1738.9634458\ttotal: 2.1s\tremaining: 1.09s\n",
      "46:\tlearn: 1736.9579155\ttotal: 2.15s\tremaining: 1.05s\n",
      "47:\tlearn: 1736.1317218\ttotal: 2.19s\tremaining: 1.01s\n",
      "48:\tlearn: 1732.9253687\ttotal: 2.26s\tremaining: 969ms\n",
      "49:\tlearn: 1730.2425544\ttotal: 2.31s\tremaining: 923ms\n",
      "50:\tlearn: 1729.1506070\ttotal: 2.35s\tremaining: 876ms\n",
      "51:\tlearn: 1726.8304993\ttotal: 2.39s\tremaining: 828ms\n",
      "52:\tlearn: 1725.4885775\ttotal: 2.45s\tremaining: 785ms\n",
      "53:\tlearn: 1724.2193776\ttotal: 2.49s\tremaining: 737ms\n",
      "54:\tlearn: 1723.2863530\ttotal: 2.54s\tremaining: 694ms\n",
      "55:\tlearn: 1721.8617430\ttotal: 2.6s\tremaining: 651ms\n",
      "56:\tlearn: 1720.8458389\ttotal: 2.66s\tremaining: 608ms\n",
      "57:\tlearn: 1718.3528267\ttotal: 2.72s\tremaining: 563ms\n",
      "58:\tlearn: 1715.0386015\ttotal: 2.76s\tremaining: 515ms\n",
      "59:\tlearn: 1714.3008210\ttotal: 2.81s\tremaining: 468ms\n",
      "60:\tlearn: 1712.4258485\ttotal: 2.85s\tremaining: 421ms\n",
      "61:\tlearn: 1710.5928520\ttotal: 2.92s\tremaining: 377ms\n",
      "62:\tlearn: 1709.1470349\ttotal: 2.97s\tremaining: 330ms\n",
      "63:\tlearn: 1706.7732474\ttotal: 3.01s\tremaining: 282ms\n",
      "64:\tlearn: 1705.3625725\ttotal: 3.05s\tremaining: 235ms\n",
      "65:\tlearn: 1703.5732624\ttotal: 3.09s\tremaining: 187ms\n",
      "66:\tlearn: 1702.5965654\ttotal: 3.13s\tremaining: 140ms\n",
      "67:\tlearn: 1702.3779487\ttotal: 3.17s\tremaining: 93.3ms\n",
      "68:\tlearn: 1700.1871472\ttotal: 3.21s\tremaining: 46.6ms\n",
      "69:\tlearn: 1697.9453671\ttotal: 3.27s\tremaining: 0us\n",
      "Learning rate set to 0.5\n",
      "0:\tlearn: 3115.7816166\ttotal: 89.7ms\tremaining: 6.19s\n",
      "1:\tlearn: 2508.0123541\ttotal: 171ms\tremaining: 5.8s\n",
      "2:\tlearn: 2219.6266538\ttotal: 274ms\tremaining: 6.12s\n",
      "3:\tlearn: 2101.5716129\ttotal: 352ms\tremaining: 5.8s\n",
      "4:\tlearn: 2003.9188201\ttotal: 440ms\tremaining: 5.71s\n",
      "5:\tlearn: 1955.9541922\ttotal: 540ms\tremaining: 5.76s\n",
      "6:\tlearn: 1922.8159331\ttotal: 635ms\tremaining: 5.71s\n",
      "7:\tlearn: 1898.5056353\ttotal: 703ms\tremaining: 5.45s\n",
      "8:\tlearn: 1875.8234311\ttotal: 777ms\tremaining: 5.26s\n",
      "9:\tlearn: 1861.3729365\ttotal: 855ms\tremaining: 5.13s\n",
      "10:\tlearn: 1847.2104758\ttotal: 922ms\tremaining: 4.95s\n",
      "11:\tlearn: 1839.1110718\ttotal: 986ms\tremaining: 4.77s\n",
      "12:\tlearn: 1828.2043458\ttotal: 1.04s\tremaining: 4.56s\n",
      "13:\tlearn: 1820.0032004\ttotal: 1.09s\tremaining: 4.36s\n",
      "14:\tlearn: 1809.7983004\ttotal: 1.15s\tremaining: 4.2s\n",
      "15:\tlearn: 1802.7415695\ttotal: 1.2s\tremaining: 4.06s\n",
      "16:\tlearn: 1790.3922078\ttotal: 1.25s\tremaining: 3.9s\n",
      "17:\tlearn: 1782.9505965\ttotal: 1.3s\tremaining: 3.76s\n",
      "18:\tlearn: 1774.6565858\ttotal: 1.36s\tremaining: 3.66s\n",
      "19:\tlearn: 1769.5487956\ttotal: 1.47s\tremaining: 3.68s\n",
      "20:\tlearn: 1765.2622768\ttotal: 1.53s\tremaining: 3.57s\n",
      "21:\tlearn: 1758.3467286\ttotal: 1.59s\tremaining: 3.47s\n",
      "22:\tlearn: 1751.3577071\ttotal: 1.65s\tremaining: 3.37s\n",
      "23:\tlearn: 1745.8988275\ttotal: 1.7s\tremaining: 3.26s\n",
      "24:\tlearn: 1739.7586962\ttotal: 1.75s\tremaining: 3.16s\n",
      "25:\tlearn: 1736.1818854\ttotal: 1.81s\tremaining: 3.06s\n",
      "26:\tlearn: 1732.2568815\ttotal: 1.93s\tremaining: 3.07s\n",
      "27:\tlearn: 1730.5741771\ttotal: 1.98s\tremaining: 2.97s\n",
      "28:\tlearn: 1725.2507696\ttotal: 2.05s\tremaining: 2.9s\n",
      "29:\tlearn: 1721.4950629\ttotal: 2.11s\tremaining: 2.81s\n",
      "30:\tlearn: 1717.9933681\ttotal: 2.19s\tremaining: 2.75s\n",
      "31:\tlearn: 1714.4261843\ttotal: 2.25s\tremaining: 2.68s\n",
      "32:\tlearn: 1713.0508222\ttotal: 2.33s\tremaining: 2.61s\n",
      "33:\tlearn: 1709.4627281\ttotal: 2.38s\tremaining: 2.52s\n",
      "34:\tlearn: 1703.7447091\ttotal: 2.44s\tremaining: 2.44s\n",
      "35:\tlearn: 1700.8332550\ttotal: 2.54s\tremaining: 2.4s\n",
      "36:\tlearn: 1698.4922263\ttotal: 2.59s\tremaining: 2.31s\n",
      "37:\tlearn: 1695.9532819\ttotal: 2.65s\tremaining: 2.23s\n",
      "38:\tlearn: 1692.3671017\ttotal: 2.73s\tremaining: 2.17s\n",
      "39:\tlearn: 1690.1210350\ttotal: 2.82s\tremaining: 2.12s\n",
      "40:\tlearn: 1688.7802751\ttotal: 2.87s\tremaining: 2.03s\n",
      "41:\tlearn: 1684.6840615\ttotal: 2.94s\tremaining: 1.96s\n",
      "42:\tlearn: 1679.3772952\ttotal: 3.05s\tremaining: 1.92s\n",
      "43:\tlearn: 1676.9758014\ttotal: 3.13s\tremaining: 1.85s\n",
      "44:\tlearn: 1674.1644789\ttotal: 3.22s\tremaining: 1.79s\n",
      "45:\tlearn: 1671.8911568\ttotal: 3.33s\tremaining: 1.74s\n",
      "46:\tlearn: 1669.0297704\ttotal: 3.44s\tremaining: 1.68s\n",
      "47:\tlearn: 1665.1024038\ttotal: 3.5s\tremaining: 1.6s\n",
      "48:\tlearn: 1661.8995151\ttotal: 3.57s\tremaining: 1.53s\n",
      "49:\tlearn: 1660.3130154\ttotal: 3.64s\tremaining: 1.45s\n",
      "50:\tlearn: 1658.7022638\ttotal: 3.74s\tremaining: 1.39s\n",
      "51:\tlearn: 1656.9090794\ttotal: 3.81s\tremaining: 1.32s\n",
      "52:\tlearn: 1655.2140105\ttotal: 3.91s\tremaining: 1.25s\n",
      "53:\tlearn: 1653.3449424\ttotal: 3.98s\tremaining: 1.18s\n",
      "54:\tlearn: 1650.8807828\ttotal: 4.07s\tremaining: 1.11s\n",
      "55:\tlearn: 1649.5374787\ttotal: 4.13s\tremaining: 1.03s\n",
      "56:\tlearn: 1646.5159711\ttotal: 4.18s\tremaining: 953ms\n",
      "57:\tlearn: 1645.4411879\ttotal: 4.22s\tremaining: 874ms\n",
      "58:\tlearn: 1643.5262104\ttotal: 4.27s\tremaining: 796ms\n",
      "59:\tlearn: 1641.4080014\ttotal: 4.34s\tremaining: 723ms\n",
      "60:\tlearn: 1639.9037584\ttotal: 4.4s\tremaining: 649ms\n",
      "61:\tlearn: 1638.2171184\ttotal: 4.47s\tremaining: 577ms\n",
      "62:\tlearn: 1636.3854192\ttotal: 4.58s\tremaining: 509ms\n",
      "63:\tlearn: 1634.7953566\ttotal: 4.64s\tremaining: 435ms\n",
      "64:\tlearn: 1633.5733555\ttotal: 4.71s\tremaining: 362ms\n",
      "65:\tlearn: 1631.8722379\ttotal: 4.78s\tremaining: 290ms\n",
      "66:\tlearn: 1629.6722937\ttotal: 4.84s\tremaining: 217ms\n",
      "67:\tlearn: 1627.7400436\ttotal: 4.91s\tremaining: 144ms\n",
      "68:\tlearn: 1626.2435906\ttotal: 4.99s\tremaining: 72.3ms\n",
      "69:\tlearn: 1623.0160661\ttotal: 5.04s\tremaining: 0us\n",
      "Learning rate set to 0.5\n",
      "0:\tlearn: 3043.2576264\ttotal: 82.4ms\tremaining: 5.68s\n",
      "1:\tlearn: 2426.2194373\ttotal: 163ms\tremaining: 5.53s\n",
      "2:\tlearn: 2139.1598680\ttotal: 333ms\tremaining: 7.44s\n",
      "3:\tlearn: 2007.9174202\ttotal: 442ms\tremaining: 7.3s\n",
      "4:\tlearn: 1929.3161718\ttotal: 531ms\tremaining: 6.91s\n",
      "5:\tlearn: 1872.2378420\ttotal: 641ms\tremaining: 6.84s\n",
      "6:\tlearn: 1835.9419718\ttotal: 719ms\tremaining: 6.47s\n",
      "7:\tlearn: 1820.3699564\ttotal: 789ms\tremaining: 6.12s\n",
      "8:\tlearn: 1801.4333504\ttotal: 863ms\tremaining: 5.85s\n",
      "9:\tlearn: 1786.5532187\ttotal: 954ms\tremaining: 5.73s\n",
      "10:\tlearn: 1769.0210828\ttotal: 1.02s\tremaining: 5.47s\n",
      "11:\tlearn: 1754.5304479\ttotal: 1.1s\tremaining: 5.34s\n",
      "12:\tlearn: 1747.2034840\ttotal: 1.17s\tremaining: 5.14s\n",
      "13:\tlearn: 1736.0979209\ttotal: 1.3s\tremaining: 5.21s\n",
      "14:\tlearn: 1725.0417054\ttotal: 1.41s\tremaining: 5.17s\n",
      "15:\tlearn: 1716.7335352\ttotal: 1.49s\tremaining: 5.04s\n",
      "16:\tlearn: 1710.6020768\ttotal: 1.64s\tremaining: 5.11s\n",
      "17:\tlearn: 1704.2458016\ttotal: 1.73s\tremaining: 5.01s\n",
      "18:\tlearn: 1698.3148595\ttotal: 1.87s\tremaining: 5.01s\n",
      "19:\tlearn: 1689.9075500\ttotal: 1.95s\tremaining: 4.88s\n",
      "20:\tlearn: 1681.5299154\ttotal: 2.05s\tremaining: 4.78s\n",
      "21:\tlearn: 1678.9102610\ttotal: 2.15s\tremaining: 4.7s\n",
      "22:\tlearn: 1673.2939024\ttotal: 2.22s\tremaining: 4.54s\n",
      "23:\tlearn: 1667.5920241\ttotal: 2.29s\tremaining: 4.39s\n",
      "24:\tlearn: 1663.3124833\ttotal: 2.36s\tremaining: 4.24s\n",
      "25:\tlearn: 1657.4466022\ttotal: 2.44s\tremaining: 4.13s\n",
      "26:\tlearn: 1654.2901147\ttotal: 2.51s\tremaining: 4s\n",
      "27:\tlearn: 1648.6426807\ttotal: 2.6s\tremaining: 3.9s\n",
      "28:\tlearn: 1644.0024616\ttotal: 2.67s\tremaining: 3.78s\n",
      "29:\tlearn: 1640.7805856\ttotal: 2.75s\tremaining: 3.67s\n",
      "30:\tlearn: 1635.8510707\ttotal: 2.85s\tremaining: 3.59s\n",
      "31:\tlearn: 1631.7150262\ttotal: 2.93s\tremaining: 3.48s\n",
      "32:\tlearn: 1622.5724568\ttotal: 3.01s\tremaining: 3.37s\n",
      "33:\tlearn: 1618.1156943\ttotal: 3.09s\tremaining: 3.27s\n",
      "34:\tlearn: 1616.5030957\ttotal: 3.18s\tremaining: 3.18s\n",
      "35:\tlearn: 1612.4247396\ttotal: 3.25s\tremaining: 3.07s\n",
      "36:\tlearn: 1609.7277882\ttotal: 3.33s\tremaining: 2.97s\n",
      "37:\tlearn: 1607.8828632\ttotal: 3.43s\tremaining: 2.89s\n",
      "38:\tlearn: 1603.3165818\ttotal: 3.5s\tremaining: 2.78s\n",
      "39:\tlearn: 1598.9017430\ttotal: 3.61s\tremaining: 2.71s\n",
      "40:\tlearn: 1595.4144910\ttotal: 3.69s\tremaining: 2.61s\n",
      "41:\tlearn: 1593.1021353\ttotal: 3.76s\tremaining: 2.51s\n",
      "42:\tlearn: 1588.6818068\ttotal: 3.84s\tremaining: 2.41s\n",
      "43:\tlearn: 1587.8172953\ttotal: 3.95s\tremaining: 2.34s\n",
      "44:\tlearn: 1583.3193610\ttotal: 4.04s\tremaining: 2.25s\n",
      "45:\tlearn: 1580.7497470\ttotal: 4.13s\tremaining: 2.15s\n",
      "46:\tlearn: 1577.9712288\ttotal: 4.19s\tremaining: 2.05s\n",
      "47:\tlearn: 1576.4523352\ttotal: 4.27s\tremaining: 1.96s\n",
      "48:\tlearn: 1573.8377796\ttotal: 4.35s\tremaining: 1.86s\n",
      "49:\tlearn: 1571.7996334\ttotal: 4.42s\tremaining: 1.77s\n",
      "50:\tlearn: 1567.6849697\ttotal: 4.5s\tremaining: 1.68s\n",
      "51:\tlearn: 1564.3392510\ttotal: 4.58s\tremaining: 1.59s\n",
      "52:\tlearn: 1561.0457204\ttotal: 4.65s\tremaining: 1.49s\n",
      "53:\tlearn: 1559.0986152\ttotal: 4.72s\tremaining: 1.4s\n",
      "54:\tlearn: 1556.7083616\ttotal: 4.81s\tremaining: 1.31s\n",
      "55:\tlearn: 1554.5214940\ttotal: 4.88s\tremaining: 1.22s\n",
      "56:\tlearn: 1551.1142787\ttotal: 4.97s\tremaining: 1.13s\n",
      "57:\tlearn: 1549.3597604\ttotal: 5.04s\tremaining: 1.04s\n",
      "58:\tlearn: 1547.7933470\ttotal: 5.1s\tremaining: 950ms\n",
      "59:\tlearn: 1546.1175917\ttotal: 5.16s\tremaining: 860ms\n",
      "60:\tlearn: 1544.2386532\ttotal: 5.24s\tremaining: 773ms\n",
      "61:\tlearn: 1542.6543475\ttotal: 5.31s\tremaining: 685ms\n",
      "62:\tlearn: 1541.9497577\ttotal: 5.38s\tremaining: 598ms\n",
      "63:\tlearn: 1540.1007219\ttotal: 5.45s\tremaining: 511ms\n",
      "64:\tlearn: 1537.2603271\ttotal: 5.53s\tremaining: 425ms\n",
      "65:\tlearn: 1535.4971167\ttotal: 5.59s\tremaining: 339ms\n",
      "66:\tlearn: 1534.5181144\ttotal: 5.65s\tremaining: 253ms\n",
      "67:\tlearn: 1532.2670196\ttotal: 5.73s\tremaining: 169ms\n",
      "68:\tlearn: 1530.6889326\ttotal: 5.8s\tremaining: 84.1ms\n",
      "69:\tlearn: 1529.9210504\ttotal: 5.86s\tremaining: 0us\n",
      "Learning rate set to 0.5\n",
      "0:\tlearn: 3240.6587711\ttotal: 49.4ms\tremaining: 4.4s\n",
      "1:\tlearn: 2671.9763826\ttotal: 96.6ms\tremaining: 4.25s\n",
      "2:\tlearn: 2406.6208628\ttotal: 145ms\tremaining: 4.2s\n",
      "3:\tlearn: 2229.1932404\ttotal: 189ms\tremaining: 4.06s\n",
      "4:\tlearn: 2145.0142101\ttotal: 243ms\tremaining: 4.13s\n",
      "5:\tlearn: 2077.7687589\ttotal: 281ms\tremaining: 3.93s\n",
      "6:\tlearn: 2034.5262311\ttotal: 320ms\tremaining: 3.79s\n",
      "7:\tlearn: 2007.6970032\ttotal: 359ms\tremaining: 3.68s\n",
      "8:\tlearn: 1977.5812839\ttotal: 408ms\tremaining: 3.67s\n",
      "9:\tlearn: 1958.3986672\ttotal: 452ms\tremaining: 3.61s\n",
      "10:\tlearn: 1938.2973775\ttotal: 492ms\tremaining: 3.53s\n",
      "11:\tlearn: 1924.0380016\ttotal: 529ms\tremaining: 3.44s\n",
      "12:\tlearn: 1909.9082930\ttotal: 567ms\tremaining: 3.35s\n",
      "13:\tlearn: 1900.2512231\ttotal: 606ms\tremaining: 3.29s\n",
      "14:\tlearn: 1887.2303648\ttotal: 654ms\tremaining: 3.27s\n",
      "15:\tlearn: 1880.5249966\ttotal: 692ms\tremaining: 3.2s\n",
      "16:\tlearn: 1870.1563598\ttotal: 729ms\tremaining: 3.13s\n",
      "17:\tlearn: 1863.8608182\ttotal: 764ms\tremaining: 3.06s\n",
      "18:\tlearn: 1858.1214455\ttotal: 799ms\tremaining: 2.99s\n",
      "19:\tlearn: 1853.1467594\ttotal: 833ms\tremaining: 2.92s\n",
      "20:\tlearn: 1836.0494656\ttotal: 875ms\tremaining: 2.87s\n",
      "21:\tlearn: 1830.1374834\ttotal: 918ms\tremaining: 2.84s\n",
      "22:\tlearn: 1824.6528315\ttotal: 954ms\tremaining: 2.78s\n",
      "23:\tlearn: 1819.9656014\ttotal: 989ms\tremaining: 2.72s\n",
      "24:\tlearn: 1815.0832243\ttotal: 1.02s\tremaining: 2.66s\n",
      "25:\tlearn: 1809.8162973\ttotal: 1.06s\tremaining: 2.61s\n",
      "26:\tlearn: 1800.7556532\ttotal: 1.1s\tremaining: 2.58s\n",
      "27:\tlearn: 1793.8540234\ttotal: 1.15s\tremaining: 2.54s\n",
      "28:\tlearn: 1790.5375709\ttotal: 1.18s\tremaining: 2.49s\n",
      "29:\tlearn: 1785.7578573\ttotal: 1.22s\tremaining: 2.44s\n",
      "30:\tlearn: 1780.7085023\ttotal: 1.25s\tremaining: 2.39s\n",
      "31:\tlearn: 1777.8566515\ttotal: 1.29s\tremaining: 2.33s\n",
      "32:\tlearn: 1773.4045492\ttotal: 1.34s\tremaining: 2.32s\n",
      "33:\tlearn: 1770.3785266\ttotal: 1.38s\tremaining: 2.28s\n",
      "34:\tlearn: 1765.8254953\ttotal: 1.42s\tremaining: 2.23s\n",
      "35:\tlearn: 1763.9676817\ttotal: 1.46s\tremaining: 2.19s\n",
      "36:\tlearn: 1761.9478410\ttotal: 1.5s\tremaining: 2.14s\n",
      "37:\tlearn: 1759.3871936\ttotal: 1.53s\tremaining: 2.1s\n",
      "38:\tlearn: 1756.0808161\ttotal: 1.59s\tremaining: 2.08s\n",
      "39:\tlearn: 1752.9672635\ttotal: 1.63s\tremaining: 2.04s\n",
      "40:\tlearn: 1750.0565777\ttotal: 1.67s\tremaining: 2s\n",
      "41:\tlearn: 1747.5363820\ttotal: 1.71s\tremaining: 1.95s\n",
      "42:\tlearn: 1744.7055409\ttotal: 1.74s\tremaining: 1.91s\n",
      "43:\tlearn: 1743.2140770\ttotal: 1.78s\tremaining: 1.86s\n",
      "44:\tlearn: 1740.5621319\ttotal: 1.83s\tremaining: 1.83s\n",
      "45:\tlearn: 1738.9634458\ttotal: 1.87s\tremaining: 1.79s\n",
      "46:\tlearn: 1736.9579155\ttotal: 1.91s\tremaining: 1.75s\n",
      "47:\tlearn: 1736.1317218\ttotal: 1.95s\tremaining: 1.71s\n",
      "48:\tlearn: 1732.9253687\ttotal: 1.99s\tremaining: 1.66s\n",
      "49:\tlearn: 1730.2425544\ttotal: 2.04s\tremaining: 1.63s\n",
      "50:\tlearn: 1729.1506070\ttotal: 2.1s\tremaining: 1.61s\n",
      "51:\tlearn: 1726.8304993\ttotal: 2.16s\tremaining: 1.58s\n",
      "52:\tlearn: 1725.4885775\ttotal: 2.2s\tremaining: 1.53s\n",
      "53:\tlearn: 1724.2193776\ttotal: 2.25s\tremaining: 1.5s\n",
      "54:\tlearn: 1723.2863530\ttotal: 2.31s\tremaining: 1.47s\n",
      "55:\tlearn: 1721.8617430\ttotal: 2.35s\tremaining: 1.43s\n",
      "56:\tlearn: 1720.8458389\ttotal: 2.39s\tremaining: 1.38s\n",
      "57:\tlearn: 1718.3528267\ttotal: 2.43s\tremaining: 1.34s\n",
      "58:\tlearn: 1715.0386015\ttotal: 2.5s\tremaining: 1.31s\n",
      "59:\tlearn: 1714.3008210\ttotal: 2.54s\tremaining: 1.27s\n",
      "60:\tlearn: 1712.4258485\ttotal: 2.57s\tremaining: 1.22s\n",
      "61:\tlearn: 1710.5928520\ttotal: 2.62s\tremaining: 1.18s\n",
      "62:\tlearn: 1709.1470349\ttotal: 2.66s\tremaining: 1.14s\n",
      "63:\tlearn: 1706.7732474\ttotal: 2.71s\tremaining: 1.1s\n",
      "64:\tlearn: 1705.3625725\ttotal: 2.77s\tremaining: 1.06s\n",
      "65:\tlearn: 1703.5732624\ttotal: 2.81s\tremaining: 1.02s\n",
      "66:\tlearn: 1702.5965654\ttotal: 2.85s\tremaining: 979ms\n",
      "67:\tlearn: 1702.3779487\ttotal: 2.89s\tremaining: 936ms\n",
      "68:\tlearn: 1700.1871472\ttotal: 2.97s\tremaining: 905ms\n",
      "69:\tlearn: 1697.9453671\ttotal: 3.03s\tremaining: 865ms\n",
      "70:\tlearn: 1695.8514596\ttotal: 3.07s\tremaining: 822ms\n",
      "71:\tlearn: 1694.2442700\ttotal: 3.12s\tremaining: 779ms\n",
      "72:\tlearn: 1693.1649353\ttotal: 3.16s\tremaining: 736ms\n",
      "73:\tlearn: 1691.4492247\ttotal: 3.21s\tremaining: 695ms\n",
      "74:\tlearn: 1688.9093208\ttotal: 3.25s\tremaining: 651ms\n",
      "75:\tlearn: 1687.8168101\ttotal: 3.3s\tremaining: 608ms\n",
      "76:\tlearn: 1686.7182258\ttotal: 3.35s\tremaining: 566ms\n",
      "77:\tlearn: 1686.0937560\ttotal: 3.39s\tremaining: 522ms\n",
      "78:\tlearn: 1684.9075466\ttotal: 3.45s\tremaining: 480ms\n",
      "79:\tlearn: 1684.2292705\ttotal: 3.5s\tremaining: 437ms\n",
      "80:\tlearn: 1683.3970034\ttotal: 3.54s\tremaining: 393ms\n",
      "81:\tlearn: 1682.2095832\ttotal: 3.59s\tremaining: 350ms\n",
      "82:\tlearn: 1681.6023817\ttotal: 3.63s\tremaining: 306ms\n",
      "83:\tlearn: 1680.5925035\ttotal: 3.68s\tremaining: 263ms\n",
      "84:\tlearn: 1679.3090265\ttotal: 3.72s\tremaining: 219ms\n",
      "85:\tlearn: 1678.0236424\ttotal: 3.77s\tremaining: 175ms\n",
      "86:\tlearn: 1676.5170070\ttotal: 3.81s\tremaining: 131ms\n",
      "87:\tlearn: 1675.6284243\ttotal: 3.85s\tremaining: 87.4ms\n",
      "88:\tlearn: 1675.3454045\ttotal: 3.89s\tremaining: 43.7ms\n",
      "89:\tlearn: 1674.4067313\ttotal: 3.95s\tremaining: 0us\n",
      "Learning rate set to 0.5\n",
      "0:\tlearn: 3115.7816166\ttotal: 65.5ms\tremaining: 5.83s\n",
      "1:\tlearn: 2508.0123541\ttotal: 134ms\tremaining: 5.9s\n",
      "2:\tlearn: 2219.6266538\ttotal: 204ms\tremaining: 5.91s\n",
      "3:\tlearn: 2101.5716129\ttotal: 266ms\tremaining: 5.72s\n",
      "4:\tlearn: 2003.9188201\ttotal: 325ms\tremaining: 5.53s\n",
      "5:\tlearn: 1955.9541922\ttotal: 391ms\tremaining: 5.47s\n",
      "6:\tlearn: 1922.8159331\ttotal: 454ms\tremaining: 5.38s\n",
      "7:\tlearn: 1898.5056353\ttotal: 508ms\tremaining: 5.21s\n",
      "8:\tlearn: 1875.8234311\ttotal: 565ms\tremaining: 5.09s\n",
      "9:\tlearn: 1861.3729365\ttotal: 618ms\tremaining: 4.94s\n",
      "10:\tlearn: 1847.2104758\ttotal: 678ms\tremaining: 4.87s\n",
      "11:\tlearn: 1839.1110718\ttotal: 746ms\tremaining: 4.85s\n",
      "12:\tlearn: 1828.2043458\ttotal: 800ms\tremaining: 4.74s\n",
      "13:\tlearn: 1820.0032004\ttotal: 866ms\tremaining: 4.7s\n",
      "14:\tlearn: 1809.7983004\ttotal: 951ms\tremaining: 4.75s\n",
      "15:\tlearn: 1802.7415695\ttotal: 1.02s\tremaining: 4.74s\n",
      "16:\tlearn: 1790.3922078\ttotal: 1.1s\tremaining: 4.71s\n",
      "17:\tlearn: 1782.9505965\ttotal: 1.15s\tremaining: 4.59s\n",
      "18:\tlearn: 1774.6565858\ttotal: 1.22s\tremaining: 4.54s\n",
      "19:\tlearn: 1769.5487956\ttotal: 1.27s\tremaining: 4.43s\n",
      "20:\tlearn: 1765.2622768\ttotal: 1.32s\tremaining: 4.32s\n",
      "21:\tlearn: 1758.3467286\ttotal: 1.37s\tremaining: 4.22s\n",
      "22:\tlearn: 1751.3577071\ttotal: 1.43s\tremaining: 4.16s\n",
      "23:\tlearn: 1745.8988275\ttotal: 1.5s\tremaining: 4.13s\n",
      "24:\tlearn: 1739.7586962\ttotal: 1.56s\tremaining: 4.05s\n",
      "25:\tlearn: 1736.1818854\ttotal: 1.61s\tremaining: 3.96s\n",
      "26:\tlearn: 1732.2568815\ttotal: 1.69s\tremaining: 3.94s\n",
      "27:\tlearn: 1730.5741771\ttotal: 1.74s\tremaining: 3.85s\n",
      "28:\tlearn: 1725.2507696\ttotal: 1.79s\tremaining: 3.77s\n",
      "29:\tlearn: 1721.4950629\ttotal: 1.85s\tremaining: 3.7s\n",
      "30:\tlearn: 1717.9933681\ttotal: 1.91s\tremaining: 3.64s\n",
      "31:\tlearn: 1714.4261843\ttotal: 1.98s\tremaining: 3.58s\n",
      "32:\tlearn: 1713.0508222\ttotal: 2.02s\tremaining: 3.5s\n",
      "33:\tlearn: 1709.4627281\ttotal: 2.1s\tremaining: 3.45s\n",
      "34:\tlearn: 1703.7447091\ttotal: 2.2s\tremaining: 3.45s\n",
      "35:\tlearn: 1700.8332550\ttotal: 2.26s\tremaining: 3.39s\n",
      "36:\tlearn: 1698.4922263\ttotal: 2.31s\tremaining: 3.31s\n",
      "37:\tlearn: 1695.9532819\ttotal: 2.35s\tremaining: 3.22s\n",
      "38:\tlearn: 1692.3671017\ttotal: 2.42s\tremaining: 3.16s\n",
      "39:\tlearn: 1690.1210350\ttotal: 2.48s\tremaining: 3.1s\n",
      "40:\tlearn: 1688.7802751\ttotal: 2.56s\tremaining: 3.06s\n",
      "41:\tlearn: 1684.6840615\ttotal: 2.65s\tremaining: 3.03s\n",
      "42:\tlearn: 1679.3772952\ttotal: 2.71s\tremaining: 2.96s\n",
      "43:\tlearn: 1676.9758014\ttotal: 2.76s\tremaining: 2.88s\n",
      "44:\tlearn: 1674.1644789\ttotal: 2.81s\tremaining: 2.81s\n",
      "45:\tlearn: 1671.8911568\ttotal: 2.88s\tremaining: 2.75s\n",
      "46:\tlearn: 1669.0297704\ttotal: 2.95s\tremaining: 2.69s\n",
      "47:\tlearn: 1665.1024038\ttotal: 3s\tremaining: 2.63s\n",
      "48:\tlearn: 1661.8995151\ttotal: 3.06s\tremaining: 2.56s\n",
      "49:\tlearn: 1660.3130154\ttotal: 3.13s\tremaining: 2.5s\n",
      "50:\tlearn: 1658.7022638\ttotal: 3.2s\tremaining: 2.44s\n",
      "51:\tlearn: 1656.9090794\ttotal: 3.26s\tremaining: 2.38s\n",
      "52:\tlearn: 1655.2140105\ttotal: 3.31s\tremaining: 2.31s\n",
      "53:\tlearn: 1653.3449424\ttotal: 3.38s\tremaining: 2.26s\n",
      "54:\tlearn: 1650.8807828\ttotal: 3.44s\tremaining: 2.19s\n",
      "55:\tlearn: 1649.5374787\ttotal: 3.51s\tremaining: 2.13s\n",
      "56:\tlearn: 1646.5159711\ttotal: 3.56s\tremaining: 2.06s\n",
      "57:\tlearn: 1645.4411879\ttotal: 3.63s\tremaining: 2s\n",
      "58:\tlearn: 1643.5262104\ttotal: 3.7s\tremaining: 1.95s\n",
      "59:\tlearn: 1641.4080014\ttotal: 3.76s\tremaining: 1.88s\n",
      "60:\tlearn: 1639.9037584\ttotal: 3.81s\tremaining: 1.81s\n",
      "61:\tlearn: 1638.2171184\ttotal: 3.89s\tremaining: 1.76s\n",
      "62:\tlearn: 1636.3854192\ttotal: 3.95s\tremaining: 1.69s\n",
      "63:\tlearn: 1634.7953566\ttotal: 4.01s\tremaining: 1.63s\n",
      "64:\tlearn: 1633.5733555\ttotal: 4.07s\tremaining: 1.56s\n",
      "65:\tlearn: 1631.8722379\ttotal: 4.13s\tremaining: 1.5s\n",
      "66:\tlearn: 1629.6722937\ttotal: 4.19s\tremaining: 1.44s\n",
      "67:\tlearn: 1627.7400436\ttotal: 4.24s\tremaining: 1.37s\n",
      "68:\tlearn: 1626.2435906\ttotal: 4.28s\tremaining: 1.3s\n",
      "69:\tlearn: 1623.0160661\ttotal: 4.33s\tremaining: 1.24s\n",
      "70:\tlearn: 1622.1288840\ttotal: 4.4s\tremaining: 1.18s\n",
      "71:\tlearn: 1620.6356652\ttotal: 4.46s\tremaining: 1.11s\n",
      "72:\tlearn: 1619.4760414\ttotal: 4.52s\tremaining: 1.05s\n",
      "73:\tlearn: 1617.7476252\ttotal: 4.58s\tremaining: 991ms\n",
      "74:\tlearn: 1617.2244284\ttotal: 4.68s\tremaining: 936ms\n",
      "75:\tlearn: 1615.2885634\ttotal: 4.87s\tremaining: 897ms\n",
      "76:\tlearn: 1614.1228274\ttotal: 5s\tremaining: 845ms\n",
      "77:\tlearn: 1612.9910411\ttotal: 5.1s\tremaining: 785ms\n",
      "78:\tlearn: 1611.4599671\ttotal: 5.19s\tremaining: 722ms\n",
      "79:\tlearn: 1610.3143623\ttotal: 5.29s\tremaining: 661ms\n",
      "80:\tlearn: 1609.4712241\ttotal: 5.37s\tremaining: 597ms\n",
      "81:\tlearn: 1609.1057561\ttotal: 5.42s\tremaining: 529ms\n",
      "82:\tlearn: 1607.9451677\ttotal: 5.47s\tremaining: 461ms\n",
      "83:\tlearn: 1607.3327041\ttotal: 5.54s\tremaining: 396ms\n",
      "84:\tlearn: 1605.7034889\ttotal: 5.6s\tremaining: 330ms\n",
      "85:\tlearn: 1604.3354328\ttotal: 5.65s\tremaining: 263ms\n",
      "86:\tlearn: 1602.2138389\ttotal: 5.7s\tremaining: 197ms\n",
      "87:\tlearn: 1600.3525320\ttotal: 5.78s\tremaining: 131ms\n",
      "88:\tlearn: 1597.9808990\ttotal: 5.84s\tremaining: 65.6ms\n",
      "89:\tlearn: 1597.1416901\ttotal: 5.9s\tremaining: 0us\n",
      "Learning rate set to 0.5\n",
      "0:\tlearn: 3043.2576264\ttotal: 82.6ms\tremaining: 7.35s\n",
      "1:\tlearn: 2426.2194373\ttotal: 159ms\tremaining: 7s\n",
      "2:\tlearn: 2139.1598680\ttotal: 272ms\tremaining: 7.89s\n",
      "3:\tlearn: 2007.9174202\ttotal: 344ms\tremaining: 7.39s\n",
      "4:\tlearn: 1929.3161718\ttotal: 411ms\tremaining: 6.98s\n",
      "5:\tlearn: 1872.2378420\ttotal: 500ms\tremaining: 7s\n",
      "6:\tlearn: 1835.9419718\ttotal: 579ms\tremaining: 6.87s\n",
      "7:\tlearn: 1820.3699564\ttotal: 668ms\tremaining: 6.85s\n",
      "8:\tlearn: 1801.4333504\ttotal: 759ms\tremaining: 6.83s\n",
      "9:\tlearn: 1786.5532187\ttotal: 830ms\tremaining: 6.64s\n",
      "10:\tlearn: 1769.0210828\ttotal: 904ms\tremaining: 6.49s\n",
      "11:\tlearn: 1754.5304479\ttotal: 992ms\tremaining: 6.44s\n",
      "12:\tlearn: 1747.2034840\ttotal: 1.08s\tremaining: 6.38s\n",
      "13:\tlearn: 1736.0979209\ttotal: 1.15s\tremaining: 6.22s\n",
      "14:\tlearn: 1725.0417054\ttotal: 1.23s\tremaining: 6.17s\n",
      "15:\tlearn: 1716.7335352\ttotal: 1.31s\tremaining: 6.04s\n",
      "16:\tlearn: 1710.6020768\ttotal: 1.39s\tremaining: 5.99s\n",
      "17:\tlearn: 1704.2458016\ttotal: 1.49s\tremaining: 5.95s\n",
      "18:\tlearn: 1698.3148595\ttotal: 1.56s\tremaining: 5.84s\n",
      "19:\tlearn: 1689.9075500\ttotal: 1.63s\tremaining: 5.7s\n",
      "20:\tlearn: 1681.5299154\ttotal: 1.74s\tremaining: 5.71s\n",
      "21:\tlearn: 1678.9102610\ttotal: 1.82s\tremaining: 5.63s\n",
      "22:\tlearn: 1673.2939024\ttotal: 1.91s\tremaining: 5.56s\n",
      "23:\tlearn: 1667.5920241\ttotal: 2.06s\tremaining: 5.67s\n",
      "24:\tlearn: 1663.3124833\ttotal: 2.21s\tremaining: 5.75s\n",
      "25:\tlearn: 1657.4466022\ttotal: 2.33s\tremaining: 5.75s\n",
      "26:\tlearn: 1654.2901147\ttotal: 2.41s\tremaining: 5.62s\n",
      "27:\tlearn: 1648.6426807\ttotal: 2.47s\tremaining: 5.47s\n",
      "28:\tlearn: 1644.0024616\ttotal: 2.55s\tremaining: 5.37s\n",
      "29:\tlearn: 1640.7805856\ttotal: 2.67s\tremaining: 5.34s\n",
      "30:\tlearn: 1635.8510707\ttotal: 2.75s\tremaining: 5.24s\n",
      "31:\tlearn: 1631.7150262\ttotal: 2.85s\tremaining: 5.16s\n",
      "32:\tlearn: 1622.5724568\ttotal: 2.93s\tremaining: 5.06s\n",
      "33:\tlearn: 1618.1156943\ttotal: 3.01s\tremaining: 4.96s\n",
      "34:\tlearn: 1616.5030957\ttotal: 3.12s\tremaining: 4.9s\n",
      "35:\tlearn: 1612.4247396\ttotal: 3.19s\tremaining: 4.78s\n",
      "36:\tlearn: 1609.7277882\ttotal: 3.28s\tremaining: 4.7s\n",
      "37:\tlearn: 1607.8828632\ttotal: 3.4s\tremaining: 4.65s\n",
      "38:\tlearn: 1603.3165818\ttotal: 3.5s\tremaining: 4.58s\n",
      "39:\tlearn: 1598.9017430\ttotal: 3.61s\tremaining: 4.51s\n",
      "40:\tlearn: 1595.4144910\ttotal: 3.71s\tremaining: 4.43s\n",
      "41:\tlearn: 1593.1021353\ttotal: 3.8s\tremaining: 4.35s\n",
      "42:\tlearn: 1588.6818068\ttotal: 3.93s\tremaining: 4.29s\n",
      "43:\tlearn: 1587.8172953\ttotal: 4.02s\tremaining: 4.21s\n",
      "44:\tlearn: 1583.3193610\ttotal: 4.12s\tremaining: 4.12s\n",
      "45:\tlearn: 1580.7497470\ttotal: 4.25s\tremaining: 4.06s\n",
      "46:\tlearn: 1577.9712288\ttotal: 4.34s\tremaining: 3.97s\n",
      "47:\tlearn: 1576.4523352\ttotal: 4.45s\tremaining: 3.9s\n",
      "48:\tlearn: 1573.8377796\ttotal: 4.61s\tremaining: 3.85s\n",
      "49:\tlearn: 1571.7996334\ttotal: 4.78s\tremaining: 3.82s\n",
      "50:\tlearn: 1567.6849697\ttotal: 4.91s\tremaining: 3.76s\n",
      "51:\tlearn: 1564.3392510\ttotal: 5.08s\tremaining: 3.71s\n",
      "52:\tlearn: 1561.0457204\ttotal: 5.19s\tremaining: 3.63s\n",
      "53:\tlearn: 1559.0986152\ttotal: 5.31s\tremaining: 3.54s\n",
      "54:\tlearn: 1556.7083616\ttotal: 5.4s\tremaining: 3.43s\n",
      "55:\tlearn: 1554.5214940\ttotal: 5.5s\tremaining: 3.34s\n",
      "56:\tlearn: 1551.1142787\ttotal: 5.69s\tremaining: 3.29s\n",
      "57:\tlearn: 1549.3597604\ttotal: 5.76s\tremaining: 3.18s\n",
      "58:\tlearn: 1547.7933470\ttotal: 5.85s\tremaining: 3.07s\n",
      "59:\tlearn: 1546.1175917\ttotal: 5.95s\tremaining: 2.98s\n",
      "60:\tlearn: 1544.2386532\ttotal: 6.04s\tremaining: 2.87s\n",
      "61:\tlearn: 1542.6543475\ttotal: 6.12s\tremaining: 2.76s\n",
      "62:\tlearn: 1541.9497577\ttotal: 6.24s\tremaining: 2.67s\n",
      "63:\tlearn: 1540.1007219\ttotal: 6.34s\tremaining: 2.58s\n",
      "64:\tlearn: 1537.2603271\ttotal: 6.44s\tremaining: 2.48s\n",
      "65:\tlearn: 1535.4971167\ttotal: 6.55s\tremaining: 2.38s\n",
      "66:\tlearn: 1534.5181144\ttotal: 6.67s\tremaining: 2.29s\n",
      "67:\tlearn: 1532.2670196\ttotal: 6.79s\tremaining: 2.2s\n",
      "68:\tlearn: 1530.6889326\ttotal: 6.87s\tremaining: 2.09s\n",
      "69:\tlearn: 1529.9210504\ttotal: 6.95s\tremaining: 1.99s\n",
      "70:\tlearn: 1528.4801465\ttotal: 7.04s\tremaining: 1.88s\n",
      "71:\tlearn: 1525.1195537\ttotal: 7.12s\tremaining: 1.78s\n",
      "72:\tlearn: 1523.1863902\ttotal: 7.18s\tremaining: 1.67s\n",
      "73:\tlearn: 1521.3825725\ttotal: 7.25s\tremaining: 1.57s\n",
      "74:\tlearn: 1519.8490704\ttotal: 7.34s\tremaining: 1.47s\n",
      "75:\tlearn: 1518.9427285\ttotal: 7.41s\tremaining: 1.36s\n",
      "76:\tlearn: 1516.6440895\ttotal: 7.5s\tremaining: 1.27s\n",
      "77:\tlearn: 1514.8016515\ttotal: 7.58s\tremaining: 1.17s\n",
      "78:\tlearn: 1513.5931579\ttotal: 7.65s\tremaining: 1.06s\n",
      "79:\tlearn: 1511.0220588\ttotal: 7.74s\tremaining: 967ms\n",
      "80:\tlearn: 1509.5323891\ttotal: 7.82s\tremaining: 868ms\n",
      "81:\tlearn: 1508.4163448\ttotal: 7.89s\tremaining: 769ms\n",
      "82:\tlearn: 1507.5365650\ttotal: 7.96s\tremaining: 671ms\n",
      "83:\tlearn: 1506.2895629\ttotal: 8.04s\tremaining: 574ms\n",
      "84:\tlearn: 1505.5143258\ttotal: 8.11s\tremaining: 477ms\n",
      "85:\tlearn: 1504.9992025\ttotal: 8.18s\tremaining: 381ms\n",
      "86:\tlearn: 1504.0704953\ttotal: 8.25s\tremaining: 285ms\n",
      "87:\tlearn: 1502.1639218\ttotal: 8.32s\tremaining: 189ms\n",
      "88:\tlearn: 1500.2875049\ttotal: 8.4s\tremaining: 94.4ms\n",
      "89:\tlearn: 1498.0093940\ttotal: 8.51s\tremaining: 0us\n",
      "CPU times: user 2min 10s, sys: 5.2 s, total: 2min 15s\n",
      "Wall time: 56.1 s\n"
     ]
    }
   ],
   "source": [
    "%%time\n",
    "results = []\n",
    "cat_features = ['VehicleType', 'Gearbox', 'Model', 'FuelType', 'Brand', 'NotRepaired' ]\n",
    "for iteration in range(10, 101, 20):\n",
    "    for depth in range(5, 11, 2):\n",
    "        model_cbr = CatBoostRegressor(loss_function = \"RMSE\",\n",
    "                                      iterations = iteration,\n",
    "                                      depth = depth,\n",
    "                                      random_seed = 12345)\n",
    "        model_cbr.fit(features_train, target_train, cat_features)\n",
    "\n",
    "\n",
    "\n",
    "        start = time.time() \n",
    "        predictions_cbr = model_cbr.predict(features_valid, verbose=2)\n",
    "        predict_time = time.time() - start\n",
    "        mse = mean_squared_error(target_valid, predictions_cbr)\n",
    "        RMSE = sqrt(mse)\n",
    "\n",
    "\n",
    "        results.append({'Модель' : 'CatBoostRegressor',\n",
    "                        'Итерации': iteration,\n",
    "                        'Глубина': depth, \n",
    "                        'Скорость предсказания': predict_time, \n",
    "                        'RMSE': RMSE})\n",
    "        \n"
   ]
  },
  {
   "cell_type": "code",
   "execution_count": 30,
   "metadata": {},
   "outputs": [
    {
     "data": {
      "text/html": [
       "<div>\n",
       "<style scoped>\n",
       "    .dataframe tbody tr th:only-of-type {\n",
       "        vertical-align: middle;\n",
       "    }\n",
       "\n",
       "    .dataframe tbody tr th {\n",
       "        vertical-align: top;\n",
       "    }\n",
       "\n",
       "    .dataframe thead th {\n",
       "        text-align: right;\n",
       "    }\n",
       "</style>\n",
       "<table border=\"1\" class=\"dataframe\">\n",
       "  <thead>\n",
       "    <tr style=\"text-align: right;\">\n",
       "      <th></th>\n",
       "      <th>Модель</th>\n",
       "      <th>Итерации</th>\n",
       "      <th>Глубина</th>\n",
       "      <th>Скорость предсказания</th>\n",
       "      <th>RMSE</th>\n",
       "    </tr>\n",
       "  </thead>\n",
       "  <tbody>\n",
       "    <tr>\n",
       "      <th>0</th>\n",
       "      <td>CatBoostRegressor</td>\n",
       "      <td>90</td>\n",
       "      <td>9</td>\n",
       "      <td>0.087203</td>\n",
       "      <td>1621.777331</td>\n",
       "    </tr>\n",
       "    <tr>\n",
       "      <th>1</th>\n",
       "      <td>CatBoostRegressor</td>\n",
       "      <td>70</td>\n",
       "      <td>9</td>\n",
       "      <td>0.070144</td>\n",
       "      <td>1632.925822</td>\n",
       "    </tr>\n",
       "    <tr>\n",
       "      <th>2</th>\n",
       "      <td>CatBoostRegressor</td>\n",
       "      <td>50</td>\n",
       "      <td>9</td>\n",
       "      <td>0.070754</td>\n",
       "      <td>1652.996946</td>\n",
       "    </tr>\n",
       "    <tr>\n",
       "      <th>3</th>\n",
       "      <td>CatBoostRegressor</td>\n",
       "      <td>90</td>\n",
       "      <td>7</td>\n",
       "      <td>0.067494</td>\n",
       "      <td>1654.249771</td>\n",
       "    </tr>\n",
       "    <tr>\n",
       "      <th>4</th>\n",
       "      <td>CatBoostRegressor</td>\n",
       "      <td>70</td>\n",
       "      <td>7</td>\n",
       "      <td>0.064926</td>\n",
       "      <td>1667.986148</td>\n",
       "    </tr>\n",
       "  </tbody>\n",
       "</table>\n",
       "</div>"
      ],
      "text/plain": [
       "              Модель  Итерации  Глубина  Скорость предсказания         RMSE\n",
       "0  CatBoostRegressor        90        9               0.087203  1621.777331\n",
       "1  CatBoostRegressor        70        9               0.070144  1632.925822\n",
       "2  CatBoostRegressor        50        9               0.070754  1652.996946\n",
       "3  CatBoostRegressor        90        7               0.067494  1654.249771\n",
       "4  CatBoostRegressor        70        7               0.064926  1667.986148"
      ]
     },
     "execution_count": 30,
     "metadata": {},
     "output_type": "execute_result"
    }
   ],
   "source": [
    "cat_boost_results = pd.DataFrame.from_dict(results).sort_values(by='RMSE').reset_index(drop=True).head()\n",
    "cat_boost_results"
   ]
  },
  {
   "cell_type": "markdown",
   "metadata": {},
   "source": [
    "Построим график важности фичей для модели CatBoostRegressor"
   ]
  },
  {
   "cell_type": "code",
   "execution_count": 31,
   "metadata": {},
   "outputs": [
    {
     "name": "stdout",
     "output_type": "stream",
     "text": [
      "VehicleType: 10.047630282313305\n",
      "RegistrationYear: 35.24929536051023\n",
      "Gearbox: 1.5348093252783466\n",
      "Power: 22.427997250775622\n",
      "Model: 4.948038144029548\n",
      "Kilometer: 9.929044739987237\n",
      "FuelType: 2.7051277273556567\n",
      "Brand: 9.811645293424837\n",
      "NotRepaired: 3.3464118763251847\n"
     ]
    },
    {
     "data": {
      "image/png": "[encoded data removed]",
      "text/plain": [
       "<Figure size 1008x432 with 1 Axes>"
      ]
     },
     "metadata": {
      "needs_background": "light"
     },
     "output_type": "display_data"
    }
   ],
   "source": [
    "from matplotlib import pyplot\n",
    "cbr_importance = model_cbr.get_feature_importance()\n",
    "\n",
    "\n",
    "for i,v in enumerate(cbr_importance):\n",
    "    print('{}: {}'.format(features.columns[i], v))\n",
    "    \n",
    "plt.figure(figsize=(14,6))\n",
    "pyplot.bar([x for x in features.columns], cbr_importance)\n",
    "pyplot.show()"
   ]
  },
  {
   "cell_type": "markdown",
   "metadata": {},
   "source": [
    "Как видно, наиболее важными для модели оказались RegistrationYear и Power, наименее важными Gearbox и FuelType"
   ]
  },
  {
   "cell_type": "markdown",
   "metadata": {},
   "source": [
    "### 2.2 LGBMRegressor <a id=\"2.2\"></a>\n",
    "[к содержанию](#0.0)"
   ]
  },
  {
   "cell_type": "markdown",
   "metadata": {},
   "source": [
    "Обучим модель LGBMRegressor и подберем оптимальные гиперпараметры"
   ]
  },
  {
   "cell_type": "code",
   "execution_count": 32,
   "metadata": {},
   "outputs": [
    {
     "name": "stdout",
     "output_type": "stream",
     "text": [
      "CPU times: user 1min 5s, sys: 2.38 s, total: 1min 8s\n",
      "Wall time: 19 s\n"
     ]
    }
   ],
   "source": [
    "%%time\n",
    "results2 = []\n",
    "for boosting_type in ['gbdt', 'dart', 'goss']:\n",
    "    for n_estimators in range(10, 101, 20):\n",
    "        model_lgbm = LGBMRegressor(boosting_type=boosting_type,\n",
    "                                  n_estimators=n_estimators,\n",
    "                                  random_seed = 12345)\n",
    "        model_lgbm.fit(features_train, target_train) \n",
    "        start = time.time() \n",
    "        predictions_lgbm = model_lgbm.predict(features_valid, verbose=2)\n",
    "        predict_time = time.time() - start\n",
    "        \n",
    "        mse = mean_squared_error(target_valid, predictions_lgbm)\n",
    "        RMSE = sqrt(mse)\n",
    "        \n",
    "        results2.append({'Модель' : 'LGBMRegressor',\n",
    "                        'Тип бустинга': boosting_type,\n",
    "                        'n_estimators': n_estimators, \n",
    "                        'Скорость предсказания': predict_time, \n",
    "                        'RMSE': RMSE})\n",
    "        \n"
   ]
  },
  {
   "cell_type": "code",
   "execution_count": 33,
   "metadata": {},
   "outputs": [
    {
     "data": {
      "text/html": [
       "<div>\n",
       "<style scoped>\n",
       "    .dataframe tbody tr th:only-of-type {\n",
       "        vertical-align: middle;\n",
       "    }\n",
       "\n",
       "    .dataframe tbody tr th {\n",
       "        vertical-align: top;\n",
       "    }\n",
       "\n",
       "    .dataframe thead th {\n",
       "        text-align: right;\n",
       "    }\n",
       "</style>\n",
       "<table border=\"1\" class=\"dataframe\">\n",
       "  <thead>\n",
       "    <tr style=\"text-align: right;\">\n",
       "      <th></th>\n",
       "      <th>Модель</th>\n",
       "      <th>Тип бустинга</th>\n",
       "      <th>n_estimators</th>\n",
       "      <th>Скорость предсказания</th>\n",
       "      <th>RMSE</th>\n",
       "    </tr>\n",
       "  </thead>\n",
       "  <tbody>\n",
       "    <tr>\n",
       "      <th>0</th>\n",
       "      <td>LGBMRegressor</td>\n",
       "      <td>gbdt</td>\n",
       "      <td>90</td>\n",
       "      <td>0.201910</td>\n",
       "      <td>1630.453643</td>\n",
       "    </tr>\n",
       "    <tr>\n",
       "      <th>1</th>\n",
       "      <td>LGBMRegressor</td>\n",
       "      <td>goss</td>\n",
       "      <td>90</td>\n",
       "      <td>0.203960</td>\n",
       "      <td>1638.210717</td>\n",
       "    </tr>\n",
       "    <tr>\n",
       "      <th>2</th>\n",
       "      <td>LGBMRegressor</td>\n",
       "      <td>gbdt</td>\n",
       "      <td>70</td>\n",
       "      <td>0.165985</td>\n",
       "      <td>1645.528540</td>\n",
       "    </tr>\n",
       "    <tr>\n",
       "      <th>3</th>\n",
       "      <td>LGBMRegressor</td>\n",
       "      <td>goss</td>\n",
       "      <td>70</td>\n",
       "      <td>0.169568</td>\n",
       "      <td>1653.330286</td>\n",
       "    </tr>\n",
       "    <tr>\n",
       "      <th>4</th>\n",
       "      <td>LGBMRegressor</td>\n",
       "      <td>gbdt</td>\n",
       "      <td>50</td>\n",
       "      <td>0.134560</td>\n",
       "      <td>1678.473623</td>\n",
       "    </tr>\n",
       "  </tbody>\n",
       "</table>\n",
       "</div>"
      ],
      "text/plain": [
       "          Модель Тип бустинга  n_estimators  Скорость предсказания  \\\n",
       "0  LGBMRegressor         gbdt            90               0.201910   \n",
       "1  LGBMRegressor         goss            90               0.203960   \n",
       "2  LGBMRegressor         gbdt            70               0.165985   \n",
       "3  LGBMRegressor         goss            70               0.169568   \n",
       "4  LGBMRegressor         gbdt            50               0.134560   \n",
       "\n",
       "          RMSE  \n",
       "0  1630.453643  \n",
       "1  1638.210717  \n",
       "2  1645.528540  \n",
       "3  1653.330286  \n",
       "4  1678.473623  "
      ]
     },
     "execution_count": 33,
     "metadata": {},
     "output_type": "execute_result"
    }
   ],
   "source": [
    "LGBM_results = pd.DataFrame.from_dict(results2).sort_values(by='RMSE').reset_index(drop=True).head()\n",
    "LGBM_results"
   ]
  },
  {
   "cell_type": "markdown",
   "metadata": {},
   "source": [
    "Построим график важности фичей для модели LGBMRegressor"
   ]
  },
  {
   "cell_type": "code",
   "execution_count": 34,
   "metadata": {},
   "outputs": [
    {
     "name": "stdout",
     "output_type": "stream",
     "text": [
      "VehicleType: 197\n",
      "RegistrationYear: 601\n",
      "Gearbox: 79\n",
      "Power: 422\n",
      "Model: 719\n",
      "Kilometer: 264\n",
      "FuelType: 73\n",
      "Brand: 227\n",
      "NotRepaired: 118\n"
     ]
    },
    {
     "data": {
      "image/png": "[encoded data removed]",
      "text/plain": [
       "<Figure size 1008x432 with 1 Axes>"
      ]
     },
     "metadata": {
      "needs_background": "light"
     },
     "output_type": "display_data"
    }
   ],
   "source": [
    "from matplotlib import pyplot\n",
    "lgbm_importance = model_lgbm.feature_importances_\n",
    "\n",
    "\n",
    "for i,v in enumerate(lgbm_importance):\n",
    "    print('{}: {}'.format(features.columns[i], v))\n",
    "    \n",
    "plt.figure(figsize=(14,6))\n",
    "pyplot.bar([x for x in features.columns], lgbm_importance)\n",
    "pyplot.show()"
   ]
  },
  {
   "cell_type": "markdown",
   "metadata": {},
   "source": [
    "Как видно, наиболее важными для модели оказались RegistrationYear и Model, наименее важными Gearbox и FuelType"
   ]
  },
  {
   "cell_type": "markdown",
   "metadata": {},
   "source": [
    "### 2.3 LinearRegression <a id=\"2.3\"></a>\n",
    "[к содержанию](#0.0)"
   ]
  },
  {
   "cell_type": "markdown",
   "metadata": {},
   "source": [
    "Преобразуем категориальные признаки методом get_dummies"
   ]
  },
  {
   "cell_type": "code",
   "execution_count": 35,
   "metadata": {},
   "outputs": [
    {
     "data": {
      "text/html": [
       "<div>\n",
       "<style scoped>\n",
       "    .dataframe tbody tr th:only-of-type {\n",
       "        vertical-align: middle;\n",
       "    }\n",
       "\n",
       "    .dataframe tbody tr th {\n",
       "        vertical-align: top;\n",
       "    }\n",
       "\n",
       "    .dataframe thead th {\n",
       "        text-align: right;\n",
       "    }\n",
       "</style>\n",
       "<table border=\"1\" class=\"dataframe\">\n",
       "  <thead>\n",
       "    <tr style=\"text-align: right;\">\n",
       "      <th></th>\n",
       "      <th>Price</th>\n",
       "      <th>RegistrationYear</th>\n",
       "      <th>Power</th>\n",
       "      <th>Kilometer</th>\n",
       "      <th>VehicleType_convertible</th>\n",
       "      <th>VehicleType_coupe</th>\n",
       "      <th>VehicleType_other</th>\n",
       "      <th>VehicleType_sedan</th>\n",
       "      <th>VehicleType_small</th>\n",
       "      <th>VehicleType_suv</th>\n",
       "      <th>...</th>\n",
       "      <th>Brand_smart</th>\n",
       "      <th>Brand_sonstige_autos</th>\n",
       "      <th>Brand_subaru</th>\n",
       "      <th>Brand_suzuki</th>\n",
       "      <th>Brand_toyota</th>\n",
       "      <th>Brand_trabant</th>\n",
       "      <th>Brand_volkswagen</th>\n",
       "      <th>Brand_volvo</th>\n",
       "      <th>NotRepaired_unknown</th>\n",
       "      <th>NotRepaired_yes</th>\n",
       "    </tr>\n",
       "  </thead>\n",
       "  <tbody>\n",
       "    <tr>\n",
       "      <th>0</th>\n",
       "      <td>480</td>\n",
       "      <td>1993</td>\n",
       "      <td>90.0</td>\n",
       "      <td>150000</td>\n",
       "      <td>0</td>\n",
       "      <td>0</td>\n",
       "      <td>0</td>\n",
       "      <td>0</td>\n",
       "      <td>0</td>\n",
       "      <td>0</td>\n",
       "      <td>...</td>\n",
       "      <td>0</td>\n",
       "      <td>0</td>\n",
       "      <td>0</td>\n",
       "      <td>0</td>\n",
       "      <td>0</td>\n",
       "      <td>0</td>\n",
       "      <td>1</td>\n",
       "      <td>0</td>\n",
       "      <td>1</td>\n",
       "      <td>0</td>\n",
       "    </tr>\n",
       "    <tr>\n",
       "      <th>1</th>\n",
       "      <td>18300</td>\n",
       "      <td>2011</td>\n",
       "      <td>190.0</td>\n",
       "      <td>125000</td>\n",
       "      <td>0</td>\n",
       "      <td>1</td>\n",
       "      <td>0</td>\n",
       "      <td>0</td>\n",
       "      <td>0</td>\n",
       "      <td>0</td>\n",
       "      <td>...</td>\n",
       "      <td>0</td>\n",
       "      <td>0</td>\n",
       "      <td>0</td>\n",
       "      <td>0</td>\n",
       "      <td>0</td>\n",
       "      <td>0</td>\n",
       "      <td>0</td>\n",
       "      <td>0</td>\n",
       "      <td>0</td>\n",
       "      <td>1</td>\n",
       "    </tr>\n",
       "    <tr>\n",
       "      <th>2</th>\n",
       "      <td>9800</td>\n",
       "      <td>2004</td>\n",
       "      <td>163.0</td>\n",
       "      <td>125000</td>\n",
       "      <td>0</td>\n",
       "      <td>0</td>\n",
       "      <td>0</td>\n",
       "      <td>0</td>\n",
       "      <td>0</td>\n",
       "      <td>1</td>\n",
       "      <td>...</td>\n",
       "      <td>0</td>\n",
       "      <td>0</td>\n",
       "      <td>0</td>\n",
       "      <td>0</td>\n",
       "      <td>0</td>\n",
       "      <td>0</td>\n",
       "      <td>0</td>\n",
       "      <td>0</td>\n",
       "      <td>1</td>\n",
       "      <td>0</td>\n",
       "    </tr>\n",
       "    <tr>\n",
       "      <th>3</th>\n",
       "      <td>1500</td>\n",
       "      <td>2001</td>\n",
       "      <td>75.0</td>\n",
       "      <td>150000</td>\n",
       "      <td>0</td>\n",
       "      <td>0</td>\n",
       "      <td>0</td>\n",
       "      <td>0</td>\n",
       "      <td>1</td>\n",
       "      <td>0</td>\n",
       "      <td>...</td>\n",
       "      <td>0</td>\n",
       "      <td>0</td>\n",
       "      <td>0</td>\n",
       "      <td>0</td>\n",
       "      <td>0</td>\n",
       "      <td>0</td>\n",
       "      <td>1</td>\n",
       "      <td>0</td>\n",
       "      <td>0</td>\n",
       "      <td>0</td>\n",
       "    </tr>\n",
       "    <tr>\n",
       "      <th>4</th>\n",
       "      <td>3600</td>\n",
       "      <td>2008</td>\n",
       "      <td>69.0</td>\n",
       "      <td>90000</td>\n",
       "      <td>0</td>\n",
       "      <td>0</td>\n",
       "      <td>0</td>\n",
       "      <td>0</td>\n",
       "      <td>1</td>\n",
       "      <td>0</td>\n",
       "      <td>...</td>\n",
       "      <td>0</td>\n",
       "      <td>0</td>\n",
       "      <td>0</td>\n",
       "      <td>0</td>\n",
       "      <td>0</td>\n",
       "      <td>0</td>\n",
       "      <td>0</td>\n",
       "      <td>0</td>\n",
       "      <td>0</td>\n",
       "      <td>0</td>\n",
       "    </tr>\n",
       "  </tbody>\n",
       "</table>\n",
       "<p>5 rows × 310 columns</p>\n",
       "</div>"
      ],
      "text/plain": [
       "   Price  RegistrationYear  Power  Kilometer  VehicleType_convertible  \\\n",
       "0    480              1993   90.0     150000                        0   \n",
       "1  18300              2011  190.0     125000                        0   \n",
       "2   9800              2004  163.0     125000                        0   \n",
       "3   1500              2001   75.0     150000                        0   \n",
       "4   3600              2008   69.0      90000                        0   \n",
       "\n",
       "   VehicleType_coupe  VehicleType_other  VehicleType_sedan  VehicleType_small  \\\n",
       "0                  0                  0                  0                  0   \n",
       "1                  1                  0                  0                  0   \n",
       "2                  0                  0                  0                  0   \n",
       "3                  0                  0                  0                  1   \n",
       "4                  0                  0                  0                  1   \n",
       "\n",
       "   VehicleType_suv  ...  Brand_smart  Brand_sonstige_autos  Brand_subaru  \\\n",
       "0                0  ...            0                     0             0   \n",
       "1                0  ...            0                     0             0   \n",
       "2                1  ...            0                     0             0   \n",
       "3                0  ...            0                     0             0   \n",
       "4                0  ...            0                     0             0   \n",
       "\n",
       "   Brand_suzuki  Brand_toyota  Brand_trabant  Brand_volkswagen  Brand_volvo  \\\n",
       "0             0             0              0                 1            0   \n",
       "1             0             0              0                 0            0   \n",
       "2             0             0              0                 0            0   \n",
       "3             0             0              0                 1            0   \n",
       "4             0             0              0                 0            0   \n",
       "\n",
       "   NotRepaired_unknown  NotRepaired_yes  \n",
       "0                    1                0  \n",
       "1                    0                1  \n",
       "2                    1                0  \n",
       "3                    0                0  \n",
       "4                    0                0  \n",
       "\n",
       "[5 rows x 310 columns]"
      ]
     },
     "execution_count": 35,
     "metadata": {},
     "output_type": "execute_result"
    }
   ],
   "source": [
    "df_lr = pd.get_dummies(df, drop_first=True)\n",
    "df_lr.head()"
   ]
  },
  {
   "cell_type": "markdown",
   "metadata": {},
   "source": [
    "Разделим датафрейм на выборки"
   ]
  },
  {
   "cell_type": "code",
   "execution_count": 36,
   "metadata": {},
   "outputs": [],
   "source": [
    "target_lr = df_lr['Price']\n",
    "features_lr = df_lr.drop('Price', axis=1)\n",
    "\n",
    "features_train_lr, features_valid_lr, target_train_lr, target_valid_lr = train_test_split(features_lr, \n",
    "                                                                              target_lr, \n",
    "                                                                              train_size=0.60, \n",
    "                                                                              test_size=0.40, \n",
    "                                                                              random_state=123)\n",
    "\n",
    "features_valid_lr, features_test_lr, target_valid_lr, target_test_lr = train_test_split(features_valid_lr, \n",
    "                                                                            target_valid_lr, \n",
    "                                                                            train_size=0.50, \n",
    "                                                                            test_size=0.50, \n",
    "                                                                            random_state=123)"
   ]
  },
  {
   "cell_type": "markdown",
   "metadata": {},
   "source": [
    "Обучим модель линейной регрессии"
   ]
  },
  {
   "cell_type": "code",
   "execution_count": 37,
   "metadata": {},
   "outputs": [],
   "source": [
    "model_lr = LinearRegression()\n",
    "model_lr.fit(features_train_lr, target_train_lr)\n",
    "\n",
    "\n",
    "start = time.time() \n",
    "predictions_lr = model_lr.predict(features_valid_lr)\n",
    "predict_time = time.time() - start\n",
    "\n",
    "mse = mean_squared_error(target_valid_lr, predictions_lr)\n",
    "RMSE = sqrt(mse)\n",
    "\n",
    "results3 = []\n",
    "results3.append({'Модель' : 'LinearRegression',\n",
    "                'Скорость предсказания': predict_time, \n",
    "                'RMSE': RMSE})"
   ]
  },
  {
   "cell_type": "code",
   "execution_count": 38,
   "metadata": {},
   "outputs": [
    {
     "data": {
      "text/html": [
       "<div>\n",
       "<style scoped>\n",
       "    .dataframe tbody tr th:only-of-type {\n",
       "        vertical-align: middle;\n",
       "    }\n",
       "\n",
       "    .dataframe tbody tr th {\n",
       "        vertical-align: top;\n",
       "    }\n",
       "\n",
       "    .dataframe thead th {\n",
       "        text-align: right;\n",
       "    }\n",
       "</style>\n",
       "<table border=\"1\" class=\"dataframe\">\n",
       "  <thead>\n",
       "    <tr style=\"text-align: right;\">\n",
       "      <th></th>\n",
       "      <th>Модель</th>\n",
       "      <th>Скорость предсказания</th>\n",
       "      <th>RMSE</th>\n",
       "    </tr>\n",
       "  </thead>\n",
       "  <tbody>\n",
       "    <tr>\n",
       "      <th>0</th>\n",
       "      <td>LinearRegression</td>\n",
       "      <td>0.122945</td>\n",
       "      <td>2581.108564</td>\n",
       "    </tr>\n",
       "  </tbody>\n",
       "</table>\n",
       "</div>"
      ],
      "text/plain": [
       "             Модель  Скорость предсказания         RMSE\n",
       "0  LinearRegression               0.122945  2581.108564"
      ]
     },
     "execution_count": 38,
     "metadata": {},
     "output_type": "execute_result"
    }
   ],
   "source": [
    "LinearRegression_results = pd.DataFrame.from_dict(results3).sort_values(by='RMSE').reset_index(drop=True).head()\n",
    "LinearRegression_results"
   ]
  },
  {
   "cell_type": "markdown",
   "metadata": {},
   "source": [
    "Сделаем второй вариант кодирования категорий через OrdinalEncoder"
   ]
  },
  {
   "cell_type": "code",
   "execution_count": 39,
   "metadata": {},
   "outputs": [],
   "source": [
    "from sklearn.preprocessing import OrdinalEncoder\n",
    "enc = OrdinalEncoder()"
   ]
  },
  {
   "cell_type": "code",
   "execution_count": 54,
   "metadata": {},
   "outputs": [],
   "source": [
    "df_lr = df.copy()"
   ]
  },
  {
   "cell_type": "code",
   "execution_count": 58,
   "metadata": {},
   "outputs": [],
   "source": [
    "# закодируем категориальные признаки \n",
    "categorical_cols = ['VehicleType', 'Gearbox', 'Model', 'FuelType', 'Brand', 'NotRepaired']\n",
    "df_lr[categorical_cols] = (\n",
    "    enc.fit_transform(df_lr[categorical_cols])\n",
    ")"
   ]
  },
  {
   "cell_type": "code",
   "execution_count": 62,
   "metadata": {},
   "outputs": [
    {
     "data": {
      "text/html": [
       "<div>\n",
       "<style scoped>\n",
       "    .dataframe tbody tr th:only-of-type {\n",
       "        vertical-align: middle;\n",
       "    }\n",
       "\n",
       "    .dataframe tbody tr th {\n",
       "        vertical-align: top;\n",
       "    }\n",
       "\n",
       "    .dataframe thead th {\n",
       "        text-align: right;\n",
       "    }\n",
       "</style>\n",
       "<table border=\"1\" class=\"dataframe\">\n",
       "  <thead>\n",
       "    <tr style=\"text-align: right;\">\n",
       "      <th></th>\n",
       "      <th>Price</th>\n",
       "      <th>VehicleType</th>\n",
       "      <th>RegistrationYear</th>\n",
       "      <th>Gearbox</th>\n",
       "      <th>Power</th>\n",
       "      <th>Model</th>\n",
       "      <th>Kilometer</th>\n",
       "      <th>FuelType</th>\n",
       "      <th>Brand</th>\n",
       "      <th>NotRepaired</th>\n",
       "    </tr>\n",
       "  </thead>\n",
       "  <tbody>\n",
       "    <tr>\n",
       "      <th>0</th>\n",
       "      <td>480</td>\n",
       "      <td>7.0</td>\n",
       "      <td>1993</td>\n",
       "      <td>1.0</td>\n",
       "      <td>90.0</td>\n",
       "      <td>116.0</td>\n",
       "      <td>150000</td>\n",
       "      <td>6.0</td>\n",
       "      <td>38.0</td>\n",
       "      <td>1.0</td>\n",
       "    </tr>\n",
       "    <tr>\n",
       "      <th>1</th>\n",
       "      <td>18300</td>\n",
       "      <td>2.0</td>\n",
       "      <td>2011</td>\n",
       "      <td>1.0</td>\n",
       "      <td>190.0</td>\n",
       "      <td>226.0</td>\n",
       "      <td>125000</td>\n",
       "      <td>2.0</td>\n",
       "      <td>1.0</td>\n",
       "      <td>2.0</td>\n",
       "    </tr>\n",
       "    <tr>\n",
       "      <th>2</th>\n",
       "      <td>9800</td>\n",
       "      <td>6.0</td>\n",
       "      <td>2004</td>\n",
       "      <td>0.0</td>\n",
       "      <td>163.0</td>\n",
       "      <td>117.0</td>\n",
       "      <td>125000</td>\n",
       "      <td>2.0</td>\n",
       "      <td>14.0</td>\n",
       "      <td>1.0</td>\n",
       "    </tr>\n",
       "    <tr>\n",
       "      <th>3</th>\n",
       "      <td>1500</td>\n",
       "      <td>5.0</td>\n",
       "      <td>2001</td>\n",
       "      <td>1.0</td>\n",
       "      <td>75.0</td>\n",
       "      <td>116.0</td>\n",
       "      <td>150000</td>\n",
       "      <td>6.0</td>\n",
       "      <td>38.0</td>\n",
       "      <td>0.0</td>\n",
       "    </tr>\n",
       "    <tr>\n",
       "      <th>4</th>\n",
       "      <td>3600</td>\n",
       "      <td>5.0</td>\n",
       "      <td>2008</td>\n",
       "      <td>1.0</td>\n",
       "      <td>69.0</td>\n",
       "      <td>101.0</td>\n",
       "      <td>90000</td>\n",
       "      <td>2.0</td>\n",
       "      <td>31.0</td>\n",
       "      <td>0.0</td>\n",
       "    </tr>\n",
       "  </tbody>\n",
       "</table>\n",
       "</div>"
      ],
      "text/plain": [
       "   Price  VehicleType  RegistrationYear  Gearbox  Power  Model  Kilometer  \\\n",
       "0    480          7.0              1993      1.0   90.0  116.0     150000   \n",
       "1  18300          2.0              2011      1.0  190.0  226.0     125000   \n",
       "2   9800          6.0              2004      0.0  163.0  117.0     125000   \n",
       "3   1500          5.0              2001      1.0   75.0  116.0     150000   \n",
       "4   3600          5.0              2008      1.0   69.0  101.0      90000   \n",
       "\n",
       "   FuelType  Brand  NotRepaired  \n",
       "0       6.0   38.0          1.0  \n",
       "1       2.0    1.0          2.0  \n",
       "2       2.0   14.0          1.0  \n",
       "3       6.0   38.0          0.0  \n",
       "4       2.0   31.0          0.0  "
      ]
     },
     "execution_count": 62,
     "metadata": {},
     "output_type": "execute_result"
    }
   ],
   "source": [
    "df_lr.head()"
   ]
  },
  {
   "cell_type": "code",
   "execution_count": 63,
   "metadata": {},
   "outputs": [],
   "source": [
    "# разделим на выборки\n",
    "target_ord = df_lr['Price']\n",
    "features_ord = df_lr.drop(['Price'],axis=1)\n",
    "features_ord.columns = df.columns[1:]"
   ]
  },
  {
   "cell_type": "markdown",
   "metadata": {},
   "source": [
    "Разделим датасет на выборки"
   ]
  },
  {
   "cell_type": "code",
   "execution_count": 64,
   "metadata": {},
   "outputs": [],
   "source": [
    "target_ord = df['Price']\n",
    "\n",
    "features_train_ord, features_valid_ord, target_train_ord, target_valid_ord = train_test_split(features_ord, \n",
    "                                                                              target_ord, \n",
    "                                                                              train_size=0.60, \n",
    "                                                                              test_size=0.40, \n",
    "                                                                              random_state=123)\n",
    "\n",
    "features_valid_ord, features_test_ord, target_valid_ord, target_test_ord = train_test_split(features_valid_ord, \n",
    "                                                                            target_valid_ord, \n",
    "                                                                            train_size=0.50, \n",
    "                                                                            test_size=0.50, \n",
    "                                                                            random_state=123)"
   ]
  },
  {
   "cell_type": "markdown",
   "metadata": {},
   "source": [
    "Обучим линейную регрессию"
   ]
  },
  {
   "cell_type": "code",
   "execution_count": 65,
   "metadata": {},
   "outputs": [],
   "source": [
    "model_ord = LinearRegression()\n",
    "model_ord.fit(features_train_ord, target_train_ord)\n",
    "\n",
    "\n",
    "start = time.time() \n",
    "predictions_ord = model_ord.predict(features_valid_ord)\n",
    "predict_time = time.time() - start\n",
    "\n",
    "mse = mean_squared_error(target_valid_ord, predictions_ord)\n",
    "RMSE = sqrt(mse)\n",
    "\n",
    "results5 = []\n",
    "results5.append({'Модель' : 'LinearRegression(OrdinalEncoding)',\n",
    "                'Скорость предсказания': predict_time, \n",
    "                'RMSE': RMSE})"
   ]
  },
  {
   "cell_type": "code",
   "execution_count": 66,
   "metadata": {},
   "outputs": [
    {
     "data": {
      "text/html": [
       "<div>\n",
       "<style scoped>\n",
       "    .dataframe tbody tr th:only-of-type {\n",
       "        vertical-align: middle;\n",
       "    }\n",
       "\n",
       "    .dataframe tbody tr th {\n",
       "        vertical-align: top;\n",
       "    }\n",
       "\n",
       "    .dataframe thead th {\n",
       "        text-align: right;\n",
       "    }\n",
       "</style>\n",
       "<table border=\"1\" class=\"dataframe\">\n",
       "  <thead>\n",
       "    <tr style=\"text-align: right;\">\n",
       "      <th></th>\n",
       "      <th>Модель</th>\n",
       "      <th>Скорость предсказания</th>\n",
       "      <th>RMSE</th>\n",
       "    </tr>\n",
       "  </thead>\n",
       "  <tbody>\n",
       "    <tr>\n",
       "      <th>0</th>\n",
       "      <td>LinearRegression(OrdinalEncoding)</td>\n",
       "      <td>0.007055</td>\n",
       "      <td>2912.486728</td>\n",
       "    </tr>\n",
       "  </tbody>\n",
       "</table>\n",
       "</div>"
      ],
      "text/plain": [
       "                              Модель  Скорость предсказания         RMSE\n",
       "0  LinearRegression(OrdinalEncoding)               0.007055  2912.486728"
      ]
     },
     "execution_count": 66,
     "metadata": {},
     "output_type": "execute_result"
    }
   ],
   "source": [
    "LinearRegression_OrdinalEncoding = pd.DataFrame.from_dict(results5).sort_values(by='RMSE').reset_index(drop=True).head()\n",
    "LinearRegression_OrdinalEncoding"
   ]
  },
  {
   "cell_type": "markdown",
   "metadata": {},
   "source": [
    "Построим график важности факторов при моделировании линейной регрессией"
   ]
  },
  {
   "cell_type": "code",
   "execution_count": 67,
   "metadata": {},
   "outputs": [
    {
     "name": "stdout",
     "output_type": "stream",
     "text": [
      "VehicleType: -189.51330484854145\n",
      "RegistrationYear: 139.98033947994355\n",
      "Gearbox: -428.84926426838746\n",
      "Power: 41.88766602306611\n",
      "Model: -0.34253779660538747\n",
      "Kilometer: -0.04474471586443459\n",
      "FuelType: -447.8873029773413\n",
      "Brand: 16.360699825642044\n",
      "NotRepaired: -967.5431451162946\n"
     ]
    },
    {
     "data": {
      "image/png": "[encoded data removed]",
      "text/plain": [
       "<Figure size 1008x432 with 1 Axes>"
      ]
     },
     "metadata": {
      "needs_background": "light"
     },
     "output_type": "display_data"
    }
   ],
   "source": [
    "from matplotlib import pyplot\n",
    "importance = model_ord.coef_\n",
    "\n",
    "\n",
    "for i,v in enumerate(importance):\n",
    "    print('{}: {}'.format(features_ord.columns[i], v))\n",
    "    \n",
    "plt.figure(figsize=(14,6))\n",
    "pyplot.bar([x for x in features_ord.columns], importance)\n",
    "pyplot.show()"
   ]
  },
  {
   "cell_type": "markdown",
   "metadata": {},
   "source": [
    "Как видно, для модели наиболее важными стали признаки NotRepaired, FuelType, Gearbox. Наименее важными оказались Power, Model и Brand."
   ]
  },
  {
   "cell_type": "markdown",
   "metadata": {},
   "source": [
    "## 3. Анализ скорости работы и качества моделей <a id=\"3.\"></a>\n",
    "[к содержанию](#0.0)"
   ]
  },
  {
   "cell_type": "markdown",
   "metadata": {},
   "source": [
    "Сделаем проверку качества на адекватность, обучим \"глупую\" модель"
   ]
  },
  {
   "cell_type": "code",
   "execution_count": 202,
   "metadata": {},
   "outputs": [
    {
     "data": {
      "text/html": [
       "<div>\n",
       "<style scoped>\n",
       "    .dataframe tbody tr th:only-of-type {\n",
       "        vertical-align: middle;\n",
       "    }\n",
       "\n",
       "    .dataframe tbody tr th {\n",
       "        vertical-align: top;\n",
       "    }\n",
       "\n",
       "    .dataframe thead th {\n",
       "        text-align: right;\n",
       "    }\n",
       "</style>\n",
       "<table border=\"1\" class=\"dataframe\">\n",
       "  <thead>\n",
       "    <tr style=\"text-align: right;\">\n",
       "      <th></th>\n",
       "      <th>Модель</th>\n",
       "      <th>Скорость предсказания</th>\n",
       "      <th>RMSE</th>\n",
       "    </tr>\n",
       "  </thead>\n",
       "  <tbody>\n",
       "    <tr>\n",
       "      <th>0</th>\n",
       "      <td>Dummy модель</td>\n",
       "      <td>0.002884</td>\n",
       "      <td>4415.145491</td>\n",
       "    </tr>\n",
       "  </tbody>\n",
       "</table>\n",
       "</div>"
      ],
      "text/plain": [
       "         Модель  Скорость предсказания         RMSE\n",
       "0  Dummy модель               0.002884  4415.145491"
      ]
     },
     "execution_count": 202,
     "metadata": {},
     "output_type": "execute_result"
    }
   ],
   "source": [
    "dummy = DummyRegressor(strategy='mean')\n",
    "\n",
    "dummy.fit(features_train, target_train)\n",
    "\n",
    "start = time.time() \n",
    "predictions_dummy = dummy.predict(features_test)\n",
    "predict_time = time.time() - start\n",
    "\n",
    "mse = mean_squared_error(target_test, predictions_dummy)\n",
    "RMSE = sqrt(mse)\n",
    "\n",
    "results4 = []\n",
    "results4.append({'Модель' : 'Dummy модель',\n",
    "                'Скорость предсказания': predict_time, \n",
    "                'RMSE': RMSE})\n",
    "\n",
    "DummyModel_results = pd.DataFrame.from_dict(results4)\n",
    "DummyModel_results"
   ]
  },
  {
   "cell_type": "markdown",
   "metadata": {},
   "source": [
    "Внесем результаты работы моделей в таблицу"
   ]
  },
  {
   "cell_type": "code",
   "execution_count": 203,
   "metadata": {},
   "outputs": [
    {
     "data": {
      "text/html": [
       "<div>\n",
       "<style scoped>\n",
       "    .dataframe tbody tr th:only-of-type {\n",
       "        vertical-align: middle;\n",
       "    }\n",
       "\n",
       "    .dataframe tbody tr th {\n",
       "        vertical-align: top;\n",
       "    }\n",
       "\n",
       "    .dataframe thead th {\n",
       "        text-align: right;\n",
       "    }\n",
       "</style>\n",
       "<table border=\"1\" class=\"dataframe\">\n",
       "  <thead>\n",
       "    <tr style=\"text-align: right;\">\n",
       "      <th></th>\n",
       "      <th>Модель</th>\n",
       "      <th>Скорость предсказания</th>\n",
       "      <th>RMSE</th>\n",
       "    </tr>\n",
       "  </thead>\n",
       "  <tbody>\n",
       "    <tr>\n",
       "      <th>0</th>\n",
       "      <td>CatBoostRegressor</td>\n",
       "      <td>0.070329</td>\n",
       "      <td>1621.777331</td>\n",
       "    </tr>\n",
       "    <tr>\n",
       "      <th>0</th>\n",
       "      <td>LGBMRegressor</td>\n",
       "      <td>0.208570</td>\n",
       "      <td>1630.453643</td>\n",
       "    </tr>\n",
       "    <tr>\n",
       "      <th>0</th>\n",
       "      <td>LinearRegression</td>\n",
       "      <td>0.123744</td>\n",
       "      <td>2581.108564</td>\n",
       "    </tr>\n",
       "    <tr>\n",
       "      <th>0</th>\n",
       "      <td>LinearRegression(OrdinalEncoding)</td>\n",
       "      <td>0.003531</td>\n",
       "      <td>2979.564579</td>\n",
       "    </tr>\n",
       "    <tr>\n",
       "      <th>0</th>\n",
       "      <td>Dummy модель</td>\n",
       "      <td>0.002884</td>\n",
       "      <td>4415.145491</td>\n",
       "    </tr>\n",
       "  </tbody>\n",
       "</table>\n",
       "</div>"
      ],
      "text/plain": [
       "                              Модель  Скорость предсказания         RMSE\n",
       "0                  CatBoostRegressor               0.070329  1621.777331\n",
       "0                      LGBMRegressor               0.208570  1630.453643\n",
       "0                   LinearRegression               0.123744  2581.108564\n",
       "0  LinearRegression(OrdinalEncoding)               0.003531  2979.564579\n",
       "0                       Dummy модель               0.002884  4415.145491"
      ]
     },
     "execution_count": 203,
     "metadata": {},
     "output_type": "execute_result"
    }
   ],
   "source": [
    "final_results = pd.concat([\n",
    "    LGBM_results[['Модель', 'Скорость предсказания', 'RMSE']].head(1),\n",
    "    cat_boost_results[['Модель', 'Скорость предсказания', 'RMSE']].head(1),\n",
    "    LinearRegression_results,\n",
    "    LinearRegression_OrdinalEncoding,\n",
    "    DummyModel_results\n",
    "])\n",
    "final_results.sort_values(by='RMSE')"
   ]
  },
  {
   "cell_type": "markdown",
   "metadata": {},
   "source": [
    "## Вывод <a id=\"4.\"></a>\n",
    "[к содержанию](#0.0)"
   ]
  },
  {
   "cell_type": "markdown",
   "metadata": {},
   "source": [
    "Получен сравнительный результат работы трех моделей CatBoostRegressor, LGBMRegressor и LinearRegression. Каждая модель отработала более качественно чем \"глупая\" модель, т.е. прошла проверку на адекватность. Наилучший результат по качеству и скорости показала модель CatBoostRegressor с результатом RMSE - 1621.8"
   ]
  }
 ],
 "metadata": {
  "ExecuteTimeLog": [
   {
    "duration": 1187,
    "start_time": "2021-07-19T04:14:45.389Z"
   },
   {
    "duration": 2992,
    "start_time": "2021-07-19T04:14:46.578Z"
   },
   {
    "duration": 123,
    "start_time": "2021-07-19T04:15:36.713Z"
   },
   {
    "duration": 4,
    "start_time": "2021-07-19T04:15:37.849Z"
   },
   {
    "duration": 413,
    "start_time": "2021-07-19T04:15:38.515Z"
   },
   {
    "duration": 584,
    "start_time": "2021-07-19T04:15:39.609Z"
   },
   {
    "duration": 365,
    "start_time": "2021-07-19T04:15:40.641Z"
   },
   {
    "duration": 9,
    "start_time": "2021-07-19T04:15:41.379Z"
   },
   {
    "duration": 26,
    "start_time": "2021-07-19T04:15:41.805Z"
   },
   {
    "duration": 18,
    "start_time": "2021-07-19T04:17:24.732Z"
   },
   {
    "duration": 5,
    "start_time": "2021-07-19T04:17:25.974Z"
   },
   {
    "duration": 48,
    "start_time": "2021-07-19T04:17:26.944Z"
   },
   {
    "duration": 254,
    "start_time": "2021-07-19T04:17:27.581Z"
   },
   {
    "duration": 10,
    "start_time": "2021-07-19T04:19:27.055Z"
   },
   {
    "duration": 7,
    "start_time": "2021-07-19T04:19:27.067Z"
   },
   {
    "duration": 23,
    "start_time": "2021-07-19T04:19:38.955Z"
   },
   {
    "duration": 2,
    "start_time": "2021-07-19T04:19:39.052Z"
   },
   {
    "duration": 434,
    "start_time": "2021-07-19T04:19:39.550Z"
   },
   {
    "duration": 5126,
    "start_time": "2021-07-19T04:19:40.288Z"
   },
   {
    "duration": 55,
    "start_time": "2021-07-19T04:19:45.416Z"
   },
   {
    "duration": 262,
    "start_time": "2021-07-19T04:20:58.920Z"
   },
   {
    "duration": 70,
    "start_time": "2021-07-19T04:21:01.262Z"
   },
   {
    "duration": 80,
    "start_time": "2021-07-19T04:21:10.270Z"
   },
   {
    "duration": 75,
    "start_time": "2021-07-19T04:21:13.546Z"
   },
   {
    "duration": 166,
    "start_time": "2021-07-19T04:21:14.970Z"
   },
   {
    "duration": 56,
    "start_time": "2021-07-19T04:21:15.678Z"
   },
   {
    "duration": 18,
    "start_time": "2021-07-19T04:23:17.270Z"
   },
   {
    "duration": 202941,
    "start_time": "2021-07-19T04:24:33.514Z"
   },
   {
    "duration": 12,
    "start_time": "2021-07-19T04:27:56.458Z"
   },
   {
    "duration": 1075400,
    "start_time": "2021-07-19T04:29:59.942Z"
   },
   {
    "duration": 10,
    "start_time": "2021-07-19T04:47:55.345Z"
   },
   {
    "duration": 552,
    "start_time": "2021-07-19T04:47:55.357Z"
   },
   {
    "duration": 1121,
    "start_time": "2021-07-19T04:47:55.911Z"
   },
   {
    "duration": 20407,
    "start_time": "2021-07-19T04:47:57.034Z"
   },
   {
    "duration": 98,
    "start_time": "2021-07-19T04:48:17.444Z"
   },
   {
    "duration": 11,
    "start_time": "2021-07-19T04:48:17.544Z"
   },
   {
    "duration": 12,
    "start_time": "2021-07-19T04:48:17.557Z"
   }
  ],
  "kernelspec": {
   "display_name": "Python 3",
   "language": "python",
   "name": "python3"
  },
  "language_info": {
   "codemirror_mode": {
    "name": "ipython",
    "version": 3
   },
   "file_extension": ".py",
   "mimetype": "text/x-python",
   "name": "python",
   "nbconvert_exporter": "python",
   "pygments_lexer": "ipython3",
   "version": "3.8.5"
  },
  "toc": {
   "base_numbering": 1,
   "nav_menu": {},
   "number_sections": true,
   "sideBar": true,
   "skip_h1_title": true,
   "title_cell": "Table of Contents",
   "title_sidebar": "Contents",
   "toc_cell": false,
   "toc_position": {},
   "toc_section_display": true,
   "toc_window_display": false
  }
 },
 "nbformat": 4,
 "nbformat_minor": 4
}
